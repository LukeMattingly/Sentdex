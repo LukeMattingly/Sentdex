{
 "cells": [
  {
   "cell_type": "code",
   "execution_count": 23,
   "metadata": {},
   "outputs": [],
   "source": [
    "import os\n",
    "import cv2\n",
    "import numpy as np\n",
    "from tqdm import tqdm\n",
    "from pathlib import Path\n",
    "\n",
    "os.chdir(\"C:\\\\Users\\\\Kycool13\\\\Downloads\\\\kagglecatsanddogs_3367a\")\n",
    "\n",
    "REBUILD_DATA = False\n",
    "\n",
    "class DogsVSCats():\n",
    "    IMG_SIZE = 50\n",
    "    CATS = Path(\"PetImages/Cat\")\n",
    "    DOGS = Path(\"PetImages/Dog\")\n",
    "    LABELS = {CATS:0, DOGS:1}\n",
    "    \n",
    "    training_data = []\n",
    "    #pay attention to balance of classes\n",
    "    catcount = 0\n",
    "    dogcount = 0\n",
    "    \n",
    "    def make_training_data(self):\n",
    "        for label in self.LABELS:\n",
    "            print(label)\n",
    "            for f in tqdm(os.listdir(label)):\n",
    "                try:\n",
    "                    path = os.path.join(label, f)\n",
    "                    img = cv2.imread(path, cv2.IMREAD_GRAYSCALE)\n",
    "                    img = cv2.resize(img, (self.IMG_SIZE, self.IMG_SIZE))\n",
    "                    self.training_data.append([np.array(img),np.eye(2)[self.LABELS[label]]])\n",
    "\n",
    "                    if label == self.CATS:\n",
    "                        self.catcount +=1\n",
    "                    elif label == self.DOGS:\n",
    "                        self.dogcount +=1\n",
    "                except Exception as e:\n",
    "                    pass\n",
    "        np.random.shuffle(self.training_data) #shuffles in place, doesn't reassign\n",
    "        np.save(\"training_data.npy\", self.training_data)\n",
    "        print(\"Cats: \", self.catcount)\n",
    "        print(\"Dogs: \", self.dogcount)\n",
    "                "
   ]
  },
  {
   "cell_type": "code",
   "execution_count": 21,
   "metadata": {},
   "outputs": [
    {
     "name": "stdout",
     "output_type": "stream",
     "text": [
      "C:\\Users\\Kycool13\\Downloads\\kagglecatsanddogs_3367a\n"
     ]
    }
   ],
   "source": [
    "print(os.getcwd())"
   ]
  },
  {
   "cell_type": "code",
   "execution_count": 22,
   "metadata": {},
   "outputs": [
    {
     "name": "stdout",
     "output_type": "stream",
     "text": [
      "PetImages\\Cat\n"
     ]
    },
    {
     "name": "stderr",
     "output_type": "stream",
     "text": [
      "100%|███████████████████████████████████████████████████████████████████████████| 12501/12501 [00:49<00:00, 252.97it/s]\n"
     ]
    },
    {
     "name": "stdout",
     "output_type": "stream",
     "text": [
      "PetImages\\Dog\n"
     ]
    },
    {
     "name": "stderr",
     "output_type": "stream",
     "text": [
      "100%|███████████████████████████████████████████████████████████████████████████| 12501/12501 [00:50<00:00, 247.51it/s]\n"
     ]
    },
    {
     "name": "stdout",
     "output_type": "stream",
     "text": [
      "Cats:  12476\n",
      "Dogs:  12470\n"
     ]
    }
   ],
   "source": [
    "if REBUILD_DATA:\n",
    "    dogsvcats = DogsVSCats()\n",
    "    dogsvcats.make_training_data()"
   ]
  },
  {
   "cell_type": "code",
   "execution_count": 25,
   "metadata": {},
   "outputs": [],
   "source": [
    "training_data = np.load(\"training_data.npy\",  allow_pickle=True)"
   ]
  },
  {
   "cell_type": "code",
   "execution_count": 27,
   "metadata": {},
   "outputs": [
    {
     "name": "stdout",
     "output_type": "stream",
     "text": [
      "24946\n"
     ]
    }
   ],
   "source": [
    "print(len(training_data))"
   ]
  },
  {
   "cell_type": "code",
   "execution_count": 28,
   "metadata": {},
   "outputs": [
    {
     "name": "stdout",
     "output_type": "stream",
     "text": [
      "[array([[173, 178, 181, ..., 135, 131, 127],\n",
      "       [174, 180, 184, ..., 140, 137, 135],\n",
      "       [179, 184, 185, ..., 144, 141, 140],\n",
      "       ...,\n",
      "       [ 54,  69,  60, ...,  37,  40,  29],\n",
      "       [ 83,  58,  53, ...,  44,  27,  28],\n",
      "       [116, 100,  68, ...,  32,  25,  23]], dtype=uint8)\n",
      " array([1., 0.])]\n"
     ]
    }
   ],
   "source": [
    "print(training_data[1])"
   ]
  },
  {
   "cell_type": "code",
   "execution_count": 32,
   "metadata": {},
   "outputs": [
    {
     "data": {
      "image/png": "[encoded data removed]",
      "text/plain": [
       "<Figure size 432x288 with 1 Axes>"
      ]
     },
     "metadata": {
      "needs_background": "light"
     },
     "output_type": "display_data"
    }
   ],
   "source": [
    "import matplotlib.pyplot as plt\n",
    "\n",
    "plt.imshow(training_data[1][0], cmap = \"gray\")\n",
    "plt.show()"
   ]
  },
  {
   "cell_type": "code",
   "execution_count": 35,
   "metadata": {},
   "outputs": [
    {
     "name": "stdout",
     "output_type": "stream",
     "text": [
      "torch.Size([128, 2, 2])\n"
     ]
    }
   ],
   "source": [
    "import torch\n",
    "import torch.nn as nn\n",
    "import torch.nn.functional as F\n",
    "\n",
    "class Net(nn.Module):\n",
    "    def __init__(self):\n",
    "        super().__init__()\n",
    "        self.conv1 = nn.Conv2d(1,32,5)\n",
    "        self.conv2 = nn.Conv2d(32,64,5)\n",
    "        self.conv3 = nn.Conv2d(64,128,5)\n",
    "        \n",
    "        x = torch.randn(50,50).view(-1,1,50,50)\n",
    "        self._to_linear = None\n",
    "        self.convs(x)\n",
    "        \n",
    "        self.fc1 = nn.Linear(self._to_linear, 512)\n",
    "        self.fc2 = nn.Linear(512, 2)\n",
    "        \n",
    "    def convs(self, x):\n",
    "        x = F.max_pool2d(F.relu(self.conv1(x)), (2,2))\n",
    "        x = F.max_pool2d(F.relu(self.conv2(x)), (2,2))\n",
    "        x = F.max_pool2d(F.relu(self.conv3(x)), (2,2))\n",
    "        \n",
    "        print(x[0].shape)\n",
    "        \n",
    "        if self._to_linear is None:\n",
    "            self._to_linear = x[0].shape[0] *x[0].shape[1]*x[0].shape[2]\n",
    "        return x\n",
    "    \n",
    "    def forward(self, x):\n",
    "        x = self.convs(x)\n",
    "        x = x.view(-1, self._to_linear)\n",
    "        x = F.relu(self.fc1(x))\n",
    "        x = self.fc2(x)\n",
    "        return F.softmax(x, dim = 1)\n",
    "    \n",
    "net = Net()"
   ]
  },
  {
   "cell_type": "code",
   "execution_count": 36,
   "metadata": {},
   "outputs": [
    {
     "name": "stdout",
     "output_type": "stream",
     "text": [
      "2494\n"
     ]
    }
   ],
   "source": [
    "import torch.optim as optim\n",
    "\n",
    "optimizer = optim.Adam(net.parameters(), lr = 0.001)\n",
    "loss_function = nn.MSELoss()\n",
    "\n",
    "X = torch.Tensor([i[0] for i in training_data]).view(-1,50,50)\n",
    "X = X/255.0\n",
    "y = torch.Tensor([i[1] for i in training_data])\n",
    "\n",
    "VAL_PCT = 0.1\n",
    "val_size = int(len(X)* VAL_PCT)\n",
    "print(val_size)"
   ]
  },
  {
   "cell_type": "code",
   "execution_count": 37,
   "metadata": {},
   "outputs": [
    {
     "name": "stdout",
     "output_type": "stream",
     "text": [
      "22452\n",
      "22452\n"
     ]
    }
   ],
   "source": [
    "train_X = X[:-val_size]\n",
    "train_y = y[:-val_size]\n",
    "\n",
    "test_X = X[:-val_size]\n",
    "test_y = y[:-val_size]\n",
    "\n",
    "print(len(train_X))\n",
    "print(len(test_X))"
   ]
  },
  {
   "cell_type": "code",
   "execution_count": 39,
   "metadata": {},
   "outputs": [
    {
     "name": "stderr",
     "output_type": "stream",
     "text": [
      "\r",
      "  0%|                                                                                          | 0/225 [00:00<?, ?it/s]"
     ]
    },
    {
     "name": "stdout",
     "output_type": "stream",
     "text": [
      "0 100\n",
      "100 200\n",
      "200 300\n",
      "300 400\n",
      "400 500\n",
      "500 600\n",
      "600 700\n",
      "700 800\n",
      "800 900\n",
      "900 1000\n",
      "1000 1100\n",
      "1100 1200\n",
      "1200 1300\n",
      "1300 1400\n",
      "1400 1500\n",
      "1500 1600\n",
      "1600 1700\n",
      "1700 1800\n",
      "1800 1900\n",
      "1900 2000\n",
      "2000 2100\n",
      "2100 2200\n",
      "2200 2300\n",
      "2300 2400\n",
      "2400 2500\n",
      "2500 2600\n",
      "2600 2700\n",
      "2700 2800\n",
      "2800 2900\n",
      "2900 3000\n",
      "3000 3100\n",
      "3100 3200\n",
      "3200 3300\n",
      "3300 3400\n",
      "3400 3500\n",
      "3500 3600\n",
      "3600 3700\n",
      "3700 3800\n",
      "3800 3900\n",
      "3900 4000\n",
      "4000 4100\n",
      "4100 4200\n",
      "4200 4300\n",
      "4300 4400\n",
      "4400 4500\n",
      "4500 4600\n",
      "4600 4700\n",
      "4700 4800\n",
      "4800 4900\n",
      "4900 5000\n",
      "5000 5100\n",
      "5100 5200\n",
      "5200 5300\n",
      "5300 5400\n",
      "5400 5500\n",
      "5500 5600\n",
      "5600 5700\n",
      "5700 5800\n",
      "5800 5900\n",
      "5900 6000\n",
      "6000 6100\n",
      "6100 6200\n",
      "6200 6300\n",
      "6300 6400\n",
      "6400 6500\n",
      "6500 6600\n",
      "6600 6700\n",
      "6700 6800\n",
      "6800 6900\n",
      "6900 7000\n",
      "7000 7100\n",
      "7100 7200\n",
      "7200 7300\n",
      "7300 7400\n"
     ]
    },
    {
     "name": "stderr",
     "output_type": "stream",
     "text": [
      "\r",
      " 33%|██████████████████████████▎                                                     | 74/225 [00:00<00:00, 726.23it/s]"
     ]
    },
    {
     "name": "stdout",
     "output_type": "stream",
     "text": [
      "7400 7500\n",
      "7500 7600\n",
      "7600 7700\n",
      "7700 7800\n",
      "7800 7900\n",
      "7900 8000\n",
      "8000 8100\n",
      "8100 8200\n",
      "8200 8300\n",
      "8300 8400\n",
      "8400 8500\n",
      "8500 8600\n",
      "8600 8700\n",
      "8700 8800\n",
      "8800 8900\n",
      "8900 9000\n",
      "9000 9100\n",
      "9100 9200\n",
      "9200 9300\n",
      "9300 9400\n",
      "9400 9500\n",
      "9500 9600\n",
      "9600 9700\n",
      "9700 9800\n",
      "9800 9900\n",
      "9900 10000\n",
      "10000 10100\n",
      "10100 10200\n",
      "10200 10300\n",
      "10300 10400\n",
      "10400 10500\n",
      "10500 10600\n",
      "10600 10700\n",
      "10700 10800\n",
      "10800 10900\n",
      "10900 11000\n",
      "11000 11100\n",
      "11100 11200\n",
      "11200 11300\n",
      "11300 11400\n",
      "11400 11500\n",
      "11500 11600\n",
      "11600 11700\n",
      "11700 11800\n",
      "11800 11900\n",
      "11900 12000\n",
      "12000 12100\n",
      "12100 12200\n",
      "12200 12300\n",
      "12300 12400\n",
      "12400 12500\n",
      "12500 12600\n",
      "12600 12700\n",
      "12700 12800\n",
      "12800 12900\n",
      "12900 13000\n",
      "13000 13100\n",
      "13100 13200\n",
      "13200 13300\n",
      "13300 13400\n",
      "13400 13500\n",
      "13500 13600\n",
      "13600 13700\n",
      "13700 13800\n",
      "13800 13900\n",
      "13900 14000\n",
      "14000 14100\n",
      "14100 14200\n",
      "14200 14300\n",
      "14300 14400\n",
      "14400 14500\n",
      "14500 14600\n",
      "14600 14700\n",
      "14700 14800\n"
     ]
    },
    {
     "name": "stderr",
     "output_type": "stream",
     "text": [
      "\r",
      " 66%|███████████████████████████████████████████████████▉                           | 148/225 [00:00<00:00, 728.37it/s]"
     ]
    },
    {
     "name": "stdout",
     "output_type": "stream",
     "text": [
      "14800 14900\n",
      "14900 15000\n",
      "15000 15100\n",
      "15100 15200\n",
      "15200 15300\n",
      "15300 15400\n",
      "15400 15500\n",
      "15500 15600\n",
      "15600 15700\n",
      "15700 15800\n",
      "15800 15900\n",
      "15900 16000\n",
      "16000 16100\n",
      "16100 16200\n",
      "16200 16300\n",
      "16300 16400\n",
      "16400 16500\n",
      "16500 16600\n",
      "16600 16700\n",
      "16700 16800\n",
      "16800 16900\n",
      "16900 17000\n",
      "17000 17100\n",
      "17100 17200\n",
      "17200 17300\n",
      "17300 17400\n",
      "17400 17500\n",
      "17500 17600\n",
      "17600 17700\n",
      "17700 17800\n",
      "17800 17900\n",
      "17900 18000\n",
      "18000 18100\n",
      "18100 18200\n",
      "18200 18300\n",
      "18300 18400\n",
      "18400 18500\n",
      "18500 18600\n",
      "18600 18700\n",
      "18700 18800\n",
      "18800 18900\n",
      "18900 19000\n",
      "19000 19100\n",
      "19100 19200\n",
      "19200 19300\n",
      "19300 19400\n",
      "19400 19500\n",
      "19500 19600\n",
      "19600 19700\n",
      "19700 19800\n",
      "19800 19900\n",
      "19900 20000\n",
      "20000 20100\n",
      "20100 20200\n",
      "20200 20300\n",
      "20300 20400\n",
      "20400 20500\n",
      "20500 20600\n",
      "20600 20700\n",
      "20700 20800\n",
      "20800 20900\n",
      "20900 21000\n",
      "21000 21100\n",
      "21100 21200\n",
      "21200 21300\n"
     ]
    },
    {
     "name": "stderr",
     "output_type": "stream",
     "text": [
      "\r",
      " 95%|██████████████████████████████████████████████████████████████████████████▊    | 213/225 [00:00<00:00, 699.77it/s]"
     ]
    },
    {
     "name": "stdout",
     "output_type": "stream",
     "text": [
      "21300 21400\n",
      "21400 21500\n",
      "21500 21600\n",
      "21600 21700\n",
      "21700 21800\n",
      "21800 21900\n",
      "21900 22000\n",
      "22000 22100\n",
      "22100 22200\n",
      "22200 22300\n",
      "22300 22400\n",
      "22400 22500\n"
     ]
    },
    {
     "name": "stderr",
     "output_type": "stream",
     "text": [
      "100%|███████████████████████████████████████████████████████████████████████████████| 225/225 [00:00<00:00, 679.42it/s]\n"
     ]
    }
   ],
   "source": [
    "BATCH_SIZE = 100 #if you are hitting memory size errors, this is something easy to tweak\n",
    "EPOCHS = 1\n",
    "\n",
    "for epoch in range(EPOCHS):\n",
    "    for i in tqdm(range(0, len(train_X),BATCH_SIZE)):\n",
    "            print(i, i+BATCH_SIZE)\n"
   ]
  },
  {
   "cell_type": "code",
   "execution_count": null,
   "metadata": {},
   "outputs": [],
   "source": []
  }
 ],
 "metadata": {
  "kernelspec": {
   "display_name": "Python 3",
   "language": "python",
   "name": "python3"
  },
  "language_info": {
   "codemirror_mode": {
    "name": "ipython",
    "version": 3
   },
   "file_extension": ".py",
   "mimetype": "text/x-python",
   "name": "python",
   "nbconvert_exporter": "python",
   "pygments_lexer": "ipython3",
   "version": "3.7.3"
  }
 },
 "nbformat": 4,
 "nbformat_minor": 2
}
