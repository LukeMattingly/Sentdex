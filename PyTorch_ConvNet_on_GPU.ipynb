{
 "cells": [
  {
   "cell_type": "code",
   "execution_count": 1,
   "metadata": {},
   "outputs": [],
   "source": [
    "#From Sentdex\n",
    "import os\n",
    "import cv2\n",
    "import numpy as np\n",
    "from tqdm import tqdm\n",
    "from pathlib import Path\n",
    "\n",
    "os.chdir(\"C:\\\\Users\\\\Kycool13\\\\Downloads\\\\kagglecatsanddogs_3367a\")\n",
    "\n",
    "REBUILD_DATA = False\n",
    "\n",
    "class DogsVSCats():\n",
    "    IMG_SIZE = 50\n",
    "    CATS = Path(\"PetImages/Cat\")\n",
    "    DOGS = Path(\"PetImages/Dog\")\n",
    "    LABELS = {CATS:0, DOGS:1}\n",
    "    \n",
    "    training_data = []\n",
    "    #pay attention to balance of classes\n",
    "    catcount = 0\n",
    "    dogcount = 0\n",
    "    \n",
    "    def make_training_data(self):\n",
    "        for label in self.LABELS:\n",
    "            print(label)\n",
    "            for f in tqdm(os.listdir(label)):\n",
    "                try:\n",
    "                    path = os.path.join(label, f)\n",
    "                    img = cv2.imread(path, cv2.IMREAD_GRAYSCALE)\n",
    "                    img = cv2.resize(img, (self.IMG_SIZE, self.IMG_SIZE))\n",
    "                    self.training_data.append([np.array(img),np.eye(2)[self.LABELS[label]]])\n",
    "\n",
    "                    if label == self.CATS:\n",
    "                        self.catcount +=1\n",
    "                    elif label == self.DOGS:\n",
    "                        self.dogcount +=1\n",
    "                except Exception as e:\n",
    "                    pass\n",
    "        np.random.shuffle(self.training_data) #shuffles in place, doesn't reassign\n",
    "        np.save(\"training_data.npy\", self.training_data)\n",
    "        print(\"Cats: \", self.catcount)\n",
    "        print(\"Dogs: \", self.dogcount)\n",
    "                "
   ]
  },
  {
   "cell_type": "code",
   "execution_count": 2,
   "metadata": {},
   "outputs": [],
   "source": [
    "if REBUILD_DATA:\n",
    "    dogsvcats = DogsVSCats()\n",
    "    dogsvcats.make_training_data()"
   ]
  },
  {
   "cell_type": "code",
   "execution_count": 3,
   "metadata": {},
   "outputs": [],
   "source": [
    "training_data = np.load(\"training_data.npy\",  allow_pickle=True)"
   ]
  },
  {
   "cell_type": "code",
   "execution_count": 4,
   "metadata": {},
   "outputs": [
    {
     "name": "stdout",
     "output_type": "stream",
     "text": [
      "torch.Size([128, 2, 2])\n"
     ]
    }
   ],
   "source": [
    "import torch\n",
    "import torch.nn as nn\n",
    "import torch.nn.functional as F\n",
    "\n",
    "class Net(nn.Module):\n",
    "    def __init__(self):\n",
    "        super().__init__()\n",
    "        self.conv1 = nn.Conv2d(1,32,5)\n",
    "        self.conv2 = nn.Conv2d(32,64,5)\n",
    "        self.conv3 = nn.Conv2d(64,128,5)\n",
    "        \n",
    "        x = torch.randn(50,50).view(-1,1,50,50)\n",
    "        self._to_linear = None\n",
    "        self.convs(x)\n",
    "        \n",
    "        self.fc1 = nn.Linear(self._to_linear, 512)\n",
    "        self.fc2 = nn.Linear(512, 2)\n",
    "        \n",
    "    def convs(self, x):\n",
    "        x = F.max_pool2d(F.relu(self.conv1(x)), (2,2))\n",
    "        x = F.max_pool2d(F.relu(self.conv2(x)), (2,2))\n",
    "        x = F.max_pool2d(F.relu(self.conv3(x)), (2,2))\n",
    "        \n",
    "        print(x[0].shape)\n",
    "        \n",
    "        if self._to_linear is None:\n",
    "            self._to_linear = x[0].shape[0] *x[0].shape[1]*x[0].shape[2]\n",
    "        return x\n",
    "    \n",
    "    def forward(self, x):\n",
    "        x = self.convs(x)\n",
    "        x = x.view(-1, self._to_linear)\n",
    "        x = F.relu(self.fc1(x))\n",
    "        x = self.fc2(x)\n",
    "        return F.softmax(x, dim = 1)\n",
    "    \n",
    "net = Net()"
   ]
  },
  {
   "cell_type": "code",
   "execution_count": 5,
   "metadata": {},
   "outputs": [
    {
     "name": "stdout",
     "output_type": "stream",
     "text": [
      "2494\n"
     ]
    }
   ],
   "source": [
    "import torch.optim as optim\n",
    "\n",
    "optimizer = optim.Adam(net.parameters(), lr = 0.001)\n",
    "loss_function = nn.MSELoss()\n",
    "\n",
    "X = torch.Tensor([i[0] for i in training_data]).view(-1,50,50)\n",
    "X = X/255.0\n",
    "y = torch.Tensor([i[1] for i in training_data])\n",
    "\n",
    "VAL_PCT = 0.1\n",
    "val_size = int(len(X)* VAL_PCT)\n",
    "print(val_size)"
   ]
  },
  {
   "cell_type": "code",
   "execution_count": 6,
   "metadata": {},
   "outputs": [
    {
     "name": "stdout",
     "output_type": "stream",
     "text": [
      "22452\n",
      "2494\n"
     ]
    }
   ],
   "source": [
    "train_X = X[:-val_size]\n",
    "train_y = y[:-val_size]\n",
    "\n",
    "test_X = X[-val_size:]\n",
    "test_y = y[-val_size:]\n",
    "\n",
    "print(len(train_X))\n",
    "print(len(test_X))"
   ]
  },
  {
   "cell_type": "code",
   "execution_count": 8,
   "metadata": {},
   "outputs": [
    {
     "data": {
      "text/plain": [
       "True"
      ]
     },
     "execution_count": 8,
     "metadata": {},
     "output_type": "execute_result"
    }
   ],
   "source": [
    "torch.cuda.is_available()"
   ]
  },
  {
   "cell_type": "code",
   "execution_count": 9,
   "metadata": {},
   "outputs": [
    {
     "data": {
      "text/plain": [
       "device(type='cuda', index=0)"
      ]
     },
     "execution_count": 9,
     "metadata": {},
     "output_type": "execute_result"
    }
   ],
   "source": [
    "device = torch.device(\"cuda:0\")\n",
    "device"
   ]
  },
  {
   "cell_type": "code",
   "execution_count": 10,
   "metadata": {},
   "outputs": [
    {
     "name": "stdout",
     "output_type": "stream",
     "text": [
      "running on the GPU\n"
     ]
    }
   ],
   "source": [
    "#whenever you have a tensor you can use .to device to use the GPU\n",
    "#this will make it dynamic so that if we have a gpu to use it will use it, otherwise it will use the cpu\n",
    "\n",
    "if torch.cuda.is_available():\n",
    "    device = torch.device(\"cuda:0\")\n",
    "    print(\"running on the GPU\")\n",
    "else: \n",
    "    device = torch.device(\"cpu\")\n",
    "    print(\"running on the CPU\")"
   ]
  },
  {
   "cell_type": "code",
   "execution_count": 11,
   "metadata": {},
   "outputs": [
    {
     "data": {
      "text/plain": [
       "1"
      ]
     },
     "execution_count": 11,
     "metadata": {},
     "output_type": "execute_result"
    }
   ],
   "source": [
    "torch.cuda.device_count()"
   ]
  },
  {
   "cell_type": "code",
   "execution_count": 12,
   "metadata": {},
   "outputs": [
    {
     "data": {
      "text/plain": [
       "Net(\n",
       "  (conv1): Conv2d(1, 32, kernel_size=(5, 5), stride=(1, 1))\n",
       "  (conv2): Conv2d(32, 64, kernel_size=(5, 5), stride=(1, 1))\n",
       "  (conv3): Conv2d(64, 128, kernel_size=(5, 5), stride=(1, 1))\n",
       "  (fc1): Linear(in_features=512, out_features=512, bias=True)\n",
       "  (fc2): Linear(in_features=512, out_features=2, bias=True)\n",
       ")"
      ]
     },
     "execution_count": 12,
     "metadata": {},
     "output_type": "execute_result"
    }
   ],
   "source": [
    "#Since you're likely not going to be able to put the whole data set on the GPU and\n",
    "#train you'll have to do this in batches\n",
    "net.to(device)"
   ]
  },
  {
   "cell_type": "code",
   "execution_count": 15,
   "metadata": {},
   "outputs": [
    {
     "name": "stderr",
     "output_type": "stream",
     "text": [
      "  2%|█▊                                                                                | 5/225 [00:00<00:05, 42.78it/s]"
     ]
    },
    {
     "name": "stdout",
     "output_type": "stream",
     "text": [
      "torch.Size([128, 2, 2])\n",
      "torch.Size([128, 2, 2])\n",
      "torch.Size([128, 2, 2])\n",
      "torch.Size([128, 2, 2])\n",
      "torch.Size([128, 2, 2])\n",
      "torch.Size([128, 2, 2])\n",
      "torch.Size([128, 2, 2])\n",
      "torch.Size([128, 2, 2])\n",
      "torch.Size([128, 2, 2])"
     ]
    },
    {
     "name": "stderr",
     "output_type": "stream",
     "text": [
      "  7%|█████▍                                                                           | 15/225 [00:00<00:04, 43.67it/s]"
     ]
    },
    {
     "name": "stdout",
     "output_type": "stream",
     "text": [
      "\n",
      "torch.Size([128, 2, 2])\n",
      "torch.Size([128, 2, 2])\n",
      "torch.Size([128, 2, 2])\n",
      "torch.Size([128, 2, 2])\n",
      "torch.Size([128, 2, 2])\n",
      "torch.Size([128, 2, 2])\n",
      "torch.Size([128, 2, 2])\n",
      "torch.Size([128, 2, 2])\n",
      "torch.Size([128, 2, 2])"
     ]
    },
    {
     "name": "stderr",
     "output_type": "stream",
     "text": [
      " 11%|█████████                                                                        | 25/225 [00:00<00:04, 44.74it/s]"
     ]
    },
    {
     "name": "stdout",
     "output_type": "stream",
     "text": [
      "\n",
      "torch.Size([128, 2, 2])\n",
      "torch.Size([128, 2, 2])\n",
      "torch.Size([128, 2, 2])\n",
      "torch.Size([128, 2, 2])\n",
      "torch.Size([128, 2, 2])\n",
      "torch.Size([128, 2, 2])\n",
      "torch.Size([128, 2, 2])\n",
      "torch.Size([128, 2, 2])\n",
      "torch.Size([128, 2, 2])"
     ]
    },
    {
     "name": "stderr",
     "output_type": "stream",
     "text": [
      "\r",
      " 13%|██████████▊                                                                      | 30/225 [00:00<00:04, 45.45it/s]"
     ]
    },
    {
     "name": "stdout",
     "output_type": "stream",
     "text": [
      "\n",
      "torch.Size([128, 2, 2])\n",
      "torch.Size([128, 2, 2])\n",
      "torch.Size([128, 2, 2])\n",
      "torch.Size([128, 2, 2])\n",
      "torch.Size([128, 2, 2])\n",
      "torch.Size([128, 2, 2])\n",
      "torch.Size([128, 2, 2])\n",
      "torch.Size([128, 2, 2])\n"
     ]
    },
    {
     "name": "stderr",
     "output_type": "stream",
     "text": [
      " 18%|██████████████▍                                                                  | 40/225 [00:00<00:04, 45.95it/s]"
     ]
    },
    {
     "name": "stdout",
     "output_type": "stream",
     "text": [
      "torch.Size([128, 2, 2])\n",
      "torch.Size([128, 2, 2])\n",
      "torch.Size([128, 2, 2])\n",
      "torch.Size([128, 2, 2])\n",
      "torch.Size([128, 2, 2])\n",
      "torch.Size([128, 2, 2])\n",
      "torch.Size([128, 2, 2])\n",
      "torch.Size([128, 2, 2])\n",
      "torch.Size([128, 2, 2])\n",
      "torch.Size([128, 2, 2])"
     ]
    },
    {
     "name": "stderr",
     "output_type": "stream",
     "text": [
      " 22%|██████████████████                                                               | 50/225 [00:01<00:03, 46.62it/s]"
     ]
    },
    {
     "name": "stdout",
     "output_type": "stream",
     "text": [
      "\n",
      "torch.Size([128, 2, 2])\n",
      "torch.Size([128, 2, 2])\n",
      "torch.Size([128, 2, 2])\n",
      "torch.Size([128, 2, 2])\n",
      "torch.Size([128, 2, 2])\n",
      "torch.Size([128, 2, 2])\n",
      "torch.Size([128, 2, 2])\n",
      "torch.Size([128, 2, 2])\n",
      "torch.Size([128, 2, 2])"
     ]
    },
    {
     "name": "stderr",
     "output_type": "stream",
     "text": [
      " 27%|█████████████████████▌                                                           | 60/225 [00:01<00:03, 46.74it/s]"
     ]
    },
    {
     "name": "stdout",
     "output_type": "stream",
     "text": [
      "\n",
      "torch.Size([128, 2, 2])\n",
      "torch.Size([128, 2, 2])\n",
      "torch.Size([128, 2, 2])\n",
      "torch.Size([128, 2, 2])\n",
      "torch.Size([128, 2, 2])\n",
      "torch.Size([128, 2, 2])\n",
      "torch.Size([128, 2, 2])\n",
      "torch.Size([128, 2, 2])\n",
      "torch.Size([128, 2, 2])"
     ]
    },
    {
     "name": "stderr",
     "output_type": "stream",
     "text": [
      " 31%|█████████████████████████▏                                                       | 70/225 [00:01<00:03, 47.07it/s]"
     ]
    },
    {
     "name": "stdout",
     "output_type": "stream",
     "text": [
      "\n",
      "torch.Size([128, 2, 2])\n",
      "torch.Size([128, 2, 2])\n",
      "torch.Size([128, 2, 2])\n",
      "torch.Size([128, 2, 2])\n",
      "torch.Size([128, 2, 2])\n",
      "torch.Size([128, 2, 2])\n",
      "torch.Size([128, 2, 2])\n",
      "torch.Size([128, 2, 2])\n",
      "torch.Size([128, 2, 2])"
     ]
    },
    {
     "name": "stderr",
     "output_type": "stream",
     "text": [
      " 36%|████████████████████████████▊                                                    | 80/225 [00:01<00:03, 47.14it/s]"
     ]
    },
    {
     "name": "stdout",
     "output_type": "stream",
     "text": [
      "\n",
      "torch.Size([128, 2, 2])\n",
      "torch.Size([128, 2, 2])\n",
      "torch.Size([128, 2, 2])\n",
      "torch.Size([128, 2, 2])\n",
      "torch.Size([128, 2, 2])\n",
      "torch.Size([128, 2, 2])\n",
      "torch.Size([128, 2, 2])\n",
      "torch.Size([128, 2, 2])\n",
      "torch.Size([128, 2, 2])"
     ]
    },
    {
     "name": "stderr",
     "output_type": "stream",
     "text": [
      "\r",
      " 38%|██████████████████████████████▌                                                  | 85/225 [00:01<00:02, 46.90it/s]"
     ]
    },
    {
     "name": "stdout",
     "output_type": "stream",
     "text": [
      "\n",
      "torch.Size([128, 2, 2])\n",
      "torch.Size([128, 2, 2])\n",
      "torch.Size([128, 2, 2])\n",
      "torch.Size([128, 2, 2])\n",
      "torch.Size([128, 2, 2])\n",
      "torch.Size([128, 2, 2])\n",
      "torch.Size([128, 2, 2])\n",
      "torch.Size([128, 2, 2])\n",
      "torch.Size([128, 2, 2])"
     ]
    },
    {
     "name": "stderr",
     "output_type": "stream",
     "text": [
      " 42%|██████████████████████████████████▏                                              | 95/225 [00:02<00:02, 47.29it/s]"
     ]
    },
    {
     "name": "stdout",
     "output_type": "stream",
     "text": [
      "\n",
      "torch.Size([128, 2, 2])\n",
      "torch.Size([128, 2, 2])\n",
      "torch.Size([128, 2, 2])\n",
      "torch.Size([128, 2, 2])\n",
      "torch.Size([128, 2, 2])\n",
      "torch.Size([128, 2, 2])\n",
      "torch.Size([128, 2, 2])\n",
      "torch.Size([128, 2, 2])\n",
      "torch.Size([128, 2, 2])"
     ]
    },
    {
     "name": "stderr",
     "output_type": "stream",
     "text": [
      " 47%|█████████████████████████████████████▎                                          | 105/225 [00:02<00:02, 47.24it/s]"
     ]
    },
    {
     "name": "stdout",
     "output_type": "stream",
     "text": [
      "\n",
      "torch.Size([128, 2, 2])\n",
      "torch.Size([128, 2, 2])\n",
      "torch.Size([128, 2, 2])\n",
      "torch.Size([128, 2, 2])\n",
      "torch.Size([128, 2, 2])\n",
      "torch.Size([128, 2, 2])\n",
      "torch.Size([128, 2, 2])\n",
      "torch.Size([128, 2, 2])\n",
      "torch.Size([128, 2, 2])"
     ]
    },
    {
     "name": "stderr",
     "output_type": "stream",
     "text": [
      " 51%|████████████████████████████████████████▉                                       | 115/225 [00:02<00:02, 47.28it/s]"
     ]
    },
    {
     "name": "stdout",
     "output_type": "stream",
     "text": [
      "\n",
      "torch.Size([128, 2, 2])\n",
      "torch.Size([128, 2, 2])\n",
      "torch.Size([128, 2, 2])\n",
      "torch.Size([128, 2, 2])\n",
      "torch.Size([128, 2, 2])\n",
      "torch.Size([128, 2, 2])\n",
      "torch.Size([128, 2, 2])\n",
      "torch.Size([128, 2, 2])\n",
      "torch.Size([128, 2, 2])"
     ]
    },
    {
     "name": "stderr",
     "output_type": "stream",
     "text": [
      " 56%|████████████████████████████████████████████▍                                   | 125/225 [00:02<00:02, 47.38it/s]"
     ]
    },
    {
     "name": "stdout",
     "output_type": "stream",
     "text": [
      "\n",
      "torch.Size([128, 2, 2])\n",
      "torch.Size([128, 2, 2])\n",
      "torch.Size([128, 2, 2])\n",
      "torch.Size([128, 2, 2])\n",
      "torch.Size([128, 2, 2])\n",
      "torch.Size([128, 2, 2])\n",
      "torch.Size([128, 2, 2])\n",
      "torch.Size([128, 2, 2])\n",
      "torch.Size([128, 2, 2])"
     ]
    },
    {
     "name": "stderr",
     "output_type": "stream",
     "text": [
      "\r",
      " 58%|██████████████████████████████████████████████▏                                 | 130/225 [00:02<00:02, 47.20it/s]"
     ]
    },
    {
     "name": "stdout",
     "output_type": "stream",
     "text": [
      "\n",
      "torch.Size([128, 2, 2])\n",
      "torch.Size([128, 2, 2])\n",
      "torch.Size([128, 2, 2])\n",
      "torch.Size([128, 2, 2])\n",
      "torch.Size([128, 2, 2])\n",
      "torch.Size([128, 2, 2])\n",
      "torch.Size([128, 2, 2])\n",
      "torch.Size([128, 2, 2])\n",
      "torch.Size([128, 2, 2])"
     ]
    },
    {
     "name": "stderr",
     "output_type": "stream",
     "text": [
      " 62%|█████████████████████████████████████████████████▊                              | 140/225 [00:03<00:01, 47.21it/s]"
     ]
    },
    {
     "name": "stdout",
     "output_type": "stream",
     "text": [
      "\n",
      "torch.Size([128, 2, 2])\n",
      "torch.Size([128, 2, 2])\n",
      "torch.Size([128, 2, 2])\n",
      "torch.Size([128, 2, 2])\n",
      "torch.Size([128, 2, 2])\n",
      "torch.Size([128, 2, 2])\n",
      "torch.Size([128, 2, 2])\n",
      "torch.Size([128, 2, 2])\n",
      "torch.Size([128, 2, 2])"
     ]
    },
    {
     "name": "stderr",
     "output_type": "stream",
     "text": [
      " 67%|█████████████████████████████████████████████████████▎                          | 150/225 [00:03<00:01, 47.49it/s]"
     ]
    },
    {
     "name": "stdout",
     "output_type": "stream",
     "text": [
      "\n",
      "torch.Size([128, 2, 2])\n",
      "torch.Size([128, 2, 2])\n",
      "torch.Size([128, 2, 2])\n",
      "torch.Size([128, 2, 2])\n",
      "torch.Size([128, 2, 2])\n",
      "torch.Size([128, 2, 2])\n",
      "torch.Size([128, 2, 2])\n",
      "torch.Size([128, 2, 2])\n",
      "torch.Size([128, 2, 2])"
     ]
    },
    {
     "name": "stderr",
     "output_type": "stream",
     "text": [
      " 71%|████████████████████████████████████████████████████████▉                       | 160/225 [00:03<00:01, 47.30it/s]"
     ]
    },
    {
     "name": "stdout",
     "output_type": "stream",
     "text": [
      "\n",
      "torch.Size([128, 2, 2])\n",
      "torch.Size([128, 2, 2])\n",
      "torch.Size([128, 2, 2])\n",
      "torch.Size([128, 2, 2])\n",
      "torch.Size([128, 2, 2])\n",
      "torch.Size([128, 2, 2])\n",
      "torch.Size([128, 2, 2])\n",
      "torch.Size([128, 2, 2])\n",
      "torch.Size([128, 2, 2])"
     ]
    },
    {
     "name": "stderr",
     "output_type": "stream",
     "text": [
      "\r",
      " 73%|██████████████████████████████████████████████████████████▋                     | 165/225 [00:03<00:01, 46.75it/s]"
     ]
    },
    {
     "name": "stdout",
     "output_type": "stream",
     "text": [
      "\n",
      "torch.Size([128, 2, 2])\n",
      "torch.Size([128, 2, 2])\n",
      "torch.Size([128, 2, 2])\n",
      "torch.Size([128, 2, 2])\n",
      "torch.Size([128, 2, 2])\n",
      "torch.Size([128, 2, 2])\n",
      "torch.Size([128, 2, 2])\n",
      "torch.Size([128, 2, 2])"
     ]
    },
    {
     "name": "stderr",
     "output_type": "stream",
     "text": [
      " 78%|██████████████████████████████████████████████████████████████▏                 | 175/225 [00:03<00:01, 45.98it/s]"
     ]
    },
    {
     "name": "stdout",
     "output_type": "stream",
     "text": [
      "\n",
      "torch.Size([128, 2, 2])\n",
      "torch.Size([128, 2, 2])\n",
      "torch.Size([128, 2, 2])\n",
      "torch.Size([128, 2, 2])\n",
      "torch.Size([128, 2, 2])\n",
      "torch.Size([128, 2, 2])\n",
      "torch.Size([128, 2, 2])\n",
      "torch.Size([128, 2, 2])\n",
      "torch.Size([128, 2, 2])"
     ]
    },
    {
     "name": "stderr",
     "output_type": "stream",
     "text": [
      " 82%|█████████████████████████████████████████████████████████████████▊              | 185/225 [00:03<00:00, 46.78it/s]"
     ]
    },
    {
     "name": "stdout",
     "output_type": "stream",
     "text": [
      "\n",
      "torch.Size([128, 2, 2])\n",
      "torch.Size([128, 2, 2])\n",
      "torch.Size([128, 2, 2])\n",
      "torch.Size([128, 2, 2])\n",
      "torch.Size([128, 2, 2])\n",
      "torch.Size([128, 2, 2])\n",
      "torch.Size([128, 2, 2])\n",
      "torch.Size([128, 2, 2])\n",
      "torch.Size([128, 2, 2])"
     ]
    },
    {
     "name": "stderr",
     "output_type": "stream",
     "text": [
      " 87%|█████████████████████████████████████████████████████████████████████▎          | 195/225 [00:04<00:00, 47.23it/s]"
     ]
    },
    {
     "name": "stdout",
     "output_type": "stream",
     "text": [
      "\n",
      "torch.Size([128, 2, 2])\n",
      "torch.Size([128, 2, 2])\n",
      "torch.Size([128, 2, 2])\n",
      "torch.Size([128, 2, 2])\n",
      "torch.Size([128, 2, 2])\n",
      "torch.Size([128, 2, 2])\n",
      "torch.Size([128, 2, 2])\n",
      "torch.Size([128, 2, 2])\n",
      "torch.Size([128, 2, 2])"
     ]
    },
    {
     "name": "stderr",
     "output_type": "stream",
     "text": [
      "\r",
      " 89%|███████████████████████████████████████████████████████████████████████         | 200/225 [00:04<00:00, 47.36it/s]"
     ]
    },
    {
     "name": "stdout",
     "output_type": "stream",
     "text": [
      "\n",
      "torch.Size([128, 2, 2])\n",
      "torch.Size([128, 2, 2])\n",
      "torch.Size([128, 2, 2])\n",
      "torch.Size([128, 2, 2])\n",
      "torch.Size([128, 2, 2])\n",
      "torch.Size([128, 2, 2])\n",
      "torch.Size([128, 2, 2])\n",
      "torch.Size([128, 2, 2])\n"
     ]
    },
    {
     "name": "stderr",
     "output_type": "stream",
     "text": [
      " 93%|██████████████████████████████████████████████████████████████████████████▋     | 210/225 [00:04<00:00, 47.28it/s]"
     ]
    },
    {
     "name": "stdout",
     "output_type": "stream",
     "text": [
      "torch.Size([128, 2, 2])\n",
      "torch.Size([128, 2, 2])\n",
      "torch.Size([128, 2, 2])\n",
      "torch.Size([128, 2, 2])\n",
      "torch.Size([128, 2, 2])\n",
      "torch.Size([128, 2, 2])\n",
      "torch.Size([128, 2, 2])\n",
      "torch.Size([128, 2, 2])\n",
      "torch.Size([128, 2, 2])\n",
      "torch.Size([128, 2, 2])"
     ]
    },
    {
     "name": "stderr",
     "output_type": "stream",
     "text": [
      " 98%|██████████████████████████████████████████████████████████████████████████████▏ | 220/225 [00:04<00:00, 47.16it/s]"
     ]
    },
    {
     "name": "stdout",
     "output_type": "stream",
     "text": [
      "\n",
      "torch.Size([128, 2, 2])\n",
      "torch.Size([128, 2, 2])\n",
      "torch.Size([128, 2, 2])\n",
      "torch.Size([128, 2, 2])\n",
      "torch.Size([128, 2, 2])\n",
      "torch.Size([128, 2, 2])\n",
      "torch.Size([128, 2, 2])\n",
      "torch.Size([128, 2, 2])\n",
      "torch.Size([128, 2, 2])"
     ]
    },
    {
     "name": "stderr",
     "output_type": "stream",
     "text": [
      "100%|████████████████████████████████████████████████████████████████████████████████| 225/225 [00:04<00:00, 46.82it/s]\n",
      "  3%|██▏                                                                               | 6/225 [00:00<00:04, 50.90it/s]"
     ]
    },
    {
     "name": "stdout",
     "output_type": "stream",
     "text": [
      "\n",
      "torch.Size([128, 2, 2])\n",
      "Epoch: 0. Loss: 0.11612626165151596\n",
      "torch.Size([128, 2, 2])\n",
      "torch.Size([128, 2, 2])\n",
      "torch.Size([128, 2, 2])\n",
      "torch.Size([128, 2, 2])\n",
      "torch.Size([128, 2, 2])\n",
      "torch.Size([128, 2, 2])\n",
      "torch.Size([128, 2, 2])\n",
      "torch.Size([128, 2, 2])"
     ]
    },
    {
     "name": "stderr",
     "output_type": "stream",
     "text": [
      "  7%|█████▊                                                                           | 16/225 [00:00<00:04, 48.25it/s]"
     ]
    },
    {
     "name": "stdout",
     "output_type": "stream",
     "text": [
      "\n",
      "torch.Size([128, 2, 2])\n",
      "torch.Size([128, 2, 2])\n",
      "torch.Size([128, 2, 2])\n",
      "torch.Size([128, 2, 2])\n",
      "torch.Size([128, 2, 2])\n",
      "torch.Size([128, 2, 2])\n",
      "torch.Size([128, 2, 2])\n",
      "torch.Size([128, 2, 2])\n"
     ]
    },
    {
     "name": "stderr",
     "output_type": "stream",
     "text": [
      "\r",
      "  9%|███████▌                                                                         | 21/225 [00:00<00:04, 45.83it/s]"
     ]
    },
    {
     "name": "stdout",
     "output_type": "stream",
     "text": [
      "torch.Size([128, 2, 2])\n",
      "torch.Size([128, 2, 2])\n",
      "torch.Size([128, 2, 2])\n",
      "torch.Size([128, 2, 2])\n",
      "torch.Size([128, 2, 2])\n",
      "torch.Size([128, 2, 2])\n",
      "torch.Size([128, 2, 2])\n",
      "torch.Size([128, 2, 2])\n",
      "torch.Size([128, 2, 2])"
     ]
    },
    {
     "name": "stderr",
     "output_type": "stream",
     "text": [
      " 14%|███████████▏                                                                     | 31/225 [00:00<00:04, 47.25it/s]"
     ]
    },
    {
     "name": "stdout",
     "output_type": "stream",
     "text": [
      "\n",
      "torch.Size([128, 2, 2])\n",
      "torch.Size([128, 2, 2])\n",
      "torch.Size([128, 2, 2])\n",
      "torch.Size([128, 2, 2])\n",
      "torch.Size([128, 2, 2])\n",
      "torch.Size([128, 2, 2])\n",
      "torch.Size([128, 2, 2])\n",
      "torch.Size([128, 2, 2])\n",
      "torch.Size([128, 2, 2])"
     ]
    },
    {
     "name": "stderr",
     "output_type": "stream",
     "text": [
      " 18%|██████████████▊                                                                  | 41/225 [00:00<00:03, 47.32it/s]"
     ]
    },
    {
     "name": "stdout",
     "output_type": "stream",
     "text": [
      "\n",
      "torch.Size([128, 2, 2])\n",
      "torch.Size([128, 2, 2])\n",
      "torch.Size([128, 2, 2])\n",
      "torch.Size([128, 2, 2])\n",
      "torch.Size([128, 2, 2])\n",
      "torch.Size([128, 2, 2])\n",
      "torch.Size([128, 2, 2])\n",
      "torch.Size([128, 2, 2])\n",
      "torch.Size([128, 2, 2])"
     ]
    },
    {
     "name": "stderr",
     "output_type": "stream",
     "text": [
      " 23%|██████████████████▎                                                              | 51/225 [00:01<00:03, 47.49it/s]"
     ]
    },
    {
     "name": "stdout",
     "output_type": "stream",
     "text": [
      "\n",
      "torch.Size([128, 2, 2])\n",
      "torch.Size([128, 2, 2])\n",
      "torch.Size([128, 2, 2])\n",
      "torch.Size([128, 2, 2])\n",
      "torch.Size([128, 2, 2])\n",
      "torch.Size([128, 2, 2])\n",
      "torch.Size([128, 2, 2])\n",
      "torch.Size([128, 2, 2])\n",
      "torch.Size([128, 2, 2])"
     ]
    },
    {
     "name": "stderr",
     "output_type": "stream",
     "text": [
      "\r",
      " 25%|████████████████████▏                                                            | 56/225 [00:01<00:03, 46.55it/s]"
     ]
    },
    {
     "name": "stdout",
     "output_type": "stream",
     "text": [
      "\n",
      "torch.Size([128, 2, 2])\n",
      "torch.Size([128, 2, 2])\n",
      "torch.Size([128, 2, 2])\n",
      "torch.Size([128, 2, 2])\n",
      "torch.Size([128, 2, 2])\n",
      "torch.Size([128, 2, 2])\n",
      "torch.Size([128, 2, 2])\n",
      "torch.Size([128, 2, 2])\n",
      "torch.Size([128, 2, 2])"
     ]
    },
    {
     "name": "stderr",
     "output_type": "stream",
     "text": [
      " 29%|███████████████████████▊                                                         | 66/225 [00:01<00:03, 46.24it/s]"
     ]
    },
    {
     "name": "stdout",
     "output_type": "stream",
     "text": [
      "\n",
      "torch.Size([128, 2, 2])\n",
      "torch.Size([128, 2, 2])\n",
      "torch.Size([128, 2, 2])\n",
      "torch.Size([128, 2, 2])\n",
      "torch.Size([128, 2, 2])\n",
      "torch.Size([128, 2, 2])\n",
      "torch.Size([128, 2, 2])\n",
      "torch.Size([128, 2, 2])\n",
      "torch.Size([128, 2, 2])"
     ]
    },
    {
     "name": "stderr",
     "output_type": "stream",
     "text": [
      " 34%|███████████████████████████▎                                                     | 76/225 [00:01<00:03, 47.19it/s]"
     ]
    },
    {
     "name": "stdout",
     "output_type": "stream",
     "text": [
      "\n",
      "torch.Size([128, 2, 2])\n",
      "torch.Size([128, 2, 2])\n",
      "torch.Size([128, 2, 2])\n",
      "torch.Size([128, 2, 2])\n",
      "torch.Size([128, 2, 2])\n",
      "torch.Size([128, 2, 2])\n",
      "torch.Size([128, 2, 2])\n",
      "torch.Size([128, 2, 2])\n",
      "torch.Size([128, 2, 2])"
     ]
    },
    {
     "name": "stderr",
     "output_type": "stream",
     "text": [
      " 38%|██████████████████████████████▉                                                  | 86/225 [00:01<00:02, 47.10it/s]"
     ]
    },
    {
     "name": "stdout",
     "output_type": "stream",
     "text": [
      "\n",
      "torch.Size([128, 2, 2])\n",
      "torch.Size([128, 2, 2])\n",
      "torch.Size([128, 2, 2])\n",
      "torch.Size([128, 2, 2])\n",
      "torch.Size([128, 2, 2])\n",
      "torch.Size([128, 2, 2])\n",
      "torch.Size([128, 2, 2])\n",
      "torch.Size([128, 2, 2])\n",
      "torch.Size([128, 2, 2])"
     ]
    },
    {
     "name": "stderr",
     "output_type": "stream",
     "text": [
      "\r",
      " 40%|████████████████████████████████▊                                                | 91/225 [00:01<00:02, 47.00it/s]"
     ]
    },
    {
     "name": "stdout",
     "output_type": "stream",
     "text": [
      "\n",
      "torch.Size([128, 2, 2])\n",
      "torch.Size([128, 2, 2])\n",
      "torch.Size([128, 2, 2])\n",
      "torch.Size([128, 2, 2])\n",
      "torch.Size([128, 2, 2])\n",
      "torch.Size([128, 2, 2])\n",
      "torch.Size([128, 2, 2])\n",
      "torch.Size([128, 2, 2])\n"
     ]
    },
    {
     "name": "stderr",
     "output_type": "stream",
     "text": [
      " 45%|███████████████████████████████████▉                                            | 101/225 [00:02<00:02, 47.25it/s]"
     ]
    },
    {
     "name": "stdout",
     "output_type": "stream",
     "text": [
      "torch.Size([128, 2, 2])\n",
      "torch.Size([128, 2, 2])\n",
      "torch.Size([128, 2, 2])\n",
      "torch.Size([128, 2, 2])\n",
      "torch.Size([128, 2, 2])\n",
      "torch.Size([128, 2, 2])\n",
      "torch.Size([128, 2, 2])\n",
      "torch.Size([128, 2, 2])\n",
      "torch.Size([128, 2, 2])\n",
      "torch.Size([128, 2, 2])"
     ]
    },
    {
     "name": "stderr",
     "output_type": "stream",
     "text": [
      " 49%|███████████████████████████████████████▍                                        | 111/225 [00:02<00:02, 47.37it/s]"
     ]
    },
    {
     "name": "stdout",
     "output_type": "stream",
     "text": [
      "\n",
      "torch.Size([128, 2, 2])\n",
      "torch.Size([128, 2, 2])\n",
      "torch.Size([128, 2, 2])\n",
      "torch.Size([128, 2, 2])\n",
      "torch.Size([128, 2, 2])\n",
      "torch.Size([128, 2, 2])\n",
      "torch.Size([128, 2, 2])\n",
      "torch.Size([128, 2, 2])\n",
      "torch.Size([128, 2, 2])"
     ]
    },
    {
     "name": "stderr",
     "output_type": "stream",
     "text": [
      " 54%|███████████████████████████████████████████                                     | 121/225 [00:02<00:02, 47.52it/s]"
     ]
    },
    {
     "name": "stdout",
     "output_type": "stream",
     "text": [
      "\n",
      "torch.Size([128, 2, 2])\n",
      "torch.Size([128, 2, 2])\n",
      "torch.Size([128, 2, 2])\n",
      "torch.Size([128, 2, 2])\n",
      "torch.Size([128, 2, 2])\n",
      "torch.Size([128, 2, 2])\n",
      "torch.Size([128, 2, 2])\n",
      "torch.Size([128, 2, 2])\n",
      "torch.Size([128, 2, 2])"
     ]
    },
    {
     "name": "stderr",
     "output_type": "stream",
     "text": [
      " 58%|██████████████████████████████████████████████▌                                 | 131/225 [00:02<00:02, 46.83it/s]"
     ]
    },
    {
     "name": "stdout",
     "output_type": "stream",
     "text": [
      "\n",
      "torch.Size([128, 2, 2])\n",
      "torch.Size([128, 2, 2])\n",
      "torch.Size([128, 2, 2])\n",
      "torch.Size([128, 2, 2])\n",
      "torch.Size([128, 2, 2])\n",
      "torch.Size([128, 2, 2])\n",
      "torch.Size([128, 2, 2])\n",
      "torch.Size([128, 2, 2])\n",
      "torch.Size([128, 2, 2])"
     ]
    },
    {
     "name": "stderr",
     "output_type": "stream",
     "text": [
      "\r",
      " 60%|████████████████████████████████████████████████▎                               | 136/225 [00:02<00:01, 47.21it/s]"
     ]
    },
    {
     "name": "stdout",
     "output_type": "stream",
     "text": [
      "\n",
      "torch.Size([128, 2, 2])\n",
      "torch.Size([128, 2, 2])\n",
      "torch.Size([128, 2, 2])\n",
      "torch.Size([128, 2, 2])\n",
      "torch.Size([128, 2, 2])\n",
      "torch.Size([128, 2, 2])\n",
      "torch.Size([128, 2, 2])\n",
      "torch.Size([128, 2, 2])\n"
     ]
    },
    {
     "name": "stderr",
     "output_type": "stream",
     "text": [
      " 65%|███████████████████████████████████████████████████▉                            | 146/225 [00:03<00:01, 47.44it/s]"
     ]
    },
    {
     "name": "stdout",
     "output_type": "stream",
     "text": [
      "torch.Size([128, 2, 2])\n",
      "torch.Size([128, 2, 2])\n",
      "torch.Size([128, 2, 2])\n",
      "torch.Size([128, 2, 2])\n",
      "torch.Size([128, 2, 2])\n",
      "torch.Size([128, 2, 2])\n",
      "torch.Size([128, 2, 2])\n",
      "torch.Size([128, 2, 2])\n",
      "torch.Size([128, 2, 2])\n",
      "torch.Size([128, 2, 2])"
     ]
    },
    {
     "name": "stderr",
     "output_type": "stream",
     "text": [
      " 69%|███████████████████████████████████████████████████████▍                        | 156/225 [00:03<00:01, 47.56it/s]"
     ]
    },
    {
     "name": "stdout",
     "output_type": "stream",
     "text": [
      "\n",
      "torch.Size([128, 2, 2])\n",
      "torch.Size([128, 2, 2])\n",
      "torch.Size([128, 2, 2])\n",
      "torch.Size([128, 2, 2])\n",
      "torch.Size([128, 2, 2])\n",
      "torch.Size([128, 2, 2])\n",
      "torch.Size([128, 2, 2])\n",
      "torch.Size([128, 2, 2])\n",
      "torch.Size([128, 2, 2])"
     ]
    },
    {
     "name": "stderr",
     "output_type": "stream",
     "text": [
      " 74%|███████████████████████████████████████████████████████████                     | 166/225 [00:03<00:01, 47.39it/s]"
     ]
    },
    {
     "name": "stdout",
     "output_type": "stream",
     "text": [
      "\n",
      "torch.Size([128, 2, 2])\n",
      "torch.Size([128, 2, 2])\n",
      "torch.Size([128, 2, 2])\n",
      "torch.Size([128, 2, 2])\n",
      "torch.Size([128, 2, 2])\n",
      "torch.Size([128, 2, 2])\n",
      "torch.Size([128, 2, 2])\n",
      "torch.Size([128, 2, 2])\n",
      "torch.Size([128, 2, 2])"
     ]
    },
    {
     "name": "stderr",
     "output_type": "stream",
     "text": [
      " 78%|██████████████████████████████████████████████████████████████▌                 | 176/225 [00:03<00:01, 47.60it/s]"
     ]
    },
    {
     "name": "stdout",
     "output_type": "stream",
     "text": [
      "\n",
      "torch.Size([128, 2, 2])\n",
      "torch.Size([128, 2, 2])\n",
      "torch.Size([128, 2, 2])\n",
      "torch.Size([128, 2, 2])\n",
      "torch.Size([128, 2, 2])\n",
      "torch.Size([128, 2, 2])\n",
      "torch.Size([128, 2, 2])\n",
      "torch.Size([128, 2, 2])\n",
      "torch.Size([128, 2, 2])"
     ]
    },
    {
     "name": "stderr",
     "output_type": "stream",
     "text": [
      " 83%|██████████████████████████████████████████████████████████████████▏             | 186/225 [00:03<00:00, 47.44it/s]"
     ]
    },
    {
     "name": "stdout",
     "output_type": "stream",
     "text": [
      "\n",
      "torch.Size([128, 2, 2])\n",
      "torch.Size([128, 2, 2])\n",
      "torch.Size([128, 2, 2])\n",
      "torch.Size([128, 2, 2])\n",
      "torch.Size([128, 2, 2])\n",
      "torch.Size([128, 2, 2])\n",
      "torch.Size([128, 2, 2])\n",
      "torch.Size([128, 2, 2])\n"
     ]
    },
    {
     "name": "stderr",
     "output_type": "stream",
     "text": [
      "\r",
      " 85%|███████████████████████████████████████████████████████████████████▉            | 191/225 [00:04<00:00, 47.51it/s]"
     ]
    },
    {
     "name": "stdout",
     "output_type": "stream",
     "text": [
      "torch.Size([128, 2, 2])\n",
      "torch.Size([128, 2, 2])\n",
      "torch.Size([128, 2, 2])\n",
      "torch.Size([128, 2, 2])\n",
      "torch.Size([128, 2, 2])\n",
      "torch.Size([128, 2, 2])\n",
      "torch.Size([128, 2, 2])\n",
      "torch.Size([128, 2, 2])\n",
      "torch.Size([128, 2, 2])\n",
      "torch.Size([128, 2, 2])"
     ]
    },
    {
     "name": "stderr",
     "output_type": "stream",
     "text": [
      " 89%|███████████████████████████████████████████████████████████████████████▍        | 201/225 [00:04<00:00, 47.29it/s]"
     ]
    },
    {
     "name": "stdout",
     "output_type": "stream",
     "text": [
      "\n",
      "torch.Size([128, 2, 2])\n",
      "torch.Size([128, 2, 2])\n",
      "torch.Size([128, 2, 2])\n",
      "torch.Size([128, 2, 2])\n",
      "torch.Size([128, 2, 2])\n",
      "torch.Size([128, 2, 2])\n",
      "torch.Size([128, 2, 2])\n",
      "torch.Size([128, 2, 2])\n",
      "torch.Size([128, 2, 2])"
     ]
    },
    {
     "name": "stderr",
     "output_type": "stream",
     "text": [
      " 94%|███████████████████████████████████████████████████████████████████████████     | 211/225 [00:04<00:00, 47.48it/s]"
     ]
    },
    {
     "name": "stdout",
     "output_type": "stream",
     "text": [
      "\n",
      "torch.Size([128, 2, 2])\n",
      "torch.Size([128, 2, 2])\n",
      "torch.Size([128, 2, 2])\n",
      "torch.Size([128, 2, 2])\n",
      "torch.Size([128, 2, 2])\n",
      "torch.Size([128, 2, 2])\n",
      "torch.Size([128, 2, 2])\n",
      "torch.Size([128, 2, 2])\n",
      "torch.Size([128, 2, 2])"
     ]
    },
    {
     "name": "stderr",
     "output_type": "stream",
     "text": [
      " 98%|██████████████████████████████████████████████████████████████████████████████▌ | 221/225 [00:04<00:00, 47.39it/s]"
     ]
    },
    {
     "name": "stdout",
     "output_type": "stream",
     "text": [
      "\n",
      "torch.Size([128, 2, 2])\n",
      "torch.Size([128, 2, 2])\n",
      "torch.Size([128, 2, 2])\n",
      "torch.Size([128, 2, 2])\n",
      "torch.Size([128, 2, 2])\n",
      "torch.Size([128, 2, 2])\n",
      "torch.Size([128, 2, 2])\n",
      "torch.Size([128, 2, 2])\n",
      "torch.Size([128, 2, 2])"
     ]
    },
    {
     "name": "stderr",
     "output_type": "stream",
     "text": [
      "100%|████████████████████████████████████████████████████████████████████████████████| 225/225 [00:04<00:00, 47.20it/s]\n",
      "  3%|██▏                                                                               | 6/225 [00:00<00:04, 49.64it/s]"
     ]
    },
    {
     "name": "stdout",
     "output_type": "stream",
     "text": [
      "\n",
      "torch.Size([128, 2, 2])\n",
      "torch.Size([128, 2, 2])\n",
      "Epoch: 1. Loss: 0.10861453413963318\n",
      "torch.Size([128, 2, 2])\n",
      "torch.Size([128, 2, 2])\n",
      "torch.Size([128, 2, 2])\n",
      "torch.Size([128, 2, 2])\n",
      "torch.Size([128, 2, 2])\n",
      "torch.Size([128, 2, 2])\n",
      "torch.Size([128, 2, 2])"
     ]
    },
    {
     "name": "stderr",
     "output_type": "stream",
     "text": [
      "\r",
      "  5%|███▉                                                                             | 11/225 [00:00<00:04, 48.89it/s]"
     ]
    },
    {
     "name": "stdout",
     "output_type": "stream",
     "text": [
      "\n",
      "torch.Size([128, 2, 2])\n",
      "torch.Size([128, 2, 2])\n",
      "torch.Size([128, 2, 2])\n",
      "torch.Size([128, 2, 2])\n",
      "torch.Size([128, 2, 2])\n",
      "torch.Size([128, 2, 2])\n",
      "torch.Size([128, 2, 2])\n",
      "torch.Size([128, 2, 2])\n",
      "torch.Size([128, 2, 2])"
     ]
    },
    {
     "name": "stderr",
     "output_type": "stream",
     "text": [
      "  9%|███████▌                                                                         | 21/225 [00:00<00:04, 47.76it/s]"
     ]
    },
    {
     "name": "stdout",
     "output_type": "stream",
     "text": [
      "\n",
      "torch.Size([128, 2, 2])\n",
      "torch.Size([128, 2, 2])\n",
      "torch.Size([128, 2, 2])\n",
      "torch.Size([128, 2, 2])\n",
      "torch.Size([128, 2, 2])\n",
      "torch.Size([128, 2, 2])\n",
      "torch.Size([128, 2, 2])\n",
      "torch.Size([128, 2, 2])\n",
      "torch.Size([128, 2, 2])"
     ]
    },
    {
     "name": "stderr",
     "output_type": "stream",
     "text": [
      " 14%|███████████▏                                                                     | 31/225 [00:00<00:04, 47.66it/s]"
     ]
    },
    {
     "name": "stdout",
     "output_type": "stream",
     "text": [
      "\n",
      "torch.Size([128, 2, 2])\n",
      "torch.Size([128, 2, 2])\n",
      "torch.Size([128, 2, 2])\n",
      "torch.Size([128, 2, 2])\n",
      "torch.Size([128, 2, 2])\n",
      "torch.Size([128, 2, 2])\n",
      "torch.Size([128, 2, 2])\n",
      "torch.Size([128, 2, 2])\n",
      "torch.Size([128, 2, 2])"
     ]
    },
    {
     "name": "stderr",
     "output_type": "stream",
     "text": [
      " 18%|██████████████▊                                                                  | 41/225 [00:00<00:03, 47.47it/s]"
     ]
    },
    {
     "name": "stdout",
     "output_type": "stream",
     "text": [
      "\n",
      "torch.Size([128, 2, 2])\n",
      "torch.Size([128, 2, 2])\n",
      "torch.Size([128, 2, 2])\n",
      "torch.Size([128, 2, 2])\n",
      "torch.Size([128, 2, 2])\n",
      "torch.Size([128, 2, 2])\n",
      "torch.Size([128, 2, 2])\n",
      "torch.Size([128, 2, 2])\n",
      "torch.Size([128, 2, 2])"
     ]
    },
    {
     "name": "stderr",
     "output_type": "stream",
     "text": [
      " 23%|██████████████████▎                                                              | 51/225 [00:01<00:03, 47.43it/s]"
     ]
    },
    {
     "name": "stdout",
     "output_type": "stream",
     "text": [
      "\n",
      "torch.Size([128, 2, 2])\n",
      "torch.Size([128, 2, 2])\n",
      "torch.Size([128, 2, 2])\n",
      "torch.Size([128, 2, 2])\n",
      "torch.Size([128, 2, 2])\n",
      "torch.Size([128, 2, 2])\n",
      "torch.Size([128, 2, 2])\n",
      "torch.Size([128, 2, 2])\n",
      "torch.Size([128, 2, 2])"
     ]
    },
    {
     "name": "stderr",
     "output_type": "stream",
     "text": [
      "\r",
      " 25%|████████████████████▏                                                            | 56/225 [00:01<00:03, 47.36it/s]"
     ]
    },
    {
     "name": "stdout",
     "output_type": "stream",
     "text": [
      "\n",
      "torch.Size([128, 2, 2])\n",
      "torch.Size([128, 2, 2])\n",
      "torch.Size([128, 2, 2])\n",
      "torch.Size([128, 2, 2])\n",
      "torch.Size([128, 2, 2])\n",
      "torch.Size([128, 2, 2])\n",
      "torch.Size([128, 2, 2])\n",
      "torch.Size([128, 2, 2])\n",
      "torch.Size([128, 2, 2])"
     ]
    },
    {
     "name": "stderr",
     "output_type": "stream",
     "text": [
      " 29%|███████████████████████▊                                                         | 66/225 [00:01<00:03, 47.02it/s]"
     ]
    },
    {
     "name": "stdout",
     "output_type": "stream",
     "text": [
      "\n",
      "torch.Size([128, 2, 2])\n",
      "torch.Size([128, 2, 2])\n",
      "torch.Size([128, 2, 2])\n",
      "torch.Size([128, 2, 2])\n",
      "torch.Size([128, 2, 2])\n",
      "torch.Size([128, 2, 2])\n",
      "torch.Size([128, 2, 2])\n",
      "torch.Size([128, 2, 2])\n",
      "torch.Size([128, 2, 2])"
     ]
    },
    {
     "name": "stderr",
     "output_type": "stream",
     "text": [
      " 34%|███████████████████████████▎                                                     | 76/225 [00:01<00:03, 47.12it/s]"
     ]
    },
    {
     "name": "stdout",
     "output_type": "stream",
     "text": [
      "\n",
      "torch.Size([128, 2, 2])\n",
      "torch.Size([128, 2, 2])\n",
      "torch.Size([128, 2, 2])\n",
      "torch.Size([128, 2, 2])\n",
      "torch.Size([128, 2, 2])\n",
      "torch.Size([128, 2, 2])\n",
      "torch.Size([128, 2, 2])\n",
      "torch.Size([128, 2, 2])\n",
      "torch.Size([128, 2, 2])\n"
     ]
    },
    {
     "name": "stderr",
     "output_type": "stream",
     "text": [
      " 38%|██████████████████████████████▉                                                  | 86/225 [00:01<00:02, 47.15it/s]"
     ]
    },
    {
     "name": "stdout",
     "output_type": "stream",
     "text": [
      "torch.Size([128, 2, 2])\n",
      "torch.Size([128, 2, 2])\n",
      "torch.Size([128, 2, 2])\n",
      "torch.Size([128, 2, 2])\n",
      "torch.Size([128, 2, 2])\n",
      "torch.Size([128, 2, 2])\n",
      "torch.Size([128, 2, 2])\n",
      "torch.Size([128, 2, 2])\n",
      "torch.Size([128, 2, 2])\n",
      "torch.Size([128, 2, 2])"
     ]
    },
    {
     "name": "stderr",
     "output_type": "stream",
     "text": [
      " 43%|██████████████████████████████████▌                                              | 96/225 [00:02<00:02, 47.27it/s]"
     ]
    },
    {
     "name": "stdout",
     "output_type": "stream",
     "text": [
      "\n",
      "torch.Size([128, 2, 2])\n",
      "torch.Size([128, 2, 2])\n",
      "torch.Size([128, 2, 2])\n",
      "torch.Size([128, 2, 2])\n",
      "torch.Size([128, 2, 2])\n",
      "torch.Size([128, 2, 2])\n",
      "torch.Size([128, 2, 2])\n",
      "torch.Size([128, 2, 2])\n",
      "torch.Size([128, 2, 2])"
     ]
    },
    {
     "name": "stderr",
     "output_type": "stream",
     "text": [
      "\r",
      " 45%|███████████████████████████████████▉                                            | 101/225 [00:02<00:02, 46.86it/s]"
     ]
    },
    {
     "name": "stdout",
     "output_type": "stream",
     "text": [
      "\n",
      "torch.Size([128, 2, 2])\n",
      "torch.Size([128, 2, 2])\n",
      "torch.Size([128, 2, 2])\n",
      "torch.Size([128, 2, 2])\n",
      "torch.Size([128, 2, 2])\n",
      "torch.Size([128, 2, 2])\n",
      "torch.Size([128, 2, 2])\n",
      "torch.Size([128, 2, 2])\n"
     ]
    },
    {
     "name": "stderr",
     "output_type": "stream",
     "text": [
      " 49%|███████████████████████████████████████▍                                        | 111/225 [00:02<00:02, 46.48it/s]"
     ]
    },
    {
     "name": "stdout",
     "output_type": "stream",
     "text": [
      "torch.Size([128, 2, 2])\n",
      "torch.Size([128, 2, 2])\n",
      "torch.Size([128, 2, 2])\n",
      "torch.Size([128, 2, 2])\n",
      "torch.Size([128, 2, 2])\n",
      "torch.Size([128, 2, 2])\n",
      "torch.Size([128, 2, 2])\n",
      "torch.Size([128, 2, 2])\n",
      "torch.Size([128, 2, 2])\n",
      "torch.Size([128, 2, 2])"
     ]
    },
    {
     "name": "stderr",
     "output_type": "stream",
     "text": [
      " 54%|███████████████████████████████████████████                                     | 121/225 [00:02<00:02, 45.77it/s]"
     ]
    },
    {
     "name": "stdout",
     "output_type": "stream",
     "text": [
      "\n",
      "torch.Size([128, 2, 2])\n",
      "torch.Size([128, 2, 2])\n",
      "torch.Size([128, 2, 2])\n",
      "torch.Size([128, 2, 2])\n",
      "torch.Size([128, 2, 2])\n",
      "torch.Size([128, 2, 2])\n",
      "torch.Size([128, 2, 2])\n",
      "torch.Size([128, 2, 2])\n",
      "torch.Size([128, 2, 2])"
     ]
    },
    {
     "name": "stderr",
     "output_type": "stream",
     "text": [
      " 58%|██████████████████████████████████████████████▌                                 | 131/225 [00:02<00:02, 46.75it/s]"
     ]
    },
    {
     "name": "stdout",
     "output_type": "stream",
     "text": [
      "\n",
      "torch.Size([128, 2, 2])\n",
      "torch.Size([128, 2, 2])\n",
      "torch.Size([128, 2, 2])\n",
      "torch.Size([128, 2, 2])\n",
      "torch.Size([128, 2, 2])\n",
      "torch.Size([128, 2, 2])\n",
      "torch.Size([128, 2, 2])\n",
      "torch.Size([128, 2, 2])\n",
      "torch.Size([128, 2, 2])"
     ]
    },
    {
     "name": "stderr",
     "output_type": "stream",
     "text": [
      " 63%|██████████████████████████████████████████████████▏                             | 141/225 [00:02<00:01, 47.34it/s]"
     ]
    },
    {
     "name": "stdout",
     "output_type": "stream",
     "text": [
      "\n",
      "torch.Size([128, 2, 2])\n",
      "torch.Size([128, 2, 2])\n",
      "torch.Size([128, 2, 2])\n",
      "torch.Size([128, 2, 2])\n",
      "torch.Size([128, 2, 2])\n",
      "torch.Size([128, 2, 2])\n",
      "torch.Size([128, 2, 2])\n",
      "torch.Size([128, 2, 2])\n",
      "torch.Size([128, 2, 2])"
     ]
    },
    {
     "name": "stderr",
     "output_type": "stream",
     "text": [
      "\r",
      " 65%|███████████████████████████████████████████████████▉                            | 146/225 [00:03<00:01, 47.30it/s]"
     ]
    },
    {
     "name": "stdout",
     "output_type": "stream",
     "text": [
      "\n",
      "torch.Size([128, 2, 2])\n",
      "torch.Size([128, 2, 2])\n",
      "torch.Size([128, 2, 2])\n",
      "torch.Size([128, 2, 2])\n",
      "torch.Size([128, 2, 2])\n",
      "torch.Size([128, 2, 2])\n",
      "torch.Size([128, 2, 2])\n",
      "torch.Size([128, 2, 2])\n"
     ]
    },
    {
     "name": "stderr",
     "output_type": "stream",
     "text": [
      " 69%|███████████████████████████████████████████████████████▍                        | 156/225 [00:03<00:01, 47.35it/s]"
     ]
    },
    {
     "name": "stdout",
     "output_type": "stream",
     "text": [
      "torch.Size([128, 2, 2])\n",
      "torch.Size([128, 2, 2])\n",
      "torch.Size([128, 2, 2])\n",
      "torch.Size([128, 2, 2])\n",
      "torch.Size([128, 2, 2])\n",
      "torch.Size([128, 2, 2])\n",
      "torch.Size([128, 2, 2])\n",
      "torch.Size([128, 2, 2])\n",
      "torch.Size([128, 2, 2])\n",
      "torch.Size([128, 2, 2])"
     ]
    },
    {
     "name": "stderr",
     "output_type": "stream",
     "text": [
      " 74%|███████████████████████████████████████████████████████████                     | 166/225 [00:03<00:01, 47.55it/s]"
     ]
    },
    {
     "name": "stdout",
     "output_type": "stream",
     "text": [
      "\n",
      "torch.Size([128, 2, 2])\n",
      "torch.Size([128, 2, 2])\n",
      "torch.Size([128, 2, 2])\n",
      "torch.Size([128, 2, 2])\n",
      "torch.Size([128, 2, 2])\n",
      "torch.Size([128, 2, 2])\n",
      "torch.Size([128, 2, 2])\n",
      "torch.Size([128, 2, 2])\n",
      "torch.Size([128, 2, 2])"
     ]
    },
    {
     "name": "stderr",
     "output_type": "stream",
     "text": [
      " 78%|██████████████████████████████████████████████████████████████▌                 | 176/225 [00:03<00:01, 47.42it/s]"
     ]
    },
    {
     "name": "stdout",
     "output_type": "stream",
     "text": [
      "\n",
      "torch.Size([128, 2, 2])\n",
      "torch.Size([128, 2, 2])\n",
      "torch.Size([128, 2, 2])\n",
      "torch.Size([128, 2, 2])\n",
      "torch.Size([128, 2, 2])\n",
      "torch.Size([128, 2, 2])\n",
      "torch.Size([128, 2, 2])\n",
      "torch.Size([128, 2, 2])\n",
      "torch.Size([128, 2, 2])"
     ]
    },
    {
     "name": "stderr",
     "output_type": "stream",
     "text": [
      " 83%|██████████████████████████████████████████████████████████████████▏             | 186/225 [00:03<00:00, 47.38it/s]"
     ]
    },
    {
     "name": "stdout",
     "output_type": "stream",
     "text": [
      "\n",
      "torch.Size([128, 2, 2])\n",
      "torch.Size([128, 2, 2])\n",
      "torch.Size([128, 2, 2])\n",
      "torch.Size([128, 2, 2])\n",
      "torch.Size([128, 2, 2])\n",
      "torch.Size([128, 2, 2])\n",
      "torch.Size([128, 2, 2])\n",
      "torch.Size([128, 2, 2])\n",
      "torch.Size([128, 2, 2])"
     ]
    },
    {
     "name": "stderr",
     "output_type": "stream",
     "text": [
      " 87%|█████████████████████████████████████████████████████████████████████▋          | 196/225 [00:04<00:00, 47.61it/s]"
     ]
    },
    {
     "name": "stdout",
     "output_type": "stream",
     "text": [
      "\n",
      "torch.Size([128, 2, 2])\n",
      "torch.Size([128, 2, 2])\n",
      "torch.Size([128, 2, 2])\n",
      "torch.Size([128, 2, 2])\n",
      "torch.Size([128, 2, 2])\n",
      "torch.Size([128, 2, 2])\n",
      "torch.Size([128, 2, 2])\n",
      "torch.Size([128, 2, 2])\n",
      "torch.Size([128, 2, 2])"
     ]
    },
    {
     "name": "stderr",
     "output_type": "stream",
     "text": [
      "\r",
      " 89%|███████████████████████████████████████████████████████████████████████▍        | 201/225 [00:04<00:00, 47.63it/s]"
     ]
    },
    {
     "name": "stdout",
     "output_type": "stream",
     "text": [
      "\n",
      "torch.Size([128, 2, 2])\n",
      "torch.Size([128, 2, 2])\n",
      "torch.Size([128, 2, 2])\n",
      "torch.Size([128, 2, 2])\n",
      "torch.Size([128, 2, 2])\n",
      "torch.Size([128, 2, 2])\n",
      "torch.Size([128, 2, 2])\n",
      "torch.Size([128, 2, 2])\n",
      "torch.Size([128, 2, 2])"
     ]
    },
    {
     "name": "stderr",
     "output_type": "stream",
     "text": [
      " 94%|███████████████████████████████████████████████████████████████████████████     | 211/225 [00:04<00:00, 47.58it/s]"
     ]
    },
    {
     "name": "stdout",
     "output_type": "stream",
     "text": [
      "\n",
      "torch.Size([128, 2, 2])\n",
      "torch.Size([128, 2, 2])\n",
      "torch.Size([128, 2, 2])\n",
      "torch.Size([128, 2, 2])\n",
      "torch.Size([128, 2, 2])\n",
      "torch.Size([128, 2, 2])\n",
      "torch.Size([128, 2, 2])\n",
      "torch.Size([128, 2, 2])\n",
      "torch.Size([128, 2, 2])"
     ]
    },
    {
     "name": "stderr",
     "output_type": "stream",
     "text": [
      " 98%|██████████████████████████████████████████████████████████████████████████████▌ | 221/225 [00:04<00:00, 47.30it/s]"
     ]
    },
    {
     "name": "stdout",
     "output_type": "stream",
     "text": [
      "\n",
      "torch.Size([128, 2, 2])\n",
      "torch.Size([128, 2, 2])\n",
      "torch.Size([128, 2, 2])\n",
      "torch.Size([128, 2, 2])\n",
      "torch.Size([128, 2, 2])\n",
      "torch.Size([128, 2, 2])\n",
      "torch.Size([128, 2, 2])\n",
      "torch.Size([128, 2, 2])\n",
      "torch.Size([128, 2, 2])"
     ]
    },
    {
     "name": "stderr",
     "output_type": "stream",
     "text": [
      "100%|████████████████████████████████████████████████████████████████████████████████| 225/225 [00:04<00:00, 47.19it/s]\n",
      "  3%|██▏                                                                               | 6/225 [00:00<00:04, 50.05it/s]"
     ]
    },
    {
     "name": "stdout",
     "output_type": "stream",
     "text": [
      "\n",
      "torch.Size([128, 2, 2])\n",
      "Epoch: 2. Loss: 0.0979602038860321\n",
      "torch.Size([128, 2, 2])\n",
      "torch.Size([128, 2, 2])\n",
      "torch.Size([128, 2, 2])\n",
      "torch.Size([128, 2, 2])\n",
      "torch.Size([128, 2, 2])\n",
      "torch.Size([128, 2, 2])\n",
      "torch.Size([128, 2, 2])\n",
      "torch.Size([128, 2, 2])"
     ]
    },
    {
     "name": "stderr",
     "output_type": "stream",
     "text": [
      "\r",
      "  5%|███▉                                                                             | 11/225 [00:00<00:04, 49.24it/s]"
     ]
    },
    {
     "name": "stdout",
     "output_type": "stream",
     "text": [
      "\n",
      "torch.Size([128, 2, 2])\n",
      "torch.Size([128, 2, 2])\n",
      "torch.Size([128, 2, 2])\n",
      "torch.Size([128, 2, 2])\n",
      "torch.Size([128, 2, 2])\n",
      "torch.Size([128, 2, 2])\n",
      "torch.Size([128, 2, 2])\n",
      "torch.Size([128, 2, 2])\n"
     ]
    },
    {
     "name": "stderr",
     "output_type": "stream",
     "text": [
      "  9%|███████▌                                                                         | 21/225 [00:00<00:04, 48.14it/s]"
     ]
    },
    {
     "name": "stdout",
     "output_type": "stream",
     "text": [
      "torch.Size([128, 2, 2])\n",
      "torch.Size([128, 2, 2])\n",
      "torch.Size([128, 2, 2])\n",
      "torch.Size([128, 2, 2])\n",
      "torch.Size([128, 2, 2])\n",
      "torch.Size([128, 2, 2])\n",
      "torch.Size([128, 2, 2])\n",
      "torch.Size([128, 2, 2])\n",
      "torch.Size([128, 2, 2])\n",
      "torch.Size([128, 2, 2])"
     ]
    },
    {
     "name": "stderr",
     "output_type": "stream",
     "text": [
      " 14%|███████████▏                                                                     | 31/225 [00:00<00:04, 47.97it/s]"
     ]
    },
    {
     "name": "stdout",
     "output_type": "stream",
     "text": [
      "\n",
      "torch.Size([128, 2, 2])\n",
      "torch.Size([128, 2, 2])\n",
      "torch.Size([128, 2, 2])\n",
      "torch.Size([128, 2, 2])\n",
      "torch.Size([128, 2, 2])\n",
      "torch.Size([128, 2, 2])\n",
      "torch.Size([128, 2, 2])\n",
      "torch.Size([128, 2, 2])\n",
      "torch.Size([128, 2, 2])"
     ]
    },
    {
     "name": "stderr",
     "output_type": "stream",
     "text": [
      " 18%|██████████████▊                                                                  | 41/225 [00:00<00:03, 47.62it/s]"
     ]
    },
    {
     "name": "stdout",
     "output_type": "stream",
     "text": [
      "\n",
      "torch.Size([128, 2, 2])\n",
      "torch.Size([128, 2, 2])\n",
      "torch.Size([128, 2, 2])\n",
      "torch.Size([128, 2, 2])\n",
      "torch.Size([128, 2, 2])\n",
      "torch.Size([128, 2, 2])\n",
      "torch.Size([128, 2, 2])\n",
      "torch.Size([128, 2, 2])\n",
      "torch.Size([128, 2, 2])"
     ]
    },
    {
     "name": "stderr",
     "output_type": "stream",
     "text": [
      " 23%|██████████████████▎                                                              | 51/225 [00:01<00:03, 47.42it/s]"
     ]
    },
    {
     "name": "stdout",
     "output_type": "stream",
     "text": [
      "\n",
      "torch.Size([128, 2, 2])\n",
      "torch.Size([128, 2, 2])\n",
      "torch.Size([128, 2, 2])\n",
      "torch.Size([128, 2, 2])\n",
      "torch.Size([128, 2, 2])\n",
      "torch.Size([128, 2, 2])\n",
      "torch.Size([128, 2, 2])\n",
      "torch.Size([128, 2, 2])\n",
      "torch.Size([128, 2, 2])"
     ]
    },
    {
     "name": "stderr",
     "output_type": "stream",
     "text": [
      "\r",
      " 25%|████████████████████▏                                                            | 56/225 [00:01<00:03, 46.89it/s]"
     ]
    },
    {
     "name": "stdout",
     "output_type": "stream",
     "text": [
      "\n",
      "torch.Size([128, 2, 2])\n",
      "torch.Size([128, 2, 2])\n",
      "torch.Size([128, 2, 2])\n",
      "torch.Size([128, 2, 2])\n",
      "torch.Size([128, 2, 2])\n",
      "torch.Size([128, 2, 2])\n",
      "torch.Size([128, 2, 2])\n",
      "torch.Size([128, 2, 2])\n"
     ]
    },
    {
     "name": "stderr",
     "output_type": "stream",
     "text": [
      " 29%|███████████████████████▊                                                         | 66/225 [00:01<00:03, 46.96it/s]"
     ]
    },
    {
     "name": "stdout",
     "output_type": "stream",
     "text": [
      "torch.Size([128, 2, 2])\n",
      "torch.Size([128, 2, 2])\n",
      "torch.Size([128, 2, 2])\n",
      "torch.Size([128, 2, 2])\n",
      "torch.Size([128, 2, 2])\n",
      "torch.Size([128, 2, 2])\n",
      "torch.Size([128, 2, 2])\n",
      "torch.Size([128, 2, 2])\n",
      "torch.Size([128, 2, 2])\n",
      "torch.Size([128, 2, 2])"
     ]
    },
    {
     "name": "stderr",
     "output_type": "stream",
     "text": [
      " 34%|███████████████████████████▎                                                     | 76/225 [00:01<00:03, 47.41it/s]"
     ]
    },
    {
     "name": "stdout",
     "output_type": "stream",
     "text": [
      "\n",
      "torch.Size([128, 2, 2])\n",
      "torch.Size([128, 2, 2])\n",
      "torch.Size([128, 2, 2])\n",
      "torch.Size([128, 2, 2])\n",
      "torch.Size([128, 2, 2])\n",
      "torch.Size([128, 2, 2])\n",
      "torch.Size([128, 2, 2])\n",
      "torch.Size([128, 2, 2])\n",
      "torch.Size([128, 2, 2])"
     ]
    },
    {
     "name": "stderr",
     "output_type": "stream",
     "text": [
      " 38%|██████████████████████████████▉                                                  | 86/225 [00:01<00:02, 47.31it/s]"
     ]
    },
    {
     "name": "stdout",
     "output_type": "stream",
     "text": [
      "\n",
      "torch.Size([128, 2, 2])\n",
      "torch.Size([128, 2, 2])\n",
      "torch.Size([128, 2, 2])\n",
      "torch.Size([128, 2, 2])\n",
      "torch.Size([128, 2, 2])\n",
      "torch.Size([128, 2, 2])\n",
      "torch.Size([128, 2, 2])\n",
      "torch.Size([128, 2, 2])\n",
      "torch.Size([128, 2, 2])"
     ]
    },
    {
     "name": "stderr",
     "output_type": "stream",
     "text": [
      " 43%|██████████████████████████████████▌                                              | 96/225 [00:02<00:02, 47.53it/s]"
     ]
    },
    {
     "name": "stdout",
     "output_type": "stream",
     "text": [
      "\n",
      "torch.Size([128, 2, 2])\n",
      "torch.Size([128, 2, 2])\n",
      "torch.Size([128, 2, 2])\n",
      "torch.Size([128, 2, 2])\n",
      "torch.Size([128, 2, 2])\n",
      "torch.Size([128, 2, 2])\n",
      "torch.Size([128, 2, 2])\n",
      "torch.Size([128, 2, 2])\n",
      "torch.Size([128, 2, 2])"
     ]
    },
    {
     "name": "stderr",
     "output_type": "stream",
     "text": [
      "\r",
      " 45%|███████████████████████████████████▉                                            | 101/225 [00:02<00:02, 47.50it/s]"
     ]
    },
    {
     "name": "stdout",
     "output_type": "stream",
     "text": [
      "\n",
      "torch.Size([128, 2, 2])\n",
      "torch.Size([128, 2, 2])\n",
      "torch.Size([128, 2, 2])\n",
      "torch.Size([128, 2, 2])\n",
      "torch.Size([128, 2, 2])\n",
      "torch.Size([128, 2, 2])\n",
      "torch.Size([128, 2, 2])\n",
      "torch.Size([128, 2, 2])\n"
     ]
    },
    {
     "name": "stderr",
     "output_type": "stream",
     "text": [
      " 49%|███████████████████████████████████████▍                                        | 111/225 [00:02<00:02, 46.82it/s]"
     ]
    },
    {
     "name": "stdout",
     "output_type": "stream",
     "text": [
      "torch.Size([128, 2, 2])\n",
      "torch.Size([128, 2, 2])\n",
      "torch.Size([128, 2, 2])\n",
      "torch.Size([128, 2, 2])\n",
      "torch.Size([128, 2, 2])\n",
      "torch.Size([128, 2, 2])\n",
      "torch.Size([128, 2, 2])\n",
      "torch.Size([128, 2, 2])\n",
      "torch.Size([128, 2, 2])\n",
      "torch.Size([128, 2, 2])"
     ]
    },
    {
     "name": "stderr",
     "output_type": "stream",
     "text": [
      " 54%|███████████████████████████████████████████                                     | 121/225 [00:02<00:02, 46.97it/s]"
     ]
    },
    {
     "name": "stdout",
     "output_type": "stream",
     "text": [
      "\n",
      "torch.Size([128, 2, 2])\n",
      "torch.Size([128, 2, 2])\n",
      "torch.Size([128, 2, 2])\n",
      "torch.Size([128, 2, 2])\n",
      "torch.Size([128, 2, 2])\n",
      "torch.Size([128, 2, 2])\n",
      "torch.Size([128, 2, 2])\n",
      "torch.Size([128, 2, 2])\n",
      "torch.Size([128, 2, 2])"
     ]
    },
    {
     "name": "stderr",
     "output_type": "stream",
     "text": [
      " 58%|██████████████████████████████████████████████▌                                 | 131/225 [00:02<00:02, 46.78it/s]"
     ]
    },
    {
     "name": "stdout",
     "output_type": "stream",
     "text": [
      "\n",
      "torch.Size([128, 2, 2])\n",
      "torch.Size([128, 2, 2])\n",
      "torch.Size([128, 2, 2])\n",
      "torch.Size([128, 2, 2])\n",
      "torch.Size([128, 2, 2])\n",
      "torch.Size([128, 2, 2])\n",
      "torch.Size([128, 2, 2])\n",
      "torch.Size([128, 2, 2])\n",
      "torch.Size([128, 2, 2])"
     ]
    },
    {
     "name": "stderr",
     "output_type": "stream",
     "text": [
      " 63%|██████████████████████████████████████████████████▏                             | 141/225 [00:02<00:01, 46.79it/s]"
     ]
    },
    {
     "name": "stdout",
     "output_type": "stream",
     "text": [
      "\n",
      "torch.Size([128, 2, 2])\n",
      "torch.Size([128, 2, 2])\n",
      "torch.Size([128, 2, 2])\n",
      "torch.Size([128, 2, 2])\n",
      "torch.Size([128, 2, 2])\n",
      "torch.Size([128, 2, 2])\n",
      "torch.Size([128, 2, 2])\n",
      "torch.Size([128, 2, 2])\n",
      "torch.Size([128, 2, 2])"
     ]
    },
    {
     "name": "stderr",
     "output_type": "stream",
     "text": [
      " 67%|█████████████████████████████████████████████████████▋                          | 151/225 [00:03<00:01, 47.11it/s]"
     ]
    },
    {
     "name": "stdout",
     "output_type": "stream",
     "text": [
      "\n",
      "torch.Size([128, 2, 2])\n",
      "torch.Size([128, 2, 2])\n",
      "torch.Size([128, 2, 2])\n",
      "torch.Size([128, 2, 2])\n",
      "torch.Size([128, 2, 2])\n",
      "torch.Size([128, 2, 2])\n",
      "torch.Size([128, 2, 2])\n",
      "torch.Size([128, 2, 2])\n",
      "torch.Size([128, 2, 2])"
     ]
    },
    {
     "name": "stderr",
     "output_type": "stream",
     "text": [
      "\r",
      " 69%|███████████████████████████████████████████████████████▍                        | 156/225 [00:03<00:01, 47.14it/s]"
     ]
    },
    {
     "name": "stdout",
     "output_type": "stream",
     "text": [
      "\n",
      "torch.Size([128, 2, 2])\n",
      "torch.Size([128, 2, 2])\n",
      "torch.Size([128, 2, 2])\n",
      "torch.Size([128, 2, 2])\n",
      "torch.Size([128, 2, 2])\n",
      "torch.Size([128, 2, 2])\n",
      "torch.Size([128, 2, 2])\n",
      "torch.Size([128, 2, 2])\n",
      "torch.Size([128, 2, 2])"
     ]
    },
    {
     "name": "stderr",
     "output_type": "stream",
     "text": [
      " 74%|███████████████████████████████████████████████████████████                     | 166/225 [00:03<00:01, 47.33it/s]"
     ]
    },
    {
     "name": "stdout",
     "output_type": "stream",
     "text": [
      "\n",
      "torch.Size([128, 2, 2])\n",
      "torch.Size([128, 2, 2])\n",
      "torch.Size([128, 2, 2])\n",
      "torch.Size([128, 2, 2])\n",
      "torch.Size([128, 2, 2])\n",
      "torch.Size([128, 2, 2])\n",
      "torch.Size([128, 2, 2])\n",
      "torch.Size([128, 2, 2])\n",
      "torch.Size([128, 2, 2])"
     ]
    },
    {
     "name": "stderr",
     "output_type": "stream",
     "text": [
      " 78%|██████████████████████████████████████████████████████████████▌                 | 176/225 [00:03<00:01, 47.45it/s]"
     ]
    },
    {
     "name": "stdout",
     "output_type": "stream",
     "text": [
      "\n",
      "torch.Size([128, 2, 2])\n",
      "torch.Size([128, 2, 2])\n",
      "torch.Size([128, 2, 2])\n",
      "torch.Size([128, 2, 2])\n",
      "torch.Size([128, 2, 2])\n",
      "torch.Size([128, 2, 2])\n",
      "torch.Size([128, 2, 2])\n",
      "torch.Size([128, 2, 2])\n",
      "torch.Size([128, 2, 2])"
     ]
    },
    {
     "name": "stderr",
     "output_type": "stream",
     "text": [
      " 83%|██████████████████████████████████████████████████████████████████▏             | 186/225 [00:03<00:00, 47.47it/s]"
     ]
    },
    {
     "name": "stdout",
     "output_type": "stream",
     "text": [
      "\n",
      "torch.Size([128, 2, 2])\n",
      "torch.Size([128, 2, 2])\n",
      "torch.Size([128, 2, 2])\n",
      "torch.Size([128, 2, 2])\n",
      "torch.Size([128, 2, 2])\n",
      "torch.Size([128, 2, 2])\n",
      "torch.Size([128, 2, 2])\n",
      "torch.Size([128, 2, 2])\n",
      "torch.Size([128, 2, 2])"
     ]
    },
    {
     "name": "stderr",
     "output_type": "stream",
     "text": [
      "\r",
      " 85%|███████████████████████████████████████████████████████████████████▉            | 191/225 [00:04<00:00, 47.32it/s]"
     ]
    },
    {
     "name": "stdout",
     "output_type": "stream",
     "text": [
      "\n",
      "torch.Size([128, 2, 2])\n",
      "torch.Size([128, 2, 2])\n",
      "torch.Size([128, 2, 2])\n",
      "torch.Size([128, 2, 2])\n",
      "torch.Size([128, 2, 2])\n",
      "torch.Size([128, 2, 2])\n",
      "torch.Size([128, 2, 2])\n",
      "torch.Size([128, 2, 2])\n"
     ]
    },
    {
     "name": "stderr",
     "output_type": "stream",
     "text": [
      " 89%|███████████████████████████████████████████████████████████████████████▍        | 201/225 [00:04<00:00, 46.78it/s]"
     ]
    },
    {
     "name": "stdout",
     "output_type": "stream",
     "text": [
      "torch.Size([128, 2, 2])\n",
      "torch.Size([128, 2, 2])\n",
      "torch.Size([128, 2, 2])\n",
      "torch.Size([128, 2, 2])\n",
      "torch.Size([128, 2, 2])\n",
      "torch.Size([128, 2, 2])\n",
      "torch.Size([128, 2, 2])\n",
      "torch.Size([128, 2, 2])\n",
      "torch.Size([128, 2, 2])\n",
      "torch.Size([128, 2, 2])"
     ]
    },
    {
     "name": "stderr",
     "output_type": "stream",
     "text": [
      " 94%|███████████████████████████████████████████████████████████████████████████     | 211/225 [00:04<00:00, 46.87it/s]"
     ]
    },
    {
     "name": "stdout",
     "output_type": "stream",
     "text": [
      "\n",
      "torch.Size([128, 2, 2])\n",
      "torch.Size([128, 2, 2])\n",
      "torch.Size([128, 2, 2])\n",
      "torch.Size([128, 2, 2])\n",
      "torch.Size([128, 2, 2])\n",
      "torch.Size([128, 2, 2])\n",
      "torch.Size([128, 2, 2])\n",
      "torch.Size([128, 2, 2])\n",
      "torch.Size([128, 2, 2])"
     ]
    },
    {
     "name": "stderr",
     "output_type": "stream",
     "text": [
      " 98%|██████████████████████████████████████████████████████████████████████████████▌ | 221/225 [00:04<00:00, 46.82it/s]"
     ]
    },
    {
     "name": "stdout",
     "output_type": "stream",
     "text": [
      "\n",
      "torch.Size([128, 2, 2])\n",
      "torch.Size([128, 2, 2])\n",
      "torch.Size([128, 2, 2])\n",
      "torch.Size([128, 2, 2])\n",
      "torch.Size([128, 2, 2])\n",
      "torch.Size([128, 2, 2])\n",
      "torch.Size([128, 2, 2])\n",
      "torch.Size([128, 2, 2])\n",
      "torch.Size([128, 2, 2])"
     ]
    },
    {
     "name": "stderr",
     "output_type": "stream",
     "text": [
      "100%|████████████████████████████████████████████████████████████████████████████████| 225/225 [00:04<00:00, 47.21it/s]\n",
      "  3%|██▏                                                                               | 6/225 [00:00<00:04, 50.47it/s]"
     ]
    },
    {
     "name": "stdout",
     "output_type": "stream",
     "text": [
      "\n",
      "torch.Size([128, 2, 2])\n",
      "Epoch: 3. Loss: 0.0908806174993515\n",
      "torch.Size([128, 2, 2])\n",
      "torch.Size([128, 2, 2])\n",
      "torch.Size([128, 2, 2])\n",
      "torch.Size([128, 2, 2])\n",
      "torch.Size([128, 2, 2])\n",
      "torch.Size([128, 2, 2])\n",
      "torch.Size([128, 2, 2])\n",
      "torch.Size([128, 2, 2])\n",
      "torch.Size([128, 2, 2])"
     ]
    },
    {
     "name": "stderr",
     "output_type": "stream",
     "text": [
      "  7%|█████▊                                                                           | 16/225 [00:00<00:04, 48.86it/s]"
     ]
    },
    {
     "name": "stdout",
     "output_type": "stream",
     "text": [
      "\n",
      "torch.Size([128, 2, 2])\n",
      "torch.Size([128, 2, 2])\n",
      "torch.Size([128, 2, 2])\n",
      "torch.Size([128, 2, 2])\n",
      "torch.Size([128, 2, 2])\n",
      "torch.Size([128, 2, 2])\n",
      "torch.Size([128, 2, 2])\n",
      "torch.Size([128, 2, 2])\n",
      "torch.Size([128, 2, 2])"
     ]
    },
    {
     "name": "stderr",
     "output_type": "stream",
     "text": [
      " 12%|█████████▎                                                                       | 26/225 [00:00<00:04, 48.10it/s]"
     ]
    },
    {
     "name": "stdout",
     "output_type": "stream",
     "text": [
      "\n",
      "torch.Size([128, 2, 2])\n",
      "torch.Size([128, 2, 2])\n",
      "torch.Size([128, 2, 2])\n",
      "torch.Size([128, 2, 2])\n",
      "torch.Size([128, 2, 2])\n",
      "torch.Size([128, 2, 2])\n",
      "torch.Size([128, 2, 2])\n",
      "torch.Size([128, 2, 2])\n",
      "torch.Size([128, 2, 2])"
     ]
    },
    {
     "name": "stderr",
     "output_type": "stream",
     "text": [
      "\r",
      " 14%|███████████▏                                                                     | 31/225 [00:00<00:04, 47.83it/s]"
     ]
    },
    {
     "name": "stdout",
     "output_type": "stream",
     "text": [
      "\n",
      "torch.Size([128, 2, 2])\n",
      "torch.Size([128, 2, 2])\n",
      "torch.Size([128, 2, 2])\n",
      "torch.Size([128, 2, 2])\n",
      "torch.Size([128, 2, 2])\n",
      "torch.Size([128, 2, 2])\n",
      "torch.Size([128, 2, 2])\n",
      "torch.Size([128, 2, 2])\n",
      "torch.Size([128, 2, 2])"
     ]
    },
    {
     "name": "stderr",
     "output_type": "stream",
     "text": [
      " 18%|██████████████▊                                                                  | 41/225 [00:00<00:03, 47.58it/s]"
     ]
    },
    {
     "name": "stdout",
     "output_type": "stream",
     "text": [
      "\n",
      "torch.Size([128, 2, 2])\n",
      "torch.Size([128, 2, 2])\n",
      "torch.Size([128, 2, 2])\n",
      "torch.Size([128, 2, 2])\n",
      "torch.Size([128, 2, 2])\n",
      "torch.Size([128, 2, 2])\n",
      "torch.Size([128, 2, 2])\n",
      "torch.Size([128, 2, 2])\n",
      "torch.Size([128, 2, 2])"
     ]
    },
    {
     "name": "stderr",
     "output_type": "stream",
     "text": [
      " 23%|██████████████████▎                                                              | 51/225 [00:01<00:03, 47.21it/s]"
     ]
    },
    {
     "name": "stdout",
     "output_type": "stream",
     "text": [
      "\n",
      "torch.Size([128, 2, 2])\n",
      "torch.Size([128, 2, 2])\n",
      "torch.Size([128, 2, 2])\n",
      "torch.Size([128, 2, 2])\n",
      "torch.Size([128, 2, 2])\n",
      "torch.Size([128, 2, 2])\n",
      "torch.Size([128, 2, 2])\n",
      "torch.Size([128, 2, 2])\n",
      "torch.Size([128, 2, 2])"
     ]
    },
    {
     "name": "stderr",
     "output_type": "stream",
     "text": [
      " 27%|█████████████████████▉                                                           | 61/225 [00:01<00:03, 47.44it/s]"
     ]
    },
    {
     "name": "stdout",
     "output_type": "stream",
     "text": [
      "\n",
      "torch.Size([128, 2, 2])\n",
      "torch.Size([128, 2, 2])\n",
      "torch.Size([128, 2, 2])\n",
      "torch.Size([128, 2, 2])\n",
      "torch.Size([128, 2, 2])\n",
      "torch.Size([128, 2, 2])\n",
      "torch.Size([128, 2, 2])\n",
      "torch.Size([128, 2, 2])\n",
      "torch.Size([128, 2, 2])"
     ]
    },
    {
     "name": "stderr",
     "output_type": "stream",
     "text": [
      " 32%|█████████████████████████▌                                                       | 71/225 [00:01<00:03, 47.37it/s]"
     ]
    },
    {
     "name": "stdout",
     "output_type": "stream",
     "text": [
      "\n",
      "torch.Size([128, 2, 2])\n",
      "torch.Size([128, 2, 2])\n",
      "torch.Size([128, 2, 2])\n",
      "torch.Size([128, 2, 2])\n",
      "torch.Size([128, 2, 2])\n",
      "torch.Size([128, 2, 2])\n",
      "torch.Size([128, 2, 2])\n",
      "torch.Size([128, 2, 2])\n",
      "torch.Size([128, 2, 2])"
     ]
    },
    {
     "name": "stderr",
     "output_type": "stream",
     "text": [
      "\r",
      " 34%|███████████████████████████▎                                                     | 76/225 [00:01<00:03, 47.26it/s]"
     ]
    },
    {
     "name": "stdout",
     "output_type": "stream",
     "text": [
      "\n",
      "torch.Size([128, 2, 2])\n",
      "torch.Size([128, 2, 2])\n",
      "torch.Size([128, 2, 2])\n",
      "torch.Size([128, 2, 2])\n",
      "torch.Size([128, 2, 2])\n",
      "torch.Size([128, 2, 2])\n",
      "torch.Size([128, 2, 2])\n",
      "torch.Size([128, 2, 2])\n",
      "torch.Size([128, 2, 2])"
     ]
    },
    {
     "name": "stderr",
     "output_type": "stream",
     "text": [
      " 38%|██████████████████████████████▉                                                  | 86/225 [00:01<00:02, 47.06it/s]"
     ]
    },
    {
     "name": "stdout",
     "output_type": "stream",
     "text": [
      "\n",
      "torch.Size([128, 2, 2])\n",
      "torch.Size([128, 2, 2])\n",
      "torch.Size([128, 2, 2])\n",
      "torch.Size([128, 2, 2])\n",
      "torch.Size([128, 2, 2])\n",
      "torch.Size([128, 2, 2])\n",
      "torch.Size([128, 2, 2])\n",
      "torch.Size([128, 2, 2])\n",
      "torch.Size([128, 2, 2])"
     ]
    },
    {
     "name": "stderr",
     "output_type": "stream",
     "text": [
      " 43%|██████████████████████████████████▌                                              | 96/225 [00:02<00:02, 47.22it/s]"
     ]
    },
    {
     "name": "stdout",
     "output_type": "stream",
     "text": [
      "\n",
      "torch.Size([128, 2, 2])\n",
      "torch.Size([128, 2, 2])\n",
      "torch.Size([128, 2, 2])\n",
      "torch.Size([128, 2, 2])\n",
      "torch.Size([128, 2, 2])\n",
      "torch.Size([128, 2, 2])\n",
      "torch.Size([128, 2, 2])\n",
      "torch.Size([128, 2, 2])\n",
      "torch.Size([128, 2, 2])"
     ]
    },
    {
     "name": "stderr",
     "output_type": "stream",
     "text": [
      " 47%|█████████████████████████████████████▋                                          | 106/225 [00:02<00:02, 47.13it/s]"
     ]
    },
    {
     "name": "stdout",
     "output_type": "stream",
     "text": [
      "\n",
      "torch.Size([128, 2, 2])\n",
      "torch.Size([128, 2, 2])\n",
      "torch.Size([128, 2, 2])\n",
      "torch.Size([128, 2, 2])\n",
      "torch.Size([128, 2, 2])\n",
      "torch.Size([128, 2, 2])\n",
      "torch.Size([128, 2, 2])\n",
      "torch.Size([128, 2, 2])\n",
      "torch.Size([128, 2, 2])"
     ]
    },
    {
     "name": "stderr",
     "output_type": "stream",
     "text": [
      "\r",
      " 49%|███████████████████████████████████████▍                                        | 111/225 [00:02<00:02, 47.02it/s]"
     ]
    },
    {
     "name": "stdout",
     "output_type": "stream",
     "text": [
      "\n",
      "torch.Size([128, 2, 2])\n",
      "torch.Size([128, 2, 2])\n",
      "torch.Size([128, 2, 2])\n",
      "torch.Size([128, 2, 2])\n",
      "torch.Size([128, 2, 2])\n",
      "torch.Size([128, 2, 2])\n",
      "torch.Size([128, 2, 2])\n",
      "torch.Size([128, 2, 2])\n"
     ]
    },
    {
     "name": "stderr",
     "output_type": "stream",
     "text": [
      " 54%|███████████████████████████████████████████                                     | 121/225 [00:02<00:02, 46.54it/s]"
     ]
    },
    {
     "name": "stdout",
     "output_type": "stream",
     "text": [
      "torch.Size([128, 2, 2])\n",
      "torch.Size([128, 2, 2])\n",
      "torch.Size([128, 2, 2])\n",
      "torch.Size([128, 2, 2])\n",
      "torch.Size([128, 2, 2])\n",
      "torch.Size([128, 2, 2])\n",
      "torch.Size([128, 2, 2])\n",
      "torch.Size([128, 2, 2])\n",
      "torch.Size([128, 2, 2])\n",
      "torch.Size([128, 2, 2])"
     ]
    },
    {
     "name": "stderr",
     "output_type": "stream",
     "text": [
      " 58%|██████████████████████████████████████████████▌                                 | 131/225 [00:02<00:02, 46.75it/s]"
     ]
    },
    {
     "name": "stdout",
     "output_type": "stream",
     "text": [
      "\n",
      "torch.Size([128, 2, 2])\n",
      "torch.Size([128, 2, 2])\n",
      "torch.Size([128, 2, 2])\n",
      "torch.Size([128, 2, 2])\n",
      "torch.Size([128, 2, 2])\n",
      "torch.Size([128, 2, 2])\n",
      "torch.Size([128, 2, 2])\n",
      "torch.Size([128, 2, 2])\n",
      "torch.Size([128, 2, 2])"
     ]
    },
    {
     "name": "stderr",
     "output_type": "stream",
     "text": [
      " 63%|██████████████████████████████████████████████████▏                             | 141/225 [00:02<00:01, 46.94it/s]"
     ]
    },
    {
     "name": "stdout",
     "output_type": "stream",
     "text": [
      "\n",
      "torch.Size([128, 2, 2])\n",
      "torch.Size([128, 2, 2])\n",
      "torch.Size([128, 2, 2])\n",
      "torch.Size([128, 2, 2])\n",
      "torch.Size([128, 2, 2])\n",
      "torch.Size([128, 2, 2])\n",
      "torch.Size([128, 2, 2])\n",
      "torch.Size([128, 2, 2])\n",
      "torch.Size([128, 2, 2])"
     ]
    },
    {
     "name": "stderr",
     "output_type": "stream",
     "text": [
      " 67%|█████████████████████████████████████████████████████▋                          | 151/225 [00:03<00:01, 47.03it/s]"
     ]
    },
    {
     "name": "stdout",
     "output_type": "stream",
     "text": [
      "\n",
      "torch.Size([128, 2, 2])\n",
      "torch.Size([128, 2, 2])\n",
      "torch.Size([128, 2, 2])\n",
      "torch.Size([128, 2, 2])\n",
      "torch.Size([128, 2, 2])\n",
      "torch.Size([128, 2, 2])\n",
      "torch.Size([128, 2, 2])\n",
      "torch.Size([128, 2, 2])\n",
      "torch.Size([128, 2, 2])"
     ]
    },
    {
     "name": "stderr",
     "output_type": "stream",
     "text": [
      " 72%|█████████████████████████████████████████████████████████▏                      | 161/225 [00:03<00:01, 47.08it/s]"
     ]
    },
    {
     "name": "stdout",
     "output_type": "stream",
     "text": [
      "\n",
      "torch.Size([128, 2, 2])\n",
      "torch.Size([128, 2, 2])\n",
      "torch.Size([128, 2, 2])\n",
      "torch.Size([128, 2, 2])\n",
      "torch.Size([128, 2, 2])\n",
      "torch.Size([128, 2, 2])\n",
      "torch.Size([128, 2, 2])\n",
      "torch.Size([128, 2, 2])\n",
      "torch.Size([128, 2, 2])"
     ]
    },
    {
     "name": "stderr",
     "output_type": "stream",
     "text": [
      "\r",
      " 74%|███████████████████████████████████████████████████████████                     | 166/225 [00:03<00:01, 47.12it/s]"
     ]
    },
    {
     "name": "stdout",
     "output_type": "stream",
     "text": [
      "\n",
      "torch.Size([128, 2, 2])\n",
      "torch.Size([128, 2, 2])\n",
      "torch.Size([128, 2, 2])\n",
      "torch.Size([128, 2, 2])\n",
      "torch.Size([128, 2, 2])\n",
      "torch.Size([128, 2, 2])\n",
      "torch.Size([128, 2, 2])\n",
      "torch.Size([128, 2, 2])\n",
      "torch.Size([128, 2, 2])"
     ]
    },
    {
     "name": "stderr",
     "output_type": "stream",
     "text": [
      " 78%|██████████████████████████████████████████████████████████████▌                 | 176/225 [00:03<00:01, 47.36it/s]"
     ]
    },
    {
     "name": "stdout",
     "output_type": "stream",
     "text": [
      "\n",
      "torch.Size([128, 2, 2])\n",
      "torch.Size([128, 2, 2])\n",
      "torch.Size([128, 2, 2])\n",
      "torch.Size([128, 2, 2])\n",
      "torch.Size([128, 2, 2])\n",
      "torch.Size([128, 2, 2])\n",
      "torch.Size([128, 2, 2])\n",
      "torch.Size([128, 2, 2])\n",
      "torch.Size([128, 2, 2])"
     ]
    },
    {
     "name": "stderr",
     "output_type": "stream",
     "text": [
      " 83%|██████████████████████████████████████████████████████████████████▏             | 186/225 [00:03<00:00, 47.33it/s]"
     ]
    },
    {
     "name": "stdout",
     "output_type": "stream",
     "text": [
      "\n",
      "torch.Size([128, 2, 2])\n",
      "torch.Size([128, 2, 2])\n",
      "torch.Size([128, 2, 2])\n",
      "torch.Size([128, 2, 2])\n",
      "torch.Size([128, 2, 2])\n",
      "torch.Size([128, 2, 2])\n",
      "torch.Size([128, 2, 2])\n",
      "torch.Size([128, 2, 2])\n",
      "torch.Size([128, 2, 2])"
     ]
    },
    {
     "name": "stderr",
     "output_type": "stream",
     "text": [
      " 87%|█████████████████████████████████████████████████████████████████████▋          | 196/225 [00:04<00:00, 47.37it/s]"
     ]
    },
    {
     "name": "stdout",
     "output_type": "stream",
     "text": [
      "\n",
      "torch.Size([128, 2, 2])\n",
      "torch.Size([128, 2, 2])\n",
      "torch.Size([128, 2, 2])\n",
      "torch.Size([128, 2, 2])\n",
      "torch.Size([128, 2, 2])\n",
      "torch.Size([128, 2, 2])\n",
      "torch.Size([128, 2, 2])\n",
      "torch.Size([128, 2, 2])\n",
      "torch.Size([128, 2, 2])"
     ]
    },
    {
     "name": "stderr",
     "output_type": "stream",
     "text": [
      "\r",
      " 89%|███████████████████████████████████████████████████████████████████████▍        | 201/225 [00:04<00:00, 47.32it/s]"
     ]
    },
    {
     "name": "stdout",
     "output_type": "stream",
     "text": [
      "\n",
      "torch.Size([128, 2, 2])\n",
      "torch.Size([128, 2, 2])\n",
      "torch.Size([128, 2, 2])\n",
      "torch.Size([128, 2, 2])\n",
      "torch.Size([128, 2, 2])\n",
      "torch.Size([128, 2, 2])\n",
      "torch.Size([128, 2, 2])\n",
      "torch.Size([128, 2, 2])\n"
     ]
    },
    {
     "name": "stderr",
     "output_type": "stream",
     "text": [
      " 94%|███████████████████████████████████████████████████████████████████████████     | 211/225 [00:04<00:00, 46.96it/s]"
     ]
    },
    {
     "name": "stdout",
     "output_type": "stream",
     "text": [
      "torch.Size([128, 2, 2])\n",
      "torch.Size([128, 2, 2])\n",
      "torch.Size([128, 2, 2])\n",
      "torch.Size([128, 2, 2])\n",
      "torch.Size([128, 2, 2])\n",
      "torch.Size([128, 2, 2])\n",
      "torch.Size([128, 2, 2])\n",
      "torch.Size([128, 2, 2])\n",
      "torch.Size([128, 2, 2])\n",
      "torch.Size([128, 2, 2])"
     ]
    },
    {
     "name": "stderr",
     "output_type": "stream",
     "text": [
      " 98%|██████████████████████████████████████████████████████████████████████████████▌ | 221/225 [00:04<00:00, 46.51it/s]"
     ]
    },
    {
     "name": "stdout",
     "output_type": "stream",
     "text": [
      "\n",
      "torch.Size([128, 2, 2])\n",
      "torch.Size([128, 2, 2])\n",
      "torch.Size([128, 2, 2])\n",
      "torch.Size([128, 2, 2])\n",
      "torch.Size([128, 2, 2])\n",
      "torch.Size([128, 2, 2])\n",
      "torch.Size([128, 2, 2])\n",
      "torch.Size([128, 2, 2])\n",
      "torch.Size([128, 2, 2])"
     ]
    },
    {
     "name": "stderr",
     "output_type": "stream",
     "text": [
      "100%|████████████████████████████████████████████████████████████████████████████████| 225/225 [00:04<00:00, 47.16it/s]\n",
      "  3%|██▏                                                                               | 6/225 [00:00<00:04, 50.05it/s]"
     ]
    },
    {
     "name": "stdout",
     "output_type": "stream",
     "text": [
      "\n",
      "Epoch: 4. Loss: 0.09060210734605789\n",
      "torch.Size([128, 2, 2])\n",
      "torch.Size([128, 2, 2])\n",
      "torch.Size([128, 2, 2])\n",
      "torch.Size([128, 2, 2])\n",
      "torch.Size([128, 2, 2])\n",
      "torch.Size([128, 2, 2])\n",
      "torch.Size([128, 2, 2])\n",
      "torch.Size([128, 2, 2])\n",
      "torch.Size([128, 2, 2])"
     ]
    },
    {
     "name": "stderr",
     "output_type": "stream",
     "text": [
      "  7%|█████▊                                                                           | 16/225 [00:00<00:04, 48.33it/s]"
     ]
    },
    {
     "name": "stdout",
     "output_type": "stream",
     "text": [
      "\n",
      "torch.Size([128, 2, 2])\n",
      "torch.Size([128, 2, 2])\n",
      "torch.Size([128, 2, 2])\n",
      "torch.Size([128, 2, 2])\n",
      "torch.Size([128, 2, 2])\n",
      "torch.Size([128, 2, 2])\n",
      "torch.Size([128, 2, 2])\n",
      "torch.Size([128, 2, 2])\n",
      "torch.Size([128, 2, 2])"
     ]
    },
    {
     "name": "stderr",
     "output_type": "stream",
     "text": [
      " 12%|█████████▎                                                                       | 26/225 [00:00<00:04, 47.49it/s]"
     ]
    },
    {
     "name": "stdout",
     "output_type": "stream",
     "text": [
      "\n",
      "torch.Size([128, 2, 2])\n",
      "torch.Size([128, 2, 2])\n",
      "torch.Size([128, 2, 2])\n",
      "torch.Size([128, 2, 2])\n",
      "torch.Size([128, 2, 2])\n",
      "torch.Size([128, 2, 2])\n",
      "torch.Size([128, 2, 2])\n",
      "torch.Size([128, 2, 2])\n",
      "torch.Size([128, 2, 2])"
     ]
    },
    {
     "name": "stderr",
     "output_type": "stream",
     "text": [
      "\r",
      " 14%|███████████▏                                                                     | 31/225 [00:00<00:04, 47.28it/s]"
     ]
    },
    {
     "name": "stdout",
     "output_type": "stream",
     "text": [
      "\n",
      "torch.Size([128, 2, 2])\n",
      "torch.Size([128, 2, 2])\n",
      "torch.Size([128, 2, 2])\n",
      "torch.Size([128, 2, 2])\n",
      "torch.Size([128, 2, 2])\n",
      "torch.Size([128, 2, 2])\n",
      "torch.Size([128, 2, 2])\n",
      "torch.Size([128, 2, 2])\n",
      "torch.Size([128, 2, 2])"
     ]
    },
    {
     "name": "stderr",
     "output_type": "stream",
     "text": [
      " 18%|██████████████▊                                                                  | 41/225 [00:00<00:03, 47.34it/s]"
     ]
    },
    {
     "name": "stdout",
     "output_type": "stream",
     "text": [
      "\n",
      "torch.Size([128, 2, 2])\n",
      "torch.Size([128, 2, 2])\n",
      "torch.Size([128, 2, 2])\n",
      "torch.Size([128, 2, 2])\n",
      "torch.Size([128, 2, 2])\n",
      "torch.Size([128, 2, 2])\n",
      "torch.Size([128, 2, 2])\n",
      "torch.Size([128, 2, 2])\n",
      "torch.Size([128, 2, 2])"
     ]
    },
    {
     "name": "stderr",
     "output_type": "stream",
     "text": [
      " 23%|██████████████████▎                                                              | 51/225 [00:01<00:03, 47.44it/s]"
     ]
    },
    {
     "name": "stdout",
     "output_type": "stream",
     "text": [
      "\n",
      "torch.Size([128, 2, 2])\n",
      "torch.Size([128, 2, 2])\n",
      "torch.Size([128, 2, 2])\n",
      "torch.Size([128, 2, 2])\n",
      "torch.Size([128, 2, 2])\n",
      "torch.Size([128, 2, 2])\n",
      "torch.Size([128, 2, 2])\n",
      "torch.Size([128, 2, 2])\n",
      "torch.Size([128, 2, 2])"
     ]
    },
    {
     "name": "stderr",
     "output_type": "stream",
     "text": [
      " 27%|█████████████████████▉                                                           | 61/225 [00:01<00:03, 47.38it/s]"
     ]
    },
    {
     "name": "stdout",
     "output_type": "stream",
     "text": [
      "\n",
      "torch.Size([128, 2, 2])\n",
      "torch.Size([128, 2, 2])\n",
      "torch.Size([128, 2, 2])\n",
      "torch.Size([128, 2, 2])\n",
      "torch.Size([128, 2, 2])\n",
      "torch.Size([128, 2, 2])\n",
      "torch.Size([128, 2, 2])\n",
      "torch.Size([128, 2, 2])\n",
      "torch.Size([128, 2, 2])"
     ]
    },
    {
     "name": "stderr",
     "output_type": "stream",
     "text": [
      " 32%|█████████████████████████▌                                                       | 71/225 [00:01<00:03, 47.58it/s]"
     ]
    },
    {
     "name": "stdout",
     "output_type": "stream",
     "text": [
      "\n",
      "torch.Size([128, 2, 2])\n",
      "torch.Size([128, 2, 2])\n",
      "torch.Size([128, 2, 2])\n",
      "torch.Size([128, 2, 2])\n",
      "torch.Size([128, 2, 2])\n",
      "torch.Size([128, 2, 2])\n",
      "torch.Size([128, 2, 2])\n",
      "torch.Size([128, 2, 2])\n",
      "torch.Size([128, 2, 2])"
     ]
    },
    {
     "name": "stderr",
     "output_type": "stream",
     "text": [
      "\r",
      " 34%|███████████████████████████▎                                                     | 76/225 [00:01<00:03, 47.35it/s]"
     ]
    },
    {
     "name": "stdout",
     "output_type": "stream",
     "text": [
      "\n",
      "torch.Size([128, 2, 2])\n",
      "torch.Size([128, 2, 2])\n",
      "torch.Size([128, 2, 2])\n",
      "torch.Size([128, 2, 2])\n",
      "torch.Size([128, 2, 2])\n",
      "torch.Size([128, 2, 2])\n",
      "torch.Size([128, 2, 2])\n",
      "torch.Size([128, 2, 2])\n",
      "torch.Size([128, 2, 2])"
     ]
    },
    {
     "name": "stderr",
     "output_type": "stream",
     "text": [
      " 38%|██████████████████████████████▉                                                  | 86/225 [00:01<00:02, 47.38it/s]"
     ]
    },
    {
     "name": "stdout",
     "output_type": "stream",
     "text": [
      "\n",
      "torch.Size([128, 2, 2])\n",
      "torch.Size([128, 2, 2])\n",
      "torch.Size([128, 2, 2])\n",
      "torch.Size([128, 2, 2])\n",
      "torch.Size([128, 2, 2])\n",
      "torch.Size([128, 2, 2])\n",
      "torch.Size([128, 2, 2])\n",
      "torch.Size([128, 2, 2])\n",
      "torch.Size([128, 2, 2])"
     ]
    },
    {
     "name": "stderr",
     "output_type": "stream",
     "text": [
      " 43%|██████████████████████████████████▌                                              | 96/225 [00:02<00:02, 47.40it/s]"
     ]
    },
    {
     "name": "stdout",
     "output_type": "stream",
     "text": [
      "\n",
      "torch.Size([128, 2, 2])\n",
      "torch.Size([128, 2, 2])\n",
      "torch.Size([128, 2, 2])\n",
      "torch.Size([128, 2, 2])\n",
      "torch.Size([128, 2, 2])\n",
      "torch.Size([128, 2, 2])\n",
      "torch.Size([128, 2, 2])\n",
      "torch.Size([128, 2, 2])\n",
      "torch.Size([128, 2, 2])"
     ]
    },
    {
     "name": "stderr",
     "output_type": "stream",
     "text": [
      " 47%|█████████████████████████████████████▋                                          | 106/225 [00:02<00:02, 47.35it/s]"
     ]
    },
    {
     "name": "stdout",
     "output_type": "stream",
     "text": [
      "\n",
      "torch.Size([128, 2, 2])\n",
      "torch.Size([128, 2, 2])\n",
      "torch.Size([128, 2, 2])\n",
      "torch.Size([128, 2, 2])\n",
      "torch.Size([128, 2, 2])\n",
      "torch.Size([128, 2, 2])\n",
      "torch.Size([128, 2, 2])\n",
      "torch.Size([128, 2, 2])\n",
      "torch.Size([128, 2, 2])"
     ]
    },
    {
     "name": "stderr",
     "output_type": "stream",
     "text": [
      "\r",
      " 49%|███████████████████████████████████████▍                                        | 111/225 [00:02<00:02, 47.18it/s]"
     ]
    },
    {
     "name": "stdout",
     "output_type": "stream",
     "text": [
      "\n",
      "torch.Size([128, 2, 2])\n",
      "torch.Size([128, 2, 2])\n",
      "torch.Size([128, 2, 2])\n",
      "torch.Size([128, 2, 2])\n",
      "torch.Size([128, 2, 2])\n",
      "torch.Size([128, 2, 2])\n",
      "torch.Size([128, 2, 2])\n",
      "torch.Size([128, 2, 2])\n"
     ]
    },
    {
     "name": "stderr",
     "output_type": "stream",
     "text": [
      " 54%|███████████████████████████████████████████▍                                    | 122/225 [00:02<00:02, 46.84it/s]"
     ]
    },
    {
     "name": "stdout",
     "output_type": "stream",
     "text": [
      "torch.Size([128, 2, 2])\n",
      "torch.Size([128, 2, 2])\n",
      "torch.Size([128, 2, 2])\n",
      "torch.Size([128, 2, 2])\n",
      "torch.Size([128, 2, 2])\n",
      "torch.Size([128, 2, 2])\n",
      "torch.Size([128, 2, 2])\n",
      "torch.Size([128, 2, 2])\n",
      "torch.Size([128, 2, 2])\n",
      "torch.Size([128, 2, 2])"
     ]
    },
    {
     "name": "stderr",
     "output_type": "stream",
     "text": [
      " 59%|██████████████████████████████████████████████▉                                 | 132/225 [00:02<00:01, 47.13it/s]"
     ]
    },
    {
     "name": "stdout",
     "output_type": "stream",
     "text": [
      "\n",
      "torch.Size([128, 2, 2])\n",
      "torch.Size([128, 2, 2])\n",
      "torch.Size([128, 2, 2])\n",
      "torch.Size([128, 2, 2])\n",
      "torch.Size([128, 2, 2])\n",
      "torch.Size([128, 2, 2])\n",
      "torch.Size([128, 2, 2])\n",
      "torch.Size([128, 2, 2])\n",
      "torch.Size([128, 2, 2])"
     ]
    },
    {
     "name": "stderr",
     "output_type": "stream",
     "text": [
      "\r",
      " 61%|████████████████████████████████████████████████▋                               | 137/225 [00:02<00:01, 47.15it/s]"
     ]
    },
    {
     "name": "stdout",
     "output_type": "stream",
     "text": [
      "\n",
      "torch.Size([128, 2, 2])\n",
      "torch.Size([128, 2, 2])\n",
      "torch.Size([128, 2, 2])\n",
      "torch.Size([128, 2, 2])\n",
      "torch.Size([128, 2, 2])\n",
      "torch.Size([128, 2, 2])\n",
      "torch.Size([128, 2, 2])\n"
     ]
    },
    {
     "name": "stderr",
     "output_type": "stream",
     "text": [
      " 65%|████████████████████████████████████████████████████▎                           | 147/225 [00:03<00:01, 45.89it/s]"
     ]
    },
    {
     "name": "stdout",
     "output_type": "stream",
     "text": [
      "torch.Size([128, 2, 2])\n",
      "torch.Size([128, 2, 2])\n",
      "torch.Size([128, 2, 2])\n",
      "torch.Size([128, 2, 2])\n",
      "torch.Size([128, 2, 2])\n",
      "torch.Size([128, 2, 2])\n",
      "torch.Size([128, 2, 2])\n",
      "torch.Size([128, 2, 2])\n",
      "torch.Size([128, 2, 2])\n",
      "torch.Size([128, 2, 2])"
     ]
    },
    {
     "name": "stderr",
     "output_type": "stream",
     "text": [
      " 70%|███████████████████████████████████████████████████████▊                        | 157/225 [00:03<00:01, 46.95it/s]"
     ]
    },
    {
     "name": "stdout",
     "output_type": "stream",
     "text": [
      "\n",
      "torch.Size([128, 2, 2])\n",
      "torch.Size([128, 2, 2])\n",
      "torch.Size([128, 2, 2])\n",
      "torch.Size([128, 2, 2])\n",
      "torch.Size([128, 2, 2])\n",
      "torch.Size([128, 2, 2])\n",
      "torch.Size([128, 2, 2])\n",
      "torch.Size([128, 2, 2])\n",
      "torch.Size([128, 2, 2])"
     ]
    },
    {
     "name": "stderr",
     "output_type": "stream",
     "text": [
      " 74%|███████████████████████████████████████████████████████████▍                    | 167/225 [00:03<00:01, 45.54it/s]"
     ]
    },
    {
     "name": "stdout",
     "output_type": "stream",
     "text": [
      "\n",
      "torch.Size([128, 2, 2])\n",
      "torch.Size([128, 2, 2])\n",
      "torch.Size([128, 2, 2])\n",
      "torch.Size([128, 2, 2])\n",
      "torch.Size([128, 2, 2])\n",
      "torch.Size([128, 2, 2])\n",
      "torch.Size([128, 2, 2])\n",
      "torch.Size([128, 2, 2])\n",
      "torch.Size([128, 2, 2])"
     ]
    },
    {
     "name": "stderr",
     "output_type": "stream",
     "text": [
      " 79%|██████████████████████████████████████████████████████████████▉                 | 177/225 [00:03<00:01, 46.51it/s]"
     ]
    },
    {
     "name": "stdout",
     "output_type": "stream",
     "text": [
      "\n",
      "torch.Size([128, 2, 2])\n",
      "torch.Size([128, 2, 2])\n",
      "torch.Size([128, 2, 2])\n",
      "torch.Size([128, 2, 2])\n",
      "torch.Size([128, 2, 2])\n",
      "torch.Size([128, 2, 2])\n",
      "torch.Size([128, 2, 2])\n",
      "torch.Size([128, 2, 2])\n",
      "torch.Size([128, 2, 2])"
     ]
    },
    {
     "name": "stderr",
     "output_type": "stream",
     "text": [
      " 83%|██████████████████████████████████████████████████████████████████▍             | 187/225 [00:03<00:00, 46.93it/s]"
     ]
    },
    {
     "name": "stdout",
     "output_type": "stream",
     "text": [
      "\n",
      "torch.Size([128, 2, 2])\n",
      "torch.Size([128, 2, 2])\n",
      "torch.Size([128, 2, 2])\n",
      "torch.Size([128, 2, 2])\n",
      "torch.Size([128, 2, 2])\n",
      "torch.Size([128, 2, 2])\n",
      "torch.Size([128, 2, 2])\n",
      "torch.Size([128, 2, 2])\n",
      "torch.Size([128, 2, 2])"
     ]
    },
    {
     "name": "stderr",
     "output_type": "stream",
     "text": [
      "\r",
      " 85%|████████████████████████████████████████████████████████████████████▎           | 192/225 [00:04<00:00, 46.89it/s]"
     ]
    },
    {
     "name": "stdout",
     "output_type": "stream",
     "text": [
      "\n",
      "torch.Size([128, 2, 2])\n",
      "torch.Size([128, 2, 2])\n",
      "torch.Size([128, 2, 2])\n",
      "torch.Size([128, 2, 2])\n",
      "torch.Size([128, 2, 2])\n",
      "torch.Size([128, 2, 2])\n",
      "torch.Size([128, 2, 2])\n",
      "torch.Size([128, 2, 2])\n",
      "torch.Size([128, 2, 2])"
     ]
    },
    {
     "name": "stderr",
     "output_type": "stream",
     "text": [
      " 90%|███████████████████████████████████████████████████████████████████████▊        | 202/225 [00:04<00:00, 47.05it/s]"
     ]
    },
    {
     "name": "stdout",
     "output_type": "stream",
     "text": [
      "\n",
      "torch.Size([128, 2, 2])\n",
      "torch.Size([128, 2, 2])\n",
      "torch.Size([128, 2, 2])\n",
      "torch.Size([128, 2, 2])\n",
      "torch.Size([128, 2, 2])\n",
      "torch.Size([128, 2, 2])\n",
      "torch.Size([128, 2, 2])\n",
      "torch.Size([128, 2, 2])\n",
      "torch.Size([128, 2, 2])"
     ]
    },
    {
     "name": "stderr",
     "output_type": "stream",
     "text": [
      " 94%|███████████████████████████████████████████████████████████████████████████▍    | 212/225 [00:04<00:00, 46.53it/s]"
     ]
    },
    {
     "name": "stdout",
     "output_type": "stream",
     "text": [
      "\n",
      "torch.Size([128, 2, 2])\n",
      "torch.Size([128, 2, 2])\n",
      "torch.Size([128, 2, 2])\n",
      "torch.Size([128, 2, 2])\n",
      "torch.Size([128, 2, 2])\n",
      "torch.Size([128, 2, 2])\n",
      "torch.Size([128, 2, 2])\n",
      "torch.Size([128, 2, 2])"
     ]
    },
    {
     "name": "stderr",
     "output_type": "stream",
     "text": [
      " 99%|██████████████████████████████████████████████████████████████████████████████▉ | 222/225 [00:04<00:00, 47.01it/s]"
     ]
    },
    {
     "name": "stdout",
     "output_type": "stream",
     "text": [
      "\n",
      "torch.Size([128, 2, 2])\n",
      "torch.Size([128, 2, 2])\n",
      "torch.Size([128, 2, 2])\n",
      "torch.Size([128, 2, 2])\n",
      "torch.Size([128, 2, 2])\n",
      "torch.Size([128, 2, 2])\n",
      "torch.Size([128, 2, 2])\n",
      "torch.Size([128, 2, 2])\n",
      "torch.Size([128, 2, 2])"
     ]
    },
    {
     "name": "stderr",
     "output_type": "stream",
     "text": [
      "100%|████████████████████████████████████████████████████████████████████████████████| 225/225 [00:04<00:00, 46.94it/s]\n",
      "  3%|██▏                                                                               | 6/225 [00:00<00:04, 50.47it/s]"
     ]
    },
    {
     "name": "stdout",
     "output_type": "stream",
     "text": [
      "\n",
      "torch.Size([128, 2, 2])\n",
      "torch.Size([128, 2, 2])\n",
      "Epoch: 5. Loss: 0.09845709055662155\n",
      "torch.Size([128, 2, 2])\n",
      "torch.Size([128, 2, 2])\n",
      "torch.Size([128, 2, 2])\n",
      "torch.Size([128, 2, 2])\n",
      "torch.Size([128, 2, 2])\n",
      "torch.Size([128, 2, 2])\n",
      "torch.Size([128, 2, 2])"
     ]
    },
    {
     "name": "stderr",
     "output_type": "stream",
     "text": [
      "\r",
      "  5%|███▉                                                                             | 11/225 [00:00<00:04, 49.16it/s]"
     ]
    },
    {
     "name": "stdout",
     "output_type": "stream",
     "text": [
      "\n",
      "torch.Size([128, 2, 2])\n",
      "torch.Size([128, 2, 2])\n",
      "torch.Size([128, 2, 2])\n",
      "torch.Size([128, 2, 2])\n",
      "torch.Size([128, 2, 2])\n",
      "torch.Size([128, 2, 2])\n",
      "torch.Size([128, 2, 2])\n",
      "torch.Size([128, 2, 2])\n",
      "torch.Size([128, 2, 2])"
     ]
    },
    {
     "name": "stderr",
     "output_type": "stream",
     "text": [
      "  9%|███████▌                                                                         | 21/225 [00:00<00:04, 47.98it/s]"
     ]
    },
    {
     "name": "stdout",
     "output_type": "stream",
     "text": [
      "\n",
      "torch.Size([128, 2, 2])\n",
      "torch.Size([128, 2, 2])\n",
      "torch.Size([128, 2, 2])\n",
      "torch.Size([128, 2, 2])\n",
      "torch.Size([128, 2, 2])\n",
      "torch.Size([128, 2, 2])\n",
      "torch.Size([128, 2, 2])\n",
      "torch.Size([128, 2, 2])\n",
      "torch.Size([128, 2, 2])"
     ]
    },
    {
     "name": "stderr",
     "output_type": "stream",
     "text": [
      " 14%|███████████▏                                                                     | 31/225 [00:00<00:04, 46.49it/s]"
     ]
    },
    {
     "name": "stdout",
     "output_type": "stream",
     "text": [
      "\n",
      "torch.Size([128, 2, 2])\n",
      "torch.Size([128, 2, 2])\n",
      "torch.Size([128, 2, 2])\n",
      "torch.Size([128, 2, 2])\n",
      "torch.Size([128, 2, 2])\n",
      "torch.Size([128, 2, 2])\n",
      "torch.Size([128, 2, 2])\n",
      "torch.Size([128, 2, 2])\n",
      "torch.Size([128, 2, 2])"
     ]
    },
    {
     "name": "stderr",
     "output_type": "stream",
     "text": [
      " 18%|██████████████▊                                                                  | 41/225 [00:00<00:03, 47.24it/s]"
     ]
    },
    {
     "name": "stdout",
     "output_type": "stream",
     "text": [
      "\n",
      "torch.Size([128, 2, 2])\n",
      "torch.Size([128, 2, 2])\n",
      "torch.Size([128, 2, 2])\n",
      "torch.Size([128, 2, 2])\n",
      "torch.Size([128, 2, 2])\n",
      "torch.Size([128, 2, 2])\n",
      "torch.Size([128, 2, 2])\n",
      "torch.Size([128, 2, 2])\n",
      "torch.Size([128, 2, 2])"
     ]
    },
    {
     "name": "stderr",
     "output_type": "stream",
     "text": [
      " 23%|██████████████████▎                                                              | 51/225 [00:01<00:03, 47.32it/s]"
     ]
    },
    {
     "name": "stdout",
     "output_type": "stream",
     "text": [
      "\n",
      "torch.Size([128, 2, 2])\n",
      "torch.Size([128, 2, 2])\n",
      "torch.Size([128, 2, 2])\n",
      "torch.Size([128, 2, 2])\n",
      "torch.Size([128, 2, 2])\n",
      "torch.Size([128, 2, 2])\n",
      "torch.Size([128, 2, 2])\n",
      "torch.Size([128, 2, 2])\n",
      "torch.Size([128, 2, 2])"
     ]
    },
    {
     "name": "stderr",
     "output_type": "stream",
     "text": [
      "\r",
      " 25%|████████████████████▏                                                            | 56/225 [00:01<00:03, 47.16it/s]"
     ]
    },
    {
     "name": "stdout",
     "output_type": "stream",
     "text": [
      "\n",
      "torch.Size([128, 2, 2])\n",
      "torch.Size([128, 2, 2])\n",
      "torch.Size([128, 2, 2])\n",
      "torch.Size([128, 2, 2])\n",
      "torch.Size([128, 2, 2])\n",
      "torch.Size([128, 2, 2])\n",
      "torch.Size([128, 2, 2])\n",
      "torch.Size([128, 2, 2])\n",
      "torch.Size([128, 2, 2])"
     ]
    },
    {
     "name": "stderr",
     "output_type": "stream",
     "text": [
      " 29%|███████████████████████▊                                                         | 66/225 [00:01<00:03, 46.94it/s]"
     ]
    },
    {
     "name": "stdout",
     "output_type": "stream",
     "text": [
      "\n",
      "torch.Size([128, 2, 2])\n",
      "torch.Size([128, 2, 2])\n",
      "torch.Size([128, 2, 2])\n",
      "torch.Size([128, 2, 2])\n",
      "torch.Size([128, 2, 2])\n",
      "torch.Size([128, 2, 2])\n",
      "torch.Size([128, 2, 2])\n",
      "torch.Size([128, 2, 2])\n",
      "torch.Size([128, 2, 2])"
     ]
    },
    {
     "name": "stderr",
     "output_type": "stream",
     "text": [
      " 34%|███████████████████████████▎                                                     | 76/225 [00:01<00:03, 46.95it/s]"
     ]
    },
    {
     "name": "stdout",
     "output_type": "stream",
     "text": [
      "\n",
      "torch.Size([128, 2, 2])\n",
      "torch.Size([128, 2, 2])\n",
      "torch.Size([128, 2, 2])\n",
      "torch.Size([128, 2, 2])\n",
      "torch.Size([128, 2, 2])\n",
      "torch.Size([128, 2, 2])\n",
      "torch.Size([128, 2, 2])\n",
      "torch.Size([128, 2, 2])\n",
      "torch.Size([128, 2, 2])\n"
     ]
    },
    {
     "name": "stderr",
     "output_type": "stream",
     "text": [
      " 38%|██████████████████████████████▉                                                  | 86/225 [00:01<00:02, 47.02it/s]"
     ]
    },
    {
     "name": "stdout",
     "output_type": "stream",
     "text": [
      "torch.Size([128, 2, 2])\n",
      "torch.Size([128, 2, 2])\n",
      "torch.Size([128, 2, 2])\n",
      "torch.Size([128, 2, 2])\n",
      "torch.Size([128, 2, 2])\n",
      "torch.Size([128, 2, 2])\n",
      "torch.Size([128, 2, 2])\n",
      "torch.Size([128, 2, 2])\n",
      "torch.Size([128, 2, 2])\n",
      "torch.Size([128, 2, 2])"
     ]
    },
    {
     "name": "stderr",
     "output_type": "stream",
     "text": [
      " 43%|██████████████████████████████████▌                                              | 96/225 [00:02<00:02, 47.33it/s]"
     ]
    },
    {
     "name": "stdout",
     "output_type": "stream",
     "text": [
      "\n",
      "torch.Size([128, 2, 2])\n",
      "torch.Size([128, 2, 2])\n",
      "torch.Size([128, 2, 2])\n",
      "torch.Size([128, 2, 2])\n",
      "torch.Size([128, 2, 2])\n",
      "torch.Size([128, 2, 2])\n",
      "torch.Size([128, 2, 2])\n",
      "torch.Size([128, 2, 2])\n",
      "torch.Size([128, 2, 2])"
     ]
    },
    {
     "name": "stderr",
     "output_type": "stream",
     "text": [
      " 47%|█████████████████████████████████████▋                                          | 106/225 [00:02<00:02, 47.38it/s]"
     ]
    },
    {
     "name": "stdout",
     "output_type": "stream",
     "text": [
      "\n",
      "torch.Size([128, 2, 2])\n",
      "torch.Size([128, 2, 2])\n",
      "torch.Size([128, 2, 2])\n",
      "torch.Size([128, 2, 2])\n",
      "torch.Size([128, 2, 2])\n",
      "torch.Size([128, 2, 2])\n",
      "torch.Size([128, 2, 2])\n",
      "torch.Size([128, 2, 2])\n",
      "torch.Size([128, 2, 2])"
     ]
    },
    {
     "name": "stderr",
     "output_type": "stream",
     "text": [
      "\r",
      " 49%|███████████████████████████████████████▍                                        | 111/225 [00:02<00:02, 47.47it/s]"
     ]
    },
    {
     "name": "stdout",
     "output_type": "stream",
     "text": [
      "\n",
      "torch.Size([128, 2, 2])\n",
      "torch.Size([128, 2, 2])\n",
      "torch.Size([128, 2, 2])\n",
      "torch.Size([128, 2, 2])\n",
      "torch.Size([128, 2, 2])\n",
      "torch.Size([128, 2, 2])\n",
      "torch.Size([128, 2, 2])\n",
      "torch.Size([128, 2, 2])\n",
      "torch.Size([128, 2, 2])"
     ]
    },
    {
     "name": "stderr",
     "output_type": "stream",
     "text": [
      " 54%|███████████████████████████████████████████                                     | 121/225 [00:02<00:02, 47.24it/s]"
     ]
    },
    {
     "name": "stdout",
     "output_type": "stream",
     "text": [
      "\n",
      "torch.Size([128, 2, 2])\n",
      "torch.Size([128, 2, 2])\n",
      "torch.Size([128, 2, 2])\n",
      "torch.Size([128, 2, 2])\n",
      "torch.Size([128, 2, 2])\n",
      "torch.Size([128, 2, 2])\n",
      "torch.Size([128, 2, 2])\n",
      "torch.Size([128, 2, 2])\n",
      "torch.Size([128, 2, 2])"
     ]
    },
    {
     "name": "stderr",
     "output_type": "stream",
     "text": [
      " 58%|██████████████████████████████████████████████▌                                 | 131/225 [00:02<00:02, 46.94it/s]"
     ]
    },
    {
     "name": "stdout",
     "output_type": "stream",
     "text": [
      "\n",
      "torch.Size([128, 2, 2])\n",
      "torch.Size([128, 2, 2])\n",
      "torch.Size([128, 2, 2])\n",
      "torch.Size([128, 2, 2])\n",
      "torch.Size([128, 2, 2])\n",
      "torch.Size([128, 2, 2])\n",
      "torch.Size([128, 2, 2])\n",
      "torch.Size([128, 2, 2])\n",
      "torch.Size([128, 2, 2])"
     ]
    },
    {
     "name": "stderr",
     "output_type": "stream",
     "text": [
      " 63%|██████████████████████████████████████████████████▏                             | 141/225 [00:02<00:01, 46.91it/s]"
     ]
    },
    {
     "name": "stdout",
     "output_type": "stream",
     "text": [
      "\n",
      "torch.Size([128, 2, 2])\n",
      "torch.Size([128, 2, 2])\n",
      "torch.Size([128, 2, 2])\n",
      "torch.Size([128, 2, 2])\n",
      "torch.Size([128, 2, 2])\n",
      "torch.Size([128, 2, 2])\n",
      "torch.Size([128, 2, 2])\n",
      "torch.Size([128, 2, 2])\n",
      "torch.Size([128, 2, 2])"
     ]
    },
    {
     "name": "stderr",
     "output_type": "stream",
     "text": [
      "\r",
      " 65%|███████████████████████████████████████████████████▉                            | 146/225 [00:03<00:01, 46.74it/s]"
     ]
    },
    {
     "name": "stdout",
     "output_type": "stream",
     "text": [
      "\n",
      "torch.Size([128, 2, 2])\n",
      "torch.Size([128, 2, 2])\n",
      "torch.Size([128, 2, 2])\n",
      "torch.Size([128, 2, 2])\n",
      "torch.Size([128, 2, 2])\n",
      "torch.Size([128, 2, 2])\n",
      "torch.Size([128, 2, 2])\n",
      "torch.Size([128, 2, 2])\n"
     ]
    },
    {
     "name": "stderr",
     "output_type": "stream",
     "text": [
      " 69%|███████████████████████████████████████████████████████▍                        | 156/225 [00:03<00:01, 46.63it/s]"
     ]
    },
    {
     "name": "stdout",
     "output_type": "stream",
     "text": [
      "torch.Size([128, 2, 2])\n",
      "torch.Size([128, 2, 2])\n",
      "torch.Size([128, 2, 2])\n",
      "torch.Size([128, 2, 2])\n",
      "torch.Size([128, 2, 2])\n",
      "torch.Size([128, 2, 2])\n",
      "torch.Size([128, 2, 2])\n",
      "torch.Size([128, 2, 2])\n",
      "torch.Size([128, 2, 2])\n",
      "torch.Size([128, 2, 2])"
     ]
    },
    {
     "name": "stderr",
     "output_type": "stream",
     "text": [
      " 74%|███████████████████████████████████████████████████████████                     | 166/225 [00:03<00:01, 46.79it/s]"
     ]
    },
    {
     "name": "stdout",
     "output_type": "stream",
     "text": [
      "\n",
      "torch.Size([128, 2, 2])\n",
      "torch.Size([128, 2, 2])\n",
      "torch.Size([128, 2, 2])\n",
      "torch.Size([128, 2, 2])\n",
      "torch.Size([128, 2, 2])\n",
      "torch.Size([128, 2, 2])\n",
      "torch.Size([128, 2, 2])\n",
      "torch.Size([128, 2, 2])\n",
      "torch.Size([128, 2, 2])"
     ]
    },
    {
     "name": "stderr",
     "output_type": "stream",
     "text": [
      " 78%|██████████████████████████████████████████████████████████████▌                 | 176/225 [00:03<00:01, 46.91it/s]"
     ]
    },
    {
     "name": "stdout",
     "output_type": "stream",
     "text": [
      "\n",
      "torch.Size([128, 2, 2])\n",
      "torch.Size([128, 2, 2])\n",
      "torch.Size([128, 2, 2])\n",
      "torch.Size([128, 2, 2])\n",
      "torch.Size([128, 2, 2])\n",
      "torch.Size([128, 2, 2])\n",
      "torch.Size([128, 2, 2])\n",
      "torch.Size([128, 2, 2])\n",
      "torch.Size([128, 2, 2])"
     ]
    },
    {
     "name": "stderr",
     "output_type": "stream",
     "text": [
      " 83%|██████████████████████████████████████████████████████████████████▏             | 186/225 [00:03<00:00, 47.38it/s]"
     ]
    },
    {
     "name": "stdout",
     "output_type": "stream",
     "text": [
      "\n",
      "torch.Size([128, 2, 2])\n",
      "torch.Size([128, 2, 2])\n",
      "torch.Size([128, 2, 2])\n",
      "torch.Size([128, 2, 2])\n",
      "torch.Size([128, 2, 2])\n",
      "torch.Size([128, 2, 2])\n",
      "torch.Size([128, 2, 2])\n",
      "torch.Size([128, 2, 2])\n",
      "torch.Size([128, 2, 2])"
     ]
    },
    {
     "name": "stderr",
     "output_type": "stream",
     "text": [
      "\r",
      " 85%|███████████████████████████████████████████████████████████████████▉            | 191/225 [00:04<00:00, 47.33it/s]"
     ]
    },
    {
     "name": "stdout",
     "output_type": "stream",
     "text": [
      "\n",
      "torch.Size([128, 2, 2])\n",
      "torch.Size([128, 2, 2])\n",
      "torch.Size([128, 2, 2])\n",
      "torch.Size([128, 2, 2])\n",
      "torch.Size([128, 2, 2])\n",
      "torch.Size([128, 2, 2])\n",
      "torch.Size([128, 2, 2])\n",
      "torch.Size([128, 2, 2])\n"
     ]
    },
    {
     "name": "stderr",
     "output_type": "stream",
     "text": [
      " 89%|███████████████████████████████████████████████████████████████████████▍        | 201/225 [00:04<00:00, 47.43it/s]"
     ]
    },
    {
     "name": "stdout",
     "output_type": "stream",
     "text": [
      "torch.Size([128, 2, 2])\n",
      "torch.Size([128, 2, 2])\n",
      "torch.Size([128, 2, 2])\n",
      "torch.Size([128, 2, 2])\n",
      "torch.Size([128, 2, 2])\n",
      "torch.Size([128, 2, 2])\n",
      "torch.Size([128, 2, 2])\n",
      "torch.Size([128, 2, 2])\n",
      "torch.Size([128, 2, 2])\n",
      "torch.Size([128, 2, 2])"
     ]
    },
    {
     "name": "stderr",
     "output_type": "stream",
     "text": [
      " 94%|███████████████████████████████████████████████████████████████████████████     | 211/225 [00:04<00:00, 47.10it/s]"
     ]
    },
    {
     "name": "stdout",
     "output_type": "stream",
     "text": [
      "\n",
      "torch.Size([128, 2, 2])\n",
      "torch.Size([128, 2, 2])\n",
      "torch.Size([128, 2, 2])\n",
      "torch.Size([128, 2, 2])\n",
      "torch.Size([128, 2, 2])\n",
      "torch.Size([128, 2, 2])\n",
      "torch.Size([128, 2, 2])\n",
      "torch.Size([128, 2, 2])\n",
      "torch.Size([128, 2, 2])"
     ]
    },
    {
     "name": "stderr",
     "output_type": "stream",
     "text": [
      " 98%|██████████████████████████████████████████████████████████████████████████████▌ | 221/225 [00:04<00:00, 46.44it/s]"
     ]
    },
    {
     "name": "stdout",
     "output_type": "stream",
     "text": [
      "\n",
      "torch.Size([128, 2, 2])\n",
      "torch.Size([128, 2, 2])\n",
      "torch.Size([128, 2, 2])\n",
      "torch.Size([128, 2, 2])\n",
      "torch.Size([128, 2, 2])\n",
      "torch.Size([128, 2, 2])\n",
      "torch.Size([128, 2, 2])\n",
      "torch.Size([128, 2, 2])\n",
      "torch.Size([128, 2, 2])"
     ]
    },
    {
     "name": "stderr",
     "output_type": "stream",
     "text": [
      "100%|████████████████████████████████████████████████████████████████████████████████| 225/225 [00:04<00:00, 47.08it/s]\n",
      "  3%|██▏                                                                               | 6/225 [00:00<00:04, 49.64it/s]"
     ]
    },
    {
     "name": "stdout",
     "output_type": "stream",
     "text": [
      "\n",
      "torch.Size([128, 2, 2])\n",
      "Epoch: 6. Loss: 0.07674587517976761\n",
      "torch.Size([128, 2, 2])\n",
      "torch.Size([128, 2, 2])\n",
      "torch.Size([128, 2, 2])\n",
      "torch.Size([128, 2, 2])\n",
      "torch.Size([128, 2, 2])\n",
      "torch.Size([128, 2, 2])\n",
      "torch.Size([128, 2, 2])\n",
      "torch.Size([128, 2, 2])"
     ]
    },
    {
     "name": "stderr",
     "output_type": "stream",
     "text": [
      "\r",
      "  5%|███▉                                                                             | 11/225 [00:00<00:04, 48.74it/s]"
     ]
    },
    {
     "name": "stdout",
     "output_type": "stream",
     "text": [
      "\n",
      "torch.Size([128, 2, 2])\n",
      "torch.Size([128, 2, 2])\n",
      "torch.Size([128, 2, 2])\n",
      "torch.Size([128, 2, 2])\n",
      "torch.Size([128, 2, 2])\n",
      "torch.Size([128, 2, 2])\n",
      "torch.Size([128, 2, 2])\n",
      "torch.Size([128, 2, 2])\n"
     ]
    },
    {
     "name": "stderr",
     "output_type": "stream",
     "text": [
      "  9%|███████▌                                                                         | 21/225 [00:00<00:04, 47.88it/s]"
     ]
    },
    {
     "name": "stdout",
     "output_type": "stream",
     "text": [
      "torch.Size([128, 2, 2])\n",
      "torch.Size([128, 2, 2])\n",
      "torch.Size([128, 2, 2])\n",
      "torch.Size([128, 2, 2])\n",
      "torch.Size([128, 2, 2])\n",
      "torch.Size([128, 2, 2])\n",
      "torch.Size([128, 2, 2])\n",
      "torch.Size([128, 2, 2])\n",
      "torch.Size([128, 2, 2])\n",
      "torch.Size([128, 2, 2])"
     ]
    },
    {
     "name": "stderr",
     "output_type": "stream",
     "text": [
      " 14%|███████████▏                                                                     | 31/225 [00:00<00:04, 47.87it/s]"
     ]
    },
    {
     "name": "stdout",
     "output_type": "stream",
     "text": [
      "\n",
      "torch.Size([128, 2, 2])\n",
      "torch.Size([128, 2, 2])\n",
      "torch.Size([128, 2, 2])\n",
      "torch.Size([128, 2, 2])\n",
      "torch.Size([128, 2, 2])\n",
      "torch.Size([128, 2, 2])\n",
      "torch.Size([128, 2, 2])\n",
      "torch.Size([128, 2, 2])\n",
      "torch.Size([128, 2, 2])"
     ]
    },
    {
     "name": "stderr",
     "output_type": "stream",
     "text": [
      " 18%|██████████████▊                                                                  | 41/225 [00:00<00:03, 47.54it/s]"
     ]
    },
    {
     "name": "stdout",
     "output_type": "stream",
     "text": [
      "\n",
      "torch.Size([128, 2, 2])\n",
      "torch.Size([128, 2, 2])\n",
      "torch.Size([128, 2, 2])\n",
      "torch.Size([128, 2, 2])\n",
      "torch.Size([128, 2, 2])\n",
      "torch.Size([128, 2, 2])\n",
      "torch.Size([128, 2, 2])\n",
      "torch.Size([128, 2, 2])\n",
      "torch.Size([128, 2, 2])"
     ]
    },
    {
     "name": "stderr",
     "output_type": "stream",
     "text": [
      " 23%|██████████████████▎                                                              | 51/225 [00:01<00:03, 47.15it/s]"
     ]
    },
    {
     "name": "stdout",
     "output_type": "stream",
     "text": [
      "\n",
      "torch.Size([128, 2, 2])\n",
      "torch.Size([128, 2, 2])\n",
      "torch.Size([128, 2, 2])\n",
      "torch.Size([128, 2, 2])\n",
      "torch.Size([128, 2, 2])\n",
      "torch.Size([128, 2, 2])\n",
      "torch.Size([128, 2, 2])\n",
      "torch.Size([128, 2, 2])\n",
      "torch.Size([128, 2, 2])"
     ]
    },
    {
     "name": "stderr",
     "output_type": "stream",
     "text": [
      "\r",
      " 25%|████████████████████▏                                                            | 56/225 [00:01<00:03, 47.30it/s]"
     ]
    },
    {
     "name": "stdout",
     "output_type": "stream",
     "text": [
      "\n",
      "torch.Size([128, 2, 2])\n",
      "torch.Size([128, 2, 2])\n",
      "torch.Size([128, 2, 2])\n",
      "torch.Size([128, 2, 2])\n",
      "torch.Size([128, 2, 2])\n",
      "torch.Size([128, 2, 2])\n",
      "torch.Size([128, 2, 2])\n",
      "torch.Size([128, 2, 2])\n"
     ]
    },
    {
     "name": "stderr",
     "output_type": "stream",
     "text": [
      " 29%|███████████████████████▊                                                         | 66/225 [00:01<00:03, 47.03it/s]"
     ]
    },
    {
     "name": "stdout",
     "output_type": "stream",
     "text": [
      "torch.Size([128, 2, 2])\n",
      "torch.Size([128, 2, 2])\n",
      "torch.Size([128, 2, 2])\n",
      "torch.Size([128, 2, 2])\n",
      "torch.Size([128, 2, 2])\n",
      "torch.Size([128, 2, 2])\n",
      "torch.Size([128, 2, 2])\n",
      "torch.Size([128, 2, 2])\n",
      "torch.Size([128, 2, 2])\n",
      "torch.Size([128, 2, 2])"
     ]
    },
    {
     "name": "stderr",
     "output_type": "stream",
     "text": [
      " 34%|███████████████████████████▎                                                     | 76/225 [00:01<00:03, 47.13it/s]"
     ]
    },
    {
     "name": "stdout",
     "output_type": "stream",
     "text": [
      "\n",
      "torch.Size([128, 2, 2])\n",
      "torch.Size([128, 2, 2])\n",
      "torch.Size([128, 2, 2])\n",
      "torch.Size([128, 2, 2])\n",
      "torch.Size([128, 2, 2])\n",
      "torch.Size([128, 2, 2])\n",
      "torch.Size([128, 2, 2])\n",
      "torch.Size([128, 2, 2])\n",
      "torch.Size([128, 2, 2])"
     ]
    },
    {
     "name": "stderr",
     "output_type": "stream",
     "text": [
      " 38%|██████████████████████████████▉                                                  | 86/225 [00:01<00:02, 47.04it/s]"
     ]
    },
    {
     "name": "stdout",
     "output_type": "stream",
     "text": [
      "\n",
      "torch.Size([128, 2, 2])\n",
      "torch.Size([128, 2, 2])\n",
      "torch.Size([128, 2, 2])\n",
      "torch.Size([128, 2, 2])\n",
      "torch.Size([128, 2, 2])\n",
      "torch.Size([128, 2, 2])\n",
      "torch.Size([128, 2, 2])\n",
      "torch.Size([128, 2, 2])\n",
      "torch.Size([128, 2, 2])"
     ]
    },
    {
     "name": "stderr",
     "output_type": "stream",
     "text": [
      " 43%|██████████████████████████████████▌                                              | 96/225 [00:02<00:02, 47.08it/s]"
     ]
    },
    {
     "name": "stdout",
     "output_type": "stream",
     "text": [
      "\n",
      "torch.Size([128, 2, 2])\n",
      "torch.Size([128, 2, 2])\n",
      "torch.Size([128, 2, 2])\n",
      "torch.Size([128, 2, 2])\n",
      "torch.Size([128, 2, 2])\n",
      "torch.Size([128, 2, 2])\n",
      "torch.Size([128, 2, 2])\n",
      "torch.Size([128, 2, 2])\n",
      "torch.Size([128, 2, 2])"
     ]
    },
    {
     "name": "stderr",
     "output_type": "stream",
     "text": [
      "\r",
      " 45%|███████████████████████████████████▉                                            | 101/225 [00:02<00:02, 47.12it/s]"
     ]
    },
    {
     "name": "stdout",
     "output_type": "stream",
     "text": [
      "\n",
      "torch.Size([128, 2, 2])\n",
      "torch.Size([128, 2, 2])\n",
      "torch.Size([128, 2, 2])\n",
      "torch.Size([128, 2, 2])\n",
      "torch.Size([128, 2, 2])\n",
      "torch.Size([128, 2, 2])\n",
      "torch.Size([128, 2, 2])\n",
      "torch.Size([128, 2, 2])\n"
     ]
    },
    {
     "name": "stderr",
     "output_type": "stream",
     "text": [
      " 49%|███████████████████████████████████████▍                                        | 111/225 [00:02<00:02, 47.31it/s]"
     ]
    },
    {
     "name": "stdout",
     "output_type": "stream",
     "text": [
      "torch.Size([128, 2, 2])\n",
      "torch.Size([128, 2, 2])\n",
      "torch.Size([128, 2, 2])\n",
      "torch.Size([128, 2, 2])\n",
      "torch.Size([128, 2, 2])\n",
      "torch.Size([128, 2, 2])\n",
      "torch.Size([128, 2, 2])\n",
      "torch.Size([128, 2, 2])\n",
      "torch.Size([128, 2, 2])\n",
      "torch.Size([128, 2, 2])"
     ]
    },
    {
     "name": "stderr",
     "output_type": "stream",
     "text": [
      " 54%|███████████████████████████████████████████                                     | 121/225 [00:02<00:02, 47.48it/s]"
     ]
    },
    {
     "name": "stdout",
     "output_type": "stream",
     "text": [
      "\n",
      "torch.Size([128, 2, 2])\n",
      "torch.Size([128, 2, 2])\n",
      "torch.Size([128, 2, 2])\n",
      "torch.Size([128, 2, 2])\n",
      "torch.Size([128, 2, 2])\n",
      "torch.Size([128, 2, 2])\n",
      "torch.Size([128, 2, 2])\n",
      "torch.Size([128, 2, 2])\n",
      "torch.Size([128, 2, 2])"
     ]
    },
    {
     "name": "stderr",
     "output_type": "stream",
     "text": [
      " 58%|██████████████████████████████████████████████▌                                 | 131/225 [00:02<00:01, 47.40it/s]"
     ]
    },
    {
     "name": "stdout",
     "output_type": "stream",
     "text": [
      "\n",
      "torch.Size([128, 2, 2])\n",
      "torch.Size([128, 2, 2])\n",
      "torch.Size([128, 2, 2])\n",
      "torch.Size([128, 2, 2])\n",
      "torch.Size([128, 2, 2])\n",
      "torch.Size([128, 2, 2])\n",
      "torch.Size([128, 2, 2])\n",
      "torch.Size([128, 2, 2])\n",
      "torch.Size([128, 2, 2])"
     ]
    },
    {
     "name": "stderr",
     "output_type": "stream",
     "text": [
      " 63%|██████████████████████████████████████████████████▏                             | 141/225 [00:02<00:01, 47.11it/s]"
     ]
    },
    {
     "name": "stdout",
     "output_type": "stream",
     "text": [
      "\n",
      "torch.Size([128, 2, 2])\n",
      "torch.Size([128, 2, 2])\n",
      "torch.Size([128, 2, 2])\n",
      "torch.Size([128, 2, 2])\n",
      "torch.Size([128, 2, 2])\n",
      "torch.Size([128, 2, 2])\n",
      "torch.Size([128, 2, 2])\n",
      "torch.Size([128, 2, 2])\n",
      "torch.Size([128, 2, 2])"
     ]
    },
    {
     "name": "stderr",
     "output_type": "stream",
     "text": [
      "\r",
      " 65%|███████████████████████████████████████████████████▉                            | 146/225 [00:03<00:01, 46.97it/s]"
     ]
    },
    {
     "name": "stdout",
     "output_type": "stream",
     "text": [
      "\n",
      "torch.Size([128, 2, 2])\n",
      "torch.Size([128, 2, 2])\n",
      "torch.Size([128, 2, 2])\n",
      "torch.Size([128, 2, 2])\n",
      "torch.Size([128, 2, 2])\n",
      "torch.Size([128, 2, 2])\n",
      "torch.Size([128, 2, 2])\n",
      "torch.Size([128, 2, 2])\n"
     ]
    },
    {
     "name": "stderr",
     "output_type": "stream",
     "text": [
      " 69%|███████████████████████████████████████████████████████▍                        | 156/225 [00:03<00:01, 47.12it/s]"
     ]
    },
    {
     "name": "stdout",
     "output_type": "stream",
     "text": [
      "torch.Size([128, 2, 2])\n",
      "torch.Size([128, 2, 2])\n",
      "torch.Size([128, 2, 2])\n",
      "torch.Size([128, 2, 2])\n",
      "torch.Size([128, 2, 2])\n",
      "torch.Size([128, 2, 2])\n",
      "torch.Size([128, 2, 2])\n",
      "torch.Size([128, 2, 2])\n",
      "torch.Size([128, 2, 2])\n",
      "torch.Size([128, 2, 2])"
     ]
    },
    {
     "name": "stderr",
     "output_type": "stream",
     "text": [
      " 74%|███████████████████████████████████████████████████████████                     | 166/225 [00:03<00:01, 47.22it/s]"
     ]
    },
    {
     "name": "stdout",
     "output_type": "stream",
     "text": [
      "\n",
      "torch.Size([128, 2, 2])\n",
      "torch.Size([128, 2, 2])\n",
      "torch.Size([128, 2, 2])\n",
      "torch.Size([128, 2, 2])\n",
      "torch.Size([128, 2, 2])\n",
      "torch.Size([128, 2, 2])\n",
      "torch.Size([128, 2, 2])\n",
      "torch.Size([128, 2, 2])\n",
      "torch.Size([128, 2, 2])"
     ]
    },
    {
     "name": "stderr",
     "output_type": "stream",
     "text": [
      " 78%|██████████████████████████████████████████████████████████████▌                 | 176/225 [00:03<00:01, 47.18it/s]"
     ]
    },
    {
     "name": "stdout",
     "output_type": "stream",
     "text": [
      "\n",
      "torch.Size([128, 2, 2])\n",
      "torch.Size([128, 2, 2])\n",
      "torch.Size([128, 2, 2])\n",
      "torch.Size([128, 2, 2])\n",
      "torch.Size([128, 2, 2])\n",
      "torch.Size([128, 2, 2])\n",
      "torch.Size([128, 2, 2])\n",
      "torch.Size([128, 2, 2])\n",
      "torch.Size([128, 2, 2])"
     ]
    },
    {
     "name": "stderr",
     "output_type": "stream",
     "text": [
      " 83%|██████████████████████████████████████████████████████████████████▏             | 186/225 [00:03<00:00, 46.89it/s]"
     ]
    },
    {
     "name": "stdout",
     "output_type": "stream",
     "text": [
      "\n",
      "torch.Size([128, 2, 2])\n",
      "torch.Size([128, 2, 2])\n",
      "torch.Size([128, 2, 2])\n",
      "torch.Size([128, 2, 2])\n",
      "torch.Size([128, 2, 2])\n",
      "torch.Size([128, 2, 2])\n",
      "torch.Size([128, 2, 2])\n",
      "torch.Size([128, 2, 2])\n",
      "torch.Size([128, 2, 2])"
     ]
    },
    {
     "name": "stderr",
     "output_type": "stream",
     "text": [
      "\r",
      " 85%|███████████████████████████████████████████████████████████████████▉            | 191/225 [00:04<00:00, 46.46it/s]"
     ]
    },
    {
     "name": "stdout",
     "output_type": "stream",
     "text": [
      "\n",
      "torch.Size([128, 2, 2])\n",
      "torch.Size([128, 2, 2])\n",
      "torch.Size([128, 2, 2])\n",
      "torch.Size([128, 2, 2])\n",
      "torch.Size([128, 2, 2])\n",
      "torch.Size([128, 2, 2])\n",
      "torch.Size([128, 2, 2])\n",
      "torch.Size([128, 2, 2])"
     ]
    },
    {
     "name": "stderr",
     "output_type": "stream",
     "text": [
      " 89%|███████████████████████████████████████████████████████████████████████▍        | 201/225 [00:04<00:00, 45.71it/s]"
     ]
    },
    {
     "name": "stdout",
     "output_type": "stream",
     "text": [
      "\n",
      "torch.Size([128, 2, 2])\n",
      "torch.Size([128, 2, 2])\n",
      "torch.Size([128, 2, 2])\n",
      "torch.Size([128, 2, 2])\n",
      "torch.Size([128, 2, 2])\n",
      "torch.Size([128, 2, 2])\n",
      "torch.Size([128, 2, 2])\n",
      "torch.Size([128, 2, 2])\n",
      "torch.Size([128, 2, 2])"
     ]
    },
    {
     "name": "stderr",
     "output_type": "stream",
     "text": [
      " 94%|███████████████████████████████████████████████████████████████████████████     | 211/225 [00:04<00:00, 46.03it/s]"
     ]
    },
    {
     "name": "stdout",
     "output_type": "stream",
     "text": [
      "\n",
      "torch.Size([128, 2, 2])\n",
      "torch.Size([128, 2, 2])\n",
      "torch.Size([128, 2, 2])\n",
      "torch.Size([128, 2, 2])\n",
      "torch.Size([128, 2, 2])\n",
      "torch.Size([128, 2, 2])\n",
      "torch.Size([128, 2, 2])\n",
      "torch.Size([128, 2, 2])\n",
      "torch.Size([128, 2, 2])"
     ]
    },
    {
     "name": "stderr",
     "output_type": "stream",
     "text": [
      " 98%|██████████████████████████████████████████████████████████████████████████████▌ | 221/225 [00:04<00:00, 46.76it/s]"
     ]
    },
    {
     "name": "stdout",
     "output_type": "stream",
     "text": [
      "\n",
      "torch.Size([128, 2, 2])\n",
      "torch.Size([128, 2, 2])\n",
      "torch.Size([128, 2, 2])\n",
      "torch.Size([128, 2, 2])\n",
      "torch.Size([128, 2, 2])\n",
      "torch.Size([128, 2, 2])\n",
      "torch.Size([128, 2, 2])\n",
      "torch.Size([128, 2, 2])\n",
      "torch.Size([128, 2, 2])"
     ]
    },
    {
     "name": "stderr",
     "output_type": "stream",
     "text": [
      "100%|████████████████████████████████████████████████████████████████████████████████| 225/225 [00:04<00:00, 47.06it/s]\n",
      "  3%|██▏                                                                               | 6/225 [00:00<00:04, 50.26it/s]"
     ]
    },
    {
     "name": "stdout",
     "output_type": "stream",
     "text": [
      "\n",
      "torch.Size([128, 2, 2])\n",
      "torch.Size([128, 2, 2])\n",
      "Epoch: 7. Loss: 0.05628005415201187\n",
      "torch.Size([128, 2, 2])\n",
      "torch.Size([128, 2, 2])\n",
      "torch.Size([128, 2, 2])\n",
      "torch.Size([128, 2, 2])\n",
      "torch.Size([128, 2, 2])\n",
      "torch.Size([128, 2, 2])\n",
      "torch.Size([128, 2, 2])"
     ]
    },
    {
     "name": "stderr",
     "output_type": "stream",
     "text": [
      "\r",
      "  5%|███▉                                                                             | 11/225 [00:00<00:04, 48.87it/s]"
     ]
    },
    {
     "name": "stdout",
     "output_type": "stream",
     "text": [
      "\n",
      "torch.Size([128, 2, 2])\n",
      "torch.Size([128, 2, 2])\n",
      "torch.Size([128, 2, 2])\n",
      "torch.Size([128, 2, 2])\n",
      "torch.Size([128, 2, 2])\n",
      "torch.Size([128, 2, 2])\n",
      "torch.Size([128, 2, 2])\n",
      "torch.Size([128, 2, 2])\n",
      "torch.Size([128, 2, 2])"
     ]
    },
    {
     "name": "stderr",
     "output_type": "stream",
     "text": [
      "  9%|███████▌                                                                         | 21/225 [00:00<00:04, 48.20it/s]"
     ]
    },
    {
     "name": "stdout",
     "output_type": "stream",
     "text": [
      "\n",
      "torch.Size([128, 2, 2])\n",
      "torch.Size([128, 2, 2])\n",
      "torch.Size([128, 2, 2])\n",
      "torch.Size([128, 2, 2])\n",
      "torch.Size([128, 2, 2])\n",
      "torch.Size([128, 2, 2])\n",
      "torch.Size([128, 2, 2])\n",
      "torch.Size([128, 2, 2])\n",
      "torch.Size([128, 2, 2])"
     ]
    },
    {
     "name": "stderr",
     "output_type": "stream",
     "text": [
      " 14%|███████████▏                                                                     | 31/225 [00:00<00:04, 47.92it/s]"
     ]
    },
    {
     "name": "stdout",
     "output_type": "stream",
     "text": [
      "\n",
      "torch.Size([128, 2, 2])\n",
      "torch.Size([128, 2, 2])\n",
      "torch.Size([128, 2, 2])\n",
      "torch.Size([128, 2, 2])\n",
      "torch.Size([128, 2, 2])\n",
      "torch.Size([128, 2, 2])\n",
      "torch.Size([128, 2, 2])\n",
      "torch.Size([128, 2, 2])\n",
      "torch.Size([128, 2, 2])"
     ]
    },
    {
     "name": "stderr",
     "output_type": "stream",
     "text": [
      " 18%|██████████████▊                                                                  | 41/225 [00:00<00:03, 47.37it/s]"
     ]
    },
    {
     "name": "stdout",
     "output_type": "stream",
     "text": [
      "\n",
      "torch.Size([128, 2, 2])\n",
      "torch.Size([128, 2, 2])\n",
      "torch.Size([128, 2, 2])\n",
      "torch.Size([128, 2, 2])\n",
      "torch.Size([128, 2, 2])\n",
      "torch.Size([128, 2, 2])\n",
      "torch.Size([128, 2, 2])\n",
      "torch.Size([128, 2, 2])\n",
      "torch.Size([128, 2, 2])"
     ]
    },
    {
     "name": "stderr",
     "output_type": "stream",
     "text": [
      " 23%|██████████████████▎                                                              | 51/225 [00:01<00:03, 47.57it/s]"
     ]
    },
    {
     "name": "stdout",
     "output_type": "stream",
     "text": [
      "\n",
      "torch.Size([128, 2, 2])\n",
      "torch.Size([128, 2, 2])\n",
      "torch.Size([128, 2, 2])\n",
      "torch.Size([128, 2, 2])\n",
      "torch.Size([128, 2, 2])\n",
      "torch.Size([128, 2, 2])\n",
      "torch.Size([128, 2, 2])\n",
      "torch.Size([128, 2, 2])\n",
      "torch.Size([128, 2, 2])"
     ]
    },
    {
     "name": "stderr",
     "output_type": "stream",
     "text": [
      "\r",
      " 25%|████████████████████▏                                                            | 56/225 [00:01<00:03, 47.74it/s]"
     ]
    },
    {
     "name": "stdout",
     "output_type": "stream",
     "text": [
      "\n",
      "torch.Size([128, 2, 2])\n",
      "torch.Size([128, 2, 2])\n",
      "torch.Size([128, 2, 2])\n",
      "torch.Size([128, 2, 2])\n",
      "torch.Size([128, 2, 2])\n",
      "torch.Size([128, 2, 2])\n",
      "torch.Size([128, 2, 2])\n",
      "torch.Size([128, 2, 2])\n",
      "torch.Size([128, 2, 2])"
     ]
    },
    {
     "name": "stderr",
     "output_type": "stream",
     "text": [
      " 29%|███████████████████████▊                                                         | 66/225 [00:01<00:03, 47.80it/s]"
     ]
    },
    {
     "name": "stdout",
     "output_type": "stream",
     "text": [
      "\n",
      "torch.Size([128, 2, 2])\n",
      "torch.Size([128, 2, 2])\n",
      "torch.Size([128, 2, 2])\n",
      "torch.Size([128, 2, 2])\n",
      "torch.Size([128, 2, 2])\n",
      "torch.Size([128, 2, 2])\n",
      "torch.Size([128, 2, 2])\n",
      "torch.Size([128, 2, 2])\n",
      "torch.Size([128, 2, 2])"
     ]
    },
    {
     "name": "stderr",
     "output_type": "stream",
     "text": [
      " 34%|███████████████████████████▎                                                     | 76/225 [00:01<00:03, 47.43it/s]"
     ]
    },
    {
     "name": "stdout",
     "output_type": "stream",
     "text": [
      "\n",
      "torch.Size([128, 2, 2])\n",
      "torch.Size([128, 2, 2])\n",
      "torch.Size([128, 2, 2])\n",
      "torch.Size([128, 2, 2])\n",
      "torch.Size([128, 2, 2])\n",
      "torch.Size([128, 2, 2])\n",
      "torch.Size([128, 2, 2])\n",
      "torch.Size([128, 2, 2])\n",
      "torch.Size([128, 2, 2])"
     ]
    },
    {
     "name": "stderr",
     "output_type": "stream",
     "text": [
      " 38%|██████████████████████████████▉                                                  | 86/225 [00:01<00:02, 47.33it/s]"
     ]
    },
    {
     "name": "stdout",
     "output_type": "stream",
     "text": [
      "\n",
      "torch.Size([128, 2, 2])\n",
      "torch.Size([128, 2, 2])\n",
      "torch.Size([128, 2, 2])\n",
      "torch.Size([128, 2, 2])\n",
      "torch.Size([128, 2, 2])\n",
      "torch.Size([128, 2, 2])\n",
      "torch.Size([128, 2, 2])\n",
      "torch.Size([128, 2, 2])\n",
      "torch.Size([128, 2, 2])"
     ]
    },
    {
     "name": "stderr",
     "output_type": "stream",
     "text": [
      "\r",
      " 40%|████████████████████████████████▊                                                | 91/225 [00:01<00:02, 47.43it/s]"
     ]
    },
    {
     "name": "stdout",
     "output_type": "stream",
     "text": [
      "\n",
      "torch.Size([128, 2, 2])\n",
      "torch.Size([128, 2, 2])\n",
      "torch.Size([128, 2, 2])\n",
      "torch.Size([128, 2, 2])\n",
      "torch.Size([128, 2, 2])\n",
      "torch.Size([128, 2, 2])\n",
      "torch.Size([128, 2, 2])\n",
      "torch.Size([128, 2, 2])\n"
     ]
    },
    {
     "name": "stderr",
     "output_type": "stream",
     "text": [
      " 45%|███████████████████████████████████▉                                            | 101/225 [00:02<00:02, 47.23it/s]"
     ]
    },
    {
     "name": "stdout",
     "output_type": "stream",
     "text": [
      "torch.Size([128, 2, 2])\n",
      "torch.Size([128, 2, 2])\n",
      "torch.Size([128, 2, 2])\n",
      "torch.Size([128, 2, 2])\n",
      "torch.Size([128, 2, 2])\n",
      "torch.Size([128, 2, 2])\n",
      "torch.Size([128, 2, 2])\n",
      "torch.Size([128, 2, 2])\n",
      "torch.Size([128, 2, 2])\n",
      "torch.Size([128, 2, 2])"
     ]
    },
    {
     "name": "stderr",
     "output_type": "stream",
     "text": [
      " 49%|███████████████████████████████████████▍                                        | 111/225 [00:02<00:02, 47.09it/s]"
     ]
    },
    {
     "name": "stdout",
     "output_type": "stream",
     "text": [
      "\n",
      "torch.Size([128, 2, 2])\n",
      "torch.Size([128, 2, 2])\n",
      "torch.Size([128, 2, 2])\n",
      "torch.Size([128, 2, 2])\n",
      "torch.Size([128, 2, 2])\n",
      "torch.Size([128, 2, 2])\n",
      "torch.Size([128, 2, 2])\n",
      "torch.Size([128, 2, 2])\n",
      "torch.Size([128, 2, 2])"
     ]
    },
    {
     "name": "stderr",
     "output_type": "stream",
     "text": [
      " 54%|███████████████████████████████████████████                                     | 121/225 [00:02<00:02, 46.01it/s]"
     ]
    },
    {
     "name": "stdout",
     "output_type": "stream",
     "text": [
      "\n",
      "torch.Size([128, 2, 2])\n",
      "torch.Size([128, 2, 2])\n",
      "torch.Size([128, 2, 2])\n",
      "torch.Size([128, 2, 2])\n",
      "torch.Size([128, 2, 2])\n",
      "torch.Size([128, 2, 2])\n",
      "torch.Size([128, 2, 2])\n",
      "torch.Size([128, 2, 2])\n",
      "torch.Size([128, 2, 2])"
     ]
    },
    {
     "name": "stderr",
     "output_type": "stream",
     "text": [
      " 58%|██████████████████████████████████████████████▌                                 | 131/225 [00:02<00:02, 46.94it/s]"
     ]
    },
    {
     "name": "stdout",
     "output_type": "stream",
     "text": [
      "\n",
      "torch.Size([128, 2, 2])\n",
      "torch.Size([128, 2, 2])\n",
      "torch.Size([128, 2, 2])\n",
      "torch.Size([128, 2, 2])\n",
      "torch.Size([128, 2, 2])\n",
      "torch.Size([128, 2, 2])\n",
      "torch.Size([128, 2, 2])\n",
      "torch.Size([128, 2, 2])\n",
      "torch.Size([128, 2, 2])"
     ]
    },
    {
     "name": "stderr",
     "output_type": "stream",
     "text": [
      " 63%|██████████████████████████████████████████████████▏                             | 141/225 [00:02<00:01, 47.44it/s]"
     ]
    },
    {
     "name": "stdout",
     "output_type": "stream",
     "text": [
      "\n",
      "torch.Size([128, 2, 2])\n",
      "torch.Size([128, 2, 2])\n",
      "torch.Size([128, 2, 2])\n",
      "torch.Size([128, 2, 2])\n",
      "torch.Size([128, 2, 2])\n",
      "torch.Size([128, 2, 2])\n",
      "torch.Size([128, 2, 2])\n",
      "torch.Size([128, 2, 2])\n",
      "torch.Size([128, 2, 2])"
     ]
    },
    {
     "name": "stderr",
     "output_type": "stream",
     "text": [
      "\r",
      " 65%|███████████████████████████████████████████████████▉                            | 146/225 [00:03<00:01, 47.31it/s]"
     ]
    },
    {
     "name": "stdout",
     "output_type": "stream",
     "text": [
      "\n",
      "torch.Size([128, 2, 2])\n",
      "torch.Size([128, 2, 2])\n",
      "torch.Size([128, 2, 2])\n",
      "torch.Size([128, 2, 2])\n",
      "torch.Size([128, 2, 2])\n",
      "torch.Size([128, 2, 2])\n",
      "torch.Size([128, 2, 2])\n",
      "torch.Size([128, 2, 2])\n",
      "torch.Size([128, 2, 2])"
     ]
    },
    {
     "name": "stderr",
     "output_type": "stream",
     "text": [
      " 69%|███████████████████████████████████████████████████████▍                        | 156/225 [00:03<00:01, 47.30it/s]"
     ]
    },
    {
     "name": "stdout",
     "output_type": "stream",
     "text": [
      "\n",
      "torch.Size([128, 2, 2])\n",
      "torch.Size([128, 2, 2])\n",
      "torch.Size([128, 2, 2])\n",
      "torch.Size([128, 2, 2])\n",
      "torch.Size([128, 2, 2])\n",
      "torch.Size([128, 2, 2])\n",
      "torch.Size([128, 2, 2])\n",
      "torch.Size([128, 2, 2])\n",
      "torch.Size([128, 2, 2])"
     ]
    },
    {
     "name": "stderr",
     "output_type": "stream",
     "text": [
      " 74%|███████████████████████████████████████████████████████████                     | 166/225 [00:03<00:01, 46.55it/s]"
     ]
    },
    {
     "name": "stdout",
     "output_type": "stream",
     "text": [
      "\n",
      "torch.Size([128, 2, 2])\n",
      "torch.Size([128, 2, 2])\n",
      "torch.Size([128, 2, 2])\n",
      "torch.Size([128, 2, 2])\n",
      "torch.Size([128, 2, 2])\n",
      "torch.Size([128, 2, 2])\n",
      "torch.Size([128, 2, 2])\n",
      "torch.Size([128, 2, 2])\n",
      "torch.Size([128, 2, 2])"
     ]
    },
    {
     "name": "stderr",
     "output_type": "stream",
     "text": [
      " 78%|██████████████████████████████████████████████████████████████▌                 | 176/225 [00:03<00:01, 46.38it/s]"
     ]
    },
    {
     "name": "stdout",
     "output_type": "stream",
     "text": [
      "\n",
      "torch.Size([128, 2, 2])\n",
      "torch.Size([128, 2, 2])\n",
      "torch.Size([128, 2, 2])\n",
      "torch.Size([128, 2, 2])\n",
      "torch.Size([128, 2, 2])\n",
      "torch.Size([128, 2, 2])\n",
      "torch.Size([128, 2, 2])\n",
      "torch.Size([128, 2, 2])\n",
      "torch.Size([128, 2, 2])"
     ]
    },
    {
     "name": "stderr",
     "output_type": "stream",
     "text": [
      "\r",
      " 80%|████████████████████████████████████████████████████████████████▎               | 181/225 [00:03<00:00, 46.63it/s]"
     ]
    },
    {
     "name": "stdout",
     "output_type": "stream",
     "text": [
      "\n",
      "torch.Size([128, 2, 2])\n",
      "torch.Size([128, 2, 2])\n",
      "torch.Size([128, 2, 2])\n",
      "torch.Size([128, 2, 2])\n",
      "torch.Size([128, 2, 2])\n",
      "torch.Size([128, 2, 2])\n",
      "torch.Size([128, 2, 2])\n",
      "torch.Size([128, 2, 2])\n"
     ]
    },
    {
     "name": "stderr",
     "output_type": "stream",
     "text": [
      " 85%|███████████████████████████████████████████████████████████████████▉            | 191/225 [00:04<00:00, 46.94it/s]"
     ]
    },
    {
     "name": "stdout",
     "output_type": "stream",
     "text": [
      "torch.Size([128, 2, 2])\n",
      "torch.Size([128, 2, 2])\n",
      "torch.Size([128, 2, 2])\n",
      "torch.Size([128, 2, 2])\n",
      "torch.Size([128, 2, 2])\n",
      "torch.Size([128, 2, 2])\n",
      "torch.Size([128, 2, 2])\n",
      "torch.Size([128, 2, 2])\n",
      "torch.Size([128, 2, 2])\n",
      "torch.Size([128, 2, 2])"
     ]
    },
    {
     "name": "stderr",
     "output_type": "stream",
     "text": [
      " 89%|███████████████████████████████████████████████████████████████████████▍        | 201/225 [00:04<00:00, 46.39it/s]"
     ]
    },
    {
     "name": "stdout",
     "output_type": "stream",
     "text": [
      "\n",
      "torch.Size([128, 2, 2])\n",
      "torch.Size([128, 2, 2])\n",
      "torch.Size([128, 2, 2])\n",
      "torch.Size([128, 2, 2])\n",
      "torch.Size([128, 2, 2])\n",
      "torch.Size([128, 2, 2])\n",
      "torch.Size([128, 2, 2])\n",
      "torch.Size([128, 2, 2])\n",
      "torch.Size([128, 2, 2])"
     ]
    },
    {
     "name": "stderr",
     "output_type": "stream",
     "text": [
      " 94%|███████████████████████████████████████████████████████████████████████████     | 211/225 [00:04<00:00, 46.40it/s]"
     ]
    },
    {
     "name": "stdout",
     "output_type": "stream",
     "text": [
      "\n",
      "torch.Size([128, 2, 2])\n",
      "torch.Size([128, 2, 2])\n",
      "torch.Size([128, 2, 2])\n",
      "torch.Size([128, 2, 2])\n",
      "torch.Size([128, 2, 2])\n",
      "torch.Size([128, 2, 2])\n",
      "torch.Size([128, 2, 2])\n",
      "torch.Size([128, 2, 2])\n",
      "torch.Size([128, 2, 2])"
     ]
    },
    {
     "name": "stderr",
     "output_type": "stream",
     "text": [
      " 98%|██████████████████████████████████████████████████████████████████████████████▌ | 221/225 [00:04<00:00, 47.17it/s]"
     ]
    },
    {
     "name": "stdout",
     "output_type": "stream",
     "text": [
      "\n",
      "torch.Size([128, 2, 2])\n",
      "torch.Size([128, 2, 2])\n",
      "torch.Size([128, 2, 2])\n",
      "torch.Size([128, 2, 2])\n",
      "torch.Size([128, 2, 2])\n",
      "torch.Size([128, 2, 2])\n",
      "torch.Size([128, 2, 2])\n",
      "torch.Size([128, 2, 2])\n",
      "torch.Size([128, 2, 2])"
     ]
    },
    {
     "name": "stderr",
     "output_type": "stream",
     "text": [
      "100%|████████████████████████████████████████████████████████████████████████████████| 225/225 [00:04<00:00, 47.13it/s]\n",
      "  2%|█▊                                                                                | 5/225 [00:00<00:04, 47.44it/s]"
     ]
    },
    {
     "name": "stdout",
     "output_type": "stream",
     "text": [
      "\n",
      "torch.Size([128, 2, 2])\n",
      "torch.Size([128, 2, 2])\n",
      "Epoch: 8. Loss: 0.06100371107459068\n",
      "torch.Size([128, 2, 2])\n",
      "torch.Size([128, 2, 2])\n",
      "torch.Size([128, 2, 2])\n",
      "torch.Size([128, 2, 2])\n",
      "torch.Size([128, 2, 2])\n",
      "torch.Size([128, 2, 2])\n",
      "torch.Size([128, 2, 2])"
     ]
    },
    {
     "name": "stderr",
     "output_type": "stream",
     "text": [
      "\r",
      "  4%|███▌                                                                             | 10/225 [00:00<00:04, 46.58it/s]"
     ]
    },
    {
     "name": "stdout",
     "output_type": "stream",
     "text": [
      "\n",
      "torch.Size([128, 2, 2])\n",
      "torch.Size([128, 2, 2])\n",
      "torch.Size([128, 2, 2])\n",
      "torch.Size([128, 2, 2])\n",
      "torch.Size([128, 2, 2])\n",
      "torch.Size([128, 2, 2])\n",
      "torch.Size([128, 2, 2])\n",
      "torch.Size([128, 2, 2])\n"
     ]
    },
    {
     "name": "stderr",
     "output_type": "stream",
     "text": [
      "  9%|███████▏                                                                         | 20/225 [00:00<00:04, 46.67it/s]"
     ]
    },
    {
     "name": "stdout",
     "output_type": "stream",
     "text": [
      "torch.Size([128, 2, 2])\n",
      "torch.Size([128, 2, 2])\n",
      "torch.Size([128, 2, 2])\n",
      "torch.Size([128, 2, 2])\n",
      "torch.Size([128, 2, 2])\n",
      "torch.Size([128, 2, 2])\n",
      "torch.Size([128, 2, 2])\n",
      "torch.Size([128, 2, 2])\n",
      "torch.Size([128, 2, 2])\n",
      "torch.Size([128, 2, 2])"
     ]
    },
    {
     "name": "stderr",
     "output_type": "stream",
     "text": [
      " 13%|██████████▊                                                                      | 30/225 [00:00<00:04, 46.95it/s]"
     ]
    },
    {
     "name": "stdout",
     "output_type": "stream",
     "text": [
      "\n",
      "torch.Size([128, 2, 2])\n",
      "torch.Size([128, 2, 2])\n",
      "torch.Size([128, 2, 2])\n",
      "torch.Size([128, 2, 2])\n",
      "torch.Size([128, 2, 2])\n",
      "torch.Size([128, 2, 2])\n",
      "torch.Size([128, 2, 2])\n",
      "torch.Size([128, 2, 2])\n",
      "torch.Size([128, 2, 2])"
     ]
    },
    {
     "name": "stderr",
     "output_type": "stream",
     "text": [
      " 18%|██████████████▍                                                                  | 40/225 [00:00<00:03, 47.09it/s]"
     ]
    },
    {
     "name": "stdout",
     "output_type": "stream",
     "text": [
      "\n",
      "torch.Size([128, 2, 2])\n",
      "torch.Size([128, 2, 2])\n",
      "torch.Size([128, 2, 2])\n",
      "torch.Size([128, 2, 2])\n",
      "torch.Size([128, 2, 2])\n",
      "torch.Size([128, 2, 2])\n",
      "torch.Size([128, 2, 2])\n",
      "torch.Size([128, 2, 2])\n",
      "torch.Size([128, 2, 2])"
     ]
    },
    {
     "name": "stderr",
     "output_type": "stream",
     "text": [
      " 22%|██████████████████                                                               | 50/225 [00:01<00:03, 47.06it/s]"
     ]
    },
    {
     "name": "stdout",
     "output_type": "stream",
     "text": [
      "\n",
      "torch.Size([128, 2, 2])\n",
      "torch.Size([128, 2, 2])\n",
      "torch.Size([128, 2, 2])\n",
      "torch.Size([128, 2, 2])\n",
      "torch.Size([128, 2, 2])\n",
      "torch.Size([128, 2, 2])\n",
      "torch.Size([128, 2, 2])\n",
      "torch.Size([128, 2, 2])\n",
      "torch.Size([128, 2, 2])"
     ]
    },
    {
     "name": "stderr",
     "output_type": "stream",
     "text": [
      " 27%|█████████████████████▌                                                           | 60/225 [00:01<00:03, 47.14it/s]"
     ]
    },
    {
     "name": "stdout",
     "output_type": "stream",
     "text": [
      "\n",
      "torch.Size([128, 2, 2])\n",
      "torch.Size([128, 2, 2])\n",
      "torch.Size([128, 2, 2])\n",
      "torch.Size([128, 2, 2])\n",
      "torch.Size([128, 2, 2])\n",
      "torch.Size([128, 2, 2])\n",
      "torch.Size([128, 2, 2])\n",
      "torch.Size([128, 2, 2])\n",
      "torch.Size([128, 2, 2])"
     ]
    },
    {
     "name": "stderr",
     "output_type": "stream",
     "text": [
      "\r",
      " 29%|███████████████████████▍                                                         | 65/225 [00:01<00:03, 46.38it/s]"
     ]
    },
    {
     "name": "stdout",
     "output_type": "stream",
     "text": [
      "\n",
      "torch.Size([128, 2, 2])\n",
      "torch.Size([128, 2, 2])\n",
      "torch.Size([128, 2, 2])\n",
      "torch.Size([128, 2, 2])\n",
      "torch.Size([128, 2, 2])\n",
      "torch.Size([128, 2, 2])\n",
      "torch.Size([128, 2, 2])\n",
      "torch.Size([128, 2, 2])\n",
      "torch.Size([128, 2, 2])"
     ]
    },
    {
     "name": "stderr",
     "output_type": "stream",
     "text": [
      " 33%|███████████████████████████                                                      | 75/225 [00:01<00:03, 46.33it/s]"
     ]
    },
    {
     "name": "stdout",
     "output_type": "stream",
     "text": [
      "\n",
      "torch.Size([128, 2, 2])\n",
      "torch.Size([128, 2, 2])\n",
      "torch.Size([128, 2, 2])\n",
      "torch.Size([128, 2, 2])\n",
      "torch.Size([128, 2, 2])\n",
      "torch.Size([128, 2, 2])\n",
      "torch.Size([128, 2, 2])\n",
      "torch.Size([128, 2, 2])"
     ]
    },
    {
     "name": "stderr",
     "output_type": "stream",
     "text": [
      " 38%|██████████████████████████████▌                                                  | 85/225 [00:01<00:02, 46.69it/s]"
     ]
    },
    {
     "name": "stdout",
     "output_type": "stream",
     "text": [
      "\n",
      "torch.Size([128, 2, 2])\n",
      "torch.Size([128, 2, 2])\n",
      "torch.Size([128, 2, 2])\n",
      "torch.Size([128, 2, 2])\n",
      "torch.Size([128, 2, 2])\n",
      "torch.Size([128, 2, 2])\n",
      "torch.Size([128, 2, 2])\n",
      "torch.Size([128, 2, 2])\n",
      "torch.Size([128, 2, 2])"
     ]
    },
    {
     "name": "stderr",
     "output_type": "stream",
     "text": [
      " 42%|██████████████████████████████████▏                                              | 95/225 [00:02<00:02, 46.84it/s]"
     ]
    },
    {
     "name": "stdout",
     "output_type": "stream",
     "text": [
      "\n",
      "torch.Size([128, 2, 2])\n",
      "torch.Size([128, 2, 2])\n",
      "torch.Size([128, 2, 2])\n",
      "torch.Size([128, 2, 2])\n",
      "torch.Size([128, 2, 2])\n",
      "torch.Size([128, 2, 2])\n",
      "torch.Size([128, 2, 2])\n",
      "torch.Size([128, 2, 2])\n",
      "torch.Size([128, 2, 2])"
     ]
    },
    {
     "name": "stderr",
     "output_type": "stream",
     "text": [
      "\r",
      " 44%|███████████████████████████████████▌                                            | 100/225 [00:02<00:02, 46.56it/s]"
     ]
    },
    {
     "name": "stdout",
     "output_type": "stream",
     "text": [
      "\n",
      "torch.Size([128, 2, 2])\n",
      "torch.Size([128, 2, 2])\n",
      "torch.Size([128, 2, 2])\n",
      "torch.Size([128, 2, 2])\n",
      "torch.Size([128, 2, 2])\n",
      "torch.Size([128, 2, 2])\n",
      "torch.Size([128, 2, 2])\n",
      "torch.Size([128, 2, 2])\n",
      "torch.Size([128, 2, 2])"
     ]
    },
    {
     "name": "stderr",
     "output_type": "stream",
     "text": [
      " 49%|███████████████████████████████████████                                         | 110/225 [00:02<00:02, 46.41it/s]"
     ]
    },
    {
     "name": "stdout",
     "output_type": "stream",
     "text": [
      "\n",
      "torch.Size([128, 2, 2])\n",
      "torch.Size([128, 2, 2])\n",
      "torch.Size([128, 2, 2])\n",
      "torch.Size([128, 2, 2])\n",
      "torch.Size([128, 2, 2])\n",
      "torch.Size([128, 2, 2])\n",
      "torch.Size([128, 2, 2])\n",
      "torch.Size([128, 2, 2])\n",
      "torch.Size([128, 2, 2])"
     ]
    },
    {
     "name": "stderr",
     "output_type": "stream",
     "text": [
      " 53%|██████████████████████████████████████████▋                                     | 120/225 [00:02<00:02, 46.71it/s]"
     ]
    },
    {
     "name": "stdout",
     "output_type": "stream",
     "text": [
      "\n",
      "torch.Size([128, 2, 2])\n",
      "torch.Size([128, 2, 2])\n",
      "torch.Size([128, 2, 2])\n",
      "torch.Size([128, 2, 2])\n",
      "torch.Size([128, 2, 2])\n",
      "torch.Size([128, 2, 2])\n",
      "torch.Size([128, 2, 2])\n",
      "torch.Size([128, 2, 2])\n",
      "torch.Size([128, 2, 2])"
     ]
    },
    {
     "name": "stderr",
     "output_type": "stream",
     "text": [
      " 58%|██████████████████████████████████████████████▏                                 | 130/225 [00:02<00:02, 46.93it/s]"
     ]
    },
    {
     "name": "stdout",
     "output_type": "stream",
     "text": [
      "\n",
      "torch.Size([128, 2, 2])\n",
      "torch.Size([128, 2, 2])\n",
      "torch.Size([128, 2, 2])\n",
      "torch.Size([128, 2, 2])\n",
      "torch.Size([128, 2, 2])\n",
      "torch.Size([128, 2, 2])\n",
      "torch.Size([128, 2, 2])\n",
      "torch.Size([128, 2, 2])\n",
      "torch.Size([128, 2, 2])"
     ]
    },
    {
     "name": "stderr",
     "output_type": "stream",
     "text": [
      "\r",
      " 60%|████████████████████████████████████████████████                                | 135/225 [00:02<00:01, 46.75it/s]"
     ]
    },
    {
     "name": "stdout",
     "output_type": "stream",
     "text": [
      "\n",
      "torch.Size([128, 2, 2])\n",
      "torch.Size([128, 2, 2])\n",
      "torch.Size([128, 2, 2])\n",
      "torch.Size([128, 2, 2])\n",
      "torch.Size([128, 2, 2])\n",
      "torch.Size([128, 2, 2])\n",
      "torch.Size([128, 2, 2])\n",
      "torch.Size([128, 2, 2])\n"
     ]
    },
    {
     "name": "stderr",
     "output_type": "stream",
     "text": [
      " 64%|███████████████████████████████████████████████████▌                            | 145/225 [00:03<00:01, 47.04it/s]"
     ]
    },
    {
     "name": "stdout",
     "output_type": "stream",
     "text": [
      "torch.Size([128, 2, 2])\n",
      "torch.Size([128, 2, 2])\n",
      "torch.Size([128, 2, 2])\n",
      "torch.Size([128, 2, 2])\n",
      "torch.Size([128, 2, 2])\n",
      "torch.Size([128, 2, 2])\n",
      "torch.Size([128, 2, 2])\n",
      "torch.Size([128, 2, 2])\n",
      "torch.Size([128, 2, 2])\n",
      "torch.Size([128, 2, 2])"
     ]
    },
    {
     "name": "stderr",
     "output_type": "stream",
     "text": [
      " 69%|███████████████████████████████████████████████████████                         | 155/225 [00:03<00:01, 46.20it/s]"
     ]
    },
    {
     "name": "stdout",
     "output_type": "stream",
     "text": [
      "\n",
      "torch.Size([128, 2, 2])\n",
      "torch.Size([128, 2, 2])\n",
      "torch.Size([128, 2, 2])\n",
      "torch.Size([128, 2, 2])\n",
      "torch.Size([128, 2, 2])\n",
      "torch.Size([128, 2, 2])\n",
      "torch.Size([128, 2, 2])\n",
      "torch.Size([128, 2, 2])\n",
      "torch.Size([128, 2, 2])"
     ]
    },
    {
     "name": "stderr",
     "output_type": "stream",
     "text": [
      " 73%|██████████████████████████████████████████████████████████▋                     | 165/225 [00:03<00:01, 47.04it/s]"
     ]
    },
    {
     "name": "stdout",
     "output_type": "stream",
     "text": [
      "\n",
      "torch.Size([128, 2, 2])\n",
      "torch.Size([128, 2, 2])\n",
      "torch.Size([128, 2, 2])\n",
      "torch.Size([128, 2, 2])\n",
      "torch.Size([128, 2, 2])\n",
      "torch.Size([128, 2, 2])\n",
      "torch.Size([128, 2, 2])\n",
      "torch.Size([128, 2, 2])\n",
      "torch.Size([128, 2, 2])"
     ]
    },
    {
     "name": "stderr",
     "output_type": "stream",
     "text": [
      " 78%|██████████████████████████████████████████████████████████████▏                 | 175/225 [00:03<00:01, 47.22it/s]"
     ]
    },
    {
     "name": "stdout",
     "output_type": "stream",
     "text": [
      "\n",
      "torch.Size([128, 2, 2])\n",
      "torch.Size([128, 2, 2])\n",
      "torch.Size([128, 2, 2])\n",
      "torch.Size([128, 2, 2])\n",
      "torch.Size([128, 2, 2])\n",
      "torch.Size([128, 2, 2])\n",
      "torch.Size([128, 2, 2])\n",
      "torch.Size([128, 2, 2])\n",
      "torch.Size([128, 2, 2])"
     ]
    },
    {
     "name": "stderr",
     "output_type": "stream",
     "text": [
      "\r",
      " 80%|████████████████████████████████████████████████████████████████                | 180/225 [00:03<00:00, 45.54it/s]"
     ]
    },
    {
     "name": "stdout",
     "output_type": "stream",
     "text": [
      "\n",
      "torch.Size([128, 2, 2])\n",
      "torch.Size([128, 2, 2])\n",
      "torch.Size([128, 2, 2])\n",
      "torch.Size([128, 2, 2])\n",
      "torch.Size([128, 2, 2])\n",
      "torch.Size([128, 2, 2])\n",
      "torch.Size([128, 2, 2])\n",
      "torch.Size([128, 2, 2])\n"
     ]
    },
    {
     "name": "stderr",
     "output_type": "stream",
     "text": [
      " 84%|███████████████████████████████████████████████████████████████████▌            | 190/225 [00:04<00:00, 46.65it/s]"
     ]
    },
    {
     "name": "stdout",
     "output_type": "stream",
     "text": [
      "torch.Size([128, 2, 2])\n",
      "torch.Size([128, 2, 2])\n",
      "torch.Size([128, 2, 2])\n",
      "torch.Size([128, 2, 2])\n",
      "torch.Size([128, 2, 2])\n",
      "torch.Size([128, 2, 2])\n",
      "torch.Size([128, 2, 2])\n",
      "torch.Size([128, 2, 2])\n",
      "torch.Size([128, 2, 2])\n",
      "torch.Size([128, 2, 2])"
     ]
    },
    {
     "name": "stderr",
     "output_type": "stream",
     "text": [
      " 89%|███████████████████████████████████████████████████████████████████████         | 200/225 [00:04<00:00, 46.98it/s]"
     ]
    },
    {
     "name": "stdout",
     "output_type": "stream",
     "text": [
      "\n",
      "torch.Size([128, 2, 2])\n",
      "torch.Size([128, 2, 2])\n",
      "torch.Size([128, 2, 2])\n",
      "torch.Size([128, 2, 2])\n",
      "torch.Size([128, 2, 2])\n",
      "torch.Size([128, 2, 2])\n",
      "torch.Size([128, 2, 2])\n",
      "torch.Size([128, 2, 2])\n",
      "torch.Size([128, 2, 2])"
     ]
    },
    {
     "name": "stderr",
     "output_type": "stream",
     "text": [
      " 93%|██████████████████████████████████████████████████████████████████████████▋     | 210/225 [00:04<00:00, 47.06it/s]"
     ]
    },
    {
     "name": "stdout",
     "output_type": "stream",
     "text": [
      "\n",
      "torch.Size([128, 2, 2])\n",
      "torch.Size([128, 2, 2])\n",
      "torch.Size([128, 2, 2])\n",
      "torch.Size([128, 2, 2])\n",
      "torch.Size([128, 2, 2])\n",
      "torch.Size([128, 2, 2])\n",
      "torch.Size([128, 2, 2])\n",
      "torch.Size([128, 2, 2])\n",
      "torch.Size([128, 2, 2])"
     ]
    },
    {
     "name": "stderr",
     "output_type": "stream",
     "text": [
      " 98%|██████████████████████████████████████████████████████████████████████████████▏ | 220/225 [00:04<00:00, 47.27it/s]"
     ]
    },
    {
     "name": "stdout",
     "output_type": "stream",
     "text": [
      "\n",
      "torch.Size([128, 2, 2])\n",
      "torch.Size([128, 2, 2])\n",
      "torch.Size([128, 2, 2])\n",
      "torch.Size([128, 2, 2])\n",
      "torch.Size([128, 2, 2])\n",
      "torch.Size([128, 2, 2])\n",
      "torch.Size([128, 2, 2])\n",
      "torch.Size([128, 2, 2])\n",
      "torch.Size([128, 2, 2])"
     ]
    },
    {
     "name": "stderr",
     "output_type": "stream",
     "text": [
      "100%|████████████████████████████████████████████████████████████████████████████████| 225/225 [00:04<00:00, 46.77it/s]"
     ]
    },
    {
     "name": "stdout",
     "output_type": "stream",
     "text": [
      "\n",
      "torch.Size([128, 2, 2])\n",
      "torch.Size([128, 2, 2])\n",
      "torch.Size([128, 2, 2])\n",
      "Epoch: 9. Loss: 0.07660806179046631\n"
     ]
    },
    {
     "name": "stderr",
     "output_type": "stream",
     "text": [
      "\n"
     ]
    }
   ],
   "source": [
    "#redefining to train on the GPU\n",
    "BATCH_SIZE = 100 #if you are hitting memory size errors, this is something easy to tweak\n",
    "EPOCHS = 10\n",
    "\n",
    "def train(net):\n",
    "    optimizer = optim.Adam(net.parameters(), lr = 0.001)\n",
    "    loss_function = nn.MSELoss()\n",
    "\n",
    "    for epoch in range(EPOCHS):\n",
    "        for i in tqdm(range(0, len(train_X),BATCH_SIZE)):\n",
    "                #print(i, i+BATCH_SIZE)\n",
    "                batch_X = train_X[i:i+BATCH_SIZE].view(-1,1,50,50).to(device)\n",
    "                batch_y = train_y[i:i+BATCH_SIZE].to(device)\n",
    "\n",
    "                #goint to do fitment to zero the gradient\n",
    "                #net is corresponding to our model, you may see model.zerograd\n",
    "                net.zero_grad()\n",
    "                outputs = net(batch_X)\n",
    "                loss = loss_function(outputs, batch_y)\n",
    "                loss.backward()\n",
    "                optimizer.step() #Does the update\n",
    "        print(f\"Epoch: {epoch}. Loss: {loss}\")\n",
    "    \n",
    "train(net)"
   ]
  },
  {
   "cell_type": "code",
   "execution_count": 18,
   "metadata": {},
   "outputs": [
    {
     "name": "stderr",
     "output_type": "stream",
     "text": [
      "  2%|█▊                                                                                | 5/225 [00:00<00:05, 43.52it/s]"
     ]
    },
    {
     "name": "stdout",
     "output_type": "stream",
     "text": [
      "torch.Size([128, 2, 2])\n",
      "torch.Size([128, 2, 2])\n",
      "torch.Size([128, 2, 2])\n",
      "torch.Size([128, 2, 2])\n",
      "torch.Size([128, 2, 2])\n",
      "torch.Size([128, 2, 2])\n",
      "torch.Size([128, 2, 2])\n",
      "torch.Size([128, 2, 2])\n",
      "torch.Size([128, 2, 2])\n",
      "torch.Size([128, 2, 2])"
     ]
    },
    {
     "name": "stderr",
     "output_type": "stream",
     "text": [
      "  7%|█████▍                                                                           | 15/225 [00:00<00:04, 44.63it/s]"
     ]
    },
    {
     "name": "stdout",
     "output_type": "stream",
     "text": [
      "\n",
      "torch.Size([128, 2, 2])\n",
      "torch.Size([128, 2, 2])\n",
      "torch.Size([128, 2, 2])\n",
      "torch.Size([128, 2, 2])\n",
      "torch.Size([128, 2, 2])\n",
      "torch.Size([128, 2, 2])\n",
      "torch.Size([128, 2, 2])\n",
      "torch.Size([128, 2, 2])\n",
      "torch.Size([128, 2, 2])"
     ]
    },
    {
     "name": "stderr",
     "output_type": "stream",
     "text": [
      " 11%|█████████                                                                        | 25/225 [00:00<00:04, 45.94it/s]"
     ]
    },
    {
     "name": "stdout",
     "output_type": "stream",
     "text": [
      "\n",
      "torch.Size([128, 2, 2])\n",
      "torch.Size([128, 2, 2])\n",
      "torch.Size([128, 2, 2])\n",
      "torch.Size([128, 2, 2])\n",
      "torch.Size([128, 2, 2])\n",
      "torch.Size([128, 2, 2])\n",
      "torch.Size([128, 2, 2])\n",
      "torch.Size([128, 2, 2])\n",
      "torch.Size([128, 2, 2])"
     ]
    },
    {
     "name": "stderr",
     "output_type": "stream",
     "text": [
      " 16%|████████████▌                                                                    | 35/225 [00:00<00:04, 46.40it/s]"
     ]
    },
    {
     "name": "stdout",
     "output_type": "stream",
     "text": [
      "\n",
      "torch.Size([128, 2, 2])\n",
      "torch.Size([128, 2, 2])\n",
      "torch.Size([128, 2, 2])\n",
      "torch.Size([128, 2, 2])\n",
      "torch.Size([128, 2, 2])\n",
      "torch.Size([128, 2, 2])\n",
      "torch.Size([128, 2, 2])\n",
      "torch.Size([128, 2, 2])\n",
      "torch.Size([128, 2, 2])"
     ]
    },
    {
     "name": "stderr",
     "output_type": "stream",
     "text": [
      " 20%|████████████████▏                                                                | 45/225 [00:00<00:03, 46.91it/s]"
     ]
    },
    {
     "name": "stdout",
     "output_type": "stream",
     "text": [
      "\n",
      "torch.Size([128, 2, 2])\n",
      "torch.Size([128, 2, 2])\n",
      "torch.Size([128, 2, 2])\n",
      "torch.Size([128, 2, 2])\n",
      "torch.Size([128, 2, 2])\n",
      "torch.Size([128, 2, 2])\n",
      "torch.Size([128, 2, 2])\n",
      "torch.Size([128, 2, 2])\n",
      "torch.Size([128, 2, 2])"
     ]
    },
    {
     "name": "stderr",
     "output_type": "stream",
     "text": [
      "\r",
      " 22%|██████████████████                                                               | 50/225 [00:01<00:03, 46.54it/s]"
     ]
    },
    {
     "name": "stdout",
     "output_type": "stream",
     "text": [
      "\n",
      "torch.Size([128, 2, 2])\n",
      "torch.Size([128, 2, 2])\n",
      "torch.Size([128, 2, 2])\n",
      "torch.Size([128, 2, 2])\n",
      "torch.Size([128, 2, 2])\n",
      "torch.Size([128, 2, 2])\n",
      "torch.Size([128, 2, 2])\n",
      "torch.Size([128, 2, 2])\n",
      "torch.Size([128, 2, 2])"
     ]
    },
    {
     "name": "stderr",
     "output_type": "stream",
     "text": [
      " 27%|█████████████████████▌                                                           | 60/225 [00:01<00:03, 47.07it/s]"
     ]
    },
    {
     "name": "stdout",
     "output_type": "stream",
     "text": [
      "\n",
      "torch.Size([128, 2, 2])\n",
      "torch.Size([128, 2, 2])\n",
      "torch.Size([128, 2, 2])\n",
      "torch.Size([128, 2, 2])\n",
      "torch.Size([128, 2, 2])\n",
      "torch.Size([128, 2, 2])\n",
      "torch.Size([128, 2, 2])\n",
      "torch.Size([128, 2, 2])\n",
      "torch.Size([128, 2, 2])"
     ]
    },
    {
     "name": "stderr",
     "output_type": "stream",
     "text": [
      " 31%|█████████████████████████▏                                                       | 70/225 [00:01<00:03, 47.18it/s]"
     ]
    },
    {
     "name": "stdout",
     "output_type": "stream",
     "text": [
      "\n",
      "torch.Size([128, 2, 2])\n",
      "torch.Size([128, 2, 2])\n",
      "torch.Size([128, 2, 2])\n",
      "torch.Size([128, 2, 2])\n",
      "torch.Size([128, 2, 2])\n",
      "torch.Size([128, 2, 2])\n",
      "torch.Size([128, 2, 2])\n",
      "torch.Size([128, 2, 2])\n",
      "torch.Size([128, 2, 2])"
     ]
    },
    {
     "name": "stderr",
     "output_type": "stream",
     "text": [
      " 36%|████████████████████████████▊                                                    | 80/225 [00:01<00:03, 47.11it/s]"
     ]
    },
    {
     "name": "stdout",
     "output_type": "stream",
     "text": [
      "\n",
      "torch.Size([128, 2, 2])\n",
      "torch.Size([128, 2, 2])\n",
      "torch.Size([128, 2, 2])\n",
      "torch.Size([128, 2, 2])\n",
      "torch.Size([128, 2, 2])\n",
      "torch.Size([128, 2, 2])\n",
      "torch.Size([128, 2, 2])\n",
      "torch.Size([128, 2, 2])\n",
      "torch.Size([128, 2, 2])"
     ]
    },
    {
     "name": "stderr",
     "output_type": "stream",
     "text": [
      "\r",
      " 38%|██████████████████████████████▌                                                  | 85/225 [00:01<00:02, 46.68it/s]"
     ]
    },
    {
     "name": "stdout",
     "output_type": "stream",
     "text": [
      "\n",
      "torch.Size([128, 2, 2])\n",
      "torch.Size([128, 2, 2])\n",
      "torch.Size([128, 2, 2])\n",
      "torch.Size([128, 2, 2])\n",
      "torch.Size([128, 2, 2])\n",
      "torch.Size([128, 2, 2])\n",
      "torch.Size([128, 2, 2])\n",
      "torch.Size([128, 2, 2])\n"
     ]
    },
    {
     "name": "stderr",
     "output_type": "stream",
     "text": [
      " 42%|██████████████████████████████████▏                                              | 95/225 [00:02<00:02, 46.91it/s]"
     ]
    },
    {
     "name": "stdout",
     "output_type": "stream",
     "text": [
      "torch.Size([128, 2, 2])\n",
      "torch.Size([128, 2, 2])\n",
      "torch.Size([128, 2, 2])\n",
      "torch.Size([128, 2, 2])\n",
      "torch.Size([128, 2, 2])\n",
      "torch.Size([128, 2, 2])\n",
      "torch.Size([128, 2, 2])\n",
      "torch.Size([128, 2, 2])\n",
      "torch.Size([128, 2, 2])\n",
      "torch.Size([128, 2, 2])"
     ]
    },
    {
     "name": "stderr",
     "output_type": "stream",
     "text": [
      " 47%|█████████████████████████████████████▎                                          | 105/225 [00:02<00:02, 47.33it/s]"
     ]
    },
    {
     "name": "stdout",
     "output_type": "stream",
     "text": [
      "\n",
      "torch.Size([128, 2, 2])\n",
      "torch.Size([128, 2, 2])\n",
      "torch.Size([128, 2, 2])\n",
      "torch.Size([128, 2, 2])\n",
      "torch.Size([128, 2, 2])\n",
      "torch.Size([128, 2, 2])\n",
      "torch.Size([128, 2, 2])\n",
      "torch.Size([128, 2, 2])\n",
      "torch.Size([128, 2, 2])"
     ]
    },
    {
     "name": "stderr",
     "output_type": "stream",
     "text": [
      " 51%|████████████████████████████████████████▉                                       | 115/225 [00:02<00:02, 47.60it/s]"
     ]
    },
    {
     "name": "stdout",
     "output_type": "stream",
     "text": [
      "\n",
      "torch.Size([128, 2, 2])\n",
      "torch.Size([128, 2, 2])\n",
      "torch.Size([128, 2, 2])\n",
      "torch.Size([128, 2, 2])\n",
      "torch.Size([128, 2, 2])\n",
      "torch.Size([128, 2, 2])\n",
      "torch.Size([128, 2, 2])\n",
      "torch.Size([128, 2, 2])\n",
      "torch.Size([128, 2, 2])"
     ]
    },
    {
     "name": "stderr",
     "output_type": "stream",
     "text": [
      " 56%|████████████████████████████████████████████▍                                   | 125/225 [00:02<00:02, 47.50it/s]"
     ]
    },
    {
     "name": "stdout",
     "output_type": "stream",
     "text": [
      "\n",
      "torch.Size([128, 2, 2])\n",
      "torch.Size([128, 2, 2])\n",
      "torch.Size([128, 2, 2])\n",
      "torch.Size([128, 2, 2])\n",
      "torch.Size([128, 2, 2])\n",
      "torch.Size([128, 2, 2])\n",
      "torch.Size([128, 2, 2])\n",
      "torch.Size([128, 2, 2])\n",
      "torch.Size([128, 2, 2])"
     ]
    },
    {
     "name": "stderr",
     "output_type": "stream",
     "text": [
      " 60%|████████████████████████████████████████████████                                | 135/225 [00:02<00:01, 47.22it/s]"
     ]
    },
    {
     "name": "stdout",
     "output_type": "stream",
     "text": [
      "\n",
      "torch.Size([128, 2, 2])\n",
      "torch.Size([128, 2, 2])\n",
      "torch.Size([128, 2, 2])\n",
      "torch.Size([128, 2, 2])\n",
      "torch.Size([128, 2, 2])\n",
      "torch.Size([128, 2, 2])\n",
      "torch.Size([128, 2, 2])\n",
      "torch.Size([128, 2, 2])\n",
      "torch.Size([128, 2, 2])"
     ]
    },
    {
     "name": "stderr",
     "output_type": "stream",
     "text": [
      "\r",
      " 62%|█████████████████████████████████████████████████▊                              | 140/225 [00:02<00:01, 47.35it/s]"
     ]
    },
    {
     "name": "stdout",
     "output_type": "stream",
     "text": [
      "\n",
      "torch.Size([128, 2, 2])\n",
      "torch.Size([128, 2, 2])\n",
      "torch.Size([128, 2, 2])\n",
      "torch.Size([128, 2, 2])\n",
      "torch.Size([128, 2, 2])\n",
      "torch.Size([128, 2, 2])\n",
      "torch.Size([128, 2, 2])\n",
      "torch.Size([128, 2, 2])\n",
      "torch.Size([128, 2, 2])"
     ]
    },
    {
     "name": "stderr",
     "output_type": "stream",
     "text": [
      " 67%|█████████████████████████████████████████████████████▎                          | 150/225 [00:03<00:01, 44.58it/s]"
     ]
    },
    {
     "name": "stdout",
     "output_type": "stream",
     "text": [
      "\n",
      "torch.Size([128, 2, 2])\n",
      "torch.Size([128, 2, 2])\n",
      "torch.Size([128, 2, 2])\n",
      "torch.Size([128, 2, 2])\n",
      "torch.Size([128, 2, 2])\n",
      "torch.Size([128, 2, 2])\n",
      "torch.Size([128, 2, 2])\n",
      "torch.Size([128, 2, 2])"
     ]
    },
    {
     "name": "stderr",
     "output_type": "stream",
     "text": [
      " 71%|████████████████████████████████████████████████████████▉                       | 160/225 [00:03<00:01, 45.93it/s]"
     ]
    },
    {
     "name": "stdout",
     "output_type": "stream",
     "text": [
      "\n",
      "torch.Size([128, 2, 2])\n",
      "torch.Size([128, 2, 2])\n",
      "torch.Size([128, 2, 2])\n",
      "torch.Size([128, 2, 2])\n",
      "torch.Size([128, 2, 2])\n",
      "torch.Size([128, 2, 2])\n",
      "torch.Size([128, 2, 2])\n",
      "torch.Size([128, 2, 2])\n",
      "torch.Size([128, 2, 2])"
     ]
    },
    {
     "name": "stderr",
     "output_type": "stream",
     "text": [
      " 76%|████████████████████████████████████████████████████████████▍                   | 170/225 [00:03<00:01, 46.93it/s]"
     ]
    },
    {
     "name": "stdout",
     "output_type": "stream",
     "text": [
      "\n",
      "torch.Size([128, 2, 2])\n",
      "torch.Size([128, 2, 2])\n",
      "torch.Size([128, 2, 2])\n",
      "torch.Size([128, 2, 2])\n",
      "torch.Size([128, 2, 2])\n",
      "torch.Size([128, 2, 2])\n",
      "torch.Size([128, 2, 2])\n",
      "torch.Size([128, 2, 2])\n",
      "torch.Size([128, 2, 2])"
     ]
    },
    {
     "name": "stderr",
     "output_type": "stream",
     "text": [
      "\r",
      " 78%|██████████████████████████████████████████████████████████████▏                 | 175/225 [00:03<00:01, 47.08it/s]"
     ]
    },
    {
     "name": "stdout",
     "output_type": "stream",
     "text": [
      "\n",
      "torch.Size([128, 2, 2])\n",
      "torch.Size([128, 2, 2])\n",
      "torch.Size([128, 2, 2])\n",
      "torch.Size([128, 2, 2])\n",
      "torch.Size([128, 2, 2])\n",
      "torch.Size([128, 2, 2])\n",
      "torch.Size([128, 2, 2])\n",
      "torch.Size([128, 2, 2])\n",
      "torch.Size([128, 2, 2])"
     ]
    },
    {
     "name": "stderr",
     "output_type": "stream",
     "text": [
      " 82%|█████████████████████████████████████████████████████████████████▊              | 185/225 [00:03<00:00, 47.22it/s]"
     ]
    },
    {
     "name": "stdout",
     "output_type": "stream",
     "text": [
      "\n",
      "torch.Size([128, 2, 2])\n",
      "torch.Size([128, 2, 2])\n",
      "torch.Size([128, 2, 2])\n",
      "torch.Size([128, 2, 2])\n",
      "torch.Size([128, 2, 2])\n",
      "torch.Size([128, 2, 2])\n",
      "torch.Size([128, 2, 2])\n",
      "torch.Size([128, 2, 2])\n",
      "torch.Size([128, 2, 2])"
     ]
    },
    {
     "name": "stderr",
     "output_type": "stream",
     "text": [
      " 87%|█████████████████████████████████████████████████████████████████████▎          | 195/225 [00:04<00:00, 47.47it/s]"
     ]
    },
    {
     "name": "stdout",
     "output_type": "stream",
     "text": [
      "\n",
      "torch.Size([128, 2, 2])\n",
      "torch.Size([128, 2, 2])\n",
      "torch.Size([128, 2, 2])\n",
      "torch.Size([128, 2, 2])\n",
      "torch.Size([128, 2, 2])\n",
      "torch.Size([128, 2, 2])\n",
      "torch.Size([128, 2, 2])\n",
      "torch.Size([128, 2, 2])\n",
      "torch.Size([128, 2, 2])"
     ]
    },
    {
     "name": "stderr",
     "output_type": "stream",
     "text": [
      " 91%|████████████████████████████████████████████████████████████████████████▉       | 205/225 [00:04<00:00, 47.64it/s]"
     ]
    },
    {
     "name": "stdout",
     "output_type": "stream",
     "text": [
      "\n",
      "torch.Size([128, 2, 2])\n",
      "torch.Size([128, 2, 2])\n",
      "torch.Size([128, 2, 2])\n",
      "torch.Size([128, 2, 2])\n",
      "torch.Size([128, 2, 2])\n",
      "torch.Size([128, 2, 2])\n",
      "torch.Size([128, 2, 2])\n",
      "torch.Size([128, 2, 2])\n",
      "torch.Size([128, 2, 2])"
     ]
    },
    {
     "name": "stderr",
     "output_type": "stream",
     "text": [
      "\r",
      " 93%|██████████████████████████████████████████████████████████████████████████▋     | 210/225 [00:04<00:00, 47.85it/s]"
     ]
    },
    {
     "name": "stdout",
     "output_type": "stream",
     "text": [
      "\n",
      "torch.Size([128, 2, 2])\n",
      "torch.Size([128, 2, 2])\n",
      "torch.Size([128, 2, 2])\n",
      "torch.Size([128, 2, 2])\n",
      "torch.Size([128, 2, 2])\n",
      "torch.Size([128, 2, 2])\n",
      "torch.Size([128, 2, 2])\n",
      "torch.Size([128, 2, 2])\n"
     ]
    },
    {
     "name": "stderr",
     "output_type": "stream",
     "text": [
      " 98%|██████████████████████████████████████████████████████████████████████████████▏ | 220/225 [00:04<00:00, 47.53it/s]"
     ]
    },
    {
     "name": "stdout",
     "output_type": "stream",
     "text": [
      "torch.Size([128, 2, 2])\n",
      "torch.Size([128, 2, 2])\n",
      "torch.Size([128, 2, 2])\n",
      "torch.Size([128, 2, 2])\n",
      "torch.Size([128, 2, 2])\n",
      "torch.Size([128, 2, 2])\n",
      "torch.Size([128, 2, 2])\n",
      "torch.Size([128, 2, 2])\n",
      "torch.Size([128, 2, 2])\n",
      "torch.Size([128, 2, 2])"
     ]
    },
    {
     "name": "stderr",
     "output_type": "stream",
     "text": [
      "100%|████████████████████████████████████████████████████████████████████████████████| 225/225 [00:04<00:00, 46.91it/s]\n",
      "  3%|██▏                                                                               | 6/225 [00:00<00:04, 49.64it/s]"
     ]
    },
    {
     "name": "stdout",
     "output_type": "stream",
     "text": [
      "\n",
      "Epoch: 0. Loss: 0.07577420771121979\n",
      "torch.Size([128, 2, 2])\n",
      "torch.Size([128, 2, 2])\n",
      "torch.Size([128, 2, 2])\n",
      "torch.Size([128, 2, 2])\n",
      "torch.Size([128, 2, 2])\n",
      "torch.Size([128, 2, 2])\n",
      "torch.Size([128, 2, 2])\n",
      "torch.Size([128, 2, 2])\n",
      "torch.Size([128, 2, 2])\n",
      "torch.Size([128, 2, 2])"
     ]
    },
    {
     "name": "stderr",
     "output_type": "stream",
     "text": [
      "  7%|█████▊                                                                           | 16/225 [00:00<00:04, 48.42it/s]"
     ]
    },
    {
     "name": "stdout",
     "output_type": "stream",
     "text": [
      "\n",
      "torch.Size([128, 2, 2])\n",
      "torch.Size([128, 2, 2])\n",
      "torch.Size([128, 2, 2])\n",
      "torch.Size([128, 2, 2])\n",
      "torch.Size([128, 2, 2])\n",
      "torch.Size([128, 2, 2])\n",
      "torch.Size([128, 2, 2])\n",
      "torch.Size([128, 2, 2])\n",
      "torch.Size([128, 2, 2])"
     ]
    },
    {
     "name": "stderr",
     "output_type": "stream",
     "text": [
      " 12%|█████████▎                                                                       | 26/225 [00:00<00:04, 48.13it/s]"
     ]
    },
    {
     "name": "stdout",
     "output_type": "stream",
     "text": [
      "\n",
      "torch.Size([128, 2, 2])\n",
      "torch.Size([128, 2, 2])\n",
      "torch.Size([128, 2, 2])\n",
      "torch.Size([128, 2, 2])\n",
      "torch.Size([128, 2, 2])\n",
      "torch.Size([128, 2, 2])\n",
      "torch.Size([128, 2, 2])\n",
      "torch.Size([128, 2, 2])\n",
      "torch.Size([128, 2, 2])"
     ]
    },
    {
     "name": "stderr",
     "output_type": "stream",
     "text": [
      "\r",
      " 14%|███████████▏                                                                     | 31/225 [00:00<00:04, 47.99it/s]"
     ]
    },
    {
     "name": "stdout",
     "output_type": "stream",
     "text": [
      "\n",
      "torch.Size([128, 2, 2])\n",
      "torch.Size([128, 2, 2])\n",
      "torch.Size([128, 2, 2])\n",
      "torch.Size([128, 2, 2])\n",
      "torch.Size([128, 2, 2])\n",
      "torch.Size([128, 2, 2])\n",
      "torch.Size([128, 2, 2])\n",
      "torch.Size([128, 2, 2])\n"
     ]
    },
    {
     "name": "stderr",
     "output_type": "stream",
     "text": [
      " 18%|██████████████▊                                                                  | 41/225 [00:00<00:03, 47.40it/s]"
     ]
    },
    {
     "name": "stdout",
     "output_type": "stream",
     "text": [
      "torch.Size([128, 2, 2])\n",
      "torch.Size([128, 2, 2])\n",
      "torch.Size([128, 2, 2])\n",
      "torch.Size([128, 2, 2])\n",
      "torch.Size([128, 2, 2])\n",
      "torch.Size([128, 2, 2])\n",
      "torch.Size([128, 2, 2])\n",
      "torch.Size([128, 2, 2])\n",
      "torch.Size([128, 2, 2])\n",
      "torch.Size([128, 2, 2])"
     ]
    },
    {
     "name": "stderr",
     "output_type": "stream",
     "text": [
      " 23%|██████████████████▎                                                              | 51/225 [00:01<00:03, 47.23it/s]"
     ]
    },
    {
     "name": "stdout",
     "output_type": "stream",
     "text": [
      "\n",
      "torch.Size([128, 2, 2])\n",
      "torch.Size([128, 2, 2])\n",
      "torch.Size([128, 2, 2])\n",
      "torch.Size([128, 2, 2])\n",
      "torch.Size([128, 2, 2])\n",
      "torch.Size([128, 2, 2])\n",
      "torch.Size([128, 2, 2])\n",
      "torch.Size([128, 2, 2])\n",
      "torch.Size([128, 2, 2])"
     ]
    },
    {
     "name": "stderr",
     "output_type": "stream",
     "text": [
      " 27%|█████████████████████▉                                                           | 61/225 [00:01<00:03, 47.17it/s]"
     ]
    },
    {
     "name": "stdout",
     "output_type": "stream",
     "text": [
      "\n",
      "torch.Size([128, 2, 2])\n",
      "torch.Size([128, 2, 2])\n",
      "torch.Size([128, 2, 2])\n",
      "torch.Size([128, 2, 2])\n",
      "torch.Size([128, 2, 2])\n",
      "torch.Size([128, 2, 2])\n",
      "torch.Size([128, 2, 2])\n",
      "torch.Size([128, 2, 2])\n",
      "torch.Size([128, 2, 2])"
     ]
    },
    {
     "name": "stderr",
     "output_type": "stream",
     "text": [
      " 32%|█████████████████████████▌                                                       | 71/225 [00:01<00:03, 46.97it/s]"
     ]
    },
    {
     "name": "stdout",
     "output_type": "stream",
     "text": [
      "\n",
      "torch.Size([128, 2, 2])\n",
      "torch.Size([128, 2, 2])\n",
      "torch.Size([128, 2, 2])\n",
      "torch.Size([128, 2, 2])\n",
      "torch.Size([128, 2, 2])\n",
      "torch.Size([128, 2, 2])\n",
      "torch.Size([128, 2, 2])\n",
      "torch.Size([128, 2, 2])\n",
      "torch.Size([128, 2, 2])"
     ]
    },
    {
     "name": "stderr",
     "output_type": "stream",
     "text": [
      "\r",
      " 34%|███████████████████████████▎                                                     | 76/225 [00:01<00:03, 47.17it/s]"
     ]
    },
    {
     "name": "stdout",
     "output_type": "stream",
     "text": [
      "\n",
      "torch.Size([128, 2, 2])\n",
      "torch.Size([128, 2, 2])\n",
      "torch.Size([128, 2, 2])\n",
      "torch.Size([128, 2, 2])\n",
      "torch.Size([128, 2, 2])\n",
      "torch.Size([128, 2, 2])\n",
      "torch.Size([128, 2, 2])\n",
      "torch.Size([128, 2, 2])\n"
     ]
    },
    {
     "name": "stderr",
     "output_type": "stream",
     "text": [
      " 38%|██████████████████████████████▉                                                  | 86/225 [00:01<00:02, 46.49it/s]"
     ]
    },
    {
     "name": "stdout",
     "output_type": "stream",
     "text": [
      "torch.Size([128, 2, 2])\n",
      "torch.Size([128, 2, 2])\n",
      "torch.Size([128, 2, 2])\n",
      "torch.Size([128, 2, 2])\n",
      "torch.Size([128, 2, 2])\n",
      "torch.Size([128, 2, 2])\n",
      "torch.Size([128, 2, 2])\n",
      "torch.Size([128, 2, 2])\n",
      "torch.Size([128, 2, 2])"
     ]
    },
    {
     "name": "stderr",
     "output_type": "stream",
     "text": [
      " 43%|██████████████████████████████████▌                                              | 96/225 [00:02<00:02, 46.99it/s]"
     ]
    },
    {
     "name": "stdout",
     "output_type": "stream",
     "text": [
      "\n",
      "torch.Size([128, 2, 2])\n",
      "torch.Size([128, 2, 2])\n",
      "torch.Size([128, 2, 2])\n",
      "torch.Size([128, 2, 2])\n",
      "torch.Size([128, 2, 2])\n",
      "torch.Size([128, 2, 2])\n",
      "torch.Size([128, 2, 2])\n",
      "torch.Size([128, 2, 2])\n",
      "torch.Size([128, 2, 2])"
     ]
    },
    {
     "name": "stderr",
     "output_type": "stream",
     "text": [
      " 47%|█████████████████████████████████████▋                                          | 106/225 [00:02<00:02, 47.47it/s]"
     ]
    },
    {
     "name": "stdout",
     "output_type": "stream",
     "text": [
      "\n",
      "torch.Size([128, 2, 2])\n",
      "torch.Size([128, 2, 2])\n",
      "torch.Size([128, 2, 2])\n",
      "torch.Size([128, 2, 2])\n",
      "torch.Size([128, 2, 2])\n",
      "torch.Size([128, 2, 2])\n",
      "torch.Size([128, 2, 2])\n",
      "torch.Size([128, 2, 2])\n",
      "torch.Size([128, 2, 2])"
     ]
    },
    {
     "name": "stderr",
     "output_type": "stream",
     "text": [
      " 52%|█████████████████████████████████████████▏                                      | 116/225 [00:02<00:02, 47.57it/s]"
     ]
    },
    {
     "name": "stdout",
     "output_type": "stream",
     "text": [
      "\n",
      "torch.Size([128, 2, 2])\n",
      "torch.Size([128, 2, 2])\n",
      "torch.Size([128, 2, 2])\n",
      "torch.Size([128, 2, 2])\n",
      "torch.Size([128, 2, 2])\n",
      "torch.Size([128, 2, 2])\n",
      "torch.Size([128, 2, 2])\n",
      "torch.Size([128, 2, 2])\n",
      "torch.Size([128, 2, 2])"
     ]
    },
    {
     "name": "stderr",
     "output_type": "stream",
     "text": [
      "\r",
      " 54%|███████████████████████████████████████████                                     | 121/225 [00:02<00:02, 47.46it/s]"
     ]
    },
    {
     "name": "stdout",
     "output_type": "stream",
     "text": [
      "\n",
      "torch.Size([128, 2, 2])\n",
      "torch.Size([128, 2, 2])\n",
      "torch.Size([128, 2, 2])\n",
      "torch.Size([128, 2, 2])\n",
      "torch.Size([128, 2, 2])\n",
      "torch.Size([128, 2, 2])\n",
      "torch.Size([128, 2, 2])\n",
      "torch.Size([128, 2, 2])\n",
      "torch.Size([128, 2, 2])"
     ]
    },
    {
     "name": "stderr",
     "output_type": "stream",
     "text": [
      " 58%|██████████████████████████████████████████████▌                                 | 131/225 [00:02<00:01, 47.52it/s]"
     ]
    },
    {
     "name": "stdout",
     "output_type": "stream",
     "text": [
      "\n",
      "torch.Size([128, 2, 2])\n",
      "torch.Size([128, 2, 2])\n",
      "torch.Size([128, 2, 2])\n",
      "torch.Size([128, 2, 2])\n",
      "torch.Size([128, 2, 2])\n",
      "torch.Size([128, 2, 2])\n",
      "torch.Size([128, 2, 2])\n",
      "torch.Size([128, 2, 2])\n",
      "torch.Size([128, 2, 2])"
     ]
    },
    {
     "name": "stderr",
     "output_type": "stream",
     "text": [
      " 63%|██████████████████████████████████████████████████▏                             | 141/225 [00:02<00:01, 47.66it/s]"
     ]
    },
    {
     "name": "stdout",
     "output_type": "stream",
     "text": [
      "\n",
      "torch.Size([128, 2, 2])\n",
      "torch.Size([128, 2, 2])\n",
      "torch.Size([128, 2, 2])\n",
      "torch.Size([128, 2, 2])\n",
      "torch.Size([128, 2, 2])\n",
      "torch.Size([128, 2, 2])\n",
      "torch.Size([128, 2, 2])\n",
      "torch.Size([128, 2, 2])\n",
      "torch.Size([128, 2, 2])"
     ]
    },
    {
     "name": "stderr",
     "output_type": "stream",
     "text": [
      " 67%|█████████████████████████████████████████████████████▋                          | 151/225 [00:03<00:01, 47.52it/s]"
     ]
    },
    {
     "name": "stdout",
     "output_type": "stream",
     "text": [
      "\n",
      "torch.Size([128, 2, 2])\n",
      "torch.Size([128, 2, 2])\n",
      "torch.Size([128, 2, 2])\n",
      "torch.Size([128, 2, 2])\n",
      "torch.Size([128, 2, 2])\n",
      "torch.Size([128, 2, 2])\n",
      "torch.Size([128, 2, 2])\n",
      "torch.Size([128, 2, 2])\n",
      "torch.Size([128, 2, 2])"
     ]
    },
    {
     "name": "stderr",
     "output_type": "stream",
     "text": [
      "\r",
      " 69%|███████████████████████████████████████████████████████▍                        | 156/225 [00:03<00:01, 47.43it/s]"
     ]
    },
    {
     "name": "stdout",
     "output_type": "stream",
     "text": [
      "\n",
      "torch.Size([128, 2, 2])\n",
      "torch.Size([128, 2, 2])\n",
      "torch.Size([128, 2, 2])\n",
      "torch.Size([128, 2, 2])\n",
      "torch.Size([128, 2, 2])\n",
      "torch.Size([128, 2, 2])\n",
      "torch.Size([128, 2, 2])\n",
      "torch.Size([128, 2, 2])\n"
     ]
    },
    {
     "name": "stderr",
     "output_type": "stream",
     "text": [
      " 74%|███████████████████████████████████████████████████████████                     | 166/225 [00:03<00:01, 47.32it/s]"
     ]
    },
    {
     "name": "stdout",
     "output_type": "stream",
     "text": [
      "torch.Size([128, 2, 2])\n",
      "torch.Size([128, 2, 2])\n",
      "torch.Size([128, 2, 2])\n",
      "torch.Size([128, 2, 2])\n",
      "torch.Size([128, 2, 2])\n",
      "torch.Size([128, 2, 2])\n",
      "torch.Size([128, 2, 2])\n",
      "torch.Size([128, 2, 2])\n",
      "torch.Size([128, 2, 2])\n",
      "torch.Size([128, 2, 2])"
     ]
    },
    {
     "name": "stderr",
     "output_type": "stream",
     "text": [
      " 78%|██████████████████████████████████████████████████████████████▌                 | 176/225 [00:03<00:01, 47.27it/s]"
     ]
    },
    {
     "name": "stdout",
     "output_type": "stream",
     "text": [
      "\n",
      "torch.Size([128, 2, 2])\n",
      "torch.Size([128, 2, 2])\n",
      "torch.Size([128, 2, 2])\n",
      "torch.Size([128, 2, 2])\n",
      "torch.Size([128, 2, 2])\n",
      "torch.Size([128, 2, 2])\n",
      "torch.Size([128, 2, 2])\n",
      "torch.Size([128, 2, 2])\n",
      "torch.Size([128, 2, 2])"
     ]
    },
    {
     "name": "stderr",
     "output_type": "stream",
     "text": [
      " 83%|██████████████████████████████████████████████████████████████████▏             | 186/225 [00:03<00:00, 47.28it/s]"
     ]
    },
    {
     "name": "stdout",
     "output_type": "stream",
     "text": [
      "\n",
      "torch.Size([128, 2, 2])\n",
      "torch.Size([128, 2, 2])\n",
      "torch.Size([128, 2, 2])\n",
      "torch.Size([128, 2, 2])\n",
      "torch.Size([128, 2, 2])\n",
      "torch.Size([128, 2, 2])\n",
      "torch.Size([128, 2, 2])\n",
      "torch.Size([128, 2, 2])\n",
      "torch.Size([128, 2, 2])"
     ]
    },
    {
     "name": "stderr",
     "output_type": "stream",
     "text": [
      " 87%|█████████████████████████████████████████████████████████████████████▋          | 196/225 [00:04<00:00, 47.24it/s]"
     ]
    },
    {
     "name": "stdout",
     "output_type": "stream",
     "text": [
      "\n",
      "torch.Size([128, 2, 2])\n",
      "torch.Size([128, 2, 2])\n",
      "torch.Size([128, 2, 2])\n",
      "torch.Size([128, 2, 2])\n",
      "torch.Size([128, 2, 2])\n",
      "torch.Size([128, 2, 2])\n",
      "torch.Size([128, 2, 2])\n",
      "torch.Size([128, 2, 2])\n",
      "torch.Size([128, 2, 2])"
     ]
    },
    {
     "name": "stderr",
     "output_type": "stream",
     "text": [
      "\r",
      " 89%|███████████████████████████████████████████████████████████████████████▍        | 201/225 [00:04<00:00, 47.23it/s]"
     ]
    },
    {
     "name": "stdout",
     "output_type": "stream",
     "text": [
      "\n",
      "torch.Size([128, 2, 2])\n",
      "torch.Size([128, 2, 2])\n",
      "torch.Size([128, 2, 2])\n",
      "torch.Size([128, 2, 2])\n",
      "torch.Size([128, 2, 2])\n",
      "torch.Size([128, 2, 2])\n",
      "torch.Size([128, 2, 2])\n",
      "torch.Size([128, 2, 2])\n"
     ]
    },
    {
     "name": "stderr",
     "output_type": "stream",
     "text": [
      " 94%|███████████████████████████████████████████████████████████████████████████     | 211/225 [00:04<00:00, 47.32it/s]"
     ]
    },
    {
     "name": "stdout",
     "output_type": "stream",
     "text": [
      "torch.Size([128, 2, 2])\n",
      "torch.Size([128, 2, 2])\n",
      "torch.Size([128, 2, 2])\n",
      "torch.Size([128, 2, 2])\n",
      "torch.Size([128, 2, 2])\n",
      "torch.Size([128, 2, 2])\n",
      "torch.Size([128, 2, 2])\n",
      "torch.Size([128, 2, 2])\n",
      "torch.Size([128, 2, 2])\n",
      "torch.Size([128, 2, 2])"
     ]
    },
    {
     "name": "stderr",
     "output_type": "stream",
     "text": [
      " 98%|██████████████████████████████████████████████████████████████████████████████▌ | 221/225 [00:04<00:00, 47.33it/s]"
     ]
    },
    {
     "name": "stdout",
     "output_type": "stream",
     "text": [
      "\n",
      "torch.Size([128, 2, 2])\n",
      "torch.Size([128, 2, 2])\n",
      "torch.Size([128, 2, 2])\n",
      "torch.Size([128, 2, 2])\n",
      "torch.Size([128, 2, 2])\n",
      "torch.Size([128, 2, 2])\n",
      "torch.Size([128, 2, 2])\n",
      "torch.Size([128, 2, 2])\n",
      "torch.Size([128, 2, 2])"
     ]
    },
    {
     "name": "stderr",
     "output_type": "stream",
     "text": [
      "100%|████████████████████████████████████████████████████████████████████████████████| 225/225 [00:04<00:00, 47.36it/s]\n",
      "  3%|██▏                                                                               | 6/225 [00:00<00:04, 50.47it/s]"
     ]
    },
    {
     "name": "stdout",
     "output_type": "stream",
     "text": [
      "\n",
      "Epoch: 1. Loss: 0.058437660336494446\n",
      "torch.Size([128, 2, 2])\n",
      "torch.Size([128, 2, 2])\n",
      "torch.Size([128, 2, 2])\n",
      "torch.Size([128, 2, 2])\n",
      "torch.Size([128, 2, 2])\n",
      "torch.Size([128, 2, 2])\n",
      "torch.Size([128, 2, 2])\n",
      "torch.Size([128, 2, 2])\n",
      "torch.Size([128, 2, 2])\n",
      "torch.Size([128, 2, 2])"
     ]
    },
    {
     "name": "stderr",
     "output_type": "stream",
     "text": [
      "  7%|█████▊                                                                           | 16/225 [00:00<00:04, 49.05it/s]"
     ]
    },
    {
     "name": "stdout",
     "output_type": "stream",
     "text": [
      "\n",
      "torch.Size([128, 2, 2])\n",
      "torch.Size([128, 2, 2])\n",
      "torch.Size([128, 2, 2])\n",
      "torch.Size([128, 2, 2])\n",
      "torch.Size([128, 2, 2])\n",
      "torch.Size([128, 2, 2])\n",
      "torch.Size([128, 2, 2])\n",
      "torch.Size([128, 2, 2])\n",
      "torch.Size([128, 2, 2])"
     ]
    },
    {
     "name": "stderr",
     "output_type": "stream",
     "text": [
      " 12%|█████████▎                                                                       | 26/225 [00:00<00:04, 48.28it/s]"
     ]
    },
    {
     "name": "stdout",
     "output_type": "stream",
     "text": [
      "\n",
      "torch.Size([128, 2, 2])\n",
      "torch.Size([128, 2, 2])\n",
      "torch.Size([128, 2, 2])\n",
      "torch.Size([128, 2, 2])\n",
      "torch.Size([128, 2, 2])\n",
      "torch.Size([128, 2, 2])\n",
      "torch.Size([128, 2, 2])\n",
      "torch.Size([128, 2, 2])\n",
      "torch.Size([128, 2, 2])"
     ]
    },
    {
     "name": "stderr",
     "output_type": "stream",
     "text": [
      "\r",
      " 14%|███████████▏                                                                     | 31/225 [00:00<00:04, 47.95it/s]"
     ]
    },
    {
     "name": "stdout",
     "output_type": "stream",
     "text": [
      "\n",
      "torch.Size([128, 2, 2])\n",
      "torch.Size([128, 2, 2])\n",
      "torch.Size([128, 2, 2])\n",
      "torch.Size([128, 2, 2])\n",
      "torch.Size([128, 2, 2])\n",
      "torch.Size([128, 2, 2])\n",
      "torch.Size([128, 2, 2])\n",
      "torch.Size([128, 2, 2])\n"
     ]
    },
    {
     "name": "stderr",
     "output_type": "stream",
     "text": [
      " 18%|██████████████▊                                                                  | 41/225 [00:00<00:03, 47.40it/s]"
     ]
    },
    {
     "name": "stdout",
     "output_type": "stream",
     "text": [
      "torch.Size([128, 2, 2])\n",
      "torch.Size([128, 2, 2])\n",
      "torch.Size([128, 2, 2])\n",
      "torch.Size([128, 2, 2])\n",
      "torch.Size([128, 2, 2])\n",
      "torch.Size([128, 2, 2])\n",
      "torch.Size([128, 2, 2])\n",
      "torch.Size([128, 2, 2])\n",
      "torch.Size([128, 2, 2])\n",
      "torch.Size([128, 2, 2])"
     ]
    },
    {
     "name": "stderr",
     "output_type": "stream",
     "text": [
      " 23%|██████████████████▎                                                              | 51/225 [00:01<00:03, 47.53it/s]"
     ]
    },
    {
     "name": "stdout",
     "output_type": "stream",
     "text": [
      "\n",
      "torch.Size([128, 2, 2])\n",
      "torch.Size([128, 2, 2])\n",
      "torch.Size([128, 2, 2])\n",
      "torch.Size([128, 2, 2])\n",
      "torch.Size([128, 2, 2])\n",
      "torch.Size([128, 2, 2])\n",
      "torch.Size([128, 2, 2])\n",
      "torch.Size([128, 2, 2])\n",
      "torch.Size([128, 2, 2])"
     ]
    },
    {
     "name": "stderr",
     "output_type": "stream",
     "text": [
      " 27%|█████████████████████▉                                                           | 61/225 [00:01<00:03, 47.44it/s]"
     ]
    },
    {
     "name": "stdout",
     "output_type": "stream",
     "text": [
      "\n",
      "torch.Size([128, 2, 2])\n",
      "torch.Size([128, 2, 2])\n",
      "torch.Size([128, 2, 2])\n",
      "torch.Size([128, 2, 2])\n",
      "torch.Size([128, 2, 2])\n",
      "torch.Size([128, 2, 2])\n",
      "torch.Size([128, 2, 2])\n",
      "torch.Size([128, 2, 2])\n",
      "torch.Size([128, 2, 2])"
     ]
    },
    {
     "name": "stderr",
     "output_type": "stream",
     "text": [
      " 32%|█████████████████████████▌                                                       | 71/225 [00:01<00:03, 47.30it/s]"
     ]
    },
    {
     "name": "stdout",
     "output_type": "stream",
     "text": [
      "\n",
      "torch.Size([128, 2, 2])\n",
      "torch.Size([128, 2, 2])\n",
      "torch.Size([128, 2, 2])\n",
      "torch.Size([128, 2, 2])\n",
      "torch.Size([128, 2, 2])\n",
      "torch.Size([128, 2, 2])\n",
      "torch.Size([128, 2, 2])\n",
      "torch.Size([128, 2, 2])\n",
      "torch.Size([128, 2, 2])"
     ]
    },
    {
     "name": "stderr",
     "output_type": "stream",
     "text": [
      "\r",
      " 34%|███████████████████████████▎                                                     | 76/225 [00:01<00:03, 47.14it/s]"
     ]
    },
    {
     "name": "stdout",
     "output_type": "stream",
     "text": [
      "\n",
      "torch.Size([128, 2, 2])\n",
      "torch.Size([128, 2, 2])\n",
      "torch.Size([128, 2, 2])\n",
      "torch.Size([128, 2, 2])\n",
      "torch.Size([128, 2, 2])\n",
      "torch.Size([128, 2, 2])\n",
      "torch.Size([128, 2, 2])\n",
      "torch.Size([128, 2, 2])\n"
     ]
    },
    {
     "name": "stderr",
     "output_type": "stream",
     "text": [
      " 38%|██████████████████████████████▉                                                  | 86/225 [00:01<00:02, 47.41it/s]"
     ]
    },
    {
     "name": "stdout",
     "output_type": "stream",
     "text": [
      "torch.Size([128, 2, 2])\n",
      "torch.Size([128, 2, 2])\n",
      "torch.Size([128, 2, 2])\n",
      "torch.Size([128, 2, 2])\n",
      "torch.Size([128, 2, 2])\n",
      "torch.Size([128, 2, 2])\n",
      "torch.Size([128, 2, 2])\n",
      "torch.Size([128, 2, 2])\n",
      "torch.Size([128, 2, 2])\n",
      "torch.Size([128, 2, 2])"
     ]
    },
    {
     "name": "stderr",
     "output_type": "stream",
     "text": [
      " 43%|██████████████████████████████████▌                                              | 96/225 [00:02<00:02, 47.54it/s]"
     ]
    },
    {
     "name": "stdout",
     "output_type": "stream",
     "text": [
      "\n",
      "torch.Size([128, 2, 2])\n",
      "torch.Size([128, 2, 2])\n",
      "torch.Size([128, 2, 2])\n",
      "torch.Size([128, 2, 2])\n",
      "torch.Size([128, 2, 2])\n",
      "torch.Size([128, 2, 2])\n",
      "torch.Size([128, 2, 2])\n",
      "torch.Size([128, 2, 2])\n",
      "torch.Size([128, 2, 2])"
     ]
    },
    {
     "name": "stderr",
     "output_type": "stream",
     "text": [
      " 47%|█████████████████████████████████████▋                                          | 106/225 [00:02<00:02, 47.15it/s]"
     ]
    },
    {
     "name": "stdout",
     "output_type": "stream",
     "text": [
      "\n",
      "torch.Size([128, 2, 2])\n",
      "torch.Size([128, 2, 2])\n",
      "torch.Size([128, 2, 2])\n",
      "torch.Size([128, 2, 2])\n",
      "torch.Size([128, 2, 2])\n",
      "torch.Size([128, 2, 2])\n",
      "torch.Size([128, 2, 2])\n",
      "torch.Size([128, 2, 2])\n",
      "torch.Size([128, 2, 2])"
     ]
    },
    {
     "name": "stderr",
     "output_type": "stream",
     "text": [
      " 52%|█████████████████████████████████████████▏                                      | 116/225 [00:02<00:02, 47.00it/s]"
     ]
    },
    {
     "name": "stdout",
     "output_type": "stream",
     "text": [
      "\n",
      "torch.Size([128, 2, 2])\n",
      "torch.Size([128, 2, 2])\n",
      "torch.Size([128, 2, 2])\n",
      "torch.Size([128, 2, 2])\n",
      "torch.Size([128, 2, 2])\n",
      "torch.Size([128, 2, 2])\n",
      "torch.Size([128, 2, 2])\n",
      "torch.Size([128, 2, 2])\n",
      "torch.Size([128, 2, 2])"
     ]
    },
    {
     "name": "stderr",
     "output_type": "stream",
     "text": [
      " 56%|████████████████████████████████████████████▊                                   | 126/225 [00:02<00:02, 47.25it/s]"
     ]
    },
    {
     "name": "stdout",
     "output_type": "stream",
     "text": [
      "\n",
      "torch.Size([128, 2, 2])\n",
      "torch.Size([128, 2, 2])\n",
      "torch.Size([128, 2, 2])\n",
      "torch.Size([128, 2, 2])\n",
      "torch.Size([128, 2, 2])\n",
      "torch.Size([128, 2, 2])\n",
      "torch.Size([128, 2, 2])\n",
      "torch.Size([128, 2, 2])\n"
     ]
    },
    {
     "name": "stderr",
     "output_type": "stream",
     "text": [
      "\r",
      " 58%|██████████████████████████████████████████████▌                                 | 131/225 [00:02<00:01, 47.24it/s]"
     ]
    },
    {
     "name": "stdout",
     "output_type": "stream",
     "text": [
      "torch.Size([128, 2, 2])\n",
      "torch.Size([128, 2, 2])\n",
      "torch.Size([128, 2, 2])\n",
      "torch.Size([128, 2, 2])\n",
      "torch.Size([128, 2, 2])\n",
      "torch.Size([128, 2, 2])\n",
      "torch.Size([128, 2, 2])\n",
      "torch.Size([128, 2, 2])\n",
      "torch.Size([128, 2, 2])\n",
      "torch.Size([128, 2, 2])"
     ]
    },
    {
     "name": "stderr",
     "output_type": "stream",
     "text": [
      " 63%|██████████████████████████████████████████████████▏                             | 141/225 [00:02<00:01, 47.04it/s]"
     ]
    },
    {
     "name": "stdout",
     "output_type": "stream",
     "text": [
      "\n",
      "torch.Size([128, 2, 2])\n",
      "torch.Size([128, 2, 2])\n",
      "torch.Size([128, 2, 2])\n",
      "torch.Size([128, 2, 2])\n",
      "torch.Size([128, 2, 2])\n",
      "torch.Size([128, 2, 2])\n",
      "torch.Size([128, 2, 2])\n",
      "torch.Size([128, 2, 2])\n",
      "torch.Size([128, 2, 2])"
     ]
    },
    {
     "name": "stderr",
     "output_type": "stream",
     "text": [
      " 67%|█████████████████████████████████████████████████████▋                          | 151/225 [00:03<00:01, 47.13it/s]"
     ]
    },
    {
     "name": "stdout",
     "output_type": "stream",
     "text": [
      "\n",
      "torch.Size([128, 2, 2])\n",
      "torch.Size([128, 2, 2])\n",
      "torch.Size([128, 2, 2])\n",
      "torch.Size([128, 2, 2])\n",
      "torch.Size([128, 2, 2])\n",
      "torch.Size([128, 2, 2])\n",
      "torch.Size([128, 2, 2])\n",
      "torch.Size([128, 2, 2])\n",
      "torch.Size([128, 2, 2])"
     ]
    },
    {
     "name": "stderr",
     "output_type": "stream",
     "text": [
      " 72%|█████████████████████████████████████████████████████████▏                      | 161/225 [00:03<00:01, 47.04it/s]"
     ]
    },
    {
     "name": "stdout",
     "output_type": "stream",
     "text": [
      "\n",
      "torch.Size([128, 2, 2])\n",
      "torch.Size([128, 2, 2])\n",
      "torch.Size([128, 2, 2])\n",
      "torch.Size([128, 2, 2])\n",
      "torch.Size([128, 2, 2])\n",
      "torch.Size([128, 2, 2])\n",
      "torch.Size([128, 2, 2])\n",
      "torch.Size([128, 2, 2])\n",
      "torch.Size([128, 2, 2])"
     ]
    },
    {
     "name": "stderr",
     "output_type": "stream",
     "text": [
      "\r",
      " 74%|███████████████████████████████████████████████████████████                     | 166/225 [00:03<00:01, 46.96it/s]"
     ]
    },
    {
     "name": "stdout",
     "output_type": "stream",
     "text": [
      "\n",
      "torch.Size([128, 2, 2])\n",
      "torch.Size([128, 2, 2])\n",
      "torch.Size([128, 2, 2])\n",
      "torch.Size([128, 2, 2])\n",
      "torch.Size([128, 2, 2])\n",
      "torch.Size([128, 2, 2])\n",
      "torch.Size([128, 2, 2])\n",
      "torch.Size([128, 2, 2])\n"
     ]
    },
    {
     "name": "stderr",
     "output_type": "stream",
     "text": [
      " 78%|██████████████████████████████████████████████████████████████▌                 | 176/225 [00:03<00:01, 47.25it/s]"
     ]
    },
    {
     "name": "stdout",
     "output_type": "stream",
     "text": [
      "torch.Size([128, 2, 2])\n",
      "torch.Size([128, 2, 2])\n",
      "torch.Size([128, 2, 2])\n",
      "torch.Size([128, 2, 2])\n",
      "torch.Size([128, 2, 2])\n",
      "torch.Size([128, 2, 2])\n",
      "torch.Size([128, 2, 2])\n",
      "torch.Size([128, 2, 2])\n",
      "torch.Size([128, 2, 2])\n",
      "torch.Size([128, 2, 2])"
     ]
    },
    {
     "name": "stderr",
     "output_type": "stream",
     "text": [
      " 83%|██████████████████████████████████████████████████████████████████▏             | 186/225 [00:03<00:00, 47.14it/s]"
     ]
    },
    {
     "name": "stdout",
     "output_type": "stream",
     "text": [
      "\n",
      "torch.Size([128, 2, 2])\n",
      "torch.Size([128, 2, 2])\n",
      "torch.Size([128, 2, 2])\n",
      "torch.Size([128, 2, 2])\n",
      "torch.Size([128, 2, 2])\n",
      "torch.Size([128, 2, 2])\n",
      "torch.Size([128, 2, 2])\n",
      "torch.Size([128, 2, 2])\n",
      "torch.Size([128, 2, 2])"
     ]
    },
    {
     "name": "stderr",
     "output_type": "stream",
     "text": [
      " 87%|█████████████████████████████████████████████████████████████████████▋          | 196/225 [00:04<00:00, 47.30it/s]"
     ]
    },
    {
     "name": "stdout",
     "output_type": "stream",
     "text": [
      "\n",
      "torch.Size([128, 2, 2])\n",
      "torch.Size([128, 2, 2])\n",
      "torch.Size([128, 2, 2])\n",
      "torch.Size([128, 2, 2])\n",
      "torch.Size([128, 2, 2])\n",
      "torch.Size([128, 2, 2])\n",
      "torch.Size([128, 2, 2])\n",
      "torch.Size([128, 2, 2])\n",
      "torch.Size([128, 2, 2])"
     ]
    },
    {
     "name": "stderr",
     "output_type": "stream",
     "text": [
      " 92%|█████████████████████████████████████████████████████████████████████████▏      | 206/225 [00:04<00:00, 47.26it/s]"
     ]
    },
    {
     "name": "stdout",
     "output_type": "stream",
     "text": [
      "\n",
      "torch.Size([128, 2, 2])\n",
      "torch.Size([128, 2, 2])\n",
      "torch.Size([128, 2, 2])\n",
      "torch.Size([128, 2, 2])\n",
      "torch.Size([128, 2, 2])\n",
      "torch.Size([128, 2, 2])\n",
      "torch.Size([128, 2, 2])\n",
      "torch.Size([128, 2, 2])\n",
      "torch.Size([128, 2, 2])"
     ]
    },
    {
     "name": "stderr",
     "output_type": "stream",
     "text": [
      "\r",
      " 94%|███████████████████████████████████████████████████████████████████████████     | 211/225 [00:04<00:00, 47.18it/s]"
     ]
    },
    {
     "name": "stdout",
     "output_type": "stream",
     "text": [
      "\n",
      "torch.Size([128, 2, 2])\n",
      "torch.Size([128, 2, 2])\n",
      "torch.Size([128, 2, 2])\n",
      "torch.Size([128, 2, 2])\n",
      "torch.Size([128, 2, 2])\n",
      "torch.Size([128, 2, 2])\n",
      "torch.Size([128, 2, 2])\n",
      "torch.Size([128, 2, 2])\n"
     ]
    },
    {
     "name": "stderr",
     "output_type": "stream",
     "text": [
      " 98%|██████████████████████████████████████████████████████████████████████████████▌ | 221/225 [00:04<00:00, 47.37it/s]"
     ]
    },
    {
     "name": "stdout",
     "output_type": "stream",
     "text": [
      "torch.Size([128, 2, 2])\n",
      "torch.Size([128, 2, 2])\n",
      "torch.Size([128, 2, 2])\n",
      "torch.Size([128, 2, 2])\n",
      "torch.Size([128, 2, 2])\n",
      "torch.Size([128, 2, 2])\n",
      "torch.Size([128, 2, 2])\n",
      "torch.Size([128, 2, 2])\n",
      "torch.Size([128, 2, 2])\n"
     ]
    },
    {
     "name": "stderr",
     "output_type": "stream",
     "text": [
      "100%|████████████████████████████████████████████████████████████████████████████████| 225/225 [00:04<00:00, 47.36it/s]\n",
      "  3%|██▏                                                                               | 6/225 [00:00<00:04, 50.05it/s]"
     ]
    },
    {
     "name": "stdout",
     "output_type": "stream",
     "text": [
      "Epoch: 2. Loss: 0.07239849120378494\n",
      "torch.Size([128, 2, 2])\n",
      "torch.Size([128, 2, 2])\n",
      "torch.Size([128, 2, 2])\n",
      "torch.Size([128, 2, 2])\n",
      "torch.Size([128, 2, 2])\n",
      "torch.Size([128, 2, 2])\n",
      "torch.Size([128, 2, 2])\n",
      "torch.Size([128, 2, 2])\n",
      "torch.Size([128, 2, 2])\n",
      "torch.Size([128, 2, 2])"
     ]
    },
    {
     "name": "stderr",
     "output_type": "stream",
     "text": [
      "  7%|█████▊                                                                           | 16/225 [00:00<00:04, 48.59it/s]"
     ]
    },
    {
     "name": "stdout",
     "output_type": "stream",
     "text": [
      "\n",
      "torch.Size([128, 2, 2])\n",
      "torch.Size([128, 2, 2])\n",
      "torch.Size([128, 2, 2])\n",
      "torch.Size([128, 2, 2])\n",
      "torch.Size([128, 2, 2])\n",
      "torch.Size([128, 2, 2])\n",
      "torch.Size([128, 2, 2])\n",
      "torch.Size([128, 2, 2])\n",
      "torch.Size([128, 2, 2])"
     ]
    },
    {
     "name": "stderr",
     "output_type": "stream",
     "text": [
      " 12%|█████████▎                                                                       | 26/225 [00:00<00:04, 48.11it/s]"
     ]
    },
    {
     "name": "stdout",
     "output_type": "stream",
     "text": [
      "\n",
      "torch.Size([128, 2, 2])\n",
      "torch.Size([128, 2, 2])\n",
      "torch.Size([128, 2, 2])\n",
      "torch.Size([128, 2, 2])\n",
      "torch.Size([128, 2, 2])\n",
      "torch.Size([128, 2, 2])\n",
      "torch.Size([128, 2, 2])\n",
      "torch.Size([128, 2, 2])\n",
      "torch.Size([128, 2, 2])"
     ]
    },
    {
     "name": "stderr",
     "output_type": "stream",
     "text": [
      " 16%|████████████▉                                                                    | 36/225 [00:00<00:03, 47.56it/s]"
     ]
    },
    {
     "name": "stdout",
     "output_type": "stream",
     "text": [
      "\n",
      "torch.Size([128, 2, 2])\n",
      "torch.Size([128, 2, 2])\n",
      "torch.Size([128, 2, 2])\n",
      "torch.Size([128, 2, 2])\n",
      "torch.Size([128, 2, 2])\n",
      "torch.Size([128, 2, 2])\n",
      "torch.Size([128, 2, 2])\n",
      "torch.Size([128, 2, 2])\n",
      "torch.Size([128, 2, 2])"
     ]
    },
    {
     "name": "stderr",
     "output_type": "stream",
     "text": [
      "\r",
      " 18%|██████████████▊                                                                  | 41/225 [00:00<00:03, 47.52it/s]"
     ]
    },
    {
     "name": "stdout",
     "output_type": "stream",
     "text": [
      "\n",
      "torch.Size([128, 2, 2])\n",
      "torch.Size([128, 2, 2])\n",
      "torch.Size([128, 2, 2])\n",
      "torch.Size([128, 2, 2])\n",
      "torch.Size([128, 2, 2])\n",
      "torch.Size([128, 2, 2])\n",
      "torch.Size([128, 2, 2])\n",
      "torch.Size([128, 2, 2])\n",
      "torch.Size([128, 2, 2])"
     ]
    },
    {
     "name": "stderr",
     "output_type": "stream",
     "text": [
      " 23%|██████████████████▎                                                              | 51/225 [00:01<00:03, 47.04it/s]"
     ]
    },
    {
     "name": "stdout",
     "output_type": "stream",
     "text": [
      "\n",
      "torch.Size([128, 2, 2])\n",
      "torch.Size([128, 2, 2])\n",
      "torch.Size([128, 2, 2])\n",
      "torch.Size([128, 2, 2])\n",
      "torch.Size([128, 2, 2])\n",
      "torch.Size([128, 2, 2])\n",
      "torch.Size([128, 2, 2])\n",
      "torch.Size([128, 2, 2])\n",
      "torch.Size([128, 2, 2])"
     ]
    },
    {
     "name": "stderr",
     "output_type": "stream",
     "text": [
      " 27%|█████████████████████▉                                                           | 61/225 [00:01<00:03, 46.93it/s]"
     ]
    },
    {
     "name": "stdout",
     "output_type": "stream",
     "text": [
      "\n",
      "torch.Size([128, 2, 2])\n",
      "torch.Size([128, 2, 2])\n",
      "torch.Size([128, 2, 2])\n",
      "torch.Size([128, 2, 2])\n",
      "torch.Size([128, 2, 2])\n",
      "torch.Size([128, 2, 2])\n",
      "torch.Size([128, 2, 2])\n",
      "torch.Size([128, 2, 2])\n",
      "torch.Size([128, 2, 2])"
     ]
    },
    {
     "name": "stderr",
     "output_type": "stream",
     "text": [
      " 32%|█████████████████████████▌                                                       | 71/225 [00:01<00:03, 47.22it/s]"
     ]
    },
    {
     "name": "stdout",
     "output_type": "stream",
     "text": [
      "\n",
      "torch.Size([128, 2, 2])\n",
      "torch.Size([128, 2, 2])\n",
      "torch.Size([128, 2, 2])\n",
      "torch.Size([128, 2, 2])\n",
      "torch.Size([128, 2, 2])\n",
      "torch.Size([128, 2, 2])\n",
      "torch.Size([128, 2, 2])\n",
      "torch.Size([128, 2, 2])\n",
      "torch.Size([128, 2, 2])"
     ]
    },
    {
     "name": "stderr",
     "output_type": "stream",
     "text": [
      " 36%|█████████████████████████████▏                                                   | 81/225 [00:01<00:03, 47.55it/s]"
     ]
    },
    {
     "name": "stdout",
     "output_type": "stream",
     "text": [
      "\n",
      "torch.Size([128, 2, 2])\n",
      "torch.Size([128, 2, 2])\n",
      "torch.Size([128, 2, 2])\n",
      "torch.Size([128, 2, 2])\n",
      "torch.Size([128, 2, 2])\n",
      "torch.Size([128, 2, 2])\n",
      "torch.Size([128, 2, 2])\n",
      "torch.Size([128, 2, 2])\n",
      "torch.Size([128, 2, 2])"
     ]
    },
    {
     "name": "stderr",
     "output_type": "stream",
     "text": [
      "\r",
      " 38%|██████████████████████████████▉                                                  | 86/225 [00:01<00:02, 47.45it/s]"
     ]
    },
    {
     "name": "stdout",
     "output_type": "stream",
     "text": [
      "\n",
      "torch.Size([128, 2, 2])\n",
      "torch.Size([128, 2, 2])\n",
      "torch.Size([128, 2, 2])\n",
      "torch.Size([128, 2, 2])\n",
      "torch.Size([128, 2, 2])\n",
      "torch.Size([128, 2, 2])\n",
      "torch.Size([128, 2, 2])\n",
      "torch.Size([128, 2, 2])\n",
      "torch.Size([128, 2, 2])"
     ]
    },
    {
     "name": "stderr",
     "output_type": "stream",
     "text": [
      " 43%|██████████████████████████████████▌                                              | 96/225 [00:02<00:02, 47.28it/s]"
     ]
    },
    {
     "name": "stdout",
     "output_type": "stream",
     "text": [
      "\n",
      "torch.Size([128, 2, 2])\n",
      "torch.Size([128, 2, 2])\n",
      "torch.Size([128, 2, 2])\n",
      "torch.Size([128, 2, 2])\n",
      "torch.Size([128, 2, 2])\n",
      "torch.Size([128, 2, 2])\n",
      "torch.Size([128, 2, 2])\n",
      "torch.Size([128, 2, 2])\n",
      "torch.Size([128, 2, 2])"
     ]
    },
    {
     "name": "stderr",
     "output_type": "stream",
     "text": [
      " 47%|█████████████████████████████████████▋                                          | 106/225 [00:02<00:02, 47.51it/s]"
     ]
    },
    {
     "name": "stdout",
     "output_type": "stream",
     "text": [
      "\n",
      "torch.Size([128, 2, 2])\n",
      "torch.Size([128, 2, 2])\n",
      "torch.Size([128, 2, 2])\n",
      "torch.Size([128, 2, 2])\n",
      "torch.Size([128, 2, 2])\n",
      "torch.Size([128, 2, 2])\n",
      "torch.Size([128, 2, 2])\n",
      "torch.Size([128, 2, 2])\n",
      "torch.Size([128, 2, 2])"
     ]
    },
    {
     "name": "stderr",
     "output_type": "stream",
     "text": [
      " 52%|█████████████████████████████████████████▏                                      | 116/225 [00:02<00:02, 46.69it/s]"
     ]
    },
    {
     "name": "stdout",
     "output_type": "stream",
     "text": [
      "\n",
      "torch.Size([128, 2, 2])\n",
      "torch.Size([128, 2, 2])\n",
      "torch.Size([128, 2, 2])\n",
      "torch.Size([128, 2, 2])\n",
      "torch.Size([128, 2, 2])\n",
      "torch.Size([128, 2, 2])\n",
      "torch.Size([128, 2, 2])\n",
      "torch.Size([128, 2, 2])\n",
      "torch.Size([128, 2, 2])"
     ]
    },
    {
     "name": "stderr",
     "output_type": "stream",
     "text": [
      " 56%|████████████████████████████████████████████▊                                   | 126/225 [00:02<00:02, 47.05it/s]"
     ]
    },
    {
     "name": "stdout",
     "output_type": "stream",
     "text": [
      "\n",
      "torch.Size([128, 2, 2])\n",
      "torch.Size([128, 2, 2])\n",
      "torch.Size([128, 2, 2])\n",
      "torch.Size([128, 2, 2])\n",
      "torch.Size([128, 2, 2])\n",
      "torch.Size([128, 2, 2])\n",
      "torch.Size([128, 2, 2])\n",
      "torch.Size([128, 2, 2])\n",
      "torch.Size([128, 2, 2])"
     ]
    },
    {
     "name": "stderr",
     "output_type": "stream",
     "text": [
      "\r",
      " 58%|██████████████████████████████████████████████▌                                 | 131/225 [00:02<00:01, 47.10it/s]"
     ]
    },
    {
     "name": "stdout",
     "output_type": "stream",
     "text": [
      "\n",
      "torch.Size([128, 2, 2])\n",
      "torch.Size([128, 2, 2])\n",
      "torch.Size([128, 2, 2])\n",
      "torch.Size([128, 2, 2])\n",
      "torch.Size([128, 2, 2])\n",
      "torch.Size([128, 2, 2])\n",
      "torch.Size([128, 2, 2])\n",
      "torch.Size([128, 2, 2])\n",
      "torch.Size([128, 2, 2])"
     ]
    },
    {
     "name": "stderr",
     "output_type": "stream",
     "text": [
      " 63%|██████████████████████████████████████████████████▏                             | 141/225 [00:02<00:01, 47.16it/s]"
     ]
    },
    {
     "name": "stdout",
     "output_type": "stream",
     "text": [
      "\n",
      "torch.Size([128, 2, 2])\n",
      "torch.Size([128, 2, 2])\n",
      "torch.Size([128, 2, 2])\n",
      "torch.Size([128, 2, 2])\n",
      "torch.Size([128, 2, 2])\n",
      "torch.Size([128, 2, 2])\n",
      "torch.Size([128, 2, 2])\n",
      "torch.Size([128, 2, 2])\n",
      "torch.Size([128, 2, 2])"
     ]
    },
    {
     "name": "stderr",
     "output_type": "stream",
     "text": [
      " 67%|█████████████████████████████████████████████████████▋                          | 151/225 [00:03<00:01, 46.06it/s]"
     ]
    },
    {
     "name": "stdout",
     "output_type": "stream",
     "text": [
      "\n",
      "torch.Size([128, 2, 2])\n",
      "torch.Size([128, 2, 2])\n",
      "torch.Size([128, 2, 2])\n",
      "torch.Size([128, 2, 2])\n",
      "torch.Size([128, 2, 2])\n",
      "torch.Size([128, 2, 2])\n",
      "torch.Size([128, 2, 2])\n",
      "torch.Size([128, 2, 2])\n"
     ]
    },
    {
     "name": "stderr",
     "output_type": "stream",
     "text": [
      " 72%|█████████████████████████████████████████████████████████▏                      | 161/225 [00:03<00:01, 46.96it/s]"
     ]
    },
    {
     "name": "stdout",
     "output_type": "stream",
     "text": [
      "torch.Size([128, 2, 2])\n",
      "torch.Size([128, 2, 2])\n",
      "torch.Size([128, 2, 2])\n",
      "torch.Size([128, 2, 2])\n",
      "torch.Size([128, 2, 2])\n",
      "torch.Size([128, 2, 2])\n",
      "torch.Size([128, 2, 2])\n",
      "torch.Size([128, 2, 2])\n",
      "torch.Size([128, 2, 2])"
     ]
    },
    {
     "name": "stderr",
     "output_type": "stream",
     "text": [
      "\r",
      " 74%|███████████████████████████████████████████████████████████                     | 166/225 [00:03<00:01, 47.16it/s]"
     ]
    },
    {
     "name": "stdout",
     "output_type": "stream",
     "text": [
      "\n",
      "torch.Size([128, 2, 2])\n",
      "torch.Size([128, 2, 2])\n",
      "torch.Size([128, 2, 2])\n",
      "torch.Size([128, 2, 2])\n",
      "torch.Size([128, 2, 2])\n",
      "torch.Size([128, 2, 2])\n",
      "torch.Size([128, 2, 2])\n",
      "torch.Size([128, 2, 2])\n",
      "torch.Size([128, 2, 2])"
     ]
    },
    {
     "name": "stderr",
     "output_type": "stream",
     "text": [
      " 78%|██████████████████████████████████████████████████████████████▌                 | 176/225 [00:03<00:01, 47.11it/s]"
     ]
    },
    {
     "name": "stdout",
     "output_type": "stream",
     "text": [
      "\n",
      "torch.Size([128, 2, 2])\n",
      "torch.Size([128, 2, 2])\n",
      "torch.Size([128, 2, 2])\n",
      "torch.Size([128, 2, 2])\n",
      "torch.Size([128, 2, 2])\n",
      "torch.Size([128, 2, 2])\n",
      "torch.Size([128, 2, 2])\n",
      "torch.Size([128, 2, 2])\n",
      "torch.Size([128, 2, 2])"
     ]
    },
    {
     "name": "stderr",
     "output_type": "stream",
     "text": [
      " 83%|██████████████████████████████████████████████████████████████████▏             | 186/225 [00:03<00:00, 47.06it/s]"
     ]
    },
    {
     "name": "stdout",
     "output_type": "stream",
     "text": [
      "\n",
      "torch.Size([128, 2, 2])\n",
      "torch.Size([128, 2, 2])\n",
      "torch.Size([128, 2, 2])\n",
      "torch.Size([128, 2, 2])\n",
      "torch.Size([128, 2, 2])\n",
      "torch.Size([128, 2, 2])\n",
      "torch.Size([128, 2, 2])\n",
      "torch.Size([128, 2, 2])\n",
      "torch.Size([128, 2, 2])"
     ]
    },
    {
     "name": "stderr",
     "output_type": "stream",
     "text": [
      " 87%|█████████████████████████████████████████████████████████████████████▋          | 196/225 [00:04<00:00, 46.89it/s]"
     ]
    },
    {
     "name": "stdout",
     "output_type": "stream",
     "text": [
      "\n",
      "torch.Size([128, 2, 2])\n",
      "torch.Size([128, 2, 2])\n",
      "torch.Size([128, 2, 2])\n",
      "torch.Size([128, 2, 2])\n",
      "torch.Size([128, 2, 2])\n",
      "torch.Size([128, 2, 2])\n",
      "torch.Size([128, 2, 2])\n",
      "torch.Size([128, 2, 2])\n",
      "torch.Size([128, 2, 2])"
     ]
    },
    {
     "name": "stderr",
     "output_type": "stream",
     "text": [
      " 92%|█████████████████████████████████████████████████████████████████████████▏      | 206/225 [00:04<00:00, 47.33it/s]"
     ]
    },
    {
     "name": "stdout",
     "output_type": "stream",
     "text": [
      "\n",
      "torch.Size([128, 2, 2])\n",
      "torch.Size([128, 2, 2])\n",
      "torch.Size([128, 2, 2])\n",
      "torch.Size([128, 2, 2])\n",
      "torch.Size([128, 2, 2])\n",
      "torch.Size([128, 2, 2])\n",
      "torch.Size([128, 2, 2])\n",
      "torch.Size([128, 2, 2])\n",
      "torch.Size([128, 2, 2])"
     ]
    },
    {
     "name": "stderr",
     "output_type": "stream",
     "text": [
      "\r",
      " 94%|███████████████████████████████████████████████████████████████████████████     | 211/225 [00:04<00:00, 47.03it/s]"
     ]
    },
    {
     "name": "stdout",
     "output_type": "stream",
     "text": [
      "\n",
      "torch.Size([128, 2, 2])\n",
      "torch.Size([128, 2, 2])\n",
      "torch.Size([128, 2, 2])\n",
      "torch.Size([128, 2, 2])\n",
      "torch.Size([128, 2, 2])\n",
      "torch.Size([128, 2, 2])\n",
      "torch.Size([128, 2, 2])\n",
      "torch.Size([128, 2, 2])\n",
      "torch.Size([128, 2, 2])"
     ]
    },
    {
     "name": "stderr",
     "output_type": "stream",
     "text": [
      " 98%|██████████████████████████████████████████████████████████████████████████████▌ | 221/225 [00:04<00:00, 46.96it/s]"
     ]
    },
    {
     "name": "stdout",
     "output_type": "stream",
     "text": [
      "\n",
      "torch.Size([128, 2, 2])\n",
      "torch.Size([128, 2, 2])\n",
      "torch.Size([128, 2, 2])\n",
      "torch.Size([128, 2, 2])\n",
      "torch.Size([128, 2, 2])\n",
      "torch.Size([128, 2, 2])\n",
      "torch.Size([128, 2, 2])\n",
      "torch.Size([128, 2, 2])\n",
      "torch.Size([128, 2, 2])"
     ]
    },
    {
     "name": "stderr",
     "output_type": "stream",
     "text": [
      "100%|████████████████████████████████████████████████████████████████████████████████| 225/225 [00:04<00:00, 47.23it/s]\n",
      "  3%|██▏                                                                               | 6/225 [00:00<00:04, 49.84it/s]"
     ]
    },
    {
     "name": "stdout",
     "output_type": "stream",
     "text": [
      "\n",
      "Epoch: 3. Loss: 0.0314241424202919\n",
      "torch.Size([128, 2, 2])\n",
      "torch.Size([128, 2, 2])\n",
      "torch.Size([128, 2, 2])\n",
      "torch.Size([128, 2, 2])\n",
      "torch.Size([128, 2, 2])\n",
      "torch.Size([128, 2, 2])\n",
      "torch.Size([128, 2, 2])\n",
      "torch.Size([128, 2, 2])\n",
      "torch.Size([128, 2, 2])"
     ]
    },
    {
     "name": "stderr",
     "output_type": "stream",
     "text": [
      "  7%|█████▊                                                                           | 16/225 [00:00<00:04, 48.46it/s]"
     ]
    },
    {
     "name": "stdout",
     "output_type": "stream",
     "text": [
      "\n",
      "torch.Size([128, 2, 2])\n",
      "torch.Size([128, 2, 2])\n",
      "torch.Size([128, 2, 2])\n",
      "torch.Size([128, 2, 2])\n",
      "torch.Size([128, 2, 2])\n",
      "torch.Size([128, 2, 2])\n",
      "torch.Size([128, 2, 2])\n",
      "torch.Size([128, 2, 2])\n",
      "torch.Size([128, 2, 2])"
     ]
    },
    {
     "name": "stderr",
     "output_type": "stream",
     "text": [
      "\r",
      "  9%|███████▌                                                                         | 21/225 [00:00<00:04, 46.67it/s]"
     ]
    },
    {
     "name": "stdout",
     "output_type": "stream",
     "text": [
      "\n",
      "torch.Size([128, 2, 2])\n",
      "torch.Size([128, 2, 2])\n",
      "torch.Size([128, 2, 2])\n",
      "torch.Size([128, 2, 2])\n",
      "torch.Size([128, 2, 2])\n",
      "torch.Size([128, 2, 2])\n",
      "torch.Size([128, 2, 2])\n",
      "torch.Size([128, 2, 2])"
     ]
    },
    {
     "name": "stderr",
     "output_type": "stream",
     "text": [
      " 14%|███████████▏                                                                     | 31/225 [00:00<00:04, 46.54it/s]"
     ]
    },
    {
     "name": "stdout",
     "output_type": "stream",
     "text": [
      "\n",
      "torch.Size([128, 2, 2])\n",
      "torch.Size([128, 2, 2])\n",
      "torch.Size([128, 2, 2])\n",
      "torch.Size([128, 2, 2])\n",
      "torch.Size([128, 2, 2])\n",
      "torch.Size([128, 2, 2])\n",
      "torch.Size([128, 2, 2])\n",
      "torch.Size([128, 2, 2])\n",
      "torch.Size([128, 2, 2])"
     ]
    },
    {
     "name": "stderr",
     "output_type": "stream",
     "text": [
      " 18%|██████████████▊                                                                  | 41/225 [00:00<00:03, 46.75it/s]"
     ]
    },
    {
     "name": "stdout",
     "output_type": "stream",
     "text": [
      "\n",
      "torch.Size([128, 2, 2])\n",
      "torch.Size([128, 2, 2])\n",
      "torch.Size([128, 2, 2])\n",
      "torch.Size([128, 2, 2])\n",
      "torch.Size([128, 2, 2])\n",
      "torch.Size([128, 2, 2])\n",
      "torch.Size([128, 2, 2])\n",
      "torch.Size([128, 2, 2])\n",
      "torch.Size([128, 2, 2])"
     ]
    },
    {
     "name": "stderr",
     "output_type": "stream",
     "text": [
      " 23%|██████████████████▎                                                              | 51/225 [00:01<00:03, 47.12it/s]"
     ]
    },
    {
     "name": "stdout",
     "output_type": "stream",
     "text": [
      "\n",
      "torch.Size([128, 2, 2])\n",
      "torch.Size([128, 2, 2])\n",
      "torch.Size([128, 2, 2])\n",
      "torch.Size([128, 2, 2])\n",
      "torch.Size([128, 2, 2])\n",
      "torch.Size([128, 2, 2])\n",
      "torch.Size([128, 2, 2])\n",
      "torch.Size([128, 2, 2])\n",
      "torch.Size([128, 2, 2])"
     ]
    },
    {
     "name": "stderr",
     "output_type": "stream",
     "text": [
      " 27%|█████████████████████▉                                                           | 61/225 [00:01<00:03, 47.10it/s]"
     ]
    },
    {
     "name": "stdout",
     "output_type": "stream",
     "text": [
      "\n",
      "torch.Size([128, 2, 2])\n",
      "torch.Size([128, 2, 2])\n",
      "torch.Size([128, 2, 2])\n",
      "torch.Size([128, 2, 2])\n",
      "torch.Size([128, 2, 2])\n",
      "torch.Size([128, 2, 2])\n",
      "torch.Size([128, 2, 2])\n",
      "torch.Size([128, 2, 2])\n",
      "torch.Size([128, 2, 2])"
     ]
    },
    {
     "name": "stderr",
     "output_type": "stream",
     "text": [
      "\r",
      " 29%|███████████████████████▊                                                         | 66/225 [00:01<00:03, 47.01it/s]"
     ]
    },
    {
     "name": "stdout",
     "output_type": "stream",
     "text": [
      "\n",
      "torch.Size([128, 2, 2])\n",
      "torch.Size([128, 2, 2])\n",
      "torch.Size([128, 2, 2])\n",
      "torch.Size([128, 2, 2])\n",
      "torch.Size([128, 2, 2])\n",
      "torch.Size([128, 2, 2])\n",
      "torch.Size([128, 2, 2])\n",
      "torch.Size([128, 2, 2])\n",
      "torch.Size([128, 2, 2])"
     ]
    },
    {
     "name": "stderr",
     "output_type": "stream",
     "text": [
      " 34%|███████████████████████████▎                                                     | 76/225 [00:01<00:03, 46.17it/s]"
     ]
    },
    {
     "name": "stdout",
     "output_type": "stream",
     "text": [
      "\n",
      "torch.Size([128, 2, 2])\n",
      "torch.Size([128, 2, 2])\n",
      "torch.Size([128, 2, 2])\n",
      "torch.Size([128, 2, 2])\n",
      "torch.Size([128, 2, 2])\n",
      "torch.Size([128, 2, 2])\n",
      "torch.Size([128, 2, 2])\n",
      "torch.Size([128, 2, 2])\n",
      "torch.Size([128, 2, 2])"
     ]
    },
    {
     "name": "stderr",
     "output_type": "stream",
     "text": [
      " 38%|██████████████████████████████▉                                                  | 86/225 [00:01<00:02, 46.61it/s]"
     ]
    },
    {
     "name": "stdout",
     "output_type": "stream",
     "text": [
      "\n",
      "torch.Size([128, 2, 2])\n",
      "torch.Size([128, 2, 2])\n",
      "torch.Size([128, 2, 2])\n",
      "torch.Size([128, 2, 2])\n",
      "torch.Size([128, 2, 2])\n",
      "torch.Size([128, 2, 2])\n",
      "torch.Size([128, 2, 2])\n",
      "torch.Size([128, 2, 2])\n",
      "torch.Size([128, 2, 2])"
     ]
    },
    {
     "name": "stderr",
     "output_type": "stream",
     "text": [
      " 43%|██████████████████████████████████▌                                              | 96/225 [00:02<00:02, 47.02it/s]"
     ]
    },
    {
     "name": "stdout",
     "output_type": "stream",
     "text": [
      "\n",
      "torch.Size([128, 2, 2])\n",
      "torch.Size([128, 2, 2])\n",
      "torch.Size([128, 2, 2])\n",
      "torch.Size([128, 2, 2])\n",
      "torch.Size([128, 2, 2])\n",
      "torch.Size([128, 2, 2])\n",
      "torch.Size([128, 2, 2])\n",
      "torch.Size([128, 2, 2])\n",
      "torch.Size([128, 2, 2])"
     ]
    },
    {
     "name": "stderr",
     "output_type": "stream",
     "text": [
      "\r",
      " 45%|███████████████████████████████████▉                                            | 101/225 [00:02<00:02, 47.08it/s]"
     ]
    },
    {
     "name": "stdout",
     "output_type": "stream",
     "text": [
      "\n",
      "torch.Size([128, 2, 2])\n",
      "torch.Size([128, 2, 2])\n",
      "torch.Size([128, 2, 2])\n",
      "torch.Size([128, 2, 2])\n",
      "torch.Size([128, 2, 2])\n",
      "torch.Size([128, 2, 2])\n",
      "torch.Size([128, 2, 2])\n",
      "torch.Size([128, 2, 2])\n"
     ]
    },
    {
     "name": "stderr",
     "output_type": "stream",
     "text": [
      " 49%|███████████████████████████████████████▍                                        | 111/225 [00:02<00:02, 46.20it/s]"
     ]
    },
    {
     "name": "stdout",
     "output_type": "stream",
     "text": [
      "torch.Size([128, 2, 2])\n",
      "torch.Size([128, 2, 2])\n",
      "torch.Size([128, 2, 2])\n",
      "torch.Size([128, 2, 2])\n",
      "torch.Size([128, 2, 2])\n",
      "torch.Size([128, 2, 2])\n",
      "torch.Size([128, 2, 2])\n",
      "torch.Size([128, 2, 2])\n",
      "torch.Size([128, 2, 2])\n",
      "torch.Size([128, 2, 2])"
     ]
    },
    {
     "name": "stderr",
     "output_type": "stream",
     "text": [
      " 54%|███████████████████████████████████████████                                     | 121/225 [00:02<00:02, 46.84it/s]"
     ]
    },
    {
     "name": "stdout",
     "output_type": "stream",
     "text": [
      "\n",
      "torch.Size([128, 2, 2])\n",
      "torch.Size([128, 2, 2])\n",
      "torch.Size([128, 2, 2])\n",
      "torch.Size([128, 2, 2])\n",
      "torch.Size([128, 2, 2])\n",
      "torch.Size([128, 2, 2])\n",
      "torch.Size([128, 2, 2])\n",
      "torch.Size([128, 2, 2])\n",
      "torch.Size([128, 2, 2])"
     ]
    },
    {
     "name": "stderr",
     "output_type": "stream",
     "text": [
      " 58%|██████████████████████████████████████████████▌                                 | 131/225 [00:02<00:02, 46.95it/s]"
     ]
    },
    {
     "name": "stdout",
     "output_type": "stream",
     "text": [
      "\n",
      "torch.Size([128, 2, 2])\n",
      "torch.Size([128, 2, 2])\n",
      "torch.Size([128, 2, 2])\n",
      "torch.Size([128, 2, 2])\n",
      "torch.Size([128, 2, 2])\n",
      "torch.Size([128, 2, 2])\n",
      "torch.Size([128, 2, 2])\n",
      "torch.Size([128, 2, 2])\n",
      "torch.Size([128, 2, 2])"
     ]
    },
    {
     "name": "stderr",
     "output_type": "stream",
     "text": [
      " 63%|██████████████████████████████████████████████████▏                             | 141/225 [00:03<00:01, 46.99it/s]"
     ]
    },
    {
     "name": "stdout",
     "output_type": "stream",
     "text": [
      "\n",
      "torch.Size([128, 2, 2])\n",
      "torch.Size([128, 2, 2])\n",
      "torch.Size([128, 2, 2])\n",
      "torch.Size([128, 2, 2])\n",
      "torch.Size([128, 2, 2])\n",
      "torch.Size([128, 2, 2])\n",
      "torch.Size([128, 2, 2])\n",
      "torch.Size([128, 2, 2])\n",
      "torch.Size([128, 2, 2])"
     ]
    },
    {
     "name": "stderr",
     "output_type": "stream",
     "text": [
      " 67%|█████████████████████████████████████████████████████▋                          | 151/225 [00:03<00:01, 47.19it/s]"
     ]
    },
    {
     "name": "stdout",
     "output_type": "stream",
     "text": [
      "\n",
      "torch.Size([128, 2, 2])\n",
      "torch.Size([128, 2, 2])\n",
      "torch.Size([128, 2, 2])\n",
      "torch.Size([128, 2, 2])\n",
      "torch.Size([128, 2, 2])\n",
      "torch.Size([128, 2, 2])\n",
      "torch.Size([128, 2, 2])\n",
      "torch.Size([128, 2, 2])\n",
      "torch.Size([128, 2, 2])"
     ]
    },
    {
     "name": "stderr",
     "output_type": "stream",
     "text": [
      "\r",
      " 69%|███████████████████████████████████████████████████████▍                        | 156/225 [00:03<00:01, 47.07it/s]"
     ]
    },
    {
     "name": "stdout",
     "output_type": "stream",
     "text": [
      "\n",
      "torch.Size([128, 2, 2])\n",
      "torch.Size([128, 2, 2])\n",
      "torch.Size([128, 2, 2])\n",
      "torch.Size([128, 2, 2])\n",
      "torch.Size([128, 2, 2])\n",
      "torch.Size([128, 2, 2])\n",
      "torch.Size([128, 2, 2])\n",
      "torch.Size([128, 2, 2])\n",
      "torch.Size([128, 2, 2])"
     ]
    },
    {
     "name": "stderr",
     "output_type": "stream",
     "text": [
      " 74%|███████████████████████████████████████████████████████████                     | 166/225 [00:03<00:01, 47.24it/s]"
     ]
    },
    {
     "name": "stdout",
     "output_type": "stream",
     "text": [
      "\n",
      "torch.Size([128, 2, 2])\n",
      "torch.Size([128, 2, 2])\n",
      "torch.Size([128, 2, 2])\n",
      "torch.Size([128, 2, 2])\n",
      "torch.Size([128, 2, 2])\n",
      "torch.Size([128, 2, 2])\n",
      "torch.Size([128, 2, 2])\n",
      "torch.Size([128, 2, 2])\n",
      "torch.Size([128, 2, 2])"
     ]
    },
    {
     "name": "stderr",
     "output_type": "stream",
     "text": [
      " 78%|██████████████████████████████████████████████████████████████▌                 | 176/225 [00:03<00:01, 47.14it/s]"
     ]
    },
    {
     "name": "stdout",
     "output_type": "stream",
     "text": [
      "\n",
      "torch.Size([128, 2, 2])\n",
      "torch.Size([128, 2, 2])\n",
      "torch.Size([128, 2, 2])\n",
      "torch.Size([128, 2, 2])\n",
      "torch.Size([128, 2, 2])\n",
      "torch.Size([128, 2, 2])\n",
      "torch.Size([128, 2, 2])\n",
      "torch.Size([128, 2, 2])\n",
      "torch.Size([128, 2, 2])"
     ]
    },
    {
     "name": "stderr",
     "output_type": "stream",
     "text": [
      " 83%|██████████████████████████████████████████████████████████████████▏             | 186/225 [00:03<00:00, 47.37it/s]"
     ]
    },
    {
     "name": "stdout",
     "output_type": "stream",
     "text": [
      "\n",
      "torch.Size([128, 2, 2])\n",
      "torch.Size([128, 2, 2])\n",
      "torch.Size([128, 2, 2])\n",
      "torch.Size([128, 2, 2])\n",
      "torch.Size([128, 2, 2])\n",
      "torch.Size([128, 2, 2])\n",
      "torch.Size([128, 2, 2])\n",
      "torch.Size([128, 2, 2])\n",
      "torch.Size([128, 2, 2])"
     ]
    },
    {
     "name": "stderr",
     "output_type": "stream",
     "text": [
      " 87%|█████████████████████████████████████████████████████████████████████▋          | 196/225 [00:04<00:00, 47.24it/s]"
     ]
    },
    {
     "name": "stdout",
     "output_type": "stream",
     "text": [
      "\n",
      "torch.Size([128, 2, 2])\n",
      "torch.Size([128, 2, 2])\n",
      "torch.Size([128, 2, 2])\n",
      "torch.Size([128, 2, 2])\n",
      "torch.Size([128, 2, 2])\n",
      "torch.Size([128, 2, 2])\n",
      "torch.Size([128, 2, 2])\n",
      "torch.Size([128, 2, 2])\n",
      "torch.Size([128, 2, 2])"
     ]
    },
    {
     "name": "stderr",
     "output_type": "stream",
     "text": [
      "\r",
      " 89%|███████████████████████████████████████████████████████████████████████▍        | 201/225 [00:04<00:00, 47.10it/s]"
     ]
    },
    {
     "name": "stdout",
     "output_type": "stream",
     "text": [
      "\n",
      "torch.Size([128, 2, 2])\n",
      "torch.Size([128, 2, 2])\n",
      "torch.Size([128, 2, 2])\n",
      "torch.Size([128, 2, 2])\n",
      "torch.Size([128, 2, 2])\n",
      "torch.Size([128, 2, 2])\n",
      "torch.Size([128, 2, 2])\n",
      "torch.Size([128, 2, 2])\n",
      "torch.Size([128, 2, 2])"
     ]
    },
    {
     "name": "stderr",
     "output_type": "stream",
     "text": [
      " 94%|███████████████████████████████████████████████████████████████████████████     | 211/225 [00:04<00:00, 47.08it/s]"
     ]
    },
    {
     "name": "stdout",
     "output_type": "stream",
     "text": [
      "\n",
      "torch.Size([128, 2, 2])\n",
      "torch.Size([128, 2, 2])\n",
      "torch.Size([128, 2, 2])\n",
      "torch.Size([128, 2, 2])\n",
      "torch.Size([128, 2, 2])\n",
      "torch.Size([128, 2, 2])\n",
      "torch.Size([128, 2, 2])\n",
      "torch.Size([128, 2, 2])\n",
      "torch.Size([128, 2, 2])"
     ]
    },
    {
     "name": "stderr",
     "output_type": "stream",
     "text": [
      " 98%|██████████████████████████████████████████████████████████████████████████████▌ | 221/225 [00:04<00:00, 47.10it/s]"
     ]
    },
    {
     "name": "stdout",
     "output_type": "stream",
     "text": [
      "\n",
      "torch.Size([128, 2, 2])\n",
      "torch.Size([128, 2, 2])\n",
      "torch.Size([128, 2, 2])\n",
      "torch.Size([128, 2, 2])\n",
      "torch.Size([128, 2, 2])\n",
      "torch.Size([128, 2, 2])\n",
      "torch.Size([128, 2, 2])\n",
      "torch.Size([128, 2, 2])\n",
      "torch.Size([128, 2, 2])"
     ]
    },
    {
     "name": "stderr",
     "output_type": "stream",
     "text": [
      "100%|████████████████████████████████████████████████████████████████████████████████| 225/225 [00:04<00:00, 46.97it/s]\n",
      "  3%|██▏                                                                               | 6/225 [00:00<00:04, 49.64it/s]"
     ]
    },
    {
     "name": "stdout",
     "output_type": "stream",
     "text": [
      "\n",
      "torch.Size([128, 2, 2])\n",
      "Epoch: 4. Loss: 0.03429564833641052\n",
      "torch.Size([128, 2, 2])\n",
      "torch.Size([128, 2, 2])\n",
      "torch.Size([128, 2, 2])\n",
      "torch.Size([128, 2, 2])\n",
      "torch.Size([128, 2, 2])\n",
      "torch.Size([128, 2, 2])\n",
      "torch.Size([128, 2, 2])\n",
      "torch.Size([128, 2, 2])"
     ]
    },
    {
     "name": "stderr",
     "output_type": "stream",
     "text": [
      "\r",
      "  5%|███▉                                                                             | 11/225 [00:00<00:04, 48.67it/s]"
     ]
    },
    {
     "name": "stdout",
     "output_type": "stream",
     "text": [
      "\n",
      "torch.Size([128, 2, 2])\n",
      "torch.Size([128, 2, 2])\n",
      "torch.Size([128, 2, 2])\n",
      "torch.Size([128, 2, 2])\n",
      "torch.Size([128, 2, 2])\n",
      "torch.Size([128, 2, 2])\n",
      "torch.Size([128, 2, 2])\n",
      "torch.Size([128, 2, 2])\n"
     ]
    },
    {
     "name": "stderr",
     "output_type": "stream",
     "text": [
      "  9%|███████▌                                                                         | 21/225 [00:00<00:04, 48.15it/s]"
     ]
    },
    {
     "name": "stdout",
     "output_type": "stream",
     "text": [
      "torch.Size([128, 2, 2])\n",
      "torch.Size([128, 2, 2])\n",
      "torch.Size([128, 2, 2])\n",
      "torch.Size([128, 2, 2])\n",
      "torch.Size([128, 2, 2])\n",
      "torch.Size([128, 2, 2])\n",
      "torch.Size([128, 2, 2])\n",
      "torch.Size([128, 2, 2])\n",
      "torch.Size([128, 2, 2])\n",
      "torch.Size([128, 2, 2])"
     ]
    },
    {
     "name": "stderr",
     "output_type": "stream",
     "text": [
      " 14%|███████████▏                                                                     | 31/225 [00:00<00:04, 47.81it/s]"
     ]
    },
    {
     "name": "stdout",
     "output_type": "stream",
     "text": [
      "\n",
      "torch.Size([128, 2, 2])\n",
      "torch.Size([128, 2, 2])\n",
      "torch.Size([128, 2, 2])\n",
      "torch.Size([128, 2, 2])\n",
      "torch.Size([128, 2, 2])\n",
      "torch.Size([128, 2, 2])\n",
      "torch.Size([128, 2, 2])\n",
      "torch.Size([128, 2, 2])\n",
      "torch.Size([128, 2, 2])"
     ]
    },
    {
     "name": "stderr",
     "output_type": "stream",
     "text": [
      " 18%|██████████████▊                                                                  | 41/225 [00:00<00:03, 47.47it/s]"
     ]
    },
    {
     "name": "stdout",
     "output_type": "stream",
     "text": [
      "\n",
      "torch.Size([128, 2, 2])\n",
      "torch.Size([128, 2, 2])\n",
      "torch.Size([128, 2, 2])\n",
      "torch.Size([128, 2, 2])\n",
      "torch.Size([128, 2, 2])\n",
      "torch.Size([128, 2, 2])\n",
      "torch.Size([128, 2, 2])\n",
      "torch.Size([128, 2, 2])\n",
      "torch.Size([128, 2, 2])"
     ]
    },
    {
     "name": "stderr",
     "output_type": "stream",
     "text": [
      " 23%|██████████████████▎                                                              | 51/225 [00:01<00:03, 47.56it/s]"
     ]
    },
    {
     "name": "stdout",
     "output_type": "stream",
     "text": [
      "\n",
      "torch.Size([128, 2, 2])\n",
      "torch.Size([128, 2, 2])\n",
      "torch.Size([128, 2, 2])\n",
      "torch.Size([128, 2, 2])\n",
      "torch.Size([128, 2, 2])\n",
      "torch.Size([128, 2, 2])\n",
      "torch.Size([128, 2, 2])\n",
      "torch.Size([128, 2, 2])\n",
      "torch.Size([128, 2, 2])"
     ]
    },
    {
     "name": "stderr",
     "output_type": "stream",
     "text": [
      " 27%|█████████████████████▉                                                           | 61/225 [00:01<00:03, 47.67it/s]"
     ]
    },
    {
     "name": "stdout",
     "output_type": "stream",
     "text": [
      "\n",
      "torch.Size([128, 2, 2])\n",
      "torch.Size([128, 2, 2])\n",
      "torch.Size([128, 2, 2])\n",
      "torch.Size([128, 2, 2])\n",
      "torch.Size([128, 2, 2])\n",
      "torch.Size([128, 2, 2])\n",
      "torch.Size([128, 2, 2])\n",
      "torch.Size([128, 2, 2])\n",
      "torch.Size([128, 2, 2])"
     ]
    },
    {
     "name": "stderr",
     "output_type": "stream",
     "text": [
      "\r",
      " 29%|███████████████████████▊                                                         | 66/225 [00:01<00:03, 47.47it/s]"
     ]
    },
    {
     "name": "stdout",
     "output_type": "stream",
     "text": [
      "\n",
      "torch.Size([128, 2, 2])\n",
      "torch.Size([128, 2, 2])\n",
      "torch.Size([128, 2, 2])\n",
      "torch.Size([128, 2, 2])\n",
      "torch.Size([128, 2, 2])\n",
      "torch.Size([128, 2, 2])\n",
      "torch.Size([128, 2, 2])\n",
      "torch.Size([128, 2, 2])\n",
      "torch.Size([128, 2, 2])"
     ]
    },
    {
     "name": "stderr",
     "output_type": "stream",
     "text": [
      " 34%|███████████████████████████▎                                                     | 76/225 [00:01<00:03, 47.48it/s]"
     ]
    },
    {
     "name": "stdout",
     "output_type": "stream",
     "text": [
      "\n",
      "torch.Size([128, 2, 2])\n",
      "torch.Size([128, 2, 2])\n",
      "torch.Size([128, 2, 2])\n",
      "torch.Size([128, 2, 2])\n",
      "torch.Size([128, 2, 2])\n",
      "torch.Size([128, 2, 2])\n",
      "torch.Size([128, 2, 2])\n",
      "torch.Size([128, 2, 2])\n",
      "torch.Size([128, 2, 2])"
     ]
    },
    {
     "name": "stderr",
     "output_type": "stream",
     "text": [
      " 38%|██████████████████████████████▉                                                  | 86/225 [00:01<00:02, 47.35it/s]"
     ]
    },
    {
     "name": "stdout",
     "output_type": "stream",
     "text": [
      "\n",
      "torch.Size([128, 2, 2])\n",
      "torch.Size([128, 2, 2])\n",
      "torch.Size([128, 2, 2])\n",
      "torch.Size([128, 2, 2])\n",
      "torch.Size([128, 2, 2])\n",
      "torch.Size([128, 2, 2])\n",
      "torch.Size([128, 2, 2])\n",
      "torch.Size([128, 2, 2])\n",
      "torch.Size([128, 2, 2])"
     ]
    },
    {
     "name": "stderr",
     "output_type": "stream",
     "text": [
      " 43%|██████████████████████████████████▌                                              | 96/225 [00:02<00:02, 47.28it/s]"
     ]
    },
    {
     "name": "stdout",
     "output_type": "stream",
     "text": [
      "\n",
      "torch.Size([128, 2, 2])\n",
      "torch.Size([128, 2, 2])\n",
      "torch.Size([128, 2, 2])\n",
      "torch.Size([128, 2, 2])\n",
      "torch.Size([128, 2, 2])\n",
      "torch.Size([128, 2, 2])\n",
      "torch.Size([128, 2, 2])\n",
      "torch.Size([128, 2, 2])\n",
      "torch.Size([128, 2, 2])"
     ]
    },
    {
     "name": "stderr",
     "output_type": "stream",
     "text": [
      " 47%|█████████████████████████████████████▋                                          | 106/225 [00:02<00:02, 47.16it/s]"
     ]
    },
    {
     "name": "stdout",
     "output_type": "stream",
     "text": [
      "\n",
      "torch.Size([128, 2, 2])\n",
      "torch.Size([128, 2, 2])\n",
      "torch.Size([128, 2, 2])\n",
      "torch.Size([128, 2, 2])\n",
      "torch.Size([128, 2, 2])\n",
      "torch.Size([128, 2, 2])\n",
      "torch.Size([128, 2, 2])\n",
      "torch.Size([128, 2, 2])\n",
      "torch.Size([128, 2, 2])"
     ]
    },
    {
     "name": "stderr",
     "output_type": "stream",
     "text": [
      "\r",
      " 49%|███████████████████████████████████████▍                                        | 111/225 [00:02<00:02, 47.24it/s]"
     ]
    },
    {
     "name": "stdout",
     "output_type": "stream",
     "text": [
      "\n",
      "torch.Size([128, 2, 2])\n",
      "torch.Size([128, 2, 2])\n",
      "torch.Size([128, 2, 2])\n",
      "torch.Size([128, 2, 2])\n",
      "torch.Size([128, 2, 2])\n",
      "torch.Size([128, 2, 2])\n",
      "torch.Size([128, 2, 2])\n",
      "torch.Size([128, 2, 2])\n",
      "torch.Size([128, 2, 2])"
     ]
    },
    {
     "name": "stderr",
     "output_type": "stream",
     "text": [
      " 54%|███████████████████████████████████████████                                     | 121/225 [00:02<00:02, 47.04it/s]"
     ]
    },
    {
     "name": "stdout",
     "output_type": "stream",
     "text": [
      "\n",
      "torch.Size([128, 2, 2])\n",
      "torch.Size([128, 2, 2])\n",
      "torch.Size([128, 2, 2])\n",
      "torch.Size([128, 2, 2])\n",
      "torch.Size([128, 2, 2])\n",
      "torch.Size([128, 2, 2])\n",
      "torch.Size([128, 2, 2])\n",
      "torch.Size([128, 2, 2])\n",
      "torch.Size([128, 2, 2])"
     ]
    },
    {
     "name": "stderr",
     "output_type": "stream",
     "text": [
      " 58%|██████████████████████████████████████████████▌                                 | 131/225 [00:02<00:02, 47.00it/s]"
     ]
    },
    {
     "name": "stdout",
     "output_type": "stream",
     "text": [
      "\n",
      "torch.Size([128, 2, 2])\n",
      "torch.Size([128, 2, 2])\n",
      "torch.Size([128, 2, 2])\n",
      "torch.Size([128, 2, 2])\n",
      "torch.Size([128, 2, 2])\n",
      "torch.Size([128, 2, 2])\n",
      "torch.Size([128, 2, 2])\n",
      "torch.Size([128, 2, 2])\n",
      "torch.Size([128, 2, 2])"
     ]
    },
    {
     "name": "stderr",
     "output_type": "stream",
     "text": [
      " 63%|██████████████████████████████████████████████████▏                             | 141/225 [00:02<00:01, 47.40it/s]"
     ]
    },
    {
     "name": "stdout",
     "output_type": "stream",
     "text": [
      "\n",
      "torch.Size([128, 2, 2])\n",
      "torch.Size([128, 2, 2])\n",
      "torch.Size([128, 2, 2])\n",
      "torch.Size([128, 2, 2])\n",
      "torch.Size([128, 2, 2])\n",
      "torch.Size([128, 2, 2])\n",
      "torch.Size([128, 2, 2])\n",
      "torch.Size([128, 2, 2])\n",
      "torch.Size([128, 2, 2])"
     ]
    },
    {
     "name": "stderr",
     "output_type": "stream",
     "text": [
      " 67%|█████████████████████████████████████████████████████▋                          | 151/225 [00:03<00:01, 47.40it/s]"
     ]
    },
    {
     "name": "stdout",
     "output_type": "stream",
     "text": [
      "\n",
      "torch.Size([128, 2, 2])\n",
      "torch.Size([128, 2, 2])\n",
      "torch.Size([128, 2, 2])\n",
      "torch.Size([128, 2, 2])\n",
      "torch.Size([128, 2, 2])\n",
      "torch.Size([128, 2, 2])\n",
      "torch.Size([128, 2, 2])\n",
      "torch.Size([128, 2, 2])\n",
      "torch.Size([128, 2, 2])"
     ]
    },
    {
     "name": "stderr",
     "output_type": "stream",
     "text": [
      "\r",
      " 69%|███████████████████████████████████████████████████████▍                        | 156/225 [00:03<00:01, 47.21it/s]"
     ]
    },
    {
     "name": "stdout",
     "output_type": "stream",
     "text": [
      "\n",
      "torch.Size([128, 2, 2])\n",
      "torch.Size([128, 2, 2])\n",
      "torch.Size([128, 2, 2])\n",
      "torch.Size([128, 2, 2])\n",
      "torch.Size([128, 2, 2])\n",
      "torch.Size([128, 2, 2])\n",
      "torch.Size([128, 2, 2])\n",
      "torch.Size([128, 2, 2])\n",
      "torch.Size([128, 2, 2])"
     ]
    },
    {
     "name": "stderr",
     "output_type": "stream",
     "text": [
      " 74%|███████████████████████████████████████████████████████████                     | 166/225 [00:03<00:01, 47.19it/s]"
     ]
    },
    {
     "name": "stdout",
     "output_type": "stream",
     "text": [
      "\n",
      "torch.Size([128, 2, 2])\n",
      "torch.Size([128, 2, 2])\n",
      "torch.Size([128, 2, 2])\n",
      "torch.Size([128, 2, 2])\n",
      "torch.Size([128, 2, 2])\n",
      "torch.Size([128, 2, 2])\n",
      "torch.Size([128, 2, 2])\n",
      "torch.Size([128, 2, 2])\n",
      "torch.Size([128, 2, 2])"
     ]
    },
    {
     "name": "stderr",
     "output_type": "stream",
     "text": [
      " 78%|██████████████████████████████████████████████████████████████▌                 | 176/225 [00:03<00:01, 47.07it/s]"
     ]
    },
    {
     "name": "stdout",
     "output_type": "stream",
     "text": [
      "\n",
      "torch.Size([128, 2, 2])\n",
      "torch.Size([128, 2, 2])\n",
      "torch.Size([128, 2, 2])\n",
      "torch.Size([128, 2, 2])\n",
      "torch.Size([128, 2, 2])\n",
      "torch.Size([128, 2, 2])\n",
      "torch.Size([128, 2, 2])\n",
      "torch.Size([128, 2, 2])\n",
      "torch.Size([128, 2, 2])"
     ]
    },
    {
     "name": "stderr",
     "output_type": "stream",
     "text": [
      " 83%|██████████████████████████████████████████████████████████████████▏             | 186/225 [00:03<00:00, 47.14it/s]"
     ]
    },
    {
     "name": "stdout",
     "output_type": "stream",
     "text": [
      "\n",
      "torch.Size([128, 2, 2])\n",
      "torch.Size([128, 2, 2])\n",
      "torch.Size([128, 2, 2])\n",
      "torch.Size([128, 2, 2])\n",
      "torch.Size([128, 2, 2])\n",
      "torch.Size([128, 2, 2])\n",
      "torch.Size([128, 2, 2])\n",
      "torch.Size([128, 2, 2])\n",
      "torch.Size([128, 2, 2])"
     ]
    },
    {
     "name": "stderr",
     "output_type": "stream",
     "text": [
      " 87%|█████████████████████████████████████████████████████████████████████▋          | 196/225 [00:04<00:00, 47.55it/s]"
     ]
    },
    {
     "name": "stdout",
     "output_type": "stream",
     "text": [
      "\n",
      "torch.Size([128, 2, 2])\n",
      "torch.Size([128, 2, 2])\n",
      "torch.Size([128, 2, 2])\n",
      "torch.Size([128, 2, 2])\n",
      "torch.Size([128, 2, 2])\n",
      "torch.Size([128, 2, 2])\n",
      "torch.Size([128, 2, 2])\n",
      "torch.Size([128, 2, 2])\n",
      "torch.Size([128, 2, 2])"
     ]
    },
    {
     "name": "stderr",
     "output_type": "stream",
     "text": [
      "\r",
      " 89%|███████████████████████████████████████████████████████████████████████▍        | 201/225 [00:04<00:00, 47.24it/s]"
     ]
    },
    {
     "name": "stdout",
     "output_type": "stream",
     "text": [
      "\n",
      "torch.Size([128, 2, 2])\n",
      "torch.Size([128, 2, 2])\n",
      "torch.Size([128, 2, 2])\n",
      "torch.Size([128, 2, 2])\n",
      "torch.Size([128, 2, 2])\n",
      "torch.Size([128, 2, 2])\n",
      "torch.Size([128, 2, 2])\n",
      "torch.Size([128, 2, 2])\n",
      "torch.Size([128, 2, 2])"
     ]
    },
    {
     "name": "stderr",
     "output_type": "stream",
     "text": [
      " 94%|███████████████████████████████████████████████████████████████████████████     | 211/225 [00:04<00:00, 47.46it/s]"
     ]
    },
    {
     "name": "stdout",
     "output_type": "stream",
     "text": [
      "\n",
      "torch.Size([128, 2, 2])\n",
      "torch.Size([128, 2, 2])\n",
      "torch.Size([128, 2, 2])\n",
      "torch.Size([128, 2, 2])\n",
      "torch.Size([128, 2, 2])\n",
      "torch.Size([128, 2, 2])\n",
      "torch.Size([128, 2, 2])\n",
      "torch.Size([128, 2, 2])\n",
      "torch.Size([128, 2, 2])"
     ]
    },
    {
     "name": "stderr",
     "output_type": "stream",
     "text": [
      " 98%|██████████████████████████████████████████████████████████████████████████████▌ | 221/225 [00:04<00:00, 47.08it/s]"
     ]
    },
    {
     "name": "stdout",
     "output_type": "stream",
     "text": [
      "\n",
      "torch.Size([128, 2, 2])\n",
      "torch.Size([128, 2, 2])\n",
      "torch.Size([128, 2, 2])\n",
      "torch.Size([128, 2, 2])\n",
      "torch.Size([128, 2, 2])\n",
      "torch.Size([128, 2, 2])\n",
      "torch.Size([128, 2, 2])\n",
      "torch.Size([128, 2, 2])\n",
      "torch.Size([128, 2, 2])"
     ]
    },
    {
     "name": "stderr",
     "output_type": "stream",
     "text": [
      "100%|████████████████████████████████████████████████████████████████████████████████| 225/225 [00:04<00:00, 47.33it/s]\n",
      "  3%|██▏                                                                               | 6/225 [00:00<00:04, 50.05it/s]"
     ]
    },
    {
     "name": "stdout",
     "output_type": "stream",
     "text": [
      "\n",
      "torch.Size([128, 2, 2])\n",
      "Epoch: 5. Loss: 0.047239162027835846\n",
      "torch.Size([128, 2, 2])\n",
      "torch.Size([128, 2, 2])\n",
      "torch.Size([128, 2, 2])\n",
      "torch.Size([128, 2, 2])\n",
      "torch.Size([128, 2, 2])\n",
      "torch.Size([128, 2, 2])\n",
      "torch.Size([128, 2, 2])\n",
      "torch.Size([128, 2, 2])"
     ]
    },
    {
     "name": "stderr",
     "output_type": "stream",
     "text": [
      "  7%|█████▊                                                                           | 16/225 [00:00<00:04, 48.14it/s]"
     ]
    },
    {
     "name": "stdout",
     "output_type": "stream",
     "text": [
      "\n",
      "torch.Size([128, 2, 2])\n",
      "torch.Size([128, 2, 2])\n",
      "torch.Size([128, 2, 2])\n",
      "torch.Size([128, 2, 2])\n",
      "torch.Size([128, 2, 2])\n",
      "torch.Size([128, 2, 2])\n",
      "torch.Size([128, 2, 2])\n",
      "torch.Size([128, 2, 2])\n",
      "torch.Size([128, 2, 2])"
     ]
    },
    {
     "name": "stderr",
     "output_type": "stream",
     "text": [
      "\r",
      "  9%|███████▌                                                                         | 21/225 [00:00<00:04, 47.86it/s]"
     ]
    },
    {
     "name": "stdout",
     "output_type": "stream",
     "text": [
      "\n",
      "torch.Size([128, 2, 2])\n",
      "torch.Size([128, 2, 2])\n",
      "torch.Size([128, 2, 2])\n",
      "torch.Size([128, 2, 2])\n",
      "torch.Size([128, 2, 2])\n",
      "torch.Size([128, 2, 2])\n",
      "torch.Size([128, 2, 2])\n",
      "torch.Size([128, 2, 2])\n",
      "torch.Size([128, 2, 2])"
     ]
    },
    {
     "name": "stderr",
     "output_type": "stream",
     "text": [
      " 14%|███████████▏                                                                     | 31/225 [00:00<00:04, 47.44it/s]"
     ]
    },
    {
     "name": "stdout",
     "output_type": "stream",
     "text": [
      "\n",
      "torch.Size([128, 2, 2])\n",
      "torch.Size([128, 2, 2])\n",
      "torch.Size([128, 2, 2])\n",
      "torch.Size([128, 2, 2])\n",
      "torch.Size([128, 2, 2])\n",
      "torch.Size([128, 2, 2])\n",
      "torch.Size([128, 2, 2])\n",
      "torch.Size([128, 2, 2])\n",
      "torch.Size([128, 2, 2])"
     ]
    },
    {
     "name": "stderr",
     "output_type": "stream",
     "text": [
      " 18%|██████████████▊                                                                  | 41/225 [00:00<00:03, 47.23it/s]"
     ]
    },
    {
     "name": "stdout",
     "output_type": "stream",
     "text": [
      "\n",
      "torch.Size([128, 2, 2])\n",
      "torch.Size([128, 2, 2])\n",
      "torch.Size([128, 2, 2])\n",
      "torch.Size([128, 2, 2])\n",
      "torch.Size([128, 2, 2])\n",
      "torch.Size([128, 2, 2])\n",
      "torch.Size([128, 2, 2])\n",
      "torch.Size([128, 2, 2])\n",
      "torch.Size([128, 2, 2])"
     ]
    },
    {
     "name": "stderr",
     "output_type": "stream",
     "text": [
      " 23%|██████████████████▎                                                              | 51/225 [00:01<00:03, 47.13it/s]"
     ]
    },
    {
     "name": "stdout",
     "output_type": "stream",
     "text": [
      "\n",
      "torch.Size([128, 2, 2])\n",
      "torch.Size([128, 2, 2])\n",
      "torch.Size([128, 2, 2])\n",
      "torch.Size([128, 2, 2])\n",
      "torch.Size([128, 2, 2])\n",
      "torch.Size([128, 2, 2])\n",
      "torch.Size([128, 2, 2])\n",
      "torch.Size([128, 2, 2])\n",
      "torch.Size([128, 2, 2])"
     ]
    },
    {
     "name": "stderr",
     "output_type": "stream",
     "text": [
      "\r",
      " 25%|████████████████████▏                                                            | 56/225 [00:01<00:03, 47.29it/s]"
     ]
    },
    {
     "name": "stdout",
     "output_type": "stream",
     "text": [
      "\n",
      "torch.Size([128, 2, 2])\n",
      "torch.Size([128, 2, 2])\n",
      "torch.Size([128, 2, 2])\n",
      "torch.Size([128, 2, 2])\n",
      "torch.Size([128, 2, 2])\n",
      "torch.Size([128, 2, 2])\n",
      "torch.Size([128, 2, 2])\n",
      "torch.Size([128, 2, 2])\n"
     ]
    },
    {
     "name": "stderr",
     "output_type": "stream",
     "text": [
      " 29%|███████████████████████▊                                                         | 66/225 [00:01<00:03, 47.03it/s]"
     ]
    },
    {
     "name": "stdout",
     "output_type": "stream",
     "text": [
      "torch.Size([128, 2, 2])\n",
      "torch.Size([128, 2, 2])\n",
      "torch.Size([128, 2, 2])\n",
      "torch.Size([128, 2, 2])\n",
      "torch.Size([128, 2, 2])\n",
      "torch.Size([128, 2, 2])\n",
      "torch.Size([128, 2, 2])\n",
      "torch.Size([128, 2, 2])\n",
      "torch.Size([128, 2, 2])\n",
      "torch.Size([128, 2, 2])"
     ]
    },
    {
     "name": "stderr",
     "output_type": "stream",
     "text": [
      " 34%|███████████████████████████▎                                                     | 76/225 [00:01<00:03, 47.13it/s]"
     ]
    },
    {
     "name": "stdout",
     "output_type": "stream",
     "text": [
      "\n",
      "torch.Size([128, 2, 2])\n",
      "torch.Size([128, 2, 2])\n",
      "torch.Size([128, 2, 2])\n",
      "torch.Size([128, 2, 2])\n",
      "torch.Size([128, 2, 2])\n",
      "torch.Size([128, 2, 2])\n",
      "torch.Size([128, 2, 2])\n",
      "torch.Size([128, 2, 2])\n",
      "torch.Size([128, 2, 2])"
     ]
    },
    {
     "name": "stderr",
     "output_type": "stream",
     "text": [
      " 38%|██████████████████████████████▉                                                  | 86/225 [00:01<00:02, 47.40it/s]"
     ]
    },
    {
     "name": "stdout",
     "output_type": "stream",
     "text": [
      "\n",
      "torch.Size([128, 2, 2])\n",
      "torch.Size([128, 2, 2])\n",
      "torch.Size([128, 2, 2])\n",
      "torch.Size([128, 2, 2])\n",
      "torch.Size([128, 2, 2])\n",
      "torch.Size([128, 2, 2])\n",
      "torch.Size([128, 2, 2])\n",
      "torch.Size([128, 2, 2])\n",
      "torch.Size([128, 2, 2])"
     ]
    },
    {
     "name": "stderr",
     "output_type": "stream",
     "text": [
      " 43%|██████████████████████████████████▌                                              | 96/225 [00:02<00:02, 47.04it/s]"
     ]
    },
    {
     "name": "stdout",
     "output_type": "stream",
     "text": [
      "\n",
      "torch.Size([128, 2, 2])\n",
      "torch.Size([128, 2, 2])\n",
      "torch.Size([128, 2, 2])\n",
      "torch.Size([128, 2, 2])\n",
      "torch.Size([128, 2, 2])\n",
      "torch.Size([128, 2, 2])\n",
      "torch.Size([128, 2, 2])\n",
      "torch.Size([128, 2, 2])\n",
      "torch.Size([128, 2, 2])"
     ]
    },
    {
     "name": "stderr",
     "output_type": "stream",
     "text": [
      "\r",
      " 45%|███████████████████████████████████▉                                            | 101/225 [00:02<00:02, 47.09it/s]"
     ]
    },
    {
     "name": "stdout",
     "output_type": "stream",
     "text": [
      "\n",
      "torch.Size([128, 2, 2])\n",
      "torch.Size([128, 2, 2])\n",
      "torch.Size([128, 2, 2])\n",
      "torch.Size([128, 2, 2])\n",
      "torch.Size([128, 2, 2])\n",
      "torch.Size([128, 2, 2])\n",
      "torch.Size([128, 2, 2])\n",
      "torch.Size([128, 2, 2])\n"
     ]
    },
    {
     "name": "stderr",
     "output_type": "stream",
     "text": [
      " 49%|███████████████████████████████████████▍                                        | 111/225 [00:02<00:02, 47.20it/s]"
     ]
    },
    {
     "name": "stdout",
     "output_type": "stream",
     "text": [
      "torch.Size([128, 2, 2])\n",
      "torch.Size([128, 2, 2])\n",
      "torch.Size([128, 2, 2])\n",
      "torch.Size([128, 2, 2])\n",
      "torch.Size([128, 2, 2])\n",
      "torch.Size([128, 2, 2])\n",
      "torch.Size([128, 2, 2])\n",
      "torch.Size([128, 2, 2])\n",
      "torch.Size([128, 2, 2])\n",
      "torch.Size([128, 2, 2])"
     ]
    },
    {
     "name": "stderr",
     "output_type": "stream",
     "text": [
      " 54%|███████████████████████████████████████████                                     | 121/225 [00:02<00:02, 47.30it/s]"
     ]
    },
    {
     "name": "stdout",
     "output_type": "stream",
     "text": [
      "\n",
      "torch.Size([128, 2, 2])\n",
      "torch.Size([128, 2, 2])\n",
      "torch.Size([128, 2, 2])\n",
      "torch.Size([128, 2, 2])\n",
      "torch.Size([128, 2, 2])\n",
      "torch.Size([128, 2, 2])\n",
      "torch.Size([128, 2, 2])\n",
      "torch.Size([128, 2, 2])\n",
      "torch.Size([128, 2, 2])"
     ]
    },
    {
     "name": "stderr",
     "output_type": "stream",
     "text": [
      " 58%|██████████████████████████████████████████████▌                                 | 131/225 [00:02<00:01, 47.15it/s]"
     ]
    },
    {
     "name": "stdout",
     "output_type": "stream",
     "text": [
      "\n",
      "torch.Size([128, 2, 2])\n",
      "torch.Size([128, 2, 2])\n",
      "torch.Size([128, 2, 2])\n",
      "torch.Size([128, 2, 2])\n",
      "torch.Size([128, 2, 2])\n",
      "torch.Size([128, 2, 2])\n",
      "torch.Size([128, 2, 2])\n",
      "torch.Size([128, 2, 2])\n",
      "torch.Size([128, 2, 2])"
     ]
    },
    {
     "name": "stderr",
     "output_type": "stream",
     "text": [
      " 63%|██████████████████████████████████████████████████▏                             | 141/225 [00:02<00:01, 46.91it/s]"
     ]
    },
    {
     "name": "stdout",
     "output_type": "stream",
     "text": [
      "\n",
      "torch.Size([128, 2, 2])\n",
      "torch.Size([128, 2, 2])\n",
      "torch.Size([128, 2, 2])\n",
      "torch.Size([128, 2, 2])\n",
      "torch.Size([128, 2, 2])\n",
      "torch.Size([128, 2, 2])\n",
      "torch.Size([128, 2, 2])\n",
      "torch.Size([128, 2, 2])\n",
      "torch.Size([128, 2, 2])"
     ]
    },
    {
     "name": "stderr",
     "output_type": "stream",
     "text": [
      "\r",
      " 65%|███████████████████████████████████████████████████▉                            | 146/225 [00:03<00:01, 47.00it/s]"
     ]
    },
    {
     "name": "stdout",
     "output_type": "stream",
     "text": [
      "\n",
      "torch.Size([128, 2, 2])\n",
      "torch.Size([128, 2, 2])\n",
      "torch.Size([128, 2, 2])\n",
      "torch.Size([128, 2, 2])\n",
      "torch.Size([128, 2, 2])\n",
      "torch.Size([128, 2, 2])\n",
      "torch.Size([128, 2, 2])\n",
      "torch.Size([128, 2, 2])\n"
     ]
    },
    {
     "name": "stderr",
     "output_type": "stream",
     "text": [
      " 69%|███████████████████████████████████████████████████████▍                        | 156/225 [00:03<00:01, 47.02it/s]"
     ]
    },
    {
     "name": "stdout",
     "output_type": "stream",
     "text": [
      "torch.Size([128, 2, 2])\n",
      "torch.Size([128, 2, 2])\n",
      "torch.Size([128, 2, 2])\n",
      "torch.Size([128, 2, 2])\n",
      "torch.Size([128, 2, 2])\n",
      "torch.Size([128, 2, 2])\n",
      "torch.Size([128, 2, 2])\n",
      "torch.Size([128, 2, 2])\n",
      "torch.Size([128, 2, 2])\n",
      "torch.Size([128, 2, 2])"
     ]
    },
    {
     "name": "stderr",
     "output_type": "stream",
     "text": [
      " 74%|███████████████████████████████████████████████████████████                     | 166/225 [00:03<00:01, 46.07it/s]"
     ]
    },
    {
     "name": "stdout",
     "output_type": "stream",
     "text": [
      "\n",
      "torch.Size([128, 2, 2])\n",
      "torch.Size([128, 2, 2])\n",
      "torch.Size([128, 2, 2])\n",
      "torch.Size([128, 2, 2])\n",
      "torch.Size([128, 2, 2])\n",
      "torch.Size([128, 2, 2])\n",
      "torch.Size([128, 2, 2])\n",
      "torch.Size([128, 2, 2])\n",
      "torch.Size([128, 2, 2])"
     ]
    },
    {
     "name": "stderr",
     "output_type": "stream",
     "text": [
      " 78%|██████████████████████████████████████████████████████████████▌                 | 176/225 [00:03<00:01, 46.78it/s]"
     ]
    },
    {
     "name": "stdout",
     "output_type": "stream",
     "text": [
      "\n",
      "torch.Size([128, 2, 2])\n",
      "torch.Size([128, 2, 2])\n",
      "torch.Size([128, 2, 2])\n",
      "torch.Size([128, 2, 2])\n",
      "torch.Size([128, 2, 2])\n",
      "torch.Size([128, 2, 2])\n",
      "torch.Size([128, 2, 2])\n",
      "torch.Size([128, 2, 2])\n",
      "torch.Size([128, 2, 2])"
     ]
    },
    {
     "name": "stderr",
     "output_type": "stream",
     "text": [
      " 83%|██████████████████████████████████████████████████████████████████▏             | 186/225 [00:03<00:00, 47.09it/s]"
     ]
    },
    {
     "name": "stdout",
     "output_type": "stream",
     "text": [
      "\n",
      "torch.Size([128, 2, 2])\n",
      "torch.Size([128, 2, 2])\n",
      "torch.Size([128, 2, 2])\n",
      "torch.Size([128, 2, 2])\n",
      "torch.Size([128, 2, 2])\n",
      "torch.Size([128, 2, 2])\n",
      "torch.Size([128, 2, 2])\n",
      "torch.Size([128, 2, 2])\n",
      "torch.Size([128, 2, 2])"
     ]
    },
    {
     "name": "stderr",
     "output_type": "stream",
     "text": [
      "\r",
      " 85%|███████████████████████████████████████████████████████████████████▉            | 191/225 [00:04<00:00, 47.13it/s]"
     ]
    },
    {
     "name": "stdout",
     "output_type": "stream",
     "text": [
      "\n",
      "torch.Size([128, 2, 2])\n",
      "torch.Size([128, 2, 2])\n",
      "torch.Size([128, 2, 2])\n",
      "torch.Size([128, 2, 2])\n",
      "torch.Size([128, 2, 2])\n",
      "torch.Size([128, 2, 2])\n",
      "torch.Size([128, 2, 2])\n",
      "torch.Size([128, 2, 2])\n"
     ]
    },
    {
     "name": "stderr",
     "output_type": "stream",
     "text": [
      " 89%|███████████████████████████████████████████████████████████████████████▍        | 201/225 [00:04<00:00, 47.01it/s]"
     ]
    },
    {
     "name": "stdout",
     "output_type": "stream",
     "text": [
      "torch.Size([128, 2, 2])\n",
      "torch.Size([128, 2, 2])\n",
      "torch.Size([128, 2, 2])\n",
      "torch.Size([128, 2, 2])\n",
      "torch.Size([128, 2, 2])\n",
      "torch.Size([128, 2, 2])\n",
      "torch.Size([128, 2, 2])\n",
      "torch.Size([128, 2, 2])\n",
      "torch.Size([128, 2, 2])\n",
      "torch.Size([128, 2, 2])"
     ]
    },
    {
     "name": "stderr",
     "output_type": "stream",
     "text": [
      " 94%|███████████████████████████████████████████████████████████████████████████     | 211/225 [00:04<00:00, 46.98it/s]"
     ]
    },
    {
     "name": "stdout",
     "output_type": "stream",
     "text": [
      "\n",
      "torch.Size([128, 2, 2])\n",
      "torch.Size([128, 2, 2])\n",
      "torch.Size([128, 2, 2])\n",
      "torch.Size([128, 2, 2])\n",
      "torch.Size([128, 2, 2])\n",
      "torch.Size([128, 2, 2])\n",
      "torch.Size([128, 2, 2])\n",
      "torch.Size([128, 2, 2])\n",
      "torch.Size([128, 2, 2])"
     ]
    },
    {
     "name": "stderr",
     "output_type": "stream",
     "text": [
      " 98%|██████████████████████████████████████████████████████████████████████████████▌ | 221/225 [00:04<00:00, 46.81it/s]"
     ]
    },
    {
     "name": "stdout",
     "output_type": "stream",
     "text": [
      "\n",
      "torch.Size([128, 2, 2])\n",
      "torch.Size([128, 2, 2])\n",
      "torch.Size([128, 2, 2])\n",
      "torch.Size([128, 2, 2])\n",
      "torch.Size([128, 2, 2])\n",
      "torch.Size([128, 2, 2])\n",
      "torch.Size([128, 2, 2])\n",
      "torch.Size([128, 2, 2])\n",
      "torch.Size([128, 2, 2])"
     ]
    },
    {
     "name": "stderr",
     "output_type": "stream",
     "text": [
      "100%|████████████████████████████████████████████████████████████████████████████████| 225/225 [00:04<00:00, 47.05it/s]\n",
      "  3%|██▏                                                                               | 6/225 [00:00<00:04, 50.46it/s]"
     ]
    },
    {
     "name": "stdout",
     "output_type": "stream",
     "text": [
      "\n",
      "torch.Size([128, 2, 2])\n",
      "Epoch: 6. Loss: 0.04305437579751015\n",
      "torch.Size([128, 2, 2])\n",
      "torch.Size([128, 2, 2])\n",
      "torch.Size([128, 2, 2])\n",
      "torch.Size([128, 2, 2])\n",
      "torch.Size([128, 2, 2])\n",
      "torch.Size([128, 2, 2])\n",
      "torch.Size([128, 2, 2])\n",
      "torch.Size([128, 2, 2])"
     ]
    },
    {
     "name": "stderr",
     "output_type": "stream",
     "text": [
      "  7%|█████▊                                                                           | 16/225 [00:00<00:04, 48.55it/s]"
     ]
    },
    {
     "name": "stdout",
     "output_type": "stream",
     "text": [
      "\n",
      "torch.Size([128, 2, 2])\n",
      "torch.Size([128, 2, 2])\n",
      "torch.Size([128, 2, 2])\n",
      "torch.Size([128, 2, 2])\n",
      "torch.Size([128, 2, 2])\n",
      "torch.Size([128, 2, 2])\n",
      "torch.Size([128, 2, 2])\n",
      "torch.Size([128, 2, 2])\n",
      "torch.Size([128, 2, 2])"
     ]
    },
    {
     "name": "stderr",
     "output_type": "stream",
     "text": [
      "\r",
      "  9%|███████▌                                                                         | 21/225 [00:00<00:04, 48.14it/s]"
     ]
    },
    {
     "name": "stdout",
     "output_type": "stream",
     "text": [
      "\n",
      "torch.Size([128, 2, 2])\n",
      "torch.Size([128, 2, 2])\n",
      "torch.Size([128, 2, 2])\n",
      "torch.Size([128, 2, 2])\n",
      "torch.Size([128, 2, 2])\n",
      "torch.Size([128, 2, 2])\n",
      "torch.Size([128, 2, 2])\n",
      "torch.Size([128, 2, 2])\n",
      "torch.Size([128, 2, 2])"
     ]
    },
    {
     "name": "stderr",
     "output_type": "stream",
     "text": [
      " 14%|███████████▏                                                                     | 31/225 [00:00<00:04, 47.77it/s]"
     ]
    },
    {
     "name": "stdout",
     "output_type": "stream",
     "text": [
      "\n",
      "torch.Size([128, 2, 2])\n",
      "torch.Size([128, 2, 2])\n",
      "torch.Size([128, 2, 2])\n",
      "torch.Size([128, 2, 2])\n",
      "torch.Size([128, 2, 2])\n",
      "torch.Size([128, 2, 2])\n",
      "torch.Size([128, 2, 2])\n",
      "torch.Size([128, 2, 2])\n",
      "torch.Size([128, 2, 2])"
     ]
    },
    {
     "name": "stderr",
     "output_type": "stream",
     "text": [
      " 18%|██████████████▊                                                                  | 41/225 [00:00<00:03, 47.49it/s]"
     ]
    },
    {
     "name": "stdout",
     "output_type": "stream",
     "text": [
      "\n",
      "torch.Size([128, 2, 2])\n",
      "torch.Size([128, 2, 2])\n",
      "torch.Size([128, 2, 2])\n",
      "torch.Size([128, 2, 2])\n",
      "torch.Size([128, 2, 2])\n",
      "torch.Size([128, 2, 2])\n",
      "torch.Size([128, 2, 2])\n",
      "torch.Size([128, 2, 2])\n",
      "torch.Size([128, 2, 2])"
     ]
    },
    {
     "name": "stderr",
     "output_type": "stream",
     "text": [
      " 23%|██████████████████▎                                                              | 51/225 [00:01<00:03, 47.16it/s]"
     ]
    },
    {
     "name": "stdout",
     "output_type": "stream",
     "text": [
      "\n",
      "torch.Size([128, 2, 2])\n",
      "torch.Size([128, 2, 2])\n",
      "torch.Size([128, 2, 2])\n",
      "torch.Size([128, 2, 2])\n",
      "torch.Size([128, 2, 2])\n",
      "torch.Size([128, 2, 2])\n",
      "torch.Size([128, 2, 2])\n",
      "torch.Size([128, 2, 2])\n",
      "torch.Size([128, 2, 2])\n"
     ]
    },
    {
     "name": "stderr",
     "output_type": "stream",
     "text": [
      " 27%|█████████████████████▉                                                           | 61/225 [00:01<00:03, 46.94it/s]"
     ]
    },
    {
     "name": "stdout",
     "output_type": "stream",
     "text": [
      "torch.Size([128, 2, 2])\n",
      "torch.Size([128, 2, 2])\n",
      "torch.Size([128, 2, 2])\n",
      "torch.Size([128, 2, 2])\n",
      "torch.Size([128, 2, 2])\n",
      "torch.Size([128, 2, 2])\n",
      "torch.Size([128, 2, 2])\n",
      "torch.Size([128, 2, 2])\n",
      "torch.Size([128, 2, 2])\n",
      "torch.Size([128, 2, 2])"
     ]
    },
    {
     "name": "stderr",
     "output_type": "stream",
     "text": [
      " 32%|█████████████████████████▌                                                       | 71/225 [00:01<00:03, 47.08it/s]"
     ]
    },
    {
     "name": "stdout",
     "output_type": "stream",
     "text": [
      "\n",
      "torch.Size([128, 2, 2])\n",
      "torch.Size([128, 2, 2])\n",
      "torch.Size([128, 2, 2])\n",
      "torch.Size([128, 2, 2])\n",
      "torch.Size([128, 2, 2])\n",
      "torch.Size([128, 2, 2])\n",
      "torch.Size([128, 2, 2])\n",
      "torch.Size([128, 2, 2])\n",
      "torch.Size([128, 2, 2])"
     ]
    },
    {
     "name": "stderr",
     "output_type": "stream",
     "text": [
      "\r",
      " 34%|███████████████████████████▎                                                     | 76/225 [00:01<00:03, 46.08it/s]"
     ]
    },
    {
     "name": "stdout",
     "output_type": "stream",
     "text": [
      "\n",
      "torch.Size([128, 2, 2])\n",
      "torch.Size([128, 2, 2])\n",
      "torch.Size([128, 2, 2])\n",
      "torch.Size([128, 2, 2])\n",
      "torch.Size([128, 2, 2])\n",
      "torch.Size([128, 2, 2])\n",
      "torch.Size([128, 2, 2])\n",
      "torch.Size([128, 2, 2])\n",
      "torch.Size([128, 2, 2])"
     ]
    },
    {
     "name": "stderr",
     "output_type": "stream",
     "text": [
      " 38%|██████████████████████████████▉                                                  | 86/225 [00:01<00:02, 46.71it/s]"
     ]
    },
    {
     "name": "stdout",
     "output_type": "stream",
     "text": [
      "\n",
      "torch.Size([128, 2, 2])\n",
      "torch.Size([128, 2, 2])\n",
      "torch.Size([128, 2, 2])\n",
      "torch.Size([128, 2, 2])\n",
      "torch.Size([128, 2, 2])\n",
      "torch.Size([128, 2, 2])\n",
      "torch.Size([128, 2, 2])\n",
      "torch.Size([128, 2, 2])\n",
      "torch.Size([128, 2, 2])"
     ]
    },
    {
     "name": "stderr",
     "output_type": "stream",
     "text": [
      " 43%|██████████████████████████████████▌                                              | 96/225 [00:02<00:02, 47.14it/s]"
     ]
    },
    {
     "name": "stdout",
     "output_type": "stream",
     "text": [
      "\n",
      "torch.Size([128, 2, 2])\n",
      "torch.Size([128, 2, 2])\n",
      "torch.Size([128, 2, 2])\n",
      "torch.Size([128, 2, 2])\n",
      "torch.Size([128, 2, 2])\n",
      "torch.Size([128, 2, 2])\n",
      "torch.Size([128, 2, 2])\n",
      "torch.Size([128, 2, 2])\n",
      "torch.Size([128, 2, 2])"
     ]
    },
    {
     "name": "stderr",
     "output_type": "stream",
     "text": [
      " 47%|█████████████████████████████████████▋                                          | 106/225 [00:02<00:02, 47.26it/s]"
     ]
    },
    {
     "name": "stdout",
     "output_type": "stream",
     "text": [
      "\n",
      "torch.Size([128, 2, 2])\n",
      "torch.Size([128, 2, 2])\n",
      "torch.Size([128, 2, 2])\n",
      "torch.Size([128, 2, 2])\n",
      "torch.Size([128, 2, 2])\n",
      "torch.Size([128, 2, 2])\n",
      "torch.Size([128, 2, 2])\n",
      "torch.Size([128, 2, 2])\n",
      "torch.Size([128, 2, 2])"
     ]
    },
    {
     "name": "stderr",
     "output_type": "stream",
     "text": [
      "\r",
      " 49%|███████████████████████████████████████▍                                        | 111/225 [00:02<00:02, 47.05it/s]"
     ]
    },
    {
     "name": "stdout",
     "output_type": "stream",
     "text": [
      "\n",
      "torch.Size([128, 2, 2])\n",
      "torch.Size([128, 2, 2])\n",
      "torch.Size([128, 2, 2])\n",
      "torch.Size([128, 2, 2])\n",
      "torch.Size([128, 2, 2])\n",
      "torch.Size([128, 2, 2])\n",
      "torch.Size([128, 2, 2])\n",
      "torch.Size([128, 2, 2])\n"
     ]
    },
    {
     "name": "stderr",
     "output_type": "stream",
     "text": [
      " 54%|███████████████████████████████████████████                                     | 121/225 [00:02<00:02, 46.31it/s]"
     ]
    },
    {
     "name": "stdout",
     "output_type": "stream",
     "text": [
      "torch.Size([128, 2, 2])\n",
      "torch.Size([128, 2, 2])\n",
      "torch.Size([128, 2, 2])\n",
      "torch.Size([128, 2, 2])\n",
      "torch.Size([128, 2, 2])\n",
      "torch.Size([128, 2, 2])\n",
      "torch.Size([128, 2, 2])\n",
      "torch.Size([128, 2, 2])\n",
      "torch.Size([128, 2, 2])\n",
      "torch.Size([128, 2, 2])"
     ]
    },
    {
     "name": "stderr",
     "output_type": "stream",
     "text": [
      " 58%|██████████████████████████████████████████████▌                                 | 131/225 [00:02<00:02, 46.70it/s]"
     ]
    },
    {
     "name": "stdout",
     "output_type": "stream",
     "text": [
      "\n",
      "torch.Size([128, 2, 2])\n",
      "torch.Size([128, 2, 2])\n",
      "torch.Size([128, 2, 2])\n",
      "torch.Size([128, 2, 2])\n",
      "torch.Size([128, 2, 2])\n",
      "torch.Size([128, 2, 2])\n",
      "torch.Size([128, 2, 2])\n",
      "torch.Size([128, 2, 2])\n",
      "torch.Size([128, 2, 2])"
     ]
    },
    {
     "name": "stderr",
     "output_type": "stream",
     "text": [
      " 63%|██████████████████████████████████████████████████▏                             | 141/225 [00:02<00:01, 47.00it/s]"
     ]
    },
    {
     "name": "stdout",
     "output_type": "stream",
     "text": [
      "\n",
      "torch.Size([128, 2, 2])\n",
      "torch.Size([128, 2, 2])\n",
      "torch.Size([128, 2, 2])\n",
      "torch.Size([128, 2, 2])\n",
      "torch.Size([128, 2, 2])\n",
      "torch.Size([128, 2, 2])\n",
      "torch.Size([128, 2, 2])\n",
      "torch.Size([128, 2, 2])\n",
      "torch.Size([128, 2, 2])"
     ]
    },
    {
     "name": "stderr",
     "output_type": "stream",
     "text": [
      " 67%|█████████████████████████████████████████████████████▋                          | 151/225 [00:03<00:01, 47.29it/s]"
     ]
    },
    {
     "name": "stdout",
     "output_type": "stream",
     "text": [
      "\n",
      "torch.Size([128, 2, 2])\n",
      "torch.Size([128, 2, 2])\n",
      "torch.Size([128, 2, 2])\n",
      "torch.Size([128, 2, 2])\n",
      "torch.Size([128, 2, 2])\n",
      "torch.Size([128, 2, 2])\n",
      "torch.Size([128, 2, 2])\n",
      "torch.Size([128, 2, 2])\n",
      "torch.Size([128, 2, 2])"
     ]
    },
    {
     "name": "stderr",
     "output_type": "stream",
     "text": [
      "\r",
      " 69%|███████████████████████████████████████████████████████▍                        | 156/225 [00:03<00:01, 47.33it/s]"
     ]
    },
    {
     "name": "stdout",
     "output_type": "stream",
     "text": [
      "\n",
      "torch.Size([128, 2, 2])\n",
      "torch.Size([128, 2, 2])\n",
      "torch.Size([128, 2, 2])\n",
      "torch.Size([128, 2, 2])\n",
      "torch.Size([128, 2, 2])\n",
      "torch.Size([128, 2, 2])\n",
      "torch.Size([128, 2, 2])\n",
      "torch.Size([128, 2, 2])"
     ]
    },
    {
     "name": "stderr",
     "output_type": "stream",
     "text": [
      " 74%|███████████████████████████████████████████████████████████                     | 166/225 [00:03<00:01, 46.95it/s]"
     ]
    },
    {
     "name": "stdout",
     "output_type": "stream",
     "text": [
      "\n",
      "torch.Size([128, 2, 2])\n",
      "torch.Size([128, 2, 2])\n",
      "torch.Size([128, 2, 2])\n",
      "torch.Size([128, 2, 2])\n",
      "torch.Size([128, 2, 2])\n",
      "torch.Size([128, 2, 2])\n",
      "torch.Size([128, 2, 2])\n",
      "torch.Size([128, 2, 2])\n",
      "torch.Size([128, 2, 2])"
     ]
    },
    {
     "name": "stderr",
     "output_type": "stream",
     "text": [
      " 78%|██████████████████████████████████████████████████████████████▌                 | 176/225 [00:03<00:01, 47.09it/s]"
     ]
    },
    {
     "name": "stdout",
     "output_type": "stream",
     "text": [
      "\n",
      "torch.Size([128, 2, 2])\n",
      "torch.Size([128, 2, 2])\n",
      "torch.Size([128, 2, 2])\n",
      "torch.Size([128, 2, 2])\n",
      "torch.Size([128, 2, 2])\n",
      "torch.Size([128, 2, 2])\n",
      "torch.Size([128, 2, 2])\n",
      "torch.Size([128, 2, 2])\n",
      "torch.Size([128, 2, 2])"
     ]
    },
    {
     "name": "stderr",
     "output_type": "stream",
     "text": [
      " 83%|██████████████████████████████████████████████████████████████████▏             | 186/225 [00:03<00:00, 46.70it/s]"
     ]
    },
    {
     "name": "stdout",
     "output_type": "stream",
     "text": [
      "\n",
      "torch.Size([128, 2, 2])\n",
      "torch.Size([128, 2, 2])\n",
      "torch.Size([128, 2, 2])\n",
      "torch.Size([128, 2, 2])\n",
      "torch.Size([128, 2, 2])\n",
      "torch.Size([128, 2, 2])\n",
      "torch.Size([128, 2, 2])\n",
      "torch.Size([128, 2, 2])\n",
      "torch.Size([128, 2, 2])"
     ]
    },
    {
     "name": "stderr",
     "output_type": "stream",
     "text": [
      "\r",
      " 85%|███████████████████████████████████████████████████████████████████▉            | 191/225 [00:04<00:00, 47.12it/s]"
     ]
    },
    {
     "name": "stdout",
     "output_type": "stream",
     "text": [
      "\n",
      "torch.Size([128, 2, 2])\n",
      "torch.Size([128, 2, 2])\n",
      "torch.Size([128, 2, 2])\n",
      "torch.Size([128, 2, 2])\n",
      "torch.Size([128, 2, 2])\n",
      "torch.Size([128, 2, 2])\n",
      "torch.Size([128, 2, 2])\n",
      "torch.Size([128, 2, 2])\n"
     ]
    },
    {
     "name": "stderr",
     "output_type": "stream",
     "text": [
      " 89%|███████████████████████████████████████████████████████████████████████▍        | 201/225 [00:04<00:00, 47.08it/s]"
     ]
    },
    {
     "name": "stdout",
     "output_type": "stream",
     "text": [
      "torch.Size([128, 2, 2])\n",
      "torch.Size([128, 2, 2])\n",
      "torch.Size([128, 2, 2])\n",
      "torch.Size([128, 2, 2])\n",
      "torch.Size([128, 2, 2])\n",
      "torch.Size([128, 2, 2])\n",
      "torch.Size([128, 2, 2])\n",
      "torch.Size([128, 2, 2])\n",
      "torch.Size([128, 2, 2])\n",
      "torch.Size([128, 2, 2])"
     ]
    },
    {
     "name": "stderr",
     "output_type": "stream",
     "text": [
      " 94%|███████████████████████████████████████████████████████████████████████████     | 211/225 [00:04<00:00, 47.06it/s]"
     ]
    },
    {
     "name": "stdout",
     "output_type": "stream",
     "text": [
      "\n",
      "torch.Size([128, 2, 2])\n",
      "torch.Size([128, 2, 2])\n",
      "torch.Size([128, 2, 2])\n",
      "torch.Size([128, 2, 2])\n",
      "torch.Size([128, 2, 2])\n",
      "torch.Size([128, 2, 2])\n",
      "torch.Size([128, 2, 2])\n",
      "torch.Size([128, 2, 2])\n",
      "torch.Size([128, 2, 2])"
     ]
    },
    {
     "name": "stderr",
     "output_type": "stream",
     "text": [
      " 98%|██████████████████████████████████████████████████████████████████████████████▌ | 221/225 [00:04<00:00, 45.43it/s]"
     ]
    },
    {
     "name": "stdout",
     "output_type": "stream",
     "text": [
      "\n",
      "torch.Size([128, 2, 2])\n",
      "torch.Size([128, 2, 2])\n",
      "torch.Size([128, 2, 2])\n",
      "torch.Size([128, 2, 2])\n",
      "torch.Size([128, 2, 2])\n",
      "torch.Size([128, 2, 2])\n",
      "torch.Size([128, 2, 2])\n",
      "torch.Size([128, 2, 2])"
     ]
    },
    {
     "name": "stderr",
     "output_type": "stream",
     "text": [
      "100%|████████████████████████████████████████████████████████████████████████████████| 225/225 [00:04<00:00, 46.85it/s]\n",
      "  2%|█▊                                                                                | 5/225 [00:00<00:04, 49.31it/s]"
     ]
    },
    {
     "name": "stdout",
     "output_type": "stream",
     "text": [
      "\n",
      "torch.Size([128, 2, 2])\n",
      "torch.Size([128, 2, 2])\n",
      "Epoch: 7. Loss: 0.05292634293437004\n",
      "torch.Size([128, 2, 2])\n",
      "torch.Size([128, 2, 2])\n",
      "torch.Size([128, 2, 2])\n",
      "torch.Size([128, 2, 2])\n",
      "torch.Size([128, 2, 2])\n",
      "torch.Size([128, 2, 2])\n",
      "torch.Size([128, 2, 2])"
     ]
    },
    {
     "name": "stderr",
     "output_type": "stream",
     "text": [
      "\r",
      "  4%|███▌                                                                             | 10/225 [00:00<00:04, 48.66it/s]"
     ]
    },
    {
     "name": "stdout",
     "output_type": "stream",
     "text": [
      "\n",
      "torch.Size([128, 2, 2])\n",
      "torch.Size([128, 2, 2])\n",
      "torch.Size([128, 2, 2])\n",
      "torch.Size([128, 2, 2])\n",
      "torch.Size([128, 2, 2])\n",
      "torch.Size([128, 2, 2])\n",
      "torch.Size([128, 2, 2])\n",
      "torch.Size([128, 2, 2])\n"
     ]
    },
    {
     "name": "stderr",
     "output_type": "stream",
     "text": [
      "  9%|███████▏                                                                         | 20/225 [00:00<00:04, 48.01it/s]"
     ]
    },
    {
     "name": "stdout",
     "output_type": "stream",
     "text": [
      "torch.Size([128, 2, 2])\n",
      "torch.Size([128, 2, 2])\n",
      "torch.Size([128, 2, 2])\n",
      "torch.Size([128, 2, 2])\n",
      "torch.Size([128, 2, 2])\n",
      "torch.Size([128, 2, 2])\n",
      "torch.Size([128, 2, 2])\n",
      "torch.Size([128, 2, 2])\n",
      "torch.Size([128, 2, 2])\n",
      "torch.Size([128, 2, 2])"
     ]
    },
    {
     "name": "stderr",
     "output_type": "stream",
     "text": [
      " 13%|██████████▊                                                                      | 30/225 [00:00<00:04, 47.51it/s]"
     ]
    },
    {
     "name": "stdout",
     "output_type": "stream",
     "text": [
      "\n",
      "torch.Size([128, 2, 2])\n",
      "torch.Size([128, 2, 2])\n",
      "torch.Size([128, 2, 2])\n",
      "torch.Size([128, 2, 2])\n",
      "torch.Size([128, 2, 2])\n",
      "torch.Size([128, 2, 2])\n",
      "torch.Size([128, 2, 2])\n",
      "torch.Size([128, 2, 2])\n",
      "torch.Size([128, 2, 2])"
     ]
    },
    {
     "name": "stderr",
     "output_type": "stream",
     "text": [
      " 18%|██████████████▍                                                                  | 40/225 [00:00<00:03, 47.40it/s]"
     ]
    },
    {
     "name": "stdout",
     "output_type": "stream",
     "text": [
      "\n",
      "torch.Size([128, 2, 2])\n",
      "torch.Size([128, 2, 2])\n",
      "torch.Size([128, 2, 2])\n",
      "torch.Size([128, 2, 2])\n",
      "torch.Size([128, 2, 2])\n",
      "torch.Size([128, 2, 2])\n",
      "torch.Size([128, 2, 2])\n",
      "torch.Size([128, 2, 2])\n",
      "torch.Size([128, 2, 2])"
     ]
    },
    {
     "name": "stderr",
     "output_type": "stream",
     "text": [
      " 22%|██████████████████                                                               | 50/225 [00:01<00:03, 47.01it/s]"
     ]
    },
    {
     "name": "stdout",
     "output_type": "stream",
     "text": [
      "\n",
      "torch.Size([128, 2, 2])\n",
      "torch.Size([128, 2, 2])\n",
      "torch.Size([128, 2, 2])\n",
      "torch.Size([128, 2, 2])\n",
      "torch.Size([128, 2, 2])\n",
      "torch.Size([128, 2, 2])\n",
      "torch.Size([128, 2, 2])\n",
      "torch.Size([128, 2, 2])\n",
      "torch.Size([128, 2, 2])"
     ]
    },
    {
     "name": "stderr",
     "output_type": "stream",
     "text": [
      "\r",
      " 24%|███████████████████▊                                                             | 55/225 [00:01<00:03, 46.94it/s]"
     ]
    },
    {
     "name": "stdout",
     "output_type": "stream",
     "text": [
      "\n",
      "torch.Size([128, 2, 2])\n",
      "torch.Size([128, 2, 2])\n",
      "torch.Size([128, 2, 2])\n",
      "torch.Size([128, 2, 2])\n",
      "torch.Size([128, 2, 2])\n",
      "torch.Size([128, 2, 2])\n",
      "torch.Size([128, 2, 2])\n",
      "torch.Size([128, 2, 2])\n"
     ]
    },
    {
     "name": "stderr",
     "output_type": "stream",
     "text": [
      " 29%|███████████████████████▍                                                         | 65/225 [00:01<00:03, 46.80it/s]"
     ]
    },
    {
     "name": "stdout",
     "output_type": "stream",
     "text": [
      "torch.Size([128, 2, 2])\n",
      "torch.Size([128, 2, 2])\n",
      "torch.Size([128, 2, 2])\n",
      "torch.Size([128, 2, 2])\n",
      "torch.Size([128, 2, 2])\n",
      "torch.Size([128, 2, 2])\n",
      "torch.Size([128, 2, 2])\n",
      "torch.Size([128, 2, 2])\n",
      "torch.Size([128, 2, 2])\n",
      "torch.Size([128, 2, 2])"
     ]
    },
    {
     "name": "stderr",
     "output_type": "stream",
     "text": [
      " 33%|███████████████████████████                                                      | 75/225 [00:01<00:03, 46.88it/s]"
     ]
    },
    {
     "name": "stdout",
     "output_type": "stream",
     "text": [
      "\n",
      "torch.Size([128, 2, 2])\n",
      "torch.Size([128, 2, 2])\n",
      "torch.Size([128, 2, 2])\n",
      "torch.Size([128, 2, 2])\n",
      "torch.Size([128, 2, 2])\n",
      "torch.Size([128, 2, 2])\n",
      "torch.Size([128, 2, 2])\n",
      "torch.Size([128, 2, 2])\n",
      "torch.Size([128, 2, 2])"
     ]
    },
    {
     "name": "stderr",
     "output_type": "stream",
     "text": [
      " 38%|██████████████████████████████▌                                                  | 85/225 [00:01<00:02, 46.93it/s]"
     ]
    },
    {
     "name": "stdout",
     "output_type": "stream",
     "text": [
      "\n",
      "torch.Size([128, 2, 2])\n",
      "torch.Size([128, 2, 2])\n",
      "torch.Size([128, 2, 2])\n",
      "torch.Size([128, 2, 2])\n",
      "torch.Size([128, 2, 2])\n",
      "torch.Size([128, 2, 2])\n",
      "torch.Size([128, 2, 2])\n",
      "torch.Size([128, 2, 2])\n",
      "torch.Size([128, 2, 2])"
     ]
    },
    {
     "name": "stderr",
     "output_type": "stream",
     "text": [
      " 42%|██████████████████████████████████▏                                              | 95/225 [00:02<00:02, 47.25it/s]"
     ]
    },
    {
     "name": "stdout",
     "output_type": "stream",
     "text": [
      "\n",
      "torch.Size([128, 2, 2])\n",
      "torch.Size([128, 2, 2])\n",
      "torch.Size([128, 2, 2])\n",
      "torch.Size([128, 2, 2])\n",
      "torch.Size([128, 2, 2])\n",
      "torch.Size([128, 2, 2])\n",
      "torch.Size([128, 2, 2])\n",
      "torch.Size([128, 2, 2])\n",
      "torch.Size([128, 2, 2])"
     ]
    },
    {
     "name": "stderr",
     "output_type": "stream",
     "text": [
      " 47%|█████████████████████████████████████▎                                          | 105/225 [00:02<00:02, 46.63it/s]"
     ]
    },
    {
     "name": "stdout",
     "output_type": "stream",
     "text": [
      "\n",
      "torch.Size([128, 2, 2])\n",
      "torch.Size([128, 2, 2])\n",
      "torch.Size([128, 2, 2])\n",
      "torch.Size([128, 2, 2])\n",
      "torch.Size([128, 2, 2])\n",
      "torch.Size([128, 2, 2])\n",
      "torch.Size([128, 2, 2])\n",
      "torch.Size([128, 2, 2])\n",
      "torch.Size([128, 2, 2])"
     ]
    },
    {
     "name": "stderr",
     "output_type": "stream",
     "text": [
      "\r",
      " 49%|███████████████████████████████████████                                         | 110/225 [00:02<00:02, 46.68it/s]"
     ]
    },
    {
     "name": "stdout",
     "output_type": "stream",
     "text": [
      "\n",
      "torch.Size([128, 2, 2])\n",
      "torch.Size([128, 2, 2])\n",
      "torch.Size([128, 2, 2])\n",
      "torch.Size([128, 2, 2])\n",
      "torch.Size([128, 2, 2])\n",
      "torch.Size([128, 2, 2])\n",
      "torch.Size([128, 2, 2])\n",
      "torch.Size([128, 2, 2])\n",
      "torch.Size([128, 2, 2])"
     ]
    },
    {
     "name": "stderr",
     "output_type": "stream",
     "text": [
      " 53%|██████████████████████████████████████████▋                                     | 120/225 [00:02<00:02, 47.08it/s]"
     ]
    },
    {
     "name": "stdout",
     "output_type": "stream",
     "text": [
      "\n",
      "torch.Size([128, 2, 2])\n",
      "torch.Size([128, 2, 2])\n",
      "torch.Size([128, 2, 2])\n",
      "torch.Size([128, 2, 2])\n",
      "torch.Size([128, 2, 2])\n",
      "torch.Size([128, 2, 2])\n",
      "torch.Size([128, 2, 2])\n",
      "torch.Size([128, 2, 2])\n",
      "torch.Size([128, 2, 2])"
     ]
    },
    {
     "name": "stderr",
     "output_type": "stream",
     "text": [
      " 58%|██████████████████████████████████████████████▏                                 | 130/225 [00:02<00:02, 46.07it/s]"
     ]
    },
    {
     "name": "stdout",
     "output_type": "stream",
     "text": [
      "\n",
      "torch.Size([128, 2, 2])\n",
      "torch.Size([128, 2, 2])\n",
      "torch.Size([128, 2, 2])\n",
      "torch.Size([128, 2, 2])\n",
      "torch.Size([128, 2, 2])\n",
      "torch.Size([128, 2, 2])\n",
      "torch.Size([128, 2, 2])\n",
      "torch.Size([128, 2, 2])"
     ]
    },
    {
     "name": "stderr",
     "output_type": "stream",
     "text": [
      " 62%|█████████████████████████████████████████████████▊                              | 140/225 [00:02<00:01, 46.81it/s]"
     ]
    },
    {
     "name": "stdout",
     "output_type": "stream",
     "text": [
      "\n",
      "torch.Size([128, 2, 2])\n",
      "torch.Size([128, 2, 2])\n",
      "torch.Size([128, 2, 2])\n",
      "torch.Size([128, 2, 2])\n",
      "torch.Size([128, 2, 2])\n",
      "torch.Size([128, 2, 2])\n",
      "torch.Size([128, 2, 2])\n",
      "torch.Size([128, 2, 2])\n",
      "torch.Size([128, 2, 2])"
     ]
    },
    {
     "name": "stderr",
     "output_type": "stream",
     "text": [
      "\r",
      " 64%|███████████████████████████████████████████████████▌                            | 145/225 [00:03<00:01, 46.93it/s]"
     ]
    },
    {
     "name": "stdout",
     "output_type": "stream",
     "text": [
      "\n",
      "torch.Size([128, 2, 2])\n",
      "torch.Size([128, 2, 2])\n",
      "torch.Size([128, 2, 2])\n",
      "torch.Size([128, 2, 2])\n",
      "torch.Size([128, 2, 2])\n",
      "torch.Size([128, 2, 2])\n",
      "torch.Size([128, 2, 2])\n",
      "torch.Size([128, 2, 2])\n",
      "torch.Size([128, 2, 2])"
     ]
    },
    {
     "name": "stderr",
     "output_type": "stream",
     "text": [
      " 69%|███████████████████████████████████████████████████████                         | 155/225 [00:03<00:01, 47.15it/s]"
     ]
    },
    {
     "name": "stdout",
     "output_type": "stream",
     "text": [
      "\n",
      "torch.Size([128, 2, 2])\n",
      "torch.Size([128, 2, 2])\n",
      "torch.Size([128, 2, 2])\n",
      "torch.Size([128, 2, 2])\n",
      "torch.Size([128, 2, 2])\n",
      "torch.Size([128, 2, 2])\n",
      "torch.Size([128, 2, 2])\n",
      "torch.Size([128, 2, 2])\n",
      "torch.Size([128, 2, 2])"
     ]
    },
    {
     "name": "stderr",
     "output_type": "stream",
     "text": [
      " 73%|██████████████████████████████████████████████████████████▋                     | 165/225 [00:03<00:01, 47.45it/s]"
     ]
    },
    {
     "name": "stdout",
     "output_type": "stream",
     "text": [
      "\n",
      "torch.Size([128, 2, 2])\n",
      "torch.Size([128, 2, 2])\n",
      "torch.Size([128, 2, 2])\n",
      "torch.Size([128, 2, 2])\n",
      "torch.Size([128, 2, 2])\n",
      "torch.Size([128, 2, 2])\n",
      "torch.Size([128, 2, 2])\n",
      "torch.Size([128, 2, 2])\n",
      "torch.Size([128, 2, 2])"
     ]
    },
    {
     "name": "stderr",
     "output_type": "stream",
     "text": [
      " 78%|██████████████████████████████████████████████████████████████▏                 | 175/225 [00:03<00:01, 47.37it/s]"
     ]
    },
    {
     "name": "stdout",
     "output_type": "stream",
     "text": [
      "\n",
      "torch.Size([128, 2, 2])\n",
      "torch.Size([128, 2, 2])\n",
      "torch.Size([128, 2, 2])\n",
      "torch.Size([128, 2, 2])\n",
      "torch.Size([128, 2, 2])\n",
      "torch.Size([128, 2, 2])\n",
      "torch.Size([128, 2, 2])\n",
      "torch.Size([128, 2, 2])\n",
      "torch.Size([128, 2, 2])"
     ]
    },
    {
     "name": "stderr",
     "output_type": "stream",
     "text": [
      " 82%|█████████████████████████████████████████████████████████████████▊              | 185/225 [00:03<00:00, 47.11it/s]"
     ]
    },
    {
     "name": "stdout",
     "output_type": "stream",
     "text": [
      "\n",
      "torch.Size([128, 2, 2])\n",
      "torch.Size([128, 2, 2])\n",
      "torch.Size([128, 2, 2])\n",
      "torch.Size([128, 2, 2])\n",
      "torch.Size([128, 2, 2])\n",
      "torch.Size([128, 2, 2])\n",
      "torch.Size([128, 2, 2])\n",
      "torch.Size([128, 2, 2])\n",
      "torch.Size([128, 2, 2])"
     ]
    },
    {
     "name": "stderr",
     "output_type": "stream",
     "text": [
      "\r",
      " 84%|███████████████████████████████████████████████████████████████████▌            | 190/225 [00:04<00:00, 46.36it/s]"
     ]
    },
    {
     "name": "stdout",
     "output_type": "stream",
     "text": [
      "\n",
      "torch.Size([128, 2, 2])\n",
      "torch.Size([128, 2, 2])\n",
      "torch.Size([128, 2, 2])\n",
      "torch.Size([128, 2, 2])\n",
      "torch.Size([128, 2, 2])\n",
      "torch.Size([128, 2, 2])\n",
      "torch.Size([128, 2, 2])\n",
      "torch.Size([128, 2, 2])\n",
      "torch.Size([128, 2, 2])"
     ]
    },
    {
     "name": "stderr",
     "output_type": "stream",
     "text": [
      " 89%|███████████████████████████████████████████████████████████████████████         | 200/225 [00:04<00:00, 46.88it/s]"
     ]
    },
    {
     "name": "stdout",
     "output_type": "stream",
     "text": [
      "\n",
      "torch.Size([128, 2, 2])\n",
      "torch.Size([128, 2, 2])\n",
      "torch.Size([128, 2, 2])\n",
      "torch.Size([128, 2, 2])\n",
      "torch.Size([128, 2, 2])\n",
      "torch.Size([128, 2, 2])\n",
      "torch.Size([128, 2, 2])\n",
      "torch.Size([128, 2, 2])\n",
      "torch.Size([128, 2, 2])"
     ]
    },
    {
     "name": "stderr",
     "output_type": "stream",
     "text": [
      " 93%|██████████████████████████████████████████████████████████████████████████▋     | 210/225 [00:04<00:00, 47.24it/s]"
     ]
    },
    {
     "name": "stdout",
     "output_type": "stream",
     "text": [
      "\n",
      "torch.Size([128, 2, 2])\n",
      "torch.Size([128, 2, 2])\n",
      "torch.Size([128, 2, 2])\n",
      "torch.Size([128, 2, 2])\n",
      "torch.Size([128, 2, 2])\n",
      "torch.Size([128, 2, 2])\n",
      "torch.Size([128, 2, 2])\n",
      "torch.Size([128, 2, 2])\n",
      "torch.Size([128, 2, 2])"
     ]
    },
    {
     "name": "stderr",
     "output_type": "stream",
     "text": [
      " 98%|██████████████████████████████████████████████████████████████████████████████▏ | 220/225 [00:04<00:00, 47.37it/s]"
     ]
    },
    {
     "name": "stdout",
     "output_type": "stream",
     "text": [
      "\n",
      "torch.Size([128, 2, 2])\n",
      "torch.Size([128, 2, 2])\n",
      "torch.Size([128, 2, 2])\n",
      "torch.Size([128, 2, 2])\n",
      "torch.Size([128, 2, 2])\n",
      "torch.Size([128, 2, 2])\n",
      "torch.Size([128, 2, 2])\n",
      "torch.Size([128, 2, 2])\n",
      "torch.Size([128, 2, 2])"
     ]
    },
    {
     "name": "stderr",
     "output_type": "stream",
     "text": [
      "100%|████████████████████████████████████████████████████████████████████████████████| 225/225 [00:04<00:00, 47.09it/s]\n",
      "  0%|                                                                                          | 0/225 [00:00<?, ?it/s]"
     ]
    },
    {
     "name": "stdout",
     "output_type": "stream",
     "text": [
      "\n",
      "torch.Size([128, 2, 2])\n",
      "torch.Size([128, 2, 2])\n",
      "torch.Size([128, 2, 2])\n",
      "Epoch: 8. Loss: 0.030107464641332626\n",
      "torch.Size([128, 2, 2])\n",
      "torch.Size([128, 2, 2])\n",
      "torch.Size([128, 2, 2])\n",
      "torch.Size([128, 2, 2])\n",
      "torch.Size([128, 2, 2])\n",
      "torch.Size([128, 2, 2])\n"
     ]
    },
    {
     "name": "stderr",
     "output_type": "stream",
     "text": [
      "  5%|███▉                                                                             | 11/225 [00:00<00:04, 49.60it/s]"
     ]
    },
    {
     "name": "stdout",
     "output_type": "stream",
     "text": [
      "torch.Size([128, 2, 2])\n",
      "torch.Size([128, 2, 2])\n",
      "torch.Size([128, 2, 2])\n",
      "torch.Size([128, 2, 2])\n",
      "torch.Size([128, 2, 2])\n",
      "torch.Size([128, 2, 2])\n",
      "torch.Size([128, 2, 2])\n",
      "torch.Size([128, 2, 2])\n",
      "torch.Size([128, 2, 2])\n",
      "torch.Size([128, 2, 2])"
     ]
    },
    {
     "name": "stderr",
     "output_type": "stream",
     "text": [
      "  9%|███████▌                                                                         | 21/225 [00:00<00:04, 48.18it/s]"
     ]
    },
    {
     "name": "stdout",
     "output_type": "stream",
     "text": [
      "\n",
      "torch.Size([128, 2, 2])\n",
      "torch.Size([128, 2, 2])\n",
      "torch.Size([128, 2, 2])\n",
      "torch.Size([128, 2, 2])\n",
      "torch.Size([128, 2, 2])\n",
      "torch.Size([128, 2, 2])\n",
      "torch.Size([128, 2, 2])\n",
      "torch.Size([128, 2, 2])\n",
      "torch.Size([128, 2, 2])"
     ]
    },
    {
     "name": "stderr",
     "output_type": "stream",
     "text": [
      " 14%|███████████▏                                                                     | 31/225 [00:00<00:04, 47.85it/s]"
     ]
    },
    {
     "name": "stdout",
     "output_type": "stream",
     "text": [
      "\n",
      "torch.Size([128, 2, 2])\n",
      "torch.Size([128, 2, 2])\n",
      "torch.Size([128, 2, 2])\n",
      "torch.Size([128, 2, 2])\n",
      "torch.Size([128, 2, 2])\n",
      "torch.Size([128, 2, 2])\n",
      "torch.Size([128, 2, 2])\n",
      "torch.Size([128, 2, 2])\n",
      "torch.Size([128, 2, 2])"
     ]
    },
    {
     "name": "stderr",
     "output_type": "stream",
     "text": [
      " 18%|██████████████▊                                                                  | 41/225 [00:00<00:03, 47.21it/s]"
     ]
    },
    {
     "name": "stdout",
     "output_type": "stream",
     "text": [
      "\n",
      "torch.Size([128, 2, 2])\n",
      "torch.Size([128, 2, 2])\n",
      "torch.Size([128, 2, 2])\n",
      "torch.Size([128, 2, 2])\n",
      "torch.Size([128, 2, 2])\n",
      "torch.Size([128, 2, 2])\n",
      "torch.Size([128, 2, 2])\n",
      "torch.Size([128, 2, 2])\n",
      "torch.Size([128, 2, 2])"
     ]
    },
    {
     "name": "stderr",
     "output_type": "stream",
     "text": [
      " 23%|██████████████████▎                                                              | 51/225 [00:01<00:03, 47.46it/s]"
     ]
    },
    {
     "name": "stdout",
     "output_type": "stream",
     "text": [
      "\n",
      "torch.Size([128, 2, 2])\n",
      "torch.Size([128, 2, 2])\n",
      "torch.Size([128, 2, 2])\n",
      "torch.Size([128, 2, 2])\n",
      "torch.Size([128, 2, 2])\n",
      "torch.Size([128, 2, 2])\n",
      "torch.Size([128, 2, 2])\n",
      "torch.Size([128, 2, 2])\n",
      "torch.Size([128, 2, 2])"
     ]
    },
    {
     "name": "stderr",
     "output_type": "stream",
     "text": [
      "\r",
      " 25%|████████████████████▏                                                            | 56/225 [00:01<00:03, 47.32it/s]"
     ]
    },
    {
     "name": "stdout",
     "output_type": "stream",
     "text": [
      "\n",
      "torch.Size([128, 2, 2])\n",
      "torch.Size([128, 2, 2])\n",
      "torch.Size([128, 2, 2])\n",
      "torch.Size([128, 2, 2])\n",
      "torch.Size([128, 2, 2])\n",
      "torch.Size([128, 2, 2])\n",
      "torch.Size([128, 2, 2])\n",
      "torch.Size([128, 2, 2])\n",
      "torch.Size([128, 2, 2])"
     ]
    },
    {
     "name": "stderr",
     "output_type": "stream",
     "text": [
      " 29%|███████████████████████▊                                                         | 66/225 [00:01<00:03, 47.13it/s]"
     ]
    },
    {
     "name": "stdout",
     "output_type": "stream",
     "text": [
      "\n",
      "torch.Size([128, 2, 2])\n",
      "torch.Size([128, 2, 2])\n",
      "torch.Size([128, 2, 2])\n",
      "torch.Size([128, 2, 2])\n",
      "torch.Size([128, 2, 2])\n",
      "torch.Size([128, 2, 2])\n",
      "torch.Size([128, 2, 2])\n",
      "torch.Size([128, 2, 2])\n",
      "torch.Size([128, 2, 2])"
     ]
    },
    {
     "name": "stderr",
     "output_type": "stream",
     "text": [
      " 34%|███████████████████████████▎                                                     | 76/225 [00:01<00:03, 47.34it/s]"
     ]
    },
    {
     "name": "stdout",
     "output_type": "stream",
     "text": [
      "\n",
      "torch.Size([128, 2, 2])\n",
      "torch.Size([128, 2, 2])\n",
      "torch.Size([128, 2, 2])\n",
      "torch.Size([128, 2, 2])\n",
      "torch.Size([128, 2, 2])\n",
      "torch.Size([128, 2, 2])\n",
      "torch.Size([128, 2, 2])\n",
      "torch.Size([128, 2, 2])\n",
      "torch.Size([128, 2, 2])"
     ]
    },
    {
     "name": "stderr",
     "output_type": "stream",
     "text": [
      " 38%|██████████████████████████████▉                                                  | 86/225 [00:01<00:02, 47.36it/s]"
     ]
    },
    {
     "name": "stdout",
     "output_type": "stream",
     "text": [
      "\n",
      "torch.Size([128, 2, 2])\n",
      "torch.Size([128, 2, 2])\n",
      "torch.Size([128, 2, 2])\n",
      "torch.Size([128, 2, 2])\n",
      "torch.Size([128, 2, 2])\n",
      "torch.Size([128, 2, 2])\n",
      "torch.Size([128, 2, 2])\n",
      "torch.Size([128, 2, 2])\n",
      "torch.Size([128, 2, 2])"
     ]
    },
    {
     "name": "stderr",
     "output_type": "stream",
     "text": [
      " 43%|██████████████████████████████████▌                                              | 96/225 [00:02<00:02, 47.27it/s]"
     ]
    },
    {
     "name": "stdout",
     "output_type": "stream",
     "text": [
      "\n",
      "torch.Size([128, 2, 2])\n",
      "torch.Size([128, 2, 2])\n",
      "torch.Size([128, 2, 2])\n",
      "torch.Size([128, 2, 2])\n",
      "torch.Size([128, 2, 2])\n",
      "torch.Size([128, 2, 2])\n",
      "torch.Size([128, 2, 2])\n",
      "torch.Size([128, 2, 2])\n",
      "torch.Size([128, 2, 2])"
     ]
    },
    {
     "name": "stderr",
     "output_type": "stream",
     "text": [
      "\r",
      " 45%|███████████████████████████████████▉                                            | 101/225 [00:02<00:02, 47.25it/s]"
     ]
    },
    {
     "name": "stdout",
     "output_type": "stream",
     "text": [
      "\n",
      "torch.Size([128, 2, 2])\n",
      "torch.Size([128, 2, 2])\n",
      "torch.Size([128, 2, 2])\n",
      "torch.Size([128, 2, 2])\n",
      "torch.Size([128, 2, 2])\n",
      "torch.Size([128, 2, 2])\n",
      "torch.Size([128, 2, 2])\n",
      "torch.Size([128, 2, 2])\n",
      "torch.Size([128, 2, 2])"
     ]
    },
    {
     "name": "stderr",
     "output_type": "stream",
     "text": [
      " 49%|███████████████████████████████████████▍                                        | 111/225 [00:02<00:02, 47.14it/s]"
     ]
    },
    {
     "name": "stdout",
     "output_type": "stream",
     "text": [
      "\n",
      "torch.Size([128, 2, 2])\n",
      "torch.Size([128, 2, 2])\n",
      "torch.Size([128, 2, 2])\n",
      "torch.Size([128, 2, 2])\n",
      "torch.Size([128, 2, 2])\n",
      "torch.Size([128, 2, 2])\n",
      "torch.Size([128, 2, 2])\n",
      "torch.Size([128, 2, 2])\n",
      "torch.Size([128, 2, 2])"
     ]
    },
    {
     "name": "stderr",
     "output_type": "stream",
     "text": [
      " 54%|███████████████████████████████████████████                                     | 121/225 [00:02<00:02, 46.82it/s]"
     ]
    },
    {
     "name": "stdout",
     "output_type": "stream",
     "text": [
      "\n",
      "torch.Size([128, 2, 2])\n",
      "torch.Size([128, 2, 2])\n",
      "torch.Size([128, 2, 2])\n",
      "torch.Size([128, 2, 2])\n",
      "torch.Size([128, 2, 2])\n",
      "torch.Size([128, 2, 2])\n",
      "torch.Size([128, 2, 2])\n",
      "torch.Size([128, 2, 2])\n",
      "torch.Size([128, 2, 2])"
     ]
    },
    {
     "name": "stderr",
     "output_type": "stream",
     "text": [
      " 58%|██████████████████████████████████████████████▌                                 | 131/225 [00:02<00:02, 46.97it/s]"
     ]
    },
    {
     "name": "stdout",
     "output_type": "stream",
     "text": [
      "\n",
      "torch.Size([128, 2, 2])\n",
      "torch.Size([128, 2, 2])\n",
      "torch.Size([128, 2, 2])\n",
      "torch.Size([128, 2, 2])\n",
      "torch.Size([128, 2, 2])\n",
      "torch.Size([128, 2, 2])\n",
      "torch.Size([128, 2, 2])\n",
      "torch.Size([128, 2, 2])\n",
      "torch.Size([128, 2, 2])"
     ]
    },
    {
     "name": "stderr",
     "output_type": "stream",
     "text": [
      " 63%|██████████████████████████████████████████████████▏                             | 141/225 [00:02<00:01, 47.14it/s]"
     ]
    },
    {
     "name": "stdout",
     "output_type": "stream",
     "text": [
      "\n",
      "torch.Size([128, 2, 2])\n",
      "torch.Size([128, 2, 2])\n",
      "torch.Size([128, 2, 2])\n",
      "torch.Size([128, 2, 2])\n",
      "torch.Size([128, 2, 2])\n",
      "torch.Size([128, 2, 2])\n",
      "torch.Size([128, 2, 2])\n",
      "torch.Size([128, 2, 2])\n",
      "torch.Size([128, 2, 2])"
     ]
    },
    {
     "name": "stderr",
     "output_type": "stream",
     "text": [
      "\r",
      " 65%|███████████████████████████████████████████████████▉                            | 146/225 [00:03<00:01, 47.29it/s]"
     ]
    },
    {
     "name": "stdout",
     "output_type": "stream",
     "text": [
      "\n",
      "torch.Size([128, 2, 2])\n",
      "torch.Size([128, 2, 2])\n",
      "torch.Size([128, 2, 2])\n",
      "torch.Size([128, 2, 2])\n",
      "torch.Size([128, 2, 2])\n",
      "torch.Size([128, 2, 2])\n",
      "torch.Size([128, 2, 2])\n",
      "torch.Size([128, 2, 2])\n",
      "torch.Size([128, 2, 2])"
     ]
    },
    {
     "name": "stderr",
     "output_type": "stream",
     "text": [
      " 69%|███████████████████████████████████████████████████████▍                        | 156/225 [00:03<00:01, 47.39it/s]"
     ]
    },
    {
     "name": "stdout",
     "output_type": "stream",
     "text": [
      "\n",
      "torch.Size([128, 2, 2])\n",
      "torch.Size([128, 2, 2])\n",
      "torch.Size([128, 2, 2])\n",
      "torch.Size([128, 2, 2])\n",
      "torch.Size([128, 2, 2])\n",
      "torch.Size([128, 2, 2])\n",
      "torch.Size([128, 2, 2])\n",
      "torch.Size([128, 2, 2])\n",
      "torch.Size([128, 2, 2])"
     ]
    },
    {
     "name": "stderr",
     "output_type": "stream",
     "text": [
      " 74%|███████████████████████████████████████████████████████████                     | 166/225 [00:03<00:01, 47.27it/s]"
     ]
    },
    {
     "name": "stdout",
     "output_type": "stream",
     "text": [
      "\n",
      "torch.Size([128, 2, 2])\n",
      "torch.Size([128, 2, 2])\n",
      "torch.Size([128, 2, 2])\n",
      "torch.Size([128, 2, 2])\n",
      "torch.Size([128, 2, 2])\n",
      "torch.Size([128, 2, 2])\n",
      "torch.Size([128, 2, 2])\n",
      "torch.Size([128, 2, 2])\n",
      "torch.Size([128, 2, 2])"
     ]
    },
    {
     "name": "stderr",
     "output_type": "stream",
     "text": [
      " 78%|██████████████████████████████████████████████████████████████▌                 | 176/225 [00:03<00:01, 44.84it/s]"
     ]
    },
    {
     "name": "stdout",
     "output_type": "stream",
     "text": [
      "\n",
      "torch.Size([128, 2, 2])\n",
      "torch.Size([128, 2, 2])\n",
      "torch.Size([128, 2, 2])\n",
      "torch.Size([128, 2, 2])\n",
      "torch.Size([128, 2, 2])\n",
      "torch.Size([128, 2, 2])\n",
      "torch.Size([128, 2, 2])\n",
      "torch.Size([128, 2, 2])\n",
      "torch.Size([128, 2, 2])"
     ]
    },
    {
     "name": "stderr",
     "output_type": "stream",
     "text": [
      " 83%|██████████████████████████████████████████████████████████████████▏             | 186/225 [00:03<00:00, 46.47it/s]"
     ]
    },
    {
     "name": "stdout",
     "output_type": "stream",
     "text": [
      "\n",
      "torch.Size([128, 2, 2])\n",
      "torch.Size([128, 2, 2])\n",
      "torch.Size([128, 2, 2])\n",
      "torch.Size([128, 2, 2])\n",
      "torch.Size([128, 2, 2])\n",
      "torch.Size([128, 2, 2])\n",
      "torch.Size([128, 2, 2])\n",
      "torch.Size([128, 2, 2])\n",
      "torch.Size([128, 2, 2])"
     ]
    },
    {
     "name": "stderr",
     "output_type": "stream",
     "text": [
      "\r",
      " 85%|███████████████████████████████████████████████████████████████████▉            | 191/225 [00:04<00:00, 46.62it/s]"
     ]
    },
    {
     "name": "stdout",
     "output_type": "stream",
     "text": [
      "\n",
      "torch.Size([128, 2, 2])\n",
      "torch.Size([128, 2, 2])\n",
      "torch.Size([128, 2, 2])\n",
      "torch.Size([128, 2, 2])\n",
      "torch.Size([128, 2, 2])\n",
      "torch.Size([128, 2, 2])\n",
      "torch.Size([128, 2, 2])\n",
      "torch.Size([128, 2, 2])\n",
      "torch.Size([128, 2, 2])"
     ]
    },
    {
     "name": "stderr",
     "output_type": "stream",
     "text": [
      " 89%|███████████████████████████████████████████████████████████████████████▍        | 201/225 [00:04<00:00, 46.83it/s]"
     ]
    },
    {
     "name": "stdout",
     "output_type": "stream",
     "text": [
      "\n",
      "torch.Size([128, 2, 2])\n",
      "torch.Size([128, 2, 2])\n",
      "torch.Size([128, 2, 2])\n",
      "torch.Size([128, 2, 2])\n",
      "torch.Size([128, 2, 2])\n",
      "torch.Size([128, 2, 2])\n",
      "torch.Size([128, 2, 2])\n",
      "torch.Size([128, 2, 2])\n",
      "torch.Size([128, 2, 2])"
     ]
    },
    {
     "name": "stderr",
     "output_type": "stream",
     "text": [
      " 94%|███████████████████████████████████████████████████████████████████████████     | 211/225 [00:04<00:00, 47.07it/s]"
     ]
    },
    {
     "name": "stdout",
     "output_type": "stream",
     "text": [
      "\n",
      "torch.Size([128, 2, 2])\n",
      "torch.Size([128, 2, 2])\n",
      "torch.Size([128, 2, 2])\n",
      "torch.Size([128, 2, 2])\n",
      "torch.Size([128, 2, 2])\n",
      "torch.Size([128, 2, 2])\n",
      "torch.Size([128, 2, 2])\n",
      "torch.Size([128, 2, 2])\n",
      "torch.Size([128, 2, 2])"
     ]
    },
    {
     "name": "stderr",
     "output_type": "stream",
     "text": [
      " 98%|██████████████████████████████████████████████████████████████████████████████▌ | 221/225 [00:04<00:00, 46.88it/s]"
     ]
    },
    {
     "name": "stdout",
     "output_type": "stream",
     "text": [
      "\n",
      "torch.Size([128, 2, 2])\n",
      "torch.Size([128, 2, 2])\n",
      "torch.Size([128, 2, 2])\n",
      "torch.Size([128, 2, 2])\n",
      "torch.Size([128, 2, 2])\n",
      "torch.Size([128, 2, 2])\n",
      "torch.Size([128, 2, 2])\n",
      "torch.Size([128, 2, 2])\n",
      "torch.Size([128, 2, 2])"
     ]
    },
    {
     "name": "stderr",
     "output_type": "stream",
     "text": [
      "\r",
      "100%|████████████████████████████████████████████████████████████████████████████████| 225/225 [00:04<00:00, 47.12it/s]"
     ]
    },
    {
     "name": "stdout",
     "output_type": "stream",
     "text": [
      "\n",
      "torch.Size([128, 2, 2])\n",
      "torch.Size([128, 2, 2])\n",
      "Epoch: 9. Loss: 0.026344647631049156\n"
     ]
    },
    {
     "name": "stderr",
     "output_type": "stream",
     "text": [
      "\n"
     ]
    }
   ],
   "source": [
    "train(net)"
   ]
  },
  {
   "cell_type": "code",
   "execution_count": 14,
   "metadata": {},
   "outputs": [
    {
     "name": "stderr",
     "output_type": "stream",
     "text": [
      "  2%|█▌                                                                             | 49/2494 [00:00<00:05, 480.88it/s]"
     ]
    },
    {
     "name": "stdout",
     "output_type": "stream",
     "text": [
      "torch.Size([128, 2, 2])\n",
      "torch.Size([128, 2, 2])\n",
      "torch.Size([128, 2, 2])\n",
      "torch.Size([128, 2, 2])\n",
      "torch.Size([128, 2, 2])\n",
      "torch.Size([128, 2, 2])\n",
      "torch.Size([128, 2, 2])\n",
      "torch.Size([128, 2, 2])\n",
      "torch.Size([128, 2, 2])\n",
      "torch.Size([128, 2, 2])\n",
      "torch.Size([128, 2, 2])\n",
      "torch.Size([128, 2, 2])\n",
      "torch.Size([128, 2, 2])\n",
      "torch.Size([128, 2, 2])\n",
      "torch.Size([128, 2, 2])\n",
      "torch.Size([128, 2, 2])\n",
      "torch.Size([128, 2, 2])\n",
      "torch.Size([128, 2, 2])\n",
      "torch.Size([128, 2, 2])\n",
      "torch.Size([128, 2, 2])\n",
      "torch.Size([128, 2, 2])\n",
      "torch.Size([128, 2, 2])\n",
      "torch.Size([128, 2, 2])\n",
      "torch.Size([128, 2, 2])\n",
      "torch.Size([128, 2, 2])\n",
      "torch.Size([128, 2, 2])\n",
      "torch.Size([128, 2, 2])\n",
      "torch.Size([128, 2, 2])\n",
      "torch.Size([128, 2, 2])\n",
      "torch.Size([128, 2, 2])\n",
      "torch.Size([128, 2, 2])\n",
      "torch.Size([128, 2, 2])\n",
      "torch.Size([128, 2, 2])\n",
      "torch.Size([128, 2, 2])\n",
      "torch.Size([128, 2, 2])\n",
      "torch.Size([128, 2, 2])\n",
      "torch.Size([128, 2, 2])\n",
      "torch.Size([128, 2, 2])\n",
      "torch.Size([128, 2, 2])\n",
      "torch.Size([128, 2, 2])\n",
      "torch.Size([128, 2, 2])\n",
      "torch.Size([128, 2, 2])\n",
      "torch.Size([128, 2, 2])\n",
      "torch.Size([128, 2, 2])\n",
      "torch.Size([128, 2, 2])\n",
      "torch.Size([128, 2, 2])\n",
      "torch.Size([128, 2, 2])\n",
      "torch.Size([128, 2, 2])\n",
      "torch.Size([128, 2, 2])\n",
      "torch.Size([128, 2, 2])\n",
      "torch.Size([128, 2, 2])\n",
      "torch.Size([128, 2, 2])\n",
      "torch.Size([128, 2, 2])\n",
      "torch.Size([128, 2, 2])\n",
      "torch.Size([128, 2, 2])\n",
      "torch.Size([128, 2, 2])\n",
      "torch.Size([128, 2, 2])\n",
      "torch.Size([128, 2, 2])\n",
      "torch.Size([128, 2, 2])\n",
      "torch.Size([128, 2, 2])\n",
      "torch.Size([128, 2, 2])\n",
      "torch.Size([128, 2, 2])\n",
      "torch.Size([128, 2, 2])\n",
      "torch.Size([128, 2, 2])\n",
      "torch.Size([128, 2, 2])\n",
      "torch.Size([128, 2, 2])\n",
      "torch.Size([128, 2, 2])\n",
      "torch.Size([128, 2, 2])\n",
      "torch.Size([128, 2, 2])\n",
      "torch.Size([128, 2, 2])\n",
      "torch.Size([128, 2, 2])\n",
      "torch.Size([128, 2, 2])\n",
      "torch.Size([128, 2, 2])\n",
      "torch.Size([128, 2, 2])\n",
      "torch.Size([128, 2, 2])\n",
      "torch.Size([128, 2, 2])\n",
      "torch.Size([128, 2, 2])\n",
      "torch.Size([128, 2, 2])\n",
      "torch.Size([128, 2, 2])\n",
      "torch.Size([128, 2, 2])\n",
      "torch.Size([128, 2, 2])\n",
      "torch.Size([128, 2, 2])\n",
      "torch.Size([128, 2, 2])\n",
      "torch.Size([128, 2, 2])\n",
      "torch.Size([128, 2, 2])\n",
      "torch.Size([128, 2, 2])\n",
      "torch.Size([128, 2, 2])\n",
      "torch.Size([128, 2, 2])\n",
      "torch.Size([128, 2, 2])\n",
      "torch.Size([128, 2, 2])\n",
      "torch.Size([128, 2, 2])\n",
      "torch.Size([128, 2, 2])\n",
      "torch.Size([128, 2, 2])\n",
      "torch.Size([128, 2, 2])\n",
      "torch.Size([128, 2, 2])\n",
      "torch.Size([128, 2, 2])\n",
      "torch.Size([128, 2, 2])"
     ]
    },
    {
     "name": "stderr",
     "output_type": "stream",
     "text": [
      "  6%|████▉                                                                         | 156/2494 [00:00<00:04, 504.43it/s]"
     ]
    },
    {
     "name": "stdout",
     "output_type": "stream",
     "text": [
      "\n",
      "torch.Size([128, 2, 2])\n",
      "torch.Size([128, 2, 2])\n",
      "torch.Size([128, 2, 2])\n",
      "torch.Size([128, 2, 2])\n",
      "torch.Size([128, 2, 2])\n",
      "torch.Size([128, 2, 2])\n",
      "torch.Size([128, 2, 2])\n",
      "torch.Size([128, 2, 2])\n",
      "torch.Size([128, 2, 2])\n",
      "torch.Size([128, 2, 2])\n",
      "torch.Size([128, 2, 2])\n",
      "torch.Size([128, 2, 2])\n",
      "torch.Size([128, 2, 2])\n",
      "torch.Size([128, 2, 2])\n",
      "torch.Size([128, 2, 2])\n",
      "torch.Size([128, 2, 2])\n",
      "torch.Size([128, 2, 2])\n",
      "torch.Size([128, 2, 2])\n",
      "torch.Size([128, 2, 2])\n",
      "torch.Size([128, 2, 2])\n",
      "torch.Size([128, 2, 2])\n",
      "torch.Size([128, 2, 2])\n",
      "torch.Size([128, 2, 2])\n",
      "torch.Size([128, 2, 2])\n",
      "torch.Size([128, 2, 2])\n",
      "torch.Size([128, 2, 2])\n",
      "torch.Size([128, 2, 2])\n",
      "torch.Size([128, 2, 2])\n",
      "torch.Size([128, 2, 2])\n",
      "torch.Size([128, 2, 2])\n",
      "torch.Size([128, 2, 2])\n",
      "torch.Size([128, 2, 2])\n",
      "torch.Size([128, 2, 2])\n",
      "torch.Size([128, 2, 2])\n",
      "torch.Size([128, 2, 2])\n",
      "torch.Size([128, 2, 2])\n",
      "torch.Size([128, 2, 2])\n",
      "torch.Size([128, 2, 2])\n",
      "torch.Size([128, 2, 2])\n",
      "torch.Size([128, 2, 2])\n",
      "torch.Size([128, 2, 2])\n",
      "torch.Size([128, 2, 2])\n",
      "torch.Size([128, 2, 2])\n",
      "torch.Size([128, 2, 2])\n",
      "torch.Size([128, 2, 2])\n",
      "torch.Size([128, 2, 2])\n",
      "torch.Size([128, 2, 2])\n",
      "torch.Size([128, 2, 2])\n",
      "torch.Size([128, 2, 2])\n",
      "torch.Size([128, 2, 2])\n",
      "torch.Size([128, 2, 2])\n",
      "torch.Size([128, 2, 2])\n",
      "torch.Size([128, 2, 2])\n",
      "torch.Size([128, 2, 2])\n",
      "torch.Size([128, 2, 2])\n",
      "torch.Size([128, 2, 2])\n",
      "torch.Size([128, 2, 2])\n",
      "torch.Size([128, 2, 2])\n",
      "torch.Size([128, 2, 2])\n",
      "torch.Size([128, 2, 2])\n",
      "torch.Size([128, 2, 2])\n",
      "torch.Size([128, 2, 2])\n",
      "torch.Size([128, 2, 2])\n",
      "torch.Size([128, 2, 2])\n",
      "torch.Size([128, 2, 2])\n",
      "torch.Size([128, 2, 2])\n",
      "torch.Size([128, 2, 2])\n",
      "torch.Size([128, 2, 2])\n",
      "torch.Size([128, 2, 2])\n",
      "torch.Size([128, 2, 2])\n",
      "torch.Size([128, 2, 2])\n",
      "torch.Size([128, 2, 2])\n",
      "torch.Size([128, 2, 2])\n",
      "torch.Size([128, 2, 2])\n",
      "torch.Size([128, 2, 2])\n",
      "torch.Size([128, 2, 2])\n",
      "torch.Size([128, 2, 2])\n",
      "torch.Size([128, 2, 2])\n",
      "torch.Size([128, 2, 2])\n",
      "torch.Size([128, 2, 2])\n",
      "torch.Size([128, 2, 2])\n",
      "torch.Size([128, 2, 2])\n",
      "torch.Size([128, 2, 2])\n",
      "torch.Size([128, 2, 2])\n",
      "torch.Size([128, 2, 2])\n",
      "torch.Size([128, 2, 2])\n",
      "torch.Size([128, 2, 2])\n",
      "torch.Size([128, 2, 2])\n",
      "torch.Size([128, 2, 2])\n",
      "torch.Size([128, 2, 2])\n",
      "torch.Size([128, 2, 2])\n",
      "torch.Size([128, 2, 2])\n",
      "torch.Size([128, 2, 2])\n",
      "torch.Size([128, 2, 2])\n",
      "torch.Size([128, 2, 2])\n",
      "torch.Size([128, 2, 2])\n",
      "torch.Size([128, 2, 2])\n",
      "torch.Size([128, 2, 2])\n",
      "torch.Size([128, 2, 2])"
     ]
    },
    {
     "name": "stderr",
     "output_type": "stream",
     "text": [
      " 11%|████████▏                                                                     | 263/2494 [00:00<00:04, 516.62it/s]"
     ]
    },
    {
     "name": "stdout",
     "output_type": "stream",
     "text": [
      "\n",
      "torch.Size([128, 2, 2])\n",
      "torch.Size([128, 2, 2])\n",
      "torch.Size([128, 2, 2])\n",
      "torch.Size([128, 2, 2])\n",
      "torch.Size([128, 2, 2])\n",
      "torch.Size([128, 2, 2])\n",
      "torch.Size([128, 2, 2])\n",
      "torch.Size([128, 2, 2])\n",
      "torch.Size([128, 2, 2])\n",
      "torch.Size([128, 2, 2])\n",
      "torch.Size([128, 2, 2])\n",
      "torch.Size([128, 2, 2])\n",
      "torch.Size([128, 2, 2])\n",
      "torch.Size([128, 2, 2])\n",
      "torch.Size([128, 2, 2])\n",
      "torch.Size([128, 2, 2])\n",
      "torch.Size([128, 2, 2])\n",
      "torch.Size([128, 2, 2])\n",
      "torch.Size([128, 2, 2])\n",
      "torch.Size([128, 2, 2])\n",
      "torch.Size([128, 2, 2])\n",
      "torch.Size([128, 2, 2])\n",
      "torch.Size([128, 2, 2])\n",
      "torch.Size([128, 2, 2])\n",
      "torch.Size([128, 2, 2])\n",
      "torch.Size([128, 2, 2])\n",
      "torch.Size([128, 2, 2])\n",
      "torch.Size([128, 2, 2])\n",
      "torch.Size([128, 2, 2])\n",
      "torch.Size([128, 2, 2])\n",
      "torch.Size([128, 2, 2])\n",
      "torch.Size([128, 2, 2])\n",
      "torch.Size([128, 2, 2])\n",
      "torch.Size([128, 2, 2])\n",
      "torch.Size([128, 2, 2])\n",
      "torch.Size([128, 2, 2])\n",
      "torch.Size([128, 2, 2])\n",
      "torch.Size([128, 2, 2])\n",
      "torch.Size([128, 2, 2])\n",
      "torch.Size([128, 2, 2])\n",
      "torch.Size([128, 2, 2])\n",
      "torch.Size([128, 2, 2])\n",
      "torch.Size([128, 2, 2])\n",
      "torch.Size([128, 2, 2])\n",
      "torch.Size([128, 2, 2])\n",
      "torch.Size([128, 2, 2])\n",
      "torch.Size([128, 2, 2])\n",
      "torch.Size([128, 2, 2])\n",
      "torch.Size([128, 2, 2])\n",
      "torch.Size([128, 2, 2])\n",
      "torch.Size([128, 2, 2])\n",
      "torch.Size([128, 2, 2])\n",
      "torch.Size([128, 2, 2])\n",
      "torch.Size([128, 2, 2])\n",
      "torch.Size([128, 2, 2])\n",
      "torch.Size([128, 2, 2])\n",
      "torch.Size([128, 2, 2])\n",
      "torch.Size([128, 2, 2])\n",
      "torch.Size([128, 2, 2])\n",
      "torch.Size([128, 2, 2])\n",
      "torch.Size([128, 2, 2])\n",
      "torch.Size([128, 2, 2])\n",
      "torch.Size([128, 2, 2])\n",
      "torch.Size([128, 2, 2])\n",
      "torch.Size([128, 2, 2])\n",
      "torch.Size([128, 2, 2])\n",
      "torch.Size([128, 2, 2])\n",
      "torch.Size([128, 2, 2])\n",
      "torch.Size([128, 2, 2])\n",
      "torch.Size([128, 2, 2])\n",
      "torch.Size([128, 2, 2])\n",
      "torch.Size([128, 2, 2])\n",
      "torch.Size([128, 2, 2])\n",
      "torch.Size([128, 2, 2])\n",
      "torch.Size([128, 2, 2])\n",
      "torch.Size([128, 2, 2])\n",
      "torch.Size([128, 2, 2])\n",
      "torch.Size([128, 2, 2])\n",
      "torch.Size([128, 2, 2])\n",
      "torch.Size([128, 2, 2])\n",
      "torch.Size([128, 2, 2])\n",
      "torch.Size([128, 2, 2])\n",
      "torch.Size([128, 2, 2])\n",
      "torch.Size([128, 2, 2])\n",
      "torch.Size([128, 2, 2])\n",
      "torch.Size([128, 2, 2])\n",
      "torch.Size([128, 2, 2])\n",
      "torch.Size([128, 2, 2])\n",
      "torch.Size([128, 2, 2])\n",
      "torch.Size([128, 2, 2])\n",
      "torch.Size([128, 2, 2])\n",
      "torch.Size([128, 2, 2])\n",
      "torch.Size([128, 2, 2])\n",
      "torch.Size([128, 2, 2])\n",
      "torch.Size([128, 2, 2])\n",
      "torch.Size([128, 2, 2])\n",
      "torch.Size([128, 2, 2])\n",
      "torch.Size([128, 2, 2])"
     ]
    },
    {
     "name": "stderr",
     "output_type": "stream",
     "text": [
      " 15%|███████████▌                                                                  | 370/2494 [00:00<00:04, 523.89it/s]"
     ]
    },
    {
     "name": "stdout",
     "output_type": "stream",
     "text": [
      "\n",
      "torch.Size([128, 2, 2])\n",
      "torch.Size([128, 2, 2])\n",
      "torch.Size([128, 2, 2])\n",
      "torch.Size([128, 2, 2])\n",
      "torch.Size([128, 2, 2])\n",
      "torch.Size([128, 2, 2])\n",
      "torch.Size([128, 2, 2])\n",
      "torch.Size([128, 2, 2])\n",
      "torch.Size([128, 2, 2])\n",
      "torch.Size([128, 2, 2])\n",
      "torch.Size([128, 2, 2])\n",
      "torch.Size([128, 2, 2])\n",
      "torch.Size([128, 2, 2])\n",
      "torch.Size([128, 2, 2])\n",
      "torch.Size([128, 2, 2])\n",
      "torch.Size([128, 2, 2])\n",
      "torch.Size([128, 2, 2])\n",
      "torch.Size([128, 2, 2])\n",
      "torch.Size([128, 2, 2])\n",
      "torch.Size([128, 2, 2])\n",
      "torch.Size([128, 2, 2])\n",
      "torch.Size([128, 2, 2])\n",
      "torch.Size([128, 2, 2])\n",
      "torch.Size([128, 2, 2])\n",
      "torch.Size([128, 2, 2])\n",
      "torch.Size([128, 2, 2])\n",
      "torch.Size([128, 2, 2])\n",
      "torch.Size([128, 2, 2])\n",
      "torch.Size([128, 2, 2])\n",
      "torch.Size([128, 2, 2])\n",
      "torch.Size([128, 2, 2])\n",
      "torch.Size([128, 2, 2])\n",
      "torch.Size([128, 2, 2])\n",
      "torch.Size([128, 2, 2])\n",
      "torch.Size([128, 2, 2])\n",
      "torch.Size([128, 2, 2])\n",
      "torch.Size([128, 2, 2])\n",
      "torch.Size([128, 2, 2])\n",
      "torch.Size([128, 2, 2])\n",
      "torch.Size([128, 2, 2])\n",
      "torch.Size([128, 2, 2])\n",
      "torch.Size([128, 2, 2])\n",
      "torch.Size([128, 2, 2])\n",
      "torch.Size([128, 2, 2])\n",
      "torch.Size([128, 2, 2])\n",
      "torch.Size([128, 2, 2])\n",
      "torch.Size([128, 2, 2])\n",
      "torch.Size([128, 2, 2])\n",
      "torch.Size([128, 2, 2])\n",
      "torch.Size([128, 2, 2])\n",
      "torch.Size([128, 2, 2])\n",
      "torch.Size([128, 2, 2])\n",
      "torch.Size([128, 2, 2])\n",
      "torch.Size([128, 2, 2])\n",
      "torch.Size([128, 2, 2])\n",
      "torch.Size([128, 2, 2])\n",
      "torch.Size([128, 2, 2])\n",
      "torch.Size([128, 2, 2])\n",
      "torch.Size([128, 2, 2])\n",
      "torch.Size([128, 2, 2])\n",
      "torch.Size([128, 2, 2])\n",
      "torch.Size([128, 2, 2])\n",
      "torch.Size([128, 2, 2])\n",
      "torch.Size([128, 2, 2])\n",
      "torch.Size([128, 2, 2])\n",
      "torch.Size([128, 2, 2])\n",
      "torch.Size([128, 2, 2])\n",
      "torch.Size([128, 2, 2])\n",
      "torch.Size([128, 2, 2])\n",
      "torch.Size([128, 2, 2])\n",
      "torch.Size([128, 2, 2])\n",
      "torch.Size([128, 2, 2])\n",
      "torch.Size([128, 2, 2])\n",
      "torch.Size([128, 2, 2])\n",
      "torch.Size([128, 2, 2])\n",
      "torch.Size([128, 2, 2])\n",
      "torch.Size([128, 2, 2])\n",
      "torch.Size([128, 2, 2])\n",
      "torch.Size([128, 2, 2])\n",
      "torch.Size([128, 2, 2])\n",
      "torch.Size([128, 2, 2])\n",
      "torch.Size([128, 2, 2])\n",
      "torch.Size([128, 2, 2])\n",
      "torch.Size([128, 2, 2])\n",
      "torch.Size([128, 2, 2])\n",
      "torch.Size([128, 2, 2])\n",
      "torch.Size([128, 2, 2])\n",
      "torch.Size([128, 2, 2])\n",
      "torch.Size([128, 2, 2])\n",
      "torch.Size([128, 2, 2])\n",
      "torch.Size([128, 2, 2])\n",
      "torch.Size([128, 2, 2])\n",
      "torch.Size([128, 2, 2])\n",
      "torch.Size([128, 2, 2])\n",
      "torch.Size([128, 2, 2])\n",
      "torch.Size([128, 2, 2])\n",
      "torch.Size([128, 2, 2])\n",
      "torch.Size([128, 2, 2])\n",
      "torch.Size([128, 2, 2])\n",
      "torch.Size([128, 2, 2])"
     ]
    },
    {
     "name": "stderr",
     "output_type": "stream",
     "text": [
      " 19%|██████████████▉                                                               | 478/2494 [00:00<00:03, 529.60it/s]"
     ]
    },
    {
     "name": "stdout",
     "output_type": "stream",
     "text": [
      "\n",
      "torch.Size([128, 2, 2])\n",
      "torch.Size([128, 2, 2])\n",
      "torch.Size([128, 2, 2])\n",
      "torch.Size([128, 2, 2])\n",
      "torch.Size([128, 2, 2])\n",
      "torch.Size([128, 2, 2])\n",
      "torch.Size([128, 2, 2])\n",
      "torch.Size([128, 2, 2])\n",
      "torch.Size([128, 2, 2])\n",
      "torch.Size([128, 2, 2])\n",
      "torch.Size([128, 2, 2])\n",
      "torch.Size([128, 2, 2])\n",
      "torch.Size([128, 2, 2])\n",
      "torch.Size([128, 2, 2])\n",
      "torch.Size([128, 2, 2])\n",
      "torch.Size([128, 2, 2])\n",
      "torch.Size([128, 2, 2])\n",
      "torch.Size([128, 2, 2])\n",
      "torch.Size([128, 2, 2])\n",
      "torch.Size([128, 2, 2])\n",
      "torch.Size([128, 2, 2])\n",
      "torch.Size([128, 2, 2])\n",
      "torch.Size([128, 2, 2])\n",
      "torch.Size([128, 2, 2])\n",
      "torch.Size([128, 2, 2])\n",
      "torch.Size([128, 2, 2])\n",
      "torch.Size([128, 2, 2])\n",
      "torch.Size([128, 2, 2])\n",
      "torch.Size([128, 2, 2])\n",
      "torch.Size([128, 2, 2])\n",
      "torch.Size([128, 2, 2])\n",
      "torch.Size([128, 2, 2])\n",
      "torch.Size([128, 2, 2])\n",
      "torch.Size([128, 2, 2])\n",
      "torch.Size([128, 2, 2])\n",
      "torch.Size([128, 2, 2])\n",
      "torch.Size([128, 2, 2])\n",
      "torch.Size([128, 2, 2])\n",
      "torch.Size([128, 2, 2])\n",
      "torch.Size([128, 2, 2])\n",
      "torch.Size([128, 2, 2])\n",
      "torch.Size([128, 2, 2])\n",
      "torch.Size([128, 2, 2])\n",
      "torch.Size([128, 2, 2])\n",
      "torch.Size([128, 2, 2])\n",
      "torch.Size([128, 2, 2])\n",
      "torch.Size([128, 2, 2])\n",
      "torch.Size([128, 2, 2])\n",
      "torch.Size([128, 2, 2])\n",
      "torch.Size([128, 2, 2])\n",
      "torch.Size([128, 2, 2])\n",
      "torch.Size([128, 2, 2])\n",
      "torch.Size([128, 2, 2])\n",
      "torch.Size([128, 2, 2])\n",
      "torch.Size([128, 2, 2])\n",
      "torch.Size([128, 2, 2])\n",
      "torch.Size([128, 2, 2])\n",
      "torch.Size([128, 2, 2])\n",
      "torch.Size([128, 2, 2])\n",
      "torch.Size([128, 2, 2])\n",
      "torch.Size([128, 2, 2])\n",
      "torch.Size([128, 2, 2])\n",
      "torch.Size([128, 2, 2])\n",
      "torch.Size([128, 2, 2])\n",
      "torch.Size([128, 2, 2])\n",
      "torch.Size([128, 2, 2])\n",
      "torch.Size([128, 2, 2])\n",
      "torch.Size([128, 2, 2])\n",
      "torch.Size([128, 2, 2])\n",
      "torch.Size([128, 2, 2])\n",
      "torch.Size([128, 2, 2])\n",
      "torch.Size([128, 2, 2])\n",
      "torch.Size([128, 2, 2])\n",
      "torch.Size([128, 2, 2])\n",
      "torch.Size([128, 2, 2])\n",
      "torch.Size([128, 2, 2])\n",
      "torch.Size([128, 2, 2])\n",
      "torch.Size([128, 2, 2])\n",
      "torch.Size([128, 2, 2])\n",
      "torch.Size([128, 2, 2])\n",
      "torch.Size([128, 2, 2])\n",
      "torch.Size([128, 2, 2])\n",
      "torch.Size([128, 2, 2])\n",
      "torch.Size([128, 2, 2])\n",
      "torch.Size([128, 2, 2])\n",
      "torch.Size([128, 2, 2])\n",
      "torch.Size([128, 2, 2])\n",
      "torch.Size([128, 2, 2])\n",
      "torch.Size([128, 2, 2])\n",
      "torch.Size([128, 2, 2])\n",
      "torch.Size([128, 2, 2])\n",
      "torch.Size([128, 2, 2])\n",
      "torch.Size([128, 2, 2])\n",
      "torch.Size([128, 2, 2])\n",
      "torch.Size([128, 2, 2])\n",
      "torch.Size([128, 2, 2])\n",
      "torch.Size([128, 2, 2])\n",
      "torch.Size([128, 2, 2])\n",
      "torch.Size([128, 2, 2])\n",
      "torch.Size([128, 2, 2])"
     ]
    },
    {
     "name": "stderr",
     "output_type": "stream",
     "text": [
      " 23%|██████████████████▏                                                           | 580/2494 [00:01<00:03, 501.89it/s]"
     ]
    },
    {
     "name": "stdout",
     "output_type": "stream",
     "text": [
      "\n",
      "torch.Size([128, 2, 2])\n",
      "torch.Size([128, 2, 2])\n",
      "torch.Size([128, 2, 2])\n",
      "torch.Size([128, 2, 2])\n",
      "torch.Size([128, 2, 2])\n",
      "torch.Size([128, 2, 2])\n",
      "torch.Size([128, 2, 2])\n",
      "torch.Size([128, 2, 2])\n",
      "torch.Size([128, 2, 2])\n",
      "torch.Size([128, 2, 2])\n",
      "torch.Size([128, 2, 2])\n",
      "torch.Size([128, 2, 2])\n",
      "torch.Size([128, 2, 2])\n",
      "torch.Size([128, 2, 2])\n",
      "torch.Size([128, 2, 2])\n",
      "torch.Size([128, 2, 2])\n",
      "torch.Size([128, 2, 2])\n",
      "torch.Size([128, 2, 2])\n",
      "torch.Size([128, 2, 2])\n",
      "torch.Size([128, 2, 2])\n",
      "torch.Size([128, 2, 2])\n",
      "torch.Size([128, 2, 2])\n",
      "torch.Size([128, 2, 2])\n",
      "torch.Size([128, 2, 2])\n",
      "torch.Size([128, 2, 2])\n",
      "torch.Size([128, 2, 2])\n",
      "torch.Size([128, 2, 2])\n",
      "torch.Size([128, 2, 2])\n",
      "torch.Size([128, 2, 2])\n",
      "torch.Size([128, 2, 2])\n",
      "torch.Size([128, 2, 2])\n",
      "torch.Size([128, 2, 2])\n",
      "torch.Size([128, 2, 2])\n",
      "torch.Size([128, 2, 2])\n",
      "torch.Size([128, 2, 2])\n",
      "torch.Size([128, 2, 2])\n",
      "torch.Size([128, 2, 2])\n",
      "torch.Size([128, 2, 2])\n",
      "torch.Size([128, 2, 2])\n",
      "torch.Size([128, 2, 2])\n",
      "torch.Size([128, 2, 2])\n",
      "torch.Size([128, 2, 2])\n",
      "torch.Size([128, 2, 2])\n",
      "torch.Size([128, 2, 2])\n",
      "torch.Size([128, 2, 2])\n",
      "torch.Size([128, 2, 2])\n",
      "torch.Size([128, 2, 2])\n",
      "torch.Size([128, 2, 2])\n",
      "torch.Size([128, 2, 2])\n",
      "torch.Size([128, 2, 2])\n",
      "torch.Size([128, 2, 2])\n",
      "torch.Size([128, 2, 2])\n",
      "torch.Size([128, 2, 2])\n",
      "torch.Size([128, 2, 2])\n",
      "torch.Size([128, 2, 2])\n",
      "torch.Size([128, 2, 2])\n",
      "torch.Size([128, 2, 2])\n",
      "torch.Size([128, 2, 2])\n",
      "torch.Size([128, 2, 2])\n",
      "torch.Size([128, 2, 2])\n",
      "torch.Size([128, 2, 2])\n",
      "torch.Size([128, 2, 2])\n",
      "torch.Size([128, 2, 2])\n",
      "torch.Size([128, 2, 2])\n",
      "torch.Size([128, 2, 2])\n",
      "torch.Size([128, 2, 2])\n",
      "torch.Size([128, 2, 2])\n",
      "torch.Size([128, 2, 2])\n",
      "torch.Size([128, 2, 2])\n",
      "torch.Size([128, 2, 2])\n",
      "torch.Size([128, 2, 2])\n",
      "torch.Size([128, 2, 2])\n",
      "torch.Size([128, 2, 2])\n",
      "torch.Size([128, 2, 2])\n",
      "torch.Size([128, 2, 2])\n",
      "torch.Size([128, 2, 2])\n",
      "torch.Size([128, 2, 2])\n",
      "torch.Size([128, 2, 2])\n",
      "torch.Size([128, 2, 2])\n",
      "torch.Size([128, 2, 2])\n",
      "torch.Size([128, 2, 2])\n",
      "torch.Size([128, 2, 2])\n",
      "torch.Size([128, 2, 2])\n",
      "torch.Size([128, 2, 2])\n",
      "torch.Size([128, 2, 2])\n",
      "torch.Size([128, 2, 2])\n",
      "torch.Size([128, 2, 2])\n",
      "torch.Size([128, 2, 2])"
     ]
    },
    {
     "name": "stderr",
     "output_type": "stream",
     "text": [
      "\r",
      " 25%|███████████████████▊                                                          | 633/2494 [00:01<00:03, 507.23it/s]"
     ]
    },
    {
     "name": "stdout",
     "output_type": "stream",
     "text": [
      "\n",
      "torch.Size([128, 2, 2])\n",
      "torch.Size([128, 2, 2])\n",
      "torch.Size([128, 2, 2])\n",
      "torch.Size([128, 2, 2])\n",
      "torch.Size([128, 2, 2])\n",
      "torch.Size([128, 2, 2])\n",
      "torch.Size([128, 2, 2])\n",
      "torch.Size([128, 2, 2])\n",
      "torch.Size([128, 2, 2])\n",
      "torch.Size([128, 2, 2])\n",
      "torch.Size([128, 2, 2])\n",
      "torch.Size([128, 2, 2])\n",
      "torch.Size([128, 2, 2])\n",
      "torch.Size([128, 2, 2])\n",
      "torch.Size([128, 2, 2])\n",
      "torch.Size([128, 2, 2])\n",
      "torch.Size([128, 2, 2])\n",
      "torch.Size([128, 2, 2])\n",
      "torch.Size([128, 2, 2])\n",
      "torch.Size([128, 2, 2])\n",
      "torch.Size([128, 2, 2])\n",
      "torch.Size([128, 2, 2])\n",
      "torch.Size([128, 2, 2])\n",
      "torch.Size([128, 2, 2])\n",
      "torch.Size([128, 2, 2])\n",
      "torch.Size([128, 2, 2])\n",
      "torch.Size([128, 2, 2])\n",
      "torch.Size([128, 2, 2])\n",
      "torch.Size([128, 2, 2])\n",
      "torch.Size([128, 2, 2])\n",
      "torch.Size([128, 2, 2])\n",
      "torch.Size([128, 2, 2])\n",
      "torch.Size([128, 2, 2])\n",
      "torch.Size([128, 2, 2])\n",
      "torch.Size([128, 2, 2])\n",
      "torch.Size([128, 2, 2])\n",
      "torch.Size([128, 2, 2])\n",
      "torch.Size([128, 2, 2])\n",
      "torch.Size([128, 2, 2])\n",
      "torch.Size([128, 2, 2])\n",
      "torch.Size([128, 2, 2])\n",
      "torch.Size([128, 2, 2])\n",
      "torch.Size([128, 2, 2])\n",
      "torch.Size([128, 2, 2])\n",
      "torch.Size([128, 2, 2])\n",
      "torch.Size([128, 2, 2])\n",
      "torch.Size([128, 2, 2])\n",
      "torch.Size([128, 2, 2])\n",
      "torch.Size([128, 2, 2])\n",
      "torch.Size([128, 2, 2])\n",
      "torch.Size([128, 2, 2])\n",
      "torch.Size([128, 2, 2])\n",
      "torch.Size([128, 2, 2])\n",
      "torch.Size([128, 2, 2])\n",
      "torch.Size([128, 2, 2])\n",
      "torch.Size([128, 2, 2])\n",
      "torch.Size([128, 2, 2])\n",
      "torch.Size([128, 2, 2])\n",
      "torch.Size([128, 2, 2])\n",
      "torch.Size([128, 2, 2])\n",
      "torch.Size([128, 2, 2])\n",
      "torch.Size([128, 2, 2])\n",
      "torch.Size([128, 2, 2])\n",
      "torch.Size([128, 2, 2])\n",
      "torch.Size([128, 2, 2])\n",
      "torch.Size([128, 2, 2])\n",
      "torch.Size([128, 2, 2])\n",
      "torch.Size([128, 2, 2])\n",
      "torch.Size([128, 2, 2])\n",
      "torch.Size([128, 2, 2])\n",
      "torch.Size([128, 2, 2])\n",
      "torch.Size([128, 2, 2])\n",
      "torch.Size([128, 2, 2])\n",
      "torch.Size([128, 2, 2])\n",
      "torch.Size([128, 2, 2])\n",
      "torch.Size([128, 2, 2])\n",
      "torch.Size([128, 2, 2])\n",
      "torch.Size([128, 2, 2])\n",
      "torch.Size([128, 2, 2])\n",
      "torch.Size([128, 2, 2])\n",
      "torch.Size([128, 2, 2])\n",
      "torch.Size([128, 2, 2])\n",
      "torch.Size([128, 2, 2])\n",
      "torch.Size([128, 2, 2])\n",
      "torch.Size([128, 2, 2])\n",
      "torch.Size([128, 2, 2])\n",
      "torch.Size([128, 2, 2])\n",
      "torch.Size([128, 2, 2])\n",
      "torch.Size([128, 2, 2])\n",
      "torch.Size([128, 2, 2])\n",
      "torch.Size([128, 2, 2])\n",
      "torch.Size([128, 2, 2])\n",
      "torch.Size([128, 2, 2])\n",
      "torch.Size([128, 2, 2])\n",
      "torch.Size([128, 2, 2])\n",
      "torch.Size([128, 2, 2])\n",
      "torch.Size([128, 2, 2])"
     ]
    },
    {
     "name": "stderr",
     "output_type": "stream",
     "text": [
      " 30%|███████████████████████                                                       | 739/2494 [00:01<00:03, 513.73it/s]"
     ]
    },
    {
     "name": "stdout",
     "output_type": "stream",
     "text": [
      "\n",
      "torch.Size([128, 2, 2])\n",
      "torch.Size([128, 2, 2])\n",
      "torch.Size([128, 2, 2])\n",
      "torch.Size([128, 2, 2])\n",
      "torch.Size([128, 2, 2])\n",
      "torch.Size([128, 2, 2])\n",
      "torch.Size([128, 2, 2])\n",
      "torch.Size([128, 2, 2])\n",
      "torch.Size([128, 2, 2])\n",
      "torch.Size([128, 2, 2])\n",
      "torch.Size([128, 2, 2])\n",
      "torch.Size([128, 2, 2])\n",
      "torch.Size([128, 2, 2])\n",
      "torch.Size([128, 2, 2])\n",
      "torch.Size([128, 2, 2])\n",
      "torch.Size([128, 2, 2])\n",
      "torch.Size([128, 2, 2])\n",
      "torch.Size([128, 2, 2])\n",
      "torch.Size([128, 2, 2])\n",
      "torch.Size([128, 2, 2])\n",
      "torch.Size([128, 2, 2])\n",
      "torch.Size([128, 2, 2])\n",
      "torch.Size([128, 2, 2])\n",
      "torch.Size([128, 2, 2])\n",
      "torch.Size([128, 2, 2])\n",
      "torch.Size([128, 2, 2])\n",
      "torch.Size([128, 2, 2])\n",
      "torch.Size([128, 2, 2])\n",
      "torch.Size([128, 2, 2])\n",
      "torch.Size([128, 2, 2])\n",
      "torch.Size([128, 2, 2])\n",
      "torch.Size([128, 2, 2])\n",
      "torch.Size([128, 2, 2])\n",
      "torch.Size([128, 2, 2])\n",
      "torch.Size([128, 2, 2])\n",
      "torch.Size([128, 2, 2])\n",
      "torch.Size([128, 2, 2])\n",
      "torch.Size([128, 2, 2])\n",
      "torch.Size([128, 2, 2])\n",
      "torch.Size([128, 2, 2])\n",
      "torch.Size([128, 2, 2])\n",
      "torch.Size([128, 2, 2])\n",
      "torch.Size([128, 2, 2])\n",
      "torch.Size([128, 2, 2])\n",
      "torch.Size([128, 2, 2])\n",
      "torch.Size([128, 2, 2])\n",
      "torch.Size([128, 2, 2])\n",
      "torch.Size([128, 2, 2])\n",
      "torch.Size([128, 2, 2])\n",
      "torch.Size([128, 2, 2])\n",
      "torch.Size([128, 2, 2])\n",
      "torch.Size([128, 2, 2])\n",
      "torch.Size([128, 2, 2])\n",
      "torch.Size([128, 2, 2])\n",
      "torch.Size([128, 2, 2])\n",
      "torch.Size([128, 2, 2])\n",
      "torch.Size([128, 2, 2])\n",
      "torch.Size([128, 2, 2])\n",
      "torch.Size([128, 2, 2])\n",
      "torch.Size([128, 2, 2])\n",
      "torch.Size([128, 2, 2])\n",
      "torch.Size([128, 2, 2])\n",
      "torch.Size([128, 2, 2])\n",
      "torch.Size([128, 2, 2])\n",
      "torch.Size([128, 2, 2])\n",
      "torch.Size([128, 2, 2])\n",
      "torch.Size([128, 2, 2])\n",
      "torch.Size([128, 2, 2])\n",
      "torch.Size([128, 2, 2])\n",
      "torch.Size([128, 2, 2])\n",
      "torch.Size([128, 2, 2])\n",
      "torch.Size([128, 2, 2])\n",
      "torch.Size([128, 2, 2])\n",
      "torch.Size([128, 2, 2])\n",
      "torch.Size([128, 2, 2])\n",
      "torch.Size([128, 2, 2])\n",
      "torch.Size([128, 2, 2])\n",
      "torch.Size([128, 2, 2])\n",
      "torch.Size([128, 2, 2])\n",
      "torch.Size([128, 2, 2])\n",
      "torch.Size([128, 2, 2])\n",
      "torch.Size([128, 2, 2])\n",
      "torch.Size([128, 2, 2])\n",
      "torch.Size([128, 2, 2])\n",
      "torch.Size([128, 2, 2])\n",
      "torch.Size([128, 2, 2])\n",
      "torch.Size([128, 2, 2])\n",
      "torch.Size([128, 2, 2])\n",
      "torch.Size([128, 2, 2])\n",
      "torch.Size([128, 2, 2])\n",
      "torch.Size([128, 2, 2])\n",
      "torch.Size([128, 2, 2])\n",
      "torch.Size([128, 2, 2])\n",
      "torch.Size([128, 2, 2])\n",
      "torch.Size([128, 2, 2])\n",
      "torch.Size([128, 2, 2])\n",
      "torch.Size([128, 2, 2])\n",
      "torch.Size([128, 2, 2])"
     ]
    },
    {
     "name": "stderr",
     "output_type": "stream",
     "text": [
      " 34%|██████████████████████████▍                                                   | 846/2494 [00:01<00:03, 519.85it/s]"
     ]
    },
    {
     "name": "stdout",
     "output_type": "stream",
     "text": [
      "\n",
      "torch.Size([128, 2, 2])\n",
      "torch.Size([128, 2, 2])\n",
      "torch.Size([128, 2, 2])\n",
      "torch.Size([128, 2, 2])\n",
      "torch.Size([128, 2, 2])\n",
      "torch.Size([128, 2, 2])\n",
      "torch.Size([128, 2, 2])\n",
      "torch.Size([128, 2, 2])\n",
      "torch.Size([128, 2, 2])\n",
      "torch.Size([128, 2, 2])\n",
      "torch.Size([128, 2, 2])\n",
      "torch.Size([128, 2, 2])\n",
      "torch.Size([128, 2, 2])\n",
      "torch.Size([128, 2, 2])\n",
      "torch.Size([128, 2, 2])\n",
      "torch.Size([128, 2, 2])\n",
      "torch.Size([128, 2, 2])\n",
      "torch.Size([128, 2, 2])\n",
      "torch.Size([128, 2, 2])\n",
      "torch.Size([128, 2, 2])\n",
      "torch.Size([128, 2, 2])\n",
      "torch.Size([128, 2, 2])\n",
      "torch.Size([128, 2, 2])\n",
      "torch.Size([128, 2, 2])\n",
      "torch.Size([128, 2, 2])\n",
      "torch.Size([128, 2, 2])\n",
      "torch.Size([128, 2, 2])\n",
      "torch.Size([128, 2, 2])\n",
      "torch.Size([128, 2, 2])\n",
      "torch.Size([128, 2, 2])\n",
      "torch.Size([128, 2, 2])\n",
      "torch.Size([128, 2, 2])\n",
      "torch.Size([128, 2, 2])\n",
      "torch.Size([128, 2, 2])\n",
      "torch.Size([128, 2, 2])\n",
      "torch.Size([128, 2, 2])\n",
      "torch.Size([128, 2, 2])\n",
      "torch.Size([128, 2, 2])\n",
      "torch.Size([128, 2, 2])\n",
      "torch.Size([128, 2, 2])\n",
      "torch.Size([128, 2, 2])\n",
      "torch.Size([128, 2, 2])\n",
      "torch.Size([128, 2, 2])\n",
      "torch.Size([128, 2, 2])\n",
      "torch.Size([128, 2, 2])\n",
      "torch.Size([128, 2, 2])\n",
      "torch.Size([128, 2, 2])\n",
      "torch.Size([128, 2, 2])\n",
      "torch.Size([128, 2, 2])\n",
      "torch.Size([128, 2, 2])\n",
      "torch.Size([128, 2, 2])\n",
      "torch.Size([128, 2, 2])\n",
      "torch.Size([128, 2, 2])\n",
      "torch.Size([128, 2, 2])\n",
      "torch.Size([128, 2, 2])\n",
      "torch.Size([128, 2, 2])\n",
      "torch.Size([128, 2, 2])\n",
      "torch.Size([128, 2, 2])\n",
      "torch.Size([128, 2, 2])\n",
      "torch.Size([128, 2, 2])\n",
      "torch.Size([128, 2, 2])\n",
      "torch.Size([128, 2, 2])\n",
      "torch.Size([128, 2, 2])\n",
      "torch.Size([128, 2, 2])\n",
      "torch.Size([128, 2, 2])\n",
      "torch.Size([128, 2, 2])\n",
      "torch.Size([128, 2, 2])\n",
      "torch.Size([128, 2, 2])\n",
      "torch.Size([128, 2, 2])\n",
      "torch.Size([128, 2, 2])\n",
      "torch.Size([128, 2, 2])\n",
      "torch.Size([128, 2, 2])\n",
      "torch.Size([128, 2, 2])\n",
      "torch.Size([128, 2, 2])\n",
      "torch.Size([128, 2, 2])\n",
      "torch.Size([128, 2, 2])\n",
      "torch.Size([128, 2, 2])\n",
      "torch.Size([128, 2, 2])\n",
      "torch.Size([128, 2, 2])\n",
      "torch.Size([128, 2, 2])\n",
      "torch.Size([128, 2, 2])\n",
      "torch.Size([128, 2, 2])\n",
      "torch.Size([128, 2, 2])\n",
      "torch.Size([128, 2, 2])\n",
      "torch.Size([128, 2, 2])\n",
      "torch.Size([128, 2, 2])\n",
      "torch.Size([128, 2, 2])\n",
      "torch.Size([128, 2, 2])\n",
      "torch.Size([128, 2, 2])\n",
      "torch.Size([128, 2, 2])\n",
      "torch.Size([128, 2, 2])\n",
      "torch.Size([128, 2, 2])\n",
      "torch.Size([128, 2, 2])\n",
      "torch.Size([128, 2, 2])\n",
      "torch.Size([128, 2, 2])\n",
      "torch.Size([128, 2, 2])\n",
      "torch.Size([128, 2, 2])\n",
      "torch.Size([128, 2, 2])"
     ]
    },
    {
     "name": "stderr",
     "output_type": "stream",
     "text": [
      " 38%|█████████████████████████████▋                                                | 950/2494 [00:01<00:03, 511.91it/s]"
     ]
    },
    {
     "name": "stdout",
     "output_type": "stream",
     "text": [
      "\n",
      "torch.Size([128, 2, 2])\n",
      "torch.Size([128, 2, 2])\n",
      "torch.Size([128, 2, 2])\n",
      "torch.Size([128, 2, 2])\n",
      "torch.Size([128, 2, 2])\n",
      "torch.Size([128, 2, 2])\n",
      "torch.Size([128, 2, 2])\n",
      "torch.Size([128, 2, 2])\n",
      "torch.Size([128, 2, 2])\n",
      "torch.Size([128, 2, 2])\n",
      "torch.Size([128, 2, 2])\n",
      "torch.Size([128, 2, 2])\n",
      "torch.Size([128, 2, 2])\n",
      "torch.Size([128, 2, 2])\n",
      "torch.Size([128, 2, 2])\n",
      "torch.Size([128, 2, 2])\n",
      "torch.Size([128, 2, 2])\n",
      "torch.Size([128, 2, 2])\n",
      "torch.Size([128, 2, 2])\n",
      "torch.Size([128, 2, 2])\n",
      "torch.Size([128, 2, 2])\n",
      "torch.Size([128, 2, 2])\n",
      "torch.Size([128, 2, 2])\n",
      "torch.Size([128, 2, 2])\n",
      "torch.Size([128, 2, 2])\n",
      "torch.Size([128, 2, 2])\n",
      "torch.Size([128, 2, 2])\n",
      "torch.Size([128, 2, 2])\n",
      "torch.Size([128, 2, 2])\n",
      "torch.Size([128, 2, 2])\n",
      "torch.Size([128, 2, 2])\n",
      "torch.Size([128, 2, 2])\n",
      "torch.Size([128, 2, 2])\n",
      "torch.Size([128, 2, 2])\n",
      "torch.Size([128, 2, 2])\n",
      "torch.Size([128, 2, 2])\n",
      "torch.Size([128, 2, 2])\n",
      "torch.Size([128, 2, 2])\n",
      "torch.Size([128, 2, 2])\n",
      "torch.Size([128, 2, 2])\n",
      "torch.Size([128, 2, 2])\n",
      "torch.Size([128, 2, 2])\n",
      "torch.Size([128, 2, 2])\n",
      "torch.Size([128, 2, 2])\n",
      "torch.Size([128, 2, 2])\n",
      "torch.Size([128, 2, 2])\n",
      "torch.Size([128, 2, 2])\n",
      "torch.Size([128, 2, 2])\n",
      "torch.Size([128, 2, 2])\n",
      "torch.Size([128, 2, 2])\n",
      "torch.Size([128, 2, 2])\n",
      "torch.Size([128, 2, 2])\n",
      "torch.Size([128, 2, 2])\n",
      "torch.Size([128, 2, 2])\n",
      "torch.Size([128, 2, 2])\n",
      "torch.Size([128, 2, 2])\n",
      "torch.Size([128, 2, 2])\n",
      "torch.Size([128, 2, 2])\n",
      "torch.Size([128, 2, 2])\n",
      "torch.Size([128, 2, 2])\n",
      "torch.Size([128, 2, 2])\n",
      "torch.Size([128, 2, 2])\n",
      "torch.Size([128, 2, 2])\n",
      "torch.Size([128, 2, 2])\n",
      "torch.Size([128, 2, 2])\n",
      "torch.Size([128, 2, 2])\n",
      "torch.Size([128, 2, 2])\n",
      "torch.Size([128, 2, 2])\n",
      "torch.Size([128, 2, 2])\n",
      "torch.Size([128, 2, 2])\n",
      "torch.Size([128, 2, 2])\n",
      "torch.Size([128, 2, 2])\n",
      "torch.Size([128, 2, 2])\n",
      "torch.Size([128, 2, 2])\n",
      "torch.Size([128, 2, 2])\n",
      "torch.Size([128, 2, 2])\n",
      "torch.Size([128, 2, 2])\n",
      "torch.Size([128, 2, 2])\n",
      "torch.Size([128, 2, 2])\n",
      "torch.Size([128, 2, 2])\n",
      "torch.Size([128, 2, 2])\n",
      "torch.Size([128, 2, 2])\n",
      "torch.Size([128, 2, 2])\n",
      "torch.Size([128, 2, 2])\n",
      "torch.Size([128, 2, 2])\n",
      "torch.Size([128, 2, 2])\n",
      "torch.Size([128, 2, 2])\n",
      "torch.Size([128, 2, 2])\n",
      "torch.Size([128, 2, 2])\n",
      "torch.Size([128, 2, 2])\n",
      "torch.Size([128, 2, 2])\n",
      "torch.Size([128, 2, 2])\n",
      "torch.Size([128, 2, 2])\n",
      "torch.Size([128, 2, 2])"
     ]
    },
    {
     "name": "stderr",
     "output_type": "stream",
     "text": [
      " 42%|████████████████████████████████▌                                            | 1054/2494 [00:02<00:02, 510.05it/s]"
     ]
    },
    {
     "name": "stdout",
     "output_type": "stream",
     "text": [
      "\n",
      "torch.Size([128, 2, 2])\n",
      "torch.Size([128, 2, 2])\n",
      "torch.Size([128, 2, 2])\n",
      "torch.Size([128, 2, 2])\n",
      "torch.Size([128, 2, 2])\n",
      "torch.Size([128, 2, 2])\n",
      "torch.Size([128, 2, 2])\n",
      "torch.Size([128, 2, 2])\n",
      "torch.Size([128, 2, 2])\n",
      "torch.Size([128, 2, 2])\n",
      "torch.Size([128, 2, 2])\n",
      "torch.Size([128, 2, 2])\n",
      "torch.Size([128, 2, 2])\n",
      "torch.Size([128, 2, 2])\n",
      "torch.Size([128, 2, 2])\n",
      "torch.Size([128, 2, 2])\n",
      "torch.Size([128, 2, 2])\n",
      "torch.Size([128, 2, 2])\n",
      "torch.Size([128, 2, 2])\n",
      "torch.Size([128, 2, 2])\n",
      "torch.Size([128, 2, 2])\n",
      "torch.Size([128, 2, 2])\n",
      "torch.Size([128, 2, 2])\n",
      "torch.Size([128, 2, 2])\n",
      "torch.Size([128, 2, 2])\n",
      "torch.Size([128, 2, 2])\n",
      "torch.Size([128, 2, 2])\n",
      "torch.Size([128, 2, 2])\n",
      "torch.Size([128, 2, 2])\n",
      "torch.Size([128, 2, 2])\n",
      "torch.Size([128, 2, 2])\n",
      "torch.Size([128, 2, 2])\n",
      "torch.Size([128, 2, 2])\n",
      "torch.Size([128, 2, 2])\n",
      "torch.Size([128, 2, 2])\n",
      "torch.Size([128, 2, 2])\n",
      "torch.Size([128, 2, 2])\n",
      "torch.Size([128, 2, 2])\n",
      "torch.Size([128, 2, 2])\n",
      "torch.Size([128, 2, 2])\n",
      "torch.Size([128, 2, 2])\n",
      "torch.Size([128, 2, 2])\n",
      "torch.Size([128, 2, 2])\n",
      "torch.Size([128, 2, 2])\n",
      "torch.Size([128, 2, 2])\n",
      "torch.Size([128, 2, 2])\n",
      "torch.Size([128, 2, 2])\n",
      "torch.Size([128, 2, 2])\n",
      "torch.Size([128, 2, 2])\n",
      "torch.Size([128, 2, 2])\n",
      "torch.Size([128, 2, 2])\n",
      "torch.Size([128, 2, 2])\n",
      "torch.Size([128, 2, 2])\n",
      "torch.Size([128, 2, 2])\n",
      "torch.Size([128, 2, 2])\n",
      "torch.Size([128, 2, 2])\n",
      "torch.Size([128, 2, 2])\n",
      "torch.Size([128, 2, 2])\n",
      "torch.Size([128, 2, 2])\n",
      "torch.Size([128, 2, 2])\n",
      "torch.Size([128, 2, 2])\n",
      "torch.Size([128, 2, 2])\n",
      "torch.Size([128, 2, 2])\n",
      "torch.Size([128, 2, 2])\n",
      "torch.Size([128, 2, 2])\n",
      "torch.Size([128, 2, 2])\n",
      "torch.Size([128, 2, 2])\n",
      "torch.Size([128, 2, 2])\n",
      "torch.Size([128, 2, 2])\n",
      "torch.Size([128, 2, 2])\n",
      "torch.Size([128, 2, 2])\n",
      "torch.Size([128, 2, 2])\n",
      "torch.Size([128, 2, 2])\n",
      "torch.Size([128, 2, 2])\n",
      "torch.Size([128, 2, 2])\n",
      "torch.Size([128, 2, 2])\n",
      "torch.Size([128, 2, 2])\n",
      "torch.Size([128, 2, 2])\n",
      "torch.Size([128, 2, 2])\n",
      "torch.Size([128, 2, 2])\n",
      "torch.Size([128, 2, 2])\n",
      "torch.Size([128, 2, 2])\n",
      "torch.Size([128, 2, 2])\n",
      "torch.Size([128, 2, 2])\n",
      "torch.Size([128, 2, 2])\n",
      "torch.Size([128, 2, 2])\n",
      "torch.Size([128, 2, 2])\n",
      "torch.Size([128, 2, 2])\n",
      "torch.Size([128, 2, 2])\n",
      "torch.Size([128, 2, 2])\n",
      "torch.Size([128, 2, 2])\n",
      "torch.Size([128, 2, 2])\n",
      "torch.Size([128, 2, 2])\n",
      "torch.Size([128, 2, 2])\n",
      "torch.Size([128, 2, 2])"
     ]
    },
    {
     "name": "stderr",
     "output_type": "stream",
     "text": [
      " 47%|███████████████████████████████████▊                                         | 1161/2494 [00:02<00:02, 518.00it/s]"
     ]
    },
    {
     "name": "stdout",
     "output_type": "stream",
     "text": [
      "\n",
      "torch.Size([128, 2, 2])\n",
      "torch.Size([128, 2, 2])\n",
      "torch.Size([128, 2, 2])\n",
      "torch.Size([128, 2, 2])\n",
      "torch.Size([128, 2, 2])\n",
      "torch.Size([128, 2, 2])\n",
      "torch.Size([128, 2, 2])\n",
      "torch.Size([128, 2, 2])\n",
      "torch.Size([128, 2, 2])\n",
      "torch.Size([128, 2, 2])\n",
      "torch.Size([128, 2, 2])\n",
      "torch.Size([128, 2, 2])\n",
      "torch.Size([128, 2, 2])\n",
      "torch.Size([128, 2, 2])\n",
      "torch.Size([128, 2, 2])\n",
      "torch.Size([128, 2, 2])\n",
      "torch.Size([128, 2, 2])\n",
      "torch.Size([128, 2, 2])\n",
      "torch.Size([128, 2, 2])\n",
      "torch.Size([128, 2, 2])\n",
      "torch.Size([128, 2, 2])\n",
      "torch.Size([128, 2, 2])\n",
      "torch.Size([128, 2, 2])\n",
      "torch.Size([128, 2, 2])\n",
      "torch.Size([128, 2, 2])\n",
      "torch.Size([128, 2, 2])\n",
      "torch.Size([128, 2, 2])\n",
      "torch.Size([128, 2, 2])\n",
      "torch.Size([128, 2, 2])\n",
      "torch.Size([128, 2, 2])\n",
      "torch.Size([128, 2, 2])\n",
      "torch.Size([128, 2, 2])\n",
      "torch.Size([128, 2, 2])\n",
      "torch.Size([128, 2, 2])\n",
      "torch.Size([128, 2, 2])\n",
      "torch.Size([128, 2, 2])\n",
      "torch.Size([128, 2, 2])\n",
      "torch.Size([128, 2, 2])\n",
      "torch.Size([128, 2, 2])\n",
      "torch.Size([128, 2, 2])\n",
      "torch.Size([128, 2, 2])\n",
      "torch.Size([128, 2, 2])\n",
      "torch.Size([128, 2, 2])\n",
      "torch.Size([128, 2, 2])\n",
      "torch.Size([128, 2, 2])\n",
      "torch.Size([128, 2, 2])\n",
      "torch.Size([128, 2, 2])\n",
      "torch.Size([128, 2, 2])\n",
      "torch.Size([128, 2, 2])\n",
      "torch.Size([128, 2, 2])\n",
      "torch.Size([128, 2, 2])\n",
      "torch.Size([128, 2, 2])\n",
      "torch.Size([128, 2, 2])\n",
      "torch.Size([128, 2, 2])\n",
      "torch.Size([128, 2, 2])\n",
      "torch.Size([128, 2, 2])\n",
      "torch.Size([128, 2, 2])\n",
      "torch.Size([128, 2, 2])\n",
      "torch.Size([128, 2, 2])\n",
      "torch.Size([128, 2, 2])\n",
      "torch.Size([128, 2, 2])\n",
      "torch.Size([128, 2, 2])\n",
      "torch.Size([128, 2, 2])\n",
      "torch.Size([128, 2, 2])\n",
      "torch.Size([128, 2, 2])\n",
      "torch.Size([128, 2, 2])\n",
      "torch.Size([128, 2, 2])\n",
      "torch.Size([128, 2, 2])\n",
      "torch.Size([128, 2, 2])\n",
      "torch.Size([128, 2, 2])\n",
      "torch.Size([128, 2, 2])\n",
      "torch.Size([128, 2, 2])\n",
      "torch.Size([128, 2, 2])\n",
      "torch.Size([128, 2, 2])\n",
      "torch.Size([128, 2, 2])\n",
      "torch.Size([128, 2, 2])\n",
      "torch.Size([128, 2, 2])\n",
      "torch.Size([128, 2, 2])\n",
      "torch.Size([128, 2, 2])\n",
      "torch.Size([128, 2, 2])\n",
      "torch.Size([128, 2, 2])\n",
      "torch.Size([128, 2, 2])\n",
      "torch.Size([128, 2, 2])\n",
      "torch.Size([128, 2, 2])\n",
      "torch.Size([128, 2, 2])\n",
      "torch.Size([128, 2, 2])\n",
      "torch.Size([128, 2, 2])\n",
      "torch.Size([128, 2, 2])\n",
      "torch.Size([128, 2, 2])\n",
      "torch.Size([128, 2, 2])\n",
      "torch.Size([128, 2, 2])\n",
      "torch.Size([128, 2, 2])\n",
      "torch.Size([128, 2, 2])\n",
      "torch.Size([128, 2, 2])\n",
      "torch.Size([128, 2, 2])\n",
      "torch.Size([128, 2, 2])\n",
      "torch.Size([128, 2, 2])\n",
      "torch.Size([128, 2, 2])\n",
      "torch.Size([128, 2, 2])"
     ]
    },
    {
     "name": "stderr",
     "output_type": "stream",
     "text": [
      "\r",
      " 49%|█████████████████████████████████████▍                                       | 1214/2494 [00:02<00:02, 520.16it/s]"
     ]
    },
    {
     "name": "stdout",
     "output_type": "stream",
     "text": [
      "\n",
      "torch.Size([128, 2, 2])\n",
      "torch.Size([128, 2, 2])\n",
      "torch.Size([128, 2, 2])\n",
      "torch.Size([128, 2, 2])\n",
      "torch.Size([128, 2, 2])\n",
      "torch.Size([128, 2, 2])\n",
      "torch.Size([128, 2, 2])\n",
      "torch.Size([128, 2, 2])\n",
      "torch.Size([128, 2, 2])\n",
      "torch.Size([128, 2, 2])\n",
      "torch.Size([128, 2, 2])\n",
      "torch.Size([128, 2, 2])\n",
      "torch.Size([128, 2, 2])\n",
      "torch.Size([128, 2, 2])\n",
      "torch.Size([128, 2, 2])\n",
      "torch.Size([128, 2, 2])\n",
      "torch.Size([128, 2, 2])\n",
      "torch.Size([128, 2, 2])\n",
      "torch.Size([128, 2, 2])\n",
      "torch.Size([128, 2, 2])\n",
      "torch.Size([128, 2, 2])\n",
      "torch.Size([128, 2, 2])\n",
      "torch.Size([128, 2, 2])\n",
      "torch.Size([128, 2, 2])\n",
      "torch.Size([128, 2, 2])\n",
      "torch.Size([128, 2, 2])\n",
      "torch.Size([128, 2, 2])\n",
      "torch.Size([128, 2, 2])\n",
      "torch.Size([128, 2, 2])\n",
      "torch.Size([128, 2, 2])\n",
      "torch.Size([128, 2, 2])\n",
      "torch.Size([128, 2, 2])\n",
      "torch.Size([128, 2, 2])\n",
      "torch.Size([128, 2, 2])\n",
      "torch.Size([128, 2, 2])\n",
      "torch.Size([128, 2, 2])\n",
      "torch.Size([128, 2, 2])\n",
      "torch.Size([128, 2, 2])\n",
      "torch.Size([128, 2, 2])\n",
      "torch.Size([128, 2, 2])\n",
      "torch.Size([128, 2, 2])\n",
      "torch.Size([128, 2, 2])\n",
      "torch.Size([128, 2, 2])\n",
      "torch.Size([128, 2, 2])\n",
      "torch.Size([128, 2, 2])\n",
      "torch.Size([128, 2, 2])\n",
      "torch.Size([128, 2, 2])\n",
      "torch.Size([128, 2, 2])\n",
      "torch.Size([128, 2, 2])\n",
      "torch.Size([128, 2, 2])\n",
      "torch.Size([128, 2, 2])\n",
      "torch.Size([128, 2, 2])\n",
      "torch.Size([128, 2, 2])\n",
      "torch.Size([128, 2, 2])\n",
      "torch.Size([128, 2, 2])\n",
      "torch.Size([128, 2, 2])\n",
      "torch.Size([128, 2, 2])\n",
      "torch.Size([128, 2, 2])\n",
      "torch.Size([128, 2, 2])\n",
      "torch.Size([128, 2, 2])\n",
      "torch.Size([128, 2, 2])\n",
      "torch.Size([128, 2, 2])\n",
      "torch.Size([128, 2, 2])\n",
      "torch.Size([128, 2, 2])\n",
      "torch.Size([128, 2, 2])\n",
      "torch.Size([128, 2, 2])\n",
      "torch.Size([128, 2, 2])\n",
      "torch.Size([128, 2, 2])\n",
      "torch.Size([128, 2, 2])\n",
      "torch.Size([128, 2, 2])\n",
      "torch.Size([128, 2, 2])\n",
      "torch.Size([128, 2, 2])\n",
      "torch.Size([128, 2, 2])\n",
      "torch.Size([128, 2, 2])\n",
      "torch.Size([128, 2, 2])\n",
      "torch.Size([128, 2, 2])\n",
      "torch.Size([128, 2, 2])\n",
      "torch.Size([128, 2, 2])\n",
      "torch.Size([128, 2, 2])\n",
      "torch.Size([128, 2, 2])\n",
      "torch.Size([128, 2, 2])\n",
      "torch.Size([128, 2, 2])\n",
      "torch.Size([128, 2, 2])\n",
      "torch.Size([128, 2, 2])\n",
      "torch.Size([128, 2, 2])\n",
      "torch.Size([128, 2, 2])\n",
      "torch.Size([128, 2, 2])\n",
      "torch.Size([128, 2, 2])\n",
      "torch.Size([128, 2, 2])\n",
      "torch.Size([128, 2, 2])\n",
      "torch.Size([128, 2, 2])\n",
      "torch.Size([128, 2, 2])\n",
      "torch.Size([128, 2, 2])\n",
      "torch.Size([128, 2, 2])\n",
      "torch.Size([128, 2, 2])\n",
      "torch.Size([128, 2, 2])\n",
      "torch.Size([128, 2, 2])\n",
      "torch.Size([128, 2, 2])"
     ]
    },
    {
     "name": "stderr",
     "output_type": "stream",
     "text": [
      " 53%|████████████████████████████████████████▊                                    | 1321/2494 [00:02<00:02, 520.90it/s]"
     ]
    },
    {
     "name": "stdout",
     "output_type": "stream",
     "text": [
      "\n",
      "torch.Size([128, 2, 2])\n",
      "torch.Size([128, 2, 2])\n",
      "torch.Size([128, 2, 2])\n",
      "torch.Size([128, 2, 2])\n",
      "torch.Size([128, 2, 2])\n",
      "torch.Size([128, 2, 2])\n",
      "torch.Size([128, 2, 2])\n",
      "torch.Size([128, 2, 2])\n",
      "torch.Size([128, 2, 2])\n",
      "torch.Size([128, 2, 2])\n",
      "torch.Size([128, 2, 2])\n",
      "torch.Size([128, 2, 2])\n",
      "torch.Size([128, 2, 2])\n",
      "torch.Size([128, 2, 2])\n",
      "torch.Size([128, 2, 2])\n",
      "torch.Size([128, 2, 2])\n",
      "torch.Size([128, 2, 2])\n",
      "torch.Size([128, 2, 2])\n",
      "torch.Size([128, 2, 2])\n",
      "torch.Size([128, 2, 2])\n",
      "torch.Size([128, 2, 2])\n",
      "torch.Size([128, 2, 2])\n",
      "torch.Size([128, 2, 2])\n",
      "torch.Size([128, 2, 2])\n",
      "torch.Size([128, 2, 2])\n",
      "torch.Size([128, 2, 2])\n",
      "torch.Size([128, 2, 2])\n",
      "torch.Size([128, 2, 2])\n",
      "torch.Size([128, 2, 2])\n",
      "torch.Size([128, 2, 2])\n",
      "torch.Size([128, 2, 2])\n",
      "torch.Size([128, 2, 2])\n",
      "torch.Size([128, 2, 2])\n",
      "torch.Size([128, 2, 2])\n",
      "torch.Size([128, 2, 2])\n",
      "torch.Size([128, 2, 2])\n",
      "torch.Size([128, 2, 2])\n",
      "torch.Size([128, 2, 2])\n",
      "torch.Size([128, 2, 2])\n",
      "torch.Size([128, 2, 2])\n",
      "torch.Size([128, 2, 2])\n",
      "torch.Size([128, 2, 2])\n",
      "torch.Size([128, 2, 2])\n",
      "torch.Size([128, 2, 2])\n",
      "torch.Size([128, 2, 2])\n",
      "torch.Size([128, 2, 2])\n",
      "torch.Size([128, 2, 2])\n",
      "torch.Size([128, 2, 2])\n",
      "torch.Size([128, 2, 2])\n",
      "torch.Size([128, 2, 2])\n",
      "torch.Size([128, 2, 2])\n",
      "torch.Size([128, 2, 2])\n",
      "torch.Size([128, 2, 2])\n",
      "torch.Size([128, 2, 2])\n",
      "torch.Size([128, 2, 2])\n",
      "torch.Size([128, 2, 2])\n",
      "torch.Size([128, 2, 2])\n",
      "torch.Size([128, 2, 2])\n",
      "torch.Size([128, 2, 2])\n",
      "torch.Size([128, 2, 2])\n",
      "torch.Size([128, 2, 2])\n",
      "torch.Size([128, 2, 2])\n",
      "torch.Size([128, 2, 2])\n",
      "torch.Size([128, 2, 2])\n",
      "torch.Size([128, 2, 2])\n",
      "torch.Size([128, 2, 2])\n",
      "torch.Size([128, 2, 2])\n",
      "torch.Size([128, 2, 2])\n",
      "torch.Size([128, 2, 2])\n",
      "torch.Size([128, 2, 2])\n",
      "torch.Size([128, 2, 2])\n",
      "torch.Size([128, 2, 2])\n",
      "torch.Size([128, 2, 2])\n",
      "torch.Size([128, 2, 2])\n",
      "torch.Size([128, 2, 2])\n",
      "torch.Size([128, 2, 2])\n",
      "torch.Size([128, 2, 2])\n",
      "torch.Size([128, 2, 2])\n",
      "torch.Size([128, 2, 2])\n",
      "torch.Size([128, 2, 2])\n",
      "torch.Size([128, 2, 2])\n",
      "torch.Size([128, 2, 2])\n",
      "torch.Size([128, 2, 2])\n",
      "torch.Size([128, 2, 2])\n",
      "torch.Size([128, 2, 2])\n",
      "torch.Size([128, 2, 2])\n",
      "torch.Size([128, 2, 2])\n",
      "torch.Size([128, 2, 2])\n",
      "torch.Size([128, 2, 2])\n",
      "torch.Size([128, 2, 2])\n",
      "torch.Size([128, 2, 2])\n",
      "torch.Size([128, 2, 2])\n",
      "torch.Size([128, 2, 2])\n",
      "torch.Size([128, 2, 2])\n",
      "torch.Size([128, 2, 2])\n",
      "torch.Size([128, 2, 2])\n",
      "torch.Size([128, 2, 2])"
     ]
    },
    {
     "name": "stderr",
     "output_type": "stream",
     "text": [
      " 57%|████████████████████████████████████████████                                 | 1426/2494 [00:02<00:02, 515.41it/s]"
     ]
    },
    {
     "name": "stdout",
     "output_type": "stream",
     "text": [
      "\n",
      "torch.Size([128, 2, 2])\n",
      "torch.Size([128, 2, 2])\n",
      "torch.Size([128, 2, 2])\n",
      "torch.Size([128, 2, 2])\n",
      "torch.Size([128, 2, 2])\n",
      "torch.Size([128, 2, 2])\n",
      "torch.Size([128, 2, 2])\n",
      "torch.Size([128, 2, 2])\n",
      "torch.Size([128, 2, 2])\n",
      "torch.Size([128, 2, 2])\n",
      "torch.Size([128, 2, 2])\n",
      "torch.Size([128, 2, 2])\n",
      "torch.Size([128, 2, 2])\n",
      "torch.Size([128, 2, 2])\n",
      "torch.Size([128, 2, 2])\n",
      "torch.Size([128, 2, 2])\n",
      "torch.Size([128, 2, 2])\n",
      "torch.Size([128, 2, 2])\n",
      "torch.Size([128, 2, 2])\n",
      "torch.Size([128, 2, 2])\n",
      "torch.Size([128, 2, 2])\n",
      "torch.Size([128, 2, 2])\n",
      "torch.Size([128, 2, 2])\n",
      "torch.Size([128, 2, 2])\n",
      "torch.Size([128, 2, 2])\n",
      "torch.Size([128, 2, 2])\n",
      "torch.Size([128, 2, 2])\n",
      "torch.Size([128, 2, 2])\n",
      "torch.Size([128, 2, 2])\n",
      "torch.Size([128, 2, 2])\n",
      "torch.Size([128, 2, 2])\n",
      "torch.Size([128, 2, 2])\n",
      "torch.Size([128, 2, 2])\n",
      "torch.Size([128, 2, 2])\n",
      "torch.Size([128, 2, 2])\n",
      "torch.Size([128, 2, 2])\n",
      "torch.Size([128, 2, 2])\n",
      "torch.Size([128, 2, 2])\n",
      "torch.Size([128, 2, 2])\n",
      "torch.Size([128, 2, 2])\n",
      "torch.Size([128, 2, 2])\n",
      "torch.Size([128, 2, 2])\n",
      "torch.Size([128, 2, 2])\n",
      "torch.Size([128, 2, 2])\n",
      "torch.Size([128, 2, 2])\n",
      "torch.Size([128, 2, 2])\n",
      "torch.Size([128, 2, 2])\n",
      "torch.Size([128, 2, 2])\n",
      "torch.Size([128, 2, 2])\n",
      "torch.Size([128, 2, 2])\n",
      "torch.Size([128, 2, 2])\n",
      "torch.Size([128, 2, 2])\n",
      "torch.Size([128, 2, 2])\n",
      "torch.Size([128, 2, 2])\n",
      "torch.Size([128, 2, 2])\n",
      "torch.Size([128, 2, 2])\n",
      "torch.Size([128, 2, 2])\n",
      "torch.Size([128, 2, 2])\n",
      "torch.Size([128, 2, 2])\n",
      "torch.Size([128, 2, 2])\n",
      "torch.Size([128, 2, 2])\n",
      "torch.Size([128, 2, 2])\n",
      "torch.Size([128, 2, 2])\n",
      "torch.Size([128, 2, 2])\n",
      "torch.Size([128, 2, 2])\n",
      "torch.Size([128, 2, 2])\n",
      "torch.Size([128, 2, 2])\n",
      "torch.Size([128, 2, 2])\n",
      "torch.Size([128, 2, 2])\n",
      "torch.Size([128, 2, 2])\n",
      "torch.Size([128, 2, 2])\n",
      "torch.Size([128, 2, 2])\n",
      "torch.Size([128, 2, 2])\n",
      "torch.Size([128, 2, 2])\n",
      "torch.Size([128, 2, 2])\n",
      "torch.Size([128, 2, 2])\n",
      "torch.Size([128, 2, 2])\n",
      "torch.Size([128, 2, 2])\n",
      "torch.Size([128, 2, 2])\n",
      "torch.Size([128, 2, 2])\n",
      "torch.Size([128, 2, 2])\n",
      "torch.Size([128, 2, 2])\n",
      "torch.Size([128, 2, 2])\n",
      "torch.Size([128, 2, 2])\n",
      "torch.Size([128, 2, 2])\n",
      "torch.Size([128, 2, 2])\n",
      "torch.Size([128, 2, 2])\n",
      "torch.Size([128, 2, 2])\n",
      "torch.Size([128, 2, 2])\n",
      "torch.Size([128, 2, 2])\n",
      "torch.Size([128, 2, 2])\n",
      "torch.Size([128, 2, 2])\n",
      "torch.Size([128, 2, 2])\n",
      "torch.Size([128, 2, 2])\n",
      "torch.Size([128, 2, 2])\n",
      "torch.Size([128, 2, 2])\n",
      "torch.Size([128, 2, 2])"
     ]
    },
    {
     "name": "stderr",
     "output_type": "stream",
     "text": [
      " 62%|███████████████████████████████████████████████▎                             | 1534/2494 [00:02<00:01, 524.25it/s]"
     ]
    },
    {
     "name": "stdout",
     "output_type": "stream",
     "text": [
      "\n",
      "torch.Size([128, 2, 2])\n",
      "torch.Size([128, 2, 2])\n",
      "torch.Size([128, 2, 2])\n",
      "torch.Size([128, 2, 2])\n",
      "torch.Size([128, 2, 2])\n",
      "torch.Size([128, 2, 2])\n",
      "torch.Size([128, 2, 2])\n",
      "torch.Size([128, 2, 2])\n",
      "torch.Size([128, 2, 2])\n",
      "torch.Size([128, 2, 2])\n",
      "torch.Size([128, 2, 2])\n",
      "torch.Size([128, 2, 2])\n",
      "torch.Size([128, 2, 2])\n",
      "torch.Size([128, 2, 2])\n",
      "torch.Size([128, 2, 2])\n",
      "torch.Size([128, 2, 2])\n",
      "torch.Size([128, 2, 2])\n",
      "torch.Size([128, 2, 2])\n",
      "torch.Size([128, 2, 2])\n",
      "torch.Size([128, 2, 2])\n",
      "torch.Size([128, 2, 2])\n",
      "torch.Size([128, 2, 2])\n",
      "torch.Size([128, 2, 2])\n",
      "torch.Size([128, 2, 2])\n",
      "torch.Size([128, 2, 2])\n",
      "torch.Size([128, 2, 2])\n",
      "torch.Size([128, 2, 2])\n",
      "torch.Size([128, 2, 2])\n",
      "torch.Size([128, 2, 2])\n",
      "torch.Size([128, 2, 2])\n",
      "torch.Size([128, 2, 2])\n",
      "torch.Size([128, 2, 2])\n",
      "torch.Size([128, 2, 2])\n",
      "torch.Size([128, 2, 2])\n",
      "torch.Size([128, 2, 2])\n",
      "torch.Size([128, 2, 2])\n",
      "torch.Size([128, 2, 2])\n",
      "torch.Size([128, 2, 2])\n",
      "torch.Size([128, 2, 2])\n",
      "torch.Size([128, 2, 2])\n",
      "torch.Size([128, 2, 2])\n",
      "torch.Size([128, 2, 2])\n",
      "torch.Size([128, 2, 2])\n",
      "torch.Size([128, 2, 2])\n",
      "torch.Size([128, 2, 2])\n",
      "torch.Size([128, 2, 2])\n",
      "torch.Size([128, 2, 2])\n",
      "torch.Size([128, 2, 2])\n",
      "torch.Size([128, 2, 2])\n",
      "torch.Size([128, 2, 2])\n",
      "torch.Size([128, 2, 2])\n",
      "torch.Size([128, 2, 2])\n",
      "torch.Size([128, 2, 2])\n",
      "torch.Size([128, 2, 2])\n",
      "torch.Size([128, 2, 2])\n",
      "torch.Size([128, 2, 2])\n",
      "torch.Size([128, 2, 2])\n",
      "torch.Size([128, 2, 2])\n",
      "torch.Size([128, 2, 2])\n",
      "torch.Size([128, 2, 2])\n",
      "torch.Size([128, 2, 2])\n",
      "torch.Size([128, 2, 2])\n",
      "torch.Size([128, 2, 2])\n",
      "torch.Size([128, 2, 2])\n",
      "torch.Size([128, 2, 2])\n",
      "torch.Size([128, 2, 2])\n",
      "torch.Size([128, 2, 2])\n",
      "torch.Size([128, 2, 2])\n",
      "torch.Size([128, 2, 2])\n",
      "torch.Size([128, 2, 2])\n",
      "torch.Size([128, 2, 2])\n",
      "torch.Size([128, 2, 2])\n",
      "torch.Size([128, 2, 2])\n",
      "torch.Size([128, 2, 2])\n",
      "torch.Size([128, 2, 2])\n",
      "torch.Size([128, 2, 2])\n",
      "torch.Size([128, 2, 2])\n",
      "torch.Size([128, 2, 2])\n",
      "torch.Size([128, 2, 2])\n",
      "torch.Size([128, 2, 2])\n",
      "torch.Size([128, 2, 2])\n",
      "torch.Size([128, 2, 2])\n",
      "torch.Size([128, 2, 2])\n",
      "torch.Size([128, 2, 2])\n",
      "torch.Size([128, 2, 2])\n",
      "torch.Size([128, 2, 2])\n",
      "torch.Size([128, 2, 2])\n",
      "torch.Size([128, 2, 2])\n",
      "torch.Size([128, 2, 2])\n",
      "torch.Size([128, 2, 2])\n",
      "torch.Size([128, 2, 2])\n",
      "torch.Size([128, 2, 2])\n",
      "torch.Size([128, 2, 2])\n",
      "torch.Size([128, 2, 2])\n",
      "torch.Size([128, 2, 2])\n",
      "torch.Size([128, 2, 2])\n",
      "torch.Size([128, 2, 2])\n",
      "torch.Size([128, 2, 2])\n",
      "torch.Size([128, 2, 2])\n",
      "torch.Size([128, 2, 2])"
     ]
    },
    {
     "name": "stderr",
     "output_type": "stream",
     "text": [
      " 66%|██████████████████████████████████████████████████▋                          | 1643/2494 [00:03<00:01, 532.65it/s]"
     ]
    },
    {
     "name": "stdout",
     "output_type": "stream",
     "text": [
      "\n",
      "torch.Size([128, 2, 2])\n",
      "torch.Size([128, 2, 2])\n",
      "torch.Size([128, 2, 2])\n",
      "torch.Size([128, 2, 2])\n",
      "torch.Size([128, 2, 2])\n",
      "torch.Size([128, 2, 2])\n",
      "torch.Size([128, 2, 2])\n",
      "torch.Size([128, 2, 2])\n",
      "torch.Size([128, 2, 2])\n",
      "torch.Size([128, 2, 2])\n",
      "torch.Size([128, 2, 2])\n",
      "torch.Size([128, 2, 2])\n",
      "torch.Size([128, 2, 2])\n",
      "torch.Size([128, 2, 2])\n",
      "torch.Size([128, 2, 2])\n",
      "torch.Size([128, 2, 2])\n",
      "torch.Size([128, 2, 2])\n",
      "torch.Size([128, 2, 2])\n",
      "torch.Size([128, 2, 2])\n",
      "torch.Size([128, 2, 2])\n",
      "torch.Size([128, 2, 2])\n",
      "torch.Size([128, 2, 2])\n",
      "torch.Size([128, 2, 2])\n",
      "torch.Size([128, 2, 2])\n",
      "torch.Size([128, 2, 2])\n",
      "torch.Size([128, 2, 2])\n",
      "torch.Size([128, 2, 2])\n",
      "torch.Size([128, 2, 2])\n",
      "torch.Size([128, 2, 2])\n",
      "torch.Size([128, 2, 2])\n",
      "torch.Size([128, 2, 2])\n",
      "torch.Size([128, 2, 2])\n",
      "torch.Size([128, 2, 2])\n",
      "torch.Size([128, 2, 2])\n",
      "torch.Size([128, 2, 2])\n",
      "torch.Size([128, 2, 2])\n",
      "torch.Size([128, 2, 2])\n",
      "torch.Size([128, 2, 2])\n",
      "torch.Size([128, 2, 2])\n",
      "torch.Size([128, 2, 2])\n",
      "torch.Size([128, 2, 2])\n",
      "torch.Size([128, 2, 2])\n",
      "torch.Size([128, 2, 2])\n",
      "torch.Size([128, 2, 2])\n",
      "torch.Size([128, 2, 2])\n",
      "torch.Size([128, 2, 2])\n",
      "torch.Size([128, 2, 2])\n",
      "torch.Size([128, 2, 2])\n",
      "torch.Size([128, 2, 2])\n",
      "torch.Size([128, 2, 2])\n",
      "torch.Size([128, 2, 2])\n",
      "torch.Size([128, 2, 2])\n",
      "torch.Size([128, 2, 2])\n",
      "torch.Size([128, 2, 2])\n",
      "torch.Size([128, 2, 2])\n",
      "torch.Size([128, 2, 2])\n",
      "torch.Size([128, 2, 2])\n",
      "torch.Size([128, 2, 2])\n",
      "torch.Size([128, 2, 2])\n",
      "torch.Size([128, 2, 2])\n",
      "torch.Size([128, 2, 2])\n",
      "torch.Size([128, 2, 2])\n",
      "torch.Size([128, 2, 2])\n",
      "torch.Size([128, 2, 2])\n",
      "torch.Size([128, 2, 2])\n",
      "torch.Size([128, 2, 2])\n",
      "torch.Size([128, 2, 2])\n",
      "torch.Size([128, 2, 2])\n",
      "torch.Size([128, 2, 2])\n",
      "torch.Size([128, 2, 2])\n",
      "torch.Size([128, 2, 2])\n",
      "torch.Size([128, 2, 2])\n",
      "torch.Size([128, 2, 2])\n",
      "torch.Size([128, 2, 2])\n",
      "torch.Size([128, 2, 2])\n",
      "torch.Size([128, 2, 2])\n",
      "torch.Size([128, 2, 2])\n",
      "torch.Size([128, 2, 2])\n",
      "torch.Size([128, 2, 2])\n",
      "torch.Size([128, 2, 2])\n",
      "torch.Size([128, 2, 2])\n",
      "torch.Size([128, 2, 2])\n",
      "torch.Size([128, 2, 2])\n",
      "torch.Size([128, 2, 2])\n",
      "torch.Size([128, 2, 2])\n",
      "torch.Size([128, 2, 2])\n",
      "torch.Size([128, 2, 2])\n",
      "torch.Size([128, 2, 2])\n",
      "torch.Size([128, 2, 2])\n",
      "torch.Size([128, 2, 2])\n",
      "torch.Size([128, 2, 2])\n",
      "torch.Size([128, 2, 2])\n",
      "torch.Size([128, 2, 2])\n",
      "torch.Size([128, 2, 2])\n",
      "torch.Size([128, 2, 2])\n",
      "torch.Size([128, 2, 2])\n",
      "torch.Size([128, 2, 2])\n",
      "torch.Size([128, 2, 2])\n",
      "torch.Size([128, 2, 2])\n",
      "torch.Size([128, 2, 2])\n",
      "torch.Size([128, 2, 2])"
     ]
    },
    {
     "name": "stderr",
     "output_type": "stream",
     "text": [
      " 70%|██████████████████████████████████████████████████████                       | 1751/2494 [00:03<00:01, 530.80it/s]"
     ]
    },
    {
     "name": "stdout",
     "output_type": "stream",
     "text": [
      "\n",
      "torch.Size([128, 2, 2])\n",
      "torch.Size([128, 2, 2])\n",
      "torch.Size([128, 2, 2])\n",
      "torch.Size([128, 2, 2])\n",
      "torch.Size([128, 2, 2])\n",
      "torch.Size([128, 2, 2])\n",
      "torch.Size([128, 2, 2])\n",
      "torch.Size([128, 2, 2])\n",
      "torch.Size([128, 2, 2])\n",
      "torch.Size([128, 2, 2])\n",
      "torch.Size([128, 2, 2])\n",
      "torch.Size([128, 2, 2])\n",
      "torch.Size([128, 2, 2])\n",
      "torch.Size([128, 2, 2])\n",
      "torch.Size([128, 2, 2])\n",
      "torch.Size([128, 2, 2])\n",
      "torch.Size([128, 2, 2])\n",
      "torch.Size([128, 2, 2])\n",
      "torch.Size([128, 2, 2])\n",
      "torch.Size([128, 2, 2])\n",
      "torch.Size([128, 2, 2])\n",
      "torch.Size([128, 2, 2])\n",
      "torch.Size([128, 2, 2])\n",
      "torch.Size([128, 2, 2])\n",
      "torch.Size([128, 2, 2])\n",
      "torch.Size([128, 2, 2])\n",
      "torch.Size([128, 2, 2])\n",
      "torch.Size([128, 2, 2])\n",
      "torch.Size([128, 2, 2])\n",
      "torch.Size([128, 2, 2])\n",
      "torch.Size([128, 2, 2])\n",
      "torch.Size([128, 2, 2])\n",
      "torch.Size([128, 2, 2])\n",
      "torch.Size([128, 2, 2])\n",
      "torch.Size([128, 2, 2])\n",
      "torch.Size([128, 2, 2])\n",
      "torch.Size([128, 2, 2])\n",
      "torch.Size([128, 2, 2])\n",
      "torch.Size([128, 2, 2])\n",
      "torch.Size([128, 2, 2])\n",
      "torch.Size([128, 2, 2])\n",
      "torch.Size([128, 2, 2])\n",
      "torch.Size([128, 2, 2])\n",
      "torch.Size([128, 2, 2])\n",
      "torch.Size([128, 2, 2])\n",
      "torch.Size([128, 2, 2])\n",
      "torch.Size([128, 2, 2])\n",
      "torch.Size([128, 2, 2])\n",
      "torch.Size([128, 2, 2])\n",
      "torch.Size([128, 2, 2])\n",
      "torch.Size([128, 2, 2])\n",
      "torch.Size([128, 2, 2])\n",
      "torch.Size([128, 2, 2])\n",
      "torch.Size([128, 2, 2])\n",
      "torch.Size([128, 2, 2])\n",
      "torch.Size([128, 2, 2])\n",
      "torch.Size([128, 2, 2])\n",
      "torch.Size([128, 2, 2])\n",
      "torch.Size([128, 2, 2])\n",
      "torch.Size([128, 2, 2])\n",
      "torch.Size([128, 2, 2])\n",
      "torch.Size([128, 2, 2])\n",
      "torch.Size([128, 2, 2])\n",
      "torch.Size([128, 2, 2])\n",
      "torch.Size([128, 2, 2])\n",
      "torch.Size([128, 2, 2])\n",
      "torch.Size([128, 2, 2])\n",
      "torch.Size([128, 2, 2])\n",
      "torch.Size([128, 2, 2])\n",
      "torch.Size([128, 2, 2])\n",
      "torch.Size([128, 2, 2])\n",
      "torch.Size([128, 2, 2])\n",
      "torch.Size([128, 2, 2])\n",
      "torch.Size([128, 2, 2])\n",
      "torch.Size([128, 2, 2])\n",
      "torch.Size([128, 2, 2])\n",
      "torch.Size([128, 2, 2])\n",
      "torch.Size([128, 2, 2])\n",
      "torch.Size([128, 2, 2])\n",
      "torch.Size([128, 2, 2])\n",
      "torch.Size([128, 2, 2])\n",
      "torch.Size([128, 2, 2])\n",
      "torch.Size([128, 2, 2])\n",
      "torch.Size([128, 2, 2])\n",
      "torch.Size([128, 2, 2])\n",
      "torch.Size([128, 2, 2])\n",
      "torch.Size([128, 2, 2])\n",
      "torch.Size([128, 2, 2])\n",
      "torch.Size([128, 2, 2])\n",
      "torch.Size([128, 2, 2])\n",
      "torch.Size([128, 2, 2])\n",
      "torch.Size([128, 2, 2])\n",
      "torch.Size([128, 2, 2])\n",
      "torch.Size([128, 2, 2])\n",
      "torch.Size([128, 2, 2])\n",
      "torch.Size([128, 2, 2])\n",
      "torch.Size([128, 2, 2])\n",
      "torch.Size([128, 2, 2])\n",
      "torch.Size([128, 2, 2])\n",
      "torch.Size([128, 2, 2])"
     ]
    },
    {
     "name": "stderr",
     "output_type": "stream",
     "text": [
      "\r",
      " 72%|███████████████████████████████████████████████████████▋                     | 1805/2494 [00:03<00:01, 528.99it/s]"
     ]
    },
    {
     "name": "stdout",
     "output_type": "stream",
     "text": [
      "\n",
      "torch.Size([128, 2, 2])\n",
      "torch.Size([128, 2, 2])\n",
      "torch.Size([128, 2, 2])\n",
      "torch.Size([128, 2, 2])\n",
      "torch.Size([128, 2, 2])\n",
      "torch.Size([128, 2, 2])\n",
      "torch.Size([128, 2, 2])\n",
      "torch.Size([128, 2, 2])\n",
      "torch.Size([128, 2, 2])\n",
      "torch.Size([128, 2, 2])\n",
      "torch.Size([128, 2, 2])\n",
      "torch.Size([128, 2, 2])\n",
      "torch.Size([128, 2, 2])\n",
      "torch.Size([128, 2, 2])\n",
      "torch.Size([128, 2, 2])\n",
      "torch.Size([128, 2, 2])\n",
      "torch.Size([128, 2, 2])\n",
      "torch.Size([128, 2, 2])\n",
      "torch.Size([128, 2, 2])\n",
      "torch.Size([128, 2, 2])\n",
      "torch.Size([128, 2, 2])\n",
      "torch.Size([128, 2, 2])\n",
      "torch.Size([128, 2, 2])\n",
      "torch.Size([128, 2, 2])\n",
      "torch.Size([128, 2, 2])\n",
      "torch.Size([128, 2, 2])\n",
      "torch.Size([128, 2, 2])\n",
      "torch.Size([128, 2, 2])\n",
      "torch.Size([128, 2, 2])\n",
      "torch.Size([128, 2, 2])\n",
      "torch.Size([128, 2, 2])\n",
      "torch.Size([128, 2, 2])\n",
      "torch.Size([128, 2, 2])\n",
      "torch.Size([128, 2, 2])\n",
      "torch.Size([128, 2, 2])\n",
      "torch.Size([128, 2, 2])\n",
      "torch.Size([128, 2, 2])\n",
      "torch.Size([128, 2, 2])\n",
      "torch.Size([128, 2, 2])\n",
      "torch.Size([128, 2, 2])\n",
      "torch.Size([128, 2, 2])\n",
      "torch.Size([128, 2, 2])\n",
      "torch.Size([128, 2, 2])\n",
      "torch.Size([128, 2, 2])\n",
      "torch.Size([128, 2, 2])\n",
      "torch.Size([128, 2, 2])\n",
      "torch.Size([128, 2, 2])\n",
      "torch.Size([128, 2, 2])\n",
      "torch.Size([128, 2, 2])\n",
      "torch.Size([128, 2, 2])\n",
      "torch.Size([128, 2, 2])\n",
      "torch.Size([128, 2, 2])\n",
      "torch.Size([128, 2, 2])\n",
      "torch.Size([128, 2, 2])\n",
      "torch.Size([128, 2, 2])\n",
      "torch.Size([128, 2, 2])\n",
      "torch.Size([128, 2, 2])\n",
      "torch.Size([128, 2, 2])\n",
      "torch.Size([128, 2, 2])\n",
      "torch.Size([128, 2, 2])\n",
      "torch.Size([128, 2, 2])\n",
      "torch.Size([128, 2, 2])\n",
      "torch.Size([128, 2, 2])\n",
      "torch.Size([128, 2, 2])\n",
      "torch.Size([128, 2, 2])\n",
      "torch.Size([128, 2, 2])\n",
      "torch.Size([128, 2, 2])\n",
      "torch.Size([128, 2, 2])\n",
      "torch.Size([128, 2, 2])\n",
      "torch.Size([128, 2, 2])\n",
      "torch.Size([128, 2, 2])\n",
      "torch.Size([128, 2, 2])\n",
      "torch.Size([128, 2, 2])\n",
      "torch.Size([128, 2, 2])\n",
      "torch.Size([128, 2, 2])\n",
      "torch.Size([128, 2, 2])\n",
      "torch.Size([128, 2, 2])\n",
      "torch.Size([128, 2, 2])\n",
      "torch.Size([128, 2, 2])\n",
      "torch.Size([128, 2, 2])\n",
      "torch.Size([128, 2, 2])\n",
      "torch.Size([128, 2, 2])\n",
      "torch.Size([128, 2, 2])\n",
      "torch.Size([128, 2, 2])\n",
      "torch.Size([128, 2, 2])\n",
      "torch.Size([128, 2, 2])\n",
      "torch.Size([128, 2, 2])\n",
      "torch.Size([128, 2, 2])\n",
      "torch.Size([128, 2, 2])\n",
      "torch.Size([128, 2, 2])\n",
      "torch.Size([128, 2, 2])\n",
      "torch.Size([128, 2, 2])\n",
      "torch.Size([128, 2, 2])\n",
      "torch.Size([128, 2, 2])\n",
      "torch.Size([128, 2, 2])\n",
      "torch.Size([128, 2, 2])\n",
      "torch.Size([128, 2, 2])\n",
      "torch.Size([128, 2, 2])\n",
      "torch.Size([128, 2, 2])"
     ]
    },
    {
     "name": "stderr",
     "output_type": "stream",
     "text": [
      " 77%|███████████████████████████████████████████████████████████                  | 1912/2494 [00:03<00:01, 526.50it/s]"
     ]
    },
    {
     "name": "stdout",
     "output_type": "stream",
     "text": [
      "\n",
      "torch.Size([128, 2, 2])\n",
      "torch.Size([128, 2, 2])\n",
      "torch.Size([128, 2, 2])\n",
      "torch.Size([128, 2, 2])\n",
      "torch.Size([128, 2, 2])\n",
      "torch.Size([128, 2, 2])\n",
      "torch.Size([128, 2, 2])\n",
      "torch.Size([128, 2, 2])\n",
      "torch.Size([128, 2, 2])\n",
      "torch.Size([128, 2, 2])\n",
      "torch.Size([128, 2, 2])\n",
      "torch.Size([128, 2, 2])\n",
      "torch.Size([128, 2, 2])\n",
      "torch.Size([128, 2, 2])\n",
      "torch.Size([128, 2, 2])\n",
      "torch.Size([128, 2, 2])\n",
      "torch.Size([128, 2, 2])\n",
      "torch.Size([128, 2, 2])\n",
      "torch.Size([128, 2, 2])\n",
      "torch.Size([128, 2, 2])\n",
      "torch.Size([128, 2, 2])\n",
      "torch.Size([128, 2, 2])\n",
      "torch.Size([128, 2, 2])\n",
      "torch.Size([128, 2, 2])\n",
      "torch.Size([128, 2, 2])\n",
      "torch.Size([128, 2, 2])\n",
      "torch.Size([128, 2, 2])\n",
      "torch.Size([128, 2, 2])\n",
      "torch.Size([128, 2, 2])\n",
      "torch.Size([128, 2, 2])\n",
      "torch.Size([128, 2, 2])\n",
      "torch.Size([128, 2, 2])\n",
      "torch.Size([128, 2, 2])\n",
      "torch.Size([128, 2, 2])\n",
      "torch.Size([128, 2, 2])\n",
      "torch.Size([128, 2, 2])\n",
      "torch.Size([128, 2, 2])\n",
      "torch.Size([128, 2, 2])\n",
      "torch.Size([128, 2, 2])\n",
      "torch.Size([128, 2, 2])\n",
      "torch.Size([128, 2, 2])\n",
      "torch.Size([128, 2, 2])\n",
      "torch.Size([128, 2, 2])\n",
      "torch.Size([128, 2, 2])\n",
      "torch.Size([128, 2, 2])\n",
      "torch.Size([128, 2, 2])\n",
      "torch.Size([128, 2, 2])\n",
      "torch.Size([128, 2, 2])\n",
      "torch.Size([128, 2, 2])\n",
      "torch.Size([128, 2, 2])\n",
      "torch.Size([128, 2, 2])\n",
      "torch.Size([128, 2, 2])\n",
      "torch.Size([128, 2, 2])\n",
      "torch.Size([128, 2, 2])\n",
      "torch.Size([128, 2, 2])\n",
      "torch.Size([128, 2, 2])\n",
      "torch.Size([128, 2, 2])\n",
      "torch.Size([128, 2, 2])\n",
      "torch.Size([128, 2, 2])\n",
      "torch.Size([128, 2, 2])\n",
      "torch.Size([128, 2, 2])\n",
      "torch.Size([128, 2, 2])\n",
      "torch.Size([128, 2, 2])\n",
      "torch.Size([128, 2, 2])\n",
      "torch.Size([128, 2, 2])\n",
      "torch.Size([128, 2, 2])\n",
      "torch.Size([128, 2, 2])\n",
      "torch.Size([128, 2, 2])\n",
      "torch.Size([128, 2, 2])\n",
      "torch.Size([128, 2, 2])\n",
      "torch.Size([128, 2, 2])\n",
      "torch.Size([128, 2, 2])\n",
      "torch.Size([128, 2, 2])\n",
      "torch.Size([128, 2, 2])\n",
      "torch.Size([128, 2, 2])\n",
      "torch.Size([128, 2, 2])\n",
      "torch.Size([128, 2, 2])\n",
      "torch.Size([128, 2, 2])\n",
      "torch.Size([128, 2, 2])\n",
      "torch.Size([128, 2, 2])\n",
      "torch.Size([128, 2, 2])\n",
      "torch.Size([128, 2, 2])\n",
      "torch.Size([128, 2, 2])\n",
      "torch.Size([128, 2, 2])\n",
      "torch.Size([128, 2, 2])\n",
      "torch.Size([128, 2, 2])\n",
      "torch.Size([128, 2, 2])\n",
      "torch.Size([128, 2, 2])\n",
      "torch.Size([128, 2, 2])\n",
      "torch.Size([128, 2, 2])\n",
      "torch.Size([128, 2, 2])\n",
      "torch.Size([128, 2, 2])\n",
      "torch.Size([128, 2, 2])\n",
      "torch.Size([128, 2, 2])\n",
      "torch.Size([128, 2, 2])\n",
      "torch.Size([128, 2, 2])"
     ]
    },
    {
     "name": "stderr",
     "output_type": "stream",
     "text": [
      " 81%|██████████████████████████████████████████████████████████████▎              | 2019/2494 [00:03<00:00, 526.62it/s]"
     ]
    },
    {
     "name": "stdout",
     "output_type": "stream",
     "text": [
      "\n",
      "torch.Size([128, 2, 2])\n",
      "torch.Size([128, 2, 2])\n",
      "torch.Size([128, 2, 2])\n",
      "torch.Size([128, 2, 2])\n",
      "torch.Size([128, 2, 2])\n",
      "torch.Size([128, 2, 2])\n",
      "torch.Size([128, 2, 2])\n",
      "torch.Size([128, 2, 2])\n",
      "torch.Size([128, 2, 2])\n",
      "torch.Size([128, 2, 2])\n",
      "torch.Size([128, 2, 2])\n",
      "torch.Size([128, 2, 2])\n",
      "torch.Size([128, 2, 2])\n",
      "torch.Size([128, 2, 2])\n",
      "torch.Size([128, 2, 2])\n",
      "torch.Size([128, 2, 2])\n",
      "torch.Size([128, 2, 2])\n",
      "torch.Size([128, 2, 2])\n",
      "torch.Size([128, 2, 2])\n",
      "torch.Size([128, 2, 2])\n",
      "torch.Size([128, 2, 2])\n",
      "torch.Size([128, 2, 2])\n",
      "torch.Size([128, 2, 2])\n",
      "torch.Size([128, 2, 2])\n",
      "torch.Size([128, 2, 2])\n",
      "torch.Size([128, 2, 2])\n",
      "torch.Size([128, 2, 2])\n",
      "torch.Size([128, 2, 2])\n",
      "torch.Size([128, 2, 2])\n",
      "torch.Size([128, 2, 2])\n",
      "torch.Size([128, 2, 2])\n",
      "torch.Size([128, 2, 2])\n",
      "torch.Size([128, 2, 2])\n",
      "torch.Size([128, 2, 2])\n",
      "torch.Size([128, 2, 2])\n",
      "torch.Size([128, 2, 2])\n",
      "torch.Size([128, 2, 2])\n",
      "torch.Size([128, 2, 2])\n",
      "torch.Size([128, 2, 2])\n",
      "torch.Size([128, 2, 2])\n",
      "torch.Size([128, 2, 2])\n",
      "torch.Size([128, 2, 2])\n",
      "torch.Size([128, 2, 2])\n",
      "torch.Size([128, 2, 2])\n",
      "torch.Size([128, 2, 2])\n",
      "torch.Size([128, 2, 2])\n",
      "torch.Size([128, 2, 2])\n",
      "torch.Size([128, 2, 2])\n",
      "torch.Size([128, 2, 2])\n",
      "torch.Size([128, 2, 2])\n",
      "torch.Size([128, 2, 2])\n",
      "torch.Size([128, 2, 2])\n",
      "torch.Size([128, 2, 2])\n",
      "torch.Size([128, 2, 2])\n",
      "torch.Size([128, 2, 2])\n",
      "torch.Size([128, 2, 2])\n",
      "torch.Size([128, 2, 2])\n",
      "torch.Size([128, 2, 2])\n",
      "torch.Size([128, 2, 2])\n",
      "torch.Size([128, 2, 2])\n",
      "torch.Size([128, 2, 2])\n",
      "torch.Size([128, 2, 2])\n",
      "torch.Size([128, 2, 2])\n",
      "torch.Size([128, 2, 2])\n",
      "torch.Size([128, 2, 2])\n",
      "torch.Size([128, 2, 2])\n",
      "torch.Size([128, 2, 2])\n",
      "torch.Size([128, 2, 2])\n",
      "torch.Size([128, 2, 2])\n",
      "torch.Size([128, 2, 2])\n",
      "torch.Size([128, 2, 2])\n",
      "torch.Size([128, 2, 2])\n",
      "torch.Size([128, 2, 2])\n",
      "torch.Size([128, 2, 2])\n",
      "torch.Size([128, 2, 2])\n",
      "torch.Size([128, 2, 2])\n",
      "torch.Size([128, 2, 2])\n",
      "torch.Size([128, 2, 2])\n",
      "torch.Size([128, 2, 2])\n",
      "torch.Size([128, 2, 2])\n",
      "torch.Size([128, 2, 2])\n",
      "torch.Size([128, 2, 2])\n",
      "torch.Size([128, 2, 2])\n",
      "torch.Size([128, 2, 2])\n",
      "torch.Size([128, 2, 2])\n",
      "torch.Size([128, 2, 2])\n",
      "torch.Size([128, 2, 2])\n",
      "torch.Size([128, 2, 2])\n",
      "torch.Size([128, 2, 2])\n",
      "torch.Size([128, 2, 2])\n",
      "torch.Size([128, 2, 2])\n",
      "torch.Size([128, 2, 2])\n",
      "torch.Size([128, 2, 2])\n",
      "torch.Size([128, 2, 2])\n",
      "torch.Size([128, 2, 2])\n",
      "torch.Size([128, 2, 2])\n",
      "torch.Size([128, 2, 2])\n",
      "torch.Size([128, 2, 2])\n",
      "torch.Size([128, 2, 2])\n",
      "torch.Size([128, 2, 2])\n",
      "torch.Size([128, 2, 2])"
     ]
    },
    {
     "name": "stderr",
     "output_type": "stream",
     "text": [
      " 85%|█████████████████████████████████████████████████████████████████▋           | 2127/2494 [00:04<00:00, 530.96it/s]"
     ]
    },
    {
     "name": "stdout",
     "output_type": "stream",
     "text": [
      "\n",
      "torch.Size([128, 2, 2])\n",
      "torch.Size([128, 2, 2])\n",
      "torch.Size([128, 2, 2])\n",
      "torch.Size([128, 2, 2])\n",
      "torch.Size([128, 2, 2])\n",
      "torch.Size([128, 2, 2])\n",
      "torch.Size([128, 2, 2])\n",
      "torch.Size([128, 2, 2])\n",
      "torch.Size([128, 2, 2])\n",
      "torch.Size([128, 2, 2])\n",
      "torch.Size([128, 2, 2])\n",
      "torch.Size([128, 2, 2])\n",
      "torch.Size([128, 2, 2])\n",
      "torch.Size([128, 2, 2])\n",
      "torch.Size([128, 2, 2])\n",
      "torch.Size([128, 2, 2])\n",
      "torch.Size([128, 2, 2])\n",
      "torch.Size([128, 2, 2])\n",
      "torch.Size([128, 2, 2])\n",
      "torch.Size([128, 2, 2])\n",
      "torch.Size([128, 2, 2])\n",
      "torch.Size([128, 2, 2])\n",
      "torch.Size([128, 2, 2])\n",
      "torch.Size([128, 2, 2])\n",
      "torch.Size([128, 2, 2])\n",
      "torch.Size([128, 2, 2])\n",
      "torch.Size([128, 2, 2])\n",
      "torch.Size([128, 2, 2])\n",
      "torch.Size([128, 2, 2])\n",
      "torch.Size([128, 2, 2])\n",
      "torch.Size([128, 2, 2])\n",
      "torch.Size([128, 2, 2])\n",
      "torch.Size([128, 2, 2])\n",
      "torch.Size([128, 2, 2])\n",
      "torch.Size([128, 2, 2])\n",
      "torch.Size([128, 2, 2])\n",
      "torch.Size([128, 2, 2])\n",
      "torch.Size([128, 2, 2])\n",
      "torch.Size([128, 2, 2])\n",
      "torch.Size([128, 2, 2])\n",
      "torch.Size([128, 2, 2])\n",
      "torch.Size([128, 2, 2])\n",
      "torch.Size([128, 2, 2])\n",
      "torch.Size([128, 2, 2])\n",
      "torch.Size([128, 2, 2])\n",
      "torch.Size([128, 2, 2])\n",
      "torch.Size([128, 2, 2])\n",
      "torch.Size([128, 2, 2])\n",
      "torch.Size([128, 2, 2])\n",
      "torch.Size([128, 2, 2])\n",
      "torch.Size([128, 2, 2])\n",
      "torch.Size([128, 2, 2])\n",
      "torch.Size([128, 2, 2])\n",
      "torch.Size([128, 2, 2])\n",
      "torch.Size([128, 2, 2])\n",
      "torch.Size([128, 2, 2])\n",
      "torch.Size([128, 2, 2])\n",
      "torch.Size([128, 2, 2])\n",
      "torch.Size([128, 2, 2])\n",
      "torch.Size([128, 2, 2])\n",
      "torch.Size([128, 2, 2])\n",
      "torch.Size([128, 2, 2])\n",
      "torch.Size([128, 2, 2])\n",
      "torch.Size([128, 2, 2])\n",
      "torch.Size([128, 2, 2])\n",
      "torch.Size([128, 2, 2])\n",
      "torch.Size([128, 2, 2])\n",
      "torch.Size([128, 2, 2])\n",
      "torch.Size([128, 2, 2])\n",
      "torch.Size([128, 2, 2])\n",
      "torch.Size([128, 2, 2])\n",
      "torch.Size([128, 2, 2])\n",
      "torch.Size([128, 2, 2])\n",
      "torch.Size([128, 2, 2])\n",
      "torch.Size([128, 2, 2])\n",
      "torch.Size([128, 2, 2])\n",
      "torch.Size([128, 2, 2])\n",
      "torch.Size([128, 2, 2])\n",
      "torch.Size([128, 2, 2])\n",
      "torch.Size([128, 2, 2])\n",
      "torch.Size([128, 2, 2])\n",
      "torch.Size([128, 2, 2])\n",
      "torch.Size([128, 2, 2])\n",
      "torch.Size([128, 2, 2])\n",
      "torch.Size([128, 2, 2])\n",
      "torch.Size([128, 2, 2])\n",
      "torch.Size([128, 2, 2])\n",
      "torch.Size([128, 2, 2])\n",
      "torch.Size([128, 2, 2])\n",
      "torch.Size([128, 2, 2])\n",
      "torch.Size([128, 2, 2])\n",
      "torch.Size([128, 2, 2])\n",
      "torch.Size([128, 2, 2])\n",
      "torch.Size([128, 2, 2])\n",
      "torch.Size([128, 2, 2])\n",
      "torch.Size([128, 2, 2])\n",
      "torch.Size([128, 2, 2])\n",
      "torch.Size([128, 2, 2])\n",
      "torch.Size([128, 2, 2])\n",
      "torch.Size([128, 2, 2])"
     ]
    },
    {
     "name": "stderr",
     "output_type": "stream",
     "text": [
      " 90%|████████████████████████████████████████████████████████████████████▉        | 2234/2494 [00:04<00:00, 511.54it/s]"
     ]
    },
    {
     "name": "stdout",
     "output_type": "stream",
     "text": [
      "\n",
      "torch.Size([128, 2, 2])\n",
      "torch.Size([128, 2, 2])\n",
      "torch.Size([128, 2, 2])\n",
      "torch.Size([128, 2, 2])\n",
      "torch.Size([128, 2, 2])\n",
      "torch.Size([128, 2, 2])\n",
      "torch.Size([128, 2, 2])\n",
      "torch.Size([128, 2, 2])\n",
      "torch.Size([128, 2, 2])\n",
      "torch.Size([128, 2, 2])\n",
      "torch.Size([128, 2, 2])\n",
      "torch.Size([128, 2, 2])\n",
      "torch.Size([128, 2, 2])\n",
      "torch.Size([128, 2, 2])\n",
      "torch.Size([128, 2, 2])\n",
      "torch.Size([128, 2, 2])\n",
      "torch.Size([128, 2, 2])\n",
      "torch.Size([128, 2, 2])\n",
      "torch.Size([128, 2, 2])\n",
      "torch.Size([128, 2, 2])\n",
      "torch.Size([128, 2, 2])\n",
      "torch.Size([128, 2, 2])\n",
      "torch.Size([128, 2, 2])\n",
      "torch.Size([128, 2, 2])\n",
      "torch.Size([128, 2, 2])\n",
      "torch.Size([128, 2, 2])\n",
      "torch.Size([128, 2, 2])\n",
      "torch.Size([128, 2, 2])\n",
      "torch.Size([128, 2, 2])\n",
      "torch.Size([128, 2, 2])\n",
      "torch.Size([128, 2, 2])\n",
      "torch.Size([128, 2, 2])\n",
      "torch.Size([128, 2, 2])\n",
      "torch.Size([128, 2, 2])\n",
      "torch.Size([128, 2, 2])\n",
      "torch.Size([128, 2, 2])\n",
      "torch.Size([128, 2, 2])\n",
      "torch.Size([128, 2, 2])\n",
      "torch.Size([128, 2, 2])\n",
      "torch.Size([128, 2, 2])\n",
      "torch.Size([128, 2, 2])\n",
      "torch.Size([128, 2, 2])\n",
      "torch.Size([128, 2, 2])\n",
      "torch.Size([128, 2, 2])\n",
      "torch.Size([128, 2, 2])\n",
      "torch.Size([128, 2, 2])\n",
      "torch.Size([128, 2, 2])\n",
      "torch.Size([128, 2, 2])\n",
      "torch.Size([128, 2, 2])\n",
      "torch.Size([128, 2, 2])\n",
      "torch.Size([128, 2, 2])\n",
      "torch.Size([128, 2, 2])\n",
      "torch.Size([128, 2, 2])\n",
      "torch.Size([128, 2, 2])\n",
      "torch.Size([128, 2, 2])\n",
      "torch.Size([128, 2, 2])\n",
      "torch.Size([128, 2, 2])\n",
      "torch.Size([128, 2, 2])\n",
      "torch.Size([128, 2, 2])\n",
      "torch.Size([128, 2, 2])\n",
      "torch.Size([128, 2, 2])\n",
      "torch.Size([128, 2, 2])\n",
      "torch.Size([128, 2, 2])\n",
      "torch.Size([128, 2, 2])\n",
      "torch.Size([128, 2, 2])\n",
      "torch.Size([128, 2, 2])\n",
      "torch.Size([128, 2, 2])\n",
      "torch.Size([128, 2, 2])\n",
      "torch.Size([128, 2, 2])\n",
      "torch.Size([128, 2, 2])\n",
      "torch.Size([128, 2, 2])\n",
      "torch.Size([128, 2, 2])\n",
      "torch.Size([128, 2, 2])\n",
      "torch.Size([128, 2, 2])\n",
      "torch.Size([128, 2, 2])\n",
      "torch.Size([128, 2, 2])\n",
      "torch.Size([128, 2, 2])\n",
      "torch.Size([128, 2, 2])\n",
      "torch.Size([128, 2, 2])\n",
      "torch.Size([128, 2, 2])\n",
      "torch.Size([128, 2, 2])\n",
      "torch.Size([128, 2, 2])\n",
      "torch.Size([128, 2, 2])\n",
      "torch.Size([128, 2, 2])\n",
      "torch.Size([128, 2, 2])\n",
      "torch.Size([128, 2, 2])\n",
      "torch.Size([128, 2, 2])\n",
      "torch.Size([128, 2, 2])\n",
      "torch.Size([128, 2, 2])\n",
      "torch.Size([128, 2, 2])"
     ]
    },
    {
     "name": "stderr",
     "output_type": "stream",
     "text": [
      "\r",
      " 92%|██████████████████████████████████████████████████████████████████████▌      | 2286/2494 [00:04<00:00, 505.22it/s]"
     ]
    },
    {
     "name": "stdout",
     "output_type": "stream",
     "text": [
      "\n",
      "torch.Size([128, 2, 2])\n",
      "torch.Size([128, 2, 2])\n",
      "torch.Size([128, 2, 2])\n",
      "torch.Size([128, 2, 2])\n",
      "torch.Size([128, 2, 2])\n",
      "torch.Size([128, 2, 2])\n",
      "torch.Size([128, 2, 2])\n",
      "torch.Size([128, 2, 2])\n",
      "torch.Size([128, 2, 2])\n",
      "torch.Size([128, 2, 2])\n",
      "torch.Size([128, 2, 2])\n",
      "torch.Size([128, 2, 2])\n",
      "torch.Size([128, 2, 2])\n",
      "torch.Size([128, 2, 2])\n",
      "torch.Size([128, 2, 2])\n",
      "torch.Size([128, 2, 2])\n",
      "torch.Size([128, 2, 2])\n",
      "torch.Size([128, 2, 2])\n",
      "torch.Size([128, 2, 2])\n",
      "torch.Size([128, 2, 2])\n",
      "torch.Size([128, 2, 2])\n",
      "torch.Size([128, 2, 2])\n",
      "torch.Size([128, 2, 2])\n",
      "torch.Size([128, 2, 2])\n",
      "torch.Size([128, 2, 2])\n",
      "torch.Size([128, 2, 2])\n",
      "torch.Size([128, 2, 2])\n",
      "torch.Size([128, 2, 2])\n",
      "torch.Size([128, 2, 2])\n",
      "torch.Size([128, 2, 2])\n",
      "torch.Size([128, 2, 2])\n",
      "torch.Size([128, 2, 2])\n",
      "torch.Size([128, 2, 2])\n",
      "torch.Size([128, 2, 2])\n",
      "torch.Size([128, 2, 2])\n",
      "torch.Size([128, 2, 2])\n",
      "torch.Size([128, 2, 2])\n",
      "torch.Size([128, 2, 2])\n",
      "torch.Size([128, 2, 2])\n",
      "torch.Size([128, 2, 2])\n",
      "torch.Size([128, 2, 2])\n",
      "torch.Size([128, 2, 2])\n",
      "torch.Size([128, 2, 2])\n",
      "torch.Size([128, 2, 2])\n",
      "torch.Size([128, 2, 2])\n",
      "torch.Size([128, 2, 2])\n",
      "torch.Size([128, 2, 2])\n",
      "torch.Size([128, 2, 2])\n",
      "torch.Size([128, 2, 2])\n",
      "torch.Size([128, 2, 2])\n",
      "torch.Size([128, 2, 2])\n",
      "torch.Size([128, 2, 2])\n",
      "torch.Size([128, 2, 2])\n",
      "torch.Size([128, 2, 2])\n",
      "torch.Size([128, 2, 2])\n",
      "torch.Size([128, 2, 2])\n",
      "torch.Size([128, 2, 2])\n",
      "torch.Size([128, 2, 2])\n",
      "torch.Size([128, 2, 2])\n",
      "torch.Size([128, 2, 2])\n",
      "torch.Size([128, 2, 2])\n",
      "torch.Size([128, 2, 2])\n",
      "torch.Size([128, 2, 2])\n",
      "torch.Size([128, 2, 2])\n",
      "torch.Size([128, 2, 2])\n",
      "torch.Size([128, 2, 2])\n",
      "torch.Size([128, 2, 2])\n",
      "torch.Size([128, 2, 2])\n",
      "torch.Size([128, 2, 2])\n",
      "torch.Size([128, 2, 2])\n",
      "torch.Size([128, 2, 2])\n",
      "torch.Size([128, 2, 2])\n",
      "torch.Size([128, 2, 2])\n",
      "torch.Size([128, 2, 2])\n",
      "torch.Size([128, 2, 2])\n",
      "torch.Size([128, 2, 2])\n",
      "torch.Size([128, 2, 2])\n",
      "torch.Size([128, 2, 2])\n",
      "torch.Size([128, 2, 2])\n",
      "torch.Size([128, 2, 2])\n",
      "torch.Size([128, 2, 2])\n",
      "torch.Size([128, 2, 2])\n",
      "torch.Size([128, 2, 2])\n",
      "torch.Size([128, 2, 2])\n",
      "torch.Size([128, 2, 2])\n",
      "torch.Size([128, 2, 2])\n",
      "torch.Size([128, 2, 2])\n",
      "torch.Size([128, 2, 2])\n",
      "torch.Size([128, 2, 2])\n",
      "torch.Size([128, 2, 2])\n",
      "torch.Size([128, 2, 2])\n",
      "torch.Size([128, 2, 2])\n",
      "torch.Size([128, 2, 2])\n",
      "torch.Size([128, 2, 2])\n",
      "torch.Size([128, 2, 2])\n",
      "torch.Size([128, 2, 2])"
     ]
    },
    {
     "name": "stderr",
     "output_type": "stream",
     "text": [
      " 96%|█████████████████████████████████████████████████████████████████████████▊   | 2392/2494 [00:04<00:00, 514.21it/s]"
     ]
    },
    {
     "name": "stdout",
     "output_type": "stream",
     "text": [
      "\n",
      "torch.Size([128, 2, 2])\n",
      "torch.Size([128, 2, 2])\n",
      "torch.Size([128, 2, 2])\n",
      "torch.Size([128, 2, 2])\n",
      "torch.Size([128, 2, 2])\n",
      "torch.Size([128, 2, 2])\n",
      "torch.Size([128, 2, 2])\n",
      "torch.Size([128, 2, 2])\n",
      "torch.Size([128, 2, 2])\n",
      "torch.Size([128, 2, 2])\n",
      "torch.Size([128, 2, 2])\n",
      "torch.Size([128, 2, 2])\n",
      "torch.Size([128, 2, 2])\n",
      "torch.Size([128, 2, 2])\n",
      "torch.Size([128, 2, 2])\n",
      "torch.Size([128, 2, 2])\n",
      "torch.Size([128, 2, 2])\n",
      "torch.Size([128, 2, 2])\n",
      "torch.Size([128, 2, 2])\n",
      "torch.Size([128, 2, 2])\n",
      "torch.Size([128, 2, 2])\n",
      "torch.Size([128, 2, 2])\n",
      "torch.Size([128, 2, 2])\n",
      "torch.Size([128, 2, 2])\n",
      "torch.Size([128, 2, 2])\n",
      "torch.Size([128, 2, 2])\n",
      "torch.Size([128, 2, 2])\n",
      "torch.Size([128, 2, 2])\n",
      "torch.Size([128, 2, 2])\n",
      "torch.Size([128, 2, 2])\n",
      "torch.Size([128, 2, 2])\n",
      "torch.Size([128, 2, 2])\n",
      "torch.Size([128, 2, 2])\n",
      "torch.Size([128, 2, 2])\n",
      "torch.Size([128, 2, 2])\n",
      "torch.Size([128, 2, 2])\n",
      "torch.Size([128, 2, 2])\n",
      "torch.Size([128, 2, 2])\n",
      "torch.Size([128, 2, 2])\n",
      "torch.Size([128, 2, 2])\n",
      "torch.Size([128, 2, 2])\n",
      "torch.Size([128, 2, 2])\n",
      "torch.Size([128, 2, 2])\n",
      "torch.Size([128, 2, 2])\n",
      "torch.Size([128, 2, 2])\n",
      "torch.Size([128, 2, 2])\n",
      "torch.Size([128, 2, 2])\n",
      "torch.Size([128, 2, 2])\n",
      "torch.Size([128, 2, 2])\n",
      "torch.Size([128, 2, 2])\n",
      "torch.Size([128, 2, 2])\n",
      "torch.Size([128, 2, 2])\n",
      "torch.Size([128, 2, 2])\n",
      "torch.Size([128, 2, 2])\n",
      "torch.Size([128, 2, 2])\n",
      "torch.Size([128, 2, 2])\n",
      "torch.Size([128, 2, 2])\n",
      "torch.Size([128, 2, 2])\n",
      "torch.Size([128, 2, 2])\n",
      "torch.Size([128, 2, 2])\n",
      "torch.Size([128, 2, 2])\n",
      "torch.Size([128, 2, 2])\n",
      "torch.Size([128, 2, 2])\n",
      "torch.Size([128, 2, 2])\n",
      "torch.Size([128, 2, 2])\n",
      "torch.Size([128, 2, 2])\n",
      "torch.Size([128, 2, 2])\n",
      "torch.Size([128, 2, 2])\n",
      "torch.Size([128, 2, 2])\n",
      "torch.Size([128, 2, 2])\n",
      "torch.Size([128, 2, 2])\n",
      "torch.Size([128, 2, 2])\n",
      "torch.Size([128, 2, 2])\n",
      "torch.Size([128, 2, 2])\n",
      "torch.Size([128, 2, 2])\n",
      "torch.Size([128, 2, 2])\n",
      "torch.Size([128, 2, 2])\n",
      "torch.Size([128, 2, 2])\n",
      "torch.Size([128, 2, 2])\n",
      "torch.Size([128, 2, 2])\n",
      "torch.Size([128, 2, 2])\n",
      "torch.Size([128, 2, 2])\n",
      "torch.Size([128, 2, 2])\n",
      "torch.Size([128, 2, 2])\n",
      "torch.Size([128, 2, 2])\n",
      "torch.Size([128, 2, 2])\n",
      "torch.Size([128, 2, 2])\n",
      "torch.Size([128, 2, 2])\n",
      "torch.Size([128, 2, 2])\n",
      "torch.Size([128, 2, 2])\n",
      "torch.Size([128, 2, 2])\n",
      "torch.Size([128, 2, 2])\n",
      "torch.Size([128, 2, 2])\n",
      "torch.Size([128, 2, 2])\n",
      "torch.Size([128, 2, 2])\n",
      "torch.Size([128, 2, 2])\n",
      "torch.Size([128, 2, 2])\n",
      "torch.Size([128, 2, 2])"
     ]
    },
    {
     "name": "stderr",
     "output_type": "stream",
     "text": [
      "100%|█████████████████████████████████████████████████████████████████████████████| 2494/2494 [00:04<00:00, 519.03it/s]"
     ]
    },
    {
     "name": "stdout",
     "output_type": "stream",
     "text": [
      "\n",
      "torch.Size([128, 2, 2])\n",
      "torch.Size([128, 2, 2])\n",
      "torch.Size([128, 2, 2])\n",
      "torch.Size([128, 2, 2])\n",
      "torch.Size([128, 2, 2])\n",
      "torch.Size([128, 2, 2])\n",
      "torch.Size([128, 2, 2])\n",
      "torch.Size([128, 2, 2])\n",
      "torch.Size([128, 2, 2])\n",
      "torch.Size([128, 2, 2])\n",
      "torch.Size([128, 2, 2])\n",
      "torch.Size([128, 2, 2])\n",
      "torch.Size([128, 2, 2])\n",
      "torch.Size([128, 2, 2])\n",
      "torch.Size([128, 2, 2])\n",
      "torch.Size([128, 2, 2])\n",
      "torch.Size([128, 2, 2])\n",
      "torch.Size([128, 2, 2])\n",
      "torch.Size([128, 2, 2])\n",
      "torch.Size([128, 2, 2])\n",
      "torch.Size([128, 2, 2])\n",
      "torch.Size([128, 2, 2])\n",
      "torch.Size([128, 2, 2])\n",
      "torch.Size([128, 2, 2])\n",
      "torch.Size([128, 2, 2])\n",
      "torch.Size([128, 2, 2])\n",
      "torch.Size([128, 2, 2])\n",
      "torch.Size([128, 2, 2])\n",
      "torch.Size([128, 2, 2])\n",
      "torch.Size([128, 2, 2])\n",
      "torch.Size([128, 2, 2])\n",
      "torch.Size([128, 2, 2])\n",
      "torch.Size([128, 2, 2])\n",
      "torch.Size([128, 2, 2])\n",
      "torch.Size([128, 2, 2])\n",
      "torch.Size([128, 2, 2])\n",
      "torch.Size([128, 2, 2])\n",
      "torch.Size([128, 2, 2])\n",
      "torch.Size([128, 2, 2])\n",
      "torch.Size([128, 2, 2])\n",
      "torch.Size([128, 2, 2])\n",
      "torch.Size([128, 2, 2])\n",
      "torch.Size([128, 2, 2])\n",
      "torch.Size([128, 2, 2])\n",
      "torch.Size([128, 2, 2])\n",
      "torch.Size([128, 2, 2])\n",
      "torch.Size([128, 2, 2])\n",
      "torch.Size([128, 2, 2])\n",
      "torch.Size([128, 2, 2])\n",
      "torch.Size([128, 2, 2])\n",
      "torch.Size([128, 2, 2])\n",
      "torch.Size([128, 2, 2])\n",
      "torch.Size([128, 2, 2])\n",
      "torch.Size([128, 2, 2])\n",
      "torch.Size([128, 2, 2])\n",
      "torch.Size([128, 2, 2])\n",
      "torch.Size([128, 2, 2])\n",
      "torch.Size([128, 2, 2])\n",
      "Accuracy 0.721\n"
     ]
    },
    {
     "name": "stderr",
     "output_type": "stream",
     "text": [
      "\n"
     ]
    }
   ],
   "source": [
    "#converted to be on the device(CPU)\n",
    "def test(net):\n",
    "    correct = 0\n",
    "    total = 0\n",
    "    with torch.no_grad():\n",
    "        for i in tqdm(range(len(test_X))):\n",
    "            real_class = torch.argmax(test_y[i]).to(device)\n",
    "            net_out = net(test_X[i].view(-1,1, 50,50).to(device))[0]   #returns a list\n",
    "            predicted_class = torch.argmax(net_out)\n",
    "            \n",
    "            if predicted_class == real_class:\n",
    "                correct+=1\n",
    "            total +=1\n",
    "\n",
    "    print(\"Accuracy\", round(correct/total, 3))\n",
    "                                                    \n",
    "test(net)"
   ]
  },
  {
   "cell_type": "code",
   "execution_count": null,
   "metadata": {},
   "outputs": [],
   "source": []
  }
 ],
 "metadata": {
  "kernelspec": {
   "display_name": "Python 3",
   "language": "python",
   "name": "python3"
  },
  "language_info": {
   "codemirror_mode": {
    "name": "ipython",
    "version": 3
   },
   "file_extension": ".py",
   "mimetype": "text/x-python",
   "name": "python",
   "nbconvert_exporter": "python",
   "pygments_lexer": "ipython3",
   "version": "3.7.3"
  }
 },
 "nbformat": 4,
 "nbformat_minor": 2
}
