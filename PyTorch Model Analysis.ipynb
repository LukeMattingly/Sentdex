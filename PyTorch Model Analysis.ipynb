{
 "cells": [
  {
   "cell_type": "code",
   "execution_count": 1,
   "metadata": {},
   "outputs": [],
   "source": [
    "#From Sentdex\n",
    "import os\n",
    "import cv2\n",
    "import numpy as np\n",
    "from tqdm import tqdm\n",
    "from pathlib import Path\n",
    "\n",
    "os.chdir(\"C:\\\\Users\\\\Kycool13\\\\Downloads\\\\kagglecatsanddogs_3367a\")\n",
    "\n",
    "REBUILD_DATA = False\n",
    "\n",
    "class DogsVSCats():\n",
    "    IMG_SIZE = 50\n",
    "    CATS = Path(\"PetImages/Cat\")\n",
    "    DOGS = Path(\"PetImages/Dog\")\n",
    "    LABELS = {CATS:0, DOGS:1}\n",
    "    \n",
    "    training_data = []\n",
    "    #pay attention to balance of classes\n",
    "    catcount = 0\n",
    "    dogcount = 0\n",
    "    \n",
    "    def make_training_data(self):\n",
    "        for label in self.LABELS:\n",
    "            print(label)\n",
    "            for f in tqdm(os.listdir(label)):\n",
    "                try:\n",
    "                    path = os.path.join(label, f)\n",
    "                    img = cv2.imread(path, cv2.IMREAD_GRAYSCALE)\n",
    "                    img = cv2.resize(img, (self.IMG_SIZE, self.IMG_SIZE))\n",
    "                    self.training_data.append([np.array(img),np.eye(2)[self.LABELS[label]]])\n",
    "\n",
    "                    if label == self.CATS:\n",
    "                        self.catcount +=1\n",
    "                    elif label == self.DOGS:\n",
    "                        self.dogcount +=1\n",
    "                except Exception as e:\n",
    "                    pass\n",
    "        np.random.shuffle(self.training_data) #shuffles in place, doesn't reassign\n",
    "        np.save(\"training_data.npy\", self.training_data)\n",
    "        print(\"Cats: \", self.catcount)\n",
    "        print(\"Dogs: \", self.dogcount)\n",
    "                "
   ]
  },
  {
   "cell_type": "code",
   "execution_count": 2,
   "metadata": {},
   "outputs": [],
   "source": [
    "if REBUILD_DATA:\n",
    "    dogsvcats = DogsVSCats()\n",
    "    dogsvcats.make_training_data()"
   ]
  },
  {
   "cell_type": "code",
   "execution_count": 3,
   "metadata": {},
   "outputs": [],
   "source": [
    "training_data = np.load(\"training_data.npy\",  allow_pickle=True)"
   ]
  },
  {
   "cell_type": "code",
   "execution_count": 4,
   "metadata": {},
   "outputs": [
    {
     "name": "stdout",
     "output_type": "stream",
     "text": [
      "torch.Size([128, 2, 2])\n"
     ]
    }
   ],
   "source": [
    "import torch\n",
    "import torch.nn as nn\n",
    "import torch.nn.functional as F\n",
    "\n",
    "class Net(nn.Module):\n",
    "    def __init__(self):\n",
    "        super().__init__()\n",
    "        self.conv1 = nn.Conv2d(1,32,5)\n",
    "        self.conv2 = nn.Conv2d(32,64,5)\n",
    "        self.conv3 = nn.Conv2d(64,128,5)\n",
    "        \n",
    "        x = torch.randn(50,50).view(-1,1,50,50)\n",
    "        self._to_linear = None\n",
    "        self.convs(x)\n",
    "        \n",
    "        self.fc1 = nn.Linear(self._to_linear, 512)\n",
    "        self.fc2 = nn.Linear(512, 2)\n",
    "        \n",
    "    def convs(self, x):\n",
    "        x = F.max_pool2d(F.relu(self.conv1(x)), (2,2))\n",
    "        x = F.max_pool2d(F.relu(self.conv2(x)), (2,2))\n",
    "        x = F.max_pool2d(F.relu(self.conv3(x)), (2,2))\n",
    "        \n",
    "        print(x[0].shape)\n",
    "        \n",
    "        if self._to_linear is None:\n",
    "            self._to_linear = x[0].shape[0] *x[0].shape[1]*x[0].shape[2]\n",
    "        return x\n",
    "    \n",
    "    def forward(self, x):\n",
    "        x = self.convs(x)\n",
    "        x = x.view(-1, self._to_linear)\n",
    "        x = F.relu(self.fc1(x))\n",
    "        x = self.fc2(x)\n",
    "        return F.softmax(x, dim = 1)\n",
    "    \n",
    "net = Net()"
   ]
  },
  {
   "cell_type": "code",
   "execution_count": 5,
   "metadata": {},
   "outputs": [
    {
     "name": "stdout",
     "output_type": "stream",
     "text": [
      "2494\n"
     ]
    }
   ],
   "source": [
    "import torch.optim as optim\n",
    "\n",
    "optimizer = optim.Adam(net.parameters(), lr = 0.001)\n",
    "loss_function = nn.MSELoss()\n",
    "\n",
    "X = torch.Tensor([i[0] for i in training_data]).view(-1,50,50)\n",
    "X = X/255.0\n",
    "y = torch.Tensor([i[1] for i in training_data])\n",
    "\n",
    "VAL_PCT = 0.1\n",
    "val_size = int(len(X)* VAL_PCT)\n",
    "print(val_size)"
   ]
  },
  {
   "cell_type": "code",
   "execution_count": 6,
   "metadata": {},
   "outputs": [
    {
     "name": "stdout",
     "output_type": "stream",
     "text": [
      "22452\n",
      "2494\n"
     ]
    }
   ],
   "source": [
    "train_X = X[:-val_size]\n",
    "train_y = y[:-val_size]\n",
    "\n",
    "test_X = X[-val_size:]\n",
    "test_y = y[-val_size:]\n",
    "\n",
    "print(len(train_X))\n",
    "print(len(test_X))"
   ]
  },
  {
   "cell_type": "code",
   "execution_count": 7,
   "metadata": {},
   "outputs": [
    {
     "name": "stdout",
     "output_type": "stream",
     "text": [
      "running on the GPU\n"
     ]
    },
    {
     "data": {
      "text/plain": [
       "Net(\n",
       "  (conv1): Conv2d(1, 32, kernel_size=(5, 5), stride=(1, 1))\n",
       "  (conv2): Conv2d(32, 64, kernel_size=(5, 5), stride=(1, 1))\n",
       "  (conv3): Conv2d(64, 128, kernel_size=(5, 5), stride=(1, 1))\n",
       "  (fc1): Linear(in_features=512, out_features=512, bias=True)\n",
       "  (fc2): Linear(in_features=512, out_features=2, bias=True)\n",
       ")"
      ]
     },
     "execution_count": 7,
     "metadata": {},
     "output_type": "execute_result"
    }
   ],
   "source": [
    "torch.cuda.is_available()\n",
    "\n",
    "device = torch.device(\"cuda:0\")\n",
    "\n",
    "if torch.cuda.is_available():\n",
    "    device = torch.device(\"cuda:0\")\n",
    "    print(\"running on the GPU\")\n",
    "else: \n",
    "    device = torch.device(\"cpu\")\n",
    "    print(\"running on the CPU\")\n",
    "    \n",
    "net.to(device)"
   ]
  },
  {
   "cell_type": "code",
   "execution_count": 8,
   "metadata": {},
   "outputs": [],
   "source": [
    "def fwd_pass(X, y, train = False):\n",
    "    X, y = X.view(-1,1, 50,50).to(device), y.to(device)\n",
    "    if train:\n",
    "        net.zero_grad()\n",
    "    outputs = net(X)\n",
    "    #how many arg maxes are identical from out of sample to in sample(test vs train)\n",
    "    matches = [torch.argmax(i) == torch.argmax(j) for i, j in zip(outputs, y)]\n",
    "    accuracy = matches.count(True)/len(matches) #give us a percentage accuracy\n",
    "    loss = loss_function(outputs, y)\n",
    "    \n",
    "    if train:\n",
    "        loss.backward()\n",
    "        optimizer.step()\n",
    "    return accuracy, loss"
   ]
  },
  {
   "cell_type": "code",
   "execution_count": 9,
   "metadata": {},
   "outputs": [
    {
     "name": "stdout",
     "output_type": "stream",
     "text": [
      "torch.Size([128, 2, 2])\n",
      "0.53125 tensor(0.2495, device='cuda:0')\n"
     ]
    }
   ],
   "source": [
    "def test(size =32):\n",
    "    random_start = np.random.randint(len(test_X) - size)\n",
    "    X, y = test_X[random_start:random_start+size], test_y[random_start: random_start+size]\n",
    "    with torch.no_grad():\n",
    "        val_acc , val_loss = fwd_pass(X, y)\n",
    "    return val_acc, val_loss\n",
    "\n",
    "val_acc, val_loss = test(size = 32)\n",
    "print(val_acc, val_loss)"
   ]
  },
  {
   "cell_type": "code",
   "execution_count": 24,
   "metadata": {},
   "outputs": [
    {
     "name": "stderr",
     "output_type": "stream",
     "text": [
      "  0%|▎                                                                                 | 1/225 [00:00<00:23,  9.44it/s]"
     ]
    },
    {
     "name": "stdout",
     "output_type": "stream",
     "text": [
      "torch.Size([128, 2, 2])\n",
      "model-1577572308\n",
      "torch.Size([128, 2, 2])\n",
      "torch.Size([128, 2, 2])\n",
      "torch.Size([128, 2, 2])\n",
      "torch.Size([128, 2, 2])"
     ]
    },
    {
     "name": "stderr",
     "output_type": "stream",
     "text": [
      "\r",
      "  1%|▋                                                                                 | 2/225 [00:00<00:23,  9.38it/s]"
     ]
    },
    {
     "name": "stdout",
     "output_type": "stream",
     "text": [
      "\n",
      "torch.Size([128, 2, 2])\n",
      "torch.Size([128, 2, 2])\n",
      "torch.Size([128, 2, 2])\n",
      "torch.Size([128, 2, 2])"
     ]
    },
    {
     "name": "stderr",
     "output_type": "stream",
     "text": [
      "  2%|█▊                                                                                | 5/225 [00:00<00:22,  9.70it/s]"
     ]
    },
    {
     "name": "stdout",
     "output_type": "stream",
     "text": [
      "\n",
      "torch.Size([128, 2, 2])\n",
      "torch.Size([128, 2, 2])\n",
      "torch.Size([128, 2, 2])\n"
     ]
    },
    {
     "name": "stderr",
     "output_type": "stream",
     "text": [
      "\r",
      "  3%|██▌                                                                               | 7/225 [00:00<00:22,  9.85it/s]"
     ]
    },
    {
     "name": "stdout",
     "output_type": "stream",
     "text": [
      "torch.Size([128, 2, 2])\n",
      "torch.Size([128, 2, 2])\n",
      "torch.Size([128, 2, 2])\n",
      "torch.Size([128, 2, 2])\n",
      "torch.Size([128, 2, 2])"
     ]
    },
    {
     "name": "stderr",
     "output_type": "stream",
     "text": [
      "\r",
      "  4%|███▎                                                                              | 9/225 [00:00<00:21, 10.00it/s]"
     ]
    },
    {
     "name": "stdout",
     "output_type": "stream",
     "text": [
      "\n",
      "torch.Size([128, 2, 2])\n",
      "torch.Size([128, 2, 2])\n",
      "torch.Size([128, 2, 2])\n",
      "torch.Size([128, 2, 2])"
     ]
    },
    {
     "name": "stderr",
     "output_type": "stream",
     "text": [
      "  5%|███▉                                                                             | 11/225 [00:01<00:21,  9.75it/s]"
     ]
    },
    {
     "name": "stdout",
     "output_type": "stream",
     "text": [
      "\n",
      "torch.Size([128, 2, 2])\n",
      "torch.Size([128, 2, 2])\n",
      "torch.Size([128, 2, 2])\n"
     ]
    },
    {
     "name": "stderr",
     "output_type": "stream",
     "text": [
      "  6%|████▋                                                                            | 13/225 [00:01<00:22,  9.44it/s]"
     ]
    },
    {
     "name": "stdout",
     "output_type": "stream",
     "text": [
      "torch.Size([128, 2, 2])\n",
      "torch.Size([128, 2, 2])\n",
      "torch.Size([128, 2, 2])\n",
      "torch.Size([128, 2, 2])\n",
      "torch.Size([128, 2, 2])"
     ]
    },
    {
     "name": "stderr",
     "output_type": "stream",
     "text": [
      "\r",
      "  7%|█████▍                                                                           | 15/225 [00:01<00:21,  9.74it/s]"
     ]
    },
    {
     "name": "stdout",
     "output_type": "stream",
     "text": [
      "\n",
      "torch.Size([128, 2, 2])\n",
      "torch.Size([128, 2, 2])\n",
      "torch.Size([128, 2, 2])\n",
      "torch.Size([128, 2, 2])"
     ]
    },
    {
     "name": "stderr",
     "output_type": "stream",
     "text": [
      "\r",
      "  8%|██████                                                                           | 17/225 [00:01<00:20,  9.98it/s]"
     ]
    },
    {
     "name": "stdout",
     "output_type": "stream",
     "text": [
      "\n",
      "torch.Size([128, 2, 2])\n",
      "torch.Size([128, 2, 2])\n",
      "torch.Size([128, 2, 2])\n",
      "torch.Size([128, 2, 2])"
     ]
    },
    {
     "name": "stderr",
     "output_type": "stream",
     "text": [
      "\r",
      "  8%|██████▍                                                                          | 18/225 [00:01<00:20,  9.96it/s]"
     ]
    },
    {
     "name": "stdout",
     "output_type": "stream",
     "text": [
      "\n",
      "torch.Size([128, 2, 2])\n",
      "torch.Size([128, 2, 2])\n",
      "torch.Size([128, 2, 2])\n",
      "torch.Size([128, 2, 2])"
     ]
    },
    {
     "name": "stderr",
     "output_type": "stream",
     "text": [
      "\r",
      "  9%|███████▏                                                                         | 20/225 [00:01<00:19, 10.25it/s]"
     ]
    },
    {
     "name": "stdout",
     "output_type": "stream",
     "text": [
      "\n",
      "torch.Size([128, 2, 2])\n",
      "torch.Size([128, 2, 2])\n",
      "torch.Size([128, 2, 2])\n",
      "torch.Size([128, 2, 2])"
     ]
    },
    {
     "name": "stderr",
     "output_type": "stream",
     "text": [
      "\r",
      " 10%|███████▉                                                                         | 22/225 [00:02<00:20, 10.11it/s]"
     ]
    },
    {
     "name": "stdout",
     "output_type": "stream",
     "text": [
      "\n",
      "torch.Size([128, 2, 2])\n",
      "torch.Size([128, 2, 2])\n",
      "torch.Size([128, 2, 2])\n",
      "torch.Size([128, 2, 2])"
     ]
    },
    {
     "name": "stderr",
     "output_type": "stream",
     "text": [
      "\r",
      " 11%|████████▋                                                                        | 24/225 [00:02<00:19, 10.20it/s]"
     ]
    },
    {
     "name": "stdout",
     "output_type": "stream",
     "text": [
      "\n",
      "torch.Size([128, 2, 2])\n",
      "torch.Size([128, 2, 2])\n",
      "torch.Size([128, 2, 2])\n",
      "torch.Size([128, 2, 2])"
     ]
    },
    {
     "name": "stderr",
     "output_type": "stream",
     "text": [
      "\r",
      " 12%|█████████▎                                                                       | 26/225 [00:02<00:19, 10.39it/s]"
     ]
    },
    {
     "name": "stdout",
     "output_type": "stream",
     "text": [
      "\n",
      "torch.Size([128, 2, 2])\n",
      "torch.Size([128, 2, 2])\n",
      "torch.Size([128, 2, 2])\n",
      "torch.Size([128, 2, 2])"
     ]
    },
    {
     "name": "stderr",
     "output_type": "stream",
     "text": [
      "\r",
      " 12%|██████████                                                                       | 28/225 [00:02<00:18, 10.56it/s]"
     ]
    },
    {
     "name": "stdout",
     "output_type": "stream",
     "text": [
      "\n",
      "torch.Size([128, 2, 2])\n",
      "torch.Size([128, 2, 2])\n",
      "torch.Size([128, 2, 2])\n",
      "torch.Size([128, 2, 2])"
     ]
    },
    {
     "name": "stderr",
     "output_type": "stream",
     "text": [
      "\r",
      " 13%|██████████▊                                                                      | 30/225 [00:02<00:18, 10.44it/s]"
     ]
    },
    {
     "name": "stdout",
     "output_type": "stream",
     "text": [
      "\n",
      "torch.Size([128, 2, 2])\n",
      "torch.Size([128, 2, 2])\n",
      "torch.Size([128, 2, 2])\n",
      "torch.Size([128, 2, 2])"
     ]
    },
    {
     "name": "stderr",
     "output_type": "stream",
     "text": [
      "\r",
      " 14%|███████████▌                                                                     | 32/225 [00:03<00:18, 10.56it/s]"
     ]
    },
    {
     "name": "stdout",
     "output_type": "stream",
     "text": [
      "\n",
      "torch.Size([128, 2, 2])\n",
      "torch.Size([128, 2, 2])\n",
      "torch.Size([128, 2, 2])\n",
      "torch.Size([128, 2, 2])"
     ]
    },
    {
     "name": "stderr",
     "output_type": "stream",
     "text": [
      "\r",
      " 15%|████████████▏                                                                    | 34/225 [00:03<00:18, 10.60it/s]"
     ]
    },
    {
     "name": "stdout",
     "output_type": "stream",
     "text": [
      "\n",
      "torch.Size([128, 2, 2])\n",
      "torch.Size([128, 2, 2])\n",
      "torch.Size([128, 2, 2])\n",
      "torch.Size([128, 2, 2])"
     ]
    },
    {
     "name": "stderr",
     "output_type": "stream",
     "text": [
      "\r",
      " 16%|████████████▉                                                                    | 36/225 [00:03<00:17, 10.72it/s]"
     ]
    },
    {
     "name": "stdout",
     "output_type": "stream",
     "text": [
      "\n",
      "torch.Size([128, 2, 2])\n",
      "torch.Size([128, 2, 2])\n",
      "torch.Size([128, 2, 2])\n",
      "torch.Size([128, 2, 2])\n"
     ]
    },
    {
     "name": "stderr",
     "output_type": "stream",
     "text": [
      " 18%|██████████████▍                                                                  | 40/225 [00:03<00:17, 10.63it/s]"
     ]
    },
    {
     "name": "stdout",
     "output_type": "stream",
     "text": [
      "torch.Size([128, 2, 2])\n",
      "torch.Size([128, 2, 2])\n",
      "torch.Size([128, 2, 2])\n",
      "torch.Size([128, 2, 2])\n"
     ]
    },
    {
     "name": "stderr",
     "output_type": "stream",
     "text": [
      "\r",
      " 19%|███████████████                                                                  | 42/225 [00:04<00:17, 10.75it/s]"
     ]
    },
    {
     "name": "stdout",
     "output_type": "stream",
     "text": [
      "torch.Size([128, 2, 2])\n",
      "torch.Size([128, 2, 2])\n",
      "torch.Size([128, 2, 2])\n",
      "torch.Size([128, 2, 2])\n"
     ]
    },
    {
     "name": "stderr",
     "output_type": "stream",
     "text": [
      "\r",
      " 20%|███████████████▊                                                                 | 44/225 [00:04<00:17, 10.62it/s]"
     ]
    },
    {
     "name": "stdout",
     "output_type": "stream",
     "text": [
      "torch.Size([128, 2, 2])\n",
      "torch.Size([128, 2, 2])\n",
      "torch.Size([128, 2, 2])\n",
      "torch.Size([128, 2, 2])\n",
      "torch.Size([128, 2, 2])\n",
      "torch.Size([128, 2, 2])\n",
      "torch.Size([128, 2, 2])\n",
      "torch.Size([128, 2, 2])\n"
     ]
    },
    {
     "name": "stderr",
     "output_type": "stream",
     "text": [
      " 21%|█████████████████▎                                                               | 48/225 [00:04<00:16, 10.60it/s]"
     ]
    },
    {
     "name": "stdout",
     "output_type": "stream",
     "text": [
      "torch.Size([128, 2, 2])\n",
      "torch.Size([128, 2, 2])\n",
      "torch.Size([128, 2, 2])\n",
      "torch.Size([128, 2, 2])\n",
      "torch.Size([128, 2, 2])\n"
     ]
    },
    {
     "name": "stderr",
     "output_type": "stream",
     "text": [
      "\r",
      " 22%|██████████████████                                                               | 50/225 [00:04<00:16, 10.67it/s]"
     ]
    },
    {
     "name": "stdout",
     "output_type": "stream",
     "text": [
      "torch.Size([128, 2, 2])\n",
      "torch.Size([128, 2, 2])\n",
      "torch.Size([128, 2, 2])\n",
      "torch.Size([128, 2, 2])\n"
     ]
    },
    {
     "name": "stderr",
     "output_type": "stream",
     "text": [
      "\r",
      " 23%|██████████████████▋                                                              | 52/225 [00:05<00:16, 10.52it/s]"
     ]
    },
    {
     "name": "stdout",
     "output_type": "stream",
     "text": [
      "torch.Size([128, 2, 2])\n",
      "torch.Size([128, 2, 2])\n",
      "torch.Size([128, 2, 2])\n",
      "torch.Size([128, 2, 2])\n",
      "torch.Size([128, 2, 2])\n"
     ]
    },
    {
     "name": "stderr",
     "output_type": "stream",
     "text": [
      "\r",
      " 24%|███████████████████▍                                                             | 54/225 [00:05<00:16, 10.66it/s]"
     ]
    },
    {
     "name": "stdout",
     "output_type": "stream",
     "text": [
      "torch.Size([128, 2, 2])\n",
      "torch.Size([128, 2, 2])\n",
      "torch.Size([128, 2, 2])\n",
      "torch.Size([128, 2, 2])\n",
      "torch.Size([128, 2, 2])"
     ]
    },
    {
     "name": "stderr",
     "output_type": "stream",
     "text": [
      "\r",
      " 25%|████████████████████▏                                                            | 56/225 [00:05<00:15, 10.71it/s]"
     ]
    },
    {
     "name": "stdout",
     "output_type": "stream",
     "text": [
      "\n",
      "torch.Size([128, 2, 2])\n",
      "torch.Size([128, 2, 2])\n",
      "torch.Size([128, 2, 2])\n",
      "torch.Size([128, 2, 2])\n"
     ]
    },
    {
     "name": "stderr",
     "output_type": "stream",
     "text": [
      "\r",
      " 26%|████████████████████▉                                                            | 58/225 [00:05<00:15, 10.73it/s]"
     ]
    },
    {
     "name": "stdout",
     "output_type": "stream",
     "text": [
      "torch.Size([128, 2, 2])\n",
      "torch.Size([128, 2, 2])\n",
      "torch.Size([128, 2, 2])\n",
      "torch.Size([128, 2, 2])\n",
      "torch.Size([128, 2, 2])"
     ]
    },
    {
     "name": "stderr",
     "output_type": "stream",
     "text": [
      "\r",
      " 27%|█████████████████████▌                                                           | 60/225 [00:05<00:15, 10.57it/s]"
     ]
    },
    {
     "name": "stdout",
     "output_type": "stream",
     "text": [
      "\n",
      "torch.Size([128, 2, 2])\n",
      "torch.Size([128, 2, 2])\n",
      "torch.Size([128, 2, 2])\n",
      "torch.Size([128, 2, 2])\n"
     ]
    },
    {
     "name": "stderr",
     "output_type": "stream",
     "text": [
      " 28%|███████████████████████                                                          | 64/225 [00:06<00:14, 10.80it/s]"
     ]
    },
    {
     "name": "stdout",
     "output_type": "stream",
     "text": [
      "torch.Size([128, 2, 2])\n",
      "torch.Size([128, 2, 2])\n",
      "torch.Size([128, 2, 2])\n",
      "torch.Size([128, 2, 2])\n"
     ]
    },
    {
     "name": "stderr",
     "output_type": "stream",
     "text": [
      "\r",
      " 29%|███████████████████████▊                                                         | 66/225 [00:06<00:14, 10.84it/s]"
     ]
    },
    {
     "name": "stdout",
     "output_type": "stream",
     "text": [
      "torch.Size([128, 2, 2])\n",
      "torch.Size([128, 2, 2])\n",
      "torch.Size([128, 2, 2])\n",
      "torch.Size([128, 2, 2])\n"
     ]
    },
    {
     "name": "stderr",
     "output_type": "stream",
     "text": [
      "\r",
      " 30%|████████████████████████▍                                                        | 68/225 [00:06<00:14, 10.78it/s]"
     ]
    },
    {
     "name": "stdout",
     "output_type": "stream",
     "text": [
      "torch.Size([128, 2, 2])\n",
      "torch.Size([128, 2, 2])\n",
      "torch.Size([128, 2, 2])\n",
      "torch.Size([128, 2, 2])\n"
     ]
    },
    {
     "name": "stderr",
     "output_type": "stream",
     "text": [
      "\r",
      " 31%|█████████████████████████▏                                                       | 70/225 [00:06<00:14, 10.83it/s]"
     ]
    },
    {
     "name": "stdout",
     "output_type": "stream",
     "text": [
      "torch.Size([128, 2, 2])\n",
      "torch.Size([128, 2, 2])\n",
      "torch.Size([128, 2, 2])\n",
      "torch.Size([128, 2, 2])\n",
      "torch.Size([128, 2, 2])"
     ]
    },
    {
     "name": "stderr",
     "output_type": "stream",
     "text": [
      "\r",
      " 32%|█████████████████████████▉                                                       | 72/225 [00:06<00:14, 10.91it/s]"
     ]
    },
    {
     "name": "stdout",
     "output_type": "stream",
     "text": [
      "\n",
      "torch.Size([128, 2, 2])\n",
      "torch.Size([128, 2, 2])\n",
      "torch.Size([128, 2, 2])\n",
      "torch.Size([128, 2, 2])\n"
     ]
    },
    {
     "name": "stderr",
     "output_type": "stream",
     "text": [
      "\r",
      " 33%|██████████████████████████▋                                                      | 74/225 [00:07<00:13, 10.95it/s]"
     ]
    },
    {
     "name": "stdout",
     "output_type": "stream",
     "text": [
      "torch.Size([128, 2, 2])\n",
      "torch.Size([128, 2, 2])\n",
      "torch.Size([128, 2, 2])\n",
      "torch.Size([128, 2, 2])\n",
      "torch.Size([128, 2, 2])"
     ]
    },
    {
     "name": "stderr",
     "output_type": "stream",
     "text": [
      "\r",
      " 34%|███████████████████████████▎                                                     | 76/225 [00:07<00:13, 10.91it/s]"
     ]
    },
    {
     "name": "stdout",
     "output_type": "stream",
     "text": [
      "\n",
      "torch.Size([128, 2, 2])\n",
      "torch.Size([128, 2, 2])\n",
      "torch.Size([128, 2, 2])\n",
      "torch.Size([128, 2, 2])"
     ]
    },
    {
     "name": "stderr",
     "output_type": "stream",
     "text": [
      "\r",
      " 35%|████████████████████████████                                                     | 78/225 [00:07<00:13, 10.84it/s]"
     ]
    },
    {
     "name": "stdout",
     "output_type": "stream",
     "text": [
      "\n",
      "torch.Size([128, 2, 2])\n",
      "torch.Size([128, 2, 2])\n",
      "torch.Size([128, 2, 2])\n",
      "torch.Size([128, 2, 2])"
     ]
    },
    {
     "name": "stderr",
     "output_type": "stream",
     "text": [
      "\r",
      " 36%|████████████████████████████▊                                                    | 80/225 [00:07<00:13, 10.90it/s]"
     ]
    },
    {
     "name": "stdout",
     "output_type": "stream",
     "text": [
      "\n",
      "torch.Size([128, 2, 2])\n",
      "torch.Size([128, 2, 2])\n",
      "torch.Size([128, 2, 2])\n",
      "torch.Size([128, 2, 2])\n"
     ]
    },
    {
     "name": "stderr",
     "output_type": "stream",
     "text": [
      "\r",
      " 36%|█████████████████████████████▌                                                   | 82/225 [00:07<00:13, 10.97it/s]"
     ]
    },
    {
     "name": "stdout",
     "output_type": "stream",
     "text": [
      "torch.Size([128, 2, 2])\n",
      "torch.Size([128, 2, 2])\n",
      "torch.Size([128, 2, 2])\n",
      "torch.Size([128, 2, 2])\n",
      "torch.Size([128, 2, 2])\n"
     ]
    },
    {
     "name": "stderr",
     "output_type": "stream",
     "text": [
      "\r",
      " 37%|██████████████████████████████▏                                                  | 84/225 [00:07<00:12, 10.99it/s]"
     ]
    },
    {
     "name": "stdout",
     "output_type": "stream",
     "text": [
      "torch.Size([128, 2, 2])\n",
      "torch.Size([128, 2, 2])\n",
      "torch.Size([128, 2, 2])\n",
      "torch.Size([128, 2, 2])\n",
      "torch.Size([128, 2, 2])"
     ]
    },
    {
     "name": "stderr",
     "output_type": "stream",
     "text": [
      "\r",
      " 38%|██████████████████████████████▉                                                  | 86/225 [00:08<00:12, 10.83it/s]"
     ]
    },
    {
     "name": "stdout",
     "output_type": "stream",
     "text": [
      "\n",
      "torch.Size([128, 2, 2])\n",
      "torch.Size([128, 2, 2])\n",
      "torch.Size([128, 2, 2])\n",
      "torch.Size([128, 2, 2])"
     ]
    },
    {
     "name": "stderr",
     "output_type": "stream",
     "text": [
      "\r",
      " 39%|███████████████████████████████▋                                                 | 88/225 [00:08<00:12, 10.79it/s]"
     ]
    },
    {
     "name": "stdout",
     "output_type": "stream",
     "text": [
      "\n",
      "torch.Size([128, 2, 2])\n",
      "torch.Size([128, 2, 2])\n",
      "torch.Size([128, 2, 2])\n",
      "torch.Size([128, 2, 2])"
     ]
    },
    {
     "name": "stderr",
     "output_type": "stream",
     "text": [
      "\r",
      " 40%|████████████████████████████████▍                                                | 90/225 [00:08<00:12, 10.85it/s]"
     ]
    },
    {
     "name": "stdout",
     "output_type": "stream",
     "text": [
      "\n",
      "torch.Size([128, 2, 2])\n",
      "torch.Size([128, 2, 2])\n",
      "torch.Size([128, 2, 2])\n",
      "torch.Size([128, 2, 2])\n"
     ]
    },
    {
     "name": "stderr",
     "output_type": "stream",
     "text": [
      " 42%|█████████████████████████████████▊                                               | 94/225 [00:08<00:11, 10.95it/s]"
     ]
    },
    {
     "name": "stdout",
     "output_type": "stream",
     "text": [
      "torch.Size([128, 2, 2])\n",
      "torch.Size([128, 2, 2])\n",
      "torch.Size([128, 2, 2])\n",
      "torch.Size([128, 2, 2])\n",
      "torch.Size([128, 2, 2])\n"
     ]
    },
    {
     "name": "stderr",
     "output_type": "stream",
     "text": [
      "\r",
      " 43%|██████████████████████████████████▌                                              | 96/225 [00:09<00:11, 10.94it/s]"
     ]
    },
    {
     "name": "stdout",
     "output_type": "stream",
     "text": [
      "torch.Size([128, 2, 2])\n",
      "torch.Size([128, 2, 2])\n",
      "torch.Size([128, 2, 2])\n",
      "torch.Size([128, 2, 2])\n",
      "torch.Size([128, 2, 2])\n"
     ]
    },
    {
     "name": "stderr",
     "output_type": "stream",
     "text": [
      "\r",
      " 44%|███████████████████████████████████▎                                             | 98/225 [00:09<00:11, 10.92it/s]"
     ]
    },
    {
     "name": "stdout",
     "output_type": "stream",
     "text": [
      "torch.Size([128, 2, 2])\n",
      "torch.Size([128, 2, 2])\n",
      "torch.Size([128, 2, 2])\n",
      "torch.Size([128, 2, 2])\n",
      "torch.Size([128, 2, 2])\n"
     ]
    },
    {
     "name": "stderr",
     "output_type": "stream",
     "text": [
      "\r",
      " 44%|███████████████████████████████████▌                                            | 100/225 [00:09<00:11, 10.92it/s]"
     ]
    },
    {
     "name": "stdout",
     "output_type": "stream",
     "text": [
      "torch.Size([128, 2, 2])\n",
      "torch.Size([128, 2, 2])\n",
      "torch.Size([128, 2, 2])\n",
      "torch.Size([128, 2, 2])\n",
      "torch.Size([128, 2, 2])"
     ]
    },
    {
     "name": "stderr",
     "output_type": "stream",
     "text": [
      "\r",
      " 45%|████████████████████████████████████▎                                           | 102/225 [00:09<00:11, 10.94it/s]"
     ]
    },
    {
     "name": "stdout",
     "output_type": "stream",
     "text": [
      "\n",
      "torch.Size([128, 2, 2])\n",
      "torch.Size([128, 2, 2])\n",
      "torch.Size([128, 2, 2])\n",
      "torch.Size([128, 2, 2])\n"
     ]
    },
    {
     "name": "stderr",
     "output_type": "stream",
     "text": [
      " 47%|█████████████████████████████████████▋                                          | 106/225 [00:09<00:10, 11.01it/s]"
     ]
    },
    {
     "name": "stdout",
     "output_type": "stream",
     "text": [
      "torch.Size([128, 2, 2])\n",
      "torch.Size([128, 2, 2])\n",
      "torch.Size([128, 2, 2])\n",
      "torch.Size([128, 2, 2])\n",
      "torch.Size([128, 2, 2])\n"
     ]
    },
    {
     "name": "stderr",
     "output_type": "stream",
     "text": [
      "\r",
      " 48%|██████████████████████████████████████▍                                         | 108/225 [00:10<00:10, 11.01it/s]"
     ]
    },
    {
     "name": "stdout",
     "output_type": "stream",
     "text": [
      "torch.Size([128, 2, 2])\n",
      "torch.Size([128, 2, 2])\n",
      "torch.Size([128, 2, 2])\n",
      "torch.Size([128, 2, 2])\n",
      "torch.Size([128, 2, 2])\n"
     ]
    },
    {
     "name": "stderr",
     "output_type": "stream",
     "text": [
      "\r",
      " 49%|███████████████████████████████████████                                         | 110/225 [00:10<00:10, 10.74it/s]"
     ]
    },
    {
     "name": "stdout",
     "output_type": "stream",
     "text": [
      "torch.Size([128, 2, 2])\n",
      "torch.Size([128, 2, 2])\n",
      "torch.Size([128, 2, 2])\n",
      "torch.Size([128, 2, 2])\n",
      "torch.Size([128, 2, 2])"
     ]
    },
    {
     "name": "stderr",
     "output_type": "stream",
     "text": [
      "\r",
      " 50%|███████████████████████████████████████▊                                        | 112/225 [00:10<00:10, 10.81it/s]"
     ]
    },
    {
     "name": "stdout",
     "output_type": "stream",
     "text": [
      "\n",
      "torch.Size([128, 2, 2])\n",
      "torch.Size([128, 2, 2])\n",
      "torch.Size([128, 2, 2])\n",
      "torch.Size([128, 2, 2])"
     ]
    },
    {
     "name": "stderr",
     "output_type": "stream",
     "text": [
      "\r",
      " 51%|████████████████████████████████████████▌                                       | 114/225 [00:10<00:10, 10.79it/s]"
     ]
    },
    {
     "name": "stdout",
     "output_type": "stream",
     "text": [
      "\n",
      "torch.Size([128, 2, 2])\n",
      "torch.Size([128, 2, 2])\n",
      "torch.Size([128, 2, 2])\n",
      "torch.Size([128, 2, 2])"
     ]
    },
    {
     "name": "stderr",
     "output_type": "stream",
     "text": [
      "\r",
      " 52%|█████████████████████████████████████████▏                                      | 116/225 [00:10<00:10, 10.89it/s]"
     ]
    },
    {
     "name": "stdout",
     "output_type": "stream",
     "text": [
      "\n",
      "torch.Size([128, 2, 2])\n",
      "torch.Size([128, 2, 2])\n",
      "torch.Size([128, 2, 2])\n",
      "torch.Size([128, 2, 2])\n"
     ]
    },
    {
     "name": "stderr",
     "output_type": "stream",
     "text": [
      "\r",
      " 52%|█████████████████████████████████████████▉                                      | 118/225 [00:11<00:09, 10.95it/s]"
     ]
    },
    {
     "name": "stdout",
     "output_type": "stream",
     "text": [
      "torch.Size([128, 2, 2])\n",
      "torch.Size([128, 2, 2])\n",
      "torch.Size([128, 2, 2])\n",
      "torch.Size([128, 2, 2])\n",
      "torch.Size([128, 2, 2])\n"
     ]
    },
    {
     "name": "stderr",
     "output_type": "stream",
     "text": [
      " 54%|███████████████████████████████████████████▍                                    | 122/225 [00:11<00:09, 10.98it/s]"
     ]
    },
    {
     "name": "stdout",
     "output_type": "stream",
     "text": [
      "torch.Size([128, 2, 2])\n",
      "torch.Size([128, 2, 2])\n",
      "torch.Size([128, 2, 2])\n",
      "torch.Size([128, 2, 2])\n",
      "torch.Size([128, 2, 2])\n"
     ]
    },
    {
     "name": "stderr",
     "output_type": "stream",
     "text": [
      "\r",
      " 55%|████████████████████████████████████████████                                    | 124/225 [00:11<00:09, 10.79it/s]"
     ]
    },
    {
     "name": "stdout",
     "output_type": "stream",
     "text": [
      "torch.Size([128, 2, 2])\n",
      "torch.Size([128, 2, 2])\n",
      "torch.Size([128, 2, 2])\n",
      "torch.Size([128, 2, 2])\n",
      "torch.Size([128, 2, 2])"
     ]
    },
    {
     "name": "stderr",
     "output_type": "stream",
     "text": [
      "\r",
      " 56%|████████████████████████████████████████████▊                                   | 126/225 [00:11<00:09, 10.63it/s]"
     ]
    },
    {
     "name": "stdout",
     "output_type": "stream",
     "text": [
      "\n",
      "torch.Size([128, 2, 2])\n",
      "torch.Size([128, 2, 2])\n",
      "torch.Size([128, 2, 2])\n",
      "torch.Size([128, 2, 2])"
     ]
    },
    {
     "name": "stderr",
     "output_type": "stream",
     "text": [
      "\r",
      " 57%|█████████████████████████████████████████████▌                                  | 128/225 [00:12<00:09, 10.70it/s]"
     ]
    },
    {
     "name": "stdout",
     "output_type": "stream",
     "text": [
      "\n",
      "torch.Size([128, 2, 2])\n",
      "torch.Size([128, 2, 2])\n",
      "torch.Size([128, 2, 2])\n",
      "torch.Size([128, 2, 2])"
     ]
    },
    {
     "name": "stderr",
     "output_type": "stream",
     "text": [
      "\r",
      " 58%|██████████████████████████████████████████████▏                                 | 130/225 [00:12<00:08, 10.79it/s]"
     ]
    },
    {
     "name": "stdout",
     "output_type": "stream",
     "text": [
      "\n",
      "torch.Size([128, 2, 2])\n",
      "torch.Size([128, 2, 2])\n",
      "torch.Size([128, 2, 2])\n",
      "torch.Size([128, 2, 2])"
     ]
    },
    {
     "name": "stderr",
     "output_type": "stream",
     "text": [
      "\r",
      " 59%|██████████████████████████████████████████████▉                                 | 132/225 [00:12<00:08, 10.73it/s]"
     ]
    },
    {
     "name": "stdout",
     "output_type": "stream",
     "text": [
      "\n",
      "torch.Size([128, 2, 2])\n",
      "torch.Size([128, 2, 2])\n",
      "torch.Size([128, 2, 2])\n",
      "torch.Size([128, 2, 2])"
     ]
    },
    {
     "name": "stderr",
     "output_type": "stream",
     "text": [
      "\r",
      " 60%|███████████████████████████████████████████████▋                                | 134/225 [00:12<00:08, 10.83it/s]"
     ]
    },
    {
     "name": "stdout",
     "output_type": "stream",
     "text": [
      "\n",
      "torch.Size([128, 2, 2])\n",
      "torch.Size([128, 2, 2])\n",
      "torch.Size([128, 2, 2])\n",
      "torch.Size([128, 2, 2])\n"
     ]
    },
    {
     "name": "stderr",
     "output_type": "stream",
     "text": [
      "\r",
      " 60%|████████████████████████████████████████████████▎                               | 136/225 [00:12<00:08, 10.92it/s]"
     ]
    },
    {
     "name": "stdout",
     "output_type": "stream",
     "text": [
      "torch.Size([128, 2, 2])\n",
      "torch.Size([128, 2, 2])\n",
      "torch.Size([128, 2, 2])\n",
      "torch.Size([128, 2, 2])\n",
      "torch.Size([128, 2, 2])\n"
     ]
    },
    {
     "name": "stderr",
     "output_type": "stream",
     "text": [
      "\r",
      " 61%|█████████████████████████████████████████████████                               | 138/225 [00:12<00:07, 10.97it/s]"
     ]
    },
    {
     "name": "stdout",
     "output_type": "stream",
     "text": [
      "torch.Size([128, 2, 2])\n",
      "torch.Size([128, 2, 2])\n",
      "torch.Size([128, 2, 2])\n",
      "torch.Size([128, 2, 2])\n",
      "torch.Size([128, 2, 2])\n"
     ]
    },
    {
     "name": "stderr",
     "output_type": "stream",
     "text": [
      " 63%|██████████████████████████████████████████████████▍                             | 142/225 [00:13<00:07, 11.03it/s]"
     ]
    },
    {
     "name": "stdout",
     "output_type": "stream",
     "text": [
      "torch.Size([128, 2, 2])\n",
      "torch.Size([128, 2, 2])\n",
      "torch.Size([128, 2, 2])\n",
      "torch.Size([128, 2, 2])\n",
      "torch.Size([128, 2, 2])\n"
     ]
    },
    {
     "name": "stderr",
     "output_type": "stream",
     "text": [
      "\r",
      " 64%|███████████████████████████████████████████████████▏                            | 144/225 [00:13<00:07, 10.99it/s]"
     ]
    },
    {
     "name": "stdout",
     "output_type": "stream",
     "text": [
      "torch.Size([128, 2, 2])\n",
      "torch.Size([128, 2, 2])\n",
      "torch.Size([128, 2, 2])\n",
      "torch.Size([128, 2, 2])\n",
      "torch.Size([128, 2, 2])"
     ]
    },
    {
     "name": "stderr",
     "output_type": "stream",
     "text": [
      "\r",
      " 65%|███████████████████████████████████████████████████▉                            | 146/225 [00:13<00:07, 10.80it/s]"
     ]
    },
    {
     "name": "stdout",
     "output_type": "stream",
     "text": [
      "\n",
      "torch.Size([128, 2, 2])\n",
      "torch.Size([128, 2, 2])\n",
      "torch.Size([128, 2, 2])\n",
      "torch.Size([128, 2, 2])"
     ]
    },
    {
     "name": "stderr",
     "output_type": "stream",
     "text": [
      "\r",
      " 66%|████████████████████████████████████████████████████▌                           | 148/225 [00:13<00:07, 10.87it/s]"
     ]
    },
    {
     "name": "stdout",
     "output_type": "stream",
     "text": [
      "\n",
      "torch.Size([128, 2, 2])\n",
      "torch.Size([128, 2, 2])\n",
      "torch.Size([128, 2, 2])\n",
      "torch.Size([128, 2, 2])\n"
     ]
    },
    {
     "name": "stderr",
     "output_type": "stream",
     "text": [
      "\r",
      " 67%|█████████████████████████████████████████████████████▎                          | 150/225 [00:14<00:06, 10.94it/s]"
     ]
    },
    {
     "name": "stdout",
     "output_type": "stream",
     "text": [
      "torch.Size([128, 2, 2])\n",
      "torch.Size([128, 2, 2])\n",
      "torch.Size([128, 2, 2])\n",
      "torch.Size([128, 2, 2])\n",
      "torch.Size([128, 2, 2])\n"
     ]
    },
    {
     "name": "stderr",
     "output_type": "stream",
     "text": [
      "\r",
      " 68%|██████████████████████████████████████████████████████                          | 152/225 [00:14<00:06, 10.96it/s]"
     ]
    },
    {
     "name": "stdout",
     "output_type": "stream",
     "text": [
      "torch.Size([128, 2, 2])\n",
      "torch.Size([128, 2, 2])\n",
      "torch.Size([128, 2, 2])\n",
      "torch.Size([128, 2, 2])\n",
      "torch.Size([128, 2, 2])\n"
     ]
    },
    {
     "name": "stderr",
     "output_type": "stream",
     "text": [
      " 69%|███████████████████████████████████████████████████████▍                        | 156/225 [00:14<00:06, 10.94it/s]"
     ]
    },
    {
     "name": "stdout",
     "output_type": "stream",
     "text": [
      "torch.Size([128, 2, 2])\n",
      "torch.Size([128, 2, 2])\n",
      "torch.Size([128, 2, 2])\n",
      "torch.Size([128, 2, 2])\n",
      "torch.Size([128, 2, 2])\n"
     ]
    },
    {
     "name": "stderr",
     "output_type": "stream",
     "text": [
      "\r",
      " 70%|████████████████████████████████████████████████████████▏                       | 158/225 [00:14<00:06, 10.96it/s]"
     ]
    },
    {
     "name": "stdout",
     "output_type": "stream",
     "text": [
      "torch.Size([128, 2, 2])\n",
      "torch.Size([128, 2, 2])\n",
      "torch.Size([128, 2, 2])\n",
      "torch.Size([128, 2, 2])\n",
      "torch.Size([128, 2, 2])"
     ]
    },
    {
     "name": "stderr",
     "output_type": "stream",
     "text": [
      "\r",
      " 71%|████████████████████████████████████████████████████████▉                       | 160/225 [00:14<00:05, 10.93it/s]"
     ]
    },
    {
     "name": "stdout",
     "output_type": "stream",
     "text": [
      "\n",
      "torch.Size([128, 2, 2])\n",
      "torch.Size([128, 2, 2])\n",
      "torch.Size([128, 2, 2])\n",
      "torch.Size([128, 2, 2])"
     ]
    },
    {
     "name": "stderr",
     "output_type": "stream",
     "text": [
      "\r",
      " 72%|█████████████████████████████████████████████████████████▌                      | 162/225 [00:15<00:05, 10.74it/s]"
     ]
    },
    {
     "name": "stdout",
     "output_type": "stream",
     "text": [
      "\n",
      "torch.Size([128, 2, 2])\n",
      "torch.Size([128, 2, 2])\n",
      "torch.Size([128, 2, 2])\n",
      "torch.Size([128, 2, 2])"
     ]
    },
    {
     "name": "stderr",
     "output_type": "stream",
     "text": [
      "\r",
      " 73%|██████████████████████████████████████████████████████████▎                     | 164/225 [00:15<00:05, 10.72it/s]"
     ]
    },
    {
     "name": "stdout",
     "output_type": "stream",
     "text": [
      "\n",
      "torch.Size([128, 2, 2])\n",
      "torch.Size([128, 2, 2])\n",
      "torch.Size([128, 2, 2])\n",
      "torch.Size([128, 2, 2])"
     ]
    },
    {
     "name": "stderr",
     "output_type": "stream",
     "text": [
      "\r",
      " 74%|███████████████████████████████████████████████████████████                     | 166/225 [00:15<00:05, 10.75it/s]"
     ]
    },
    {
     "name": "stdout",
     "output_type": "stream",
     "text": [
      "\n",
      "torch.Size([128, 2, 2])\n",
      "torch.Size([128, 2, 2])\n",
      "torch.Size([128, 2, 2])\n",
      "torch.Size([128, 2, 2])"
     ]
    },
    {
     "name": "stderr",
     "output_type": "stream",
     "text": [
      "\r",
      " 75%|███████████████████████████████████████████████████████████▋                    | 168/225 [00:15<00:05, 10.81it/s]"
     ]
    },
    {
     "name": "stdout",
     "output_type": "stream",
     "text": [
      "\n",
      "torch.Size([128, 2, 2])\n",
      "torch.Size([128, 2, 2])\n",
      "torch.Size([128, 2, 2])\n",
      "torch.Size([128, 2, 2])"
     ]
    },
    {
     "name": "stderr",
     "output_type": "stream",
     "text": [
      "\r",
      " 76%|████████████████████████████████████████████████████████████▍                   | 170/225 [00:15<00:05, 10.46it/s]"
     ]
    },
    {
     "name": "stdout",
     "output_type": "stream",
     "text": [
      "\n",
      "torch.Size([128, 2, 2])\n",
      "torch.Size([128, 2, 2])\n",
      "torch.Size([128, 2, 2])\n",
      "torch.Size([128, 2, 2])"
     ]
    },
    {
     "name": "stderr",
     "output_type": "stream",
     "text": [
      "\r",
      " 76%|█████████████████████████████████████████████████████████████▏                  | 172/225 [00:16<00:04, 10.64it/s]"
     ]
    },
    {
     "name": "stdout",
     "output_type": "stream",
     "text": [
      "\n",
      "torch.Size([128, 2, 2])\n",
      "torch.Size([128, 2, 2])\n",
      "torch.Size([128, 2, 2])\n",
      "torch.Size([128, 2, 2])"
     ]
    },
    {
     "name": "stderr",
     "output_type": "stream",
     "text": [
      "\r",
      " 77%|█████████████████████████████████████████████████████████████▊                  | 174/225 [00:16<00:04, 10.76it/s]"
     ]
    },
    {
     "name": "stdout",
     "output_type": "stream",
     "text": [
      "\n",
      "torch.Size([128, 2, 2])\n",
      "torch.Size([128, 2, 2])\n",
      "torch.Size([128, 2, 2])\n",
      "torch.Size([128, 2, 2])"
     ]
    },
    {
     "name": "stderr",
     "output_type": "stream",
     "text": [
      "\r",
      " 78%|██████████████████████████████████████████████████████████████▌                 | 176/225 [00:16<00:04, 10.68it/s]"
     ]
    },
    {
     "name": "stdout",
     "output_type": "stream",
     "text": [
      "\n",
      "torch.Size([128, 2, 2])\n",
      "torch.Size([128, 2, 2])\n",
      "torch.Size([128, 2, 2])\n",
      "torch.Size([128, 2, 2])"
     ]
    },
    {
     "name": "stderr",
     "output_type": "stream",
     "text": [
      "\r",
      " 79%|███████████████████████████████████████████████████████████████▎                | 178/225 [00:16<00:04, 10.61it/s]"
     ]
    },
    {
     "name": "stdout",
     "output_type": "stream",
     "text": [
      "\n",
      "torch.Size([128, 2, 2])\n",
      "torch.Size([128, 2, 2])\n",
      "torch.Size([128, 2, 2])\n",
      "torch.Size([128, 2, 2])"
     ]
    },
    {
     "name": "stderr",
     "output_type": "stream",
     "text": [
      "\r",
      " 80%|████████████████████████████████████████████████████████████████                | 180/225 [00:16<00:04, 10.73it/s]"
     ]
    },
    {
     "name": "stdout",
     "output_type": "stream",
     "text": [
      "\n",
      "torch.Size([128, 2, 2])\n",
      "torch.Size([128, 2, 2])\n",
      "torch.Size([128, 2, 2])\n",
      "torch.Size([128, 2, 2])"
     ]
    },
    {
     "name": "stderr",
     "output_type": "stream",
     "text": [
      "\r",
      " 81%|████████████████████████████████████████████████████████████████▋               | 182/225 [00:17<00:04, 10.71it/s]"
     ]
    },
    {
     "name": "stdout",
     "output_type": "stream",
     "text": [
      "\n",
      "torch.Size([128, 2, 2])\n",
      "torch.Size([128, 2, 2])\n",
      "torch.Size([128, 2, 2])\n",
      "torch.Size([128, 2, 2])"
     ]
    },
    {
     "name": "stderr",
     "output_type": "stream",
     "text": [
      "\r",
      " 82%|█████████████████████████████████████████████████████████████████▍              | 184/225 [00:17<00:03, 10.83it/s]"
     ]
    },
    {
     "name": "stdout",
     "output_type": "stream",
     "text": [
      "\n",
      "torch.Size([128, 2, 2])\n",
      "torch.Size([128, 2, 2])\n",
      "torch.Size([128, 2, 2])\n",
      "torch.Size([128, 2, 2])\n"
     ]
    },
    {
     "name": "stderr",
     "output_type": "stream",
     "text": [
      "\r",
      " 83%|██████████████████████████████████████████████████████████████████▏             | 186/225 [00:17<00:03, 10.83it/s]"
     ]
    },
    {
     "name": "stdout",
     "output_type": "stream",
     "text": [
      "torch.Size([128, 2, 2])\n",
      "torch.Size([128, 2, 2])\n",
      "torch.Size([128, 2, 2])\n",
      "torch.Size([128, 2, 2])\n",
      "torch.Size([128, 2, 2])\n"
     ]
    },
    {
     "name": "stderr",
     "output_type": "stream",
     "text": [
      "\r",
      " 84%|██████████████████████████████████████████████████████████████████▊             | 188/225 [00:17<00:03, 10.88it/s]"
     ]
    },
    {
     "name": "stdout",
     "output_type": "stream",
     "text": [
      "torch.Size([128, 2, 2])\n",
      "torch.Size([128, 2, 2])\n",
      "torch.Size([128, 2, 2])\n",
      "torch.Size([128, 2, 2])\n",
      "torch.Size([128, 2, 2])\n"
     ]
    },
    {
     "name": "stderr",
     "output_type": "stream",
     "text": [
      " 85%|████████████████████████████████████████████████████████████████████▎           | 192/225 [00:17<00:03, 10.98it/s]"
     ]
    },
    {
     "name": "stdout",
     "output_type": "stream",
     "text": [
      "torch.Size([128, 2, 2])\n",
      "torch.Size([128, 2, 2])\n",
      "torch.Size([128, 2, 2])\n",
      "torch.Size([128, 2, 2])\n",
      "torch.Size([128, 2, 2])\n"
     ]
    },
    {
     "name": "stderr",
     "output_type": "stream",
     "text": [
      "\r",
      " 86%|████████████████████████████████████████████████████████████████████▉           | 194/225 [00:18<00:02, 10.95it/s]"
     ]
    },
    {
     "name": "stdout",
     "output_type": "stream",
     "text": [
      "torch.Size([128, 2, 2])\n",
      "torch.Size([128, 2, 2])\n",
      "torch.Size([128, 2, 2])\n",
      "torch.Size([128, 2, 2])\n",
      "torch.Size([128, 2, 2])"
     ]
    },
    {
     "name": "stderr",
     "output_type": "stream",
     "text": [
      "\r",
      " 87%|█████████████████████████████████████████████████████████████████████▋          | 196/225 [00:18<00:02, 10.70it/s]"
     ]
    },
    {
     "name": "stdout",
     "output_type": "stream",
     "text": [
      "\n",
      "torch.Size([128, 2, 2])\n",
      "torch.Size([128, 2, 2])\n",
      "torch.Size([128, 2, 2])\n",
      "torch.Size([128, 2, 2])"
     ]
    },
    {
     "name": "stderr",
     "output_type": "stream",
     "text": [
      "\r",
      " 88%|██████████████████████████████████████████████████████████████████████▍         | 198/225 [00:18<00:02, 10.78it/s]"
     ]
    },
    {
     "name": "stdout",
     "output_type": "stream",
     "text": [
      "\n",
      "torch.Size([128, 2, 2])\n",
      "torch.Size([128, 2, 2])\n",
      "torch.Size([128, 2, 2])\n",
      "torch.Size([128, 2, 2])"
     ]
    },
    {
     "name": "stderr",
     "output_type": "stream",
     "text": [
      "\r",
      " 89%|███████████████████████████████████████████████████████████████████████         | 200/225 [00:18<00:02, 10.65it/s]"
     ]
    },
    {
     "name": "stdout",
     "output_type": "stream",
     "text": [
      "\n",
      "torch.Size([128, 2, 2])\n",
      "torch.Size([128, 2, 2])\n",
      "torch.Size([128, 2, 2])\n",
      "torch.Size([128, 2, 2])"
     ]
    },
    {
     "name": "stderr",
     "output_type": "stream",
     "text": [
      "\r",
      " 90%|███████████████████████████████████████████████████████████████████████▊        | 202/225 [00:18<00:02, 10.56it/s]"
     ]
    },
    {
     "name": "stdout",
     "output_type": "stream",
     "text": [
      "\n",
      "torch.Size([128, 2, 2])\n",
      "torch.Size([128, 2, 2])\n",
      "torch.Size([128, 2, 2])\n",
      "torch.Size([128, 2, 2])"
     ]
    },
    {
     "name": "stderr",
     "output_type": "stream",
     "text": [
      "\r",
      " 91%|████████████████████████████████████████████████████████████████████████▌       | 204/225 [00:19<00:01, 10.72it/s]"
     ]
    },
    {
     "name": "stdout",
     "output_type": "stream",
     "text": [
      "\n",
      "torch.Size([128, 2, 2])\n",
      "torch.Size([128, 2, 2])\n",
      "torch.Size([128, 2, 2])\n",
      "torch.Size([128, 2, 2])"
     ]
    },
    {
     "name": "stderr",
     "output_type": "stream",
     "text": [
      "\r",
      " 92%|█████████████████████████████████████████████████████████████████████████▏      | 206/225 [00:19<00:01, 10.84it/s]"
     ]
    },
    {
     "name": "stdout",
     "output_type": "stream",
     "text": [
      "\n",
      "torch.Size([128, 2, 2])\n",
      "torch.Size([128, 2, 2])\n",
      "torch.Size([128, 2, 2])\n",
      "torch.Size([128, 2, 2])"
     ]
    },
    {
     "name": "stderr",
     "output_type": "stream",
     "text": [
      "\r",
      " 92%|█████████████████████████████████████████████████████████████████████████▉      | 208/225 [00:19<00:01, 10.45it/s]"
     ]
    },
    {
     "name": "stdout",
     "output_type": "stream",
     "text": [
      "\n",
      "torch.Size([128, 2, 2])\n",
      "torch.Size([128, 2, 2])\n",
      "torch.Size([128, 2, 2])\n",
      "torch.Size([128, 2, 2])"
     ]
    },
    {
     "name": "stderr",
     "output_type": "stream",
     "text": [
      "\r",
      " 93%|██████████████████████████████████████████████████████████████████████████▋     | 210/225 [00:19<00:01, 10.58it/s]"
     ]
    },
    {
     "name": "stdout",
     "output_type": "stream",
     "text": [
      "\n",
      "torch.Size([128, 2, 2])\n",
      "torch.Size([128, 2, 2])\n",
      "torch.Size([128, 2, 2])\n",
      "torch.Size([128, 2, 2])\n"
     ]
    },
    {
     "name": "stderr",
     "output_type": "stream",
     "text": [
      "\r",
      " 94%|███████████████████████████████████████████████████████████████████████████▍    | 212/225 [00:19<00:01, 10.56it/s]"
     ]
    },
    {
     "name": "stdout",
     "output_type": "stream",
     "text": [
      "torch.Size([128, 2, 2])\n",
      "torch.Size([128, 2, 2])\n",
      "torch.Size([128, 2, 2])\n",
      "torch.Size([128, 2, 2])\n",
      "torch.Size([128, 2, 2])"
     ]
    },
    {
     "name": "stderr",
     "output_type": "stream",
     "text": [
      "\r",
      " 95%|████████████████████████████████████████████████████████████████████████████    | 214/225 [00:19<00:01, 10.63it/s]"
     ]
    },
    {
     "name": "stdout",
     "output_type": "stream",
     "text": [
      "\n",
      "torch.Size([128, 2, 2])\n",
      "torch.Size([128, 2, 2])\n",
      "torch.Size([128, 2, 2])\n",
      "torch.Size([128, 2, 2])"
     ]
    },
    {
     "name": "stderr",
     "output_type": "stream",
     "text": [
      "\r",
      " 96%|████████████████████████████████████████████████████████████████████████████▊   | 216/225 [00:20<00:00, 10.70it/s]"
     ]
    },
    {
     "name": "stdout",
     "output_type": "stream",
     "text": [
      "\n",
      "torch.Size([128, 2, 2])\n",
      "torch.Size([128, 2, 2])\n",
      "torch.Size([128, 2, 2])\n",
      "torch.Size([128, 2, 2])"
     ]
    },
    {
     "name": "stderr",
     "output_type": "stream",
     "text": [
      "\r",
      " 97%|█████████████████████████████████████████████████████████████████████████████▌  | 218/225 [00:20<00:00, 10.73it/s]"
     ]
    },
    {
     "name": "stdout",
     "output_type": "stream",
     "text": [
      "\n",
      "torch.Size([128, 2, 2])\n",
      "torch.Size([128, 2, 2])\n",
      "torch.Size([128, 2, 2])\n",
      "torch.Size([128, 2, 2])"
     ]
    },
    {
     "name": "stderr",
     "output_type": "stream",
     "text": [
      "\r",
      " 98%|██████████████████████████████████████████████████████████████████████████████▏ | 220/225 [00:20<00:00, 10.72it/s]"
     ]
    },
    {
     "name": "stdout",
     "output_type": "stream",
     "text": [
      "\n",
      "torch.Size([128, 2, 2])\n",
      "torch.Size([128, 2, 2])\n",
      "torch.Size([128, 2, 2])\n",
      "torch.Size([128, 2, 2])"
     ]
    },
    {
     "name": "stderr",
     "output_type": "stream",
     "text": [
      "\r",
      " 99%|██████████████████████████████████████████████████████████████████████████████▉ | 222/225 [00:20<00:00, 10.58it/s]"
     ]
    },
    {
     "name": "stdout",
     "output_type": "stream",
     "text": [
      "\n",
      "torch.Size([128, 2, 2])\n",
      "torch.Size([128, 2, 2])\n",
      "torch.Size([128, 2, 2])\n",
      "torch.Size([128, 2, 2])"
     ]
    },
    {
     "name": "stderr",
     "output_type": "stream",
     "text": [
      "100%|████████████████████████████████████████████████████████████████████████████████| 225/225 [00:20<00:00, 10.72it/s]\n",
      "  0%|                                                                                          | 0/225 [00:00<?, ?it/s]"
     ]
    },
    {
     "name": "stdout",
     "output_type": "stream",
     "text": [
      "\n",
      "torch.Size([128, 2, 2])\n",
      "torch.Size([128, 2, 2])\n",
      "torch.Size([128, 2, 2])\n",
      "torch.Size([128, 2, 2])\n"
     ]
    },
    {
     "name": "stderr",
     "output_type": "stream",
     "text": [
      "  1%|▋                                                                                 | 2/225 [00:00<00:23,  9.52it/s]"
     ]
    },
    {
     "name": "stdout",
     "output_type": "stream",
     "text": [
      "torch.Size([128, 2, 2])\n",
      "torch.Size([128, 2, 2])\n",
      "torch.Size([128, 2, 2])\n",
      "torch.Size([128, 2, 2])\n"
     ]
    },
    {
     "name": "stderr",
     "output_type": "stream",
     "text": [
      "\r",
      "  1%|█                                                                                 | 3/225 [00:00<00:23,  9.58it/s]"
     ]
    },
    {
     "name": "stdout",
     "output_type": "stream",
     "text": [
      "torch.Size([128, 2, 2])\n",
      "torch.Size([128, 2, 2])\n",
      "torch.Size([128, 2, 2])\n",
      "torch.Size([128, 2, 2])\n",
      "torch.Size([128, 2, 2])\n"
     ]
    },
    {
     "name": "stderr",
     "output_type": "stream",
     "text": [
      "  3%|██▌                                                                               | 7/225 [00:00<00:21, 10.20it/s]"
     ]
    },
    {
     "name": "stdout",
     "output_type": "stream",
     "text": [
      "torch.Size([128, 2, 2])\n",
      "torch.Size([128, 2, 2])\n",
      "torch.Size([128, 2, 2])\n",
      "torch.Size([128, 2, 2])\n"
     ]
    },
    {
     "name": "stderr",
     "output_type": "stream",
     "text": [
      "\r",
      "  4%|███▎                                                                              | 9/225 [00:00<00:20, 10.45it/s]"
     ]
    },
    {
     "name": "stdout",
     "output_type": "stream",
     "text": [
      "torch.Size([128, 2, 2])\n",
      "torch.Size([128, 2, 2])\n",
      "torch.Size([128, 2, 2])\n",
      "torch.Size([128, 2, 2])\n",
      "torch.Size([128, 2, 2])\n"
     ]
    },
    {
     "name": "stderr",
     "output_type": "stream",
     "text": [
      "\r",
      "  5%|███▉                                                                             | 11/225 [00:01<00:20, 10.63it/s]"
     ]
    },
    {
     "name": "stdout",
     "output_type": "stream",
     "text": [
      "torch.Size([128, 2, 2])\n",
      "torch.Size([128, 2, 2])\n",
      "torch.Size([128, 2, 2])\n",
      "torch.Size([128, 2, 2])\n",
      "torch.Size([128, 2, 2])\n"
     ]
    },
    {
     "name": "stderr",
     "output_type": "stream",
     "text": [
      "\r",
      "  6%|████▋                                                                            | 13/225 [00:01<00:19, 10.77it/s]"
     ]
    },
    {
     "name": "stdout",
     "output_type": "stream",
     "text": [
      "torch.Size([128, 2, 2])\n",
      "torch.Size([128, 2, 2])\n",
      "torch.Size([128, 2, 2])\n",
      "torch.Size([128, 2, 2])\n",
      "torch.Size([128, 2, 2])\n"
     ]
    },
    {
     "name": "stderr",
     "output_type": "stream",
     "text": [
      "\r",
      "  7%|█████▍                                                                           | 15/225 [00:01<00:19, 10.87it/s]"
     ]
    },
    {
     "name": "stdout",
     "output_type": "stream",
     "text": [
      "torch.Size([128, 2, 2])\n",
      "torch.Size([128, 2, 2])\n",
      "torch.Size([128, 2, 2])\n",
      "torch.Size([128, 2, 2])\n",
      "torch.Size([128, 2, 2])"
     ]
    },
    {
     "name": "stderr",
     "output_type": "stream",
     "text": [
      "\r",
      "  8%|██████                                                                           | 17/225 [00:01<00:18, 10.96it/s]"
     ]
    },
    {
     "name": "stdout",
     "output_type": "stream",
     "text": [
      "\n",
      "torch.Size([128, 2, 2])\n",
      "torch.Size([128, 2, 2])\n",
      "torch.Size([128, 2, 2])\n",
      "torch.Size([128, 2, 2])\n"
     ]
    },
    {
     "name": "stderr",
     "output_type": "stream",
     "text": [
      "  9%|███████▌                                                                         | 21/225 [00:01<00:18, 11.07it/s]"
     ]
    },
    {
     "name": "stdout",
     "output_type": "stream",
     "text": [
      "torch.Size([128, 2, 2])\n",
      "torch.Size([128, 2, 2])\n",
      "torch.Size([128, 2, 2])\n",
      "torch.Size([128, 2, 2])\n",
      "torch.Size([128, 2, 2])\n"
     ]
    },
    {
     "name": "stderr",
     "output_type": "stream",
     "text": [
      "\r",
      " 10%|████████▎                                                                        | 23/225 [00:02<00:18, 11.06it/s]"
     ]
    },
    {
     "name": "stdout",
     "output_type": "stream",
     "text": [
      "torch.Size([128, 2, 2])\n",
      "torch.Size([128, 2, 2])\n",
      "torch.Size([128, 2, 2])\n",
      "torch.Size([128, 2, 2])\n",
      "torch.Size([128, 2, 2])\n"
     ]
    },
    {
     "name": "stderr",
     "output_type": "stream",
     "text": [
      "\r",
      " 11%|█████████                                                                        | 25/225 [00:02<00:18, 11.07it/s]"
     ]
    },
    {
     "name": "stdout",
     "output_type": "stream",
     "text": [
      "torch.Size([128, 2, 2])\n",
      "torch.Size([128, 2, 2])\n",
      "torch.Size([128, 2, 2])\n",
      "torch.Size([128, 2, 2])\n",
      "torch.Size([128, 2, 2])"
     ]
    },
    {
     "name": "stderr",
     "output_type": "stream",
     "text": [
      "\r",
      " 12%|█████████▋                                                                       | 27/225 [00:02<00:18, 10.75it/s]"
     ]
    },
    {
     "name": "stdout",
     "output_type": "stream",
     "text": [
      "\n",
      "torch.Size([128, 2, 2])\n",
      "torch.Size([128, 2, 2])\n",
      "torch.Size([128, 2, 2])\n",
      "torch.Size([128, 2, 2])"
     ]
    },
    {
     "name": "stderr",
     "output_type": "stream",
     "text": [
      "\r",
      " 13%|██████████▍                                                                      | 29/225 [00:02<00:18, 10.86it/s]"
     ]
    },
    {
     "name": "stdout",
     "output_type": "stream",
     "text": [
      "\n",
      "torch.Size([128, 2, 2])\n",
      "torch.Size([128, 2, 2])\n",
      "torch.Size([128, 2, 2])\n",
      "torch.Size([128, 2, 2])\n"
     ]
    },
    {
     "name": "stderr",
     "output_type": "stream",
     "text": [
      "\r",
      " 14%|███████████▏                                                                     | 31/225 [00:02<00:17, 10.89it/s]"
     ]
    },
    {
     "name": "stdout",
     "output_type": "stream",
     "text": [
      "torch.Size([128, 2, 2])\n",
      "torch.Size([128, 2, 2])\n",
      "torch.Size([128, 2, 2])\n",
      "torch.Size([128, 2, 2])\n",
      "torch.Size([128, 2, 2])"
     ]
    },
    {
     "name": "stderr",
     "output_type": "stream",
     "text": [
      "\r",
      " 15%|███████████▉                                                                     | 33/225 [00:03<00:17, 10.75it/s]"
     ]
    },
    {
     "name": "stdout",
     "output_type": "stream",
     "text": [
      "\n",
      "torch.Size([128, 2, 2])\n",
      "torch.Size([128, 2, 2])\n",
      "torch.Size([128, 2, 2])\n",
      "torch.Size([128, 2, 2])"
     ]
    },
    {
     "name": "stderr",
     "output_type": "stream",
     "text": [
      "\r",
      " 16%|████████████▌                                                                    | 35/225 [00:03<00:17, 10.64it/s]"
     ]
    },
    {
     "name": "stdout",
     "output_type": "stream",
     "text": [
      "\n",
      "torch.Size([128, 2, 2])\n",
      "torch.Size([128, 2, 2])\n",
      "torch.Size([128, 2, 2])\n",
      "torch.Size([128, 2, 2])"
     ]
    },
    {
     "name": "stderr",
     "output_type": "stream",
     "text": [
      "\r",
      " 16%|█████████████▎                                                                   | 37/225 [00:03<00:17, 10.58it/s]"
     ]
    },
    {
     "name": "stdout",
     "output_type": "stream",
     "text": [
      "\n",
      "torch.Size([128, 2, 2])\n",
      "torch.Size([128, 2, 2])\n",
      "torch.Size([128, 2, 2])\n",
      "torch.Size([128, 2, 2])"
     ]
    },
    {
     "name": "stderr",
     "output_type": "stream",
     "text": [
      "\r",
      " 17%|██████████████                                                                   | 39/225 [00:03<00:17, 10.51it/s]"
     ]
    },
    {
     "name": "stdout",
     "output_type": "stream",
     "text": [
      "\n",
      "torch.Size([128, 2, 2])\n",
      "torch.Size([128, 2, 2])\n",
      "torch.Size([128, 2, 2])\n",
      "torch.Size([128, 2, 2])"
     ]
    },
    {
     "name": "stderr",
     "output_type": "stream",
     "text": [
      "\r",
      " 18%|██████████████▊                                                                  | 41/225 [00:03<00:17, 10.48it/s]"
     ]
    },
    {
     "name": "stdout",
     "output_type": "stream",
     "text": [
      "\n",
      "torch.Size([128, 2, 2])\n",
      "torch.Size([128, 2, 2])\n",
      "torch.Size([128, 2, 2])\n",
      "torch.Size([128, 2, 2])"
     ]
    },
    {
     "name": "stderr",
     "output_type": "stream",
     "text": [
      "\r",
      " 19%|███████████████▍                                                                 | 43/225 [00:04<00:17, 10.35it/s]"
     ]
    },
    {
     "name": "stdout",
     "output_type": "stream",
     "text": [
      "\n",
      "torch.Size([128, 2, 2])\n",
      "torch.Size([128, 2, 2])\n",
      "torch.Size([128, 2, 2])\n",
      "torch.Size([128, 2, 2])"
     ]
    },
    {
     "name": "stderr",
     "output_type": "stream",
     "text": [
      "\r",
      " 20%|████████████████▏                                                                | 45/225 [00:04<00:17, 10.57it/s]"
     ]
    },
    {
     "name": "stdout",
     "output_type": "stream",
     "text": [
      "\n",
      "torch.Size([128, 2, 2])\n",
      "torch.Size([128, 2, 2])\n",
      "torch.Size([128, 2, 2])\n",
      "torch.Size([128, 2, 2])\n"
     ]
    },
    {
     "name": "stderr",
     "output_type": "stream",
     "text": [
      " 22%|█████████████████▋                                                               | 49/225 [00:04<00:16, 10.81it/s]"
     ]
    },
    {
     "name": "stdout",
     "output_type": "stream",
     "text": [
      "torch.Size([128, 2, 2])\n",
      "torch.Size([128, 2, 2])\n",
      "torch.Size([128, 2, 2])\n",
      "torch.Size([128, 2, 2])\n",
      "torch.Size([128, 2, 2])\n"
     ]
    },
    {
     "name": "stderr",
     "output_type": "stream",
     "text": [
      "\r",
      " 23%|██████████████████▎                                                              | 51/225 [00:04<00:16, 10.79it/s]"
     ]
    },
    {
     "name": "stdout",
     "output_type": "stream",
     "text": [
      "torch.Size([128, 2, 2])\n",
      "torch.Size([128, 2, 2])\n",
      "torch.Size([128, 2, 2])\n",
      "torch.Size([128, 2, 2])\n",
      "torch.Size([128, 2, 2])"
     ]
    },
    {
     "name": "stderr",
     "output_type": "stream",
     "text": [
      "\r",
      " 24%|███████████████████                                                              | 53/225 [00:04<00:16, 10.64it/s]"
     ]
    },
    {
     "name": "stdout",
     "output_type": "stream",
     "text": [
      "\n",
      "torch.Size([128, 2, 2])\n",
      "torch.Size([128, 2, 2])\n",
      "torch.Size([128, 2, 2])\n"
     ]
    },
    {
     "name": "stderr",
     "output_type": "stream",
     "text": [
      "\r",
      " 24%|███████████████████▊                                                             | 55/225 [00:05<00:16, 10.58it/s]"
     ]
    },
    {
     "name": "stdout",
     "output_type": "stream",
     "text": [
      "torch.Size([128, 2, 2])\n",
      "torch.Size([128, 2, 2])\n",
      "torch.Size([128, 2, 2])\n",
      "torch.Size([128, 2, 2])\n",
      "torch.Size([128, 2, 2])\n"
     ]
    },
    {
     "name": "stderr",
     "output_type": "stream",
     "text": [
      "\r",
      " 25%|████████████████████▌                                                            | 57/225 [00:05<00:15, 10.73it/s]"
     ]
    },
    {
     "name": "stdout",
     "output_type": "stream",
     "text": [
      "torch.Size([128, 2, 2])\n",
      "torch.Size([128, 2, 2])\n",
      "torch.Size([128, 2, 2])\n",
      "torch.Size([128, 2, 2])\n",
      "torch.Size([128, 2, 2])\n"
     ]
    },
    {
     "name": "stderr",
     "output_type": "stream",
     "text": [
      "\r",
      " 26%|█████████████████████▏                                                           | 59/225 [00:05<00:15, 10.81it/s]"
     ]
    },
    {
     "name": "stdout",
     "output_type": "stream",
     "text": [
      "torch.Size([128, 2, 2])\n",
      "torch.Size([128, 2, 2])\n",
      "torch.Size([128, 2, 2])\n",
      "torch.Size([128, 2, 2])\n",
      "torch.Size([128, 2, 2])"
     ]
    },
    {
     "name": "stderr",
     "output_type": "stream",
     "text": [
      "\r",
      " 27%|█████████████████████▉                                                           | 61/225 [00:05<00:15, 10.85it/s]"
     ]
    },
    {
     "name": "stdout",
     "output_type": "stream",
     "text": [
      "\n",
      "torch.Size([128, 2, 2])\n",
      "torch.Size([128, 2, 2])\n",
      "torch.Size([128, 2, 2])\n",
      "torch.Size([128, 2, 2])"
     ]
    },
    {
     "name": "stderr",
     "output_type": "stream",
     "text": [
      "\r",
      " 28%|██████████████████████▋                                                          | 63/225 [00:05<00:14, 10.92it/s]"
     ]
    },
    {
     "name": "stdout",
     "output_type": "stream",
     "text": [
      "\n",
      "torch.Size([128, 2, 2])\n",
      "torch.Size([128, 2, 2])\n",
      "torch.Size([128, 2, 2])\n",
      "torch.Size([128, 2, 2])\n"
     ]
    },
    {
     "name": "stderr",
     "output_type": "stream",
     "text": [
      " 30%|████████████████████████                                                         | 67/225 [00:06<00:14, 11.01it/s]"
     ]
    },
    {
     "name": "stdout",
     "output_type": "stream",
     "text": [
      "torch.Size([128, 2, 2])\n",
      "torch.Size([128, 2, 2])\n",
      "torch.Size([128, 2, 2])\n",
      "torch.Size([128, 2, 2])\n",
      "torch.Size([128, 2, 2])\n"
     ]
    },
    {
     "name": "stderr",
     "output_type": "stream",
     "text": [
      "\r",
      " 31%|████████████████████████▊                                                        | 69/225 [00:06<00:14, 11.01it/s]"
     ]
    },
    {
     "name": "stdout",
     "output_type": "stream",
     "text": [
      "torch.Size([128, 2, 2])\n",
      "torch.Size([128, 2, 2])\n",
      "torch.Size([128, 2, 2])\n",
      "torch.Size([128, 2, 2])\n",
      "torch.Size([128, 2, 2])\n"
     ]
    },
    {
     "name": "stderr",
     "output_type": "stream",
     "text": [
      "\r",
      " 32%|█████████████████████████▌                                                       | 71/225 [00:06<00:13, 11.02it/s]"
     ]
    },
    {
     "name": "stdout",
     "output_type": "stream",
     "text": [
      "torch.Size([128, 2, 2])\n",
      "torch.Size([128, 2, 2])\n",
      "torch.Size([128, 2, 2])\n",
      "torch.Size([128, 2, 2])\n",
      "torch.Size([128, 2, 2])\n"
     ]
    },
    {
     "name": "stderr",
     "output_type": "stream",
     "text": [
      "\r",
      " 32%|██████████████████████████▎                                                      | 73/225 [00:06<00:13, 11.06it/s]"
     ]
    },
    {
     "name": "stdout",
     "output_type": "stream",
     "text": [
      "torch.Size([128, 2, 2])\n",
      "torch.Size([128, 2, 2])\n",
      "torch.Size([128, 2, 2])\n",
      "torch.Size([128, 2, 2])\n",
      "torch.Size([128, 2, 2])"
     ]
    },
    {
     "name": "stderr",
     "output_type": "stream",
     "text": [
      "\r",
      " 33%|███████████████████████████                                                      | 75/225 [00:06<00:13, 11.01it/s]"
     ]
    },
    {
     "name": "stdout",
     "output_type": "stream",
     "text": [
      "\n",
      "torch.Size([128, 2, 2])\n",
      "torch.Size([128, 2, 2])\n",
      "torch.Size([128, 2, 2])\n",
      "torch.Size([128, 2, 2])"
     ]
    },
    {
     "name": "stderr",
     "output_type": "stream",
     "text": [
      "\r",
      " 34%|███████████████████████████▋                                                     | 77/225 [00:07<00:13, 10.98it/s]"
     ]
    },
    {
     "name": "stdout",
     "output_type": "stream",
     "text": [
      "\n",
      "torch.Size([128, 2, 2])\n",
      "torch.Size([128, 2, 2])\n",
      "torch.Size([128, 2, 2])\n",
      "torch.Size([128, 2, 2])"
     ]
    },
    {
     "name": "stderr",
     "output_type": "stream",
     "text": [
      "\r",
      " 35%|████████████████████████████▍                                                    | 79/225 [00:07<00:13, 11.00it/s]"
     ]
    },
    {
     "name": "stdout",
     "output_type": "stream",
     "text": [
      "\n",
      "torch.Size([128, 2, 2])\n",
      "torch.Size([128, 2, 2])\n",
      "torch.Size([128, 2, 2])\n",
      "torch.Size([128, 2, 2])"
     ]
    },
    {
     "name": "stderr",
     "output_type": "stream",
     "text": [
      "\r",
      " 36%|█████████████████████████████▏                                                   | 81/225 [00:07<00:13, 10.88it/s]"
     ]
    },
    {
     "name": "stdout",
     "output_type": "stream",
     "text": [
      "\n",
      "torch.Size([128, 2, 2])\n",
      "torch.Size([128, 2, 2])\n",
      "torch.Size([128, 2, 2])\n",
      "torch.Size([128, 2, 2])"
     ]
    },
    {
     "name": "stderr",
     "output_type": "stream",
     "text": [
      "\r",
      " 37%|█████████████████████████████▉                                                   | 83/225 [00:07<00:13, 10.75it/s]"
     ]
    },
    {
     "name": "stdout",
     "output_type": "stream",
     "text": [
      "\n",
      "torch.Size([128, 2, 2])\n",
      "torch.Size([128, 2, 2])\n",
      "torch.Size([128, 2, 2])\n",
      "torch.Size([128, 2, 2])\n"
     ]
    },
    {
     "name": "stderr",
     "output_type": "stream",
     "text": [
      " 39%|███████████████████████████████▎                                                 | 87/225 [00:08<00:12, 10.92it/s]"
     ]
    },
    {
     "name": "stdout",
     "output_type": "stream",
     "text": [
      "torch.Size([128, 2, 2])\n",
      "torch.Size([128, 2, 2])\n",
      "torch.Size([128, 2, 2])\n",
      "torch.Size([128, 2, 2])\n",
      "torch.Size([128, 2, 2])\n"
     ]
    },
    {
     "name": "stderr",
     "output_type": "stream",
     "text": [
      "\r",
      " 40%|████████████████████████████████                                                 | 89/225 [00:08<00:12, 10.97it/s]"
     ]
    },
    {
     "name": "stdout",
     "output_type": "stream",
     "text": [
      "torch.Size([128, 2, 2])\n",
      "torch.Size([128, 2, 2])\n",
      "torch.Size([128, 2, 2])\n",
      "torch.Size([128, 2, 2])\n",
      "torch.Size([128, 2, 2])\n"
     ]
    },
    {
     "name": "stderr",
     "output_type": "stream",
     "text": [
      "\r",
      " 40%|████████████████████████████████▊                                                | 91/225 [00:08<00:12, 10.98it/s]"
     ]
    },
    {
     "name": "stdout",
     "output_type": "stream",
     "text": [
      "torch.Size([128, 2, 2])\n",
      "torch.Size([128, 2, 2])\n",
      "torch.Size([128, 2, 2])\n",
      "torch.Size([128, 2, 2])\n",
      "torch.Size([128, 2, 2])\n"
     ]
    },
    {
     "name": "stderr",
     "output_type": "stream",
     "text": [
      "\r",
      " 41%|█████████████████████████████████▍                                               | 93/225 [00:08<00:11, 11.02it/s]"
     ]
    },
    {
     "name": "stdout",
     "output_type": "stream",
     "text": [
      "torch.Size([128, 2, 2])\n",
      "torch.Size([128, 2, 2])\n",
      "torch.Size([128, 2, 2])\n",
      "torch.Size([128, 2, 2])\n",
      "torch.Size([128, 2, 2])\n"
     ]
    },
    {
     "name": "stderr",
     "output_type": "stream",
     "text": [
      " 43%|██████████████████████████████████▉                                              | 97/225 [00:08<00:11, 11.08it/s]"
     ]
    },
    {
     "name": "stdout",
     "output_type": "stream",
     "text": [
      "torch.Size([128, 2, 2])\n",
      "torch.Size([128, 2, 2])\n",
      "torch.Size([128, 2, 2])\n",
      "torch.Size([128, 2, 2])\n",
      "torch.Size([128, 2, 2])\n"
     ]
    },
    {
     "name": "stderr",
     "output_type": "stream",
     "text": [
      "\r",
      " 44%|███████████████████████████████████▋                                             | 99/225 [00:09<00:11, 11.05it/s]"
     ]
    },
    {
     "name": "stdout",
     "output_type": "stream",
     "text": [
      "torch.Size([128, 2, 2])\n",
      "torch.Size([128, 2, 2])\n",
      "torch.Size([128, 2, 2])\n",
      "torch.Size([128, 2, 2])\n",
      "torch.Size([128, 2, 2])\n"
     ]
    },
    {
     "name": "stderr",
     "output_type": "stream",
     "text": [
      "\r",
      " 45%|███████████████████████████████████▉                                            | 101/225 [00:09<00:11, 11.00it/s]"
     ]
    },
    {
     "name": "stdout",
     "output_type": "stream",
     "text": [
      "torch.Size([128, 2, 2])\n",
      "torch.Size([128, 2, 2])\n",
      "torch.Size([128, 2, 2])\n",
      "torch.Size([128, 2, 2])\n",
      "torch.Size([128, 2, 2])\n"
     ]
    },
    {
     "name": "stderr",
     "output_type": "stream",
     "text": [
      "\r",
      " 46%|████████████████████████████████████▌                                           | 103/225 [00:09<00:11, 11.04it/s]"
     ]
    },
    {
     "name": "stdout",
     "output_type": "stream",
     "text": [
      "torch.Size([128, 2, 2])\n",
      "torch.Size([128, 2, 2])\n",
      "torch.Size([128, 2, 2])\n",
      "torch.Size([128, 2, 2])\n",
      "torch.Size([128, 2, 2])"
     ]
    },
    {
     "name": "stderr",
     "output_type": "stream",
     "text": [
      "\r",
      " 47%|█████████████████████████████████████▎                                          | 105/225 [00:09<00:11, 10.84it/s]"
     ]
    },
    {
     "name": "stdout",
     "output_type": "stream",
     "text": [
      "\n",
      "torch.Size([128, 2, 2])\n",
      "torch.Size([128, 2, 2])\n",
      "torch.Size([128, 2, 2])\n",
      "torch.Size([128, 2, 2])"
     ]
    },
    {
     "name": "stderr",
     "output_type": "stream",
     "text": [
      "\r",
      " 48%|██████████████████████████████████████                                          | 107/225 [00:09<00:11, 10.71it/s]"
     ]
    },
    {
     "name": "stdout",
     "output_type": "stream",
     "text": [
      "\n",
      "torch.Size([128, 2, 2])\n",
      "torch.Size([128, 2, 2])\n",
      "torch.Size([128, 2, 2])\n",
      "torch.Size([128, 2, 2])"
     ]
    },
    {
     "name": "stderr",
     "output_type": "stream",
     "text": [
      "\r",
      " 48%|██████████████████████████████████████▊                                         | 109/225 [00:10<00:10, 10.81it/s]"
     ]
    },
    {
     "name": "stdout",
     "output_type": "stream",
     "text": [
      "\n",
      "torch.Size([128, 2, 2])\n",
      "torch.Size([128, 2, 2])\n",
      "torch.Size([128, 2, 2])\n",
      "torch.Size([128, 2, 2])"
     ]
    },
    {
     "name": "stderr",
     "output_type": "stream",
     "text": [
      "\r",
      " 49%|███████████████████████████████████████▍                                        | 111/225 [00:10<00:10, 10.65it/s]"
     ]
    },
    {
     "name": "stdout",
     "output_type": "stream",
     "text": [
      "\n",
      "torch.Size([128, 2, 2])\n",
      "torch.Size([128, 2, 2])\n",
      "torch.Size([128, 2, 2])\n",
      "torch.Size([128, 2, 2])"
     ]
    },
    {
     "name": "stderr",
     "output_type": "stream",
     "text": [
      "\r",
      " 50%|████████████████████████████████████████▏                                       | 113/225 [00:10<00:10, 10.57it/s]"
     ]
    },
    {
     "name": "stdout",
     "output_type": "stream",
     "text": [
      "\n",
      "torch.Size([128, 2, 2])\n",
      "torch.Size([128, 2, 2])\n",
      "torch.Size([128, 2, 2])\n",
      "torch.Size([128, 2, 2])"
     ]
    },
    {
     "name": "stderr",
     "output_type": "stream",
     "text": [
      "\r",
      " 51%|████████████████████████████████████████▉                                       | 115/225 [00:10<00:10, 10.70it/s]"
     ]
    },
    {
     "name": "stdout",
     "output_type": "stream",
     "text": [
      "\n",
      "torch.Size([128, 2, 2])\n",
      "torch.Size([128, 2, 2])\n",
      "torch.Size([128, 2, 2])\n",
      "torch.Size([128, 2, 2])"
     ]
    },
    {
     "name": "stderr",
     "output_type": "stream",
     "text": [
      "\r",
      " 52%|█████████████████████████████████████████▌                                      | 117/225 [00:10<00:10, 10.72it/s]"
     ]
    },
    {
     "name": "stdout",
     "output_type": "stream",
     "text": [
      "\n",
      "torch.Size([128, 2, 2])\n",
      "torch.Size([128, 2, 2])\n",
      "torch.Size([128, 2, 2])\n"
     ]
    },
    {
     "name": "stderr",
     "output_type": "stream",
     "text": [
      "\r",
      " 53%|██████████████████████████████████████████▎                                     | 119/225 [00:11<00:10, 10.41it/s]"
     ]
    },
    {
     "name": "stdout",
     "output_type": "stream",
     "text": [
      "torch.Size([128, 2, 2])\n",
      "torch.Size([128, 2, 2])\n",
      "torch.Size([128, 2, 2])\n",
      "torch.Size([128, 2, 2])\n",
      "torch.Size([128, 2, 2])"
     ]
    },
    {
     "name": "stderr",
     "output_type": "stream",
     "text": [
      "\r",
      " 54%|███████████████████████████████████████████                                     | 121/225 [00:11<00:10, 10.38it/s]"
     ]
    },
    {
     "name": "stdout",
     "output_type": "stream",
     "text": [
      "\n",
      "torch.Size([128, 2, 2])\n",
      "torch.Size([128, 2, 2])\n",
      "torch.Size([128, 2, 2])\n",
      "torch.Size([128, 2, 2])"
     ]
    },
    {
     "name": "stderr",
     "output_type": "stream",
     "text": [
      "\r",
      " 55%|███████████████████████████████████████████▋                                    | 123/225 [00:11<00:09, 10.54it/s]"
     ]
    },
    {
     "name": "stdout",
     "output_type": "stream",
     "text": [
      "\n",
      "torch.Size([128, 2, 2])\n",
      "torch.Size([128, 2, 2])\n",
      "torch.Size([128, 2, 2])\n",
      "torch.Size([128, 2, 2])"
     ]
    },
    {
     "name": "stderr",
     "output_type": "stream",
     "text": [
      "\r",
      " 56%|████████████████████████████████████████████▍                                   | 125/225 [00:11<00:09, 10.67it/s]"
     ]
    },
    {
     "name": "stdout",
     "output_type": "stream",
     "text": [
      "\n",
      "torch.Size([128, 2, 2])\n",
      "torch.Size([128, 2, 2])\n",
      "torch.Size([128, 2, 2])\n",
      "torch.Size([128, 2, 2])"
     ]
    },
    {
     "name": "stderr",
     "output_type": "stream",
     "text": [
      "\r",
      " 56%|█████████████████████████████████████████████▏                                  | 127/225 [00:11<00:09, 10.54it/s]"
     ]
    },
    {
     "name": "stdout",
     "output_type": "stream",
     "text": [
      "\n",
      "torch.Size([128, 2, 2])\n",
      "torch.Size([128, 2, 2])\n",
      "torch.Size([128, 2, 2])\n"
     ]
    },
    {
     "name": "stderr",
     "output_type": "stream",
     "text": [
      "\r",
      " 57%|█████████████████████████████████████████████▊                                  | 129/225 [00:11<00:09, 10.05it/s]"
     ]
    },
    {
     "name": "stdout",
     "output_type": "stream",
     "text": [
      "torch.Size([128, 2, 2])\n",
      "torch.Size([128, 2, 2])\n",
      "torch.Size([128, 2, 2])\n",
      "torch.Size([128, 2, 2])\n",
      "torch.Size([128, 2, 2])\n"
     ]
    },
    {
     "name": "stderr",
     "output_type": "stream",
     "text": [
      " 59%|███████████████████████████████████████████████▎                                | 133/225 [00:12<00:08, 10.49it/s]"
     ]
    },
    {
     "name": "stdout",
     "output_type": "stream",
     "text": [
      "torch.Size([128, 2, 2])\n",
      "torch.Size([128, 2, 2])\n",
      "torch.Size([128, 2, 2])\n",
      "torch.Size([128, 2, 2])\n",
      "torch.Size([128, 2, 2])\n"
     ]
    },
    {
     "name": "stderr",
     "output_type": "stream",
     "text": [
      "\r",
      " 60%|████████████████████████████████████████████████                                | 135/225 [00:12<00:08, 10.55it/s]"
     ]
    },
    {
     "name": "stdout",
     "output_type": "stream",
     "text": [
      "torch.Size([128, 2, 2])\n",
      "torch.Size([128, 2, 2])\n",
      "torch.Size([128, 2, 2])\n",
      "torch.Size([128, 2, 2])\n",
      "torch.Size([128, 2, 2])"
     ]
    },
    {
     "name": "stderr",
     "output_type": "stream",
     "text": [
      "\r",
      " 61%|████████████████████████████████████████████████▋                               | 137/225 [00:12<00:08, 10.68it/s]"
     ]
    },
    {
     "name": "stdout",
     "output_type": "stream",
     "text": [
      "\n",
      "torch.Size([128, 2, 2])\n",
      "torch.Size([128, 2, 2])\n",
      "torch.Size([128, 2, 2])\n",
      "torch.Size([128, 2, 2])\n"
     ]
    },
    {
     "name": "stderr",
     "output_type": "stream",
     "text": [
      "\r",
      " 62%|█████████████████████████████████████████████████▍                              | 139/225 [00:12<00:08, 10.74it/s]"
     ]
    },
    {
     "name": "stdout",
     "output_type": "stream",
     "text": [
      "torch.Size([128, 2, 2])\n",
      "torch.Size([128, 2, 2])\n",
      "torch.Size([128, 2, 2])\n",
      "torch.Size([128, 2, 2])\n",
      "torch.Size([128, 2, 2])"
     ]
    },
    {
     "name": "stderr",
     "output_type": "stream",
     "text": [
      "\r",
      " 63%|██████████████████████████████████████████████████▏                             | 141/225 [00:13<00:07, 10.79it/s]"
     ]
    },
    {
     "name": "stdout",
     "output_type": "stream",
     "text": [
      "\n",
      "torch.Size([128, 2, 2])\n",
      "torch.Size([128, 2, 2])\n",
      "torch.Size([128, 2, 2])\n",
      "torch.Size([128, 2, 2])"
     ]
    },
    {
     "name": "stderr",
     "output_type": "stream",
     "text": [
      "\r",
      " 64%|██████████████████████████████████████████████████▊                             | 143/225 [00:13<00:07, 10.59it/s]"
     ]
    },
    {
     "name": "stdout",
     "output_type": "stream",
     "text": [
      "\n",
      "torch.Size([128, 2, 2])\n",
      "torch.Size([128, 2, 2])\n",
      "torch.Size([128, 2, 2])\n",
      "torch.Size([128, 2, 2])"
     ]
    },
    {
     "name": "stderr",
     "output_type": "stream",
     "text": [
      "\r",
      " 64%|███████████████████████████████████████████████████▌                            | 145/225 [00:13<00:07, 10.53it/s]"
     ]
    },
    {
     "name": "stdout",
     "output_type": "stream",
     "text": [
      "\n",
      "torch.Size([128, 2, 2])\n",
      "torch.Size([128, 2, 2])\n",
      "torch.Size([128, 2, 2])\n",
      "torch.Size([128, 2, 2])"
     ]
    },
    {
     "name": "stderr",
     "output_type": "stream",
     "text": [
      "\r",
      " 65%|████████████████████████████████████████████████████▎                           | 147/225 [00:13<00:07, 10.69it/s]"
     ]
    },
    {
     "name": "stdout",
     "output_type": "stream",
     "text": [
      "\n",
      "torch.Size([128, 2, 2])\n",
      "torch.Size([128, 2, 2])\n",
      "torch.Size([128, 2, 2])\n",
      "torch.Size([128, 2, 2])"
     ]
    },
    {
     "name": "stderr",
     "output_type": "stream",
     "text": [
      "\r",
      " 66%|████████████████████████████████████████████████████▉                           | 149/225 [00:13<00:07, 10.80it/s]"
     ]
    },
    {
     "name": "stdout",
     "output_type": "stream",
     "text": [
      "\n",
      "torch.Size([128, 2, 2])\n",
      "torch.Size([128, 2, 2])\n",
      "torch.Size([128, 2, 2])\n",
      "torch.Size([128, 2, 2])\n"
     ]
    },
    {
     "name": "stderr",
     "output_type": "stream",
     "text": [
      "\r",
      " 67%|█████████████████████████████████████████████████████▋                          | 151/225 [00:14<00:06, 10.88it/s]"
     ]
    },
    {
     "name": "stdout",
     "output_type": "stream",
     "text": [
      "torch.Size([128, 2, 2])\n",
      "torch.Size([128, 2, 2])\n",
      "torch.Size([128, 2, 2])\n",
      "torch.Size([128, 2, 2])\n",
      "torch.Size([128, 2, 2])\n"
     ]
    },
    {
     "name": "stderr",
     "output_type": "stream",
     "text": [
      " 69%|███████████████████████████████████████████████████████                         | 155/225 [00:14<00:06, 10.96it/s]"
     ]
    },
    {
     "name": "stdout",
     "output_type": "stream",
     "text": [
      "torch.Size([128, 2, 2])\n",
      "torch.Size([128, 2, 2])\n",
      "torch.Size([128, 2, 2])\n",
      "torch.Size([128, 2, 2])\n",
      "torch.Size([128, 2, 2])\n"
     ]
    },
    {
     "name": "stderr",
     "output_type": "stream",
     "text": [
      "\r",
      " 70%|███████████████████████████████████████████████████████▊                        | 157/225 [00:14<00:06, 11.00it/s]"
     ]
    },
    {
     "name": "stdout",
     "output_type": "stream",
     "text": [
      "torch.Size([128, 2, 2])\n",
      "torch.Size([128, 2, 2])\n",
      "torch.Size([128, 2, 2])\n",
      "torch.Size([128, 2, 2])\n",
      "torch.Size([128, 2, 2])\n"
     ]
    },
    {
     "name": "stderr",
     "output_type": "stream",
     "text": [
      "\r",
      " 71%|████████████████████████████████████████████████████████▌                       | 159/225 [00:14<00:06, 10.98it/s]"
     ]
    },
    {
     "name": "stdout",
     "output_type": "stream",
     "text": [
      "torch.Size([128, 2, 2])\n",
      "torch.Size([128, 2, 2])\n",
      "torch.Size([128, 2, 2])\n",
      "torch.Size([128, 2, 2])\n",
      "torch.Size([128, 2, 2])\n"
     ]
    },
    {
     "name": "stderr",
     "output_type": "stream",
     "text": [
      "\r",
      " 72%|█████████████████████████████████████████████████████████▏                      | 161/225 [00:14<00:05, 10.97it/s]"
     ]
    },
    {
     "name": "stdout",
     "output_type": "stream",
     "text": [
      "torch.Size([128, 2, 2])\n",
      "torch.Size([128, 2, 2])\n",
      "torch.Size([128, 2, 2])\n",
      "torch.Size([128, 2, 2])\n",
      "torch.Size([128, 2, 2])"
     ]
    },
    {
     "name": "stderr",
     "output_type": "stream",
     "text": [
      "\r",
      " 72%|█████████████████████████████████████████████████████████▉                      | 163/225 [00:15<00:05, 10.90it/s]"
     ]
    },
    {
     "name": "stdout",
     "output_type": "stream",
     "text": [
      "\n",
      "torch.Size([128, 2, 2])\n",
      "torch.Size([128, 2, 2])\n",
      "torch.Size([128, 2, 2])\n",
      "torch.Size([128, 2, 2])\n"
     ]
    },
    {
     "name": "stderr",
     "output_type": "stream",
     "text": [
      " 74%|███████████████████████████████████████████████████████████▍                    | 167/225 [00:15<00:05, 10.76it/s]"
     ]
    },
    {
     "name": "stdout",
     "output_type": "stream",
     "text": [
      "torch.Size([128, 2, 2])\n",
      "torch.Size([128, 2, 2])\n",
      "torch.Size([128, 2, 2])\n",
      "torch.Size([128, 2, 2])\n"
     ]
    },
    {
     "name": "stderr",
     "output_type": "stream",
     "text": [
      "\r",
      " 75%|████████████████████████████████████████████████████████████                    | 169/225 [00:15<00:05, 10.55it/s]"
     ]
    },
    {
     "name": "stdout",
     "output_type": "stream",
     "text": [
      "torch.Size([128, 2, 2])\n",
      "torch.Size([128, 2, 2])\n",
      "torch.Size([128, 2, 2])\n",
      "torch.Size([128, 2, 2])\n"
     ]
    },
    {
     "name": "stderr",
     "output_type": "stream",
     "text": [
      "\r",
      " 76%|████████████████████████████████████████████████████████████▊                   | 171/225 [00:15<00:05, 10.43it/s]"
     ]
    },
    {
     "name": "stdout",
     "output_type": "stream",
     "text": [
      "torch.Size([128, 2, 2])\n",
      "torch.Size([128, 2, 2])\n",
      "torch.Size([128, 2, 2])\n",
      "torch.Size([128, 2, 2])\n"
     ]
    },
    {
     "name": "stderr",
     "output_type": "stream",
     "text": [
      "\r",
      " 77%|█████████████████████████████████████████████████████████████▌                  | 173/225 [00:16<00:04, 10.47it/s]"
     ]
    },
    {
     "name": "stdout",
     "output_type": "stream",
     "text": [
      "torch.Size([128, 2, 2])\n",
      "torch.Size([128, 2, 2])\n",
      "torch.Size([128, 2, 2])\n",
      "torch.Size([128, 2, 2])\n"
     ]
    },
    {
     "name": "stderr",
     "output_type": "stream",
     "text": [
      "\r",
      " 78%|██████████████████████████████████████████████████████████████▏                 | 175/225 [00:16<00:04, 10.62it/s]"
     ]
    },
    {
     "name": "stdout",
     "output_type": "stream",
     "text": [
      "torch.Size([128, 2, 2])\n",
      "torch.Size([128, 2, 2])\n",
      "torch.Size([128, 2, 2])\n",
      "torch.Size([128, 2, 2])\n",
      "torch.Size([128, 2, 2])\n"
     ]
    },
    {
     "name": "stderr",
     "output_type": "stream",
     "text": [
      "\r",
      " 79%|██████████████████████████████████████████████████████████████▉                 | 177/225 [00:16<00:04, 10.73it/s]"
     ]
    },
    {
     "name": "stdout",
     "output_type": "stream",
     "text": [
      "torch.Size([128, 2, 2])\n",
      "torch.Size([128, 2, 2])\n",
      "torch.Size([128, 2, 2])\n",
      "torch.Size([128, 2, 2])\n",
      "torch.Size([128, 2, 2])\n"
     ]
    },
    {
     "name": "stderr",
     "output_type": "stream",
     "text": [
      "\r",
      " 80%|███████████████████████████████████████████████████████████████▋                | 179/225 [00:16<00:04, 10.73it/s]"
     ]
    },
    {
     "name": "stdout",
     "output_type": "stream",
     "text": [
      "torch.Size([128, 2, 2])\n",
      "torch.Size([128, 2, 2])\n",
      "torch.Size([128, 2, 2])\n",
      "torch.Size([128, 2, 2])\n",
      "torch.Size([128, 2, 2])"
     ]
    },
    {
     "name": "stderr",
     "output_type": "stream",
     "text": [
      "\r",
      " 80%|████████████████████████████████████████████████████████████████▎               | 181/225 [00:16<00:04, 10.67it/s]"
     ]
    },
    {
     "name": "stdout",
     "output_type": "stream",
     "text": [
      "\n",
      "torch.Size([128, 2, 2])\n",
      "torch.Size([128, 2, 2])\n",
      "torch.Size([128, 2, 2])\n",
      "torch.Size([128, 2, 2])"
     ]
    },
    {
     "name": "stderr",
     "output_type": "stream",
     "text": [
      "\r",
      " 81%|█████████████████████████████████████████████████████████████████               | 183/225 [00:17<00:03, 10.79it/s]"
     ]
    },
    {
     "name": "stdout",
     "output_type": "stream",
     "text": [
      "\n",
      "torch.Size([128, 2, 2])\n",
      "torch.Size([128, 2, 2])\n",
      "torch.Size([128, 2, 2])\n",
      "torch.Size([128, 2, 2])\n"
     ]
    },
    {
     "name": "stderr",
     "output_type": "stream",
     "text": [
      "\r",
      " 82%|█████████████████████████████████████████████████████████████████▊              | 185/225 [00:17<00:03, 10.79it/s]"
     ]
    },
    {
     "name": "stdout",
     "output_type": "stream",
     "text": [
      "torch.Size([128, 2, 2])\n",
      "torch.Size([128, 2, 2])\n",
      "torch.Size([128, 2, 2])\n",
      "torch.Size([128, 2, 2])\n",
      "torch.Size([128, 2, 2])"
     ]
    },
    {
     "name": "stderr",
     "output_type": "stream",
     "text": [
      "\r",
      " 83%|██████████████████████████████████████████████████████████████████▍             | 187/225 [00:17<00:03, 10.70it/s]"
     ]
    },
    {
     "name": "stdout",
     "output_type": "stream",
     "text": [
      "\n",
      "torch.Size([128, 2, 2])\n",
      "torch.Size([128, 2, 2])\n",
      "torch.Size([128, 2, 2])\n",
      "torch.Size([128, 2, 2])"
     ]
    },
    {
     "name": "stderr",
     "output_type": "stream",
     "text": [
      "\r",
      " 84%|███████████████████████████████████████████████████████████████████▏            | 189/225 [00:17<00:03, 10.77it/s]"
     ]
    },
    {
     "name": "stdout",
     "output_type": "stream",
     "text": [
      "\n",
      "torch.Size([128, 2, 2])\n",
      "torch.Size([128, 2, 2])\n",
      "torch.Size([128, 2, 2])\n",
      "torch.Size([128, 2, 2])\n"
     ]
    },
    {
     "name": "stderr",
     "output_type": "stream",
     "text": [
      " 86%|████████████████████████████████████████████████████████████████████▌           | 193/225 [00:17<00:02, 10.84it/s]"
     ]
    },
    {
     "name": "stdout",
     "output_type": "stream",
     "text": [
      "torch.Size([128, 2, 2])\n",
      "torch.Size([128, 2, 2])\n",
      "torch.Size([128, 2, 2])\n",
      "torch.Size([128, 2, 2])\n"
     ]
    },
    {
     "name": "stderr",
     "output_type": "stream",
     "text": [
      "\r",
      " 87%|█████████████████████████████████████████████████████████████████████▎          | 195/225 [00:18<00:02, 10.79it/s]"
     ]
    },
    {
     "name": "stdout",
     "output_type": "stream",
     "text": [
      "torch.Size([128, 2, 2])\n",
      "torch.Size([128, 2, 2])\n",
      "torch.Size([128, 2, 2])\n",
      "torch.Size([128, 2, 2])\n"
     ]
    },
    {
     "name": "stderr",
     "output_type": "stream",
     "text": [
      "\r",
      " 88%|██████████████████████████████████████████████████████████████████████          | 197/225 [00:18<00:02, 10.87it/s]"
     ]
    },
    {
     "name": "stdout",
     "output_type": "stream",
     "text": [
      "torch.Size([128, 2, 2])\n",
      "torch.Size([128, 2, 2])\n",
      "torch.Size([128, 2, 2])\n",
      "torch.Size([128, 2, 2])\n",
      "torch.Size([128, 2, 2])\n"
     ]
    },
    {
     "name": "stderr",
     "output_type": "stream",
     "text": [
      "\r",
      " 88%|██████████████████████████████████████████████████████████████████████▊         | 199/225 [00:18<00:02, 10.82it/s]"
     ]
    },
    {
     "name": "stdout",
     "output_type": "stream",
     "text": [
      "torch.Size([128, 2, 2])\n",
      "torch.Size([128, 2, 2])\n",
      "torch.Size([128, 2, 2])\n",
      "torch.Size([128, 2, 2])\n",
      "torch.Size([128, 2, 2])"
     ]
    },
    {
     "name": "stderr",
     "output_type": "stream",
     "text": [
      "\r",
      " 89%|███████████████████████████████████████████████████████████████████████▍        | 201/225 [00:18<00:02, 10.86it/s]"
     ]
    },
    {
     "name": "stdout",
     "output_type": "stream",
     "text": [
      "\n",
      "torch.Size([128, 2, 2])\n",
      "torch.Size([128, 2, 2])\n",
      "torch.Size([128, 2, 2])\n",
      "torch.Size([128, 2, 2])\n"
     ]
    },
    {
     "name": "stderr",
     "output_type": "stream",
     "text": [
      "\r",
      " 90%|████████████████████████████████████████████████████████████████████████▏       | 203/225 [00:18<00:02, 10.91it/s]"
     ]
    },
    {
     "name": "stdout",
     "output_type": "stream",
     "text": [
      "torch.Size([128, 2, 2])\n",
      "torch.Size([128, 2, 2])\n",
      "torch.Size([128, 2, 2])\n",
      "torch.Size([128, 2, 2])\n",
      "torch.Size([128, 2, 2])\n"
     ]
    },
    {
     "name": "stderr",
     "output_type": "stream",
     "text": [
      "\r",
      " 91%|████████████████████████████████████████████████████████████████████████▉       | 205/225 [00:19<00:01, 10.91it/s]"
     ]
    },
    {
     "name": "stdout",
     "output_type": "stream",
     "text": [
      "torch.Size([128, 2, 2])\n",
      "torch.Size([128, 2, 2])\n",
      "torch.Size([128, 2, 2])\n",
      "torch.Size([128, 2, 2])\n",
      "torch.Size([128, 2, 2])\n"
     ]
    },
    {
     "name": "stderr",
     "output_type": "stream",
     "text": [
      " 93%|██████████████████████████████████████████████████████████████████████████▎     | 209/225 [00:19<00:01, 10.87it/s]"
     ]
    },
    {
     "name": "stdout",
     "output_type": "stream",
     "text": [
      "torch.Size([128, 2, 2])\n",
      "torch.Size([128, 2, 2])\n",
      "torch.Size([128, 2, 2])\n",
      "torch.Size([128, 2, 2])\n"
     ]
    },
    {
     "name": "stderr",
     "output_type": "stream",
     "text": [
      "\r",
      " 94%|███████████████████████████████████████████████████████████████████████████     | 211/225 [00:19<00:01, 10.81it/s]"
     ]
    },
    {
     "name": "stdout",
     "output_type": "stream",
     "text": [
      "torch.Size([128, 2, 2])\n",
      "torch.Size([128, 2, 2])\n",
      "torch.Size([128, 2, 2])\n",
      "torch.Size([128, 2, 2])\n"
     ]
    },
    {
     "name": "stderr",
     "output_type": "stream",
     "text": [
      "\r",
      " 95%|███████████████████████████████████████████████████████████████████████████▋    | 213/225 [00:19<00:01, 10.69it/s]"
     ]
    },
    {
     "name": "stdout",
     "output_type": "stream",
     "text": [
      "torch.Size([128, 2, 2])\n",
      "torch.Size([128, 2, 2])\n",
      "torch.Size([128, 2, 2])\n",
      "torch.Size([128, 2, 2])\n"
     ]
    },
    {
     "name": "stderr",
     "output_type": "stream",
     "text": [
      "\r",
      " 96%|████████████████████████████████████████████████████████████████████████████▍   | 215/225 [00:19<00:00, 10.82it/s]"
     ]
    },
    {
     "name": "stdout",
     "output_type": "stream",
     "text": [
      "torch.Size([128, 2, 2])\n",
      "torch.Size([128, 2, 2])\n",
      "torch.Size([128, 2, 2])\n",
      "torch.Size([128, 2, 2])\n",
      "torch.Size([128, 2, 2])"
     ]
    },
    {
     "name": "stderr",
     "output_type": "stream",
     "text": [
      "\r",
      " 96%|█████████████████████████████████████████████████████████████████████████████▏  | 217/225 [00:20<00:00, 10.88it/s]"
     ]
    },
    {
     "name": "stdout",
     "output_type": "stream",
     "text": [
      "\n",
      "torch.Size([128, 2, 2])\n",
      "torch.Size([128, 2, 2])\n",
      "torch.Size([128, 2, 2])\n",
      "torch.Size([128, 2, 2])\n"
     ]
    },
    {
     "name": "stderr",
     "output_type": "stream",
     "text": [
      "\r",
      " 97%|█████████████████████████████████████████████████████████████████████████████▊  | 219/225 [00:20<00:00, 10.95it/s]"
     ]
    },
    {
     "name": "stdout",
     "output_type": "stream",
     "text": [
      "torch.Size([128, 2, 2])\n",
      "torch.Size([128, 2, 2])\n",
      "torch.Size([128, 2, 2])\n",
      "torch.Size([128, 2, 2])\n",
      "torch.Size([128, 2, 2])"
     ]
    },
    {
     "name": "stderr",
     "output_type": "stream",
     "text": [
      "\r",
      " 98%|██████████████████████████████████████████████████████████████████████████████▌ | 221/225 [00:20<00:00, 10.75it/s]"
     ]
    },
    {
     "name": "stdout",
     "output_type": "stream",
     "text": [
      "\n",
      "torch.Size([128, 2, 2])\n",
      "torch.Size([128, 2, 2])\n",
      "torch.Size([128, 2, 2])\n",
      "torch.Size([128, 2, 2])"
     ]
    },
    {
     "name": "stderr",
     "output_type": "stream",
     "text": [
      "\r",
      " 99%|███████████████████████████████████████████████████████████████████████████████▎| 223/225 [00:20<00:00, 10.66it/s]"
     ]
    },
    {
     "name": "stdout",
     "output_type": "stream",
     "text": [
      "\n",
      "torch.Size([128, 2, 2])\n",
      "torch.Size([128, 2, 2])\n",
      "torch.Size([128, 2, 2])\n",
      "torch.Size([128, 2, 2])"
     ]
    },
    {
     "name": "stderr",
     "output_type": "stream",
     "text": [
      "100%|████████████████████████████████████████████████████████████████████████████████| 225/225 [00:20<00:00, 10.78it/s]\n",
      "  0%|                                                                                          | 0/225 [00:00<?, ?it/s]"
     ]
    },
    {
     "name": "stdout",
     "output_type": "stream",
     "text": [
      "\n",
      "torch.Size([128, 2, 2])\n",
      "torch.Size([128, 2, 2])\n",
      "torch.Size([128, 2, 2])\n",
      "torch.Size([128, 2, 2])\n",
      "torch.Size([128, 2, 2])"
     ]
    },
    {
     "name": "stderr",
     "output_type": "stream",
     "text": [
      "\r",
      "  1%|▋                                                                                 | 2/225 [00:00<00:20, 10.68it/s]"
     ]
    },
    {
     "name": "stdout",
     "output_type": "stream",
     "text": [
      "\n",
      "torch.Size([128, 2, 2])\n",
      "torch.Size([128, 2, 2])\n",
      "torch.Size([128, 2, 2])\n"
     ]
    },
    {
     "name": "stderr",
     "output_type": "stream",
     "text": [
      "  2%|█▊                                                                                | 5/225 [00:00<00:20, 10.50it/s]"
     ]
    },
    {
     "name": "stdout",
     "output_type": "stream",
     "text": [
      "torch.Size([128, 2, 2])\n",
      "torch.Size([128, 2, 2])\n",
      "torch.Size([128, 2, 2])\n",
      "torch.Size([128, 2, 2])\n"
     ]
    },
    {
     "name": "stderr",
     "output_type": "stream",
     "text": [
      "\r",
      "  3%|██▏                                                                               | 6/225 [00:00<00:21, 10.24it/s]"
     ]
    },
    {
     "name": "stdout",
     "output_type": "stream",
     "text": [
      "torch.Size([128, 2, 2])\n",
      "torch.Size([128, 2, 2])\n",
      "torch.Size([128, 2, 2])\n",
      "torch.Size([128, 2, 2])\n",
      "torch.Size([128, 2, 2])"
     ]
    },
    {
     "name": "stderr",
     "output_type": "stream",
     "text": [
      "\r",
      "  4%|██▉                                                                               | 8/225 [00:00<00:20, 10.49it/s]"
     ]
    },
    {
     "name": "stdout",
     "output_type": "stream",
     "text": [
      "\n",
      "torch.Size([128, 2, 2])\n",
      "torch.Size([128, 2, 2])\n",
      "torch.Size([128, 2, 2])\n"
     ]
    },
    {
     "name": "stderr",
     "output_type": "stream",
     "text": [
      "  5%|███▉                                                                             | 11/225 [00:01<00:20, 10.47it/s]"
     ]
    },
    {
     "name": "stdout",
     "output_type": "stream",
     "text": [
      "torch.Size([128, 2, 2])\n",
      "torch.Size([128, 2, 2])\n",
      "torch.Size([128, 2, 2])\n",
      "torch.Size([128, 2, 2])\n",
      "torch.Size([128, 2, 2])\n"
     ]
    },
    {
     "name": "stderr",
     "output_type": "stream",
     "text": [
      "\r",
      "  6%|████▋                                                                            | 13/225 [00:01<00:19, 10.65it/s]"
     ]
    },
    {
     "name": "stdout",
     "output_type": "stream",
     "text": [
      "torch.Size([128, 2, 2])\n",
      "torch.Size([128, 2, 2])\n",
      "torch.Size([128, 2, 2])\n",
      "torch.Size([128, 2, 2])\n",
      "torch.Size([128, 2, 2])"
     ]
    },
    {
     "name": "stderr",
     "output_type": "stream",
     "text": [
      "\r",
      "  7%|█████▍                                                                           | 15/225 [00:01<00:19, 10.58it/s]"
     ]
    },
    {
     "name": "stdout",
     "output_type": "stream",
     "text": [
      "\n",
      "torch.Size([128, 2, 2])\n",
      "torch.Size([128, 2, 2])\n",
      "torch.Size([128, 2, 2])\n",
      "torch.Size([128, 2, 2])"
     ]
    },
    {
     "name": "stderr",
     "output_type": "stream",
     "text": [
      "\r",
      "  8%|██████                                                                           | 17/225 [00:01<00:19, 10.51it/s]"
     ]
    },
    {
     "name": "stdout",
     "output_type": "stream",
     "text": [
      "\n",
      "torch.Size([128, 2, 2])\n",
      "torch.Size([128, 2, 2])\n",
      "torch.Size([128, 2, 2])\n",
      "torch.Size([128, 2, 2])"
     ]
    },
    {
     "name": "stderr",
     "output_type": "stream",
     "text": [
      "\r",
      "  8%|██████▊                                                                          | 19/225 [00:01<00:19, 10.69it/s]"
     ]
    },
    {
     "name": "stdout",
     "output_type": "stream",
     "text": [
      "\n",
      "torch.Size([128, 2, 2])\n",
      "torch.Size([128, 2, 2])\n",
      "torch.Size([128, 2, 2])\n",
      "torch.Size([128, 2, 2])\n"
     ]
    },
    {
     "name": "stderr",
     "output_type": "stream",
     "text": [
      "\r",
      "  9%|███████▌                                                                         | 21/225 [00:01<00:18, 10.81it/s]"
     ]
    },
    {
     "name": "stdout",
     "output_type": "stream",
     "text": [
      "torch.Size([128, 2, 2])\n",
      "torch.Size([128, 2, 2])\n",
      "torch.Size([128, 2, 2])\n",
      "torch.Size([128, 2, 2])\n",
      "torch.Size([128, 2, 2])\n"
     ]
    },
    {
     "name": "stderr",
     "output_type": "stream",
     "text": [
      "\r",
      " 10%|████████▎                                                                        | 23/225 [00:02<00:18, 10.76it/s]"
     ]
    },
    {
     "name": "stdout",
     "output_type": "stream",
     "text": [
      "torch.Size([128, 2, 2])\n",
      "torch.Size([128, 2, 2])\n",
      "torch.Size([128, 2, 2])\n",
      "torch.Size([128, 2, 2])\n",
      "torch.Size([128, 2, 2])"
     ]
    },
    {
     "name": "stderr",
     "output_type": "stream",
     "text": [
      "\r",
      " 11%|█████████                                                                        | 25/225 [00:02<00:18, 10.86it/s]"
     ]
    },
    {
     "name": "stdout",
     "output_type": "stream",
     "text": [
      "\n",
      "torch.Size([128, 2, 2])\n",
      "torch.Size([128, 2, 2])\n",
      "torch.Size([128, 2, 2])\n",
      "torch.Size([128, 2, 2])\n"
     ]
    },
    {
     "name": "stderr",
     "output_type": "stream",
     "text": [
      " 13%|██████████▍                                                                      | 29/225 [00:02<00:17, 10.98it/s]"
     ]
    },
    {
     "name": "stdout",
     "output_type": "stream",
     "text": [
      "torch.Size([128, 2, 2])\n",
      "torch.Size([128, 2, 2])\n",
      "torch.Size([128, 2, 2])\n",
      "torch.Size([128, 2, 2])\n",
      "torch.Size([128, 2, 2])\n"
     ]
    },
    {
     "name": "stderr",
     "output_type": "stream",
     "text": [
      "\r",
      " 14%|███████████▏                                                                     | 31/225 [00:02<00:17, 10.90it/s]"
     ]
    },
    {
     "name": "stdout",
     "output_type": "stream",
     "text": [
      "torch.Size([128, 2, 2])\n",
      "torch.Size([128, 2, 2])\n",
      "torch.Size([128, 2, 2])\n",
      "torch.Size([128, 2, 2])\n",
      "torch.Size([128, 2, 2])\n"
     ]
    },
    {
     "name": "stderr",
     "output_type": "stream",
     "text": [
      "\r",
      " 15%|███████████▉                                                                     | 33/225 [00:03<00:17, 10.96it/s]"
     ]
    },
    {
     "name": "stdout",
     "output_type": "stream",
     "text": [
      "torch.Size([128, 2, 2])\n",
      "torch.Size([128, 2, 2])\n",
      "torch.Size([128, 2, 2])\n",
      "torch.Size([128, 2, 2])\n",
      "torch.Size([128, 2, 2])\n"
     ]
    },
    {
     "name": "stderr",
     "output_type": "stream",
     "text": [
      "\r",
      " 16%|████████████▌                                                                    | 35/225 [00:03<00:17, 11.01it/s]"
     ]
    },
    {
     "name": "stdout",
     "output_type": "stream",
     "text": [
      "torch.Size([128, 2, 2])\n",
      "torch.Size([128, 2, 2])\n",
      "torch.Size([128, 2, 2])\n",
      "torch.Size([128, 2, 2])\n"
     ]
    },
    {
     "name": "stderr",
     "output_type": "stream",
     "text": [
      "\r",
      " 16%|█████████████▎                                                                   | 37/225 [00:03<00:17, 10.62it/s]"
     ]
    },
    {
     "name": "stdout",
     "output_type": "stream",
     "text": [
      "torch.Size([128, 2, 2])\n",
      "torch.Size([128, 2, 2])\n",
      "torch.Size([128, 2, 2])\n",
      "torch.Size([128, 2, 2])\n",
      "torch.Size([128, 2, 2])"
     ]
    },
    {
     "name": "stderr",
     "output_type": "stream",
     "text": [
      "\r",
      " 17%|██████████████                                                                   | 39/225 [00:03<00:17, 10.55it/s]"
     ]
    },
    {
     "name": "stdout",
     "output_type": "stream",
     "text": [
      "\n",
      "torch.Size([128, 2, 2])\n",
      "torch.Size([128, 2, 2])\n",
      "torch.Size([128, 2, 2])\n",
      "torch.Size([128, 2, 2])"
     ]
    },
    {
     "name": "stderr",
     "output_type": "stream",
     "text": [
      "\r",
      " 18%|██████████████▊                                                                  | 41/225 [00:03<00:17, 10.50it/s]"
     ]
    },
    {
     "name": "stdout",
     "output_type": "stream",
     "text": [
      "\n",
      "torch.Size([128, 2, 2])\n",
      "torch.Size([128, 2, 2])\n",
      "torch.Size([128, 2, 2])\n",
      "torch.Size([128, 2, 2])"
     ]
    },
    {
     "name": "stderr",
     "output_type": "stream",
     "text": [
      "\r",
      " 19%|███████████████▍                                                                 | 43/225 [00:04<00:17, 10.68it/s]"
     ]
    },
    {
     "name": "stdout",
     "output_type": "stream",
     "text": [
      "\n",
      "torch.Size([128, 2, 2])\n",
      "torch.Size([128, 2, 2])\n",
      "torch.Size([128, 2, 2])\n",
      "torch.Size([128, 2, 2])\n"
     ]
    },
    {
     "name": "stderr",
     "output_type": "stream",
     "text": [
      " 21%|████████████████▉                                                                | 47/225 [00:04<00:16, 10.87it/s]"
     ]
    },
    {
     "name": "stdout",
     "output_type": "stream",
     "text": [
      "torch.Size([128, 2, 2])\n",
      "torch.Size([128, 2, 2])\n",
      "torch.Size([128, 2, 2])\n",
      "torch.Size([128, 2, 2])\n",
      "torch.Size([128, 2, 2])\n"
     ]
    },
    {
     "name": "stderr",
     "output_type": "stream",
     "text": [
      "\r",
      " 22%|█████████████████▋                                                               | 49/225 [00:04<00:16, 10.93it/s]"
     ]
    },
    {
     "name": "stdout",
     "output_type": "stream",
     "text": [
      "torch.Size([128, 2, 2])\n",
      "torch.Size([128, 2, 2])\n",
      "torch.Size([128, 2, 2])\n",
      "torch.Size([128, 2, 2])\n",
      "torch.Size([128, 2, 2])"
     ]
    },
    {
     "name": "stderr",
     "output_type": "stream",
     "text": [
      "\r",
      " 23%|██████████████████▎                                                              | 51/225 [00:04<00:16, 10.85it/s]"
     ]
    },
    {
     "name": "stdout",
     "output_type": "stream",
     "text": [
      "\n",
      "torch.Size([128, 2, 2])\n",
      "torch.Size([128, 2, 2])\n",
      "torch.Size([128, 2, 2])\n",
      "torch.Size([128, 2, 2])\n"
     ]
    },
    {
     "name": "stderr",
     "output_type": "stream",
     "text": [
      "\r",
      " 24%|███████████████████                                                              | 53/225 [00:04<00:15, 10.93it/s]"
     ]
    },
    {
     "name": "stdout",
     "output_type": "stream",
     "text": [
      "torch.Size([128, 2, 2])\n",
      "torch.Size([128, 2, 2])\n",
      "torch.Size([128, 2, 2])\n",
      "torch.Size([128, 2, 2])\n",
      "torch.Size([128, 2, 2])\n"
     ]
    },
    {
     "name": "stderr",
     "output_type": "stream",
     "text": [
      "\r",
      " 24%|███████████████████▊                                                             | 55/225 [00:05<00:15, 10.96it/s]"
     ]
    },
    {
     "name": "stdout",
     "output_type": "stream",
     "text": [
      "torch.Size([128, 2, 2])\n",
      "torch.Size([128, 2, 2])\n",
      "torch.Size([128, 2, 2])\n",
      "torch.Size([128, 2, 2])\n",
      "torch.Size([128, 2, 2])\n"
     ]
    },
    {
     "name": "stderr",
     "output_type": "stream",
     "text": [
      " 26%|█████████████████████▏                                                           | 59/225 [00:05<00:15, 11.02it/s]"
     ]
    },
    {
     "name": "stdout",
     "output_type": "stream",
     "text": [
      "torch.Size([128, 2, 2])\n",
      "torch.Size([128, 2, 2])\n",
      "torch.Size([128, 2, 2])\n",
      "torch.Size([128, 2, 2])\n",
      "torch.Size([128, 2, 2])\n"
     ]
    },
    {
     "name": "stderr",
     "output_type": "stream",
     "text": [
      "\r",
      " 27%|█████████████████████▉                                                           | 61/225 [00:05<00:14, 11.02it/s]"
     ]
    },
    {
     "name": "stdout",
     "output_type": "stream",
     "text": [
      "torch.Size([128, 2, 2])\n",
      "torch.Size([128, 2, 2])\n",
      "torch.Size([128, 2, 2])\n",
      "torch.Size([128, 2, 2])\n",
      "torch.Size([128, 2, 2])\n"
     ]
    },
    {
     "name": "stderr",
     "output_type": "stream",
     "text": [
      "\r",
      " 28%|██████████████████████▋                                                          | 63/225 [00:05<00:14, 11.03it/s]"
     ]
    },
    {
     "name": "stdout",
     "output_type": "stream",
     "text": [
      "torch.Size([128, 2, 2])\n",
      "torch.Size([128, 2, 2])\n",
      "torch.Size([128, 2, 2])\n",
      "torch.Size([128, 2, 2])\n",
      "torch.Size([128, 2, 2])\n"
     ]
    },
    {
     "name": "stderr",
     "output_type": "stream",
     "text": [
      "\r",
      " 29%|███████████████████████▍                                                         | 65/225 [00:06<00:14, 11.04it/s]"
     ]
    },
    {
     "name": "stdout",
     "output_type": "stream",
     "text": [
      "torch.Size([128, 2, 2])\n",
      "torch.Size([128, 2, 2])\n",
      "torch.Size([128, 2, 2])\n",
      "torch.Size([128, 2, 2])\n",
      "torch.Size([128, 2, 2])"
     ]
    },
    {
     "name": "stderr",
     "output_type": "stream",
     "text": [
      "\r",
      " 30%|████████████████████████                                                         | 67/225 [00:06<00:14, 11.07it/s]"
     ]
    },
    {
     "name": "stdout",
     "output_type": "stream",
     "text": [
      "\n",
      "torch.Size([128, 2, 2])\n",
      "torch.Size([128, 2, 2])\n",
      "torch.Size([128, 2, 2])\n",
      "torch.Size([128, 2, 2])\n"
     ]
    },
    {
     "name": "stderr",
     "output_type": "stream",
     "text": [
      " 32%|█████████████████████████▌                                                       | 71/225 [00:06<00:13, 11.07it/s]"
     ]
    },
    {
     "name": "stdout",
     "output_type": "stream",
     "text": [
      "torch.Size([128, 2, 2])\n",
      "torch.Size([128, 2, 2])\n",
      "torch.Size([128, 2, 2])\n",
      "torch.Size([128, 2, 2])\n",
      "torch.Size([128, 2, 2])"
     ]
    },
    {
     "name": "stderr",
     "output_type": "stream",
     "text": [
      "\r",
      " 32%|██████████████████████████▎                                                      | 73/225 [00:06<00:13, 11.07it/s]"
     ]
    },
    {
     "name": "stdout",
     "output_type": "stream",
     "text": [
      "\n",
      "torch.Size([128, 2, 2])\n",
      "torch.Size([128, 2, 2])\n",
      "torch.Size([128, 2, 2])\n",
      "torch.Size([128, 2, 2])\n"
     ]
    },
    {
     "name": "stderr",
     "output_type": "stream",
     "text": [
      "\r",
      " 33%|███████████████████████████                                                      | 75/225 [00:06<00:13, 10.94it/s]"
     ]
    },
    {
     "name": "stdout",
     "output_type": "stream",
     "text": [
      "torch.Size([128, 2, 2])\n",
      "torch.Size([128, 2, 2])\n",
      "torch.Size([128, 2, 2])\n",
      "torch.Size([128, 2, 2])\n",
      "torch.Size([128, 2, 2])\n"
     ]
    },
    {
     "name": "stderr",
     "output_type": "stream",
     "text": [
      "\r",
      " 34%|███████████████████████████▋                                                     | 77/225 [00:07<00:13, 11.01it/s]"
     ]
    },
    {
     "name": "stdout",
     "output_type": "stream",
     "text": [
      "torch.Size([128, 2, 2])\n",
      "torch.Size([128, 2, 2])\n",
      "torch.Size([128, 2, 2])\n",
      "torch.Size([128, 2, 2])\n",
      "torch.Size([128, 2, 2])\n"
     ]
    },
    {
     "name": "stderr",
     "output_type": "stream",
     "text": [
      "\r",
      " 35%|████████████████████████████▍                                                    | 79/225 [00:07<00:13, 11.00it/s]"
     ]
    },
    {
     "name": "stdout",
     "output_type": "stream",
     "text": [
      "torch.Size([128, 2, 2])\n",
      "torch.Size([128, 2, 2])\n",
      "torch.Size([128, 2, 2])\n",
      "torch.Size([128, 2, 2])\n",
      "torch.Size([128, 2, 2])\n"
     ]
    },
    {
     "name": "stderr",
     "output_type": "stream",
     "text": [
      " 37%|█████████████████████████████▉                                                   | 83/225 [00:07<00:12, 11.04it/s]"
     ]
    },
    {
     "name": "stdout",
     "output_type": "stream",
     "text": [
      "torch.Size([128, 2, 2])\n",
      "torch.Size([128, 2, 2])\n",
      "torch.Size([128, 2, 2])\n",
      "torch.Size([128, 2, 2])\n",
      "torch.Size([128, 2, 2])\n"
     ]
    },
    {
     "name": "stderr",
     "output_type": "stream",
     "text": [
      "\r",
      " 38%|██████████████████████████████▌                                                  | 85/225 [00:07<00:12, 11.06it/s]"
     ]
    },
    {
     "name": "stdout",
     "output_type": "stream",
     "text": [
      "torch.Size([128, 2, 2])\n",
      "torch.Size([128, 2, 2])\n",
      "torch.Size([128, 2, 2])\n",
      "torch.Size([128, 2, 2])\n",
      "torch.Size([128, 2, 2])\n"
     ]
    },
    {
     "name": "stderr",
     "output_type": "stream",
     "text": [
      "\r",
      " 39%|███████████████████████████████▎                                                 | 87/225 [00:07<00:12, 11.04it/s]"
     ]
    },
    {
     "name": "stdout",
     "output_type": "stream",
     "text": [
      "torch.Size([128, 2, 2])\n",
      "torch.Size([128, 2, 2])\n",
      "torch.Size([128, 2, 2])\n",
      "torch.Size([128, 2, 2])\n",
      "torch.Size([128, 2, 2])\n"
     ]
    },
    {
     "name": "stderr",
     "output_type": "stream",
     "text": [
      "\r",
      " 40%|████████████████████████████████                                                 | 89/225 [00:08<00:12, 11.03it/s]"
     ]
    },
    {
     "name": "stdout",
     "output_type": "stream",
     "text": [
      "torch.Size([128, 2, 2])\n",
      "torch.Size([128, 2, 2])\n",
      "torch.Size([128, 2, 2])\n",
      "torch.Size([128, 2, 2])\n",
      "torch.Size([128, 2, 2])\n"
     ]
    },
    {
     "name": "stderr",
     "output_type": "stream",
     "text": [
      " 41%|█████████████████████████████████▍                                               | 93/225 [00:08<00:11, 11.07it/s]"
     ]
    },
    {
     "name": "stdout",
     "output_type": "stream",
     "text": [
      "torch.Size([128, 2, 2])\n",
      "torch.Size([128, 2, 2])\n",
      "torch.Size([128, 2, 2])\n",
      "torch.Size([128, 2, 2])\n",
      "torch.Size([128, 2, 2])\n"
     ]
    },
    {
     "name": "stderr",
     "output_type": "stream",
     "text": [
      "\r",
      " 42%|██████████████████████████████████▏                                              | 95/225 [00:08<00:11, 11.06it/s]"
     ]
    },
    {
     "name": "stdout",
     "output_type": "stream",
     "text": [
      "torch.Size([128, 2, 2])\n",
      "torch.Size([128, 2, 2])\n",
      "torch.Size([128, 2, 2])\n",
      "torch.Size([128, 2, 2])\n",
      "torch.Size([128, 2, 2])\n"
     ]
    },
    {
     "name": "stderr",
     "output_type": "stream",
     "text": [
      "\r",
      " 43%|██████████████████████████████████▉                                              | 97/225 [00:08<00:11, 11.06it/s]"
     ]
    },
    {
     "name": "stdout",
     "output_type": "stream",
     "text": [
      "torch.Size([128, 2, 2])\n",
      "torch.Size([128, 2, 2])\n",
      "torch.Size([128, 2, 2])\n",
      "torch.Size([128, 2, 2])\n",
      "torch.Size([128, 2, 2])\n"
     ]
    },
    {
     "name": "stderr",
     "output_type": "stream",
     "text": [
      "\r",
      " 44%|███████████████████████████████████▋                                             | 99/225 [00:09<00:11, 11.07it/s]"
     ]
    },
    {
     "name": "stdout",
     "output_type": "stream",
     "text": [
      "torch.Size([128, 2, 2])\n",
      "torch.Size([128, 2, 2])\n",
      "torch.Size([128, 2, 2])\n",
      "torch.Size([128, 2, 2])\n",
      "torch.Size([128, 2, 2])"
     ]
    },
    {
     "name": "stderr",
     "output_type": "stream",
     "text": [
      "\r",
      " 45%|███████████████████████████████████▉                                            | 101/225 [00:09<00:11, 11.09it/s]"
     ]
    },
    {
     "name": "stdout",
     "output_type": "stream",
     "text": [
      "\n",
      "torch.Size([128, 2, 2])\n",
      "torch.Size([128, 2, 2])\n",
      "torch.Size([128, 2, 2])\n",
      "torch.Size([128, 2, 2])\n"
     ]
    },
    {
     "name": "stderr",
     "output_type": "stream",
     "text": [
      " 47%|█████████████████████████████████████▎                                          | 105/225 [00:09<00:10, 11.10it/s]"
     ]
    },
    {
     "name": "stdout",
     "output_type": "stream",
     "text": [
      "torch.Size([128, 2, 2])\n",
      "torch.Size([128, 2, 2])\n",
      "torch.Size([128, 2, 2])\n",
      "torch.Size([128, 2, 2])\n",
      "torch.Size([128, 2, 2])\n"
     ]
    },
    {
     "name": "stderr",
     "output_type": "stream",
     "text": [
      "\r",
      " 48%|██████████████████████████████████████                                          | 107/225 [00:09<00:10, 11.10it/s]"
     ]
    },
    {
     "name": "stdout",
     "output_type": "stream",
     "text": [
      "torch.Size([128, 2, 2])\n",
      "torch.Size([128, 2, 2])\n",
      "torch.Size([128, 2, 2])\n",
      "torch.Size([128, 2, 2])\n",
      "torch.Size([128, 2, 2])\n"
     ]
    },
    {
     "name": "stderr",
     "output_type": "stream",
     "text": [
      "\r",
      " 48%|██████████████████████████████████████▊                                         | 109/225 [00:09<00:10, 11.08it/s]"
     ]
    },
    {
     "name": "stdout",
     "output_type": "stream",
     "text": [
      "torch.Size([128, 2, 2])\n",
      "torch.Size([128, 2, 2])\n",
      "torch.Size([128, 2, 2])\n",
      "torch.Size([128, 2, 2])\n",
      "torch.Size([128, 2, 2])\n"
     ]
    },
    {
     "name": "stderr",
     "output_type": "stream",
     "text": [
      "\r",
      " 49%|███████████████████████████████████████▍                                        | 111/225 [00:10<00:10, 11.04it/s]"
     ]
    },
    {
     "name": "stdout",
     "output_type": "stream",
     "text": [
      "torch.Size([128, 2, 2])\n",
      "torch.Size([128, 2, 2])\n",
      "torch.Size([128, 2, 2])\n",
      "torch.Size([128, 2, 2])\n",
      "torch.Size([128, 2, 2])"
     ]
    },
    {
     "name": "stderr",
     "output_type": "stream",
     "text": [
      "\r",
      " 50%|████████████████████████████████████████▏                                       | 113/225 [00:10<00:10, 10.83it/s]"
     ]
    },
    {
     "name": "stdout",
     "output_type": "stream",
     "text": [
      "\n",
      "torch.Size([128, 2, 2])\n",
      "torch.Size([128, 2, 2])\n",
      "torch.Size([128, 2, 2])\n",
      "torch.Size([128, 2, 2])"
     ]
    },
    {
     "name": "stderr",
     "output_type": "stream",
     "text": [
      "\r",
      " 51%|████████████████████████████████████████▉                                       | 115/225 [00:10<00:10, 10.91it/s]"
     ]
    },
    {
     "name": "stdout",
     "output_type": "stream",
     "text": [
      "\n",
      "torch.Size([128, 2, 2])\n",
      "torch.Size([128, 2, 2])\n",
      "torch.Size([128, 2, 2])\n",
      "torch.Size([128, 2, 2])"
     ]
    },
    {
     "name": "stderr",
     "output_type": "stream",
     "text": [
      "\r",
      " 52%|█████████████████████████████████████████▌                                      | 117/225 [00:10<00:09, 10.86it/s]"
     ]
    },
    {
     "name": "stdout",
     "output_type": "stream",
     "text": [
      "\n",
      "torch.Size([128, 2, 2])\n",
      "torch.Size([128, 2, 2])\n",
      "torch.Size([128, 2, 2])\n",
      "torch.Size([128, 2, 2])\n"
     ]
    },
    {
     "name": "stderr",
     "output_type": "stream",
     "text": [
      " 54%|███████████████████████████████████████████                                     | 121/225 [00:11<00:09, 10.99it/s]"
     ]
    },
    {
     "name": "stdout",
     "output_type": "stream",
     "text": [
      "torch.Size([128, 2, 2])\n",
      "torch.Size([128, 2, 2])\n",
      "torch.Size([128, 2, 2])\n",
      "torch.Size([128, 2, 2])\n",
      "torch.Size([128, 2, 2])\n"
     ]
    },
    {
     "name": "stderr",
     "output_type": "stream",
     "text": [
      "\r",
      " 55%|███████████████████████████████████████████▋                                    | 123/225 [00:11<00:09, 11.03it/s]"
     ]
    },
    {
     "name": "stdout",
     "output_type": "stream",
     "text": [
      "torch.Size([128, 2, 2])\n",
      "torch.Size([128, 2, 2])\n",
      "torch.Size([128, 2, 2])\n",
      "torch.Size([128, 2, 2])\n",
      "torch.Size([128, 2, 2])"
     ]
    },
    {
     "name": "stderr",
     "output_type": "stream",
     "text": [
      "\r",
      " 56%|████████████████████████████████████████████▍                                   | 125/225 [00:11<00:09, 11.05it/s]"
     ]
    },
    {
     "name": "stdout",
     "output_type": "stream",
     "text": [
      "\n",
      "torch.Size([128, 2, 2])\n",
      "torch.Size([128, 2, 2])\n",
      "torch.Size([128, 2, 2])\n",
      "torch.Size([128, 2, 2])"
     ]
    },
    {
     "name": "stderr",
     "output_type": "stream",
     "text": [
      "\r",
      " 56%|█████████████████████████████████████████████▏                                  | 127/225 [00:11<00:08, 11.03it/s]"
     ]
    },
    {
     "name": "stdout",
     "output_type": "stream",
     "text": [
      "\n",
      "torch.Size([128, 2, 2])\n",
      "torch.Size([128, 2, 2])\n",
      "torch.Size([128, 2, 2])\n",
      "torch.Size([128, 2, 2])\n"
     ]
    },
    {
     "name": "stderr",
     "output_type": "stream",
     "text": [
      "\r",
      " 57%|█████████████████████████████████████████████▊                                  | 129/225 [00:11<00:08, 11.06it/s]"
     ]
    },
    {
     "name": "stdout",
     "output_type": "stream",
     "text": [
      "torch.Size([128, 2, 2])\n",
      "torch.Size([128, 2, 2])\n",
      "torch.Size([128, 2, 2])\n",
      "torch.Size([128, 2, 2])\n",
      "torch.Size([128, 2, 2])\n"
     ]
    },
    {
     "name": "stderr",
     "output_type": "stream",
     "text": [
      "\r",
      " 58%|██████████████████████████████████████████████▌                                 | 131/225 [00:11<00:08, 11.07it/s]"
     ]
    },
    {
     "name": "stdout",
     "output_type": "stream",
     "text": [
      "torch.Size([128, 2, 2])\n",
      "torch.Size([128, 2, 2])\n",
      "torch.Size([128, 2, 2])\n",
      "torch.Size([128, 2, 2])\n"
     ]
    },
    {
     "name": "stderr",
     "output_type": "stream",
     "text": [
      "\r",
      " 59%|███████████████████████████████████████████████▎                                | 133/225 [00:12<00:08, 10.85it/s]"
     ]
    },
    {
     "name": "stdout",
     "output_type": "stream",
     "text": [
      "torch.Size([128, 2, 2])\n",
      "torch.Size([128, 2, 2])\n",
      "torch.Size([128, 2, 2])\n",
      "torch.Size([128, 2, 2])\n",
      "torch.Size([128, 2, 2])"
     ]
    },
    {
     "name": "stderr",
     "output_type": "stream",
     "text": [
      "\r",
      " 60%|████████████████████████████████████████████████                                | 135/225 [00:12<00:08, 10.70it/s]"
     ]
    },
    {
     "name": "stdout",
     "output_type": "stream",
     "text": [
      "\n",
      "torch.Size([128, 2, 2])\n",
      "torch.Size([128, 2, 2])\n",
      "torch.Size([128, 2, 2])\n",
      "torch.Size([128, 2, 2])"
     ]
    },
    {
     "name": "stderr",
     "output_type": "stream",
     "text": [
      "\r",
      " 61%|████████████████████████████████████████████████▋                               | 137/225 [00:12<00:08, 10.41it/s]"
     ]
    },
    {
     "name": "stdout",
     "output_type": "stream",
     "text": [
      "\n",
      "torch.Size([128, 2, 2])\n",
      "torch.Size([128, 2, 2])\n",
      "torch.Size([128, 2, 2])\n",
      "torch.Size([128, 2, 2])"
     ]
    },
    {
     "name": "stderr",
     "output_type": "stream",
     "text": [
      "\r",
      " 62%|█████████████████████████████████████████████████▍                              | 139/225 [00:12<00:08, 10.63it/s]"
     ]
    },
    {
     "name": "stdout",
     "output_type": "stream",
     "text": [
      "\n",
      "torch.Size([128, 2, 2])\n",
      "torch.Size([128, 2, 2])\n",
      "torch.Size([128, 2, 2])\n",
      "torch.Size([128, 2, 2])"
     ]
    },
    {
     "name": "stderr",
     "output_type": "stream",
     "text": [
      "\r",
      " 63%|██████████████████████████████████████████████████▏                             | 141/225 [00:12<00:07, 10.55it/s]"
     ]
    },
    {
     "name": "stdout",
     "output_type": "stream",
     "text": [
      "\n",
      "torch.Size([128, 2, 2])\n",
      "torch.Size([128, 2, 2])\n",
      "torch.Size([128, 2, 2])\n",
      "torch.Size([128, 2, 2])"
     ]
    },
    {
     "name": "stderr",
     "output_type": "stream",
     "text": [
      "\r",
      " 64%|██████████████████████████████████████████████████▊                             | 143/225 [00:13<00:07, 10.49it/s]"
     ]
    },
    {
     "name": "stdout",
     "output_type": "stream",
     "text": [
      "\n",
      "torch.Size([128, 2, 2])\n",
      "torch.Size([128, 2, 2])\n",
      "torch.Size([128, 2, 2])\n",
      "torch.Size([128, 2, 2])"
     ]
    },
    {
     "name": "stderr",
     "output_type": "stream",
     "text": [
      "\r",
      " 64%|███████████████████████████████████████████████████▌                            | 145/225 [00:13<00:07, 10.44it/s]"
     ]
    },
    {
     "name": "stdout",
     "output_type": "stream",
     "text": [
      "\n",
      "torch.Size([128, 2, 2])\n",
      "torch.Size([128, 2, 2])\n",
      "torch.Size([128, 2, 2])\n",
      "torch.Size([128, 2, 2])"
     ]
    },
    {
     "name": "stderr",
     "output_type": "stream",
     "text": [
      "\r",
      " 65%|████████████████████████████████████████████████████▎                           | 147/225 [00:13<00:07, 10.49it/s]"
     ]
    },
    {
     "name": "stdout",
     "output_type": "stream",
     "text": [
      "\n",
      "torch.Size([128, 2, 2])\n",
      "torch.Size([128, 2, 2])\n",
      "torch.Size([128, 2, 2])\n",
      "torch.Size([128, 2, 2])"
     ]
    },
    {
     "name": "stderr",
     "output_type": "stream",
     "text": [
      "\r",
      " 66%|████████████████████████████████████████████████████▉                           | 149/225 [00:13<00:07, 10.47it/s]"
     ]
    },
    {
     "name": "stdout",
     "output_type": "stream",
     "text": [
      "\n",
      "torch.Size([128, 2, 2])\n",
      "torch.Size([128, 2, 2])\n",
      "torch.Size([128, 2, 2])\n",
      "torch.Size([128, 2, 2])"
     ]
    },
    {
     "name": "stderr",
     "output_type": "stream",
     "text": [
      "\r",
      " 67%|█████████████████████████████████████████████████████▋                          | 151/225 [00:13<00:07, 10.44it/s]"
     ]
    },
    {
     "name": "stdout",
     "output_type": "stream",
     "text": [
      "\n",
      "torch.Size([128, 2, 2])\n",
      "torch.Size([128, 2, 2])\n",
      "torch.Size([128, 2, 2])\n",
      "torch.Size([128, 2, 2])"
     ]
    },
    {
     "name": "stderr",
     "output_type": "stream",
     "text": [
      "\r",
      " 68%|██████████████████████████████████████████████████████▍                         | 153/225 [00:14<00:06, 10.45it/s]"
     ]
    },
    {
     "name": "stdout",
     "output_type": "stream",
     "text": [
      "\n",
      "torch.Size([128, 2, 2])\n",
      "torch.Size([128, 2, 2])\n",
      "torch.Size([128, 2, 2])\n",
      "torch.Size([128, 2, 2])\n"
     ]
    },
    {
     "name": "stderr",
     "output_type": "stream",
     "text": [
      " 70%|███████████████████████████████████████████████████████▊                        | 157/225 [00:14<00:06, 10.72it/s]"
     ]
    },
    {
     "name": "stdout",
     "output_type": "stream",
     "text": [
      "torch.Size([128, 2, 2])\n",
      "torch.Size([128, 2, 2])\n",
      "torch.Size([128, 2, 2])\n",
      "torch.Size([128, 2, 2])\n",
      "torch.Size([128, 2, 2])\n"
     ]
    },
    {
     "name": "stderr",
     "output_type": "stream",
     "text": [
      "\r",
      " 71%|████████████████████████████████████████████████████████▌                       | 159/225 [00:14<00:06, 10.70it/s]"
     ]
    },
    {
     "name": "stdout",
     "output_type": "stream",
     "text": [
      "torch.Size([128, 2, 2])\n",
      "torch.Size([128, 2, 2])\n",
      "torch.Size([128, 2, 2])\n",
      "torch.Size([128, 2, 2])\n",
      "torch.Size([128, 2, 2])"
     ]
    },
    {
     "name": "stderr",
     "output_type": "stream",
     "text": [
      "\r",
      " 72%|█████████████████████████████████████████████████████████▏                      | 161/225 [00:14<00:05, 10.82it/s]"
     ]
    },
    {
     "name": "stdout",
     "output_type": "stream",
     "text": [
      "\n",
      "torch.Size([128, 2, 2])\n",
      "torch.Size([128, 2, 2])\n",
      "torch.Size([128, 2, 2])\n",
      "torch.Size([128, 2, 2])"
     ]
    },
    {
     "name": "stderr",
     "output_type": "stream",
     "text": [
      "\r",
      " 72%|█████████████████████████████████████████████████████████▉                      | 163/225 [00:15<00:05, 10.69it/s]"
     ]
    },
    {
     "name": "stdout",
     "output_type": "stream",
     "text": [
      "\n",
      "torch.Size([128, 2, 2])\n",
      "torch.Size([128, 2, 2])\n",
      "torch.Size([128, 2, 2])\n",
      "torch.Size([128, 2, 2])"
     ]
    },
    {
     "name": "stderr",
     "output_type": "stream",
     "text": [
      "\r",
      " 73%|██████████████████████████████████████████████████████████▋                     | 165/225 [00:15<00:05, 10.61it/s]"
     ]
    },
    {
     "name": "stdout",
     "output_type": "stream",
     "text": [
      "\n",
      "torch.Size([128, 2, 2])\n",
      "torch.Size([128, 2, 2])\n",
      "torch.Size([128, 2, 2])\n",
      "torch.Size([128, 2, 2])"
     ]
    },
    {
     "name": "stderr",
     "output_type": "stream",
     "text": [
      "\r",
      " 74%|███████████████████████████████████████████████████████████▍                    | 167/225 [00:15<00:05, 10.55it/s]"
     ]
    },
    {
     "name": "stdout",
     "output_type": "stream",
     "text": [
      "\n",
      "torch.Size([128, 2, 2])\n",
      "torch.Size([128, 2, 2])\n",
      "torch.Size([128, 2, 2])\n",
      "torch.Size([128, 2, 2])\n"
     ]
    },
    {
     "name": "stderr",
     "output_type": "stream",
     "text": [
      "\r",
      " 75%|████████████████████████████████████████████████████████████                    | 169/225 [00:15<00:05, 10.56it/s]"
     ]
    },
    {
     "name": "stdout",
     "output_type": "stream",
     "text": [
      "torch.Size([128, 2, 2])\n",
      "torch.Size([128, 2, 2])\n",
      "torch.Size([128, 2, 2])\n",
      "torch.Size([128, 2, 2])\n",
      "torch.Size([128, 2, 2])\n"
     ]
    },
    {
     "name": "stderr",
     "output_type": "stream",
     "text": [
      "\r",
      " 76%|████████████████████████████████████████████████████████████▊                   | 171/225 [00:15<00:05, 10.72it/s]"
     ]
    },
    {
     "name": "stdout",
     "output_type": "stream",
     "text": [
      "torch.Size([128, 2, 2])\n",
      "torch.Size([128, 2, 2])\n",
      "torch.Size([128, 2, 2])\n",
      "torch.Size([128, 2, 2])\n",
      "torch.Size([128, 2, 2])\n"
     ]
    },
    {
     "name": "stderr",
     "output_type": "stream",
     "text": [
      " 78%|██████████████████████████████████████████████████████████████▏                 | 175/225 [00:16<00:04, 10.91it/s]"
     ]
    },
    {
     "name": "stdout",
     "output_type": "stream",
     "text": [
      "torch.Size([128, 2, 2])\n",
      "torch.Size([128, 2, 2])\n",
      "torch.Size([128, 2, 2])\n",
      "torch.Size([128, 2, 2])\n",
      "torch.Size([128, 2, 2])\n"
     ]
    },
    {
     "name": "stderr",
     "output_type": "stream",
     "text": [
      "\r",
      " 79%|██████████████████████████████████████████████████████████████▉                 | 177/225 [00:16<00:04, 10.96it/s]"
     ]
    },
    {
     "name": "stdout",
     "output_type": "stream",
     "text": [
      "torch.Size([128, 2, 2])\n",
      "torch.Size([128, 2, 2])\n",
      "torch.Size([128, 2, 2])\n",
      "torch.Size([128, 2, 2])\n",
      "torch.Size([128, 2, 2])\n"
     ]
    },
    {
     "name": "stderr",
     "output_type": "stream",
     "text": [
      "\r",
      " 80%|███████████████████████████████████████████████████████████████▋                | 179/225 [00:16<00:04, 10.98it/s]"
     ]
    },
    {
     "name": "stdout",
     "output_type": "stream",
     "text": [
      "torch.Size([128, 2, 2])\n",
      "torch.Size([128, 2, 2])\n",
      "torch.Size([128, 2, 2])\n",
      "torch.Size([128, 2, 2])\n",
      "torch.Size([128, 2, 2])\n"
     ]
    },
    {
     "name": "stderr",
     "output_type": "stream",
     "text": [
      "\r",
      " 80%|████████████████████████████████████████████████████████████████▎               | 181/225 [00:16<00:03, 11.00it/s]"
     ]
    },
    {
     "name": "stdout",
     "output_type": "stream",
     "text": [
      "torch.Size([128, 2, 2])\n",
      "torch.Size([128, 2, 2])\n",
      "torch.Size([128, 2, 2])\n",
      "torch.Size([128, 2, 2])\n",
      "torch.Size([128, 2, 2])\n"
     ]
    },
    {
     "name": "stderr",
     "output_type": "stream",
     "text": [
      " 82%|█████████████████████████████████████████████████████████████████▊              | 185/225 [00:17<00:03, 11.08it/s]"
     ]
    },
    {
     "name": "stdout",
     "output_type": "stream",
     "text": [
      "torch.Size([128, 2, 2])\n",
      "torch.Size([128, 2, 2])\n",
      "torch.Size([128, 2, 2])\n",
      "torch.Size([128, 2, 2])\n",
      "torch.Size([128, 2, 2])\n"
     ]
    },
    {
     "name": "stderr",
     "output_type": "stream",
     "text": [
      "\r",
      " 83%|██████████████████████████████████████████████████████████████████▍             | 187/225 [00:17<00:03, 10.75it/s]"
     ]
    },
    {
     "name": "stdout",
     "output_type": "stream",
     "text": [
      "torch.Size([128, 2, 2])\n",
      "torch.Size([128, 2, 2])\n",
      "torch.Size([128, 2, 2])\n",
      "torch.Size([128, 2, 2])\n",
      "torch.Size([128, 2, 2])"
     ]
    },
    {
     "name": "stderr",
     "output_type": "stream",
     "text": [
      "\r",
      " 84%|███████████████████████████████████████████████████████████████████▏            | 189/225 [00:17<00:03, 10.85it/s]"
     ]
    },
    {
     "name": "stdout",
     "output_type": "stream",
     "text": [
      "\n",
      "torch.Size([128, 2, 2])\n",
      "torch.Size([128, 2, 2])\n",
      "torch.Size([128, 2, 2])\n",
      "torch.Size([128, 2, 2])"
     ]
    },
    {
     "name": "stderr",
     "output_type": "stream",
     "text": [
      "\r",
      " 85%|███████████████████████████████████████████████████████████████████▉            | 191/225 [00:17<00:03, 10.89it/s]"
     ]
    },
    {
     "name": "stdout",
     "output_type": "stream",
     "text": [
      "\n",
      "torch.Size([128, 2, 2])\n",
      "torch.Size([128, 2, 2])\n",
      "torch.Size([128, 2, 2])\n",
      "torch.Size([128, 2, 2])\n"
     ]
    },
    {
     "name": "stderr",
     "output_type": "stream",
     "text": [
      "\r",
      " 86%|████████████████████████████████████████████████████████████████████▌           | 193/225 [00:17<00:02, 10.94it/s]"
     ]
    },
    {
     "name": "stdout",
     "output_type": "stream",
     "text": [
      "torch.Size([128, 2, 2])\n",
      "torch.Size([128, 2, 2])\n",
      "torch.Size([128, 2, 2])\n",
      "torch.Size([128, 2, 2])\n",
      "torch.Size([128, 2, 2])\n"
     ]
    },
    {
     "name": "stderr",
     "output_type": "stream",
     "text": [
      "\r",
      " 87%|█████████████████████████████████████████████████████████████████████▎          | 195/225 [00:17<00:02, 10.97it/s]"
     ]
    },
    {
     "name": "stdout",
     "output_type": "stream",
     "text": [
      "torch.Size([128, 2, 2])\n",
      "torch.Size([128, 2, 2])\n",
      "torch.Size([128, 2, 2])\n",
      "torch.Size([128, 2, 2])\n",
      "torch.Size([128, 2, 2])\n"
     ]
    },
    {
     "name": "stderr",
     "output_type": "stream",
     "text": [
      " 88%|██████████████████████████████████████████████████████████████████████▊         | 199/225 [00:18<00:02, 11.05it/s]"
     ]
    },
    {
     "name": "stdout",
     "output_type": "stream",
     "text": [
      "torch.Size([128, 2, 2])\n",
      "torch.Size([128, 2, 2])\n",
      "torch.Size([128, 2, 2])\n",
      "torch.Size([128, 2, 2])\n",
      "torch.Size([128, 2, 2])\n"
     ]
    },
    {
     "name": "stderr",
     "output_type": "stream",
     "text": [
      "\r",
      " 89%|███████████████████████████████████████████████████████████████████████▍        | 201/225 [00:18<00:02, 11.02it/s]"
     ]
    },
    {
     "name": "stdout",
     "output_type": "stream",
     "text": [
      "torch.Size([128, 2, 2])\n",
      "torch.Size([128, 2, 2])\n",
      "torch.Size([128, 2, 2])\n",
      "torch.Size([128, 2, 2])\n",
      "torch.Size([128, 2, 2])\n"
     ]
    },
    {
     "name": "stderr",
     "output_type": "stream",
     "text": [
      "\r",
      " 90%|████████████████████████████████████████████████████████████████████████▏       | 203/225 [00:18<00:01, 11.02it/s]"
     ]
    },
    {
     "name": "stdout",
     "output_type": "stream",
     "text": [
      "torch.Size([128, 2, 2])\n",
      "torch.Size([128, 2, 2])\n",
      "torch.Size([128, 2, 2])\n",
      "torch.Size([128, 2, 2])\n",
      "torch.Size([128, 2, 2])\n"
     ]
    },
    {
     "name": "stderr",
     "output_type": "stream",
     "text": [
      "\r",
      " 91%|████████████████████████████████████████████████████████████████████████▉       | 205/225 [00:18<00:01, 11.04it/s]"
     ]
    },
    {
     "name": "stdout",
     "output_type": "stream",
     "text": [
      "torch.Size([128, 2, 2])\n",
      "torch.Size([128, 2, 2])\n",
      "torch.Size([128, 2, 2])\n",
      "torch.Size([128, 2, 2])\n",
      "torch.Size([128, 2, 2])\n"
     ]
    },
    {
     "name": "stderr",
     "output_type": "stream",
     "text": [
      " 93%|██████████████████████████████████████████████████████████████████████████▎     | 209/225 [00:19<00:01, 11.08it/s]"
     ]
    },
    {
     "name": "stdout",
     "output_type": "stream",
     "text": [
      "torch.Size([128, 2, 2])\n",
      "torch.Size([128, 2, 2])\n",
      "torch.Size([128, 2, 2])\n",
      "torch.Size([128, 2, 2])\n",
      "torch.Size([128, 2, 2])\n"
     ]
    },
    {
     "name": "stderr",
     "output_type": "stream",
     "text": [
      "\r",
      " 94%|███████████████████████████████████████████████████████████████████████████     | 211/225 [00:19<00:01, 11.07it/s]"
     ]
    },
    {
     "name": "stdout",
     "output_type": "stream",
     "text": [
      "torch.Size([128, 2, 2])\n",
      "torch.Size([128, 2, 2])\n",
      "torch.Size([128, 2, 2])\n",
      "torch.Size([128, 2, 2])\n",
      "torch.Size([128, 2, 2])"
     ]
    },
    {
     "name": "stderr",
     "output_type": "stream",
     "text": [
      "\r",
      " 95%|███████████████████████████████████████████████████████████████████████████▋    | 213/225 [00:19<00:01, 11.08it/s]"
     ]
    },
    {
     "name": "stdout",
     "output_type": "stream",
     "text": [
      "\n",
      "torch.Size([128, 2, 2])\n",
      "torch.Size([128, 2, 2])\n",
      "torch.Size([128, 2, 2])\n",
      "torch.Size([128, 2, 2])\n"
     ]
    },
    {
     "name": "stderr",
     "output_type": "stream",
     "text": [
      "\r",
      " 96%|████████████████████████████████████████████████████████████████████████████▍   | 215/225 [00:19<00:00, 11.09it/s]"
     ]
    },
    {
     "name": "stdout",
     "output_type": "stream",
     "text": [
      "torch.Size([128, 2, 2])\n",
      "torch.Size([128, 2, 2])\n",
      "torch.Size([128, 2, 2])\n",
      "torch.Size([128, 2, 2])\n",
      "torch.Size([128, 2, 2])\n"
     ]
    },
    {
     "name": "stderr",
     "output_type": "stream",
     "text": [
      "\r",
      " 96%|█████████████████████████████████████████████████████████████████████████████▏  | 217/225 [00:19<00:00, 11.09it/s]"
     ]
    },
    {
     "name": "stdout",
     "output_type": "stream",
     "text": [
      "torch.Size([128, 2, 2])\n",
      "torch.Size([128, 2, 2])\n",
      "torch.Size([128, 2, 2])\n",
      "torch.Size([128, 2, 2])\n",
      "torch.Size([128, 2, 2])\n"
     ]
    },
    {
     "name": "stderr",
     "output_type": "stream",
     "text": [
      " 98%|██████████████████████████████████████████████████████████████████████████████▌ | 221/225 [00:20<00:00, 11.14it/s]"
     ]
    },
    {
     "name": "stdout",
     "output_type": "stream",
     "text": [
      "torch.Size([128, 2, 2])\n",
      "torch.Size([128, 2, 2])\n",
      "torch.Size([128, 2, 2])\n",
      "torch.Size([128, 2, 2])\n",
      "torch.Size([128, 2, 2])\n"
     ]
    },
    {
     "name": "stderr",
     "output_type": "stream",
     "text": [
      "\r",
      " 99%|███████████████████████████████████████████████████████████████████████████████▎| 223/225 [00:20<00:00, 10.85it/s]"
     ]
    },
    {
     "name": "stdout",
     "output_type": "stream",
     "text": [
      "torch.Size([128, 2, 2])\n",
      "torch.Size([128, 2, 2])\n",
      "torch.Size([128, 2, 2])\n",
      "torch.Size([128, 2, 2])\n",
      "torch.Size([128, 2, 2])"
     ]
    },
    {
     "name": "stderr",
     "output_type": "stream",
     "text": [
      "100%|████████████████████████████████████████████████████████████████████████████████| 225/225 [00:20<00:00, 10.89it/s]\n",
      "  0%|                                                                                          | 0/225 [00:00<?, ?it/s]"
     ]
    },
    {
     "name": "stdout",
     "output_type": "stream",
     "text": [
      "\n",
      "torch.Size([128, 2, 2])\n",
      "torch.Size([128, 2, 2])\n",
      "torch.Size([128, 2, 2])\n",
      "torch.Size([128, 2, 2])\n",
      "torch.Size([128, 2, 2])"
     ]
    },
    {
     "name": "stderr",
     "output_type": "stream",
     "text": [
      "\r",
      "  1%|▋                                                                                 | 2/225 [00:00<00:19, 11.15it/s]"
     ]
    },
    {
     "name": "stdout",
     "output_type": "stream",
     "text": [
      "\n",
      "torch.Size([128, 2, 2])\n",
      "torch.Size([128, 2, 2])\n",
      "torch.Size([128, 2, 2])\n",
      "torch.Size([128, 2, 2])"
     ]
    },
    {
     "name": "stderr",
     "output_type": "stream",
     "text": [
      "\r",
      "  2%|█▍                                                                                | 4/225 [00:00<00:19, 11.09it/s]"
     ]
    },
    {
     "name": "stdout",
     "output_type": "stream",
     "text": [
      "\n",
      "torch.Size([128, 2, 2])\n",
      "torch.Size([128, 2, 2])\n",
      "torch.Size([128, 2, 2])\n",
      "torch.Size([128, 2, 2])"
     ]
    },
    {
     "name": "stderr",
     "output_type": "stream",
     "text": [
      "\r",
      "  3%|██▏                                                                               | 6/225 [00:00<00:19, 11.10it/s]"
     ]
    },
    {
     "name": "stdout",
     "output_type": "stream",
     "text": [
      "\n",
      "torch.Size([128, 2, 2])\n",
      "torch.Size([128, 2, 2])\n",
      "torch.Size([128, 2, 2])\n",
      "torch.Size([128, 2, 2])\n"
     ]
    },
    {
     "name": "stderr",
     "output_type": "stream",
     "text": [
      "  4%|███▎                                                                              | 9/225 [00:00<00:20, 10.64it/s]"
     ]
    },
    {
     "name": "stdout",
     "output_type": "stream",
     "text": [
      "torch.Size([128, 2, 2])\n",
      "torch.Size([128, 2, 2])\n",
      "torch.Size([128, 2, 2])\n",
      "torch.Size([128, 2, 2])\n",
      "torch.Size([128, 2, 2])"
     ]
    },
    {
     "name": "stderr",
     "output_type": "stream",
     "text": [
      "\r",
      "  5%|███▉                                                                             | 11/225 [00:01<00:19, 10.78it/s]"
     ]
    },
    {
     "name": "stdout",
     "output_type": "stream",
     "text": [
      "\n",
      "torch.Size([128, 2, 2])\n",
      "torch.Size([128, 2, 2])\n",
      "torch.Size([128, 2, 2])\n",
      "torch.Size([128, 2, 2])\n"
     ]
    },
    {
     "name": "stderr",
     "output_type": "stream",
     "text": [
      "\r",
      "  6%|████▋                                                                            | 13/225 [00:01<00:19, 10.87it/s]"
     ]
    },
    {
     "name": "stdout",
     "output_type": "stream",
     "text": [
      "torch.Size([128, 2, 2])\n",
      "torch.Size([128, 2, 2])\n",
      "torch.Size([128, 2, 2])\n",
      "torch.Size([128, 2, 2])\n",
      "torch.Size([128, 2, 2])\n"
     ]
    },
    {
     "name": "stderr",
     "output_type": "stream",
     "text": [
      "\r",
      "  7%|█████▍                                                                           | 15/225 [00:01<00:19, 10.93it/s]"
     ]
    },
    {
     "name": "stdout",
     "output_type": "stream",
     "text": [
      "torch.Size([128, 2, 2])\n",
      "torch.Size([128, 2, 2])\n",
      "torch.Size([128, 2, 2])\n",
      "torch.Size([128, 2, 2])\n",
      "torch.Size([128, 2, 2])"
     ]
    },
    {
     "name": "stderr",
     "output_type": "stream",
     "text": [
      "\r",
      "  8%|██████                                                                           | 17/225 [00:01<00:19, 10.59it/s]"
     ]
    },
    {
     "name": "stdout",
     "output_type": "stream",
     "text": [
      "\n",
      "torch.Size([128, 2, 2])\n",
      "torch.Size([128, 2, 2])\n",
      "torch.Size([128, 2, 2])\n",
      "torch.Size([128, 2, 2])"
     ]
    },
    {
     "name": "stderr",
     "output_type": "stream",
     "text": [
      "\r",
      "  8%|██████▊                                                                          | 19/225 [00:01<00:19, 10.75it/s]"
     ]
    },
    {
     "name": "stdout",
     "output_type": "stream",
     "text": [
      "\n",
      "torch.Size([128, 2, 2])\n",
      "torch.Size([128, 2, 2])\n",
      "torch.Size([128, 2, 2])\n",
      "torch.Size([128, 2, 2])"
     ]
    },
    {
     "name": "stderr",
     "output_type": "stream",
     "text": [
      "\r",
      "  9%|███████▌                                                                         | 21/225 [00:01<00:19, 10.65it/s]"
     ]
    },
    {
     "name": "stdout",
     "output_type": "stream",
     "text": [
      "\n",
      "torch.Size([128, 2, 2])\n",
      "torch.Size([128, 2, 2])\n",
      "torch.Size([128, 2, 2])\n",
      "torch.Size([128, 2, 2])\n"
     ]
    },
    {
     "name": "stderr",
     "output_type": "stream",
     "text": [
      " 11%|█████████                                                                        | 25/225 [00:02<00:18, 10.88it/s]"
     ]
    },
    {
     "name": "stdout",
     "output_type": "stream",
     "text": [
      "torch.Size([128, 2, 2])\n",
      "torch.Size([128, 2, 2])\n",
      "torch.Size([128, 2, 2])\n",
      "torch.Size([128, 2, 2])\n",
      "torch.Size([128, 2, 2])\n"
     ]
    },
    {
     "name": "stderr",
     "output_type": "stream",
     "text": [
      "\r",
      " 12%|█████████▋                                                                       | 27/225 [00:02<00:18, 10.95it/s]"
     ]
    },
    {
     "name": "stdout",
     "output_type": "stream",
     "text": [
      "torch.Size([128, 2, 2])\n",
      "torch.Size([128, 2, 2])\n",
      "torch.Size([128, 2, 2])\n",
      "torch.Size([128, 2, 2])\n",
      "torch.Size([128, 2, 2])"
     ]
    },
    {
     "name": "stderr",
     "output_type": "stream",
     "text": [
      "\r",
      " 13%|██████████▍                                                                      | 29/225 [00:02<00:17, 10.99it/s]"
     ]
    },
    {
     "name": "stdout",
     "output_type": "stream",
     "text": [
      "\n",
      "torch.Size([128, 2, 2])\n",
      "torch.Size([128, 2, 2])\n",
      "torch.Size([128, 2, 2])\n",
      "torch.Size([128, 2, 2])"
     ]
    },
    {
     "name": "stderr",
     "output_type": "stream",
     "text": [
      "\r",
      " 14%|███████████▏                                                                     | 31/225 [00:02<00:17, 10.80it/s]"
     ]
    },
    {
     "name": "stdout",
     "output_type": "stream",
     "text": [
      "\n",
      "torch.Size([128, 2, 2])\n",
      "torch.Size([128, 2, 2])\n",
      "torch.Size([128, 2, 2])\n",
      "torch.Size([128, 2, 2])"
     ]
    },
    {
     "name": "stderr",
     "output_type": "stream",
     "text": [
      "\r",
      " 15%|███████████▉                                                                     | 33/225 [00:03<00:17, 10.88it/s]"
     ]
    },
    {
     "name": "stdout",
     "output_type": "stream",
     "text": [
      "\n",
      "torch.Size([128, 2, 2])\n",
      "torch.Size([128, 2, 2])\n",
      "torch.Size([128, 2, 2])\n",
      "torch.Size([128, 2, 2])\n"
     ]
    },
    {
     "name": "stderr",
     "output_type": "stream",
     "text": [
      "\r",
      " 16%|████████████▌                                                                    | 35/225 [00:03<00:17, 10.92it/s]"
     ]
    },
    {
     "name": "stdout",
     "output_type": "stream",
     "text": [
      "torch.Size([128, 2, 2])\n",
      "torch.Size([128, 2, 2])\n",
      "torch.Size([128, 2, 2])\n",
      "torch.Size([128, 2, 2])\n",
      "torch.Size([128, 2, 2])\n"
     ]
    },
    {
     "name": "stderr",
     "output_type": "stream",
     "text": [
      "\r",
      " 16%|█████████████▎                                                                   | 37/225 [00:03<00:17, 10.96it/s]"
     ]
    },
    {
     "name": "stdout",
     "output_type": "stream",
     "text": [
      "torch.Size([128, 2, 2])\n",
      "torch.Size([128, 2, 2])\n",
      "torch.Size([128, 2, 2])\n",
      "torch.Size([128, 2, 2])\n",
      "torch.Size([128, 2, 2])"
     ]
    },
    {
     "name": "stderr",
     "output_type": "stream",
     "text": [
      "\r",
      " 17%|██████████████                                                                   | 39/225 [00:03<00:17, 10.89it/s]"
     ]
    },
    {
     "name": "stdout",
     "output_type": "stream",
     "text": [
      "\n",
      "torch.Size([128, 2, 2])\n",
      "torch.Size([128, 2, 2])\n",
      "torch.Size([128, 2, 2])\n",
      "torch.Size([128, 2, 2])"
     ]
    },
    {
     "name": "stderr",
     "output_type": "stream",
     "text": [
      "\r",
      " 18%|██████████████▊                                                                  | 41/225 [00:03<00:17, 10.72it/s]"
     ]
    },
    {
     "name": "stdout",
     "output_type": "stream",
     "text": [
      "\n",
      "torch.Size([128, 2, 2])\n",
      "torch.Size([128, 2, 2])\n",
      "torch.Size([128, 2, 2])\n",
      "torch.Size([128, 2, 2])"
     ]
    },
    {
     "name": "stderr",
     "output_type": "stream",
     "text": [
      "\r",
      " 19%|███████████████▍                                                                 | 43/225 [00:03<00:17, 10.70it/s]"
     ]
    },
    {
     "name": "stdout",
     "output_type": "stream",
     "text": [
      "\n",
      "torch.Size([128, 2, 2])\n",
      "torch.Size([128, 2, 2])\n",
      "torch.Size([128, 2, 2])\n",
      "torch.Size([128, 2, 2])"
     ]
    },
    {
     "name": "stderr",
     "output_type": "stream",
     "text": [
      "\r",
      " 20%|████████████████▏                                                                | 45/225 [00:04<00:16, 10.62it/s]"
     ]
    },
    {
     "name": "stdout",
     "output_type": "stream",
     "text": [
      "\n",
      "torch.Size([128, 2, 2])\n",
      "torch.Size([128, 2, 2])\n",
      "torch.Size([128, 2, 2])\n",
      "torch.Size([128, 2, 2])"
     ]
    },
    {
     "name": "stderr",
     "output_type": "stream",
     "text": [
      "\r",
      " 21%|████████████████▉                                                                | 47/225 [00:04<00:16, 10.77it/s]"
     ]
    },
    {
     "name": "stdout",
     "output_type": "stream",
     "text": [
      "\n",
      "torch.Size([128, 2, 2])\n",
      "torch.Size([128, 2, 2])\n",
      "torch.Size([128, 2, 2])\n",
      "torch.Size([128, 2, 2])\n"
     ]
    },
    {
     "name": "stderr",
     "output_type": "stream",
     "text": [
      " 23%|██████████████████▎                                                              | 51/225 [00:04<00:15, 10.95it/s]"
     ]
    },
    {
     "name": "stdout",
     "output_type": "stream",
     "text": [
      "torch.Size([128, 2, 2])\n",
      "torch.Size([128, 2, 2])\n",
      "torch.Size([128, 2, 2])\n",
      "torch.Size([128, 2, 2])\n",
      "torch.Size([128, 2, 2])\n"
     ]
    },
    {
     "name": "stderr",
     "output_type": "stream",
     "text": [
      "\r",
      " 24%|███████████████████                                                              | 53/225 [00:04<00:15, 10.99it/s]"
     ]
    },
    {
     "name": "stdout",
     "output_type": "stream",
     "text": [
      "torch.Size([128, 2, 2])\n",
      "torch.Size([128, 2, 2])\n",
      "torch.Size([128, 2, 2])\n",
      "torch.Size([128, 2, 2])\n",
      "torch.Size([128, 2, 2])"
     ]
    },
    {
     "name": "stderr",
     "output_type": "stream",
     "text": [
      "\r",
      " 24%|███████████████████▊                                                             | 55/225 [00:05<00:15, 10.81it/s]"
     ]
    },
    {
     "name": "stdout",
     "output_type": "stream",
     "text": [
      "\n",
      "torch.Size([128, 2, 2])\n",
      "torch.Size([128, 2, 2])\n",
      "torch.Size([128, 2, 2])\n",
      "torch.Size([128, 2, 2])\n"
     ]
    },
    {
     "name": "stderr",
     "output_type": "stream",
     "text": [
      "\r",
      " 25%|████████████████████▌                                                            | 57/225 [00:05<00:15, 10.88it/s]"
     ]
    },
    {
     "name": "stdout",
     "output_type": "stream",
     "text": [
      "torch.Size([128, 2, 2])\n",
      "torch.Size([128, 2, 2])\n",
      "torch.Size([128, 2, 2])\n",
      "torch.Size([128, 2, 2])\n"
     ]
    },
    {
     "name": "stderr",
     "output_type": "stream",
     "text": [
      "\r",
      " 26%|█████████████████████▏                                                           | 59/225 [00:05<00:15, 10.95it/s]"
     ]
    },
    {
     "name": "stdout",
     "output_type": "stream",
     "text": [
      "torch.Size([128, 2, 2])\n",
      "torch.Size([128, 2, 2])\n",
      "torch.Size([128, 2, 2])\n",
      "torch.Size([128, 2, 2])\n",
      "torch.Size([128, 2, 2])"
     ]
    },
    {
     "name": "stderr",
     "output_type": "stream",
     "text": [
      "\r",
      " 27%|█████████████████████▉                                                           | 61/225 [00:05<00:14, 11.01it/s]"
     ]
    },
    {
     "name": "stdout",
     "output_type": "stream",
     "text": [
      "\n",
      "torch.Size([128, 2, 2])\n",
      "torch.Size([128, 2, 2])\n",
      "torch.Size([128, 2, 2])\n",
      "torch.Size([128, 2, 2])\n"
     ]
    },
    {
     "name": "stderr",
     "output_type": "stream",
     "text": [
      "\r",
      " 28%|██████████████████████▋                                                          | 63/225 [00:05<00:14, 11.03it/s]"
     ]
    },
    {
     "name": "stdout",
     "output_type": "stream",
     "text": [
      "torch.Size([128, 2, 2])\n",
      "torch.Size([128, 2, 2])\n",
      "torch.Size([128, 2, 2])\n",
      "torch.Size([128, 2, 2])\n",
      "torch.Size([128, 2, 2])\n"
     ]
    },
    {
     "name": "stderr",
     "output_type": "stream",
     "text": [
      " 30%|████████████████████████                                                         | 67/225 [00:06<00:14, 11.07it/s]"
     ]
    },
    {
     "name": "stdout",
     "output_type": "stream",
     "text": [
      "torch.Size([128, 2, 2])\n",
      "torch.Size([128, 2, 2])\n",
      "torch.Size([128, 2, 2])\n",
      "torch.Size([128, 2, 2])\n",
      "torch.Size([128, 2, 2])\n"
     ]
    },
    {
     "name": "stderr",
     "output_type": "stream",
     "text": [
      "\r",
      " 31%|████████████████████████▊                                                        | 69/225 [00:06<00:14, 11.08it/s]"
     ]
    },
    {
     "name": "stdout",
     "output_type": "stream",
     "text": [
      "torch.Size([128, 2, 2])\n",
      "torch.Size([128, 2, 2])\n",
      "torch.Size([128, 2, 2])\n",
      "torch.Size([128, 2, 2])\n",
      "torch.Size([128, 2, 2])\n"
     ]
    },
    {
     "name": "stderr",
     "output_type": "stream",
     "text": [
      "\r",
      " 32%|█████████████████████████▌                                                       | 71/225 [00:06<00:13, 11.08it/s]"
     ]
    },
    {
     "name": "stdout",
     "output_type": "stream",
     "text": [
      "torch.Size([128, 2, 2])\n",
      "torch.Size([128, 2, 2])\n",
      "torch.Size([128, 2, 2])\n",
      "torch.Size([128, 2, 2])\n",
      "torch.Size([128, 2, 2])\n"
     ]
    },
    {
     "name": "stderr",
     "output_type": "stream",
     "text": [
      "\r",
      " 32%|██████████████████████████▎                                                      | 73/225 [00:06<00:13, 11.08it/s]"
     ]
    },
    {
     "name": "stdout",
     "output_type": "stream",
     "text": [
      "torch.Size([128, 2, 2])\n",
      "torch.Size([128, 2, 2])\n",
      "torch.Size([128, 2, 2])\n",
      "torch.Size([128, 2, 2])\n",
      "torch.Size([128, 2, 2])"
     ]
    },
    {
     "name": "stderr",
     "output_type": "stream",
     "text": [
      "\r",
      " 33%|███████████████████████████                                                      | 75/225 [00:06<00:13, 11.09it/s]"
     ]
    },
    {
     "name": "stdout",
     "output_type": "stream",
     "text": [
      "\n",
      "torch.Size([128, 2, 2])\n",
      "torch.Size([128, 2, 2])\n",
      "torch.Size([128, 2, 2])\n",
      "torch.Size([128, 2, 2])\n"
     ]
    },
    {
     "name": "stderr",
     "output_type": "stream",
     "text": [
      " 35%|████████████████████████████▍                                                    | 79/225 [00:07<00:13, 11.11it/s]"
     ]
    },
    {
     "name": "stdout",
     "output_type": "stream",
     "text": [
      "torch.Size([128, 2, 2])\n",
      "torch.Size([128, 2, 2])\n",
      "torch.Size([128, 2, 2])\n",
      "torch.Size([128, 2, 2])\n",
      "torch.Size([128, 2, 2])\n"
     ]
    },
    {
     "name": "stderr",
     "output_type": "stream",
     "text": [
      "\r",
      " 36%|█████████████████████████████▏                                                   | 81/225 [00:07<00:12, 11.12it/s]"
     ]
    },
    {
     "name": "stdout",
     "output_type": "stream",
     "text": [
      "torch.Size([128, 2, 2])\n",
      "torch.Size([128, 2, 2])\n",
      "torch.Size([128, 2, 2])\n",
      "torch.Size([128, 2, 2])\n",
      "torch.Size([128, 2, 2])"
     ]
    },
    {
     "name": "stderr",
     "output_type": "stream",
     "text": [
      "\r",
      " 37%|█████████████████████████████▉                                                   | 83/225 [00:07<00:13, 10.89it/s]"
     ]
    },
    {
     "name": "stdout",
     "output_type": "stream",
     "text": [
      "\n",
      "torch.Size([128, 2, 2])\n",
      "torch.Size([128, 2, 2])\n",
      "torch.Size([128, 2, 2])\n",
      "torch.Size([128, 2, 2])"
     ]
    },
    {
     "name": "stderr",
     "output_type": "stream",
     "text": [
      "\r",
      " 38%|██████████████████████████████▌                                                  | 85/225 [00:07<00:12, 10.96it/s]"
     ]
    },
    {
     "name": "stdout",
     "output_type": "stream",
     "text": [
      "\n",
      "torch.Size([128, 2, 2])\n",
      "torch.Size([128, 2, 2])\n",
      "torch.Size([128, 2, 2])\n",
      "torch.Size([128, 2, 2])\n"
     ]
    },
    {
     "name": "stderr",
     "output_type": "stream",
     "text": [
      "\r",
      " 39%|███████████████████████████████▎                                                 | 87/225 [00:07<00:12, 10.99it/s]"
     ]
    },
    {
     "name": "stdout",
     "output_type": "stream",
     "text": [
      "torch.Size([128, 2, 2])\n",
      "torch.Size([128, 2, 2])\n",
      "torch.Size([128, 2, 2])\n",
      "torch.Size([128, 2, 2])\n",
      "torch.Size([128, 2, 2])\n"
     ]
    },
    {
     "name": "stderr",
     "output_type": "stream",
     "text": [
      "\r",
      " 40%|████████████████████████████████                                                 | 89/225 [00:08<00:12, 11.02it/s]"
     ]
    },
    {
     "name": "stdout",
     "output_type": "stream",
     "text": [
      "torch.Size([128, 2, 2])\n",
      "torch.Size([128, 2, 2])\n",
      "torch.Size([128, 2, 2])\n",
      "torch.Size([128, 2, 2])\n",
      "torch.Size([128, 2, 2])"
     ]
    },
    {
     "name": "stderr",
     "output_type": "stream",
     "text": [
      "\r",
      " 40%|████████████████████████████████▊                                                | 91/225 [00:08<00:12, 10.84it/s]"
     ]
    },
    {
     "name": "stdout",
     "output_type": "stream",
     "text": [
      "\n",
      "torch.Size([128, 2, 2])\n",
      "torch.Size([128, 2, 2])\n",
      "torch.Size([128, 2, 2])\n",
      "torch.Size([128, 2, 2])"
     ]
    },
    {
     "name": "stderr",
     "output_type": "stream",
     "text": [
      "\r",
      " 41%|█████████████████████████████████▍                                               | 93/225 [00:08<00:12, 10.70it/s]"
     ]
    },
    {
     "name": "stdout",
     "output_type": "stream",
     "text": [
      "\n",
      "torch.Size([128, 2, 2])\n",
      "torch.Size([128, 2, 2])\n",
      "torch.Size([128, 2, 2])\n",
      "torch.Size([128, 2, 2])\n"
     ]
    },
    {
     "name": "stderr",
     "output_type": "stream",
     "text": [
      " 43%|██████████████████████████████████▉                                              | 97/225 [00:08<00:11, 10.91it/s]"
     ]
    },
    {
     "name": "stdout",
     "output_type": "stream",
     "text": [
      "torch.Size([128, 2, 2])\n",
      "torch.Size([128, 2, 2])\n",
      "torch.Size([128, 2, 2])\n",
      "torch.Size([128, 2, 2])\n",
      "torch.Size([128, 2, 2])\n"
     ]
    },
    {
     "name": "stderr",
     "output_type": "stream",
     "text": [
      "\r",
      " 44%|███████████████████████████████████▋                                             | 99/225 [00:09<00:11, 10.87it/s]"
     ]
    },
    {
     "name": "stdout",
     "output_type": "stream",
     "text": [
      "torch.Size([128, 2, 2])\n",
      "torch.Size([128, 2, 2])\n",
      "torch.Size([128, 2, 2])\n",
      "torch.Size([128, 2, 2])\n",
      "torch.Size([128, 2, 2])"
     ]
    },
    {
     "name": "stderr",
     "output_type": "stream",
     "text": [
      "\r",
      " 45%|███████████████████████████████████▉                                            | 101/225 [00:09<00:11, 10.93it/s]"
     ]
    },
    {
     "name": "stdout",
     "output_type": "stream",
     "text": [
      "\n",
      "torch.Size([128, 2, 2])\n",
      "torch.Size([128, 2, 2])\n",
      "torch.Size([128, 2, 2])\n",
      "torch.Size([128, 2, 2])"
     ]
    },
    {
     "name": "stderr",
     "output_type": "stream",
     "text": [
      "\r",
      " 46%|████████████████████████████████████▌                                           | 103/225 [00:09<00:11, 10.77it/s]"
     ]
    },
    {
     "name": "stdout",
     "output_type": "stream",
     "text": [
      "\n",
      "torch.Size([128, 2, 2])\n",
      "torch.Size([128, 2, 2])\n",
      "torch.Size([128, 2, 2])\n",
      "torch.Size([128, 2, 2])"
     ]
    },
    {
     "name": "stderr",
     "output_type": "stream",
     "text": [
      "\r",
      " 47%|█████████████████████████████████████▎                                          | 105/225 [00:09<00:11, 10.80it/s]"
     ]
    },
    {
     "name": "stdout",
     "output_type": "stream",
     "text": [
      "\n",
      "torch.Size([128, 2, 2])\n",
      "torch.Size([128, 2, 2])\n",
      "torch.Size([128, 2, 2])\n",
      "torch.Size([128, 2, 2])\n"
     ]
    },
    {
     "name": "stderr",
     "output_type": "stream",
     "text": [
      "\r",
      " 48%|██████████████████████████████████████                                          | 107/225 [00:09<00:10, 10.84it/s]"
     ]
    },
    {
     "name": "stdout",
     "output_type": "stream",
     "text": [
      "torch.Size([128, 2, 2])\n",
      "torch.Size([128, 2, 2])\n",
      "torch.Size([128, 2, 2])\n",
      "torch.Size([128, 2, 2])\n",
      "torch.Size([128, 2, 2])"
     ]
    },
    {
     "name": "stderr",
     "output_type": "stream",
     "text": [
      "\r",
      " 48%|██████████████████████████████████████▊                                         | 109/225 [00:10<00:10, 10.64it/s]"
     ]
    },
    {
     "name": "stdout",
     "output_type": "stream",
     "text": [
      "\n",
      "torch.Size([128, 2, 2])\n",
      "torch.Size([128, 2, 2])\n",
      "torch.Size([128, 2, 2])\n",
      "torch.Size([128, 2, 2])"
     ]
    },
    {
     "name": "stderr",
     "output_type": "stream",
     "text": [
      "\r",
      " 49%|███████████████████████████████████████▍                                        | 111/225 [00:10<00:10, 10.78it/s]"
     ]
    },
    {
     "name": "stdout",
     "output_type": "stream",
     "text": [
      "\n",
      "torch.Size([128, 2, 2])\n",
      "torch.Size([128, 2, 2])\n",
      "torch.Size([128, 2, 2])\n",
      "torch.Size([128, 2, 2])\n"
     ]
    },
    {
     "name": "stderr",
     "output_type": "stream",
     "text": [
      "\r",
      " 50%|████████████████████████████████████████▏                                       | 113/225 [00:10<00:10, 10.88it/s]"
     ]
    },
    {
     "name": "stdout",
     "output_type": "stream",
     "text": [
      "torch.Size([128, 2, 2])\n",
      "torch.Size([128, 2, 2])\n",
      "torch.Size([128, 2, 2])\n",
      "torch.Size([128, 2, 2])\n",
      "torch.Size([128, 2, 2])\n"
     ]
    },
    {
     "name": "stderr",
     "output_type": "stream",
     "text": [
      " 52%|█████████████████████████████████████████▌                                      | 117/225 [00:10<00:09, 10.99it/s]"
     ]
    },
    {
     "name": "stdout",
     "output_type": "stream",
     "text": [
      "torch.Size([128, 2, 2])\n",
      "torch.Size([128, 2, 2])\n",
      "torch.Size([128, 2, 2])\n",
      "torch.Size([128, 2, 2])\n",
      "torch.Size([128, 2, 2])\n"
     ]
    },
    {
     "name": "stderr",
     "output_type": "stream",
     "text": [
      "\r",
      " 53%|██████████████████████████████████████████▎                                     | 119/225 [00:10<00:09, 10.97it/s]"
     ]
    },
    {
     "name": "stdout",
     "output_type": "stream",
     "text": [
      "torch.Size([128, 2, 2])\n",
      "torch.Size([128, 2, 2])\n",
      "torch.Size([128, 2, 2])\n",
      "torch.Size([128, 2, 2])\n",
      "torch.Size([128, 2, 2])\n"
     ]
    },
    {
     "name": "stderr",
     "output_type": "stream",
     "text": [
      "\r",
      " 54%|███████████████████████████████████████████                                     | 121/225 [00:11<00:09, 10.96it/s]"
     ]
    },
    {
     "name": "stdout",
     "output_type": "stream",
     "text": [
      "torch.Size([128, 2, 2])\n",
      "torch.Size([128, 2, 2])\n",
      "torch.Size([128, 2, 2])\n",
      "torch.Size([128, 2, 2])\n",
      "torch.Size([128, 2, 2])"
     ]
    },
    {
     "name": "stderr",
     "output_type": "stream",
     "text": [
      "\r",
      " 55%|███████████████████████████████████████████▋                                    | 123/225 [00:11<00:09, 10.77it/s]"
     ]
    },
    {
     "name": "stdout",
     "output_type": "stream",
     "text": [
      "\n",
      "torch.Size([128, 2, 2])\n",
      "torch.Size([128, 2, 2])\n",
      "torch.Size([128, 2, 2])\n",
      "torch.Size([128, 2, 2])"
     ]
    },
    {
     "name": "stderr",
     "output_type": "stream",
     "text": [
      "\r",
      " 56%|████████████████████████████████████████████▍                                   | 125/225 [00:11<00:09, 10.88it/s]"
     ]
    },
    {
     "name": "stdout",
     "output_type": "stream",
     "text": [
      "\n",
      "torch.Size([128, 2, 2])\n",
      "torch.Size([128, 2, 2])\n",
      "torch.Size([128, 2, 2])\n",
      "torch.Size([128, 2, 2])\n"
     ]
    },
    {
     "name": "stderr",
     "output_type": "stream",
     "text": [
      "\r",
      " 56%|█████████████████████████████████████████████▏                                  | 127/225 [00:11<00:09, 10.89it/s]"
     ]
    },
    {
     "name": "stdout",
     "output_type": "stream",
     "text": [
      "torch.Size([128, 2, 2])\n",
      "torch.Size([128, 2, 2])\n",
      "torch.Size([128, 2, 2])\n",
      "torch.Size([128, 2, 2])\n",
      "torch.Size([128, 2, 2])"
     ]
    },
    {
     "name": "stderr",
     "output_type": "stream",
     "text": [
      "\r",
      " 57%|█████████████████████████████████████████████▊                                  | 129/225 [00:11<00:09, 10.38it/s]"
     ]
    },
    {
     "name": "stdout",
     "output_type": "stream",
     "text": [
      "\n",
      "torch.Size([128, 2, 2])\n",
      "torch.Size([128, 2, 2])\n",
      "torch.Size([128, 2, 2])\n",
      "torch.Size([128, 2, 2])"
     ]
    },
    {
     "name": "stderr",
     "output_type": "stream",
     "text": [
      "\r",
      " 58%|██████████████████████████████████████████████▌                                 | 131/225 [00:12<00:08, 10.60it/s]"
     ]
    },
    {
     "name": "stdout",
     "output_type": "stream",
     "text": [
      "\n",
      "torch.Size([128, 2, 2])\n",
      "torch.Size([128, 2, 2])\n",
      "torch.Size([128, 2, 2])\n",
      "torch.Size([128, 2, 2])\n"
     ]
    },
    {
     "name": "stderr",
     "output_type": "stream",
     "text": [
      " 60%|████████████████████████████████████████████████                                | 135/225 [00:12<00:08, 10.88it/s]"
     ]
    },
    {
     "name": "stdout",
     "output_type": "stream",
     "text": [
      "torch.Size([128, 2, 2])\n",
      "torch.Size([128, 2, 2])\n",
      "torch.Size([128, 2, 2])\n",
      "torch.Size([128, 2, 2])\n",
      "torch.Size([128, 2, 2])\n"
     ]
    },
    {
     "name": "stderr",
     "output_type": "stream",
     "text": [
      "\r",
      " 61%|████████████████████████████████████████████████▋                               | 137/225 [00:12<00:08, 10.94it/s]"
     ]
    },
    {
     "name": "stdout",
     "output_type": "stream",
     "text": [
      "torch.Size([128, 2, 2])\n",
      "torch.Size([128, 2, 2])\n",
      "torch.Size([128, 2, 2])\n",
      "torch.Size([128, 2, 2])\n",
      "torch.Size([128, 2, 2])"
     ]
    },
    {
     "name": "stderr",
     "output_type": "stream",
     "text": [
      "\r",
      " 62%|█████████████████████████████████████████████████▍                              | 139/225 [00:12<00:07, 10.76it/s]"
     ]
    },
    {
     "name": "stdout",
     "output_type": "stream",
     "text": [
      "\n",
      "torch.Size([128, 2, 2])\n",
      "torch.Size([128, 2, 2])\n",
      "torch.Size([128, 2, 2])\n",
      "torch.Size([128, 2, 2])"
     ]
    },
    {
     "name": "stderr",
     "output_type": "stream",
     "text": [
      "\r",
      " 63%|██████████████████████████████████████████████████▏                             | 141/225 [00:12<00:07, 10.65it/s]"
     ]
    },
    {
     "name": "stdout",
     "output_type": "stream",
     "text": [
      "\n",
      "torch.Size([128, 2, 2])\n",
      "torch.Size([128, 2, 2])\n",
      "torch.Size([128, 2, 2])\n",
      "torch.Size([128, 2, 2])"
     ]
    },
    {
     "name": "stderr",
     "output_type": "stream",
     "text": [
      "\r",
      " 64%|██████████████████████████████████████████████████▊                             | 143/225 [00:13<00:07, 10.75it/s]"
     ]
    },
    {
     "name": "stdout",
     "output_type": "stream",
     "text": [
      "\n",
      "torch.Size([128, 2, 2])\n",
      "torch.Size([128, 2, 2])\n",
      "torch.Size([128, 2, 2])\n",
      "torch.Size([128, 2, 2])"
     ]
    },
    {
     "name": "stderr",
     "output_type": "stream",
     "text": [
      "\r",
      " 64%|███████████████████████████████████████████████████▌                            | 145/225 [00:13<00:07, 10.60it/s]"
     ]
    },
    {
     "name": "stdout",
     "output_type": "stream",
     "text": [
      "\n",
      "torch.Size([128, 2, 2])\n",
      "torch.Size([128, 2, 2])\n",
      "torch.Size([128, 2, 2])\n"
     ]
    },
    {
     "name": "stderr",
     "output_type": "stream",
     "text": [
      "\r",
      " 65%|████████████████████████████████████████████████████▎                           | 147/225 [00:13<00:07, 10.52it/s]"
     ]
    },
    {
     "name": "stdout",
     "output_type": "stream",
     "text": [
      "torch.Size([128, 2, 2])\n",
      "torch.Size([128, 2, 2])\n",
      "torch.Size([128, 2, 2])\n",
      "torch.Size([128, 2, 2])\n",
      "torch.Size([128, 2, 2])\n"
     ]
    },
    {
     "name": "stderr",
     "output_type": "stream",
     "text": [
      "\r",
      " 66%|████████████████████████████████████████████████████▉                           | 149/225 [00:13<00:07, 10.56it/s]"
     ]
    },
    {
     "name": "stdout",
     "output_type": "stream",
     "text": [
      "torch.Size([128, 2, 2])\n",
      "torch.Size([128, 2, 2])\n",
      "torch.Size([128, 2, 2])\n",
      "torch.Size([128, 2, 2])\n",
      "torch.Size([128, 2, 2])"
     ]
    },
    {
     "name": "stderr",
     "output_type": "stream",
     "text": [
      "\r",
      " 67%|█████████████████████████████████████████████████████▋                          | 151/225 [00:13<00:07, 10.51it/s]"
     ]
    },
    {
     "name": "stdout",
     "output_type": "stream",
     "text": [
      "\n",
      "torch.Size([128, 2, 2])\n",
      "torch.Size([128, 2, 2])\n",
      "torch.Size([128, 2, 2])\n",
      "torch.Size([128, 2, 2])\n"
     ]
    },
    {
     "name": "stderr",
     "output_type": "stream",
     "text": [
      "\r",
      " 68%|██████████████████████████████████████████████████████▍                         | 153/225 [00:14<00:06, 10.64it/s]"
     ]
    },
    {
     "name": "stdout",
     "output_type": "stream",
     "text": [
      "torch.Size([128, 2, 2])\n",
      "torch.Size([128, 2, 2])\n",
      "torch.Size([128, 2, 2])\n",
      "torch.Size([128, 2, 2])\n",
      "torch.Size([128, 2, 2])"
     ]
    },
    {
     "name": "stderr",
     "output_type": "stream",
     "text": [
      "\r",
      " 69%|███████████████████████████████████████████████████████                         | 155/225 [00:14<00:06, 10.54it/s]"
     ]
    },
    {
     "name": "stdout",
     "output_type": "stream",
     "text": [
      "\n",
      "torch.Size([128, 2, 2])\n",
      "torch.Size([128, 2, 2])\n",
      "torch.Size([128, 2, 2])\n",
      "torch.Size([128, 2, 2])"
     ]
    },
    {
     "name": "stderr",
     "output_type": "stream",
     "text": [
      "\r",
      " 70%|███████████████████████████████████████████████████████▊                        | 157/225 [00:14<00:06, 10.50it/s]"
     ]
    },
    {
     "name": "stdout",
     "output_type": "stream",
     "text": [
      "\n",
      "torch.Size([128, 2, 2])\n",
      "torch.Size([128, 2, 2])\n",
      "torch.Size([128, 2, 2])\n",
      "torch.Size([128, 2, 2])"
     ]
    },
    {
     "name": "stderr",
     "output_type": "stream",
     "text": [
      "\r",
      " 71%|████████████████████████████████████████████████████████▌                       | 159/225 [00:14<00:06, 10.42it/s]"
     ]
    },
    {
     "name": "stdout",
     "output_type": "stream",
     "text": [
      "\n",
      "torch.Size([128, 2, 2])\n",
      "torch.Size([128, 2, 2])\n",
      "torch.Size([128, 2, 2])\n",
      "torch.Size([128, 2, 2])"
     ]
    },
    {
     "name": "stderr",
     "output_type": "stream",
     "text": [
      "\r",
      " 72%|█████████████████████████████████████████████████████████▏                      | 161/225 [00:14<00:06, 10.31it/s]"
     ]
    },
    {
     "name": "stdout",
     "output_type": "stream",
     "text": [
      "\n",
      "torch.Size([128, 2, 2])\n",
      "torch.Size([128, 2, 2])\n",
      "torch.Size([128, 2, 2])\n",
      "torch.Size([128, 2, 2])"
     ]
    },
    {
     "name": "stderr",
     "output_type": "stream",
     "text": [
      "\r",
      " 72%|█████████████████████████████████████████████████████████▉                      | 163/225 [00:15<00:05, 10.46it/s]"
     ]
    },
    {
     "name": "stdout",
     "output_type": "stream",
     "text": [
      "\n",
      "torch.Size([128, 2, 2])\n",
      "torch.Size([128, 2, 2])\n",
      "torch.Size([128, 2, 2])\n"
     ]
    },
    {
     "name": "stderr",
     "output_type": "stream",
     "text": [
      "\r",
      " 73%|██████████████████████████████████████████████████████████▋                     | 165/225 [00:15<00:05, 10.29it/s]"
     ]
    },
    {
     "name": "stdout",
     "output_type": "stream",
     "text": [
      "torch.Size([128, 2, 2])\n",
      "torch.Size([128, 2, 2])\n",
      "torch.Size([128, 2, 2])\n",
      "torch.Size([128, 2, 2])\n",
      "torch.Size([128, 2, 2])"
     ]
    },
    {
     "name": "stderr",
     "output_type": "stream",
     "text": [
      "\r",
      " 74%|███████████████████████████████████████████████████████████▍                    | 167/225 [00:15<00:05, 10.32it/s]"
     ]
    },
    {
     "name": "stdout",
     "output_type": "stream",
     "text": [
      "\n",
      "torch.Size([128, 2, 2])\n",
      "torch.Size([128, 2, 2])\n",
      "torch.Size([128, 2, 2])\n",
      "torch.Size([128, 2, 2])"
     ]
    },
    {
     "name": "stderr",
     "output_type": "stream",
     "text": [
      "\r",
      " 75%|████████████████████████████████████████████████████████████                    | 169/225 [00:15<00:05, 10.52it/s]"
     ]
    },
    {
     "name": "stdout",
     "output_type": "stream",
     "text": [
      "\n",
      "torch.Size([128, 2, 2])\n",
      "torch.Size([128, 2, 2])\n",
      "torch.Size([128, 2, 2])\n"
     ]
    },
    {
     "name": "stderr",
     "output_type": "stream",
     "text": [
      "\r",
      " 76%|████████████████████████████████████████████████████████████▊                   | 171/225 [00:15<00:05, 10.31it/s]"
     ]
    },
    {
     "name": "stdout",
     "output_type": "stream",
     "text": [
      "torch.Size([128, 2, 2])\n",
      "torch.Size([128, 2, 2])\n",
      "torch.Size([128, 2, 2])\n",
      "torch.Size([128, 2, 2])\n",
      "torch.Size([128, 2, 2])"
     ]
    },
    {
     "name": "stderr",
     "output_type": "stream",
     "text": [
      "\r",
      " 77%|█████████████████████████████████████████████████████████████▌                  | 173/225 [00:16<00:05, 10.34it/s]"
     ]
    },
    {
     "name": "stdout",
     "output_type": "stream",
     "text": [
      "\n",
      "torch.Size([128, 2, 2])\n",
      "torch.Size([128, 2, 2])\n",
      "torch.Size([128, 2, 2])\n",
      "torch.Size([128, 2, 2])\n"
     ]
    },
    {
     "name": "stderr",
     "output_type": "stream",
     "text": [
      " 79%|██████████████████████████████████████████████████████████████▉                 | 177/225 [00:16<00:04, 10.70it/s]"
     ]
    },
    {
     "name": "stdout",
     "output_type": "stream",
     "text": [
      "torch.Size([128, 2, 2])\n",
      "torch.Size([128, 2, 2])\n",
      "torch.Size([128, 2, 2])\n",
      "torch.Size([128, 2, 2])\n",
      "torch.Size([128, 2, 2])\n"
     ]
    },
    {
     "name": "stderr",
     "output_type": "stream",
     "text": [
      "\r",
      " 80%|███████████████████████████████████████████████████████████████▋                | 179/225 [00:16<00:04, 10.81it/s]"
     ]
    },
    {
     "name": "stdout",
     "output_type": "stream",
     "text": [
      "torch.Size([128, 2, 2])\n",
      "torch.Size([128, 2, 2])\n",
      "torch.Size([128, 2, 2])\n",
      "torch.Size([128, 2, 2])\n",
      "torch.Size([128, 2, 2])\n"
     ]
    },
    {
     "name": "stderr",
     "output_type": "stream",
     "text": [
      "\r",
      " 80%|████████████████████████████████████████████████████████████████▎               | 181/225 [00:16<00:04, 10.87it/s]"
     ]
    },
    {
     "name": "stdout",
     "output_type": "stream",
     "text": [
      "torch.Size([128, 2, 2])\n",
      "torch.Size([128, 2, 2])\n",
      "torch.Size([128, 2, 2])\n",
      "torch.Size([128, 2, 2])\n",
      "torch.Size([128, 2, 2])\n"
     ]
    },
    {
     "name": "stderr",
     "output_type": "stream",
     "text": [
      "\r",
      " 81%|█████████████████████████████████████████████████████████████████               | 183/225 [00:16<00:03, 10.90it/s]"
     ]
    },
    {
     "name": "stdout",
     "output_type": "stream",
     "text": [
      "torch.Size([128, 2, 2])\n",
      "torch.Size([128, 2, 2])\n",
      "torch.Size([128, 2, 2])\n",
      "torch.Size([128, 2, 2])\n",
      "torch.Size([128, 2, 2])"
     ]
    },
    {
     "name": "stderr",
     "output_type": "stream",
     "text": [
      "\r",
      " 82%|█████████████████████████████████████████████████████████████████▊              | 185/225 [00:17<00:03, 10.95it/s]"
     ]
    },
    {
     "name": "stdout",
     "output_type": "stream",
     "text": [
      "\n",
      "torch.Size([128, 2, 2])\n",
      "torch.Size([128, 2, 2])\n",
      "torch.Size([128, 2, 2])\n",
      "torch.Size([128, 2, 2])"
     ]
    },
    {
     "name": "stderr",
     "output_type": "stream",
     "text": [
      "\r",
      " 83%|██████████████████████████████████████████████████████████████████▍             | 187/225 [00:17<00:03, 10.95it/s]"
     ]
    },
    {
     "name": "stdout",
     "output_type": "stream",
     "text": [
      "\n",
      "torch.Size([128, 2, 2])\n",
      "torch.Size([128, 2, 2])\n",
      "torch.Size([128, 2, 2])\n",
      "torch.Size([128, 2, 2])"
     ]
    },
    {
     "name": "stderr",
     "output_type": "stream",
     "text": [
      "\r",
      " 84%|███████████████████████████████████████████████████████████████████▏            | 189/225 [00:17<00:03, 10.90it/s]"
     ]
    },
    {
     "name": "stdout",
     "output_type": "stream",
     "text": [
      "\n",
      "torch.Size([128, 2, 2])\n",
      "torch.Size([128, 2, 2])\n",
      "torch.Size([128, 2, 2])\n",
      "torch.Size([128, 2, 2])\n"
     ]
    },
    {
     "name": "stderr",
     "output_type": "stream",
     "text": [
      " 86%|████████████████████████████████████████████████████████████████████▌           | 193/225 [00:17<00:02, 10.86it/s]"
     ]
    },
    {
     "name": "stdout",
     "output_type": "stream",
     "text": [
      "torch.Size([128, 2, 2])\n",
      "torch.Size([128, 2, 2])\n",
      "torch.Size([128, 2, 2])\n",
      "torch.Size([128, 2, 2])\n"
     ]
    },
    {
     "name": "stderr",
     "output_type": "stream",
     "text": [
      "\r",
      " 87%|█████████████████████████████████████████████████████████████████████▎          | 195/225 [00:18<00:02, 10.93it/s]"
     ]
    },
    {
     "name": "stdout",
     "output_type": "stream",
     "text": [
      "torch.Size([128, 2, 2])\n",
      "torch.Size([128, 2, 2])\n",
      "torch.Size([128, 2, 2])\n",
      "torch.Size([128, 2, 2])\n",
      "torch.Size([128, 2, 2])\n"
     ]
    },
    {
     "name": "stderr",
     "output_type": "stream",
     "text": [
      "\r",
      " 88%|██████████████████████████████████████████████████████████████████████          | 197/225 [00:18<00:02, 10.95it/s]"
     ]
    },
    {
     "name": "stdout",
     "output_type": "stream",
     "text": [
      "torch.Size([128, 2, 2])\n",
      "torch.Size([128, 2, 2])\n",
      "torch.Size([128, 2, 2])\n",
      "torch.Size([128, 2, 2])\n",
      "torch.Size([128, 2, 2])"
     ]
    },
    {
     "name": "stderr",
     "output_type": "stream",
     "text": [
      "\r",
      " 88%|██████████████████████████████████████████████████████████████████████▊         | 199/225 [00:18<00:02, 10.66it/s]"
     ]
    },
    {
     "name": "stdout",
     "output_type": "stream",
     "text": [
      "\n",
      "torch.Size([128, 2, 2])\n",
      "torch.Size([128, 2, 2])\n",
      "torch.Size([128, 2, 2])\n",
      "torch.Size([128, 2, 2])"
     ]
    },
    {
     "name": "stderr",
     "output_type": "stream",
     "text": [
      "\r",
      " 89%|███████████████████████████████████████████████████████████████████████▍        | 201/225 [00:18<00:02, 10.78it/s]"
     ]
    },
    {
     "name": "stdout",
     "output_type": "stream",
     "text": [
      "\n",
      "torch.Size([128, 2, 2])\n",
      "torch.Size([128, 2, 2])\n",
      "torch.Size([128, 2, 2])\n",
      "torch.Size([128, 2, 2])"
     ]
    },
    {
     "name": "stderr",
     "output_type": "stream",
     "text": [
      "\r",
      " 90%|████████████████████████████████████████████████████████████████████████▏       | 203/225 [00:18<00:02, 10.86it/s]"
     ]
    },
    {
     "name": "stdout",
     "output_type": "stream",
     "text": [
      "\n",
      "torch.Size([128, 2, 2])\n",
      "torch.Size([128, 2, 2])\n",
      "torch.Size([128, 2, 2])\n",
      "torch.Size([128, 2, 2])\n"
     ]
    },
    {
     "name": "stderr",
     "output_type": "stream",
     "text": [
      "\r",
      " 91%|████████████████████████████████████████████████████████████████████████▉       | 205/225 [00:18<00:01, 10.91it/s]"
     ]
    },
    {
     "name": "stdout",
     "output_type": "stream",
     "text": [
      "torch.Size([128, 2, 2])\n",
      "torch.Size([128, 2, 2])\n",
      "torch.Size([128, 2, 2])\n",
      "torch.Size([128, 2, 2])\n",
      "torch.Size([128, 2, 2])\n"
     ]
    },
    {
     "name": "stderr",
     "output_type": "stream",
     "text": [
      "\r",
      " 92%|█████████████████████████████████████████████████████████████████████████▌      | 207/225 [00:19<00:01, 10.96it/s]"
     ]
    },
    {
     "name": "stdout",
     "output_type": "stream",
     "text": [
      "torch.Size([128, 2, 2])\n",
      "torch.Size([128, 2, 2])\n",
      "torch.Size([128, 2, 2])\n",
      "torch.Size([128, 2, 2])\n",
      "torch.Size([128, 2, 2])\n"
     ]
    },
    {
     "name": "stderr",
     "output_type": "stream",
     "text": [
      " 94%|███████████████████████████████████████████████████████████████████████████     | 211/225 [00:19<00:01, 11.01it/s]"
     ]
    },
    {
     "name": "stdout",
     "output_type": "stream",
     "text": [
      "torch.Size([128, 2, 2])\n",
      "torch.Size([128, 2, 2])\n",
      "torch.Size([128, 2, 2])\n",
      "torch.Size([128, 2, 2])\n"
     ]
    },
    {
     "name": "stderr",
     "output_type": "stream",
     "text": [
      "\r",
      " 95%|███████████████████████████████████████████████████████████████████████████▋    | 213/225 [00:19<00:01, 10.99it/s]"
     ]
    },
    {
     "name": "stdout",
     "output_type": "stream",
     "text": [
      "torch.Size([128, 2, 2])\n",
      "torch.Size([128, 2, 2])\n",
      "torch.Size([128, 2, 2])\n",
      "torch.Size([128, 2, 2])\n"
     ]
    },
    {
     "name": "stderr",
     "output_type": "stream",
     "text": [
      "\r",
      " 96%|████████████████████████████████████████████████████████████████████████████▍   | 215/225 [00:19<00:00, 10.78it/s]"
     ]
    },
    {
     "name": "stdout",
     "output_type": "stream",
     "text": [
      "torch.Size([128, 2, 2])\n",
      "torch.Size([128, 2, 2])\n",
      "torch.Size([128, 2, 2])\n",
      "torch.Size([128, 2, 2])\n"
     ]
    },
    {
     "name": "stderr",
     "output_type": "stream",
     "text": [
      "\r",
      " 96%|█████████████████████████████████████████████████████████████████████████████▏  | 217/225 [00:20<00:00, 10.89it/s]"
     ]
    },
    {
     "name": "stdout",
     "output_type": "stream",
     "text": [
      "torch.Size([128, 2, 2])\n",
      "torch.Size([128, 2, 2])\n",
      "torch.Size([128, 2, 2])\n",
      "torch.Size([128, 2, 2])\n",
      "torch.Size([128, 2, 2])"
     ]
    },
    {
     "name": "stderr",
     "output_type": "stream",
     "text": [
      "\r",
      " 97%|█████████████████████████████████████████████████████████████████████████████▊  | 219/225 [00:20<00:00, 10.98it/s]"
     ]
    },
    {
     "name": "stdout",
     "output_type": "stream",
     "text": [
      "\n",
      "torch.Size([128, 2, 2])\n",
      "torch.Size([128, 2, 2])\n",
      "torch.Size([128, 2, 2])\n",
      "torch.Size([128, 2, 2])\n"
     ]
    },
    {
     "name": "stderr",
     "output_type": "stream",
     "text": [
      "\r",
      " 98%|██████████████████████████████████████████████████████████████████████████████▌ | 221/225 [00:20<00:00, 10.87it/s]"
     ]
    },
    {
     "name": "stdout",
     "output_type": "stream",
     "text": [
      "torch.Size([128, 2, 2])\n",
      "torch.Size([128, 2, 2])\n",
      "torch.Size([128, 2, 2])\n",
      "torch.Size([128, 2, 2])\n",
      "torch.Size([128, 2, 2])"
     ]
    },
    {
     "name": "stderr",
     "output_type": "stream",
     "text": [
      "\r",
      " 99%|███████████████████████████████████████████████████████████████████████████████▎| 223/225 [00:20<00:00, 10.50it/s]"
     ]
    },
    {
     "name": "stdout",
     "output_type": "stream",
     "text": [
      "\n",
      "torch.Size([128, 2, 2])\n",
      "torch.Size([128, 2, 2])\n",
      "torch.Size([128, 2, 2])\n",
      "torch.Size([128, 2, 2])"
     ]
    },
    {
     "name": "stderr",
     "output_type": "stream",
     "text": [
      "100%|████████████████████████████████████████████████████████████████████████████████| 225/225 [00:20<00:00, 10.82it/s]\n",
      "  0%|                                                                                          | 0/225 [00:00<?, ?it/s]"
     ]
    },
    {
     "name": "stdout",
     "output_type": "stream",
     "text": [
      "\n",
      "torch.Size([128, 2, 2])\n",
      "torch.Size([128, 2, 2])\n",
      "torch.Size([128, 2, 2])\n",
      "torch.Size([128, 2, 2])\n",
      "torch.Size([128, 2, 2])"
     ]
    },
    {
     "name": "stderr",
     "output_type": "stream",
     "text": [
      "\r",
      "  1%|▋                                                                                 | 2/225 [00:00<00:20, 10.79it/s]"
     ]
    },
    {
     "name": "stdout",
     "output_type": "stream",
     "text": [
      "\n",
      "torch.Size([128, 2, 2])\n",
      "torch.Size([128, 2, 2])\n",
      "torch.Size([128, 2, 2])\n",
      "torch.Size([128, 2, 2])\n"
     ]
    },
    {
     "name": "stderr",
     "output_type": "stream",
     "text": [
      "\r",
      "  2%|█▍                                                                                | 4/225 [00:00<00:20, 10.85it/s]"
     ]
    },
    {
     "name": "stdout",
     "output_type": "stream",
     "text": [
      "torch.Size([128, 2, 2])\n",
      "torch.Size([128, 2, 2])\n",
      "torch.Size([128, 2, 2])\n",
      "torch.Size([128, 2, 2])\n",
      "torch.Size([128, 2, 2])\n"
     ]
    },
    {
     "name": "stderr",
     "output_type": "stream",
     "text": [
      "  4%|██▉                                                                               | 8/225 [00:00<00:20, 10.85it/s]"
     ]
    },
    {
     "name": "stdout",
     "output_type": "stream",
     "text": [
      "torch.Size([128, 2, 2])\n",
      "torch.Size([128, 2, 2])\n",
      "torch.Size([128, 2, 2])\n",
      "torch.Size([128, 2, 2])\n"
     ]
    },
    {
     "name": "stderr",
     "output_type": "stream",
     "text": [
      "\r",
      "  4%|███▌                                                                             | 10/225 [00:00<00:19, 10.91it/s]"
     ]
    },
    {
     "name": "stdout",
     "output_type": "stream",
     "text": [
      "torch.Size([128, 2, 2])\n",
      "torch.Size([128, 2, 2])\n",
      "torch.Size([128, 2, 2])\n",
      "torch.Size([128, 2, 2])\n",
      "torch.Size([128, 2, 2])\n"
     ]
    },
    {
     "name": "stderr",
     "output_type": "stream",
     "text": [
      "\r",
      "  5%|████▎                                                                            | 12/225 [00:01<00:19, 10.91it/s]"
     ]
    },
    {
     "name": "stdout",
     "output_type": "stream",
     "text": [
      "torch.Size([128, 2, 2])\n",
      "torch.Size([128, 2, 2])\n",
      "torch.Size([128, 2, 2])\n",
      "torch.Size([128, 2, 2])\n",
      "torch.Size([128, 2, 2])"
     ]
    },
    {
     "name": "stderr",
     "output_type": "stream",
     "text": [
      "\r",
      "  6%|█████                                                                            | 14/225 [00:01<00:19, 10.94it/s]"
     ]
    },
    {
     "name": "stdout",
     "output_type": "stream",
     "text": [
      "\n",
      "torch.Size([128, 2, 2])\n",
      "torch.Size([128, 2, 2])\n",
      "torch.Size([128, 2, 2])\n",
      "torch.Size([128, 2, 2])\n"
     ]
    },
    {
     "name": "stderr",
     "output_type": "stream",
     "text": [
      "\r",
      "  7%|█████▊                                                                           | 16/225 [00:01<00:19, 10.99it/s]"
     ]
    },
    {
     "name": "stdout",
     "output_type": "stream",
     "text": [
      "torch.Size([128, 2, 2])\n",
      "torch.Size([128, 2, 2])\n",
      "torch.Size([128, 2, 2])\n",
      "torch.Size([128, 2, 2])\n",
      "torch.Size([128, 2, 2])\n"
     ]
    },
    {
     "name": "stderr",
     "output_type": "stream",
     "text": [
      "\r",
      "  8%|██████▍                                                                          | 18/225 [00:01<00:18, 11.00it/s]"
     ]
    },
    {
     "name": "stdout",
     "output_type": "stream",
     "text": [
      "torch.Size([128, 2, 2])\n",
      "torch.Size([128, 2, 2])\n",
      "torch.Size([128, 2, 2])\n",
      "torch.Size([128, 2, 2])\n",
      "torch.Size([128, 2, 2])"
     ]
    },
    {
     "name": "stderr",
     "output_type": "stream",
     "text": [
      "\r",
      "  9%|███████▏                                                                         | 20/225 [00:01<00:18, 10.82it/s]"
     ]
    },
    {
     "name": "stdout",
     "output_type": "stream",
     "text": [
      "\n",
      "torch.Size([128, 2, 2])\n",
      "torch.Size([128, 2, 2])\n",
      "torch.Size([128, 2, 2])\n",
      "torch.Size([128, 2, 2])"
     ]
    },
    {
     "name": "stderr",
     "output_type": "stream",
     "text": [
      "\r",
      " 10%|███████▉                                                                         | 22/225 [00:02<00:18, 10.71it/s]"
     ]
    },
    {
     "name": "stdout",
     "output_type": "stream",
     "text": [
      "\n",
      "torch.Size([128, 2, 2])\n",
      "torch.Size([128, 2, 2])\n",
      "torch.Size([128, 2, 2])\n",
      "torch.Size([128, 2, 2])"
     ]
    },
    {
     "name": "stderr",
     "output_type": "stream",
     "text": [
      "\r",
      " 11%|████████▋                                                                        | 24/225 [00:02<00:18, 10.81it/s]"
     ]
    },
    {
     "name": "stdout",
     "output_type": "stream",
     "text": [
      "\n",
      "torch.Size([128, 2, 2])\n",
      "torch.Size([128, 2, 2])\n",
      "torch.Size([128, 2, 2])\n",
      "torch.Size([128, 2, 2])"
     ]
    },
    {
     "name": "stderr",
     "output_type": "stream",
     "text": [
      "\r",
      " 12%|█████████▎                                                                       | 26/225 [00:02<00:18, 10.68it/s]"
     ]
    },
    {
     "name": "stdout",
     "output_type": "stream",
     "text": [
      "\n",
      "torch.Size([128, 2, 2])\n",
      "torch.Size([128, 2, 2])\n",
      "torch.Size([128, 2, 2])\n",
      "torch.Size([128, 2, 2])"
     ]
    },
    {
     "name": "stderr",
     "output_type": "stream",
     "text": [
      "\r",
      " 12%|██████████                                                                       | 28/225 [00:02<00:18, 10.78it/s]"
     ]
    },
    {
     "name": "stdout",
     "output_type": "stream",
     "text": [
      "\n",
      "torch.Size([128, 2, 2])\n",
      "torch.Size([128, 2, 2])\n",
      "torch.Size([128, 2, 2])\n",
      "torch.Size([128, 2, 2])"
     ]
    },
    {
     "name": "stderr",
     "output_type": "stream",
     "text": [
      "\r",
      " 13%|██████████▊                                                                      | 30/225 [00:02<00:18, 10.67it/s]"
     ]
    },
    {
     "name": "stdout",
     "output_type": "stream",
     "text": [
      "\n",
      "torch.Size([128, 2, 2])\n",
      "torch.Size([128, 2, 2])\n",
      "torch.Size([128, 2, 2])\n",
      "torch.Size([128, 2, 2])\n"
     ]
    },
    {
     "name": "stderr",
     "output_type": "stream",
     "text": [
      " 15%|████████████▏                                                                    | 34/225 [00:03<00:17, 10.84it/s]"
     ]
    },
    {
     "name": "stdout",
     "output_type": "stream",
     "text": [
      "torch.Size([128, 2, 2])\n",
      "torch.Size([128, 2, 2])\n",
      "torch.Size([128, 2, 2])\n",
      "torch.Size([128, 2, 2])\n",
      "torch.Size([128, 2, 2])"
     ]
    },
    {
     "name": "stderr",
     "output_type": "stream",
     "text": [
      "\r",
      " 16%|████████████▉                                                                    | 36/225 [00:03<00:17, 10.71it/s]"
     ]
    },
    {
     "name": "stdout",
     "output_type": "stream",
     "text": [
      "\n",
      "torch.Size([128, 2, 2])\n",
      "torch.Size([128, 2, 2])\n",
      "torch.Size([128, 2, 2])\n"
     ]
    },
    {
     "name": "stderr",
     "output_type": "stream",
     "text": [
      "\r",
      " 17%|█████████████▋                                                                   | 38/225 [00:03<00:17, 10.84it/s]"
     ]
    },
    {
     "name": "stdout",
     "output_type": "stream",
     "text": [
      "torch.Size([128, 2, 2])\n",
      "torch.Size([128, 2, 2])\n",
      "torch.Size([128, 2, 2])\n",
      "torch.Size([128, 2, 2])\n",
      "torch.Size([128, 2, 2])\n"
     ]
    },
    {
     "name": "stderr",
     "output_type": "stream",
     "text": [
      "\r",
      " 18%|██████████████▍                                                                  | 40/225 [00:03<00:16, 10.91it/s]"
     ]
    },
    {
     "name": "stdout",
     "output_type": "stream",
     "text": [
      "torch.Size([128, 2, 2])\n",
      "torch.Size([128, 2, 2])\n",
      "torch.Size([128, 2, 2])\n",
      "torch.Size([128, 2, 2])\n",
      "torch.Size([128, 2, 2])\n"
     ]
    },
    {
     "name": "stderr",
     "output_type": "stream",
     "text": [
      "\r",
      " 19%|███████████████                                                                  | 42/225 [00:03<00:16, 10.97it/s]"
     ]
    },
    {
     "name": "stdout",
     "output_type": "stream",
     "text": [
      "torch.Size([128, 2, 2])\n",
      "torch.Size([128, 2, 2])\n",
      "torch.Size([128, 2, 2])\n",
      "torch.Size([128, 2, 2])\n",
      "torch.Size([128, 2, 2])\n"
     ]
    },
    {
     "name": "stderr",
     "output_type": "stream",
     "text": [
      "\r",
      " 20%|███████████████▊                                                                 | 44/225 [00:04<00:16, 10.97it/s]"
     ]
    },
    {
     "name": "stdout",
     "output_type": "stream",
     "text": [
      "torch.Size([128, 2, 2])\n",
      "torch.Size([128, 2, 2])\n",
      "torch.Size([128, 2, 2])\n",
      "torch.Size([128, 2, 2])\n",
      "torch.Size([128, 2, 2])\n"
     ]
    },
    {
     "name": "stderr",
     "output_type": "stream",
     "text": [
      " 21%|█████████████████▎                                                               | 48/225 [00:04<00:16, 11.05it/s]"
     ]
    },
    {
     "name": "stdout",
     "output_type": "stream",
     "text": [
      "torch.Size([128, 2, 2])\n",
      "torch.Size([128, 2, 2])\n",
      "torch.Size([128, 2, 2])\n",
      "torch.Size([128, 2, 2])\n",
      "torch.Size([128, 2, 2])\n"
     ]
    },
    {
     "name": "stderr",
     "output_type": "stream",
     "text": [
      "\r",
      " 22%|██████████████████                                                               | 50/225 [00:04<00:15, 10.99it/s]"
     ]
    },
    {
     "name": "stdout",
     "output_type": "stream",
     "text": [
      "torch.Size([128, 2, 2])\n",
      "torch.Size([128, 2, 2])\n",
      "torch.Size([128, 2, 2])\n",
      "torch.Size([128, 2, 2])\n",
      "torch.Size([128, 2, 2])"
     ]
    },
    {
     "name": "stderr",
     "output_type": "stream",
     "text": [
      "\r",
      " 23%|██████████████████▋                                                              | 52/225 [00:04<00:15, 10.94it/s]"
     ]
    },
    {
     "name": "stdout",
     "output_type": "stream",
     "text": [
      "\n",
      "torch.Size([128, 2, 2])\n",
      "torch.Size([128, 2, 2])\n",
      "torch.Size([128, 2, 2])\n",
      "torch.Size([128, 2, 2])"
     ]
    },
    {
     "name": "stderr",
     "output_type": "stream",
     "text": [
      "\r",
      " 24%|███████████████████▍                                                             | 54/225 [00:04<00:15, 10.96it/s]"
     ]
    },
    {
     "name": "stdout",
     "output_type": "stream",
     "text": [
      "\n",
      "torch.Size([128, 2, 2])\n",
      "torch.Size([128, 2, 2])\n",
      "torch.Size([128, 2, 2])\n",
      "torch.Size([128, 2, 2])"
     ]
    },
    {
     "name": "stderr",
     "output_type": "stream",
     "text": [
      "\r",
      " 25%|████████████████████▏                                                            | 56/225 [00:05<00:15, 10.96it/s]"
     ]
    },
    {
     "name": "stdout",
     "output_type": "stream",
     "text": [
      "\n",
      "torch.Size([128, 2, 2])\n",
      "torch.Size([128, 2, 2])\n",
      "torch.Size([128, 2, 2])\n",
      "torch.Size([128, 2, 2])\n"
     ]
    },
    {
     "name": "stderr",
     "output_type": "stream",
     "text": [
      "\r",
      " 26%|████████████████████▉                                                            | 58/225 [00:05<00:15, 10.79it/s]"
     ]
    },
    {
     "name": "stdout",
     "output_type": "stream",
     "text": [
      "torch.Size([128, 2, 2])\n",
      "torch.Size([128, 2, 2])\n",
      "torch.Size([128, 2, 2])\n",
      "torch.Size([128, 2, 2])\n",
      "torch.Size([128, 2, 2])"
     ]
    },
    {
     "name": "stderr",
     "output_type": "stream",
     "text": [
      "\r",
      " 27%|█████████████████████▌                                                           | 60/225 [00:05<00:15, 10.85it/s]"
     ]
    },
    {
     "name": "stdout",
     "output_type": "stream",
     "text": [
      "\n",
      "torch.Size([128, 2, 2])\n",
      "torch.Size([128, 2, 2])\n",
      "torch.Size([128, 2, 2])\n",
      "torch.Size([128, 2, 2])"
     ]
    },
    {
     "name": "stderr",
     "output_type": "stream",
     "text": [
      "\r",
      " 28%|██████████████████████▎                                                          | 62/225 [00:05<00:15, 10.86it/s]"
     ]
    },
    {
     "name": "stdout",
     "output_type": "stream",
     "text": [
      "\n",
      "torch.Size([128, 2, 2])\n",
      "torch.Size([128, 2, 2])\n",
      "torch.Size([128, 2, 2])\n",
      "torch.Size([128, 2, 2])\n"
     ]
    },
    {
     "name": "stderr",
     "output_type": "stream",
     "text": [
      "\r",
      " 28%|███████████████████████                                                          | 64/225 [00:05<00:14, 10.85it/s]"
     ]
    },
    {
     "name": "stdout",
     "output_type": "stream",
     "text": [
      "torch.Size([128, 2, 2])\n",
      "torch.Size([128, 2, 2])\n",
      "torch.Size([128, 2, 2])\n",
      "torch.Size([128, 2, 2])\n",
      "torch.Size([128, 2, 2])"
     ]
    },
    {
     "name": "stderr",
     "output_type": "stream",
     "text": [
      "\r",
      " 29%|███████████████████████▊                                                         | 66/225 [00:06<00:15, 10.58it/s]"
     ]
    },
    {
     "name": "stdout",
     "output_type": "stream",
     "text": [
      "\n",
      "torch.Size([128, 2, 2])\n",
      "torch.Size([128, 2, 2])\n",
      "torch.Size([128, 2, 2])\n",
      "torch.Size([128, 2, 2])"
     ]
    },
    {
     "name": "stderr",
     "output_type": "stream",
     "text": [
      "\r",
      " 30%|████████████████████████▍                                                        | 68/225 [00:06<00:14, 10.69it/s]"
     ]
    },
    {
     "name": "stdout",
     "output_type": "stream",
     "text": [
      "\n",
      "torch.Size([128, 2, 2])\n",
      "torch.Size([128, 2, 2])\n",
      "torch.Size([128, 2, 2])\n",
      "torch.Size([128, 2, 2])\n"
     ]
    },
    {
     "name": "stderr",
     "output_type": "stream",
     "text": [
      " 32%|█████████████████████████▉                                                       | 72/225 [00:06<00:14, 10.90it/s]"
     ]
    },
    {
     "name": "stdout",
     "output_type": "stream",
     "text": [
      "torch.Size([128, 2, 2])\n",
      "torch.Size([128, 2, 2])\n",
      "torch.Size([128, 2, 2])\n",
      "torch.Size([128, 2, 2])\n",
      "torch.Size([128, 2, 2])\n"
     ]
    },
    {
     "name": "stderr",
     "output_type": "stream",
     "text": [
      "\r",
      " 33%|██████████████████████████▋                                                      | 74/225 [00:06<00:13, 10.81it/s]"
     ]
    },
    {
     "name": "stdout",
     "output_type": "stream",
     "text": [
      "torch.Size([128, 2, 2])\n",
      "torch.Size([128, 2, 2])\n",
      "torch.Size([128, 2, 2])\n",
      "torch.Size([128, 2, 2])\n",
      "torch.Size([128, 2, 2])"
     ]
    },
    {
     "name": "stderr",
     "output_type": "stream",
     "text": [
      "\r",
      " 34%|███████████████████████████▎                                                     | 76/225 [00:07<00:13, 10.80it/s]"
     ]
    },
    {
     "name": "stdout",
     "output_type": "stream",
     "text": [
      "\n",
      "torch.Size([128, 2, 2])\n",
      "torch.Size([128, 2, 2])\n",
      "torch.Size([128, 2, 2])\n",
      "torch.Size([128, 2, 2])\n"
     ]
    },
    {
     "name": "stderr",
     "output_type": "stream",
     "text": [
      "\r",
      " 35%|████████████████████████████                                                     | 78/225 [00:07<00:13, 10.88it/s]"
     ]
    },
    {
     "name": "stdout",
     "output_type": "stream",
     "text": [
      "torch.Size([128, 2, 2])\n",
      "torch.Size([128, 2, 2])\n",
      "torch.Size([128, 2, 2])\n",
      "torch.Size([128, 2, 2])\n",
      "torch.Size([128, 2, 2])\n"
     ]
    },
    {
     "name": "stderr",
     "output_type": "stream",
     "text": [
      "\r",
      " 36%|████████████████████████████▊                                                    | 80/225 [00:07<00:13, 10.92it/s]"
     ]
    },
    {
     "name": "stdout",
     "output_type": "stream",
     "text": [
      "torch.Size([128, 2, 2])\n",
      "torch.Size([128, 2, 2])\n",
      "torch.Size([128, 2, 2])\n",
      "torch.Size([128, 2, 2])\n",
      "torch.Size([128, 2, 2])"
     ]
    },
    {
     "name": "stderr",
     "output_type": "stream",
     "text": [
      "\r",
      " 36%|█████████████████████████████▌                                                   | 82/225 [00:07<00:13, 10.88it/s]"
     ]
    },
    {
     "name": "stdout",
     "output_type": "stream",
     "text": [
      "\n",
      "torch.Size([128, 2, 2])\n",
      "torch.Size([128, 2, 2])\n",
      "torch.Size([128, 2, 2])\n",
      "torch.Size([128, 2, 2])"
     ]
    },
    {
     "name": "stderr",
     "output_type": "stream",
     "text": [
      "\r",
      " 37%|██████████████████████████████▏                                                  | 84/225 [00:07<00:13, 10.74it/s]"
     ]
    },
    {
     "name": "stdout",
     "output_type": "stream",
     "text": [
      "\n",
      "torch.Size([128, 2, 2])\n",
      "torch.Size([128, 2, 2])\n",
      "torch.Size([128, 2, 2])\n",
      "torch.Size([128, 2, 2])\n"
     ]
    },
    {
     "name": "stderr",
     "output_type": "stream",
     "text": [
      " 39%|███████████████████████████████▋                                                 | 88/225 [00:08<00:12, 10.85it/s]"
     ]
    },
    {
     "name": "stdout",
     "output_type": "stream",
     "text": [
      "torch.Size([128, 2, 2])\n",
      "torch.Size([128, 2, 2])\n",
      "torch.Size([128, 2, 2])\n",
      "torch.Size([128, 2, 2])\n",
      "torch.Size([128, 2, 2])"
     ]
    },
    {
     "name": "stderr",
     "output_type": "stream",
     "text": [
      "\r",
      " 40%|████████████████████████████████▍                                                | 90/225 [00:08<00:12, 10.93it/s]"
     ]
    },
    {
     "name": "stdout",
     "output_type": "stream",
     "text": [
      "\n",
      "torch.Size([128, 2, 2])\n",
      "torch.Size([128, 2, 2])\n",
      "torch.Size([128, 2, 2])\n",
      "torch.Size([128, 2, 2])\n"
     ]
    },
    {
     "name": "stderr",
     "output_type": "stream",
     "text": [
      "\r",
      " 41%|█████████████████████████████████                                                | 92/225 [00:08<00:12, 10.98it/s]"
     ]
    },
    {
     "name": "stdout",
     "output_type": "stream",
     "text": [
      "torch.Size([128, 2, 2])\n",
      "torch.Size([128, 2, 2])\n",
      "torch.Size([128, 2, 2])\n",
      "torch.Size([128, 2, 2])\n",
      "torch.Size([128, 2, 2])"
     ]
    },
    {
     "name": "stderr",
     "output_type": "stream",
     "text": [
      "\r",
      " 42%|█████████████████████████████████▊                                               | 94/225 [00:08<00:12, 10.79it/s]"
     ]
    },
    {
     "name": "stdout",
     "output_type": "stream",
     "text": [
      "\n",
      "torch.Size([128, 2, 2])\n",
      "torch.Size([128, 2, 2])\n",
      "torch.Size([128, 2, 2])\n",
      "torch.Size([128, 2, 2])\n"
     ]
    },
    {
     "name": "stderr",
     "output_type": "stream",
     "text": [
      "\r",
      " 43%|██████████████████████████████████▌                                              | 96/225 [00:08<00:11, 10.85it/s]"
     ]
    },
    {
     "name": "stdout",
     "output_type": "stream",
     "text": [
      "torch.Size([128, 2, 2])\n",
      "torch.Size([128, 2, 2])\n",
      "torch.Size([128, 2, 2])\n",
      "torch.Size([128, 2, 2])\n",
      "torch.Size([128, 2, 2])"
     ]
    },
    {
     "name": "stderr",
     "output_type": "stream",
     "text": [
      "\r",
      " 44%|███████████████████████████████████▎                                             | 98/225 [00:09<00:11, 10.73it/s]"
     ]
    },
    {
     "name": "stdout",
     "output_type": "stream",
     "text": [
      "\n",
      "torch.Size([128, 2, 2])\n",
      "torch.Size([128, 2, 2])\n",
      "torch.Size([128, 2, 2])\n",
      "torch.Size([128, 2, 2])"
     ]
    },
    {
     "name": "stderr",
     "output_type": "stream",
     "text": [
      "\r",
      " 44%|███████████████████████████████████▌                                            | 100/225 [00:09<00:11, 10.83it/s]"
     ]
    },
    {
     "name": "stdout",
     "output_type": "stream",
     "text": [
      "\n",
      "torch.Size([128, 2, 2])\n",
      "torch.Size([128, 2, 2])\n",
      "torch.Size([128, 2, 2])\n",
      "torch.Size([128, 2, 2])\n"
     ]
    },
    {
     "name": "stderr",
     "output_type": "stream",
     "text": [
      "\r",
      " 45%|████████████████████████████████████▎                                           | 102/225 [00:09<00:11, 10.93it/s]"
     ]
    },
    {
     "name": "stdout",
     "output_type": "stream",
     "text": [
      "torch.Size([128, 2, 2])\n",
      "torch.Size([128, 2, 2])\n",
      "torch.Size([128, 2, 2])\n",
      "torch.Size([128, 2, 2])\n",
      "torch.Size([128, 2, 2])"
     ]
    },
    {
     "name": "stderr",
     "output_type": "stream",
     "text": [
      "\r",
      " 46%|████████████████████████████████████▉                                           | 104/225 [00:09<00:11, 10.77it/s]"
     ]
    },
    {
     "name": "stdout",
     "output_type": "stream",
     "text": [
      "\n",
      "torch.Size([128, 2, 2])\n",
      "torch.Size([128, 2, 2])\n",
      "torch.Size([128, 2, 2])\n",
      "torch.Size([128, 2, 2])"
     ]
    },
    {
     "name": "stderr",
     "output_type": "stream",
     "text": [
      "\r",
      " 47%|█████████████████████████████████████▋                                          | 106/225 [00:09<00:11, 10.66it/s]"
     ]
    },
    {
     "name": "stdout",
     "output_type": "stream",
     "text": [
      "\n",
      "torch.Size([128, 2, 2])\n",
      "torch.Size([128, 2, 2])\n",
      "torch.Size([128, 2, 2])\n",
      "torch.Size([128, 2, 2])"
     ]
    },
    {
     "name": "stderr",
     "output_type": "stream",
     "text": [
      "\r",
      " 48%|██████████████████████████████████████▍                                         | 108/225 [00:09<00:10, 10.81it/s]"
     ]
    },
    {
     "name": "stdout",
     "output_type": "stream",
     "text": [
      "\n",
      "torch.Size([128, 2, 2])\n",
      "torch.Size([128, 2, 2])\n",
      "torch.Size([128, 2, 2])\n",
      "torch.Size([128, 2, 2])"
     ]
    },
    {
     "name": "stderr",
     "output_type": "stream",
     "text": [
      "\r",
      " 49%|███████████████████████████████████████                                         | 110/225 [00:10<00:10, 10.57it/s]"
     ]
    },
    {
     "name": "stdout",
     "output_type": "stream",
     "text": [
      "\n",
      "torch.Size([128, 2, 2])\n",
      "torch.Size([128, 2, 2])\n",
      "torch.Size([128, 2, 2])\n",
      "torch.Size([128, 2, 2])"
     ]
    },
    {
     "name": "stderr",
     "output_type": "stream",
     "text": [
      "\r",
      " 50%|███████████████████████████████████████▊                                        | 112/225 [00:10<00:10, 10.64it/s]"
     ]
    },
    {
     "name": "stdout",
     "output_type": "stream",
     "text": [
      "\n",
      "torch.Size([128, 2, 2])\n",
      "torch.Size([128, 2, 2])\n",
      "torch.Size([128, 2, 2])\n",
      "torch.Size([128, 2, 2])"
     ]
    },
    {
     "name": "stderr",
     "output_type": "stream",
     "text": [
      "\r",
      " 51%|████████████████████████████████████████▌                                       | 114/225 [00:10<00:10, 10.71it/s]"
     ]
    },
    {
     "name": "stdout",
     "output_type": "stream",
     "text": [
      "\n",
      "torch.Size([128, 2, 2])\n",
      "torch.Size([128, 2, 2])\n",
      "torch.Size([128, 2, 2])\n",
      "torch.Size([128, 2, 2])"
     ]
    },
    {
     "name": "stderr",
     "output_type": "stream",
     "text": [
      "\r",
      " 52%|█████████████████████████████████████████▏                                      | 116/225 [00:10<00:10, 10.74it/s]"
     ]
    },
    {
     "name": "stdout",
     "output_type": "stream",
     "text": [
      "\n",
      "torch.Size([128, 2, 2])\n",
      "torch.Size([128, 2, 2])\n",
      "torch.Size([128, 2, 2])\n",
      "torch.Size([128, 2, 2])"
     ]
    },
    {
     "name": "stderr",
     "output_type": "stream",
     "text": [
      "\r",
      " 52%|█████████████████████████████████████████▉                                      | 118/225 [00:10<00:10, 10.63it/s]"
     ]
    },
    {
     "name": "stdout",
     "output_type": "stream",
     "text": [
      "\n",
      "torch.Size([128, 2, 2])\n",
      "torch.Size([128, 2, 2])\n",
      "torch.Size([128, 2, 2])\n",
      "torch.Size([128, 2, 2])"
     ]
    },
    {
     "name": "stderr",
     "output_type": "stream",
     "text": [
      "\r",
      " 53%|██████████████████████████████████████████▋                                     | 120/225 [00:11<00:09, 10.71it/s]"
     ]
    },
    {
     "name": "stdout",
     "output_type": "stream",
     "text": [
      "\n",
      "torch.Size([128, 2, 2])\n",
      "torch.Size([128, 2, 2])\n",
      "torch.Size([128, 2, 2])\n",
      "torch.Size([128, 2, 2])\n"
     ]
    },
    {
     "name": "stderr",
     "output_type": "stream",
     "text": [
      " 55%|████████████████████████████████████████████                                    | 124/225 [00:11<00:09, 10.89it/s]"
     ]
    },
    {
     "name": "stdout",
     "output_type": "stream",
     "text": [
      "torch.Size([128, 2, 2])\n",
      "torch.Size([128, 2, 2])\n",
      "torch.Size([128, 2, 2])\n",
      "torch.Size([128, 2, 2])\n",
      "torch.Size([128, 2, 2])\n"
     ]
    },
    {
     "name": "stderr",
     "output_type": "stream",
     "text": [
      "\r",
      " 56%|████████████████████████████████████████████▊                                   | 126/225 [00:11<00:09, 10.93it/s]"
     ]
    },
    {
     "name": "stdout",
     "output_type": "stream",
     "text": [
      "torch.Size([128, 2, 2])\n",
      "torch.Size([128, 2, 2])\n",
      "torch.Size([128, 2, 2])\n",
      "torch.Size([128, 2, 2])\n",
      "torch.Size([128, 2, 2])\n"
     ]
    },
    {
     "name": "stderr",
     "output_type": "stream",
     "text": [
      "\r",
      " 57%|█████████████████████████████████████████████▌                                  | 128/225 [00:11<00:09, 10.67it/s]"
     ]
    },
    {
     "name": "stdout",
     "output_type": "stream",
     "text": [
      "torch.Size([128, 2, 2])\n",
      "torch.Size([128, 2, 2])\n",
      "torch.Size([128, 2, 2])\n",
      "torch.Size([128, 2, 2])\n",
      "torch.Size([128, 2, 2])"
     ]
    },
    {
     "name": "stderr",
     "output_type": "stream",
     "text": [
      "\r",
      " 58%|██████████████████████████████████████████████▏                                 | 130/225 [00:12<00:08, 10.80it/s]"
     ]
    },
    {
     "name": "stdout",
     "output_type": "stream",
     "text": [
      "\n",
      "torch.Size([128, 2, 2])\n",
      "torch.Size([128, 2, 2])\n",
      "torch.Size([128, 2, 2])\n",
      "torch.Size([128, 2, 2])"
     ]
    },
    {
     "name": "stderr",
     "output_type": "stream",
     "text": [
      "\r",
      " 59%|██████████████████████████████████████████████▉                                 | 132/225 [00:12<00:08, 10.84it/s]"
     ]
    },
    {
     "name": "stdout",
     "output_type": "stream",
     "text": [
      "\n",
      "torch.Size([128, 2, 2])\n",
      "torch.Size([128, 2, 2])\n",
      "torch.Size([128, 2, 2])\n",
      "torch.Size([128, 2, 2])"
     ]
    },
    {
     "name": "stderr",
     "output_type": "stream",
     "text": [
      "\r",
      " 60%|███████████████████████████████████████████████▋                                | 134/225 [00:12<00:08, 10.92it/s]"
     ]
    },
    {
     "name": "stdout",
     "output_type": "stream",
     "text": [
      "\n",
      "torch.Size([128, 2, 2])\n",
      "torch.Size([128, 2, 2])\n",
      "torch.Size([128, 2, 2])\n",
      "torch.Size([128, 2, 2])\n"
     ]
    },
    {
     "name": "stderr",
     "output_type": "stream",
     "text": [
      "\r",
      " 60%|████████████████████████████████████████████████▎                               | 136/225 [00:12<00:08, 10.97it/s]"
     ]
    },
    {
     "name": "stdout",
     "output_type": "stream",
     "text": [
      "torch.Size([128, 2, 2])\n",
      "torch.Size([128, 2, 2])\n",
      "torch.Size([128, 2, 2])\n",
      "torch.Size([128, 2, 2])\n",
      "torch.Size([128, 2, 2])\n"
     ]
    },
    {
     "name": "stderr",
     "output_type": "stream",
     "text": [
      " 62%|█████████████████████████████████████████████████▊                              | 140/225 [00:12<00:07, 11.04it/s]"
     ]
    },
    {
     "name": "stdout",
     "output_type": "stream",
     "text": [
      "torch.Size([128, 2, 2])\n",
      "torch.Size([128, 2, 2])\n",
      "torch.Size([128, 2, 2])\n",
      "torch.Size([128, 2, 2])\n",
      "torch.Size([128, 2, 2])\n"
     ]
    },
    {
     "name": "stderr",
     "output_type": "stream",
     "text": [
      "\r",
      " 63%|██████████████████████████████████████████████████▍                             | 142/225 [00:13<00:07, 10.89it/s]"
     ]
    },
    {
     "name": "stdout",
     "output_type": "stream",
     "text": [
      "torch.Size([128, 2, 2])\n",
      "torch.Size([128, 2, 2])\n",
      "torch.Size([128, 2, 2])\n",
      "torch.Size([128, 2, 2])\n",
      "torch.Size([128, 2, 2])\n"
     ]
    },
    {
     "name": "stderr",
     "output_type": "stream",
     "text": [
      "\r",
      " 64%|███████████████████████████████████████████████████▏                            | 144/225 [00:13<00:07, 10.96it/s]"
     ]
    },
    {
     "name": "stdout",
     "output_type": "stream",
     "text": [
      "torch.Size([128, 2, 2])\n",
      "torch.Size([128, 2, 2])\n",
      "torch.Size([128, 2, 2])\n",
      "torch.Size([128, 2, 2])\n",
      "torch.Size([128, 2, 2])\n"
     ]
    },
    {
     "name": "stderr",
     "output_type": "stream",
     "text": [
      "\r",
      " 65%|███████████████████████████████████████████████████▉                            | 146/225 [00:13<00:07, 10.98it/s]"
     ]
    },
    {
     "name": "stdout",
     "output_type": "stream",
     "text": [
      "torch.Size([128, 2, 2])\n",
      "torch.Size([128, 2, 2])\n",
      "torch.Size([128, 2, 2])\n",
      "torch.Size([128, 2, 2])\n",
      "torch.Size([128, 2, 2])"
     ]
    },
    {
     "name": "stderr",
     "output_type": "stream",
     "text": [
      "\r",
      " 66%|████████████████████████████████████████████████████▌                           | 148/225 [00:13<00:07, 10.81it/s]"
     ]
    },
    {
     "name": "stdout",
     "output_type": "stream",
     "text": [
      "\n",
      "torch.Size([128, 2, 2])\n",
      "torch.Size([128, 2, 2])\n",
      "torch.Size([128, 2, 2])\n",
      "torch.Size([128, 2, 2])"
     ]
    },
    {
     "name": "stderr",
     "output_type": "stream",
     "text": [
      "\r",
      " 67%|█████████████████████████████████████████████████████▎                          | 150/225 [00:13<00:06, 10.92it/s]"
     ]
    },
    {
     "name": "stdout",
     "output_type": "stream",
     "text": [
      "\n",
      "torch.Size([128, 2, 2])\n",
      "torch.Size([128, 2, 2])\n",
      "torch.Size([128, 2, 2])\n",
      "torch.Size([128, 2, 2])\n"
     ]
    },
    {
     "name": "stderr",
     "output_type": "stream",
     "text": [
      " 68%|██████████████████████████████████████████████████████▊                         | 154/225 [00:14<00:06, 10.93it/s]"
     ]
    },
    {
     "name": "stdout",
     "output_type": "stream",
     "text": [
      "torch.Size([128, 2, 2])\n",
      "torch.Size([128, 2, 2])\n",
      "torch.Size([128, 2, 2])\n",
      "torch.Size([128, 2, 2])\n",
      "torch.Size([128, 2, 2])\n"
     ]
    },
    {
     "name": "stderr",
     "output_type": "stream",
     "text": [
      "\r",
      " 69%|███████████████████████████████████████████████████████▍                        | 156/225 [00:14<00:06, 10.98it/s]"
     ]
    },
    {
     "name": "stdout",
     "output_type": "stream",
     "text": [
      "torch.Size([128, 2, 2])\n",
      "torch.Size([128, 2, 2])\n",
      "torch.Size([128, 2, 2])\n",
      "torch.Size([128, 2, 2])\n",
      "torch.Size([128, 2, 2])\n"
     ]
    },
    {
     "name": "stderr",
     "output_type": "stream",
     "text": [
      "\r",
      " 70%|████████████████████████████████████████████████████████▏                       | 158/225 [00:14<00:06, 11.02it/s]"
     ]
    },
    {
     "name": "stdout",
     "output_type": "stream",
     "text": [
      "torch.Size([128, 2, 2])\n",
      "torch.Size([128, 2, 2])\n",
      "torch.Size([128, 2, 2])\n",
      "torch.Size([128, 2, 2])\n",
      "torch.Size([128, 2, 2])\n"
     ]
    },
    {
     "name": "stderr",
     "output_type": "stream",
     "text": [
      "\r",
      " 71%|████████████████████████████████████████████████████████▉                       | 160/225 [00:14<00:05, 11.03it/s]"
     ]
    },
    {
     "name": "stdout",
     "output_type": "stream",
     "text": [
      "torch.Size([128, 2, 2])\n",
      "torch.Size([128, 2, 2])\n",
      "torch.Size([128, 2, 2])\n",
      "torch.Size([128, 2, 2])\n",
      "torch.Size([128, 2, 2])\n"
     ]
    },
    {
     "name": "stderr",
     "output_type": "stream",
     "text": [
      " 73%|██████████████████████████████████████████████████████████▎                     | 164/225 [00:15<00:05, 11.07it/s]"
     ]
    },
    {
     "name": "stdout",
     "output_type": "stream",
     "text": [
      "torch.Size([128, 2, 2])\n",
      "torch.Size([128, 2, 2])\n",
      "torch.Size([128, 2, 2])\n",
      "torch.Size([128, 2, 2])\n",
      "torch.Size([128, 2, 2])\n"
     ]
    },
    {
     "name": "stderr",
     "output_type": "stream",
     "text": [
      "\r",
      " 74%|███████████████████████████████████████████████████████████                     | 166/225 [00:15<00:05, 11.01it/s]"
     ]
    },
    {
     "name": "stdout",
     "output_type": "stream",
     "text": [
      "torch.Size([128, 2, 2])\n",
      "torch.Size([128, 2, 2])\n",
      "torch.Size([128, 2, 2])\n",
      "torch.Size([128, 2, 2])\n",
      "torch.Size([128, 2, 2])"
     ]
    },
    {
     "name": "stderr",
     "output_type": "stream",
     "text": [
      "\r",
      " 75%|███████████████████████████████████████████████████████████▋                    | 168/225 [00:15<00:05, 10.80it/s]"
     ]
    },
    {
     "name": "stdout",
     "output_type": "stream",
     "text": [
      "\n",
      "torch.Size([128, 2, 2])\n",
      "torch.Size([128, 2, 2])\n",
      "torch.Size([128, 2, 2])\n",
      "torch.Size([128, 2, 2])"
     ]
    },
    {
     "name": "stderr",
     "output_type": "stream",
     "text": [
      "\r",
      " 76%|████████████████████████████████████████████████████████████▍                   | 170/225 [00:15<00:05, 10.76it/s]"
     ]
    },
    {
     "name": "stdout",
     "output_type": "stream",
     "text": [
      "\n",
      "torch.Size([128, 2, 2])\n",
      "torch.Size([128, 2, 2])\n",
      "torch.Size([128, 2, 2])\n",
      "torch.Size([128, 2, 2])"
     ]
    },
    {
     "name": "stderr",
     "output_type": "stream",
     "text": [
      "\r",
      " 76%|█████████████████████████████████████████████████████████████▏                  | 172/225 [00:15<00:04, 10.81it/s]"
     ]
    },
    {
     "name": "stdout",
     "output_type": "stream",
     "text": [
      "\n",
      "torch.Size([128, 2, 2])\n",
      "torch.Size([128, 2, 2])\n",
      "torch.Size([128, 2, 2])\n",
      "torch.Size([128, 2, 2])\n"
     ]
    },
    {
     "name": "stderr",
     "output_type": "stream",
     "text": [
      "\r",
      " 77%|█████████████████████████████████████████████████████████████▊                  | 174/225 [00:16<00:04, 10.82it/s]"
     ]
    },
    {
     "name": "stdout",
     "output_type": "stream",
     "text": [
      "torch.Size([128, 2, 2])\n",
      "torch.Size([128, 2, 2])\n",
      "torch.Size([128, 2, 2])\n",
      "torch.Size([128, 2, 2])\n",
      "torch.Size([128, 2, 2])"
     ]
    },
    {
     "name": "stderr",
     "output_type": "stream",
     "text": [
      "\r",
      " 78%|██████████████████████████████████████████████████████████████▌                 | 176/225 [00:16<00:04, 10.52it/s]"
     ]
    },
    {
     "name": "stdout",
     "output_type": "stream",
     "text": [
      "\n",
      "torch.Size([128, 2, 2])\n",
      "torch.Size([128, 2, 2])\n",
      "torch.Size([128, 2, 2])\n",
      "torch.Size([128, 2, 2])"
     ]
    },
    {
     "name": "stderr",
     "output_type": "stream",
     "text": [
      "\r",
      " 79%|███████████████████████████████████████████████████████████████▎                | 178/225 [00:16<00:04, 10.66it/s]"
     ]
    },
    {
     "name": "stdout",
     "output_type": "stream",
     "text": [
      "\n",
      "torch.Size([128, 2, 2])\n",
      "torch.Size([128, 2, 2])\n",
      "torch.Size([128, 2, 2])\n",
      "torch.Size([128, 2, 2])"
     ]
    },
    {
     "name": "stderr",
     "output_type": "stream",
     "text": [
      "\r",
      " 80%|████████████████████████████████████████████████████████████████                | 180/225 [00:16<00:04, 10.80it/s]"
     ]
    },
    {
     "name": "stdout",
     "output_type": "stream",
     "text": [
      "\n",
      "torch.Size([128, 2, 2])\n",
      "torch.Size([128, 2, 2])\n",
      "torch.Size([128, 2, 2])\n",
      "torch.Size([128, 2, 2])"
     ]
    },
    {
     "name": "stderr",
     "output_type": "stream",
     "text": [
      "\r",
      " 81%|████████████████████████████████████████████████████████████████▋               | 182/225 [00:16<00:04, 10.63it/s]"
     ]
    },
    {
     "name": "stdout",
     "output_type": "stream",
     "text": [
      "\n",
      "torch.Size([128, 2, 2])\n",
      "torch.Size([128, 2, 2])\n",
      "torch.Size([128, 2, 2])\n"
     ]
    },
    {
     "name": "stderr",
     "output_type": "stream",
     "text": [
      "\r",
      " 82%|█████████████████████████████████████████████████████████████████▍              | 184/225 [00:16<00:03, 10.48it/s]"
     ]
    },
    {
     "name": "stdout",
     "output_type": "stream",
     "text": [
      "torch.Size([128, 2, 2])\n",
      "torch.Size([128, 2, 2])\n",
      "torch.Size([128, 2, 2])\n",
      "torch.Size([128, 2, 2])\n",
      "torch.Size([128, 2, 2])"
     ]
    },
    {
     "name": "stderr",
     "output_type": "stream",
     "text": [
      "\r",
      " 83%|██████████████████████████████████████████████████████████████████▏             | 186/225 [00:17<00:03, 10.61it/s]"
     ]
    },
    {
     "name": "stdout",
     "output_type": "stream",
     "text": [
      "\n",
      "torch.Size([128, 2, 2])\n",
      "torch.Size([128, 2, 2])\n",
      "torch.Size([128, 2, 2])\n",
      "torch.Size([128, 2, 2])\n"
     ]
    },
    {
     "name": "stderr",
     "output_type": "stream",
     "text": [
      "\r",
      " 84%|██████████████████████████████████████████████████████████████████▊             | 188/225 [00:17<00:03, 10.70it/s]"
     ]
    },
    {
     "name": "stdout",
     "output_type": "stream",
     "text": [
      "torch.Size([128, 2, 2])\n",
      "torch.Size([128, 2, 2])\n",
      "torch.Size([128, 2, 2])\n",
      "torch.Size([128, 2, 2])\n",
      "torch.Size([128, 2, 2])\n"
     ]
    },
    {
     "name": "stderr",
     "output_type": "stream",
     "text": [
      " 85%|████████████████████████████████████████████████████████████████████▎           | 192/225 [00:17<00:03, 10.87it/s]"
     ]
    },
    {
     "name": "stdout",
     "output_type": "stream",
     "text": [
      "torch.Size([128, 2, 2])\n",
      "torch.Size([128, 2, 2])\n",
      "torch.Size([128, 2, 2])\n",
      "torch.Size([128, 2, 2])\n",
      "torch.Size([128, 2, 2])"
     ]
    },
    {
     "name": "stderr",
     "output_type": "stream",
     "text": [
      "\r",
      " 86%|████████████████████████████████████████████████████████████████████▉           | 194/225 [00:17<00:02, 10.93it/s]"
     ]
    },
    {
     "name": "stdout",
     "output_type": "stream",
     "text": [
      "\n",
      "torch.Size([128, 2, 2])\n",
      "torch.Size([128, 2, 2])\n",
      "torch.Size([128, 2, 2])\n",
      "torch.Size([128, 2, 2])\n"
     ]
    },
    {
     "name": "stderr",
     "output_type": "stream",
     "text": [
      "\r",
      " 87%|█████████████████████████████████████████████████████████████████████▋          | 196/225 [00:18<00:02, 10.94it/s]"
     ]
    },
    {
     "name": "stdout",
     "output_type": "stream",
     "text": [
      "torch.Size([128, 2, 2])\n",
      "torch.Size([128, 2, 2])\n",
      "torch.Size([128, 2, 2])\n",
      "torch.Size([128, 2, 2])\n",
      "torch.Size([128, 2, 2])"
     ]
    },
    {
     "name": "stderr",
     "output_type": "stream",
     "text": [
      "\r",
      " 88%|██████████████████████████████████████████████████████████████████████▍         | 198/225 [00:18<00:02, 10.78it/s]"
     ]
    },
    {
     "name": "stdout",
     "output_type": "stream",
     "text": [
      "\n",
      "torch.Size([128, 2, 2])\n",
      "torch.Size([128, 2, 2])\n",
      "torch.Size([128, 2, 2])\n",
      "torch.Size([128, 2, 2])\n"
     ]
    },
    {
     "name": "stderr",
     "output_type": "stream",
     "text": [
      "\r",
      " 89%|███████████████████████████████████████████████████████████████████████         | 200/225 [00:18<00:02, 10.87it/s]"
     ]
    },
    {
     "name": "stdout",
     "output_type": "stream",
     "text": [
      "torch.Size([128, 2, 2])\n",
      "torch.Size([128, 2, 2])\n",
      "torch.Size([128, 2, 2])\n",
      "torch.Size([128, 2, 2])\n",
      "torch.Size([128, 2, 2])\n"
     ]
    },
    {
     "name": "stderr",
     "output_type": "stream",
     "text": [
      "\r",
      " 90%|███████████████████████████████████████████████████████████████████████▊        | 202/225 [00:18<00:02, 10.91it/s]"
     ]
    },
    {
     "name": "stdout",
     "output_type": "stream",
     "text": [
      "torch.Size([128, 2, 2])\n",
      "torch.Size([128, 2, 2])\n",
      "torch.Size([128, 2, 2])\n",
      "torch.Size([128, 2, 2])\n"
     ]
    },
    {
     "name": "stderr",
     "output_type": "stream",
     "text": [
      "\r",
      " 91%|████████████████████████████████████████████████████████████████████████▌       | 204/225 [00:18<00:01, 10.97it/s]"
     ]
    },
    {
     "name": "stdout",
     "output_type": "stream",
     "text": [
      "torch.Size([128, 2, 2])\n",
      "torch.Size([128, 2, 2])\n",
      "torch.Size([128, 2, 2])\n",
      "torch.Size([128, 2, 2])\n",
      "torch.Size([128, 2, 2])"
     ]
    },
    {
     "name": "stderr",
     "output_type": "stream",
     "text": [
      "\r",
      " 92%|█████████████████████████████████████████████████████████████████████████▏      | 206/225 [00:18<00:01, 10.97it/s]"
     ]
    },
    {
     "name": "stdout",
     "output_type": "stream",
     "text": [
      "\n",
      "torch.Size([128, 2, 2])\n",
      "torch.Size([128, 2, 2])\n",
      "torch.Size([128, 2, 2])\n",
      "torch.Size([128, 2, 2])\n"
     ]
    },
    {
     "name": "stderr",
     "output_type": "stream",
     "text": [
      " 93%|██████████████████████████████████████████████████████████████████████████▋     | 210/225 [00:19<00:01, 11.00it/s]"
     ]
    },
    {
     "name": "stdout",
     "output_type": "stream",
     "text": [
      "torch.Size([128, 2, 2])\n",
      "torch.Size([128, 2, 2])\n",
      "torch.Size([128, 2, 2])\n",
      "torch.Size([128, 2, 2])\n",
      "torch.Size([128, 2, 2])\n",
      "torch.Size([128, 2, 2])\n",
      "torch.Size([128, 2, 2])\n",
      "torch.Size([128, 2, 2])\n"
     ]
    },
    {
     "name": "stderr",
     "output_type": "stream",
     "text": [
      " 95%|████████████████████████████████████████████████████████████████████████████    | 214/225 [00:19<00:01, 10.87it/s]"
     ]
    },
    {
     "name": "stdout",
     "output_type": "stream",
     "text": [
      "torch.Size([128, 2, 2])\n",
      "torch.Size([128, 2, 2])\n",
      "torch.Size([128, 2, 2])\n",
      "torch.Size([128, 2, 2])\n",
      "torch.Size([128, 2, 2])"
     ]
    },
    {
     "name": "stderr",
     "output_type": "stream",
     "text": [
      "\r",
      " 96%|████████████████████████████████████████████████████████████████████████████▊   | 216/225 [00:19<00:00, 10.96it/s]"
     ]
    },
    {
     "name": "stdout",
     "output_type": "stream",
     "text": [
      "\n",
      "torch.Size([128, 2, 2])\n",
      "torch.Size([128, 2, 2])\n",
      "torch.Size([128, 2, 2])\n",
      "torch.Size([128, 2, 2])\n"
     ]
    },
    {
     "name": "stderr",
     "output_type": "stream",
     "text": [
      "\r",
      " 97%|█████████████████████████████████████████████████████████████████████████████▌  | 218/225 [00:20<00:00, 10.74it/s]"
     ]
    },
    {
     "name": "stdout",
     "output_type": "stream",
     "text": [
      "torch.Size([128, 2, 2])\n",
      "torch.Size([128, 2, 2])\n",
      "torch.Size([128, 2, 2])\n",
      "torch.Size([128, 2, 2])\n"
     ]
    },
    {
     "name": "stderr",
     "output_type": "stream",
     "text": [
      "\r",
      " 98%|██████████████████████████████████████████████████████████████████████████████▏ | 220/225 [00:20<00:00, 10.64it/s]"
     ]
    },
    {
     "name": "stdout",
     "output_type": "stream",
     "text": [
      "torch.Size([128, 2, 2])\n",
      "torch.Size([128, 2, 2])\n",
      "torch.Size([128, 2, 2])\n",
      "torch.Size([128, 2, 2])\n",
      "torch.Size([128, 2, 2])\n"
     ]
    },
    {
     "name": "stderr",
     "output_type": "stream",
     "text": [
      "\r",
      " 99%|██████████████████████████████████████████████████████████████████████████████▉ | 222/225 [00:20<00:00, 10.78it/s]"
     ]
    },
    {
     "name": "stdout",
     "output_type": "stream",
     "text": [
      "torch.Size([128, 2, 2])\n",
      "torch.Size([128, 2, 2])\n",
      "torch.Size([128, 2, 2])\n",
      "torch.Size([128, 2, 2])\n",
      "torch.Size([128, 2, 2])\n"
     ]
    },
    {
     "name": "stderr",
     "output_type": "stream",
     "text": [
      "100%|████████████████████████████████████████████████████████████████████████████████| 225/225 [00:20<00:00, 10.85it/s]\n",
      "  0%|                                                                                          | 0/225 [00:00<?, ?it/s]"
     ]
    },
    {
     "name": "stdout",
     "output_type": "stream",
     "text": [
      "torch.Size([128, 2, 2])\n",
      "torch.Size([128, 2, 2])\n",
      "torch.Size([128, 2, 2])\n",
      "torch.Size([128, 2, 2])\n",
      "torch.Size([128, 2, 2])\n",
      "torch.Size([128, 2, 2])"
     ]
    },
    {
     "name": "stderr",
     "output_type": "stream",
     "text": [
      "\r",
      "  1%|▋                                                                                 | 2/225 [00:00<00:19, 11.15it/s]"
     ]
    },
    {
     "name": "stdout",
     "output_type": "stream",
     "text": [
      "\n",
      "torch.Size([128, 2, 2])\n",
      "torch.Size([128, 2, 2])\n",
      "torch.Size([128, 2, 2])\n",
      "torch.Size([128, 2, 2])\n"
     ]
    },
    {
     "name": "stderr",
     "output_type": "stream",
     "text": [
      "\r",
      "  2%|█▍                                                                                | 4/225 [00:00<00:19, 11.11it/s]"
     ]
    },
    {
     "name": "stdout",
     "output_type": "stream",
     "text": [
      "torch.Size([128, 2, 2])\n",
      "torch.Size([128, 2, 2])\n",
      "torch.Size([128, 2, 2])\n",
      "torch.Size([128, 2, 2])\n",
      "torch.Size([128, 2, 2])\n"
     ]
    },
    {
     "name": "stderr",
     "output_type": "stream",
     "text": [
      "  4%|██▉                                                                               | 8/225 [00:00<00:19, 11.11it/s]"
     ]
    },
    {
     "name": "stdout",
     "output_type": "stream",
     "text": [
      "torch.Size([128, 2, 2])\n",
      "torch.Size([128, 2, 2])\n",
      "torch.Size([128, 2, 2])\n",
      "torch.Size([128, 2, 2])\n",
      "torch.Size([128, 2, 2])\n"
     ]
    },
    {
     "name": "stderr",
     "output_type": "stream",
     "text": [
      "\r",
      "  4%|███▌                                                                             | 10/225 [00:00<00:19, 11.11it/s]"
     ]
    },
    {
     "name": "stdout",
     "output_type": "stream",
     "text": [
      "torch.Size([128, 2, 2])\n",
      "torch.Size([128, 2, 2])\n",
      "torch.Size([128, 2, 2])\n",
      "torch.Size([128, 2, 2])\n",
      "torch.Size([128, 2, 2])"
     ]
    },
    {
     "name": "stderr",
     "output_type": "stream",
     "text": [
      "\r",
      "  5%|███▉                                                                             | 11/225 [00:01<00:20, 10.28it/s]"
     ]
    },
    {
     "name": "stdout",
     "output_type": "stream",
     "text": [
      "\n",
      "torch.Size([128, 2, 2])\n",
      "torch.Size([128, 2, 2])\n",
      "torch.Size([128, 2, 2])\n",
      "torch.Size([128, 2, 2])"
     ]
    },
    {
     "name": "stderr",
     "output_type": "stream",
     "text": [
      "\r",
      "  6%|████▋                                                                            | 13/225 [00:01<00:20, 10.52it/s]"
     ]
    },
    {
     "name": "stdout",
     "output_type": "stream",
     "text": [
      "\n",
      "torch.Size([128, 2, 2])\n",
      "torch.Size([128, 2, 2])\n",
      "torch.Size([128, 2, 2])\n",
      "torch.Size([128, 2, 2])"
     ]
    },
    {
     "name": "stderr",
     "output_type": "stream",
     "text": [
      "\r",
      "  7%|█████▍                                                                           | 15/225 [00:01<00:19, 10.66it/s]"
     ]
    },
    {
     "name": "stdout",
     "output_type": "stream",
     "text": [
      "\n",
      "torch.Size([128, 2, 2])\n",
      "torch.Size([128, 2, 2])\n",
      "torch.Size([128, 2, 2])\n",
      "torch.Size([128, 2, 2])\n"
     ]
    },
    {
     "name": "stderr",
     "output_type": "stream",
     "text": [
      "  8%|██████▊                                                                          | 19/225 [00:01<00:18, 10.86it/s]"
     ]
    },
    {
     "name": "stdout",
     "output_type": "stream",
     "text": [
      "torch.Size([128, 2, 2])\n",
      "torch.Size([128, 2, 2])\n",
      "torch.Size([128, 2, 2])\n",
      "torch.Size([128, 2, 2])\n",
      "torch.Size([128, 2, 2])\n"
     ]
    },
    {
     "name": "stderr",
     "output_type": "stream",
     "text": [
      "\r",
      "  9%|███████▌                                                                         | 21/225 [00:01<00:18, 10.92it/s]"
     ]
    },
    {
     "name": "stdout",
     "output_type": "stream",
     "text": [
      "torch.Size([128, 2, 2])\n",
      "torch.Size([128, 2, 2])\n",
      "torch.Size([128, 2, 2])\n",
      "torch.Size([128, 2, 2])\n",
      "torch.Size([128, 2, 2])"
     ]
    },
    {
     "name": "stderr",
     "output_type": "stream",
     "text": [
      "\r",
      " 10%|████████▎                                                                        | 23/225 [00:02<00:18, 10.86it/s]"
     ]
    },
    {
     "name": "stdout",
     "output_type": "stream",
     "text": [
      "\n",
      "torch.Size([128, 2, 2])\n",
      "torch.Size([128, 2, 2])\n",
      "torch.Size([128, 2, 2])\n",
      "torch.Size([128, 2, 2])\n"
     ]
    },
    {
     "name": "stderr",
     "output_type": "stream",
     "text": [
      "\r",
      " 11%|█████████                                                                        | 25/225 [00:02<00:18, 10.92it/s]"
     ]
    },
    {
     "name": "stdout",
     "output_type": "stream",
     "text": [
      "torch.Size([128, 2, 2])\n",
      "torch.Size([128, 2, 2])\n",
      "torch.Size([128, 2, 2])\n",
      "torch.Size([128, 2, 2])\n",
      "torch.Size([128, 2, 2])\n"
     ]
    },
    {
     "name": "stderr",
     "output_type": "stream",
     "text": [
      "\r",
      " 12%|█████████▋                                                                       | 27/225 [00:02<00:18, 10.96it/s]"
     ]
    },
    {
     "name": "stdout",
     "output_type": "stream",
     "text": [
      "torch.Size([128, 2, 2])\n",
      "torch.Size([128, 2, 2])\n",
      "torch.Size([128, 2, 2])\n",
      "torch.Size([128, 2, 2])\n",
      "torch.Size([128, 2, 2])\n"
     ]
    },
    {
     "name": "stderr",
     "output_type": "stream",
     "text": [
      " 14%|███████████▏                                                                     | 31/225 [00:02<00:17, 11.04it/s]"
     ]
    },
    {
     "name": "stdout",
     "output_type": "stream",
     "text": [
      "torch.Size([128, 2, 2])\n",
      "torch.Size([128, 2, 2])\n",
      "torch.Size([128, 2, 2])\n",
      "torch.Size([128, 2, 2])\n",
      "torch.Size([128, 2, 2])\n"
     ]
    },
    {
     "name": "stderr",
     "output_type": "stream",
     "text": [
      "\r",
      " 15%|███████████▉                                                                     | 33/225 [00:03<00:17, 11.04it/s]"
     ]
    },
    {
     "name": "stdout",
     "output_type": "stream",
     "text": [
      "torch.Size([128, 2, 2])\n",
      "torch.Size([128, 2, 2])\n",
      "torch.Size([128, 2, 2])\n",
      "torch.Size([128, 2, 2])\n",
      "torch.Size([128, 2, 2])\n"
     ]
    },
    {
     "name": "stderr",
     "output_type": "stream",
     "text": [
      "\r",
      " 16%|████████████▌                                                                    | 35/225 [00:03<00:17, 11.06it/s]"
     ]
    },
    {
     "name": "stdout",
     "output_type": "stream",
     "text": [
      "torch.Size([128, 2, 2])\n",
      "torch.Size([128, 2, 2])\n",
      "torch.Size([128, 2, 2])\n",
      "torch.Size([128, 2, 2])\n",
      "torch.Size([128, 2, 2])"
     ]
    },
    {
     "name": "stderr",
     "output_type": "stream",
     "text": [
      "\r",
      " 16%|█████████████▎                                                                   | 37/225 [00:03<00:16, 11.08it/s]"
     ]
    },
    {
     "name": "stdout",
     "output_type": "stream",
     "text": [
      "\n",
      "torch.Size([128, 2, 2])\n",
      "torch.Size([128, 2, 2])\n",
      "torch.Size([128, 2, 2])\n",
      "torch.Size([128, 2, 2])"
     ]
    },
    {
     "name": "stderr",
     "output_type": "stream",
     "text": [
      "\r",
      " 17%|██████████████                                                                   | 39/225 [00:03<00:16, 11.06it/s]"
     ]
    },
    {
     "name": "stdout",
     "output_type": "stream",
     "text": [
      "\n",
      "torch.Size([128, 2, 2])\n",
      "torch.Size([128, 2, 2])\n",
      "torch.Size([128, 2, 2])\n",
      "torch.Size([128, 2, 2])\n"
     ]
    },
    {
     "name": "stderr",
     "output_type": "stream",
     "text": [
      "\r",
      " 18%|██████████████▊                                                                  | 41/225 [00:03<00:16, 11.08it/s]"
     ]
    },
    {
     "name": "stdout",
     "output_type": "stream",
     "text": [
      "torch.Size([128, 2, 2])\n",
      "torch.Size([128, 2, 2])\n",
      "torch.Size([128, 2, 2])\n",
      "torch.Size([128, 2, 2])\n",
      "torch.Size([128, 2, 2])"
     ]
    },
    {
     "name": "stderr",
     "output_type": "stream",
     "text": [
      "\r",
      " 19%|███████████████▍                                                                 | 43/225 [00:03<00:16, 11.09it/s]"
     ]
    },
    {
     "name": "stdout",
     "output_type": "stream",
     "text": [
      "\n",
      "torch.Size([128, 2, 2])\n",
      "torch.Size([128, 2, 2])\n",
      "torch.Size([128, 2, 2])\n",
      "torch.Size([128, 2, 2])\n"
     ]
    },
    {
     "name": "stderr",
     "output_type": "stream",
     "text": [
      " 21%|████████████████▉                                                                | 47/225 [00:04<00:16, 11.11it/s]"
     ]
    },
    {
     "name": "stdout",
     "output_type": "stream",
     "text": [
      "torch.Size([128, 2, 2])\n",
      "torch.Size([128, 2, 2])\n",
      "torch.Size([128, 2, 2])\n",
      "torch.Size([128, 2, 2])\n",
      "torch.Size([128, 2, 2])\n"
     ]
    },
    {
     "name": "stderr",
     "output_type": "stream",
     "text": [
      "\r",
      " 22%|█████████████████▋                                                               | 49/225 [00:04<00:15, 11.08it/s]"
     ]
    },
    {
     "name": "stdout",
     "output_type": "stream",
     "text": [
      "torch.Size([128, 2, 2])\n",
      "torch.Size([128, 2, 2])\n",
      "torch.Size([128, 2, 2])\n",
      "torch.Size([128, 2, 2])\n",
      "torch.Size([128, 2, 2])\n"
     ]
    },
    {
     "name": "stderr",
     "output_type": "stream",
     "text": [
      "\r",
      " 23%|██████████████████▎                                                              | 51/225 [00:04<00:15, 10.88it/s]"
     ]
    },
    {
     "name": "stdout",
     "output_type": "stream",
     "text": [
      "torch.Size([128, 2, 2])\n",
      "torch.Size([128, 2, 2])\n",
      "torch.Size([128, 2, 2])\n",
      "torch.Size([128, 2, 2])\n",
      "torch.Size([128, 2, 2])"
     ]
    },
    {
     "name": "stderr",
     "output_type": "stream",
     "text": [
      "\r",
      " 24%|███████████████████                                                              | 53/225 [00:04<00:15, 10.97it/s]"
     ]
    },
    {
     "name": "stdout",
     "output_type": "stream",
     "text": [
      "\n",
      "torch.Size([128, 2, 2])\n",
      "torch.Size([128, 2, 2])\n",
      "torch.Size([128, 2, 2])\n",
      "torch.Size([128, 2, 2])"
     ]
    },
    {
     "name": "stderr",
     "output_type": "stream",
     "text": [
      "\r",
      " 24%|███████████████████▊                                                             | 55/225 [00:05<00:15, 10.98it/s]"
     ]
    },
    {
     "name": "stdout",
     "output_type": "stream",
     "text": [
      "\n",
      "torch.Size([128, 2, 2])\n",
      "torch.Size([128, 2, 2])\n",
      "torch.Size([128, 2, 2])\n",
      "torch.Size([128, 2, 2])\n"
     ]
    },
    {
     "name": "stderr",
     "output_type": "stream",
     "text": [
      "\r",
      " 25%|████████████████████▌                                                            | 57/225 [00:05<00:15, 11.00it/s]"
     ]
    },
    {
     "name": "stdout",
     "output_type": "stream",
     "text": [
      "torch.Size([128, 2, 2])\n",
      "torch.Size([128, 2, 2])\n",
      "torch.Size([128, 2, 2])\n",
      "torch.Size([128, 2, 2])\n",
      "torch.Size([128, 2, 2])"
     ]
    },
    {
     "name": "stderr",
     "output_type": "stream",
     "text": [
      "\r",
      " 26%|█████████████████████▏                                                           | 59/225 [00:05<00:15, 10.61it/s]"
     ]
    },
    {
     "name": "stdout",
     "output_type": "stream",
     "text": [
      "\n",
      "torch.Size([128, 2, 2])\n",
      "torch.Size([128, 2, 2])\n",
      "torch.Size([128, 2, 2])\n",
      "torch.Size([128, 2, 2])"
     ]
    },
    {
     "name": "stderr",
     "output_type": "stream",
     "text": [
      "\r",
      " 27%|█████████████████████▉                                                           | 61/225 [00:05<00:15, 10.75it/s]"
     ]
    },
    {
     "name": "stdout",
     "output_type": "stream",
     "text": [
      "\n",
      "torch.Size([128, 2, 2])\n",
      "torch.Size([128, 2, 2])\n",
      "torch.Size([128, 2, 2])\n",
      "torch.Size([128, 2, 2])"
     ]
    },
    {
     "name": "stderr",
     "output_type": "stream",
     "text": [
      "\r",
      " 28%|██████████████████████▋                                                          | 63/225 [00:05<00:14, 10.86it/s]"
     ]
    },
    {
     "name": "stdout",
     "output_type": "stream",
     "text": [
      "\n",
      "torch.Size([128, 2, 2])\n",
      "torch.Size([128, 2, 2])\n",
      "torch.Size([128, 2, 2])\n",
      "torch.Size([128, 2, 2])\n"
     ]
    },
    {
     "name": "stderr",
     "output_type": "stream",
     "text": [
      " 30%|████████████████████████                                                         | 67/225 [00:06<00:14, 11.00it/s]"
     ]
    },
    {
     "name": "stdout",
     "output_type": "stream",
     "text": [
      "torch.Size([128, 2, 2])\n",
      "torch.Size([128, 2, 2])\n",
      "torch.Size([128, 2, 2])\n",
      "torch.Size([128, 2, 2])\n",
      "torch.Size([128, 2, 2])\n"
     ]
    },
    {
     "name": "stderr",
     "output_type": "stream",
     "text": [
      "\r",
      " 31%|████████████████████████▊                                                        | 69/225 [00:06<00:14, 11.02it/s]"
     ]
    },
    {
     "name": "stdout",
     "output_type": "stream",
     "text": [
      "torch.Size([128, 2, 2])\n",
      "torch.Size([128, 2, 2])\n",
      "torch.Size([128, 2, 2])\n",
      "torch.Size([128, 2, 2])\n",
      "torch.Size([128, 2, 2])"
     ]
    },
    {
     "name": "stderr",
     "output_type": "stream",
     "text": [
      "\r",
      " 32%|█████████████████████████▌                                                       | 71/225 [00:06<00:13, 11.04it/s]"
     ]
    },
    {
     "name": "stdout",
     "output_type": "stream",
     "text": [
      "\n",
      "torch.Size([128, 2, 2])\n",
      "torch.Size([128, 2, 2])\n",
      "torch.Size([128, 2, 2])\n",
      "torch.Size([128, 2, 2])"
     ]
    },
    {
     "name": "stderr",
     "output_type": "stream",
     "text": [
      "\r",
      " 32%|██████████████████████████▎                                                      | 73/225 [00:06<00:13, 11.05it/s]"
     ]
    },
    {
     "name": "stdout",
     "output_type": "stream",
     "text": [
      "\n",
      "torch.Size([128, 2, 2])\n",
      "torch.Size([128, 2, 2])\n",
      "torch.Size([128, 2, 2])\n",
      "torch.Size([128, 2, 2])"
     ]
    },
    {
     "name": "stderr",
     "output_type": "stream",
     "text": [
      "\r",
      " 33%|███████████████████████████                                                      | 75/225 [00:06<00:13, 10.84it/s]"
     ]
    },
    {
     "name": "stdout",
     "output_type": "stream",
     "text": [
      "\n",
      "torch.Size([128, 2, 2])\n",
      "torch.Size([128, 2, 2])\n",
      "torch.Size([128, 2, 2])\n",
      "torch.Size([128, 2, 2])\n"
     ]
    },
    {
     "name": "stderr",
     "output_type": "stream",
     "text": [
      "\r",
      " 34%|███████████████████████████▋                                                     | 77/225 [00:07<00:13, 10.70it/s]"
     ]
    },
    {
     "name": "stdout",
     "output_type": "stream",
     "text": [
      "torch.Size([128, 2, 2])\n",
      "torch.Size([128, 2, 2])\n",
      "torch.Size([128, 2, 2])\n",
      "torch.Size([128, 2, 2])\n",
      "torch.Size([128, 2, 2])"
     ]
    },
    {
     "name": "stderr",
     "output_type": "stream",
     "text": [
      "\r",
      " 35%|████████████████████████████▍                                                    | 79/225 [00:07<00:13, 10.82it/s]"
     ]
    },
    {
     "name": "stdout",
     "output_type": "stream",
     "text": [
      "\n",
      "torch.Size([128, 2, 2])\n",
      "torch.Size([128, 2, 2])\n",
      "torch.Size([128, 2, 2])\n",
      "torch.Size([128, 2, 2])"
     ]
    },
    {
     "name": "stderr",
     "output_type": "stream",
     "text": [
      "\r",
      " 36%|█████████████████████████████▏                                                   | 81/225 [00:07<00:13, 10.91it/s]"
     ]
    },
    {
     "name": "stdout",
     "output_type": "stream",
     "text": [
      "\n",
      "torch.Size([128, 2, 2])\n",
      "torch.Size([128, 2, 2])\n",
      "torch.Size([128, 2, 2])\n",
      "torch.Size([128, 2, 2])\n"
     ]
    },
    {
     "name": "stderr",
     "output_type": "stream",
     "text": [
      "\r",
      " 37%|█████████████████████████████▉                                                   | 83/225 [00:07<00:12, 10.95it/s]"
     ]
    },
    {
     "name": "stdout",
     "output_type": "stream",
     "text": [
      "torch.Size([128, 2, 2])\n",
      "torch.Size([128, 2, 2])\n",
      "torch.Size([128, 2, 2])\n",
      "torch.Size([128, 2, 2])\n",
      "torch.Size([128, 2, 2])\n"
     ]
    },
    {
     "name": "stderr",
     "output_type": "stream",
     "text": [
      " 39%|███████████████████████████████▎                                                 | 87/225 [00:07<00:12, 11.03it/s]"
     ]
    },
    {
     "name": "stdout",
     "output_type": "stream",
     "text": [
      "torch.Size([128, 2, 2])\n",
      "torch.Size([128, 2, 2])\n",
      "torch.Size([128, 2, 2])\n",
      "torch.Size([128, 2, 2])\n",
      "torch.Size([128, 2, 2])\n"
     ]
    },
    {
     "name": "stderr",
     "output_type": "stream",
     "text": [
      "\r",
      " 40%|████████████████████████████████                                                 | 89/225 [00:08<00:12, 10.90it/s]"
     ]
    },
    {
     "name": "stdout",
     "output_type": "stream",
     "text": [
      "torch.Size([128, 2, 2])\n",
      "torch.Size([128, 2, 2])\n",
      "torch.Size([128, 2, 2])\n",
      "torch.Size([128, 2, 2])\n",
      "torch.Size([128, 2, 2])"
     ]
    },
    {
     "name": "stderr",
     "output_type": "stream",
     "text": [
      "\r",
      " 40%|████████████████████████████████▊                                                | 91/225 [00:08<00:12, 10.93it/s]"
     ]
    },
    {
     "name": "stdout",
     "output_type": "stream",
     "text": [
      "\n",
      "torch.Size([128, 2, 2])\n",
      "torch.Size([128, 2, 2])\n",
      "torch.Size([128, 2, 2])\n",
      "torch.Size([128, 2, 2])\n"
     ]
    },
    {
     "name": "stderr",
     "output_type": "stream",
     "text": [
      "\r",
      " 41%|█████████████████████████████████▍                                               | 93/225 [00:08<00:12, 10.98it/s]"
     ]
    },
    {
     "name": "stdout",
     "output_type": "stream",
     "text": [
      "torch.Size([128, 2, 2])\n",
      "torch.Size([128, 2, 2])\n",
      "torch.Size([128, 2, 2])\n",
      "torch.Size([128, 2, 2])\n",
      "torch.Size([128, 2, 2])\n"
     ]
    },
    {
     "name": "stderr",
     "output_type": "stream",
     "text": [
      "\r",
      " 42%|██████████████████████████████████▏                                              | 95/225 [00:08<00:11, 10.97it/s]"
     ]
    },
    {
     "name": "stdout",
     "output_type": "stream",
     "text": [
      "torch.Size([128, 2, 2])\n",
      "torch.Size([128, 2, 2])\n",
      "torch.Size([128, 2, 2])\n",
      "torch.Size([128, 2, 2])\n",
      "torch.Size([128, 2, 2])"
     ]
    },
    {
     "name": "stderr",
     "output_type": "stream",
     "text": [
      "\r",
      " 43%|██████████████████████████████████▉                                              | 97/225 [00:08<00:11, 10.82it/s]"
     ]
    },
    {
     "name": "stdout",
     "output_type": "stream",
     "text": [
      "\n",
      "torch.Size([128, 2, 2])\n",
      "torch.Size([128, 2, 2])\n",
      "torch.Size([128, 2, 2])\n",
      "torch.Size([128, 2, 2])\n"
     ]
    },
    {
     "name": "stderr",
     "output_type": "stream",
     "text": [
      " 45%|███████████████████████████████████▉                                            | 101/225 [00:09<00:11, 10.96it/s]"
     ]
    },
    {
     "name": "stdout",
     "output_type": "stream",
     "text": [
      "torch.Size([128, 2, 2])\n",
      "torch.Size([128, 2, 2])\n",
      "torch.Size([128, 2, 2])\n",
      "torch.Size([128, 2, 2])\n",
      "torch.Size([128, 2, 2])\n"
     ]
    },
    {
     "name": "stderr",
     "output_type": "stream",
     "text": [
      "\r",
      " 46%|████████████████████████████████████▌                                           | 103/225 [00:09<00:11, 10.96it/s]"
     ]
    },
    {
     "name": "stdout",
     "output_type": "stream",
     "text": [
      "torch.Size([128, 2, 2])\n",
      "torch.Size([128, 2, 2])\n",
      "torch.Size([128, 2, 2])\n",
      "torch.Size([128, 2, 2])\n",
      "torch.Size([128, 2, 2])\n"
     ]
    },
    {
     "name": "stderr",
     "output_type": "stream",
     "text": [
      "\r",
      " 47%|█████████████████████████████████████▎                                          | 105/225 [00:09<00:10, 11.00it/s]"
     ]
    },
    {
     "name": "stdout",
     "output_type": "stream",
     "text": [
      "torch.Size([128, 2, 2])\n",
      "torch.Size([128, 2, 2])\n",
      "torch.Size([128, 2, 2])\n",
      "torch.Size([128, 2, 2])\n",
      "torch.Size([128, 2, 2])\n"
     ]
    },
    {
     "name": "stderr",
     "output_type": "stream",
     "text": [
      "\r",
      " 48%|██████████████████████████████████████                                          | 107/225 [00:09<00:10, 10.93it/s]"
     ]
    },
    {
     "name": "stdout",
     "output_type": "stream",
     "text": [
      "torch.Size([128, 2, 2])\n",
      "torch.Size([128, 2, 2])\n",
      "torch.Size([128, 2, 2])\n",
      "torch.Size([128, 2, 2])\n",
      "torch.Size([128, 2, 2])"
     ]
    },
    {
     "name": "stderr",
     "output_type": "stream",
     "text": [
      "\r",
      " 48%|██████████████████████████████████████▊                                         | 109/225 [00:09<00:10, 10.78it/s]"
     ]
    },
    {
     "name": "stdout",
     "output_type": "stream",
     "text": [
      "\n",
      "torch.Size([128, 2, 2])\n",
      "torch.Size([128, 2, 2])\n",
      "torch.Size([128, 2, 2])\n",
      "torch.Size([128, 2, 2])"
     ]
    },
    {
     "name": "stderr",
     "output_type": "stream",
     "text": [
      "\r",
      " 49%|███████████████████████████████████████▍                                        | 111/225 [00:10<00:10, 10.67it/s]"
     ]
    },
    {
     "name": "stdout",
     "output_type": "stream",
     "text": [
      "\n",
      "torch.Size([128, 2, 2])\n",
      "torch.Size([128, 2, 2])\n",
      "torch.Size([128, 2, 2])\n",
      "torch.Size([128, 2, 2])"
     ]
    },
    {
     "name": "stderr",
     "output_type": "stream",
     "text": [
      "\r",
      " 50%|████████████████████████████████████████▏                                       | 113/225 [00:10<00:10, 10.68it/s]"
     ]
    },
    {
     "name": "stdout",
     "output_type": "stream",
     "text": [
      "\n",
      "torch.Size([128, 2, 2])\n",
      "torch.Size([128, 2, 2])\n",
      "torch.Size([128, 2, 2])\n",
      "torch.Size([128, 2, 2])"
     ]
    },
    {
     "name": "stderr",
     "output_type": "stream",
     "text": [
      "\r",
      " 51%|████████████████████████████████████████▉                                       | 115/225 [00:10<00:10, 10.80it/s]"
     ]
    },
    {
     "name": "stdout",
     "output_type": "stream",
     "text": [
      "\n",
      "torch.Size([128, 2, 2])\n",
      "torch.Size([128, 2, 2])\n",
      "torch.Size([128, 2, 2])\n",
      "torch.Size([128, 2, 2])\n"
     ]
    },
    {
     "name": "stderr",
     "output_type": "stream",
     "text": [
      " 53%|██████████████████████████████████████████▎                                     | 119/225 [00:10<00:09, 10.95it/s]"
     ]
    },
    {
     "name": "stdout",
     "output_type": "stream",
     "text": [
      "torch.Size([128, 2, 2])\n",
      "torch.Size([128, 2, 2])\n",
      "torch.Size([128, 2, 2])\n",
      "torch.Size([128, 2, 2])\n",
      "torch.Size([128, 2, 2])\n"
     ]
    },
    {
     "name": "stderr",
     "output_type": "stream",
     "text": [
      "\r",
      " 54%|███████████████████████████████████████████                                     | 121/225 [00:11<00:09, 10.90it/s]"
     ]
    },
    {
     "name": "stdout",
     "output_type": "stream",
     "text": [
      "torch.Size([128, 2, 2])\n",
      "torch.Size([128, 2, 2])\n",
      "torch.Size([128, 2, 2])\n",
      "torch.Size([128, 2, 2])\n",
      "torch.Size([128, 2, 2])"
     ]
    },
    {
     "name": "stderr",
     "output_type": "stream",
     "text": [
      "\r",
      " 55%|███████████████████████████████████████████▋                                    | 123/225 [00:11<00:09, 10.76it/s]"
     ]
    },
    {
     "name": "stdout",
     "output_type": "stream",
     "text": [
      "\n",
      "torch.Size([128, 2, 2])\n",
      "torch.Size([128, 2, 2])\n",
      "torch.Size([128, 2, 2])\n"
     ]
    },
    {
     "name": "stderr",
     "output_type": "stream",
     "text": [
      "\r",
      " 56%|████████████████████████████████████████████▍                                   | 125/225 [00:11<00:09, 10.63it/s]"
     ]
    },
    {
     "name": "stdout",
     "output_type": "stream",
     "text": [
      "torch.Size([128, 2, 2])\n",
      "torch.Size([128, 2, 2])\n",
      "torch.Size([128, 2, 2])\n",
      "torch.Size([128, 2, 2])\n",
      "torch.Size([128, 2, 2])\n"
     ]
    },
    {
     "name": "stderr",
     "output_type": "stream",
     "text": [
      "\r",
      " 56%|█████████████████████████████████████████████▏                                  | 127/225 [00:11<00:09, 10.79it/s]"
     ]
    },
    {
     "name": "stdout",
     "output_type": "stream",
     "text": [
      "torch.Size([128, 2, 2])\n",
      "torch.Size([128, 2, 2])\n",
      "torch.Size([128, 2, 2])\n",
      "torch.Size([128, 2, 2])\n",
      "torch.Size([128, 2, 2])\n"
     ]
    },
    {
     "name": "stderr",
     "output_type": "stream",
     "text": [
      "\r",
      " 57%|█████████████████████████████████████████████▊                                  | 129/225 [00:11<00:08, 10.83it/s]"
     ]
    },
    {
     "name": "stdout",
     "output_type": "stream",
     "text": [
      "torch.Size([128, 2, 2])\n",
      "torch.Size([128, 2, 2])\n",
      "torch.Size([128, 2, 2])\n",
      "torch.Size([128, 2, 2])\n",
      "torch.Size([128, 2, 2])"
     ]
    },
    {
     "name": "stderr",
     "output_type": "stream",
     "text": [
      "\r",
      " 58%|██████████████████████████████████████████████▌                                 | 131/225 [00:12<00:08, 10.70it/s]"
     ]
    },
    {
     "name": "stdout",
     "output_type": "stream",
     "text": [
      "\n",
      "torch.Size([128, 2, 2])\n",
      "torch.Size([128, 2, 2])\n",
      "torch.Size([128, 2, 2])\n",
      "torch.Size([128, 2, 2])"
     ]
    },
    {
     "name": "stderr",
     "output_type": "stream",
     "text": [
      "\r",
      " 59%|███████████████████████████████████████████████▎                                | 133/225 [00:12<00:08, 10.81it/s]"
     ]
    },
    {
     "name": "stdout",
     "output_type": "stream",
     "text": [
      "\n",
      "torch.Size([128, 2, 2])\n",
      "torch.Size([128, 2, 2])\n",
      "torch.Size([128, 2, 2])\n",
      "torch.Size([128, 2, 2])"
     ]
    },
    {
     "name": "stderr",
     "output_type": "stream",
     "text": [
      "\r",
      " 60%|████████████████████████████████████████████████                                | 135/225 [00:12<00:08, 10.68it/s]"
     ]
    },
    {
     "name": "stdout",
     "output_type": "stream",
     "text": [
      "\n",
      "torch.Size([128, 2, 2])\n",
      "torch.Size([128, 2, 2])\n",
      "torch.Size([128, 2, 2])\n",
      "torch.Size([128, 2, 2])"
     ]
    },
    {
     "name": "stderr",
     "output_type": "stream",
     "text": [
      "\r",
      " 61%|████████████████████████████████████████████████▋                               | 137/225 [00:12<00:08, 10.60it/s]"
     ]
    },
    {
     "name": "stdout",
     "output_type": "stream",
     "text": [
      "\n",
      "torch.Size([128, 2, 2])\n",
      "torch.Size([128, 2, 2])\n",
      "torch.Size([128, 2, 2])\n",
      "torch.Size([128, 2, 2])"
     ]
    },
    {
     "name": "stderr",
     "output_type": "stream",
     "text": [
      "\r",
      " 62%|█████████████████████████████████████████████████▍                              | 139/225 [00:12<00:07, 10.75it/s]"
     ]
    },
    {
     "name": "stdout",
     "output_type": "stream",
     "text": [
      "\n",
      "torch.Size([128, 2, 2])\n",
      "torch.Size([128, 2, 2])\n",
      "torch.Size([128, 2, 2])\n",
      "torch.Size([128, 2, 2])\n"
     ]
    },
    {
     "name": "stderr",
     "output_type": "stream",
     "text": [
      " 64%|██████████████████████████████████████████████████▊                             | 143/225 [00:13<00:07, 10.95it/s]"
     ]
    },
    {
     "name": "stdout",
     "output_type": "stream",
     "text": [
      "torch.Size([128, 2, 2])\n",
      "torch.Size([128, 2, 2])\n",
      "torch.Size([128, 2, 2])\n",
      "torch.Size([128, 2, 2])\n",
      "torch.Size([128, 2, 2])\n"
     ]
    },
    {
     "name": "stderr",
     "output_type": "stream",
     "text": [
      "\r",
      " 64%|███████████████████████████████████████████████████▌                            | 145/225 [00:13<00:07, 10.82it/s]"
     ]
    },
    {
     "name": "stdout",
     "output_type": "stream",
     "text": [
      "torch.Size([128, 2, 2])\n",
      "torch.Size([128, 2, 2])\n",
      "torch.Size([128, 2, 2])\n",
      "torch.Size([128, 2, 2])\n",
      "torch.Size([128, 2, 2])"
     ]
    },
    {
     "name": "stderr",
     "output_type": "stream",
     "text": [
      "\r",
      " 65%|████████████████████████████████████████████████████▎                           | 147/225 [00:13<00:07, 10.69it/s]"
     ]
    },
    {
     "name": "stdout",
     "output_type": "stream",
     "text": [
      "\n",
      "torch.Size([128, 2, 2])\n",
      "torch.Size([128, 2, 2])\n",
      "torch.Size([128, 2, 2])\n"
     ]
    },
    {
     "name": "stderr",
     "output_type": "stream",
     "text": [
      "\r",
      " 66%|████████████████████████████████████████████████████▉                           | 149/225 [00:13<00:07, 10.59it/s]"
     ]
    },
    {
     "name": "stdout",
     "output_type": "stream",
     "text": [
      "torch.Size([128, 2, 2])\n",
      "torch.Size([128, 2, 2])\n",
      "torch.Size([128, 2, 2])\n",
      "torch.Size([128, 2, 2])\n",
      "torch.Size([128, 2, 2])"
     ]
    },
    {
     "name": "stderr",
     "output_type": "stream",
     "text": [
      "\r",
      " 67%|█████████████████████████████████████████████████████▋                          | 151/225 [00:13<00:07, 10.52it/s]"
     ]
    },
    {
     "name": "stdout",
     "output_type": "stream",
     "text": [
      "\n",
      "torch.Size([128, 2, 2])\n",
      "torch.Size([128, 2, 2])\n",
      "torch.Size([128, 2, 2])\n",
      "torch.Size([128, 2, 2])"
     ]
    },
    {
     "name": "stderr",
     "output_type": "stream",
     "text": [
      "\r",
      " 68%|██████████████████████████████████████████████████████▍                         | 153/225 [00:14<00:06, 10.71it/s]"
     ]
    },
    {
     "name": "stdout",
     "output_type": "stream",
     "text": [
      "\n",
      "torch.Size([128, 2, 2])\n",
      "torch.Size([128, 2, 2])\n",
      "torch.Size([128, 2, 2])\n",
      "torch.Size([128, 2, 2])"
     ]
    },
    {
     "name": "stderr",
     "output_type": "stream",
     "text": [
      "\r",
      " 69%|███████████████████████████████████████████████████████                         | 155/225 [00:14<00:06, 10.61it/s]"
     ]
    },
    {
     "name": "stdout",
     "output_type": "stream",
     "text": [
      "\n",
      "torch.Size([128, 2, 2])\n",
      "torch.Size([128, 2, 2])\n",
      "torch.Size([128, 2, 2])\n",
      "torch.Size([128, 2, 2])\n"
     ]
    },
    {
     "name": "stderr",
     "output_type": "stream",
     "text": [
      "\r",
      " 70%|███████████████████████████████████████████████████████▊                        | 157/225 [00:14<00:06, 10.73it/s]"
     ]
    },
    {
     "name": "stdout",
     "output_type": "stream",
     "text": [
      "torch.Size([128, 2, 2])\n",
      "torch.Size([128, 2, 2])\n",
      "torch.Size([128, 2, 2])\n",
      "torch.Size([128, 2, 2])\n",
      "torch.Size([128, 2, 2])"
     ]
    },
    {
     "name": "stderr",
     "output_type": "stream",
     "text": [
      "\r",
      " 71%|████████████████████████████████████████████████████████▌                       | 159/225 [00:14<00:06, 10.62it/s]"
     ]
    },
    {
     "name": "stdout",
     "output_type": "stream",
     "text": [
      "\n",
      "torch.Size([128, 2, 2])\n",
      "torch.Size([128, 2, 2])\n",
      "torch.Size([128, 2, 2])\n",
      "torch.Size([128, 2, 2])"
     ]
    },
    {
     "name": "stderr",
     "output_type": "stream",
     "text": [
      "\r",
      " 72%|█████████████████████████████████████████████████████████▏                      | 161/225 [00:14<00:05, 10.77it/s]"
     ]
    },
    {
     "name": "stdout",
     "output_type": "stream",
     "text": [
      "\n",
      "torch.Size([128, 2, 2])\n",
      "torch.Size([128, 2, 2])\n",
      "torch.Size([128, 2, 2])\n",
      "torch.Size([128, 2, 2])\n"
     ]
    },
    {
     "name": "stderr",
     "output_type": "stream",
     "text": [
      "\r",
      " 72%|█████████████████████████████████████████████████████████▉                      | 163/225 [00:14<00:05, 10.86it/s]"
     ]
    },
    {
     "name": "stdout",
     "output_type": "stream",
     "text": [
      "torch.Size([128, 2, 2])\n",
      "torch.Size([128, 2, 2])\n",
      "torch.Size([128, 2, 2])\n",
      "torch.Size([128, 2, 2])\n",
      "torch.Size([128, 2, 2])\n"
     ]
    },
    {
     "name": "stderr",
     "output_type": "stream",
     "text": [
      " 74%|███████████████████████████████████████████████████████████▍                    | 167/225 [00:15<00:05, 11.00it/s]"
     ]
    },
    {
     "name": "stdout",
     "output_type": "stream",
     "text": [
      "torch.Size([128, 2, 2])\n",
      "torch.Size([128, 2, 2])\n",
      "torch.Size([128, 2, 2])\n",
      "torch.Size([128, 2, 2])\n"
     ]
    },
    {
     "name": "stderr",
     "output_type": "stream",
     "text": [
      "\r",
      " 75%|████████████████████████████████████████████████████████████                    | 169/225 [00:15<00:05, 11.03it/s]"
     ]
    },
    {
     "name": "stdout",
     "output_type": "stream",
     "text": [
      "torch.Size([128, 2, 2])\n",
      "torch.Size([128, 2, 2])\n",
      "torch.Size([128, 2, 2])\n",
      "torch.Size([128, 2, 2])\n",
      "torch.Size([128, 2, 2])"
     ]
    },
    {
     "name": "stderr",
     "output_type": "stream",
     "text": [
      "\r",
      " 76%|████████████████████████████████████████████████████████████▊                   | 171/225 [00:15<00:04, 11.06it/s]"
     ]
    },
    {
     "name": "stdout",
     "output_type": "stream",
     "text": [
      "\n",
      "torch.Size([128, 2, 2])\n",
      "torch.Size([128, 2, 2])\n",
      "torch.Size([128, 2, 2])\n",
      "torch.Size([128, 2, 2])\n"
     ]
    },
    {
     "name": "stderr",
     "output_type": "stream",
     "text": [
      "\r",
      " 77%|█████████████████████████████████████████████████████████████▌                  | 173/225 [00:15<00:04, 11.05it/s]"
     ]
    },
    {
     "name": "stdout",
     "output_type": "stream",
     "text": [
      "torch.Size([128, 2, 2])\n",
      "torch.Size([128, 2, 2])\n",
      "torch.Size([128, 2, 2])\n",
      "torch.Size([128, 2, 2])\n",
      "torch.Size([128, 2, 2])"
     ]
    },
    {
     "name": "stderr",
     "output_type": "stream",
     "text": [
      "\r",
      " 78%|██████████████████████████████████████████████████████████████▏                 | 175/225 [00:16<00:04, 11.05it/s]"
     ]
    },
    {
     "name": "stdout",
     "output_type": "stream",
     "text": [
      "\n",
      "torch.Size([128, 2, 2])\n",
      "torch.Size([128, 2, 2])\n",
      "torch.Size([128, 2, 2])\n",
      "torch.Size([128, 2, 2])"
     ]
    },
    {
     "name": "stderr",
     "output_type": "stream",
     "text": [
      "\r",
      " 79%|██████████████████████████████████████████████████████████████▉                 | 177/225 [00:16<00:04, 11.07it/s]"
     ]
    },
    {
     "name": "stdout",
     "output_type": "stream",
     "text": [
      "\n",
      "torch.Size([128, 2, 2])\n",
      "torch.Size([128, 2, 2])\n",
      "torch.Size([128, 2, 2])\n",
      "torch.Size([128, 2, 2])\n"
     ]
    },
    {
     "name": "stderr",
     "output_type": "stream",
     "text": [
      "\r",
      " 80%|███████████████████████████████████████████████████████████████▋                | 179/225 [00:16<00:04, 11.06it/s]"
     ]
    },
    {
     "name": "stdout",
     "output_type": "stream",
     "text": [
      "torch.Size([128, 2, 2])\n",
      "torch.Size([128, 2, 2])\n",
      "torch.Size([128, 2, 2])\n",
      "torch.Size([128, 2, 2])\n",
      "torch.Size([128, 2, 2])\n"
     ]
    },
    {
     "name": "stderr",
     "output_type": "stream",
     "text": [
      "\r",
      " 80%|████████████████████████████████████████████████████████████████▎               | 181/225 [00:16<00:03, 11.06it/s]"
     ]
    },
    {
     "name": "stdout",
     "output_type": "stream",
     "text": [
      "torch.Size([128, 2, 2])\n",
      "torch.Size([128, 2, 2])\n",
      "torch.Size([128, 2, 2])\n",
      "torch.Size([128, 2, 2])\n",
      "torch.Size([128, 2, 2])"
     ]
    },
    {
     "name": "stderr",
     "output_type": "stream",
     "text": [
      "\r",
      " 81%|█████████████████████████████████████████████████████████████████               | 183/225 [00:16<00:03, 11.08it/s]"
     ]
    },
    {
     "name": "stdout",
     "output_type": "stream",
     "text": [
      "\n",
      "torch.Size([128, 2, 2])\n",
      "torch.Size([128, 2, 2])\n",
      "torch.Size([128, 2, 2])\n",
      "torch.Size([128, 2, 2])"
     ]
    },
    {
     "name": "stderr",
     "output_type": "stream",
     "text": [
      "\r",
      " 82%|█████████████████████████████████████████████████████████████████▊              | 185/225 [00:16<00:03, 10.88it/s]"
     ]
    },
    {
     "name": "stdout",
     "output_type": "stream",
     "text": [
      "\n",
      "torch.Size([128, 2, 2])\n",
      "torch.Size([128, 2, 2])\n",
      "torch.Size([128, 2, 2])\n",
      "torch.Size([128, 2, 2])"
     ]
    },
    {
     "name": "stderr",
     "output_type": "stream",
     "text": [
      "\r",
      " 83%|██████████████████████████████████████████████████████████████████▍             | 187/225 [00:17<00:03, 10.73it/s]"
     ]
    },
    {
     "name": "stdout",
     "output_type": "stream",
     "text": [
      "\n",
      "torch.Size([128, 2, 2])\n",
      "torch.Size([128, 2, 2])\n",
      "torch.Size([128, 2, 2])\n",
      "torch.Size([128, 2, 2])\n"
     ]
    },
    {
     "name": "stderr",
     "output_type": "stream",
     "text": [
      " 85%|███████████████████████████████████████████████████████████████████▉            | 191/225 [00:17<00:03, 10.91it/s]"
     ]
    },
    {
     "name": "stdout",
     "output_type": "stream",
     "text": [
      "torch.Size([128, 2, 2])\n",
      "torch.Size([128, 2, 2])\n",
      "torch.Size([128, 2, 2])\n",
      "torch.Size([128, 2, 2])\n"
     ]
    },
    {
     "name": "stderr",
     "output_type": "stream",
     "text": [
      "\r",
      " 86%|████████████████████████████████████████████████████████████████████▌           | 193/225 [00:17<00:02, 10.97it/s]"
     ]
    },
    {
     "name": "stdout",
     "output_type": "stream",
     "text": [
      "torch.Size([128, 2, 2])\n",
      "torch.Size([128, 2, 2])\n",
      "torch.Size([128, 2, 2])\n",
      "torch.Size([128, 2, 2])\n",
      "torch.Size([128, 2, 2])\n"
     ]
    },
    {
     "name": "stderr",
     "output_type": "stream",
     "text": [
      "\r",
      " 87%|█████████████████████████████████████████████████████████████████████▎          | 195/225 [00:17<00:02, 11.03it/s]"
     ]
    },
    {
     "name": "stdout",
     "output_type": "stream",
     "text": [
      "torch.Size([128, 2, 2])\n",
      "torch.Size([128, 2, 2])\n",
      "torch.Size([128, 2, 2])\n",
      "torch.Size([128, 2, 2])\n",
      "torch.Size([128, 2, 2])\n"
     ]
    },
    {
     "name": "stderr",
     "output_type": "stream",
     "text": [
      "\r",
      " 88%|██████████████████████████████████████████████████████████████████████          | 197/225 [00:18<00:02, 11.06it/s]"
     ]
    },
    {
     "name": "stdout",
     "output_type": "stream",
     "text": [
      "torch.Size([128, 2, 2])\n",
      "torch.Size([128, 2, 2])\n",
      "torch.Size([128, 2, 2])\n",
      "torch.Size([128, 2, 2])\n",
      "torch.Size([128, 2, 2])\n"
     ]
    },
    {
     "name": "stderr",
     "output_type": "stream",
     "text": [
      "\r",
      " 88%|██████████████████████████████████████████████████████████████████████▊         | 199/225 [00:18<00:02, 11.04it/s]"
     ]
    },
    {
     "name": "stdout",
     "output_type": "stream",
     "text": [
      "torch.Size([128, 2, 2])\n",
      "torch.Size([128, 2, 2])\n",
      "torch.Size([128, 2, 2])\n",
      "torch.Size([128, 2, 2])\n",
      "torch.Size([128, 2, 2])\n"
     ]
    },
    {
     "name": "stderr",
     "output_type": "stream",
     "text": [
      " 90%|████████████████████████████████████████████████████████████████████████▏       | 203/225 [00:18<00:01, 11.04it/s]"
     ]
    },
    {
     "name": "stdout",
     "output_type": "stream",
     "text": [
      "torch.Size([128, 2, 2])\n",
      "torch.Size([128, 2, 2])\n",
      "torch.Size([128, 2, 2])\n",
      "torch.Size([128, 2, 2])\n",
      "torch.Size([128, 2, 2])\n"
     ]
    },
    {
     "name": "stderr",
     "output_type": "stream",
     "text": [
      "\r",
      " 91%|████████████████████████████████████████████████████████████████████████▉       | 205/225 [00:18<00:01, 11.03it/s]"
     ]
    },
    {
     "name": "stdout",
     "output_type": "stream",
     "text": [
      "torch.Size([128, 2, 2])\n",
      "torch.Size([128, 2, 2])\n",
      "torch.Size([128, 2, 2])\n",
      "torch.Size([128, 2, 2])\n",
      "torch.Size([128, 2, 2])\n"
     ]
    },
    {
     "name": "stderr",
     "output_type": "stream",
     "text": [
      "\r",
      " 92%|█████████████████████████████████████████████████████████████████████████▌      | 207/225 [00:18<00:01, 11.03it/s]"
     ]
    },
    {
     "name": "stdout",
     "output_type": "stream",
     "text": [
      "torch.Size([128, 2, 2])\n",
      "torch.Size([128, 2, 2])\n",
      "torch.Size([128, 2, 2])\n",
      "torch.Size([128, 2, 2])\n",
      "torch.Size([128, 2, 2])\n"
     ]
    },
    {
     "name": "stderr",
     "output_type": "stream",
     "text": [
      "\r",
      " 93%|██████████████████████████████████████████████████████████████████████████▎     | 209/225 [00:19<00:01, 11.00it/s]"
     ]
    },
    {
     "name": "stdout",
     "output_type": "stream",
     "text": [
      "torch.Size([128, 2, 2])\n",
      "torch.Size([128, 2, 2])\n",
      "torch.Size([128, 2, 2])\n",
      "torch.Size([128, 2, 2])\n",
      "torch.Size([128, 2, 2])\n"
     ]
    },
    {
     "name": "stderr",
     "output_type": "stream",
     "text": [
      " 95%|███████████████████████████████████████████████████████████████████████████▋    | 213/225 [00:19<00:01, 11.07it/s]"
     ]
    },
    {
     "name": "stdout",
     "output_type": "stream",
     "text": [
      "torch.Size([128, 2, 2])\n",
      "torch.Size([128, 2, 2])\n",
      "torch.Size([128, 2, 2])\n",
      "torch.Size([128, 2, 2])\n",
      "torch.Size([128, 2, 2])\n"
     ]
    },
    {
     "name": "stderr",
     "output_type": "stream",
     "text": [
      "\r",
      " 96%|████████████████████████████████████████████████████████████████████████████▍   | 215/225 [00:19<00:00, 11.05it/s]"
     ]
    },
    {
     "name": "stdout",
     "output_type": "stream",
     "text": [
      "torch.Size([128, 2, 2])\n",
      "torch.Size([128, 2, 2])\n",
      "torch.Size([128, 2, 2])\n",
      "torch.Size([128, 2, 2])\n",
      "torch.Size([128, 2, 2])"
     ]
    },
    {
     "name": "stderr",
     "output_type": "stream",
     "text": [
      "\r",
      " 96%|█████████████████████████████████████████████████████████████████████████████▏  | 217/225 [00:19<00:00, 10.83it/s]"
     ]
    },
    {
     "name": "stdout",
     "output_type": "stream",
     "text": [
      "\n",
      "torch.Size([128, 2, 2])\n",
      "torch.Size([128, 2, 2])\n",
      "torch.Size([128, 2, 2])\n",
      "torch.Size([128, 2, 2])"
     ]
    },
    {
     "name": "stderr",
     "output_type": "stream",
     "text": [
      "\r",
      " 97%|█████████████████████████████████████████████████████████████████████████████▊  | 219/225 [00:20<00:00, 10.70it/s]"
     ]
    },
    {
     "name": "stdout",
     "output_type": "stream",
     "text": [
      "\n",
      "torch.Size([128, 2, 2])\n",
      "torch.Size([128, 2, 2])\n",
      "torch.Size([128, 2, 2])\n"
     ]
    },
    {
     "name": "stderr",
     "output_type": "stream",
     "text": [
      "\r",
      " 98%|██████████████████████████████████████████████████████████████████████████████▌ | 221/225 [00:20<00:00, 10.61it/s]"
     ]
    },
    {
     "name": "stdout",
     "output_type": "stream",
     "text": [
      "torch.Size([128, 2, 2])\n",
      "torch.Size([128, 2, 2])\n",
      "torch.Size([128, 2, 2])\n",
      "torch.Size([128, 2, 2])\n",
      "torch.Size([128, 2, 2])\n"
     ]
    },
    {
     "name": "stderr",
     "output_type": "stream",
     "text": [
      "\r",
      " 99%|███████████████████████████████████████████████████████████████████████████████▎| 223/225 [00:20<00:00, 10.76it/s]"
     ]
    },
    {
     "name": "stdout",
     "output_type": "stream",
     "text": [
      "torch.Size([128, 2, 2])\n",
      "torch.Size([128, 2, 2])\n",
      "torch.Size([128, 2, 2])\n",
      "torch.Size([128, 2, 2])\n",
      "torch.Size([128, 2, 2])\n",
      "torch.Size([128, 2, 2])"
     ]
    },
    {
     "name": "stderr",
     "output_type": "stream",
     "text": [
      "100%|████████████████████████████████████████████████████████████████████████████████| 225/225 [00:20<00:00, 10.91it/s]\n",
      "  0%|                                                                                          | 0/225 [00:00<?, ?it/s]"
     ]
    },
    {
     "name": "stdout",
     "output_type": "stream",
     "text": [
      "\n",
      "torch.Size([128, 2, 2])\n",
      "torch.Size([128, 2, 2])\n",
      "torch.Size([128, 2, 2])\n",
      "torch.Size([128, 2, 2])"
     ]
    },
    {
     "name": "stderr",
     "output_type": "stream",
     "text": [
      "  1%|█                                                                                 | 3/225 [00:00<00:20, 10.68it/s]"
     ]
    },
    {
     "name": "stdout",
     "output_type": "stream",
     "text": [
      "\n",
      "torch.Size([128, 2, 2])\n",
      "torch.Size([128, 2, 2])\n",
      "torch.Size([128, 2, 2])\n",
      "torch.Size([128, 2, 2])"
     ]
    },
    {
     "name": "stderr",
     "output_type": "stream",
     "text": [
      "\r",
      "  2%|█▍                                                                                | 4/225 [00:00<00:21, 10.40it/s]"
     ]
    },
    {
     "name": "stdout",
     "output_type": "stream",
     "text": [
      "\n",
      "torch.Size([128, 2, 2])\n",
      "torch.Size([128, 2, 2])\n",
      "torch.Size([128, 2, 2])\n",
      "torch.Size([128, 2, 2])"
     ]
    },
    {
     "name": "stderr",
     "output_type": "stream",
     "text": [
      "\r",
      "  3%|██▏                                                                               | 6/225 [00:00<00:20, 10.54it/s]"
     ]
    },
    {
     "name": "stdout",
     "output_type": "stream",
     "text": [
      "\n",
      "torch.Size([128, 2, 2])\n",
      "torch.Size([128, 2, 2])\n",
      "torch.Size([128, 2, 2])\n",
      "torch.Size([128, 2, 2])"
     ]
    },
    {
     "name": "stderr",
     "output_type": "stream",
     "text": [
      "\r",
      "  4%|██▉                                                                               | 8/225 [00:00<00:20, 10.67it/s]"
     ]
    },
    {
     "name": "stdout",
     "output_type": "stream",
     "text": [
      "\n",
      "torch.Size([128, 2, 2])\n",
      "torch.Size([128, 2, 2])\n",
      "torch.Size([128, 2, 2])\n",
      "torch.Size([128, 2, 2])"
     ]
    },
    {
     "name": "stderr",
     "output_type": "stream",
     "text": [
      "\r",
      "  4%|███▌                                                                             | 10/225 [00:00<00:19, 10.80it/s]"
     ]
    },
    {
     "name": "stdout",
     "output_type": "stream",
     "text": [
      "\n",
      "torch.Size([128, 2, 2])\n",
      "torch.Size([128, 2, 2])\n",
      "torch.Size([128, 2, 2])\n",
      "torch.Size([128, 2, 2])\n"
     ]
    },
    {
     "name": "stderr",
     "output_type": "stream",
     "text": [
      "  6%|█████                                                                            | 14/225 [00:01<00:19, 10.97it/s]"
     ]
    },
    {
     "name": "stdout",
     "output_type": "stream",
     "text": [
      "torch.Size([128, 2, 2])\n",
      "torch.Size([128, 2, 2])\n",
      "torch.Size([128, 2, 2])\n",
      "torch.Size([128, 2, 2])\n",
      "torch.Size([128, 2, 2])\n"
     ]
    },
    {
     "name": "stderr",
     "output_type": "stream",
     "text": [
      "\r",
      "  7%|█████▊                                                                           | 16/225 [00:01<00:19, 11.00it/s]"
     ]
    },
    {
     "name": "stdout",
     "output_type": "stream",
     "text": [
      "torch.Size([128, 2, 2])\n",
      "torch.Size([128, 2, 2])\n",
      "torch.Size([128, 2, 2])\n",
      "torch.Size([128, 2, 2])\n",
      "torch.Size([128, 2, 2])"
     ]
    },
    {
     "name": "stderr",
     "output_type": "stream",
     "text": [
      "\r",
      "  8%|██████▍                                                                          | 18/225 [00:01<00:18, 11.04it/s]"
     ]
    },
    {
     "name": "stdout",
     "output_type": "stream",
     "text": [
      "\n",
      "torch.Size([128, 2, 2])\n",
      "torch.Size([128, 2, 2])\n",
      "torch.Size([128, 2, 2])\n",
      "torch.Size([128, 2, 2])"
     ]
    },
    {
     "name": "stderr",
     "output_type": "stream",
     "text": [
      "\r",
      "  9%|███████▏                                                                         | 20/225 [00:01<00:18, 10.90it/s]"
     ]
    },
    {
     "name": "stdout",
     "output_type": "stream",
     "text": [
      "\n",
      "torch.Size([128, 2, 2])\n",
      "torch.Size([128, 2, 2])\n",
      "torch.Size([128, 2, 2])\n",
      "torch.Size([128, 2, 2])"
     ]
    },
    {
     "name": "stderr",
     "output_type": "stream",
     "text": [
      "\r",
      " 10%|███████▉                                                                         | 22/225 [00:02<00:18, 10.76it/s]"
     ]
    },
    {
     "name": "stdout",
     "output_type": "stream",
     "text": [
      "\n",
      "torch.Size([128, 2, 2])\n",
      "torch.Size([128, 2, 2])\n",
      "torch.Size([128, 2, 2])\n",
      "torch.Size([128, 2, 2])"
     ]
    },
    {
     "name": "stderr",
     "output_type": "stream",
     "text": [
      "\r",
      " 11%|████████▋                                                                        | 24/225 [00:02<00:18, 10.85it/s]"
     ]
    },
    {
     "name": "stdout",
     "output_type": "stream",
     "text": [
      "\n",
      "torch.Size([128, 2, 2])\n",
      "torch.Size([128, 2, 2])\n",
      "torch.Size([128, 2, 2])\n",
      "torch.Size([128, 2, 2])\n"
     ]
    },
    {
     "name": "stderr",
     "output_type": "stream",
     "text": [
      "\r",
      " 12%|█████████▎                                                                       | 26/225 [00:02<00:18, 10.92it/s]"
     ]
    },
    {
     "name": "stdout",
     "output_type": "stream",
     "text": [
      "torch.Size([128, 2, 2])\n",
      "torch.Size([128, 2, 2])\n",
      "torch.Size([128, 2, 2])\n",
      "torch.Size([128, 2, 2])\n",
      "torch.Size([128, 2, 2])\n"
     ]
    },
    {
     "name": "stderr",
     "output_type": "stream",
     "text": [
      "\r",
      " 12%|██████████                                                                       | 28/225 [00:02<00:18, 10.61it/s]"
     ]
    },
    {
     "name": "stdout",
     "output_type": "stream",
     "text": [
      "torch.Size([128, 2, 2])\n",
      "torch.Size([128, 2, 2])\n",
      "torch.Size([128, 2, 2])\n",
      "torch.Size([128, 2, 2])\n",
      "torch.Size([128, 2, 2])"
     ]
    },
    {
     "name": "stderr",
     "output_type": "stream",
     "text": [
      "\r",
      " 13%|██████████▊                                                                      | 30/225 [00:02<00:18, 10.75it/s]"
     ]
    },
    {
     "name": "stdout",
     "output_type": "stream",
     "text": [
      "\n",
      "torch.Size([128, 2, 2])\n",
      "torch.Size([128, 2, 2])\n",
      "torch.Size([128, 2, 2])\n",
      "torch.Size([128, 2, 2])"
     ]
    },
    {
     "name": "stderr",
     "output_type": "stream",
     "text": [
      "\r",
      " 14%|███████████▌                                                                     | 32/225 [00:02<00:17, 10.77it/s]"
     ]
    },
    {
     "name": "stdout",
     "output_type": "stream",
     "text": [
      "\n",
      "torch.Size([128, 2, 2])\n",
      "torch.Size([128, 2, 2])\n",
      "torch.Size([128, 2, 2])\n",
      "torch.Size([128, 2, 2])"
     ]
    },
    {
     "name": "stderr",
     "output_type": "stream",
     "text": [
      "\r",
      " 15%|████████████▏                                                                    | 34/225 [00:03<00:18, 10.61it/s]"
     ]
    },
    {
     "name": "stdout",
     "output_type": "stream",
     "text": [
      "\n",
      "torch.Size([128, 2, 2])\n",
      "torch.Size([128, 2, 2])\n",
      "torch.Size([128, 2, 2])\n",
      "torch.Size([128, 2, 2])"
     ]
    },
    {
     "name": "stderr",
     "output_type": "stream",
     "text": [
      "\r",
      " 16%|████████████▉                                                                    | 36/225 [00:03<00:18, 10.47it/s]"
     ]
    },
    {
     "name": "stdout",
     "output_type": "stream",
     "text": [
      "\n",
      "torch.Size([128, 2, 2])\n",
      "torch.Size([128, 2, 2])\n",
      "torch.Size([128, 2, 2])\n",
      "torch.Size([128, 2, 2])"
     ]
    },
    {
     "name": "stderr",
     "output_type": "stream",
     "text": [
      "\r",
      " 17%|█████████████▋                                                                   | 38/225 [00:03<00:18, 10.30it/s]"
     ]
    },
    {
     "name": "stdout",
     "output_type": "stream",
     "text": [
      "\n",
      "torch.Size([128, 2, 2])\n",
      "torch.Size([128, 2, 2])\n",
      "torch.Size([128, 2, 2])\n"
     ]
    },
    {
     "name": "stderr",
     "output_type": "stream",
     "text": [
      "\r",
      " 18%|██████████████▍                                                                  | 40/225 [00:03<00:17, 10.52it/s]"
     ]
    },
    {
     "name": "stdout",
     "output_type": "stream",
     "text": [
      "torch.Size([128, 2, 2])\n",
      "torch.Size([128, 2, 2])\n",
      "torch.Size([128, 2, 2])\n",
      "torch.Size([128, 2, 2])\n",
      "torch.Size([128, 2, 2])\n"
     ]
    },
    {
     "name": "stderr",
     "output_type": "stream",
     "text": [
      " 20%|███████████████▊                                                                 | 44/225 [00:04<00:16, 10.82it/s]"
     ]
    },
    {
     "name": "stdout",
     "output_type": "stream",
     "text": [
      "torch.Size([128, 2, 2])\n",
      "torch.Size([128, 2, 2])\n",
      "torch.Size([128, 2, 2])\n",
      "torch.Size([128, 2, 2])\n",
      "torch.Size([128, 2, 2])\n"
     ]
    },
    {
     "name": "stderr",
     "output_type": "stream",
     "text": [
      "\r",
      " 20%|████████████████▌                                                                | 46/225 [00:04<00:16, 10.88it/s]"
     ]
    },
    {
     "name": "stdout",
     "output_type": "stream",
     "text": [
      "torch.Size([128, 2, 2])\n",
      "torch.Size([128, 2, 2])\n",
      "torch.Size([128, 2, 2])\n",
      "torch.Size([128, 2, 2])\n",
      "torch.Size([128, 2, 2])\n"
     ]
    },
    {
     "name": "stderr",
     "output_type": "stream",
     "text": [
      "\r",
      " 21%|█████████████████▎                                                               | 48/225 [00:04<00:16, 10.95it/s]"
     ]
    },
    {
     "name": "stdout",
     "output_type": "stream",
     "text": [
      "torch.Size([128, 2, 2])\n",
      "torch.Size([128, 2, 2])\n",
      "torch.Size([128, 2, 2])\n",
      "torch.Size([128, 2, 2])\n",
      "torch.Size([128, 2, 2])\n"
     ]
    },
    {
     "name": "stderr",
     "output_type": "stream",
     "text": [
      "\r",
      " 22%|██████████████████                                                               | 50/225 [00:04<00:15, 10.98it/s]"
     ]
    },
    {
     "name": "stdout",
     "output_type": "stream",
     "text": [
      "torch.Size([128, 2, 2])\n",
      "torch.Size([128, 2, 2])\n",
      "torch.Size([128, 2, 2])\n",
      "torch.Size([128, 2, 2])\n",
      "torch.Size([128, 2, 2])\n"
     ]
    },
    {
     "name": "stderr",
     "output_type": "stream",
     "text": [
      " 24%|███████████████████▍                                                             | 54/225 [00:04<00:15, 11.02it/s]"
     ]
    },
    {
     "name": "stdout",
     "output_type": "stream",
     "text": [
      "torch.Size([128, 2, 2])\n",
      "torch.Size([128, 2, 2])\n",
      "torch.Size([128, 2, 2])\n",
      "torch.Size([128, 2, 2])\n",
      "torch.Size([128, 2, 2])\n"
     ]
    },
    {
     "name": "stderr",
     "output_type": "stream",
     "text": [
      "\r",
      " 25%|████████████████████▏                                                            | 56/225 [00:05<00:15, 11.04it/s]"
     ]
    },
    {
     "name": "stdout",
     "output_type": "stream",
     "text": [
      "torch.Size([128, 2, 2])\n",
      "torch.Size([128, 2, 2])\n",
      "torch.Size([128, 2, 2])\n",
      "torch.Size([128, 2, 2])\n",
      "torch.Size([128, 2, 2])\n"
     ]
    },
    {
     "name": "stderr",
     "output_type": "stream",
     "text": [
      "\r",
      " 26%|████████████████████▉                                                            | 58/225 [00:05<00:15, 11.03it/s]"
     ]
    },
    {
     "name": "stdout",
     "output_type": "stream",
     "text": [
      "torch.Size([128, 2, 2])\n",
      "torch.Size([128, 2, 2])\n",
      "torch.Size([128, 2, 2])\n",
      "torch.Size([128, 2, 2])\n",
      "torch.Size([128, 2, 2])\n"
     ]
    },
    {
     "name": "stderr",
     "output_type": "stream",
     "text": [
      "\r",
      " 27%|█████████████████████▌                                                           | 60/225 [00:05<00:14, 11.01it/s]"
     ]
    },
    {
     "name": "stdout",
     "output_type": "stream",
     "text": [
      "torch.Size([128, 2, 2])\n",
      "torch.Size([128, 2, 2])\n",
      "torch.Size([128, 2, 2])\n",
      "torch.Size([128, 2, 2])\n",
      "torch.Size([128, 2, 2])\n"
     ]
    },
    {
     "name": "stderr",
     "output_type": "stream",
     "text": [
      " 28%|███████████████████████                                                          | 64/225 [00:05<00:14, 10.82it/s]"
     ]
    },
    {
     "name": "stdout",
     "output_type": "stream",
     "text": [
      "torch.Size([128, 2, 2])\n",
      "torch.Size([128, 2, 2])\n",
      "torch.Size([128, 2, 2])\n",
      "torch.Size([128, 2, 2])\n"
     ]
    },
    {
     "name": "stderr",
     "output_type": "stream",
     "text": [
      "\r",
      " 29%|███████████████████████▊                                                         | 66/225 [00:06<00:14, 10.92it/s]"
     ]
    },
    {
     "name": "stdout",
     "output_type": "stream",
     "text": [
      "torch.Size([128, 2, 2])\n",
      "torch.Size([128, 2, 2])\n",
      "torch.Size([128, 2, 2])\n",
      "torch.Size([128, 2, 2])\n",
      "torch.Size([128, 2, 2])\n"
     ]
    },
    {
     "name": "stderr",
     "output_type": "stream",
     "text": [
      "\r",
      " 30%|████████████████████████▍                                                        | 68/225 [00:06<00:14, 10.98it/s]"
     ]
    },
    {
     "name": "stdout",
     "output_type": "stream",
     "text": [
      "torch.Size([128, 2, 2])\n",
      "torch.Size([128, 2, 2])\n",
      "torch.Size([128, 2, 2])\n",
      "torch.Size([128, 2, 2])\n",
      "torch.Size([128, 2, 2])"
     ]
    },
    {
     "name": "stderr",
     "output_type": "stream",
     "text": [
      "\r",
      " 31%|█████████████████████████▏                                                       | 70/225 [00:06<00:14, 10.81it/s]"
     ]
    },
    {
     "name": "stdout",
     "output_type": "stream",
     "text": [
      "\n",
      "torch.Size([128, 2, 2])\n",
      "torch.Size([128, 2, 2])\n",
      "torch.Size([128, 2, 2])\n",
      "torch.Size([128, 2, 2])"
     ]
    },
    {
     "name": "stderr",
     "output_type": "stream",
     "text": [
      "\r",
      " 32%|█████████████████████████▉                                                       | 72/225 [00:06<00:14, 10.66it/s]"
     ]
    },
    {
     "name": "stdout",
     "output_type": "stream",
     "text": [
      "\n",
      "torch.Size([128, 2, 2])\n",
      "torch.Size([128, 2, 2])\n",
      "torch.Size([128, 2, 2])\n",
      "torch.Size([128, 2, 2])"
     ]
    },
    {
     "name": "stderr",
     "output_type": "stream",
     "text": [
      "\r",
      " 33%|██████████████████████████▋                                                      | 74/225 [00:06<00:14, 10.69it/s]"
     ]
    },
    {
     "name": "stdout",
     "output_type": "stream",
     "text": [
      "\n",
      "torch.Size([128, 2, 2])\n",
      "torch.Size([128, 2, 2])\n",
      "torch.Size([128, 2, 2])\n",
      "torch.Size([128, 2, 2])"
     ]
    },
    {
     "name": "stderr",
     "output_type": "stream",
     "text": [
      "\r",
      " 34%|███████████████████████████▎                                                     | 76/225 [00:07<00:13, 10.66it/s]"
     ]
    },
    {
     "name": "stdout",
     "output_type": "stream",
     "text": [
      "\n",
      "torch.Size([128, 2, 2])\n",
      "torch.Size([128, 2, 2])\n",
      "torch.Size([128, 2, 2])\n"
     ]
    },
    {
     "name": "stderr",
     "output_type": "stream",
     "text": [
      "\r",
      " 35%|████████████████████████████                                                     | 78/225 [00:07<00:13, 10.57it/s]"
     ]
    },
    {
     "name": "stdout",
     "output_type": "stream",
     "text": [
      "torch.Size([128, 2, 2])\n",
      "torch.Size([128, 2, 2])\n",
      "torch.Size([128, 2, 2])\n",
      "torch.Size([128, 2, 2])\n",
      "torch.Size([128, 2, 2])"
     ]
    },
    {
     "name": "stderr",
     "output_type": "stream",
     "text": [
      "\r",
      " 36%|████████████████████████████▊                                                    | 80/225 [00:07<00:13, 10.64it/s]"
     ]
    },
    {
     "name": "stdout",
     "output_type": "stream",
     "text": [
      "\n",
      "torch.Size([128, 2, 2])\n",
      "torch.Size([128, 2, 2])\n",
      "torch.Size([128, 2, 2])\n",
      "torch.Size([128, 2, 2])\n"
     ]
    },
    {
     "name": "stderr",
     "output_type": "stream",
     "text": [
      "\r",
      " 36%|█████████████████████████████▌                                                   | 82/225 [00:07<00:13, 10.76it/s]"
     ]
    },
    {
     "name": "stdout",
     "output_type": "stream",
     "text": [
      "torch.Size([128, 2, 2])\n",
      "torch.Size([128, 2, 2])\n",
      "torch.Size([128, 2, 2])\n",
      "torch.Size([128, 2, 2])\n",
      "torch.Size([128, 2, 2])\n"
     ]
    },
    {
     "name": "stderr",
     "output_type": "stream",
     "text": [
      "\r",
      " 37%|██████████████████████████████▏                                                  | 84/225 [00:07<00:13, 10.83it/s]"
     ]
    },
    {
     "name": "stdout",
     "output_type": "stream",
     "text": [
      "torch.Size([128, 2, 2])\n",
      "torch.Size([128, 2, 2])\n",
      "torch.Size([128, 2, 2])\n",
      "torch.Size([128, 2, 2])\n",
      "torch.Size([128, 2, 2])\n"
     ]
    },
    {
     "name": "stderr",
     "output_type": "stream",
     "text": [
      " 39%|███████████████████████████████▋                                                 | 88/225 [00:08<00:12, 10.97it/s]"
     ]
    },
    {
     "name": "stdout",
     "output_type": "stream",
     "text": [
      "torch.Size([128, 2, 2])\n",
      "torch.Size([128, 2, 2])\n",
      "torch.Size([128, 2, 2])\n",
      "torch.Size([128, 2, 2])\n",
      "torch.Size([128, 2, 2])\n"
     ]
    },
    {
     "name": "stderr",
     "output_type": "stream",
     "text": [
      "\r",
      " 40%|████████████████████████████████▍                                                | 90/225 [00:08<00:12, 10.76it/s]"
     ]
    },
    {
     "name": "stdout",
     "output_type": "stream",
     "text": [
      "torch.Size([128, 2, 2])\n",
      "torch.Size([128, 2, 2])\n",
      "torch.Size([128, 2, 2])\n",
      "torch.Size([128, 2, 2])\n",
      "torch.Size([128, 2, 2])"
     ]
    },
    {
     "name": "stderr",
     "output_type": "stream",
     "text": [
      "\r",
      " 41%|█████████████████████████████████                                                | 92/225 [00:08<00:12, 10.88it/s]"
     ]
    },
    {
     "name": "stdout",
     "output_type": "stream",
     "text": [
      "\n",
      "torch.Size([128, 2, 2])\n",
      "torch.Size([128, 2, 2])\n",
      "torch.Size([128, 2, 2])\n",
      "torch.Size([128, 2, 2])\n"
     ]
    },
    {
     "name": "stderr",
     "output_type": "stream",
     "text": [
      "\r",
      " 42%|█████████████████████████████████▊                                               | 94/225 [00:08<00:12, 10.86it/s]"
     ]
    },
    {
     "name": "stdout",
     "output_type": "stream",
     "text": [
      "torch.Size([128, 2, 2])\n",
      "torch.Size([128, 2, 2])\n",
      "torch.Size([128, 2, 2])\n",
      "torch.Size([128, 2, 2])\n",
      "torch.Size([128, 2, 2])\n"
     ]
    },
    {
     "name": "stderr",
     "output_type": "stream",
     "text": [
      "\r",
      " 43%|██████████████████████████████████▌                                              | 96/225 [00:08<00:11, 10.85it/s]"
     ]
    },
    {
     "name": "stdout",
     "output_type": "stream",
     "text": [
      "torch.Size([128, 2, 2])\n",
      "torch.Size([128, 2, 2])\n",
      "torch.Size([128, 2, 2])\n",
      "torch.Size([128, 2, 2])\n",
      "torch.Size([128, 2, 2])"
     ]
    },
    {
     "name": "stderr",
     "output_type": "stream",
     "text": [
      "\r",
      " 44%|███████████████████████████████████▎                                             | 98/225 [00:09<00:11, 10.92it/s]"
     ]
    },
    {
     "name": "stdout",
     "output_type": "stream",
     "text": [
      "\n",
      "torch.Size([128, 2, 2])\n",
      "torch.Size([128, 2, 2])\n",
      "torch.Size([128, 2, 2])\n",
      "torch.Size([128, 2, 2])"
     ]
    },
    {
     "name": "stderr",
     "output_type": "stream",
     "text": [
      "\r",
      " 44%|███████████████████████████████████▌                                            | 100/225 [00:09<00:11, 10.77it/s]"
     ]
    },
    {
     "name": "stdout",
     "output_type": "stream",
     "text": [
      "\n",
      "torch.Size([128, 2, 2])\n",
      "torch.Size([128, 2, 2])\n",
      "torch.Size([128, 2, 2])\n",
      "torch.Size([128, 2, 2])\n"
     ]
    },
    {
     "name": "stderr",
     "output_type": "stream",
     "text": [
      " 46%|████████████████████████████████████▉                                           | 104/225 [00:09<00:11, 10.97it/s]"
     ]
    },
    {
     "name": "stdout",
     "output_type": "stream",
     "text": [
      "torch.Size([128, 2, 2])\n",
      "torch.Size([128, 2, 2])\n",
      "torch.Size([128, 2, 2])\n",
      "torch.Size([128, 2, 2])\n",
      "torch.Size([128, 2, 2])\n"
     ]
    },
    {
     "name": "stderr",
     "output_type": "stream",
     "text": [
      "\r",
      " 47%|█████████████████████████████████████▋                                          | 106/225 [00:09<00:10, 11.00it/s]"
     ]
    },
    {
     "name": "stdout",
     "output_type": "stream",
     "text": [
      "torch.Size([128, 2, 2])\n",
      "torch.Size([128, 2, 2])\n",
      "torch.Size([128, 2, 2])\n",
      "torch.Size([128, 2, 2])\n",
      "torch.Size([128, 2, 2])\n"
     ]
    },
    {
     "name": "stderr",
     "output_type": "stream",
     "text": [
      "\r",
      " 48%|██████████████████████████████████████▍                                         | 108/225 [00:09<00:10, 11.01it/s]"
     ]
    },
    {
     "name": "stdout",
     "output_type": "stream",
     "text": [
      "torch.Size([128, 2, 2])\n",
      "torch.Size([128, 2, 2])\n",
      "torch.Size([128, 2, 2])\n",
      "torch.Size([128, 2, 2])\n",
      "torch.Size([128, 2, 2])\n"
     ]
    },
    {
     "name": "stderr",
     "output_type": "stream",
     "text": [
      "\r",
      " 49%|███████████████████████████████████████                                         | 110/225 [00:10<00:10, 11.04it/s]"
     ]
    },
    {
     "name": "stdout",
     "output_type": "stream",
     "text": [
      "torch.Size([128, 2, 2])\n",
      "torch.Size([128, 2, 2])\n",
      "torch.Size([128, 2, 2])\n",
      "torch.Size([128, 2, 2])\n",
      "torch.Size([128, 2, 2])\n"
     ]
    },
    {
     "name": "stderr",
     "output_type": "stream",
     "text": [
      " 51%|████████████████████████████████████████▌                                       | 114/225 [00:10<00:10, 10.99it/s]"
     ]
    },
    {
     "name": "stdout",
     "output_type": "stream",
     "text": [
      "torch.Size([128, 2, 2])\n",
      "torch.Size([128, 2, 2])\n",
      "torch.Size([128, 2, 2])\n",
      "torch.Size([128, 2, 2])\n"
     ]
    },
    {
     "name": "stderr",
     "output_type": "stream",
     "text": [
      "\r",
      " 52%|█████████████████████████████████████████▏                                      | 116/225 [00:10<00:09, 11.05it/s]"
     ]
    },
    {
     "name": "stdout",
     "output_type": "stream",
     "text": [
      "torch.Size([128, 2, 2])\n",
      "torch.Size([128, 2, 2])\n",
      "torch.Size([128, 2, 2])\n",
      "torch.Size([128, 2, 2])\n"
     ]
    },
    {
     "name": "stderr",
     "output_type": "stream",
     "text": [
      "\r",
      " 52%|█████████████████████████████████████████▉                                      | 118/225 [00:10<00:09, 10.86it/s]"
     ]
    },
    {
     "name": "stdout",
     "output_type": "stream",
     "text": [
      "torch.Size([128, 2, 2])\n",
      "torch.Size([128, 2, 2])\n",
      "torch.Size([128, 2, 2])\n",
      "torch.Size([128, 2, 2])\n"
     ]
    },
    {
     "name": "stderr",
     "output_type": "stream",
     "text": [
      "\r",
      " 53%|██████████████████████████████████████████▋                                     | 120/225 [00:11<00:09, 10.84it/s]"
     ]
    },
    {
     "name": "stdout",
     "output_type": "stream",
     "text": [
      "torch.Size([128, 2, 2])\n",
      "torch.Size([128, 2, 2])\n",
      "torch.Size([128, 2, 2])\n",
      "torch.Size([128, 2, 2])\n"
     ]
    },
    {
     "name": "stderr",
     "output_type": "stream",
     "text": [
      "\r",
      " 54%|███████████████████████████████████████████▍                                    | 122/225 [00:11<00:09, 10.90it/s]"
     ]
    },
    {
     "name": "stdout",
     "output_type": "stream",
     "text": [
      "torch.Size([128, 2, 2])\n",
      "torch.Size([128, 2, 2])\n",
      "torch.Size([128, 2, 2])\n",
      "torch.Size([128, 2, 2])\n",
      "torch.Size([128, 2, 2])\n"
     ]
    },
    {
     "name": "stderr",
     "output_type": "stream",
     "text": [
      "\r",
      " 55%|████████████████████████████████████████████                                    | 124/225 [00:11<00:09, 10.92it/s]"
     ]
    },
    {
     "name": "stdout",
     "output_type": "stream",
     "text": [
      "torch.Size([128, 2, 2])\n",
      "torch.Size([128, 2, 2])\n",
      "torch.Size([128, 2, 2])\n",
      "torch.Size([128, 2, 2])\n",
      "torch.Size([128, 2, 2])\n"
     ]
    },
    {
     "name": "stderr",
     "output_type": "stream",
     "text": [
      "\r",
      " 56%|████████████████████████████████████████████▊                                   | 126/225 [00:11<00:09, 10.96it/s]"
     ]
    },
    {
     "name": "stdout",
     "output_type": "stream",
     "text": [
      "torch.Size([128, 2, 2])\n",
      "torch.Size([128, 2, 2])\n",
      "torch.Size([128, 2, 2])\n",
      "torch.Size([128, 2, 2])\n",
      "torch.Size([128, 2, 2])\n"
     ]
    },
    {
     "name": "stderr",
     "output_type": "stream",
     "text": [
      "\r",
      " 57%|█████████████████████████████████████████████▌                                  | 128/225 [00:11<00:08, 10.99it/s]"
     ]
    },
    {
     "name": "stdout",
     "output_type": "stream",
     "text": [
      "torch.Size([128, 2, 2])\n",
      "torch.Size([128, 2, 2])\n",
      "torch.Size([128, 2, 2])\n",
      "torch.Size([128, 2, 2])\n",
      "torch.Size([128, 2, 2])\n"
     ]
    },
    {
     "name": "stderr",
     "output_type": "stream",
     "text": [
      " 59%|██████████████████████████████████████████████▉                                 | 132/225 [00:12<00:08, 11.07it/s]"
     ]
    },
    {
     "name": "stdout",
     "output_type": "stream",
     "text": [
      "torch.Size([128, 2, 2])\n",
      "torch.Size([128, 2, 2])\n",
      "torch.Size([128, 2, 2])\n",
      "torch.Size([128, 2, 2])\n",
      "torch.Size([128, 2, 2])\n"
     ]
    },
    {
     "name": "stderr",
     "output_type": "stream",
     "text": [
      "\r",
      " 60%|███████████████████████████████████████████████▋                                | 134/225 [00:12<00:08, 11.05it/s]"
     ]
    },
    {
     "name": "stdout",
     "output_type": "stream",
     "text": [
      "torch.Size([128, 2, 2])\n",
      "torch.Size([128, 2, 2])\n",
      "torch.Size([128, 2, 2])\n",
      "torch.Size([128, 2, 2])\n",
      "torch.Size([128, 2, 2])\n"
     ]
    },
    {
     "name": "stderr",
     "output_type": "stream",
     "text": [
      "\r",
      " 60%|████████████████████████████████████████████████▎                               | 136/225 [00:12<00:08, 11.06it/s]"
     ]
    },
    {
     "name": "stdout",
     "output_type": "stream",
     "text": [
      "torch.Size([128, 2, 2])\n",
      "torch.Size([128, 2, 2])\n",
      "torch.Size([128, 2, 2])\n",
      "torch.Size([128, 2, 2])\n",
      "torch.Size([128, 2, 2])\n"
     ]
    },
    {
     "name": "stderr",
     "output_type": "stream",
     "text": [
      "\r",
      " 61%|█████████████████████████████████████████████████                               | 138/225 [00:12<00:07, 11.04it/s]"
     ]
    },
    {
     "name": "stdout",
     "output_type": "stream",
     "text": [
      "torch.Size([128, 2, 2])\n",
      "torch.Size([128, 2, 2])\n",
      "torch.Size([128, 2, 2])\n",
      "torch.Size([128, 2, 2])\n",
      "torch.Size([128, 2, 2])"
     ]
    },
    {
     "name": "stderr",
     "output_type": "stream",
     "text": [
      "\r",
      " 62%|█████████████████████████████████████████████████▊                              | 140/225 [00:12<00:07, 10.83it/s]"
     ]
    },
    {
     "name": "stdout",
     "output_type": "stream",
     "text": [
      "\n",
      "torch.Size([128, 2, 2])\n",
      "torch.Size([128, 2, 2])\n",
      "torch.Size([128, 2, 2])\n",
      "torch.Size([128, 2, 2])"
     ]
    },
    {
     "name": "stderr",
     "output_type": "stream",
     "text": [
      "\r",
      " 63%|██████████████████████████████████████████████████▍                             | 142/225 [00:13<00:07, 10.68it/s]"
     ]
    },
    {
     "name": "stdout",
     "output_type": "stream",
     "text": [
      "\n",
      "torch.Size([128, 2, 2])\n",
      "torch.Size([128, 2, 2])\n",
      "torch.Size([128, 2, 2])\n",
      "torch.Size([128, 2, 2])"
     ]
    },
    {
     "name": "stderr",
     "output_type": "stream",
     "text": [
      "\r",
      " 64%|███████████████████████████████████████████████████▏                            | 144/225 [00:13<00:07, 10.62it/s]"
     ]
    },
    {
     "name": "stdout",
     "output_type": "stream",
     "text": [
      "\n",
      "torch.Size([128, 2, 2])\n",
      "torch.Size([128, 2, 2])\n",
      "torch.Size([128, 2, 2])\n",
      "torch.Size([128, 2, 2])"
     ]
    },
    {
     "name": "stderr",
     "output_type": "stream",
     "text": [
      "\r",
      " 65%|███████████████████████████████████████████████████▉                            | 146/225 [00:13<00:07, 10.55it/s]"
     ]
    },
    {
     "name": "stdout",
     "output_type": "stream",
     "text": [
      "\n",
      "torch.Size([128, 2, 2])\n",
      "torch.Size([128, 2, 2])\n",
      "torch.Size([128, 2, 2])\n",
      "torch.Size([128, 2, 2])\n"
     ]
    },
    {
     "name": "stderr",
     "output_type": "stream",
     "text": [
      " 67%|█████████████████████████████████████████████████████▎                          | 150/225 [00:13<00:06, 10.75it/s]"
     ]
    },
    {
     "name": "stdout",
     "output_type": "stream",
     "text": [
      "torch.Size([128, 2, 2])\n",
      "torch.Size([128, 2, 2])\n",
      "torch.Size([128, 2, 2])\n",
      "torch.Size([128, 2, 2])\n",
      "torch.Size([128, 2, 2])"
     ]
    },
    {
     "name": "stderr",
     "output_type": "stream",
     "text": [
      "\r",
      " 68%|██████████████████████████████████████████████████████                          | 152/225 [00:14<00:06, 10.68it/s]"
     ]
    },
    {
     "name": "stdout",
     "output_type": "stream",
     "text": [
      "\n",
      "torch.Size([128, 2, 2])\n",
      "torch.Size([128, 2, 2])\n",
      "torch.Size([128, 2, 2])\n"
     ]
    },
    {
     "name": "stderr",
     "output_type": "stream",
     "text": [
      "\r",
      " 68%|██████████████████████████████████████████████████████▊                         | 154/225 [00:14<00:06, 10.55it/s]"
     ]
    },
    {
     "name": "stdout",
     "output_type": "stream",
     "text": [
      "torch.Size([128, 2, 2])\n",
      "torch.Size([128, 2, 2])\n",
      "torch.Size([128, 2, 2])\n",
      "torch.Size([128, 2, 2])\n"
     ]
    },
    {
     "name": "stderr",
     "output_type": "stream",
     "text": [
      "\r",
      " 69%|███████████████████████████████████████████████████████▍                        | 156/225 [00:14<00:06, 10.67it/s]"
     ]
    },
    {
     "name": "stdout",
     "output_type": "stream",
     "text": [
      "torch.Size([128, 2, 2])\n",
      "torch.Size([128, 2, 2])\n",
      "torch.Size([128, 2, 2])\n",
      "torch.Size([128, 2, 2])\n"
     ]
    },
    {
     "name": "stderr",
     "output_type": "stream",
     "text": [
      "\r",
      " 70%|████████████████████████████████████████████████████████▏                       | 158/225 [00:14<00:06, 10.73it/s]"
     ]
    },
    {
     "name": "stdout",
     "output_type": "stream",
     "text": [
      "torch.Size([128, 2, 2])\n",
      "torch.Size([128, 2, 2])\n",
      "torch.Size([128, 2, 2])\n",
      "torch.Size([128, 2, 2])\n"
     ]
    },
    {
     "name": "stderr",
     "output_type": "stream",
     "text": [
      "\r",
      " 71%|████████████████████████████████████████████████████████▉                       | 160/225 [00:14<00:06, 10.61it/s]"
     ]
    },
    {
     "name": "stdout",
     "output_type": "stream",
     "text": [
      "torch.Size([128, 2, 2])\n",
      "torch.Size([128, 2, 2])\n",
      "torch.Size([128, 2, 2])\n",
      "torch.Size([128, 2, 2])\n"
     ]
    },
    {
     "name": "stderr",
     "output_type": "stream",
     "text": [
      "\r",
      " 72%|█████████████████████████████████████████████████████████▌                      | 162/225 [00:14<00:05, 10.74it/s]"
     ]
    },
    {
     "name": "stdout",
     "output_type": "stream",
     "text": [
      "torch.Size([128, 2, 2])\n",
      "torch.Size([128, 2, 2])\n",
      "torch.Size([128, 2, 2])\n",
      "torch.Size([128, 2, 2])\n"
     ]
    },
    {
     "name": "stderr",
     "output_type": "stream",
     "text": [
      "\r",
      " 73%|██████████████████████████████████████████████████████████▎                     | 164/225 [00:15<00:05, 10.59it/s]"
     ]
    },
    {
     "name": "stdout",
     "output_type": "stream",
     "text": [
      "torch.Size([128, 2, 2])\n",
      "torch.Size([128, 2, 2])\n",
      "torch.Size([128, 2, 2])\n",
      "torch.Size([128, 2, 2])\n"
     ]
    },
    {
     "name": "stderr",
     "output_type": "stream",
     "text": [
      "\r",
      " 74%|███████████████████████████████████████████████████████████                     | 166/225 [00:15<00:05, 10.68it/s]"
     ]
    },
    {
     "name": "stdout",
     "output_type": "stream",
     "text": [
      "torch.Size([128, 2, 2])\n",
      "torch.Size([128, 2, 2])\n",
      "torch.Size([128, 2, 2])\n",
      "torch.Size([128, 2, 2])\n"
     ]
    },
    {
     "name": "stderr",
     "output_type": "stream",
     "text": [
      "\r",
      " 75%|███████████████████████████████████████████████████████████▋                    | 168/225 [00:15<00:05, 10.79it/s]"
     ]
    },
    {
     "name": "stdout",
     "output_type": "stream",
     "text": [
      "torch.Size([128, 2, 2])\n",
      "torch.Size([128, 2, 2])\n",
      "torch.Size([128, 2, 2])\n",
      "torch.Size([128, 2, 2])\n",
      "torch.Size([128, 2, 2])\n"
     ]
    },
    {
     "name": "stderr",
     "output_type": "stream",
     "text": [
      "\r",
      " 76%|████████████████████████████████████████████████████████████▍                   | 170/225 [00:15<00:05, 10.85it/s]"
     ]
    },
    {
     "name": "stdout",
     "output_type": "stream",
     "text": [
      "torch.Size([128, 2, 2])\n",
      "torch.Size([128, 2, 2])\n",
      "torch.Size([128, 2, 2])\n",
      "torch.Size([128, 2, 2])\n"
     ]
    },
    {
     "name": "stderr",
     "output_type": "stream",
     "text": [
      "\r",
      " 76%|█████████████████████████████████████████████████████████████▏                  | 172/225 [00:15<00:04, 10.86it/s]"
     ]
    },
    {
     "name": "stdout",
     "output_type": "stream",
     "text": [
      "torch.Size([128, 2, 2])\n",
      "torch.Size([128, 2, 2])\n",
      "torch.Size([128, 2, 2])\n",
      "torch.Size([128, 2, 2])\n",
      "torch.Size([128, 2, 2])\n"
     ]
    },
    {
     "name": "stderr",
     "output_type": "stream",
     "text": [
      "\r",
      " 77%|█████████████████████████████████████████████████████████████▊                  | 174/225 [00:16<00:04, 10.88it/s]"
     ]
    },
    {
     "name": "stdout",
     "output_type": "stream",
     "text": [
      "torch.Size([128, 2, 2])\n",
      "torch.Size([128, 2, 2])\n",
      "torch.Size([128, 2, 2])\n",
      "torch.Size([128, 2, 2])\n",
      "torch.Size([128, 2, 2])"
     ]
    },
    {
     "name": "stderr",
     "output_type": "stream",
     "text": [
      "\r",
      " 78%|██████████████████████████████████████████████████████████████▌                 | 176/225 [00:16<00:04, 10.65it/s]"
     ]
    },
    {
     "name": "stdout",
     "output_type": "stream",
     "text": [
      "\n",
      "torch.Size([128, 2, 2])\n",
      "torch.Size([128, 2, 2])\n",
      "torch.Size([128, 2, 2])\n",
      "torch.Size([128, 2, 2])"
     ]
    },
    {
     "name": "stderr",
     "output_type": "stream",
     "text": [
      "\r",
      " 79%|███████████████████████████████████████████████████████████████▎                | 178/225 [00:16<00:04, 10.73it/s]"
     ]
    },
    {
     "name": "stdout",
     "output_type": "stream",
     "text": [
      "\n",
      "torch.Size([128, 2, 2])\n",
      "torch.Size([128, 2, 2])\n",
      "torch.Size([128, 2, 2])\n",
      "torch.Size([128, 2, 2])"
     ]
    },
    {
     "name": "stderr",
     "output_type": "stream",
     "text": [
      "\r",
      " 80%|████████████████████████████████████████████████████████████████                | 180/225 [00:16<00:04, 10.79it/s]"
     ]
    },
    {
     "name": "stdout",
     "output_type": "stream",
     "text": [
      "\n",
      "torch.Size([128, 2, 2])\n",
      "torch.Size([128, 2, 2])\n",
      "torch.Size([128, 2, 2])\n",
      "torch.Size([128, 2, 2])\n"
     ]
    },
    {
     "name": "stderr",
     "output_type": "stream",
     "text": [
      "\r",
      " 81%|████████████████████████████████████████████████████████████████▋               | 182/225 [00:16<00:03, 10.83it/s]"
     ]
    },
    {
     "name": "stdout",
     "output_type": "stream",
     "text": [
      "torch.Size([128, 2, 2])\n",
      "torch.Size([128, 2, 2])\n",
      "torch.Size([128, 2, 2])\n",
      "torch.Size([128, 2, 2])\n",
      "torch.Size([128, 2, 2])"
     ]
    },
    {
     "name": "stderr",
     "output_type": "stream",
     "text": [
      "\r",
      " 82%|█████████████████████████████████████████████████████████████████▍              | 184/225 [00:16<00:03, 10.82it/s]"
     ]
    },
    {
     "name": "stdout",
     "output_type": "stream",
     "text": [
      "\n",
      "torch.Size([128, 2, 2])\n",
      "torch.Size([128, 2, 2])\n",
      "torch.Size([128, 2, 2])\n",
      "torch.Size([128, 2, 2])\n"
     ]
    },
    {
     "name": "stderr",
     "output_type": "stream",
     "text": [
      " 84%|██████████████████████████████████████████████████████████████████▊             | 188/225 [00:17<00:03, 10.91it/s]"
     ]
    },
    {
     "name": "stdout",
     "output_type": "stream",
     "text": [
      "torch.Size([128, 2, 2])\n",
      "torch.Size([128, 2, 2])\n",
      "torch.Size([128, 2, 2])\n",
      "torch.Size([128, 2, 2])\n",
      "torch.Size([128, 2, 2])\n"
     ]
    },
    {
     "name": "stderr",
     "output_type": "stream",
     "text": [
      "\r",
      " 84%|███████████████████████████████████████████████████████████████████▌            | 190/225 [00:17<00:03, 10.93it/s]"
     ]
    },
    {
     "name": "stdout",
     "output_type": "stream",
     "text": [
      "torch.Size([128, 2, 2])\n",
      "torch.Size([128, 2, 2])\n",
      "torch.Size([128, 2, 2])\n",
      "torch.Size([128, 2, 2])\n",
      "torch.Size([128, 2, 2])"
     ]
    },
    {
     "name": "stderr",
     "output_type": "stream",
     "text": [
      "\r",
      " 85%|████████████████████████████████████████████████████████████████████▎           | 192/225 [00:17<00:03, 10.88it/s]"
     ]
    },
    {
     "name": "stdout",
     "output_type": "stream",
     "text": [
      "\n",
      "torch.Size([128, 2, 2])\n",
      "torch.Size([128, 2, 2])\n",
      "torch.Size([128, 2, 2])\n",
      "torch.Size([128, 2, 2])\n"
     ]
    },
    {
     "name": "stderr",
     "output_type": "stream",
     "text": [
      "\r",
      " 86%|████████████████████████████████████████████████████████████████████▉           | 194/225 [00:17<00:02, 10.90it/s]"
     ]
    },
    {
     "name": "stdout",
     "output_type": "stream",
     "text": [
      "torch.Size([128, 2, 2])\n",
      "torch.Size([128, 2, 2])\n",
      "torch.Size([128, 2, 2])\n",
      "torch.Size([128, 2, 2])\n",
      "torch.Size([128, 2, 2])"
     ]
    },
    {
     "name": "stderr",
     "output_type": "stream",
     "text": [
      "\r",
      " 87%|█████████████████████████████████████████████████████████████████████▋          | 196/225 [00:18<00:02, 10.79it/s]"
     ]
    },
    {
     "name": "stdout",
     "output_type": "stream",
     "text": [
      "\n",
      "torch.Size([128, 2, 2])\n",
      "torch.Size([128, 2, 2])\n",
      "torch.Size([128, 2, 2])\n",
      "torch.Size([128, 2, 2])"
     ]
    },
    {
     "name": "stderr",
     "output_type": "stream",
     "text": [
      "\r",
      " 88%|██████████████████████████████████████████████████████████████████████▍         | 198/225 [00:18<00:02, 10.85it/s]"
     ]
    },
    {
     "name": "stdout",
     "output_type": "stream",
     "text": [
      "\n",
      "torch.Size([128, 2, 2])\n",
      "torch.Size([128, 2, 2])\n",
      "torch.Size([128, 2, 2])\n",
      "torch.Size([128, 2, 2])\n"
     ]
    },
    {
     "name": "stderr",
     "output_type": "stream",
     "text": [
      "\r",
      " 89%|███████████████████████████████████████████████████████████████████████         | 200/225 [00:18<00:02, 10.89it/s]"
     ]
    },
    {
     "name": "stdout",
     "output_type": "stream",
     "text": [
      "torch.Size([128, 2, 2])\n",
      "torch.Size([128, 2, 2])\n",
      "torch.Size([128, 2, 2])\n",
      "torch.Size([128, 2, 2])\n",
      "torch.Size([128, 2, 2])"
     ]
    },
    {
     "name": "stderr",
     "output_type": "stream",
     "text": [
      "\r",
      " 90%|███████████████████████████████████████████████████████████████████████▊        | 202/225 [00:18<00:02, 10.83it/s]"
     ]
    },
    {
     "name": "stdout",
     "output_type": "stream",
     "text": [
      "\n",
      "torch.Size([128, 2, 2])\n",
      "torch.Size([128, 2, 2])\n",
      "torch.Size([128, 2, 2])\n",
      "torch.Size([128, 2, 2])\n"
     ]
    },
    {
     "name": "stderr",
     "output_type": "stream",
     "text": [
      " 92%|█████████████████████████████████████████████████████████████████████████▏      | 206/225 [00:19<00:01, 10.89it/s]"
     ]
    },
    {
     "name": "stdout",
     "output_type": "stream",
     "text": [
      "torch.Size([128, 2, 2])\n",
      "torch.Size([128, 2, 2])\n",
      "torch.Size([128, 2, 2])\n",
      "torch.Size([128, 2, 2])\n",
      "torch.Size([128, 2, 2])\n",
      "torch.Size([128, 2, 2])\n",
      "torch.Size([128, 2, 2])\n",
      "torch.Size([128, 2, 2])\n"
     ]
    },
    {
     "name": "stderr",
     "output_type": "stream",
     "text": [
      " 93%|██████████████████████████████████████████████████████████████████████████▋     | 210/225 [00:19<00:01, 10.75it/s]"
     ]
    },
    {
     "name": "stdout",
     "output_type": "stream",
     "text": [
      "torch.Size([128, 2, 2])\n",
      "torch.Size([128, 2, 2])\n",
      "torch.Size([128, 2, 2])\n",
      "torch.Size([128, 2, 2])\n"
     ]
    },
    {
     "name": "stderr",
     "output_type": "stream",
     "text": [
      "\r",
      " 94%|███████████████████████████████████████████████████████████████████████████▍    | 212/225 [00:19<00:01, 10.84it/s]"
     ]
    },
    {
     "name": "stdout",
     "output_type": "stream",
     "text": [
      "torch.Size([128, 2, 2])\n",
      "torch.Size([128, 2, 2])\n",
      "torch.Size([128, 2, 2])\n",
      "torch.Size([128, 2, 2])\n",
      "torch.Size([128, 2, 2])\n"
     ]
    },
    {
     "name": "stderr",
     "output_type": "stream",
     "text": [
      "\r",
      " 95%|████████████████████████████████████████████████████████████████████████████    | 214/225 [00:19<00:01, 10.87it/s]"
     ]
    },
    {
     "name": "stdout",
     "output_type": "stream",
     "text": [
      "torch.Size([128, 2, 2])\n",
      "torch.Size([128, 2, 2])\n",
      "torch.Size([128, 2, 2])\n",
      "torch.Size([128, 2, 2])\n",
      "torch.Size([128, 2, 2])\n"
     ]
    },
    {
     "name": "stderr",
     "output_type": "stream",
     "text": [
      "\r",
      " 96%|████████████████████████████████████████████████████████████████████████████▊   | 216/225 [00:19<00:00, 10.83it/s]"
     ]
    },
    {
     "name": "stdout",
     "output_type": "stream",
     "text": [
      "torch.Size([128, 2, 2])\n",
      "torch.Size([128, 2, 2])\n",
      "torch.Size([128, 2, 2])\n",
      "torch.Size([128, 2, 2])\n",
      "torch.Size([128, 2, 2])"
     ]
    },
    {
     "name": "stderr",
     "output_type": "stream",
     "text": [
      "\r",
      " 97%|█████████████████████████████████████████████████████████████████████████████▌  | 218/225 [00:20<00:00, 10.79it/s]"
     ]
    },
    {
     "name": "stdout",
     "output_type": "stream",
     "text": [
      "\n",
      "torch.Size([128, 2, 2])\n",
      "torch.Size([128, 2, 2])\n",
      "torch.Size([128, 2, 2])\n",
      "torch.Size([128, 2, 2])"
     ]
    },
    {
     "name": "stderr",
     "output_type": "stream",
     "text": [
      "\r",
      " 98%|██████████████████████████████████████████████████████████████████████████████▏ | 220/225 [00:20<00:00, 10.85it/s]"
     ]
    },
    {
     "name": "stdout",
     "output_type": "stream",
     "text": [
      "\n",
      "torch.Size([128, 2, 2])\n",
      "torch.Size([128, 2, 2])\n",
      "torch.Size([128, 2, 2])\n",
      "torch.Size([128, 2, 2])\n"
     ]
    },
    {
     "name": "stderr",
     "output_type": "stream",
     "text": [
      "\r",
      " 99%|██████████████████████████████████████████████████████████████████████████████▉ | 222/225 [00:20<00:00, 10.89it/s]"
     ]
    },
    {
     "name": "stdout",
     "output_type": "stream",
     "text": [
      "torch.Size([128, 2, 2])\n",
      "torch.Size([128, 2, 2])\n",
      "torch.Size([128, 2, 2])\n",
      "torch.Size([128, 2, 2])\n",
      "torch.Size([128, 2, 2])\n"
     ]
    },
    {
     "name": "stderr",
     "output_type": "stream",
     "text": [
      "100%|████████████████████████████████████████████████████████████████████████████████| 225/225 [00:20<00:00, 10.84it/s]\n",
      "  0%|                                                                                          | 0/225 [00:00<?, ?it/s]"
     ]
    },
    {
     "name": "stdout",
     "output_type": "stream",
     "text": [
      "torch.Size([128, 2, 2])\n",
      "torch.Size([128, 2, 2])\n",
      "torch.Size([128, 2, 2])\n",
      "torch.Size([128, 2, 2])\n",
      "torch.Size([128, 2, 2])\n"
     ]
    },
    {
     "name": "stderr",
     "output_type": "stream",
     "text": [
      "\r",
      "  1%|▋                                                                                 | 2/225 [00:00<00:20, 10.97it/s]"
     ]
    },
    {
     "name": "stdout",
     "output_type": "stream",
     "text": [
      "torch.Size([128, 2, 2])\n",
      "torch.Size([128, 2, 2])\n",
      "torch.Size([128, 2, 2])\n",
      "torch.Size([128, 2, 2])\n",
      "torch.Size([128, 2, 2])\n"
     ]
    },
    {
     "name": "stderr",
     "output_type": "stream",
     "text": [
      "  3%|██▏                                                                               | 6/225 [00:00<00:19, 10.96it/s]"
     ]
    },
    {
     "name": "stdout",
     "output_type": "stream",
     "text": [
      "torch.Size([128, 2, 2])\n",
      "torch.Size([128, 2, 2])\n",
      "torch.Size([128, 2, 2])\n",
      "torch.Size([128, 2, 2])\n",
      "torch.Size([128, 2, 2])\n"
     ]
    },
    {
     "name": "stderr",
     "output_type": "stream",
     "text": [
      "\r",
      "  4%|██▉                                                                               | 8/225 [00:00<00:19, 10.97it/s]"
     ]
    },
    {
     "name": "stdout",
     "output_type": "stream",
     "text": [
      "torch.Size([128, 2, 2])\n",
      "torch.Size([128, 2, 2])\n",
      "torch.Size([128, 2, 2])\n",
      "torch.Size([128, 2, 2])\n",
      "torch.Size([128, 2, 2])\n"
     ]
    },
    {
     "name": "stderr",
     "output_type": "stream",
     "text": [
      "\r",
      "  4%|███▌                                                                             | 10/225 [00:00<00:19, 10.99it/s]"
     ]
    },
    {
     "name": "stdout",
     "output_type": "stream",
     "text": [
      "torch.Size([128, 2, 2])\n",
      "torch.Size([128, 2, 2])\n",
      "torch.Size([128, 2, 2])\n",
      "torch.Size([128, 2, 2])\n",
      "torch.Size([128, 2, 2])\n"
     ]
    },
    {
     "name": "stderr",
     "output_type": "stream",
     "text": [
      "\r",
      "  5%|████▎                                                                            | 12/225 [00:01<00:19, 11.01it/s]"
     ]
    },
    {
     "name": "stdout",
     "output_type": "stream",
     "text": [
      "torch.Size([128, 2, 2])\n",
      "torch.Size([128, 2, 2])\n",
      "torch.Size([128, 2, 2])\n",
      "torch.Size([128, 2, 2])\n",
      "torch.Size([128, 2, 2])\n"
     ]
    },
    {
     "name": "stderr",
     "output_type": "stream",
     "text": [
      "  7%|█████▊                                                                           | 16/225 [00:01<00:19, 10.97it/s]"
     ]
    },
    {
     "name": "stdout",
     "output_type": "stream",
     "text": [
      "torch.Size([128, 2, 2])\n",
      "torch.Size([128, 2, 2])\n",
      "torch.Size([128, 2, 2])\n",
      "torch.Size([128, 2, 2])\n"
     ]
    },
    {
     "name": "stderr",
     "output_type": "stream",
     "text": [
      "\r",
      "  8%|██████▍                                                                          | 18/225 [00:01<00:18, 10.97it/s]"
     ]
    },
    {
     "name": "stdout",
     "output_type": "stream",
     "text": [
      "torch.Size([128, 2, 2])\n",
      "torch.Size([128, 2, 2])\n",
      "torch.Size([128, 2, 2])\n",
      "torch.Size([128, 2, 2])\n",
      "torch.Size([128, 2, 2])\n"
     ]
    },
    {
     "name": "stderr",
     "output_type": "stream",
     "text": [
      "\r",
      "  9%|███████▏                                                                         | 20/225 [00:01<00:18, 10.95it/s]"
     ]
    },
    {
     "name": "stdout",
     "output_type": "stream",
     "text": [
      "torch.Size([128, 2, 2])\n",
      "torch.Size([128, 2, 2])\n",
      "torch.Size([128, 2, 2])\n",
      "torch.Size([128, 2, 2])\n",
      "torch.Size([128, 2, 2])\n"
     ]
    },
    {
     "name": "stderr",
     "output_type": "stream",
     "text": [
      "\r",
      " 10%|███████▉                                                                         | 22/225 [00:02<00:18, 10.93it/s]"
     ]
    },
    {
     "name": "stdout",
     "output_type": "stream",
     "text": [
      "torch.Size([128, 2, 2])\n",
      "torch.Size([128, 2, 2])\n",
      "torch.Size([128, 2, 2])\n",
      "torch.Size([128, 2, 2])\n",
      "torch.Size([128, 2, 2])"
     ]
    },
    {
     "name": "stderr",
     "output_type": "stream",
     "text": [
      "\r",
      " 11%|████████▋                                                                        | 24/225 [00:02<00:19, 10.48it/s]"
     ]
    },
    {
     "name": "stdout",
     "output_type": "stream",
     "text": [
      "\n",
      "torch.Size([128, 2, 2])\n",
      "torch.Size([128, 2, 2])\n",
      "torch.Size([128, 2, 2])\n"
     ]
    },
    {
     "name": "stderr",
     "output_type": "stream",
     "text": [
      "\r",
      " 12%|█████████▎                                                                       | 26/225 [00:02<00:18, 10.61it/s]"
     ]
    },
    {
     "name": "stdout",
     "output_type": "stream",
     "text": [
      "torch.Size([128, 2, 2])\n",
      "torch.Size([128, 2, 2])\n",
      "torch.Size([128, 2, 2])\n",
      "torch.Size([128, 2, 2])\n",
      "torch.Size([128, 2, 2])"
     ]
    },
    {
     "name": "stderr",
     "output_type": "stream",
     "text": [
      "\r",
      " 12%|██████████                                                                       | 28/225 [00:02<00:18, 10.72it/s]"
     ]
    },
    {
     "name": "stdout",
     "output_type": "stream",
     "text": [
      "\n",
      "torch.Size([128, 2, 2])\n",
      "torch.Size([128, 2, 2])\n",
      "torch.Size([128, 2, 2])\n",
      "torch.Size([128, 2, 2])\n"
     ]
    },
    {
     "name": "stderr",
     "output_type": "stream",
     "text": [
      "\r",
      " 13%|██████████▊                                                                      | 30/225 [00:02<00:18, 10.76it/s]"
     ]
    },
    {
     "name": "stdout",
     "output_type": "stream",
     "text": [
      "torch.Size([128, 2, 2])\n",
      "torch.Size([128, 2, 2])\n",
      "torch.Size([128, 2, 2])\n",
      "torch.Size([128, 2, 2])\n",
      "torch.Size([128, 2, 2])"
     ]
    },
    {
     "name": "stderr",
     "output_type": "stream",
     "text": [
      "\r",
      " 14%|███████████▌                                                                     | 32/225 [00:02<00:17, 10.80it/s]"
     ]
    },
    {
     "name": "stdout",
     "output_type": "stream",
     "text": [
      "\n",
      "torch.Size([128, 2, 2])\n",
      "torch.Size([128, 2, 2])\n",
      "torch.Size([128, 2, 2])\n",
      "torch.Size([128, 2, 2])\n"
     ]
    },
    {
     "name": "stderr",
     "output_type": "stream",
     "text": [
      " 16%|████████████▉                                                                    | 36/225 [00:03<00:17, 10.89it/s]"
     ]
    },
    {
     "name": "stdout",
     "output_type": "stream",
     "text": [
      "torch.Size([128, 2, 2])\n",
      "torch.Size([128, 2, 2])\n",
      "torch.Size([128, 2, 2])\n",
      "torch.Size([128, 2, 2])\n",
      "torch.Size([128, 2, 2])\n"
     ]
    },
    {
     "name": "stderr",
     "output_type": "stream",
     "text": [
      "\r",
      " 17%|█████████████▋                                                                   | 38/225 [00:03<00:17, 10.87it/s]"
     ]
    },
    {
     "name": "stdout",
     "output_type": "stream",
     "text": [
      "torch.Size([128, 2, 2])\n",
      "torch.Size([128, 2, 2])\n",
      "torch.Size([128, 2, 2])\n",
      "torch.Size([128, 2, 2])\n",
      "torch.Size([128, 2, 2])"
     ]
    },
    {
     "name": "stderr",
     "output_type": "stream",
     "text": [
      "\r",
      " 18%|██████████████▍                                                                  | 40/225 [00:03<00:17, 10.81it/s]"
     ]
    },
    {
     "name": "stdout",
     "output_type": "stream",
     "text": [
      "\n",
      "torch.Size([128, 2, 2])\n",
      "torch.Size([128, 2, 2])\n",
      "torch.Size([128, 2, 2])\n",
      "torch.Size([128, 2, 2])"
     ]
    },
    {
     "name": "stderr",
     "output_type": "stream",
     "text": [
      "\r",
      " 19%|███████████████                                                                  | 42/225 [00:03<00:16, 10.86it/s]"
     ]
    },
    {
     "name": "stdout",
     "output_type": "stream",
     "text": [
      "\n",
      "torch.Size([128, 2, 2])\n",
      "torch.Size([128, 2, 2])\n",
      "torch.Size([128, 2, 2])\n",
      "torch.Size([128, 2, 2])\n"
     ]
    },
    {
     "name": "stderr",
     "output_type": "stream",
     "text": [
      "\r",
      " 20%|███████████████▊                                                                 | 44/225 [00:04<00:16, 10.87it/s]"
     ]
    },
    {
     "name": "stdout",
     "output_type": "stream",
     "text": [
      "torch.Size([128, 2, 2])\n",
      "torch.Size([128, 2, 2])\n",
      "torch.Size([128, 2, 2])\n",
      "torch.Size([128, 2, 2])\n",
      "torch.Size([128, 2, 2])\n"
     ]
    },
    {
     "name": "stderr",
     "output_type": "stream",
     "text": [
      "\r",
      " 20%|████████████████▌                                                                | 46/225 [00:04<00:16, 10.89it/s]"
     ]
    },
    {
     "name": "stdout",
     "output_type": "stream",
     "text": [
      "torch.Size([128, 2, 2])\n",
      "torch.Size([128, 2, 2])\n",
      "torch.Size([128, 2, 2])\n",
      "torch.Size([128, 2, 2])\n",
      "torch.Size([128, 2, 2])"
     ]
    },
    {
     "name": "stderr",
     "output_type": "stream",
     "text": [
      "\r",
      " 21%|█████████████████▎                                                               | 48/225 [00:04<00:16, 10.92it/s]"
     ]
    },
    {
     "name": "stdout",
     "output_type": "stream",
     "text": [
      "\n",
      "torch.Size([128, 2, 2])\n",
      "torch.Size([128, 2, 2])\n",
      "torch.Size([128, 2, 2])\n",
      "torch.Size([128, 2, 2])\n"
     ]
    },
    {
     "name": "stderr",
     "output_type": "stream",
     "text": [
      " 23%|██████████████████▋                                                              | 52/225 [00:04<00:15, 10.89it/s]"
     ]
    },
    {
     "name": "stdout",
     "output_type": "stream",
     "text": [
      "torch.Size([128, 2, 2])\n",
      "torch.Size([128, 2, 2])\n",
      "torch.Size([128, 2, 2])\n",
      "torch.Size([128, 2, 2])\n",
      "torch.Size([128, 2, 2])"
     ]
    },
    {
     "name": "stderr",
     "output_type": "stream",
     "text": [
      "\r",
      " 24%|███████████████████▍                                                             | 54/225 [00:04<00:15, 10.90it/s]"
     ]
    },
    {
     "name": "stdout",
     "output_type": "stream",
     "text": [
      "\n",
      "torch.Size([128, 2, 2])\n",
      "torch.Size([128, 2, 2])\n",
      "torch.Size([128, 2, 2])\n",
      "torch.Size([128, 2, 2])\n"
     ]
    },
    {
     "name": "stderr",
     "output_type": "stream",
     "text": [
      "\r",
      " 25%|████████████████████▏                                                            | 56/225 [00:05<00:15, 10.88it/s]"
     ]
    },
    {
     "name": "stdout",
     "output_type": "stream",
     "text": [
      "torch.Size([128, 2, 2])\n",
      "torch.Size([128, 2, 2])\n",
      "torch.Size([128, 2, 2])\n",
      "torch.Size([128, 2, 2])\n",
      "torch.Size([128, 2, 2])"
     ]
    },
    {
     "name": "stderr",
     "output_type": "stream",
     "text": [
      "\r",
      " 26%|████████████████████▉                                                            | 58/225 [00:05<00:15, 10.75it/s]"
     ]
    },
    {
     "name": "stdout",
     "output_type": "stream",
     "text": [
      "\n",
      "torch.Size([128, 2, 2])\n",
      "torch.Size([128, 2, 2])\n",
      "torch.Size([128, 2, 2])\n",
      "torch.Size([128, 2, 2])"
     ]
    },
    {
     "name": "stderr",
     "output_type": "stream",
     "text": [
      "\r",
      " 27%|█████████████████████▌                                                           | 60/225 [00:05<00:15, 10.80it/s]"
     ]
    },
    {
     "name": "stdout",
     "output_type": "stream",
     "text": [
      "\n",
      "torch.Size([128, 2, 2])\n",
      "torch.Size([128, 2, 2])\n",
      "torch.Size([128, 2, 2])\n",
      "torch.Size([128, 2, 2])"
     ]
    },
    {
     "name": "stderr",
     "output_type": "stream",
     "text": [
      "\r",
      " 28%|██████████████████████▎                                                          | 62/225 [00:05<00:15, 10.81it/s]"
     ]
    },
    {
     "name": "stdout",
     "output_type": "stream",
     "text": [
      "\n",
      "torch.Size([128, 2, 2])\n",
      "torch.Size([128, 2, 2])\n",
      "torch.Size([128, 2, 2])\n",
      "torch.Size([128, 2, 2])\n"
     ]
    },
    {
     "name": "stderr",
     "output_type": "stream",
     "text": [
      "\r",
      " 28%|███████████████████████                                                          | 64/225 [00:05<00:15, 10.61it/s]"
     ]
    },
    {
     "name": "stdout",
     "output_type": "stream",
     "text": [
      "torch.Size([128, 2, 2])\n",
      "torch.Size([128, 2, 2])\n",
      "torch.Size([128, 2, 2])\n",
      "torch.Size([128, 2, 2])\n",
      "torch.Size([128, 2, 2])"
     ]
    },
    {
     "name": "stderr",
     "output_type": "stream",
     "text": [
      "\r",
      " 29%|███████████████████████▊                                                         | 66/225 [00:06<00:15, 10.56it/s]"
     ]
    },
    {
     "name": "stdout",
     "output_type": "stream",
     "text": [
      "\n",
      "torch.Size([128, 2, 2])\n",
      "torch.Size([128, 2, 2])\n",
      "torch.Size([128, 2, 2])\n",
      "torch.Size([128, 2, 2])"
     ]
    },
    {
     "name": "stderr",
     "output_type": "stream",
     "text": [
      "\r",
      " 30%|████████████████████████▍                                                        | 68/225 [00:06<00:14, 10.57it/s]"
     ]
    },
    {
     "name": "stdout",
     "output_type": "stream",
     "text": [
      "\n",
      "torch.Size([128, 2, 2])\n",
      "torch.Size([128, 2, 2])\n",
      "torch.Size([128, 2, 2])\n",
      "torch.Size([128, 2, 2])"
     ]
    },
    {
     "name": "stderr",
     "output_type": "stream",
     "text": [
      "\r",
      " 31%|█████████████████████████▏                                                       | 70/225 [00:06<00:14, 10.64it/s]"
     ]
    },
    {
     "name": "stdout",
     "output_type": "stream",
     "text": [
      "\n",
      "torch.Size([128, 2, 2])\n",
      "torch.Size([128, 2, 2])\n",
      "torch.Size([128, 2, 2])\n"
     ]
    },
    {
     "name": "stderr",
     "output_type": "stream",
     "text": [
      "\r",
      " 32%|█████████████████████████▉                                                       | 72/225 [00:06<00:14, 10.20it/s]"
     ]
    },
    {
     "name": "stdout",
     "output_type": "stream",
     "text": [
      "torch.Size([128, 2, 2])\n",
      "torch.Size([128, 2, 2])\n",
      "torch.Size([128, 2, 2])\n",
      "torch.Size([128, 2, 2])\n",
      "torch.Size([128, 2, 2])\n"
     ]
    },
    {
     "name": "stderr",
     "output_type": "stream",
     "text": [
      "\r",
      " 33%|██████████████████████████▋                                                      | 74/225 [00:06<00:14, 10.41it/s]"
     ]
    },
    {
     "name": "stdout",
     "output_type": "stream",
     "text": [
      "torch.Size([128, 2, 2])\n",
      "torch.Size([128, 2, 2])\n",
      "torch.Size([128, 2, 2])\n",
      "torch.Size([128, 2, 2])\n",
      "torch.Size([128, 2, 2])"
     ]
    },
    {
     "name": "stderr",
     "output_type": "stream",
     "text": [
      "\r",
      " 34%|███████████████████████████▎                                                     | 76/225 [00:07<00:14, 10.38it/s]"
     ]
    },
    {
     "name": "stdout",
     "output_type": "stream",
     "text": [
      "\n",
      "torch.Size([128, 2, 2])\n",
      "torch.Size([128, 2, 2])\n",
      "torch.Size([128, 2, 2])\n",
      "torch.Size([128, 2, 2])"
     ]
    },
    {
     "name": "stderr",
     "output_type": "stream",
     "text": [
      "\r",
      " 35%|████████████████████████████                                                     | 78/225 [00:07<00:13, 10.52it/s]"
     ]
    },
    {
     "name": "stdout",
     "output_type": "stream",
     "text": [
      "\n",
      "torch.Size([128, 2, 2])\n",
      "torch.Size([128, 2, 2])\n",
      "torch.Size([128, 2, 2])\n",
      "torch.Size([128, 2, 2])"
     ]
    },
    {
     "name": "stderr",
     "output_type": "stream",
     "text": [
      "\r",
      " 36%|████████████████████████████▊                                                    | 80/225 [00:07<00:13, 10.49it/s]"
     ]
    },
    {
     "name": "stdout",
     "output_type": "stream",
     "text": [
      "\n",
      "torch.Size([128, 2, 2])\n",
      "torch.Size([128, 2, 2])\n",
      "torch.Size([128, 2, 2])\n",
      "torch.Size([128, 2, 2])"
     ]
    },
    {
     "name": "stderr",
     "output_type": "stream",
     "text": [
      "\r",
      " 36%|█████████████████████████████▌                                                   | 82/225 [00:07<00:13, 10.37it/s]"
     ]
    },
    {
     "name": "stdout",
     "output_type": "stream",
     "text": [
      "\n",
      "torch.Size([128, 2, 2])\n",
      "torch.Size([128, 2, 2])\n",
      "torch.Size([128, 2, 2])\n",
      "torch.Size([128, 2, 2])"
     ]
    },
    {
     "name": "stderr",
     "output_type": "stream",
     "text": [
      "\r",
      " 37%|██████████████████████████████▏                                                  | 84/225 [00:07<00:13, 10.48it/s]"
     ]
    },
    {
     "name": "stdout",
     "output_type": "stream",
     "text": [
      "\n",
      "torch.Size([128, 2, 2])\n",
      "torch.Size([128, 2, 2])\n",
      "torch.Size([128, 2, 2])\n",
      "torch.Size([128, 2, 2])"
     ]
    },
    {
     "name": "stderr",
     "output_type": "stream",
     "text": [
      "\r",
      " 38%|██████████████████████████████▉                                                  | 86/225 [00:08<00:13, 10.44it/s]"
     ]
    },
    {
     "name": "stdout",
     "output_type": "stream",
     "text": [
      "\n",
      "torch.Size([128, 2, 2])\n",
      "torch.Size([128, 2, 2])\n",
      "torch.Size([128, 2, 2])\n",
      "torch.Size([128, 2, 2])"
     ]
    },
    {
     "name": "stderr",
     "output_type": "stream",
     "text": [
      "\r",
      " 39%|███████████████████████████████▋                                                 | 88/225 [00:08<00:12, 10.60it/s]"
     ]
    },
    {
     "name": "stdout",
     "output_type": "stream",
     "text": [
      "\n",
      "torch.Size([128, 2, 2])\n",
      "torch.Size([128, 2, 2])\n",
      "torch.Size([128, 2, 2])\n",
      "torch.Size([128, 2, 2])"
     ]
    },
    {
     "name": "stderr",
     "output_type": "stream",
     "text": [
      "\r",
      " 40%|████████████████████████████████▍                                                | 90/225 [00:08<00:12, 10.67it/s]"
     ]
    },
    {
     "name": "stdout",
     "output_type": "stream",
     "text": [
      "\n",
      "torch.Size([128, 2, 2])\n",
      "torch.Size([128, 2, 2])\n",
      "torch.Size([128, 2, 2])\n",
      "torch.Size([128, 2, 2])\n"
     ]
    },
    {
     "name": "stderr",
     "output_type": "stream",
     "text": [
      " 42%|█████████████████████████████████▊                                               | 94/225 [00:08<00:12, 10.79it/s]"
     ]
    },
    {
     "name": "stdout",
     "output_type": "stream",
     "text": [
      "torch.Size([128, 2, 2])\n",
      "torch.Size([128, 2, 2])\n",
      "torch.Size([128, 2, 2])\n",
      "torch.Size([128, 2, 2])\n",
      "torch.Size([128, 2, 2])"
     ]
    },
    {
     "name": "stderr",
     "output_type": "stream",
     "text": [
      "\r",
      " 43%|██████████████████████████████████▌                                              | 96/225 [00:08<00:11, 10.82it/s]"
     ]
    },
    {
     "name": "stdout",
     "output_type": "stream",
     "text": [
      "\n",
      "torch.Size([128, 2, 2])\n",
      "torch.Size([128, 2, 2])\n",
      "torch.Size([128, 2, 2])\n",
      "torch.Size([128, 2, 2])\n"
     ]
    },
    {
     "name": "stderr",
     "output_type": "stream",
     "text": [
      "\r",
      " 44%|███████████████████████████████████▎                                             | 98/225 [00:09<00:11, 10.74it/s]"
     ]
    },
    {
     "name": "stdout",
     "output_type": "stream",
     "text": [
      "torch.Size([128, 2, 2])\n",
      "torch.Size([128, 2, 2])\n",
      "torch.Size([128, 2, 2])\n",
      "torch.Size([128, 2, 2])\n",
      "torch.Size([128, 2, 2])"
     ]
    },
    {
     "name": "stderr",
     "output_type": "stream",
     "text": [
      "\r",
      " 44%|███████████████████████████████████▌                                            | 100/225 [00:09<00:11, 10.78it/s]"
     ]
    },
    {
     "name": "stdout",
     "output_type": "stream",
     "text": [
      "\n",
      "torch.Size([128, 2, 2])\n",
      "torch.Size([128, 2, 2])\n",
      "torch.Size([128, 2, 2])\n",
      "torch.Size([128, 2, 2])"
     ]
    },
    {
     "name": "stderr",
     "output_type": "stream",
     "text": [
      "\r",
      " 45%|████████████████████████████████████▎                                           | 102/225 [00:09<00:11, 10.86it/s]"
     ]
    },
    {
     "name": "stdout",
     "output_type": "stream",
     "text": [
      "\n",
      "torch.Size([128, 2, 2])\n",
      "torch.Size([128, 2, 2])\n",
      "torch.Size([128, 2, 2])\n",
      "torch.Size([128, 2, 2])\n"
     ]
    },
    {
     "name": "stderr",
     "output_type": "stream",
     "text": [
      "\r",
      " 46%|████████████████████████████████████▉                                           | 104/225 [00:09<00:11, 10.88it/s]"
     ]
    },
    {
     "name": "stdout",
     "output_type": "stream",
     "text": [
      "torch.Size([128, 2, 2])\n",
      "torch.Size([128, 2, 2])\n",
      "torch.Size([128, 2, 2])\n",
      "torch.Size([128, 2, 2])\n",
      "torch.Size([128, 2, 2])\n"
     ]
    },
    {
     "name": "stderr",
     "output_type": "stream",
     "text": [
      "\r",
      " 47%|█████████████████████████████████████▋                                          | 106/225 [00:09<00:10, 10.90it/s]"
     ]
    },
    {
     "name": "stdout",
     "output_type": "stream",
     "text": [
      "torch.Size([128, 2, 2])\n",
      "torch.Size([128, 2, 2])\n",
      "torch.Size([128, 2, 2])\n",
      "torch.Size([128, 2, 2])\n",
      "torch.Size([128, 2, 2])"
     ]
    },
    {
     "name": "stderr",
     "output_type": "stream",
     "text": [
      "\r",
      " 48%|██████████████████████████████████████▍                                         | 108/225 [00:10<00:10, 10.85it/s]"
     ]
    },
    {
     "name": "stdout",
     "output_type": "stream",
     "text": [
      "\n",
      "torch.Size([128, 2, 2])\n",
      "torch.Size([128, 2, 2])\n",
      "torch.Size([128, 2, 2])\n",
      "torch.Size([128, 2, 2])\n"
     ]
    },
    {
     "name": "stderr",
     "output_type": "stream",
     "text": [
      " 50%|███████████████████████████████████████▊                                        | 112/225 [00:10<00:10, 10.91it/s]"
     ]
    },
    {
     "name": "stdout",
     "output_type": "stream",
     "text": [
      "torch.Size([128, 2, 2])\n",
      "torch.Size([128, 2, 2])\n",
      "torch.Size([128, 2, 2])\n",
      "torch.Size([128, 2, 2])\n",
      "torch.Size([128, 2, 2])\n"
     ]
    },
    {
     "name": "stderr",
     "output_type": "stream",
     "text": [
      "\r",
      " 51%|████████████████████████████████████████▌                                       | 114/225 [00:10<00:10, 10.82it/s]"
     ]
    },
    {
     "name": "stdout",
     "output_type": "stream",
     "text": [
      "torch.Size([128, 2, 2])\n",
      "torch.Size([128, 2, 2])\n",
      "torch.Size([128, 2, 2])\n",
      "torch.Size([128, 2, 2])\n",
      "torch.Size([128, 2, 2])"
     ]
    },
    {
     "name": "stderr",
     "output_type": "stream",
     "text": [
      "\r",
      " 52%|█████████████████████████████████████████▏                                      | 116/225 [00:10<00:10, 10.86it/s]"
     ]
    },
    {
     "name": "stdout",
     "output_type": "stream",
     "text": [
      "\n",
      "torch.Size([128, 2, 2])\n",
      "torch.Size([128, 2, 2])\n",
      "torch.Size([128, 2, 2])\n",
      "torch.Size([128, 2, 2])"
     ]
    },
    {
     "name": "stderr",
     "output_type": "stream",
     "text": [
      "\r",
      " 52%|█████████████████████████████████████████▉                                      | 118/225 [00:10<00:09, 10.79it/s]"
     ]
    },
    {
     "name": "stdout",
     "output_type": "stream",
     "text": [
      "\n",
      "torch.Size([128, 2, 2])\n",
      "torch.Size([128, 2, 2])\n",
      "torch.Size([128, 2, 2])\n",
      "torch.Size([128, 2, 2])"
     ]
    },
    {
     "name": "stderr",
     "output_type": "stream",
     "text": [
      "\r",
      " 53%|██████████████████████████████████████████▋                                     | 120/225 [00:11<00:09, 10.78it/s]"
     ]
    },
    {
     "name": "stdout",
     "output_type": "stream",
     "text": [
      "\n",
      "torch.Size([128, 2, 2])\n",
      "torch.Size([128, 2, 2])\n",
      "torch.Size([128, 2, 2])\n",
      "torch.Size([128, 2, 2])"
     ]
    },
    {
     "name": "stderr",
     "output_type": "stream",
     "text": [
      "\r",
      " 54%|███████████████████████████████████████████▍                                    | 122/225 [00:11<00:09, 10.58it/s]"
     ]
    },
    {
     "name": "stdout",
     "output_type": "stream",
     "text": [
      "\n",
      "torch.Size([128, 2, 2])\n",
      "torch.Size([128, 2, 2])\n",
      "torch.Size([128, 2, 2])\n",
      "torch.Size([128, 2, 2])"
     ]
    },
    {
     "name": "stderr",
     "output_type": "stream",
     "text": [
      "\r",
      " 55%|████████████████████████████████████████████                                    | 124/225 [00:11<00:09, 10.70it/s]"
     ]
    },
    {
     "name": "stdout",
     "output_type": "stream",
     "text": [
      "\n",
      "torch.Size([128, 2, 2])\n",
      "torch.Size([128, 2, 2])\n",
      "torch.Size([128, 2, 2])\n",
      "torch.Size([128, 2, 2])"
     ]
    },
    {
     "name": "stderr",
     "output_type": "stream",
     "text": [
      "\r",
      " 56%|████████████████████████████████████████████▊                                   | 126/225 [00:11<00:09, 10.74it/s]"
     ]
    },
    {
     "name": "stdout",
     "output_type": "stream",
     "text": [
      "\n",
      "torch.Size([128, 2, 2])\n",
      "torch.Size([128, 2, 2])\n",
      "torch.Size([128, 2, 2])\n",
      "torch.Size([128, 2, 2])"
     ]
    },
    {
     "name": "stderr",
     "output_type": "stream",
     "text": [
      "\r",
      " 57%|█████████████████████████████████████████████▌                                  | 128/225 [00:11<00:09, 10.57it/s]"
     ]
    },
    {
     "name": "stdout",
     "output_type": "stream",
     "text": [
      "\n",
      "torch.Size([128, 2, 2])\n",
      "torch.Size([128, 2, 2])\n",
      "torch.Size([128, 2, 2])\n",
      "torch.Size([128, 2, 2])"
     ]
    },
    {
     "name": "stderr",
     "output_type": "stream",
     "text": [
      "\r",
      " 58%|██████████████████████████████████████████████▏                                 | 130/225 [00:12<00:08, 10.64it/s]"
     ]
    },
    {
     "name": "stdout",
     "output_type": "stream",
     "text": [
      "\n",
      "torch.Size([128, 2, 2])\n",
      "torch.Size([128, 2, 2])\n",
      "torch.Size([128, 2, 2])\n",
      "torch.Size([128, 2, 2])"
     ]
    },
    {
     "name": "stderr",
     "output_type": "stream",
     "text": [
      "\r",
      " 59%|██████████████████████████████████████████████▉                                 | 132/225 [00:12<00:08, 10.63it/s]"
     ]
    },
    {
     "name": "stdout",
     "output_type": "stream",
     "text": [
      "\n",
      "torch.Size([128, 2, 2])\n",
      "torch.Size([128, 2, 2])\n",
      "torch.Size([128, 2, 2])\n",
      "torch.Size([128, 2, 2])"
     ]
    },
    {
     "name": "stderr",
     "output_type": "stream",
     "text": [
      "\r",
      " 60%|███████████████████████████████████████████████▋                                | 134/225 [00:12<00:08, 10.74it/s]"
     ]
    },
    {
     "name": "stdout",
     "output_type": "stream",
     "text": [
      "\n",
      "torch.Size([128, 2, 2])\n",
      "torch.Size([128, 2, 2])\n",
      "torch.Size([128, 2, 2])\n",
      "torch.Size([128, 2, 2])"
     ]
    },
    {
     "name": "stderr",
     "output_type": "stream",
     "text": [
      "\r",
      " 60%|████████████████████████████████████████████████▎                               | 136/225 [00:12<00:08, 10.82it/s]"
     ]
    },
    {
     "name": "stdout",
     "output_type": "stream",
     "text": [
      "\n",
      "torch.Size([128, 2, 2])\n",
      "torch.Size([128, 2, 2])\n",
      "torch.Size([128, 2, 2])\n",
      "torch.Size([128, 2, 2])\n"
     ]
    },
    {
     "name": "stderr",
     "output_type": "stream",
     "text": [
      "\r",
      " 61%|█████████████████████████████████████████████████                               | 138/225 [00:12<00:08, 10.86it/s]"
     ]
    },
    {
     "name": "stdout",
     "output_type": "stream",
     "text": [
      "torch.Size([128, 2, 2])\n",
      "torch.Size([128, 2, 2])\n",
      "torch.Size([128, 2, 2])\n",
      "torch.Size([128, 2, 2])\n",
      "torch.Size([128, 2, 2])\n"
     ]
    },
    {
     "name": "stderr",
     "output_type": "stream",
     "text": [
      "\r",
      " 62%|█████████████████████████████████████████████████▊                              | 140/225 [00:13<00:07, 10.84it/s]"
     ]
    },
    {
     "name": "stdout",
     "output_type": "stream",
     "text": [
      "torch.Size([128, 2, 2])\n",
      "torch.Size([128, 2, 2])\n",
      "torch.Size([128, 2, 2])\n",
      "torch.Size([128, 2, 2])\n",
      "torch.Size([128, 2, 2])"
     ]
    },
    {
     "name": "stderr",
     "output_type": "stream",
     "text": [
      "\r",
      " 63%|██████████████████████████████████████████████████▍                             | 142/225 [00:13<00:07, 10.87it/s]"
     ]
    },
    {
     "name": "stdout",
     "output_type": "stream",
     "text": [
      "\n",
      "torch.Size([128, 2, 2])\n",
      "torch.Size([128, 2, 2])\n",
      "torch.Size([128, 2, 2])\n",
      "torch.Size([128, 2, 2])"
     ]
    },
    {
     "name": "stderr",
     "output_type": "stream",
     "text": [
      "\r",
      " 64%|███████████████████████████████████████████████████▏                            | 144/225 [00:13<00:07, 10.59it/s]"
     ]
    },
    {
     "name": "stdout",
     "output_type": "stream",
     "text": [
      "\n",
      "torch.Size([128, 2, 2])\n",
      "torch.Size([128, 2, 2])\n",
      "torch.Size([128, 2, 2])\n",
      "torch.Size([128, 2, 2])\n"
     ]
    },
    {
     "name": "stderr",
     "output_type": "stream",
     "text": [
      "\r",
      " 65%|███████████████████████████████████████████████████▉                            | 146/225 [00:13<00:07, 10.42it/s]"
     ]
    },
    {
     "name": "stdout",
     "output_type": "stream",
     "text": [
      "torch.Size([128, 2, 2])\n",
      "torch.Size([128, 2, 2])\n",
      "torch.Size([128, 2, 2])\n",
      "torch.Size([128, 2, 2])\n"
     ]
    },
    {
     "name": "stderr",
     "output_type": "stream",
     "text": [
      "\r",
      " 66%|████████████████████████████████████████████████████▌                           | 148/225 [00:13<00:07, 10.08it/s]"
     ]
    },
    {
     "name": "stdout",
     "output_type": "stream",
     "text": [
      "torch.Size([128, 2, 2])\n",
      "torch.Size([128, 2, 2])\n",
      "torch.Size([128, 2, 2])\n",
      "torch.Size([128, 2, 2])\n"
     ]
    },
    {
     "name": "stderr",
     "output_type": "stream",
     "text": [
      " 68%|██████████████████████████████████████████████████████                          | 152/225 [00:14<00:07, 10.07it/s]"
     ]
    },
    {
     "name": "stdout",
     "output_type": "stream",
     "text": [
      "torch.Size([128, 2, 2])\n",
      "torch.Size([128, 2, 2])\n",
      "torch.Size([128, 2, 2])\n",
      "torch.Size([128, 2, 2])\n"
     ]
    },
    {
     "name": "stderr",
     "output_type": "stream",
     "text": [
      "\r",
      " 68%|██████████████████████████████████████████████████████▊                         | 154/225 [00:14<00:06, 10.26it/s]"
     ]
    },
    {
     "name": "stdout",
     "output_type": "stream",
     "text": [
      "torch.Size([128, 2, 2])\n",
      "torch.Size([128, 2, 2])\n",
      "torch.Size([128, 2, 2])\n",
      "torch.Size([128, 2, 2])\n",
      "torch.Size([128, 2, 2])\n",
      "torch.Size([128, 2, 2])\n",
      "torch.Size([128, 2, 2])\n",
      "torch.Size([128, 2, 2])\n"
     ]
    },
    {
     "name": "stderr",
     "output_type": "stream",
     "text": [
      "\r",
      " 69%|███████████████████████████████████████████████████████▍                        | 156/225 [00:14<00:06, 10.20it/s]"
     ]
    },
    {
     "name": "stdout",
     "output_type": "stream",
     "text": [
      "torch.Size([128, 2, 2])\n",
      "torch.Size([128, 2, 2])\n",
      "torch.Size([128, 2, 2])\n",
      "torch.Size([128, 2, 2])"
     ]
    },
    {
     "name": "stderr",
     "output_type": "stream",
     "text": [
      "\r",
      " 70%|████████████████████████████████████████████████████████▏                       | 158/225 [00:14<00:07,  9.57it/s]"
     ]
    },
    {
     "name": "stdout",
     "output_type": "stream",
     "text": [
      "\n",
      "torch.Size([128, 2, 2])\n",
      "torch.Size([128, 2, 2])\n",
      "torch.Size([128, 2, 2])\n"
     ]
    },
    {
     "name": "stderr",
     "output_type": "stream",
     "text": [
      " 72%|█████████████████████████████████████████████████████████▏                      | 161/225 [00:15<00:06,  9.78it/s]"
     ]
    },
    {
     "name": "stdout",
     "output_type": "stream",
     "text": [
      "torch.Size([128, 2, 2])\n",
      "torch.Size([128, 2, 2])\n",
      "torch.Size([128, 2, 2])\n",
      "torch.Size([128, 2, 2])\n",
      "torch.Size([128, 2, 2])"
     ]
    },
    {
     "name": "stderr",
     "output_type": "stream",
     "text": [
      "\r",
      " 72%|█████████████████████████████████████████████████████████▌                      | 162/225 [00:15<00:06,  9.59it/s]"
     ]
    },
    {
     "name": "stdout",
     "output_type": "stream",
     "text": [
      "\n",
      "torch.Size([128, 2, 2])\n",
      "torch.Size([128, 2, 2])\n",
      "torch.Size([128, 2, 2])\n",
      "torch.Size([128, 2, 2])"
     ]
    },
    {
     "name": "stderr",
     "output_type": "stream",
     "text": [
      "\r",
      " 73%|██████████████████████████████████████████████████████████▎                     | 164/225 [00:15<00:06,  9.96it/s]"
     ]
    },
    {
     "name": "stdout",
     "output_type": "stream",
     "text": [
      "\n",
      "torch.Size([128, 2, 2])\n",
      "torch.Size([128, 2, 2])\n",
      "torch.Size([128, 2, 2])\n",
      "torch.Size([128, 2, 2])"
     ]
    },
    {
     "name": "stderr",
     "output_type": "stream",
     "text": [
      "\r",
      " 74%|███████████████████████████████████████████████████████████                     | 166/225 [00:15<00:05, 10.16it/s]"
     ]
    },
    {
     "name": "stdout",
     "output_type": "stream",
     "text": [
      "\n",
      "torch.Size([128, 2, 2])\n",
      "torch.Size([128, 2, 2])\n",
      "torch.Size([128, 2, 2])\n",
      "torch.Size([128, 2, 2])"
     ]
    },
    {
     "name": "stderr",
     "output_type": "stream",
     "text": [
      "\r",
      " 75%|███████████████████████████████████████████████████████████▋                    | 168/225 [00:15<00:05, 10.06it/s]"
     ]
    },
    {
     "name": "stdout",
     "output_type": "stream",
     "text": [
      "\n",
      "torch.Size([128, 2, 2])\n",
      "torch.Size([128, 2, 2])\n",
      "torch.Size([128, 2, 2])\n"
     ]
    },
    {
     "name": "stderr",
     "output_type": "stream",
     "text": [
      "\r",
      " 76%|████████████████████████████████████████████████████████████▍                   | 170/225 [00:16<00:05, 10.02it/s]"
     ]
    },
    {
     "name": "stdout",
     "output_type": "stream",
     "text": [
      "torch.Size([128, 2, 2])\n",
      "torch.Size([128, 2, 2])\n",
      "torch.Size([128, 2, 2])\n",
      "torch.Size([128, 2, 2])\n",
      "torch.Size([128, 2, 2])"
     ]
    },
    {
     "name": "stderr",
     "output_type": "stream",
     "text": [
      "\r",
      " 76%|█████████████████████████████████████████████████████████████▏                  | 172/225 [00:16<00:05, 10.14it/s]"
     ]
    },
    {
     "name": "stdout",
     "output_type": "stream",
     "text": [
      "\n",
      "torch.Size([128, 2, 2])\n",
      "torch.Size([128, 2, 2])\n",
      "torch.Size([128, 2, 2])\n",
      "torch.Size([128, 2, 2])"
     ]
    },
    {
     "name": "stderr",
     "output_type": "stream",
     "text": [
      "\r",
      " 77%|█████████████████████████████████████████████████████████████▊                  | 174/225 [00:16<00:05, 10.07it/s]"
     ]
    },
    {
     "name": "stdout",
     "output_type": "stream",
     "text": [
      "\n",
      "torch.Size([128, 2, 2])\n",
      "torch.Size([128, 2, 2])\n",
      "torch.Size([128, 2, 2])\n"
     ]
    },
    {
     "name": "stderr",
     "output_type": "stream",
     "text": [
      "\r",
      " 78%|██████████████████████████████████████████████████████████████▌                 | 176/225 [00:16<00:04,  9.92it/s]"
     ]
    },
    {
     "name": "stdout",
     "output_type": "stream",
     "text": [
      "torch.Size([128, 2, 2])\n",
      "torch.Size([128, 2, 2])\n",
      "torch.Size([128, 2, 2])\n",
      "torch.Size([128, 2, 2])\n",
      "torch.Size([128, 2, 2])"
     ]
    },
    {
     "name": "stderr",
     "output_type": "stream",
     "text": [
      "\r",
      " 79%|███████████████████████████████████████████████████████████████▎                | 178/225 [00:16<00:04, 10.13it/s]"
     ]
    },
    {
     "name": "stdout",
     "output_type": "stream",
     "text": [
      "\n",
      "torch.Size([128, 2, 2])\n",
      "torch.Size([128, 2, 2])\n",
      "torch.Size([128, 2, 2])\n",
      "torch.Size([128, 2, 2])"
     ]
    },
    {
     "name": "stderr",
     "output_type": "stream",
     "text": [
      "\r",
      " 80%|████████████████████████████████████████████████████████████████                | 180/225 [00:17<00:04, 10.00it/s]"
     ]
    },
    {
     "name": "stdout",
     "output_type": "stream",
     "text": [
      "\n",
      "torch.Size([128, 2, 2])\n",
      "torch.Size([128, 2, 2])\n",
      "torch.Size([128, 2, 2])\n",
      "torch.Size([128, 2, 2])"
     ]
    },
    {
     "name": "stderr",
     "output_type": "stream",
     "text": [
      "\r",
      " 81%|████████████████████████████████████████████████████████████████▋               | 182/225 [00:17<00:04, 10.26it/s]"
     ]
    },
    {
     "name": "stdout",
     "output_type": "stream",
     "text": [
      "\n",
      "torch.Size([128, 2, 2])\n",
      "torch.Size([128, 2, 2])\n",
      "torch.Size([128, 2, 2])\n",
      "torch.Size([128, 2, 2])\n"
     ]
    },
    {
     "name": "stderr",
     "output_type": "stream",
     "text": [
      " 83%|██████████████████████████████████████████████████████████████████▏             | 186/225 [00:17<00:03, 10.60it/s]"
     ]
    },
    {
     "name": "stdout",
     "output_type": "stream",
     "text": [
      "torch.Size([128, 2, 2])\n",
      "torch.Size([128, 2, 2])\n",
      "torch.Size([128, 2, 2])\n",
      "torch.Size([128, 2, 2])\n",
      "torch.Size([128, 2, 2])"
     ]
    },
    {
     "name": "stderr",
     "output_type": "stream",
     "text": [
      "\r",
      " 84%|██████████████████████████████████████████████████████████████████▊             | 188/225 [00:17<00:03, 10.72it/s]"
     ]
    },
    {
     "name": "stdout",
     "output_type": "stream",
     "text": [
      "\n",
      "torch.Size([128, 2, 2])\n",
      "torch.Size([128, 2, 2])\n",
      "torch.Size([128, 2, 2])\n",
      "torch.Size([128, 2, 2])\n"
     ]
    },
    {
     "name": "stderr",
     "output_type": "stream",
     "text": [
      "\r",
      " 84%|███████████████████████████████████████████████████████████████████▌            | 190/225 [00:17<00:03, 10.78it/s]"
     ]
    },
    {
     "name": "stdout",
     "output_type": "stream",
     "text": [
      "torch.Size([128, 2, 2])\n",
      "torch.Size([128, 2, 2])\n",
      "torch.Size([128, 2, 2])\n",
      "torch.Size([128, 2, 2])\n",
      "torch.Size([128, 2, 2])\n"
     ]
    },
    {
     "name": "stderr",
     "output_type": "stream",
     "text": [
      "\r",
      " 85%|████████████████████████████████████████████████████████████████████▎           | 192/225 [00:18<00:03, 10.82it/s]"
     ]
    },
    {
     "name": "stdout",
     "output_type": "stream",
     "text": [
      "torch.Size([128, 2, 2])\n",
      "torch.Size([128, 2, 2])\n",
      "torch.Size([128, 2, 2])\n",
      "torch.Size([128, 2, 2])\n",
      "torch.Size([128, 2, 2])\n"
     ]
    },
    {
     "name": "stderr",
     "output_type": "stream",
     "text": [
      "\r",
      " 86%|████████████████████████████████████████████████████████████████████▉           | 194/225 [00:18<00:02, 10.86it/s]"
     ]
    },
    {
     "name": "stdout",
     "output_type": "stream",
     "text": [
      "torch.Size([128, 2, 2])\n",
      "torch.Size([128, 2, 2])\n",
      "torch.Size([128, 2, 2])\n",
      "torch.Size([128, 2, 2])\n",
      "torch.Size([128, 2, 2])"
     ]
    },
    {
     "name": "stderr",
     "output_type": "stream",
     "text": [
      "\r",
      " 87%|█████████████████████████████████████████████████████████████████████▋          | 196/225 [00:18<00:02, 10.77it/s]"
     ]
    },
    {
     "name": "stdout",
     "output_type": "stream",
     "text": [
      "\n",
      "torch.Size([128, 2, 2])\n",
      "torch.Size([128, 2, 2])\n",
      "torch.Size([128, 2, 2])\n",
      "torch.Size([128, 2, 2])"
     ]
    },
    {
     "name": "stderr",
     "output_type": "stream",
     "text": [
      "\r",
      " 88%|██████████████████████████████████████████████████████████████████████▍         | 198/225 [00:18<00:02, 10.73it/s]"
     ]
    },
    {
     "name": "stdout",
     "output_type": "stream",
     "text": [
      "\n",
      "torch.Size([128, 2, 2])\n",
      "torch.Size([128, 2, 2])\n",
      "torch.Size([128, 2, 2])\n",
      "torch.Size([128, 2, 2])"
     ]
    },
    {
     "name": "stderr",
     "output_type": "stream",
     "text": [
      "\r",
      " 89%|███████████████████████████████████████████████████████████████████████         | 200/225 [00:18<00:02, 10.78it/s]"
     ]
    },
    {
     "name": "stdout",
     "output_type": "stream",
     "text": [
      "\n",
      "torch.Size([128, 2, 2])\n",
      "torch.Size([128, 2, 2])\n",
      "torch.Size([128, 2, 2])\n",
      "torch.Size([128, 2, 2])"
     ]
    },
    {
     "name": "stderr",
     "output_type": "stream",
     "text": [
      "\r",
      " 90%|███████████████████████████████████████████████████████████████████████▊        | 202/225 [00:19<00:02, 10.66it/s]"
     ]
    },
    {
     "name": "stdout",
     "output_type": "stream",
     "text": [
      "\n",
      "torch.Size([128, 2, 2])\n",
      "torch.Size([128, 2, 2])\n",
      "torch.Size([128, 2, 2])\n",
      "torch.Size([128, 2, 2])"
     ]
    },
    {
     "name": "stderr",
     "output_type": "stream",
     "text": [
      "\r",
      " 91%|████████████████████████████████████████████████████████████████████████▌       | 204/225 [00:19<00:01, 10.69it/s]"
     ]
    },
    {
     "name": "stdout",
     "output_type": "stream",
     "text": [
      "\n",
      "torch.Size([128, 2, 2])\n",
      "torch.Size([128, 2, 2])\n",
      "torch.Size([128, 2, 2])\n",
      "torch.Size([128, 2, 2])"
     ]
    },
    {
     "name": "stderr",
     "output_type": "stream",
     "text": [
      "\r",
      " 92%|█████████████████████████████████████████████████████████████████████████▏      | 206/225 [00:19<00:01, 10.70it/s]"
     ]
    },
    {
     "name": "stdout",
     "output_type": "stream",
     "text": [
      "\n",
      "torch.Size([128, 2, 2])\n",
      "torch.Size([128, 2, 2])\n",
      "torch.Size([128, 2, 2])\n",
      "torch.Size([128, 2, 2])"
     ]
    },
    {
     "name": "stderr",
     "output_type": "stream",
     "text": [
      "\r",
      " 92%|█████████████████████████████████████████████████████████████████████████▉      | 208/225 [00:19<00:01, 10.55it/s]"
     ]
    },
    {
     "name": "stdout",
     "output_type": "stream",
     "text": [
      "\n",
      "torch.Size([128, 2, 2])\n",
      "torch.Size([128, 2, 2])\n",
      "torch.Size([128, 2, 2])\n",
      "torch.Size([128, 2, 2])"
     ]
    },
    {
     "name": "stderr",
     "output_type": "stream",
     "text": [
      "\r",
      " 93%|██████████████████████████████████████████████████████████████████████████▋     | 210/225 [00:19<00:01, 10.53it/s]"
     ]
    },
    {
     "name": "stdout",
     "output_type": "stream",
     "text": [
      "\n",
      "torch.Size([128, 2, 2])\n",
      "torch.Size([128, 2, 2])\n",
      "torch.Size([128, 2, 2])\n",
      "torch.Size([128, 2, 2])\n"
     ]
    },
    {
     "name": "stderr",
     "output_type": "stream",
     "text": [
      " 95%|████████████████████████████████████████████████████████████████████████████    | 214/225 [00:20<00:01, 10.72it/s]"
     ]
    },
    {
     "name": "stdout",
     "output_type": "stream",
     "text": [
      "torch.Size([128, 2, 2])\n",
      "torch.Size([128, 2, 2])\n",
      "torch.Size([128, 2, 2])\n",
      "torch.Size([128, 2, 2])\n",
      "torch.Size([128, 2, 2])"
     ]
    },
    {
     "name": "stderr",
     "output_type": "stream",
     "text": [
      "\r",
      " 96%|████████████████████████████████████████████████████████████████████████████▊   | 216/225 [00:20<00:00, 10.80it/s]"
     ]
    },
    {
     "name": "stdout",
     "output_type": "stream",
     "text": [
      "\n",
      "torch.Size([128, 2, 2])\n",
      "torch.Size([128, 2, 2])\n",
      "torch.Size([128, 2, 2])\n",
      "torch.Size([128, 2, 2])\n"
     ]
    },
    {
     "name": "stderr",
     "output_type": "stream",
     "text": [
      "\r",
      " 97%|█████████████████████████████████████████████████████████████████████████████▌  | 218/225 [00:20<00:00, 10.83it/s]"
     ]
    },
    {
     "name": "stdout",
     "output_type": "stream",
     "text": [
      "torch.Size([128, 2, 2])\n",
      "torch.Size([128, 2, 2])\n",
      "torch.Size([128, 2, 2])\n",
      "torch.Size([128, 2, 2])\n",
      "torch.Size([128, 2, 2])"
     ]
    },
    {
     "name": "stderr",
     "output_type": "stream",
     "text": [
      "\r",
      " 98%|██████████████████████████████████████████████████████████████████████████████▏ | 220/225 [00:20<00:00, 10.67it/s]"
     ]
    },
    {
     "name": "stdout",
     "output_type": "stream",
     "text": [
      "\n",
      "torch.Size([128, 2, 2])\n",
      "torch.Size([128, 2, 2])\n",
      "torch.Size([128, 2, 2])\n",
      "torch.Size([128, 2, 2])"
     ]
    },
    {
     "name": "stderr",
     "output_type": "stream",
     "text": [
      "\r",
      " 99%|██████████████████████████████████████████████████████████████████████████████▉ | 222/225 [00:20<00:00, 10.75it/s]"
     ]
    },
    {
     "name": "stdout",
     "output_type": "stream",
     "text": [
      "\n",
      "torch.Size([128, 2, 2])\n",
      "torch.Size([128, 2, 2])\n",
      "torch.Size([128, 2, 2])\n",
      "torch.Size([128, 2, 2])\n"
     ]
    },
    {
     "name": "stderr",
     "output_type": "stream",
     "text": [
      "100%|████████████████████████████████████████████████████████████████████████████████| 225/225 [00:21<00:00, 10.63it/s]"
     ]
    },
    {
     "name": "stdout",
     "output_type": "stream",
     "text": [
      "torch.Size([128, 2, 2])\n",
      "torch.Size([128, 2, 2])\n",
      "torch.Size([128, 2, 2])\n",
      "torch.Size([128, 2, 2])\n"
     ]
    },
    {
     "name": "stderr",
     "output_type": "stream",
     "text": [
      "\n"
     ]
    }
   ],
   "source": [
    "import time\n",
    "\n",
    "os.chdir(\"C:\\\\Users\\\\Kycool13\\\\Documents\\\\Github\\\\Sentdex\")\n",
    "\n",
    "MODEL_NAME = f\"model-{int(time.time())}\"\n",
    "\n",
    "net = Net().to(device)\n",
    "\n",
    "optimizer = optim.Adam(net.parameters(), lr = 0.001)\n",
    "loss_function = nn.MSELoss()\n",
    "\n",
    "print(MODEL_NAME)\n",
    "\n",
    "def train():\n",
    "    BATCH_SIZE = 100\n",
    "    EPOCHS = 8\n",
    "    with open(\"model.log\", \"a\") as f:\n",
    "        for epoch in range(EPOCHS):\n",
    "            for i in tqdm(range(0, len(train_X), BATCH_SIZE)):\n",
    "                batch_X = train_X[i:i+BATCH_SIZE].view(-1,1,50,50).to(device)\n",
    "                batch_y = train_y[i:i+BATCH_SIZE].to(device)\n",
    "                \n",
    "                acc, loss = fwd_pass(batch_X, batch_y, train= True)\n",
    "                if i % 50 ==0:\n",
    "                    val_acc, val_loss = test(100)\n",
    "                    f.write(f\"{MODEL_NAME}, {round(time.time(),3)}, {round(float(acc), 2)}, {round(float(loss), 2)}, {round(float(val_acc), 2)}, {round(float(val_loss), 2)}\\n\")\n",
    "                    \n",
    "\n",
    "train()"
   ]
  },
  {
   "cell_type": "code",
   "execution_count": 25,
   "metadata": {},
   "outputs": [
    {
     "data": {
      "application/javascript": [
       "/* Put everything inside the global mpl namespace */\n",
       "window.mpl = {};\n",
       "\n",
       "\n",
       "mpl.get_websocket_type = function() {\n",
       "    if (typeof(WebSocket) !== 'undefined') {\n",
       "        return WebSocket;\n",
       "    } else if (typeof(MozWebSocket) !== 'undefined') {\n",
       "        return MozWebSocket;\n",
       "    } else {\n",
       "        alert('Your browser does not have WebSocket support. ' +\n",
       "              'Please try Chrome, Safari or Firefox ≥ 6. ' +\n",
       "              'Firefox 4 and 5 are also supported but you ' +\n",
       "              'have to enable WebSockets in about:config.');\n",
       "    };\n",
       "}\n",
       "\n",
       "mpl.figure = function(figure_id, websocket, ondownload, parent_element) {\n",
       "    this.id = figure_id;\n",
       "\n",
       "    this.ws = websocket;\n",
       "\n",
       "    this.supports_binary = (this.ws.binaryType != undefined);\n",
       "\n",
       "    if (!this.supports_binary) {\n",
       "        var warnings = document.getElementById(\"mpl-warnings\");\n",
       "        if (warnings) {\n",
       "            warnings.style.display = 'block';\n",
       "            warnings.textContent = (\n",
       "                \"This browser does not support binary websocket messages. \" +\n",
       "                    \"Performance may be slow.\");\n",
       "        }\n",
       "    }\n",
       "\n",
       "    this.imageObj = new Image();\n",
       "\n",
       "    this.context = undefined;\n",
       "    this.message = undefined;\n",
       "    this.canvas = undefined;\n",
       "    this.rubberband_canvas = undefined;\n",
       "    this.rubberband_context = undefined;\n",
       "    this.format_dropdown = undefined;\n",
       "\n",
       "    this.image_mode = 'full';\n",
       "\n",
       "    this.root = $('<div/>');\n",
       "    this._root_extra_style(this.root)\n",
       "    this.root.attr('style', 'display: inline-block');\n",
       "\n",
       "    $(parent_element).append(this.root);\n",
       "\n",
       "    this._init_header(this);\n",
       "    this._init_canvas(this);\n",
       "    this._init_toolbar(this);\n",
       "\n",
       "    var fig = this;\n",
       "\n",
       "    this.waiting = false;\n",
       "\n",
       "    this.ws.onopen =  function () {\n",
       "            fig.send_message(\"supports_binary\", {value: fig.supports_binary});\n",
       "            fig.send_message(\"send_image_mode\", {});\n",
       "            if (mpl.ratio != 1) {\n",
       "                fig.send_message(\"set_dpi_ratio\", {'dpi_ratio': mpl.ratio});\n",
       "            }\n",
       "            fig.send_message(\"refresh\", {});\n",
       "        }\n",
       "\n",
       "    this.imageObj.onload = function() {\n",
       "            if (fig.image_mode == 'full') {\n",
       "                // Full images could contain transparency (where diff images\n",
       "                // almost always do), so we need to clear the canvas so that\n",
       "                // there is no ghosting.\n",
       "                fig.context.clearRect(0, 0, fig.canvas.width, fig.canvas.height);\n",
       "            }\n",
       "            fig.context.drawImage(fig.imageObj, 0, 0);\n",
       "        };\n",
       "\n",
       "    this.imageObj.onunload = function() {\n",
       "        fig.ws.close();\n",
       "    }\n",
       "\n",
       "    this.ws.onmessage = this._make_on_message_function(this);\n",
       "\n",
       "    this.ondownload = ondownload;\n",
       "}\n",
       "\n",
       "mpl.figure.prototype._init_header = function() {\n",
       "    var titlebar = $(\n",
       "        '<div class=\"ui-dialog-titlebar ui-widget-header ui-corner-all ' +\n",
       "        'ui-helper-clearfix\"/>');\n",
       "    var titletext = $(\n",
       "        '<div class=\"ui-dialog-title\" style=\"width: 100%; ' +\n",
       "        'text-align: center; padding: 3px;\"/>');\n",
       "    titlebar.append(titletext)\n",
       "    this.root.append(titlebar);\n",
       "    this.header = titletext[0];\n",
       "}\n",
       "\n",
       "\n",
       "\n",
       "mpl.figure.prototype._canvas_extra_style = function(canvas_div) {\n",
       "\n",
       "}\n",
       "\n",
       "\n",
       "mpl.figure.prototype._root_extra_style = function(canvas_div) {\n",
       "\n",
       "}\n",
       "\n",
       "mpl.figure.prototype._init_canvas = function() {\n",
       "    var fig = this;\n",
       "\n",
       "    var canvas_div = $('<div/>');\n",
       "\n",
       "    canvas_div.attr('style', 'position: relative; clear: both; outline: 0');\n",
       "\n",
       "    function canvas_keyboard_event(event) {\n",
       "        return fig.key_event(event, event['data']);\n",
       "    }\n",
       "\n",
       "    canvas_div.keydown('key_press', canvas_keyboard_event);\n",
       "    canvas_div.keyup('key_release', canvas_keyboard_event);\n",
       "    this.canvas_div = canvas_div\n",
       "    this._canvas_extra_style(canvas_div)\n",
       "    this.root.append(canvas_div);\n",
       "\n",
       "    var canvas = $('<canvas/>');\n",
       "    canvas.addClass('mpl-canvas');\n",
       "    canvas.attr('style', \"left: 0; top: 0; z-index: 0; outline: 0\")\n",
       "\n",
       "    this.canvas = canvas[0];\n",
       "    this.context = canvas[0].getContext(\"2d\");\n",
       "\n",
       "    var backingStore = this.context.backingStorePixelRatio ||\n",
       "\tthis.context.webkitBackingStorePixelRatio ||\n",
       "\tthis.context.mozBackingStorePixelRatio ||\n",
       "\tthis.context.msBackingStorePixelRatio ||\n",
       "\tthis.context.oBackingStorePixelRatio ||\n",
       "\tthis.context.backingStorePixelRatio || 1;\n",
       "\n",
       "    mpl.ratio = (window.devicePixelRatio || 1) / backingStore;\n",
       "\n",
       "    var rubberband = $('<canvas/>');\n",
       "    rubberband.attr('style', \"position: absolute; left: 0; top: 0; z-index: 1;\")\n",
       "\n",
       "    var pass_mouse_events = true;\n",
       "\n",
       "    canvas_div.resizable({\n",
       "        start: function(event, ui) {\n",
       "            pass_mouse_events = false;\n",
       "        },\n",
       "        resize: function(event, ui) {\n",
       "            fig.request_resize(ui.size.width, ui.size.height);\n",
       "        },\n",
       "        stop: function(event, ui) {\n",
       "            pass_mouse_events = true;\n",
       "            fig.request_resize(ui.size.width, ui.size.height);\n",
       "        },\n",
       "    });\n",
       "\n",
       "    function mouse_event_fn(event) {\n",
       "        if (pass_mouse_events)\n",
       "            return fig.mouse_event(event, event['data']);\n",
       "    }\n",
       "\n",
       "    rubberband.mousedown('button_press', mouse_event_fn);\n",
       "    rubberband.mouseup('button_release', mouse_event_fn);\n",
       "    // Throttle sequential mouse events to 1 every 20ms.\n",
       "    rubberband.mousemove('motion_notify', mouse_event_fn);\n",
       "\n",
       "    rubberband.mouseenter('figure_enter', mouse_event_fn);\n",
       "    rubberband.mouseleave('figure_leave', mouse_event_fn);\n",
       "\n",
       "    canvas_div.on(\"wheel\", function (event) {\n",
       "        event = event.originalEvent;\n",
       "        event['data'] = 'scroll'\n",
       "        if (event.deltaY < 0) {\n",
       "            event.step = 1;\n",
       "        } else {\n",
       "            event.step = -1;\n",
       "        }\n",
       "        mouse_event_fn(event);\n",
       "    });\n",
       "\n",
       "    canvas_div.append(canvas);\n",
       "    canvas_div.append(rubberband);\n",
       "\n",
       "    this.rubberband = rubberband;\n",
       "    this.rubberband_canvas = rubberband[0];\n",
       "    this.rubberband_context = rubberband[0].getContext(\"2d\");\n",
       "    this.rubberband_context.strokeStyle = \"#000000\";\n",
       "\n",
       "    this._resize_canvas = function(width, height) {\n",
       "        // Keep the size of the canvas, canvas container, and rubber band\n",
       "        // canvas in synch.\n",
       "        canvas_div.css('width', width)\n",
       "        canvas_div.css('height', height)\n",
       "\n",
       "        canvas.attr('width', width * mpl.ratio);\n",
       "        canvas.attr('height', height * mpl.ratio);\n",
       "        canvas.attr('style', 'width: ' + width + 'px; height: ' + height + 'px;');\n",
       "\n",
       "        rubberband.attr('width', width);\n",
       "        rubberband.attr('height', height);\n",
       "    }\n",
       "\n",
       "    // Set the figure to an initial 600x600px, this will subsequently be updated\n",
       "    // upon first draw.\n",
       "    this._resize_canvas(600, 600);\n",
       "\n",
       "    // Disable right mouse context menu.\n",
       "    $(this.rubberband_canvas).bind(\"contextmenu\",function(e){\n",
       "        return false;\n",
       "    });\n",
       "\n",
       "    function set_focus () {\n",
       "        canvas.focus();\n",
       "        canvas_div.focus();\n",
       "    }\n",
       "\n",
       "    window.setTimeout(set_focus, 100);\n",
       "}\n",
       "\n",
       "mpl.figure.prototype._init_toolbar = function() {\n",
       "    var fig = this;\n",
       "\n",
       "    var nav_element = $('<div/>');\n",
       "    nav_element.attr('style', 'width: 100%');\n",
       "    this.root.append(nav_element);\n",
       "\n",
       "    // Define a callback function for later on.\n",
       "    function toolbar_event(event) {\n",
       "        return fig.toolbar_button_onclick(event['data']);\n",
       "    }\n",
       "    function toolbar_mouse_event(event) {\n",
       "        return fig.toolbar_button_onmouseover(event['data']);\n",
       "    }\n",
       "\n",
       "    for(var toolbar_ind in mpl.toolbar_items) {\n",
       "        var name = mpl.toolbar_items[toolbar_ind][0];\n",
       "        var tooltip = mpl.toolbar_items[toolbar_ind][1];\n",
       "        var image = mpl.toolbar_items[toolbar_ind][2];\n",
       "        var method_name = mpl.toolbar_items[toolbar_ind][3];\n",
       "\n",
       "        if (!name) {\n",
       "            // put a spacer in here.\n",
       "            continue;\n",
       "        }\n",
       "        var button = $('<button/>');\n",
       "        button.addClass('ui-button ui-widget ui-state-default ui-corner-all ' +\n",
       "                        'ui-button-icon-only');\n",
       "        button.attr('role', 'button');\n",
       "        button.attr('aria-disabled', 'false');\n",
       "        button.click(method_name, toolbar_event);\n",
       "        button.mouseover(tooltip, toolbar_mouse_event);\n",
       "\n",
       "        var icon_img = $('<span/>');\n",
       "        icon_img.addClass('ui-button-icon-primary ui-icon');\n",
       "        icon_img.addClass(image);\n",
       "        icon_img.addClass('ui-corner-all');\n",
       "\n",
       "        var tooltip_span = $('<span/>');\n",
       "        tooltip_span.addClass('ui-button-text');\n",
       "        tooltip_span.html(tooltip);\n",
       "\n",
       "        button.append(icon_img);\n",
       "        button.append(tooltip_span);\n",
       "\n",
       "        nav_element.append(button);\n",
       "    }\n",
       "\n",
       "    var fmt_picker_span = $('<span/>');\n",
       "\n",
       "    var fmt_picker = $('<select/>');\n",
       "    fmt_picker.addClass('mpl-toolbar-option ui-widget ui-widget-content');\n",
       "    fmt_picker_span.append(fmt_picker);\n",
       "    nav_element.append(fmt_picker_span);\n",
       "    this.format_dropdown = fmt_picker[0];\n",
       "\n",
       "    for (var ind in mpl.extensions) {\n",
       "        var fmt = mpl.extensions[ind];\n",
       "        var option = $(\n",
       "            '<option/>', {selected: fmt === mpl.default_extension}).html(fmt);\n",
       "        fmt_picker.append(option);\n",
       "    }\n",
       "\n",
       "    // Add hover states to the ui-buttons\n",
       "    $( \".ui-button\" ).hover(\n",
       "        function() { $(this).addClass(\"ui-state-hover\");},\n",
       "        function() { $(this).removeClass(\"ui-state-hover\");}\n",
       "    );\n",
       "\n",
       "    var status_bar = $('<span class=\"mpl-message\"/>');\n",
       "    nav_element.append(status_bar);\n",
       "    this.message = status_bar[0];\n",
       "}\n",
       "\n",
       "mpl.figure.prototype.request_resize = function(x_pixels, y_pixels) {\n",
       "    // Request matplotlib to resize the figure. Matplotlib will then trigger a resize in the client,\n",
       "    // which will in turn request a refresh of the image.\n",
       "    this.send_message('resize', {'width': x_pixels, 'height': y_pixels});\n",
       "}\n",
       "\n",
       "mpl.figure.prototype.send_message = function(type, properties) {\n",
       "    properties['type'] = type;\n",
       "    properties['figure_id'] = this.id;\n",
       "    this.ws.send(JSON.stringify(properties));\n",
       "}\n",
       "\n",
       "mpl.figure.prototype.send_draw_message = function() {\n",
       "    if (!this.waiting) {\n",
       "        this.waiting = true;\n",
       "        this.ws.send(JSON.stringify({type: \"draw\", figure_id: this.id}));\n",
       "    }\n",
       "}\n",
       "\n",
       "\n",
       "mpl.figure.prototype.handle_save = function(fig, msg) {\n",
       "    var format_dropdown = fig.format_dropdown;\n",
       "    var format = format_dropdown.options[format_dropdown.selectedIndex].value;\n",
       "    fig.ondownload(fig, format);\n",
       "}\n",
       "\n",
       "\n",
       "mpl.figure.prototype.handle_resize = function(fig, msg) {\n",
       "    var size = msg['size'];\n",
       "    if (size[0] != fig.canvas.width || size[1] != fig.canvas.height) {\n",
       "        fig._resize_canvas(size[0], size[1]);\n",
       "        fig.send_message(\"refresh\", {});\n",
       "    };\n",
       "}\n",
       "\n",
       "mpl.figure.prototype.handle_rubberband = function(fig, msg) {\n",
       "    var x0 = msg['x0'] / mpl.ratio;\n",
       "    var y0 = (fig.canvas.height - msg['y0']) / mpl.ratio;\n",
       "    var x1 = msg['x1'] / mpl.ratio;\n",
       "    var y1 = (fig.canvas.height - msg['y1']) / mpl.ratio;\n",
       "    x0 = Math.floor(x0) + 0.5;\n",
       "    y0 = Math.floor(y0) + 0.5;\n",
       "    x1 = Math.floor(x1) + 0.5;\n",
       "    y1 = Math.floor(y1) + 0.5;\n",
       "    var min_x = Math.min(x0, x1);\n",
       "    var min_y = Math.min(y0, y1);\n",
       "    var width = Math.abs(x1 - x0);\n",
       "    var height = Math.abs(y1 - y0);\n",
       "\n",
       "    fig.rubberband_context.clearRect(\n",
       "        0, 0, fig.canvas.width / mpl.ratio, fig.canvas.height / mpl.ratio);\n",
       "\n",
       "    fig.rubberband_context.strokeRect(min_x, min_y, width, height);\n",
       "}\n",
       "\n",
       "mpl.figure.prototype.handle_figure_label = function(fig, msg) {\n",
       "    // Updates the figure title.\n",
       "    fig.header.textContent = msg['label'];\n",
       "}\n",
       "\n",
       "mpl.figure.prototype.handle_cursor = function(fig, msg) {\n",
       "    var cursor = msg['cursor'];\n",
       "    switch(cursor)\n",
       "    {\n",
       "    case 0:\n",
       "        cursor = 'pointer';\n",
       "        break;\n",
       "    case 1:\n",
       "        cursor = 'default';\n",
       "        break;\n",
       "    case 2:\n",
       "        cursor = 'crosshair';\n",
       "        break;\n",
       "    case 3:\n",
       "        cursor = 'move';\n",
       "        break;\n",
       "    }\n",
       "    fig.rubberband_canvas.style.cursor = cursor;\n",
       "}\n",
       "\n",
       "mpl.figure.prototype.handle_message = function(fig, msg) {\n",
       "    fig.message.textContent = msg['message'];\n",
       "}\n",
       "\n",
       "mpl.figure.prototype.handle_draw = function(fig, msg) {\n",
       "    // Request the server to send over a new figure.\n",
       "    fig.send_draw_message();\n",
       "}\n",
       "\n",
       "mpl.figure.prototype.handle_image_mode = function(fig, msg) {\n",
       "    fig.image_mode = msg['mode'];\n",
       "}\n",
       "\n",
       "mpl.figure.prototype.updated_canvas_event = function() {\n",
       "    // Called whenever the canvas gets updated.\n",
       "    this.send_message(\"ack\", {});\n",
       "}\n",
       "\n",
       "// A function to construct a web socket function for onmessage handling.\n",
       "// Called in the figure constructor.\n",
       "mpl.figure.prototype._make_on_message_function = function(fig) {\n",
       "    return function socket_on_message(evt) {\n",
       "        if (evt.data instanceof Blob) {\n",
       "            /* FIXME: We get \"Resource interpreted as Image but\n",
       "             * transferred with MIME type text/plain:\" errors on\n",
       "             * Chrome.  But how to set the MIME type?  It doesn't seem\n",
       "             * to be part of the websocket stream */\n",
       "            evt.data.type = \"image/png\";\n",
       "\n",
       "            /* Free the memory for the previous frames */\n",
       "            if (fig.imageObj.src) {\n",
       "                (window.URL || window.webkitURL).revokeObjectURL(\n",
       "                    fig.imageObj.src);\n",
       "            }\n",
       "\n",
       "            fig.imageObj.src = (window.URL || window.webkitURL).createObjectURL(\n",
       "                evt.data);\n",
       "            fig.updated_canvas_event();\n",
       "            fig.waiting = false;\n",
       "            return;\n",
       "        }\n",
       "        else if (typeof evt.data === 'string' && evt.data.slice(0, 21) == \"data:image/png;base64\") {\n",
       "            fig.imageObj.src = evt.data;\n",
       "            fig.updated_canvas_event();\n",
       "            fig.waiting = false;\n",
       "            return;\n",
       "        }\n",
       "\n",
       "        var msg = JSON.parse(evt.data);\n",
       "        var msg_type = msg['type'];\n",
       "\n",
       "        // Call the  \"handle_{type}\" callback, which takes\n",
       "        // the figure and JSON message as its only arguments.\n",
       "        try {\n",
       "            var callback = fig[\"handle_\" + msg_type];\n",
       "        } catch (e) {\n",
       "            console.log(\"No handler for the '\" + msg_type + \"' message type: \", msg);\n",
       "            return;\n",
       "        }\n",
       "\n",
       "        if (callback) {\n",
       "            try {\n",
       "                // console.log(\"Handling '\" + msg_type + \"' message: \", msg);\n",
       "                callback(fig, msg);\n",
       "            } catch (e) {\n",
       "                console.log(\"Exception inside the 'handler_\" + msg_type + \"' callback:\", e, e.stack, msg);\n",
       "            }\n",
       "        }\n",
       "    };\n",
       "}\n",
       "\n",
       "// from http://stackoverflow.com/questions/1114465/getting-mouse-location-in-canvas\n",
       "mpl.findpos = function(e) {\n",
       "    //this section is from http://www.quirksmode.org/js/events_properties.html\n",
       "    var targ;\n",
       "    if (!e)\n",
       "        e = window.event;\n",
       "    if (e.target)\n",
       "        targ = e.target;\n",
       "    else if (e.srcElement)\n",
       "        targ = e.srcElement;\n",
       "    if (targ.nodeType == 3) // defeat Safari bug\n",
       "        targ = targ.parentNode;\n",
       "\n",
       "    // jQuery normalizes the pageX and pageY\n",
       "    // pageX,Y are the mouse positions relative to the document\n",
       "    // offset() returns the position of the element relative to the document\n",
       "    var x = e.pageX - $(targ).offset().left;\n",
       "    var y = e.pageY - $(targ).offset().top;\n",
       "\n",
       "    return {\"x\": x, \"y\": y};\n",
       "};\n",
       "\n",
       "/*\n",
       " * return a copy of an object with only non-object keys\n",
       " * we need this to avoid circular references\n",
       " * http://stackoverflow.com/a/24161582/3208463\n",
       " */\n",
       "function simpleKeys (original) {\n",
       "  return Object.keys(original).reduce(function (obj, key) {\n",
       "    if (typeof original[key] !== 'object')\n",
       "        obj[key] = original[key]\n",
       "    return obj;\n",
       "  }, {});\n",
       "}\n",
       "\n",
       "mpl.figure.prototype.mouse_event = function(event, name) {\n",
       "    var canvas_pos = mpl.findpos(event)\n",
       "\n",
       "    if (name === 'button_press')\n",
       "    {\n",
       "        this.canvas.focus();\n",
       "        this.canvas_div.focus();\n",
       "    }\n",
       "\n",
       "    var x = canvas_pos.x * mpl.ratio;\n",
       "    var y = canvas_pos.y * mpl.ratio;\n",
       "\n",
       "    this.send_message(name, {x: x, y: y, button: event.button,\n",
       "                             step: event.step,\n",
       "                             guiEvent: simpleKeys(event)});\n",
       "\n",
       "    /* This prevents the web browser from automatically changing to\n",
       "     * the text insertion cursor when the button is pressed.  We want\n",
       "     * to control all of the cursor setting manually through the\n",
       "     * 'cursor' event from matplotlib */\n",
       "    event.preventDefault();\n",
       "    return false;\n",
       "}\n",
       "\n",
       "mpl.figure.prototype._key_event_extra = function(event, name) {\n",
       "    // Handle any extra behaviour associated with a key event\n",
       "}\n",
       "\n",
       "mpl.figure.prototype.key_event = function(event, name) {\n",
       "\n",
       "    // Prevent repeat events\n",
       "    if (name == 'key_press')\n",
       "    {\n",
       "        if (event.which === this._key)\n",
       "            return;\n",
       "        else\n",
       "            this._key = event.which;\n",
       "    }\n",
       "    if (name == 'key_release')\n",
       "        this._key = null;\n",
       "\n",
       "    var value = '';\n",
       "    if (event.ctrlKey && event.which != 17)\n",
       "        value += \"ctrl+\";\n",
       "    if (event.altKey && event.which != 18)\n",
       "        value += \"alt+\";\n",
       "    if (event.shiftKey && event.which != 16)\n",
       "        value += \"shift+\";\n",
       "\n",
       "    value += 'k';\n",
       "    value += event.which.toString();\n",
       "\n",
       "    this._key_event_extra(event, name);\n",
       "\n",
       "    this.send_message(name, {key: value,\n",
       "                             guiEvent: simpleKeys(event)});\n",
       "    return false;\n",
       "}\n",
       "\n",
       "mpl.figure.prototype.toolbar_button_onclick = function(name) {\n",
       "    if (name == 'download') {\n",
       "        this.handle_save(this, null);\n",
       "    } else {\n",
       "        this.send_message(\"toolbar_button\", {name: name});\n",
       "    }\n",
       "};\n",
       "\n",
       "mpl.figure.prototype.toolbar_button_onmouseover = function(tooltip) {\n",
       "    this.message.textContent = tooltip;\n",
       "};\n",
       "mpl.toolbar_items = [[\"Home\", \"Reset original view\", \"fa fa-home icon-home\", \"home\"], [\"Back\", \"Back to previous view\", \"fa fa-arrow-left icon-arrow-left\", \"back\"], [\"Forward\", \"Forward to next view\", \"fa fa-arrow-right icon-arrow-right\", \"forward\"], [\"\", \"\", \"\", \"\"], [\"Pan\", \"Pan axes with left mouse, zoom with right\", \"fa fa-arrows icon-move\", \"pan\"], [\"Zoom\", \"Zoom to rectangle\", \"fa fa-square-o icon-check-empty\", \"zoom\"], [\"\", \"\", \"\", \"\"], [\"Download\", \"Download plot\", \"fa fa-floppy-o icon-save\", \"download\"]];\n",
       "\n",
       "mpl.extensions = [\"eps\", \"jpeg\", \"pdf\", \"png\", \"ps\", \"raw\", \"svg\", \"tif\"];\n",
       "\n",
       "mpl.default_extension = \"png\";var comm_websocket_adapter = function(comm) {\n",
       "    // Create a \"websocket\"-like object which calls the given IPython comm\n",
       "    // object with the appropriate methods. Currently this is a non binary\n",
       "    // socket, so there is still some room for performance tuning.\n",
       "    var ws = {};\n",
       "\n",
       "    ws.close = function() {\n",
       "        comm.close()\n",
       "    };\n",
       "    ws.send = function(m) {\n",
       "        //console.log('sending', m);\n",
       "        comm.send(m);\n",
       "    };\n",
       "    // Register the callback with on_msg.\n",
       "    comm.on_msg(function(msg) {\n",
       "        //console.log('receiving', msg['content']['data'], msg);\n",
       "        // Pass the mpl event to the overridden (by mpl) onmessage function.\n",
       "        ws.onmessage(msg['content']['data'])\n",
       "    });\n",
       "    return ws;\n",
       "}\n",
       "\n",
       "mpl.mpl_figure_comm = function(comm, msg) {\n",
       "    // This is the function which gets called when the mpl process\n",
       "    // starts-up an IPython Comm through the \"matplotlib\" channel.\n",
       "\n",
       "    var id = msg.content.data.id;\n",
       "    // Get hold of the div created by the display call when the Comm\n",
       "    // socket was opened in Python.\n",
       "    var element = $(\"#\" + id);\n",
       "    var ws_proxy = comm_websocket_adapter(comm)\n",
       "\n",
       "    function ondownload(figure, format) {\n",
       "        window.open(figure.imageObj.src);\n",
       "    }\n",
       "\n",
       "    var fig = new mpl.figure(id, ws_proxy,\n",
       "                           ondownload,\n",
       "                           element.get(0));\n",
       "\n",
       "    // Call onopen now - mpl needs it, as it is assuming we've passed it a real\n",
       "    // web socket which is closed, not our websocket->open comm proxy.\n",
       "    ws_proxy.onopen();\n",
       "\n",
       "    fig.parent_element = element.get(0);\n",
       "    fig.cell_info = mpl.find_output_cell(\"<div id='\" + id + \"'></div>\");\n",
       "    if (!fig.cell_info) {\n",
       "        console.error(\"Failed to find cell for figure\", id, fig);\n",
       "        return;\n",
       "    }\n",
       "\n",
       "    var output_index = fig.cell_info[2]\n",
       "    var cell = fig.cell_info[0];\n",
       "\n",
       "};\n",
       "\n",
       "mpl.figure.prototype.handle_close = function(fig, msg) {\n",
       "    var width = fig.canvas.width/mpl.ratio\n",
       "    fig.root.unbind('remove')\n",
       "\n",
       "    // Update the output cell to use the data from the current canvas.\n",
       "    fig.push_to_output();\n",
       "    var dataURL = fig.canvas.toDataURL();\n",
       "    // Re-enable the keyboard manager in IPython - without this line, in FF,\n",
       "    // the notebook keyboard shortcuts fail.\n",
       "    IPython.keyboard_manager.enable()\n",
       "    $(fig.parent_element).html('<img src=\"' + dataURL + '\" width=\"' + width + '\">');\n",
       "    fig.close_ws(fig, msg);\n",
       "}\n",
       "\n",
       "mpl.figure.prototype.close_ws = function(fig, msg){\n",
       "    fig.send_message('closing', msg);\n",
       "    // fig.ws.close()\n",
       "}\n",
       "\n",
       "mpl.figure.prototype.push_to_output = function(remove_interactive) {\n",
       "    // Turn the data on the canvas into data in the output cell.\n",
       "    var width = this.canvas.width/mpl.ratio\n",
       "    var dataURL = this.canvas.toDataURL();\n",
       "    this.cell_info[1]['text/html'] = '<img src=\"' + dataURL + '\" width=\"' + width + '\">';\n",
       "}\n",
       "\n",
       "mpl.figure.prototype.updated_canvas_event = function() {\n",
       "    // Tell IPython that the notebook contents must change.\n",
       "    IPython.notebook.set_dirty(true);\n",
       "    this.send_message(\"ack\", {});\n",
       "    var fig = this;\n",
       "    // Wait a second, then push the new image to the DOM so\n",
       "    // that it is saved nicely (might be nice to debounce this).\n",
       "    setTimeout(function () { fig.push_to_output() }, 1000);\n",
       "}\n",
       "\n",
       "mpl.figure.prototype._init_toolbar = function() {\n",
       "    var fig = this;\n",
       "\n",
       "    var nav_element = $('<div/>');\n",
       "    nav_element.attr('style', 'width: 100%');\n",
       "    this.root.append(nav_element);\n",
       "\n",
       "    // Define a callback function for later on.\n",
       "    function toolbar_event(event) {\n",
       "        return fig.toolbar_button_onclick(event['data']);\n",
       "    }\n",
       "    function toolbar_mouse_event(event) {\n",
       "        return fig.toolbar_button_onmouseover(event['data']);\n",
       "    }\n",
       "\n",
       "    for(var toolbar_ind in mpl.toolbar_items){\n",
       "        var name = mpl.toolbar_items[toolbar_ind][0];\n",
       "        var tooltip = mpl.toolbar_items[toolbar_ind][1];\n",
       "        var image = mpl.toolbar_items[toolbar_ind][2];\n",
       "        var method_name = mpl.toolbar_items[toolbar_ind][3];\n",
       "\n",
       "        if (!name) { continue; };\n",
       "\n",
       "        var button = $('<button class=\"btn btn-default\" href=\"#\" title=\"' + name + '\"><i class=\"fa ' + image + ' fa-lg\"></i></button>');\n",
       "        button.click(method_name, toolbar_event);\n",
       "        button.mouseover(tooltip, toolbar_mouse_event);\n",
       "        nav_element.append(button);\n",
       "    }\n",
       "\n",
       "    // Add the status bar.\n",
       "    var status_bar = $('<span class=\"mpl-message\" style=\"text-align:right; float: right;\"/>');\n",
       "    nav_element.append(status_bar);\n",
       "    this.message = status_bar[0];\n",
       "\n",
       "    // Add the close button to the window.\n",
       "    var buttongrp = $('<div class=\"btn-group inline pull-right\"></div>');\n",
       "    var button = $('<button class=\"btn btn-mini btn-primary\" href=\"#\" title=\"Stop Interaction\"><i class=\"fa fa-power-off icon-remove icon-large\"></i></button>');\n",
       "    button.click(function (evt) { fig.handle_close(fig, {}); } );\n",
       "    button.mouseover('Stop Interaction', toolbar_mouse_event);\n",
       "    buttongrp.append(button);\n",
       "    var titlebar = this.root.find($('.ui-dialog-titlebar'));\n",
       "    titlebar.prepend(buttongrp);\n",
       "}\n",
       "\n",
       "mpl.figure.prototype._root_extra_style = function(el){\n",
       "    var fig = this\n",
       "    el.on(\"remove\", function(){\n",
       "\tfig.close_ws(fig, {});\n",
       "    });\n",
       "}\n",
       "\n",
       "mpl.figure.prototype._canvas_extra_style = function(el){\n",
       "    // this is important to make the div 'focusable\n",
       "    el.attr('tabindex', 0)\n",
       "    // reach out to IPython and tell the keyboard manager to turn it's self\n",
       "    // off when our div gets focus\n",
       "\n",
       "    // location in version 3\n",
       "    if (IPython.notebook.keyboard_manager) {\n",
       "        IPython.notebook.keyboard_manager.register_events(el);\n",
       "    }\n",
       "    else {\n",
       "        // location in version 2\n",
       "        IPython.keyboard_manager.register_events(el);\n",
       "    }\n",
       "\n",
       "}\n",
       "\n",
       "mpl.figure.prototype._key_event_extra = function(event, name) {\n",
       "    var manager = IPython.notebook.keyboard_manager;\n",
       "    if (!manager)\n",
       "        manager = IPython.keyboard_manager;\n",
       "\n",
       "    // Check for shift+enter\n",
       "    if (event.shiftKey && event.which == 13) {\n",
       "        this.canvas_div.blur();\n",
       "        event.shiftKey = false;\n",
       "        // Send a \"J\" for go to next cell\n",
       "        event.which = 74;\n",
       "        event.keyCode = 74;\n",
       "        manager.command_mode();\n",
       "        manager.handle_keydown(event);\n",
       "    }\n",
       "}\n",
       "\n",
       "mpl.figure.prototype.handle_save = function(fig, msg) {\n",
       "    fig.ondownload(fig, null);\n",
       "}\n",
       "\n",
       "\n",
       "mpl.find_output_cell = function(html_output) {\n",
       "    // Return the cell and output element which can be found *uniquely* in the notebook.\n",
       "    // Note - this is a bit hacky, but it is done because the \"notebook_saving.Notebook\"\n",
       "    // IPython event is triggered only after the cells have been serialised, which for\n",
       "    // our purposes (turning an active figure into a static one), is too late.\n",
       "    var cells = IPython.notebook.get_cells();\n",
       "    var ncells = cells.length;\n",
       "    for (var i=0; i<ncells; i++) {\n",
       "        var cell = cells[i];\n",
       "        if (cell.cell_type === 'code'){\n",
       "            for (var j=0; j<cell.output_area.outputs.length; j++) {\n",
       "                var data = cell.output_area.outputs[j];\n",
       "                if (data.data) {\n",
       "                    // IPython >= 3 moved mimebundle to data attribute of output\n",
       "                    data = data.data;\n",
       "                }\n",
       "                if (data['text/html'] == html_output) {\n",
       "                    return [cell, data, j];\n",
       "                }\n",
       "            }\n",
       "        }\n",
       "    }\n",
       "}\n",
       "\n",
       "// Register the function which deals with the matplotlib target/channel.\n",
       "// The kernel may be null if the page has been refreshed.\n",
       "if (IPython.notebook.kernel != null) {\n",
       "    IPython.notebook.kernel.comm_manager.register_target('matplotlib', mpl.mpl_figure_comm);\n",
       "}\n"
      ],
      "text/plain": [
       "<IPython.core.display.Javascript object>"
      ]
     },
     "metadata": {},
     "output_type": "display_data"
    },
    {
     "data": {
      "text/html": [
       "<img src=\"data:image/png;base64,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\" width=\"918\">"
      ],
      "text/plain": [
       "<IPython.core.display.HTML object>"
      ]
     },
     "metadata": {},
     "output_type": "display_data"
    }
   ],
   "source": [
    "import matplotlib.pyplot as plt\n",
    "from matplotlib import style\n",
    "style.use(\"ggplot\")\n",
    "\n",
    "%matplotlib notebook\n",
    "\n",
    "model_name = \"model-1577572308\"\n",
    "\n",
    "def create_acc_loss_graph(model_name):\n",
    "    contents = open(\"model.log\", \"r\").read().split('\\n')\n",
    "    \n",
    "    times = []\n",
    "    accuracies = []\n",
    "    losses = []\n",
    "    \n",
    "    val_accs = []\n",
    "    val_losses = []\n",
    "    \n",
    "    for c in contents:\n",
    "        if model_name in c:\n",
    "            name, timestamp, acc, loss, val_acc, val_loss = c.split(\",\")\n",
    "            \n",
    "            times.append(float(timestamp))\n",
    "            accuracies.append(float(acc))\n",
    "            losses.append(float(loss))\n",
    "\n",
    "            val_accs.append(float(val_acc))\n",
    "            val_losses.append(float(val_loss))\n",
    "        \n",
    "    #plt.plot(times, accurracies)\n",
    "    fig = plt.figure()\n",
    "    \n",
    "    ax1 = plt.subplot2grid((2,1), (0,0))\n",
    "    ax2 = plt.subplot2grid((2,1), (1,0), sharex=ax1)\n",
    "    \n",
    "    ax1.plot(times, accuracies, label=\"acc\")\n",
    "    ax1.plot(times, val_accs, label=\"val_acc\")\n",
    "    ax1.legend(loc=2)\n",
    "    ax2.plot(times,losses, label=\"loss\")\n",
    "    ax2.plot(times,val_losses, label=\"val_loss\")\n",
    "    ax2.legend(loc=2)\n",
    "    plt.show()\n",
    "    \n",
    "create_acc_loss_graph(model_name)"
   ]
  },
  {
   "cell_type": "code",
   "execution_count": null,
   "metadata": {},
   "outputs": [],
   "source": []
  }
 ],
 "metadata": {
  "kernelspec": {
   "display_name": "Python 3",
   "language": "python",
   "name": "python3"
  },
  "language_info": {
   "codemirror_mode": {
    "name": "ipython",
    "version": 3
   },
   "file_extension": ".py",
   "mimetype": "text/x-python",
   "name": "python",
   "nbconvert_exporter": "python",
   "pygments_lexer": "ipython3",
   "version": "3.7.3"
  }
 },
 "nbformat": 4,
 "nbformat_minor": 2
}
